{
 "cells": [
  {
   "cell_type": "markdown",
   "id": "ce2d6e30",
   "metadata": {},
   "source": [
    "# Chapter 8: Calculation of Molecular Properties"
   ]
  },
  {
   "cell_type": "markdown",
   "id": "295a0f8f",
   "metadata": {},
   "source": [
    "## 8.5. Vibrational Frequency Analysis"
   ]
  },
  {
   "cell_type": "markdown",
   "id": "bada76cf",
   "metadata": {},
   "source": [
    "Computational methods allows the calculation the vibrational modes of a molecule. It's not only helpful in predicting IR and Raman spectra but also in confirming whether a geometry corresponds to a minimum (all positive frequencies) or a saddle point (one or more negative frequencies) on the potential energy surface."
   ]
  },
  {
   "cell_type": "markdown",
   "id": "7a326b8f",
   "metadata": {},
   "source": [
    "In the following section, we will calculate the vibrational energy of acetic acid and predict its IR spectra:"
   ]
  },
  {
   "cell_type": "markdown",
   "id": "4eb5538b",
   "metadata": {},
   "source": [
    "### 8.5.1. Vibrational Frequency Calculation"
   ]
  },
  {
   "cell_type": "code",
   "execution_count": 1,
   "id": "7dc680d6",
   "metadata": {
    "tags": []
   },
   "outputs": [],
   "source": [
    "# Import modules\n",
    "import numpy as np\n",
    "import matplotlib.pyplot as plt\n",
    "from rdkit import Chem\n",
    "from rdkit.Chem import AllChem\n",
    "from utils import View3DModel\n",
    "import psi4\n",
    "import py3Dmol"
   ]
  },
  {
   "cell_type": "code",
   "execution_count": 2,
   "id": "5cfdb69a",
   "metadata": {
    "tags": []
   },
   "outputs": [
    {
     "data": {
      "text/plain": [
       "0"
      ]
     },
     "execution_count": 2,
     "metadata": {},
     "output_type": "execute_result"
    }
   ],
   "source": [
    "# Create a molecule of acetic acid\n",
    "mol = Chem.MolFromSmiles('CC(=O)O')\n",
    "\n",
    "# Prepare the molecule\n",
    "mol = Chem.AddHs(mol)\n",
    "AllChem.EmbedMolecule(mol, useRandomCoords=True)\n",
    "AllChem.UFFOptimizeMolecule(mol, maxIters=200)"
   ]
  },
  {
   "cell_type": "code",
   "execution_count": 3,
   "id": "86278bdf",
   "metadata": {
    "tags": []
   },
   "outputs": [
    {
     "data": {
      "application/3dmoljs_load.v0": "<div id=\"3dmolviewer_1717494623069457\"  style=\"position: relative; width: 800px; height: 400px;\">\n        <p id=\"3dmolwarning_1717494623069457\" style=\"background-color:#ffcccc;color:black\">3Dmol.js failed to load for some reason.  Please check your browser console for error messages.<br></p>\n        </div>\n<script>\n\nvar loadScriptAsync = function(uri){\n  return new Promise((resolve, reject) => {\n    //this is to ignore the existence of requirejs amd\n    var savedexports, savedmodule;\n    if (typeof exports !== 'undefined') savedexports = exports;\n    else exports = {}\n    if (typeof module !== 'undefined') savedmodule = module;\n    else module = {}\n\n    var tag = document.createElement('script');\n    tag.src = uri;\n    tag.async = true;\n    tag.onload = () => {\n        exports = savedexports;\n        module = savedmodule;\n        resolve();\n    };\n  var firstScriptTag = document.getElementsByTagName('script')[0];\n  firstScriptTag.parentNode.insertBefore(tag, firstScriptTag);\n});\n};\n\nif(typeof $3Dmolpromise === 'undefined') {\n$3Dmolpromise = null;\n  $3Dmolpromise = loadScriptAsync('https://cdnjs.cloudflare.com/ajax/libs/3Dmol/2.1.0/3Dmol-min.js');\n}\n\nvar viewer_1717494623069457 = null;\nvar warn = document.getElementById(\"3dmolwarning_1717494623069457\");\nif(warn) {\n    warn.parentNode.removeChild(warn);\n}\n$3Dmolpromise.then(function() {\nviewer_1717494623069457 = $3Dmol.createViewer(document.getElementById(\"3dmolviewer_1717494623069457\"),{backgroundColor:\"white\"});\nviewer_1717494623069457.zoomTo();\n\tviewer_1717494623069457.addModel(\"\\n     RDKit          3D\\n\\n  8  7  0  0  0  0  0  0  0  0999 V2000\\n   -0.2156    1.0744    1.2096 C   0  0  0  0  0  0  0  0  0  0  0  0\\n   -1.1836   -0.0359    1.4412 C   0  0  0  0  0  0  0  0  0  0  0  0\\n   -2.3039    0.2045    1.9650 O   0  0  0  0  0  0  0  0  0  0  0  0\\n   -0.8672   -1.3284    1.0357 O   0  0  0  0  0  0  0  0  0  0  0  0\\n   -0.4736    1.5993    0.2665 H   0  0  0  0  0  0  0  0  0  0  0  0\\n   -0.2538    1.7955    2.0532 H   0  0  0  0  0  0  0  0  0  0  0  0\\n    0.8149    0.6690    1.1309 H   0  0  0  0  0  0  0  0  0  0  0  0\\n   -1.5210   -2.0902    1.1715 H   0  0  0  0  0  0  0  0  0  0  0  0\\n  1  2  1  0\\n  2  3  2  0\\n  2  4  1  0\\n  1  5  1  0\\n  1  6  1  0\\n  1  7  1  0\\n  4  8  1  0\\nM  END\\n\",\"molecule\",{\"keepH\": true});\n\tviewer_1717494623069457.setBackgroundColor(\"white\");\n\tviewer_1717494623069457.setStyle({\"stick\": {\"scale\": 0.3}, \"sphere\": {\"scale\": 0.3}});\n\tviewer_1717494623069457.zoomTo();\nviewer_1717494623069457.render();\n});\n</script>",
      "text/html": [
       "<div id=\"3dmolviewer_1717494623069457\"  style=\"position: relative; width: 800px; height: 400px;\">\n",
       "        <p id=\"3dmolwarning_1717494623069457\" style=\"background-color:#ffcccc;color:black\">3Dmol.js failed to load for some reason.  Please check your browser console for error messages.<br></p>\n",
       "        </div>\n",
       "<script>\n",
       "\n",
       "var loadScriptAsync = function(uri){\n",
       "  return new Promise((resolve, reject) => {\n",
       "    //this is to ignore the existence of requirejs amd\n",
       "    var savedexports, savedmodule;\n",
       "    if (typeof exports !== 'undefined') savedexports = exports;\n",
       "    else exports = {}\n",
       "    if (typeof module !== 'undefined') savedmodule = module;\n",
       "    else module = {}\n",
       "\n",
       "    var tag = document.createElement('script');\n",
       "    tag.src = uri;\n",
       "    tag.async = true;\n",
       "    tag.onload = () => {\n",
       "        exports = savedexports;\n",
       "        module = savedmodule;\n",
       "        resolve();\n",
       "    };\n",
       "  var firstScriptTag = document.getElementsByTagName('script')[0];\n",
       "  firstScriptTag.parentNode.insertBefore(tag, firstScriptTag);\n",
       "});\n",
       "};\n",
       "\n",
       "if(typeof $3Dmolpromise === 'undefined') {\n",
       "$3Dmolpromise = null;\n",
       "  $3Dmolpromise = loadScriptAsync('https://cdnjs.cloudflare.com/ajax/libs/3Dmol/2.1.0/3Dmol-min.js');\n",
       "}\n",
       "\n",
       "var viewer_1717494623069457 = null;\n",
       "var warn = document.getElementById(\"3dmolwarning_1717494623069457\");\n",
       "if(warn) {\n",
       "    warn.parentNode.removeChild(warn);\n",
       "}\n",
       "$3Dmolpromise.then(function() {\n",
       "viewer_1717494623069457 = $3Dmol.createViewer(document.getElementById(\"3dmolviewer_1717494623069457\"),{backgroundColor:\"white\"});\n",
       "viewer_1717494623069457.zoomTo();\n",
       "\tviewer_1717494623069457.addModel(\"\\n     RDKit          3D\\n\\n  8  7  0  0  0  0  0  0  0  0999 V2000\\n   -0.2156    1.0744    1.2096 C   0  0  0  0  0  0  0  0  0  0  0  0\\n   -1.1836   -0.0359    1.4412 C   0  0  0  0  0  0  0  0  0  0  0  0\\n   -2.3039    0.2045    1.9650 O   0  0  0  0  0  0  0  0  0  0  0  0\\n   -0.8672   -1.3284    1.0357 O   0  0  0  0  0  0  0  0  0  0  0  0\\n   -0.4736    1.5993    0.2665 H   0  0  0  0  0  0  0  0  0  0  0  0\\n   -0.2538    1.7955    2.0532 H   0  0  0  0  0  0  0  0  0  0  0  0\\n    0.8149    0.6690    1.1309 H   0  0  0  0  0  0  0  0  0  0  0  0\\n   -1.5210   -2.0902    1.1715 H   0  0  0  0  0  0  0  0  0  0  0  0\\n  1  2  1  0\\n  2  3  2  0\\n  2  4  1  0\\n  1  5  1  0\\n  1  6  1  0\\n  1  7  1  0\\n  4  8  1  0\\nM  END\\n\",\"molecule\",{\"keepH\": true});\n",
       "\tviewer_1717494623069457.setBackgroundColor(\"white\");\n",
       "\tviewer_1717494623069457.setStyle({\"stick\": {\"scale\": 0.3}, \"sphere\": {\"scale\": 0.3}});\n",
       "\tviewer_1717494623069457.zoomTo();\n",
       "viewer_1717494623069457.render();\n",
       "});\n",
       "</script>"
      ]
     },
     "metadata": {},
     "output_type": "display_data"
    }
   ],
   "source": [
    "# View 3D model with py3Dmol\n",
    "View3DModel(mol)"
   ]
  },
  {
   "cell_type": "code",
   "execution_count": 4,
   "id": "c00ee585",
   "metadata": {
    "tags": []
   },
   "outputs": [
    {
     "data": {
      "text/plain": [
       "17179869184"
      ]
     },
     "execution_count": 4,
     "metadata": {},
     "output_type": "execute_result"
    }
   ],
   "source": [
    "# Set the number of threads and memory limit\n",
    "psi4.set_num_threads(16)\n",
    "psi4.set_memory(16*1024*1024*1024) # 16 GB"
   ]
  },
  {
   "cell_type": "code",
   "execution_count": 5,
   "id": "f7c89412",
   "metadata": {
    "tags": []
   },
   "outputs": [],
   "source": [
    "# Set calculation options\n",
    "psi4.set_options({\n",
    "    'BASIS': '6-31G*',\n",
    "    'SCF_TYPE': 'DF',\n",
    "    'REFERENCE': 'RHF'\n",
    "})"
   ]
  },
  {
   "cell_type": "code",
   "execution_count": 6,
   "id": "4e137353",
   "metadata": {
    "tags": []
   },
   "outputs": [
    {
     "name": "stderr",
     "output_type": "stream",
     "text": [
      "\tPrevious geometry is closer to target in internal coordinates, so using that one.\n",
      "\n",
      "\tBest geometry has RMS(Delta(q)) = 1.66e-04\n",
      "\n",
      "\tEnergy has increased in a minimization.\n",
      "\tEnergy ratio indicates iffy step.\n",
      "\tIntrafrag trust radius decreased to 2.500e-01.\n",
      "\tPrevious geometry is closer to target in internal coordinates, so using that one.\n",
      "\n",
      "\tBest geometry has RMS(Delta(q)) = 1.85e-05\n",
      "\n",
      "\tPrevious geometry is closer to target in internal coordinates, so using that one.\n",
      "\n",
      "\tBest geometry has RMS(Delta(q)) = 6.42e-06\n",
      "\n",
      "\tChange in internal coordinate of 5.16e-01 exceeds limit of 5.00e-01.\n",
      "\tSkipping Hessian update for step 5.\n",
      "\tChange in internal coordinate of 5.85e-01 exceeds limit of 5.00e-01.\n",
      "\tSkipping Hessian update for step 4.\n",
      "\tChange in internal coordinate of 5.58e-01 exceeds limit of 5.00e-01.\n",
      "\tSkipping Hessian update for step 3.\n",
      "\tChange in internal coordinate of 5.65e-01 exceeds limit of 5.00e-01.\n",
      "\tSkipping Hessian update for step 2.\n",
      "\tChange in internal coordinate of 5.55e-01 exceeds limit of 5.00e-01.\n",
      "\tSkipping Hessian update for step 1.\n",
      "\tPrevious geometry is closer to target in internal coordinates, so using that one.\n",
      "\n",
      "\tBest geometry has RMS(Delta(q)) = 1.22e-05\n",
      "\n",
      "\tChange in internal coordinate of 6.10e-01 exceeds limit of 5.00e-01.\n",
      "\tSkipping Hessian update for step 7.\n",
      "\tChange in internal coordinate of 6.24e-01 exceeds limit of 5.00e-01.\n",
      "\tSkipping Hessian update for step 6.\n",
      "\tChange in internal coordinate of 6.67e-01 exceeds limit of 5.00e-01.\n",
      "\tSkipping Hessian update for step 5.\n",
      "\tChange in internal coordinate of 7.12e-01 exceeds limit of 5.00e-01.\n",
      "\tSkipping Hessian update for step 4.\n",
      "\tChange in internal coordinate of 7.10e-01 exceeds limit of 5.00e-01.\n",
      "\tSkipping Hessian update for step 3.\n",
      "\tChange in internal coordinate of 7.10e-01 exceeds limit of 5.00e-01.\n",
      "\tSkipping Hessian update for step 2.\n",
      "\tChange in internal coordinate of 7.07e-01 exceeds limit of 5.00e-01.\n",
      "\tSkipping Hessian update for step 1.\n"
     ]
    },
    {
     "name": "stdout",
     "output_type": "stream",
     "text": [
      "Optimizer: Optimization complete!\n"
     ]
    },
    {
     "data": {
      "text/plain": [
       "(-229.08175846993288, <psi4.core.RHF at 0x1e115bd3890>)"
      ]
     },
     "execution_count": 6,
     "metadata": {},
     "output_type": "execute_result"
    }
   ],
   "source": [
    "# Write the geometry to XYZ string\n",
    "xyz_string = Chem.MolToXYZBlock(mol)\n",
    "\n",
    "# Get the psi4 geometry\n",
    "geometry = psi4.geometry(xyz_string)\n",
    "\n",
    "# Perform geometry optimization\n",
    "psi4.optimize('b3lyp', molecule=geometry, return_wfn=True)"
   ]
  },
  {
   "cell_type": "code",
   "execution_count": 7,
   "id": "b8a8c18f",
   "metadata": {
    "tags": []
   },
   "outputs": [
    {
     "name": "stdout",
     "output_type": "stream",
     "text": [
      "Warning: used thermodynamics relations inappropriate for low-frequency modes: ['78.8080' '419.5941' '545.3135' '581.5421']\n"
     ]
    }
   ],
   "source": [
    "# Perform frequency analysis\n",
    "energy, wfn = psi4.frequencies('b3lyp', molecule=geometry, return_wfn=True)"
   ]
  },
  {
   "cell_type": "markdown",
   "id": "0e73b028",
   "metadata": {},
   "source": [
    "### 8.5.2. Infrared (IR) Spectra Prediction"
   ]
  },
  {
   "cell_type": "markdown",
   "id": "dc29fd26",
   "metadata": {},
   "source": [
    "After frequency analysis, the vibrational frequencies and intensities can be extracted and used for predicting IR spectrum of the molecule."
   ]
  },
  {
   "cell_type": "code",
   "execution_count": 8,
   "id": "18d79270",
   "metadata": {
    "tags": []
   },
   "outputs": [],
   "source": [
    "# Extract frequencies and intensities\n",
    "frequencies = wfn.frequencies().to_array()\n",
    "vib_info = wfn.frequency_analysis # This is a dictionary containing all the vibrational analysis info\n",
    "\n",
    "# IR intensities can be extracted from 'vib_info' which contains several keys including 'IR_intensity'\n",
    "ir_intensities = vib_info['IR_intensity'].data  # Make sure to extract as np.array for further use"
   ]
  },
  {
   "cell_type": "code",
   "execution_count": 9,
   "id": "df7ab3f0",
   "metadata": {
    "tags": []
   },
   "outputs": [
    {
     "data": {
      "image/png": "[encoded data removed]",
      "text/plain": [
       "<Figure size 640x480 with 1 Axes>"
      ]
     },
     "metadata": {},
     "output_type": "display_data"
    }
   ],
   "source": [
    "# Define wavenumber range\n",
    "wavenumbers = np.linspace(min(frequencies) - 100, max(frequencies) + 100, 2000)\n",
    "\n",
    "# Lorentzian function to simulate peak shapes\n",
    "def lorentzian(wavenumber, position, intensity, width=10):\n",
    "    return intensity * (width ** 2) / ((wavenumber - position) ** 2 + width ** 2)\n",
    "\n",
    "# Simulate the spectrum\n",
    "spectrum = np.zeros_like(wavenumbers)\n",
    "for freq, intensity in zip(frequencies, ir_intensities):\n",
    "    spectrum += lorentzian(wavenumbers, freq, intensity)\n",
    "    \n",
    "# Plot the artificial IR spectrum\n",
    "plt.plot(wavenumbers, spectrum, 'k')\n",
    "plt.gca().invert_xaxis() # Invert the x-axis\n",
    "plt.gca().invert_yaxis() # Invert the y-axis\n",
    "plt.xlabel('Wavenumber ($cm^{-1}$)')\n",
    "plt.ylabel('Transmittance')\n",
    "plt.title('Artificial IR Spectrum of Acetic Acid')\n",
    "plt.show()"
   ]
  },
  {
   "cell_type": "markdown",
   "id": "14225220",
   "metadata": {},
   "source": [
    "### 8.5.3. Calculation of Thermodynamic Properties"
   ]
  },
  {
   "cell_type": "markdown",
   "id": "29260e54",
   "metadata": {},
   "source": [
    "Within the context of computational chemistry and using software like Psi4, you can calculate thermodynamic properties such as the Gibbs free energy $G$, enthalpy $H$, and entropy $S$ for a molecule at a given temperature."
   ]
  },
  {
   "cell_type": "markdown",
   "id": "758448fd",
   "metadata": {},
   "source": [
    "In the following section, we will calculate the thermodynamic properties of toluene at 300 K."
   ]
  },
  {
   "cell_type": "code",
   "execution_count": 10,
   "id": "7c87669e",
   "metadata": {
    "tags": []
   },
   "outputs": [],
   "source": [
    "# Import modules\n",
    "import numpy as np\n",
    "import matplotlib.pyplot as plt\n",
    "from rdkit import Chem\n",
    "from rdkit.Chem import AllChem\n",
    "from utils import View3DModel\n",
    "import psi4\n",
    "import py3Dmol"
   ]
  },
  {
   "cell_type": "code",
   "execution_count": 11,
   "id": "45cc12ef",
   "metadata": {
    "tags": []
   },
   "outputs": [
    {
     "data": {
      "text/plain": [
       "0"
      ]
     },
     "execution_count": 11,
     "metadata": {},
     "output_type": "execute_result"
    }
   ],
   "source": [
    "# Define the molecule\n",
    "acetic_acid_smiles = 'c1ccccc1C'\n",
    "mol = Chem.MolFromSmiles(acetic_acid_smiles)\n",
    "mol = Chem.AddHs(mol)\n",
    "AllChem.EmbedMolecule(mol, useRandomCoords=True)\n",
    "AllChem.UFFOptimizeMolecule(mol, maxIters=200)"
   ]
  },
  {
   "cell_type": "code",
   "execution_count": 12,
   "id": "3cf85740",
   "metadata": {
    "tags": []
   },
   "outputs": [
    {
     "data": {
      "application/3dmoljs_load.v0": "<div id=\"3dmolviewer_1717494845762254\"  style=\"position: relative; width: 800px; height: 400px;\">\n        <p id=\"3dmolwarning_1717494845762254\" style=\"background-color:#ffcccc;color:black\">3Dmol.js failed to load for some reason.  Please check your browser console for error messages.<br></p>\n        </div>\n<script>\n\nvar loadScriptAsync = function(uri){\n  return new Promise((resolve, reject) => {\n    //this is to ignore the existence of requirejs amd\n    var savedexports, savedmodule;\n    if (typeof exports !== 'undefined') savedexports = exports;\n    else exports = {}\n    if (typeof module !== 'undefined') savedmodule = module;\n    else module = {}\n\n    var tag = document.createElement('script');\n    tag.src = uri;\n    tag.async = true;\n    tag.onload = () => {\n        exports = savedexports;\n        module = savedmodule;\n        resolve();\n    };\n  var firstScriptTag = document.getElementsByTagName('script')[0];\n  firstScriptTag.parentNode.insertBefore(tag, firstScriptTag);\n});\n};\n\nif(typeof $3Dmolpromise === 'undefined') {\n$3Dmolpromise = null;\n  $3Dmolpromise = loadScriptAsync('https://cdnjs.cloudflare.com/ajax/libs/3Dmol/2.1.0/3Dmol-min.js');\n}\n\nvar viewer_1717494845762254 = null;\nvar warn = document.getElementById(\"3dmolwarning_1717494845762254\");\nif(warn) {\n    warn.parentNode.removeChild(warn);\n}\n$3Dmolpromise.then(function() {\nviewer_1717494845762254 = $3Dmol.createViewer(document.getElementById(\"3dmolviewer_1717494845762254\"),{backgroundColor:\"white\"});\nviewer_1717494845762254.zoomTo();\n\tviewer_1717494845762254.addModel(\"\\n     RDKit          3D\\n\\n 15 15  0  0  0  0  0  0  0  0999 V2000\\n    0.3880    0.2509    0.4354 C   0  0  0  0  0  0  0  0  0  0  0  0\\n    1.5211   -0.5673    0.4890 C   0  0  0  0  0  0  0  0  0  0  0  0\\n    1.9351   -1.2660   -0.6486 C   0  0  0  0  0  0  0  0  0  0  0  0\\n    1.2137   -1.1516   -1.8403 C   0  0  0  0  0  0  0  0  0  0  0  0\\n    0.0801   -0.3344   -1.8979 C   0  0  0  0  0  0  0  0  0  0  0  0\\n   -0.3311    0.3844   -0.7635 C   0  0  0  0  0  0  0  0  0  0  0  0\\n   -1.5691    1.2299   -0.8123 C   0  0  0  0  0  0  0  0  0  0  0  0\\n    0.0724    0.7795    1.3265 H   0  0  0  0  0  0  0  0  0  0  0  0\\n    2.0759   -0.6626    1.4134 H   0  0  0  0  0  0  0  0  0  0  0  0\\n    2.8113   -1.8999   -0.6052 H   0  0  0  0  0  0  0  0  0  0  0  0\\n    1.5306   -1.6991   -2.7185 H   0  0  0  0  0  0  0  0  0  0  0  0\\n   -0.4755   -0.2618   -2.8248 H   0  0  0  0  0  0  0  0  0  0  0  0\\n   -1.4908    2.0803   -0.1018 H   0  0  0  0  0  0  0  0  0  0  0  0\\n   -2.4496    0.6110   -0.5408 H   0  0  0  0  0  0  0  0  0  0  0  0\\n   -1.7190    1.6466   -1.8311 H   0  0  0  0  0  0  0  0  0  0  0  0\\n  1  2  2  0\\n  2  3  1  0\\n  3  4  2  0\\n  4  5  1  0\\n  5  6  2  0\\n  6  7  1  0\\n  6  1  1  0\\n  1  8  1  0\\n  2  9  1  0\\n  3 10  1  0\\n  4 11  1  0\\n  5 12  1  0\\n  7 13  1  0\\n  7 14  1  0\\n  7 15  1  0\\nM  END\\n\",\"molecule\",{\"keepH\": true});\n\tviewer_1717494845762254.setBackgroundColor(\"white\");\n\tviewer_1717494845762254.setStyle({\"stick\": {\"scale\": 0.3}, \"sphere\": {\"scale\": 0.3}});\n\tviewer_1717494845762254.zoomTo();\nviewer_1717494845762254.render();\n});\n</script>",
      "text/html": [
       "<div id=\"3dmolviewer_1717494845762254\"  style=\"position: relative; width: 800px; height: 400px;\">\n",
       "        <p id=\"3dmolwarning_1717494845762254\" style=\"background-color:#ffcccc;color:black\">3Dmol.js failed to load for some reason.  Please check your browser console for error messages.<br></p>\n",
       "        </div>\n",
       "<script>\n",
       "\n",
       "var loadScriptAsync = function(uri){\n",
       "  return new Promise((resolve, reject) => {\n",
       "    //this is to ignore the existence of requirejs amd\n",
       "    var savedexports, savedmodule;\n",
       "    if (typeof exports !== 'undefined') savedexports = exports;\n",
       "    else exports = {}\n",
       "    if (typeof module !== 'undefined') savedmodule = module;\n",
       "    else module = {}\n",
       "\n",
       "    var tag = document.createElement('script');\n",
       "    tag.src = uri;\n",
       "    tag.async = true;\n",
       "    tag.onload = () => {\n",
       "        exports = savedexports;\n",
       "        module = savedmodule;\n",
       "        resolve();\n",
       "    };\n",
       "  var firstScriptTag = document.getElementsByTagName('script')[0];\n",
       "  firstScriptTag.parentNode.insertBefore(tag, firstScriptTag);\n",
       "});\n",
       "};\n",
       "\n",
       "if(typeof $3Dmolpromise === 'undefined') {\n",
       "$3Dmolpromise = null;\n",
       "  $3Dmolpromise = loadScriptAsync('https://cdnjs.cloudflare.com/ajax/libs/3Dmol/2.1.0/3Dmol-min.js');\n",
       "}\n",
       "\n",
       "var viewer_1717494845762254 = null;\n",
       "var warn = document.getElementById(\"3dmolwarning_1717494845762254\");\n",
       "if(warn) {\n",
       "    warn.parentNode.removeChild(warn);\n",
       "}\n",
       "$3Dmolpromise.then(function() {\n",
       "viewer_1717494845762254 = $3Dmol.createViewer(document.getElementById(\"3dmolviewer_1717494845762254\"),{backgroundColor:\"white\"});\n",
       "viewer_1717494845762254.zoomTo();\n",
       "\tviewer_1717494845762254.addModel(\"\\n     RDKit          3D\\n\\n 15 15  0  0  0  0  0  0  0  0999 V2000\\n    0.3880    0.2509    0.4354 C   0  0  0  0  0  0  0  0  0  0  0  0\\n    1.5211   -0.5673    0.4890 C   0  0  0  0  0  0  0  0  0  0  0  0\\n    1.9351   -1.2660   -0.6486 C   0  0  0  0  0  0  0  0  0  0  0  0\\n    1.2137   -1.1516   -1.8403 C   0  0  0  0  0  0  0  0  0  0  0  0\\n    0.0801   -0.3344   -1.8979 C   0  0  0  0  0  0  0  0  0  0  0  0\\n   -0.3311    0.3844   -0.7635 C   0  0  0  0  0  0  0  0  0  0  0  0\\n   -1.5691    1.2299   -0.8123 C   0  0  0  0  0  0  0  0  0  0  0  0\\n    0.0724    0.7795    1.3265 H   0  0  0  0  0  0  0  0  0  0  0  0\\n    2.0759   -0.6626    1.4134 H   0  0  0  0  0  0  0  0  0  0  0  0\\n    2.8113   -1.8999   -0.6052 H   0  0  0  0  0  0  0  0  0  0  0  0\\n    1.5306   -1.6991   -2.7185 H   0  0  0  0  0  0  0  0  0  0  0  0\\n   -0.4755   -0.2618   -2.8248 H   0  0  0  0  0  0  0  0  0  0  0  0\\n   -1.4908    2.0803   -0.1018 H   0  0  0  0  0  0  0  0  0  0  0  0\\n   -2.4496    0.6110   -0.5408 H   0  0  0  0  0  0  0  0  0  0  0  0\\n   -1.7190    1.6466   -1.8311 H   0  0  0  0  0  0  0  0  0  0  0  0\\n  1  2  2  0\\n  2  3  1  0\\n  3  4  2  0\\n  4  5  1  0\\n  5  6  2  0\\n  6  7  1  0\\n  6  1  1  0\\n  1  8  1  0\\n  2  9  1  0\\n  3 10  1  0\\n  4 11  1  0\\n  5 12  1  0\\n  7 13  1  0\\n  7 14  1  0\\n  7 15  1  0\\nM  END\\n\",\"molecule\",{\"keepH\": true});\n",
       "\tviewer_1717494845762254.setBackgroundColor(\"white\");\n",
       "\tviewer_1717494845762254.setStyle({\"stick\": {\"scale\": 0.3}, \"sphere\": {\"scale\": 0.3}});\n",
       "\tviewer_1717494845762254.zoomTo();\n",
       "viewer_1717494845762254.render();\n",
       "});\n",
       "</script>"
      ]
     },
     "metadata": {},
     "output_type": "display_data"
    }
   ],
   "source": [
    "# View 3D model with py3Dmol\n",
    "View3DModel(mol)"
   ]
  },
  {
   "cell_type": "code",
   "execution_count": 13,
   "id": "8cc21656",
   "metadata": {
    "tags": []
   },
   "outputs": [
    {
     "data": {
      "text/plain": [
       "17179869184"
      ]
     },
     "execution_count": 13,
     "metadata": {},
     "output_type": "execute_result"
    }
   ],
   "source": [
    "# Set the number of threads and memory limit\n",
    "psi4.set_num_threads(16)\n",
    "psi4.set_memory(16*1024*1024*1024) # 16 GB"
   ]
  },
  {
   "cell_type": "code",
   "execution_count": 14,
   "id": "6c2ea375",
   "metadata": {
    "tags": []
   },
   "outputs": [],
   "source": [
    "# Set calculation options\n",
    "temperature = 300 # K\n",
    "pressure = 101325 # Pa (1 atm)\n",
    "psi4.set_options({\n",
    "    'BASIS': '6-31G*',\n",
    "    'SCF_TYPE': 'DF',\n",
    "    'REFERENCE': 'RHF',\n",
    "    'T': temperature,\n",
    "    'P': pressure\n",
    "})"
   ]
  },
  {
   "cell_type": "code",
   "execution_count": 15,
   "id": "63981780",
   "metadata": {
    "scrolled": true,
    "tags": []
   },
   "outputs": [
    {
     "name": "stderr",
     "output_type": "stream",
     "text": [
      "\tPrevious geometry is closer to target in internal coordinates, so using that one.\n",
      "\n",
      "\tBest geometry has RMS(Delta(q)) = 1.42e-04\n",
      "\n",
      "\tPrevious geometry is closer to target in internal coordinates, so using that one.\n",
      "\n",
      "\tBest geometry has RMS(Delta(q)) = 4.10e-06\n",
      "\n",
      "\tPrevious geometry is closer to target in internal coordinates, so using that one.\n",
      "\n",
      "\tBest geometry has RMS(Delta(q)) = 5.48e-07\n",
      "\n",
      "\tPrevious geometry is closer to target in internal coordinates, so using that one.\n",
      "\n",
      "\tBest geometry has RMS(Delta(q)) = 5.05e-08\n",
      "\n"
     ]
    },
    {
     "name": "stdout",
     "output_type": "stream",
     "text": [
      "Optimizer: Optimization complete!\n"
     ]
    },
    {
     "data": {
      "text/plain": [
       "(-271.5666305157239, <psi4.core.RHF at 0x1e115dc28d0>)"
      ]
     },
     "execution_count": 15,
     "metadata": {},
     "output_type": "execute_result"
    }
   ],
   "source": [
    "# Write the geometry to XYZ string\n",
    "xyz_string = Chem.MolToXYZBlock(mol)\n",
    "\n",
    "# Get the psi4 geometry\n",
    "geometry = psi4.geometry(xyz_string)\n",
    "\n",
    "# Perform geometry optimization\n",
    "psi4.optimize('b3lyp', molecule=geometry, return_wfn=True)"
   ]
  },
  {
   "cell_type": "code",
   "execution_count": 16,
   "id": "9ee7e318",
   "metadata": {
    "tags": []
   },
   "outputs": [
    {
     "name": "stdout",
     "output_type": "stream",
     "text": [
      "Warning: used thermodynamics relations inappropriate for low-frequency modes: ['30.6094' '210.8156' '342.4828' '417.4378' '477.7107' '528.3546']\n"
     ]
    }
   ],
   "source": [
    "# Perform frequency analysis\n",
    "frequency_results = psi4.frequencies('b3lyp', molecule=geometry, return_wfn=True)"
   ]
  },
  {
   "cell_type": "code",
   "execution_count": 17,
   "id": "a96a1ed9",
   "metadata": {
    "scrolled": true,
    "tags": []
   },
   "outputs": [],
   "source": [
    "# Extract thermodynamic parameters\n",
    "E_h = psi4.core.variable('DFT TOTAL ENERGY') * psi4.constants.hartree2kcalmol # Use 'HF TOTAL ENERGY' or 'SCF TOTAL ENERGY' if you are running HF or SCF calculation\n",
    "zpve = psi4.core.variable('ZPVE') * psi4.constants.hartree2kcalmol # At 0K\n",
    "e_thermo_corr = psi4.core.variable('THERMAL ENERGY CORRECTION') * psi4.constants.hartree2kcalmol\n",
    "e_thermo = psi4.core.variable('THERMAL ENERGY') * psi4.constants.hartree2kcalmol # Equal to E_h + e_thermo_corr\n",
    "h_corr = psi4.core.variable('ENTHALPY CORRECTION') * psi4.constants.hartree2kcalmol\n",
    "h = psi4.core.variable('ENTHALPY') * psi4.constants.hartree2kcalmol # Equal to E_h + h_corr\n",
    "g_corr = psi4.core.variable('GIBBS FREE ENERGY CORRECTION') * psi4.constants.hartree2kcalmol\n",
    "g = psi4.core.variable('GIBBS FREE ENERGY') * psi4.constants.hartree2kcalmol # Equal to E_h + g_corr\n",
    "s = (h - g) / 300 # G = H - TS"
   ]
  },
  {
   "cell_type": "code",
   "execution_count": 18,
   "id": "571dc04b",
   "metadata": {
    "tags": []
   },
   "outputs": [
    {
     "name": "stdout",
     "output_type": "stream",
     "text": [
      "Zero-Point Vibrational Energy (ZPVE): 80.51 kcal/mol\n",
      "Thermal Energy: -170326.18 kcal/mol\n",
      "Enthalpy (H): -170325.58 kcal/mol\n",
      "Entropy (S): 0.08 kcal/mol\n",
      "Gibbs Free Energy (G): -170349.61 kcal/mol\n"
     ]
    }
   ],
   "source": [
    "# Print out the results in kcal/mol\n",
    "print(f\"Zero-Point Vibrational Energy (ZPVE): {zpve:.2f} kcal/mol\")\n",
    "print(f\"Thermal Energy: {e_thermo:.2f} kcal/mol\")\n",
    "print(f\"Enthalpy (H): {h:.2f} kcal/mol\")\n",
    "print(f\"Entropy (S): {s:.2f} kcal/mol\")\n",
    "print(f\"Gibbs Free Energy (G): {g:.2f} kcal/mol\")"
   ]
  },
  {
   "cell_type": "code",
   "execution_count": null,
   "id": "e41a9959",
   "metadata": {},
   "outputs": [],
   "source": []
  }
 ],
 "metadata": {
  "kernelspec": {
   "display_name": "Python 3 (ipykernel)",
   "language": "python",
   "name": "python3"
  },
  "language_info": {
   "codemirror_mode": {
    "name": "ipython",
    "version": 3
   },
   "file_extension": ".py",
   "mimetype": "text/x-python",
   "name": "python",
   "nbconvert_exporter": "python",
   "pygments_lexer": "ipython3",
   "version": "3.11.7"
  },
  "toc": {
   "base_numbering": "",
   "nav_menu": {},
   "number_sections": false,
   "sideBar": true,
   "skip_h1_title": false,
   "title_cell": "Table of Contents",
   "title_sidebar": "Table of Contents",
   "toc_cell": false,
   "toc_position": {
    "height": "calc(100% - 180px)",
    "left": "10px",
    "top": "150px",
    "width": "203px"
   },
   "toc_section_display": true,
   "toc_window_display": true
  }
 },
 "nbformat": 4,
 "nbformat_minor": 5
}
