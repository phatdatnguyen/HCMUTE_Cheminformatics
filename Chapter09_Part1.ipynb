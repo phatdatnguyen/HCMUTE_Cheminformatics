{
 "cells": [
  {
   "cell_type": "markdown",
   "id": "ce2d6e30",
   "metadata": {},
   "source": [
    "# Chapter 9: Analysis of Chemical Reactions"
   ]
  },
  {
   "cell_type": "markdown",
   "id": "295a0f8f",
   "metadata": {},
   "source": [
    "## 9.1. Calculation of Reaction Thermodynamics"
   ]
  },
  {
   "cell_type": "markdown",
   "id": "7a326b8f",
   "metadata": {},
   "source": [
    "In the following section, we will calculate the changes in enthalpy, entropy and Gibbs free energy of Diels-Alder reactions:"
   ]
  },
  {
   "cell_type": "markdown",
   "id": "4eb5538b",
   "metadata": {},
   "source": [
    "### 9.1.1. Calculation of Thermodynamic State Functions of Reactants and Products"
   ]
  },
  {
   "cell_type": "code",
   "execution_count": null,
   "id": "7dc680d6",
   "metadata": {
    "tags": []
   },
   "outputs": [],
   "source": [
    "# Import modules\n",
    "import numpy as np\n",
    "import matplotlib.pyplot as plt\n",
    "from rdkit import Chem\n",
    "from rdkit.Chem import AllChem\n",
    "from utils import View3DModel\n",
    "import psi4\n",
    "import py3Dmol"
   ]
  },
  {
   "cell_type": "code",
   "execution_count": null,
   "id": "5cfdb69a",
   "metadata": {
    "tags": []
   },
   "outputs": [],
   "source": [
    "# Create a molecule of a diene (buta-1,3-diene)\n",
    "diene_mol = Chem.MolFromSmiles('C=CC=C')\n",
    "\n",
    "# Prepare the molecule\n",
    "diene_mol = Chem.AddHs(diene_mol)\n",
    "AllChem.EmbedMolecule(diene_mol, useRandomCoords=True)\n",
    "Chem.rdMolTransforms.SetDihedralDeg(diene_mol.GetConformer(), 0, 1, 2, 3, 0) # Set the C-C-C-C dihedral angle to 0 (s-cis conformation)\n",
    "AllChem.UFFOptimizeMolecule(diene_mol, maxIters=200)\n",
    "\n",
    "# View 3D model with py3Dmol\n",
    "View3DModel(diene_mol)"
   ]
  },
  {
   "cell_type": "code",
   "execution_count": null,
   "id": "a766364e",
   "metadata": {
    "tags": []
   },
   "outputs": [],
   "source": [
    "# Create a molecule of a dienophile (ethylene)\n",
    "dienophile_mol = Chem.MolFromSmiles('C=C')\n",
    "\n",
    "# Prepare the molecule\n",
    "dienophile_mol = Chem.AddHs(dienophile_mol)\n",
    "AllChem.EmbedMolecule(dienophile_mol, useRandomCoords=True)\n",
    "AllChem.UFFOptimizeMolecule(dienophile_mol, maxIters=200)\n",
    "\n",
    "# View 3D model with py3Dmol\n",
    "View3DModel(dienophile_mol)"
   ]
  },
  {
   "cell_type": "code",
   "execution_count": null,
   "id": "c01e98c2",
   "metadata": {
    "tags": []
   },
   "outputs": [],
   "source": [
    "# Create a molecule of the product\n",
    "product_mol = Chem.MolFromSmiles('C1CCC=CC1')\n",
    "\n",
    "# Prepare the molecule\n",
    "product_mol = Chem.AddHs(product_mol)\n",
    "AllChem.EmbedMolecule(product_mol, useRandomCoords=True)\n",
    "AllChem.UFFOptimizeMolecule(product_mol, maxIters=200)\n",
    "\n",
    "# View 3D model with py3Dmol\n",
    "View3DModel(product_mol)"
   ]
  },
  {
   "cell_type": "code",
   "execution_count": null,
   "id": "c00ee585",
   "metadata": {
    "tags": []
   },
   "outputs": [],
   "source": [
    "# Set the number of threads and memory limit\n",
    "psi4.set_num_threads(16)\n",
    "psi4.set_memory(16*1024*1024*1024) # 16 GB"
   ]
  },
  {
   "cell_type": "code",
   "execution_count": null,
   "id": "f7c89412",
   "metadata": {
    "tags": []
   },
   "outputs": [],
   "source": [
    "# Set calculation options\n",
    "psi4.set_options({\n",
    "    'basis': '6-31G*',\n",
    "    'scf_type': 'DF',\n",
    "    'reference': 'RHF'\n",
    "})"
   ]
  },
  {
   "cell_type": "code",
   "execution_count": null,
   "id": "89410102",
   "metadata": {
    "tags": []
   },
   "outputs": [],
   "source": [
    "# Define a function that calculate the thermodynamic properties of molecule\n",
    "def calculate_thermo_properties(mol, temperature, pressure):\n",
    "    # Write the geometry to XYZ string\n",
    "    xyz_string = Chem.MolToXYZBlock(mol)\n",
    "\n",
    "    # Get the psi4 geometry\n",
    "    geometry = psi4.geometry(xyz_string)\n",
    "        \n",
    "    # Set the temperature and pressure\n",
    "    psi4.set_options({\n",
    "        'T': temperature,\n",
    "        'P': pressure * 101325\n",
    "    })\n",
    "    \n",
    "    # Perform geometry optimization\n",
    "    psi4.optimize('b3lyp', molecule=geometry)\n",
    "\n",
    "    # Perform frequency analysis\n",
    "    psi4.frequencies('b3lyp', molecule=geometry)\n",
    "    \n",
    "    # Extract thermodynamic parameters\n",
    "    h = psi4.core.variable('ENTHALPY') * psi4.constants.hartree2kcalmol # Equal to E_h + h_corr\n",
    "    g = psi4.core.variable('GIBBS FREE ENERGY') * psi4.constants.hartree2kcalmol # Equal to E_h + g_corr\n",
    "    s = (h - g) / temperature\n",
    "    return h, s, g"
   ]
  },
  {
   "cell_type": "code",
   "execution_count": null,
   "id": "6ba836fe",
   "metadata": {
    "tags": []
   },
   "outputs": [],
   "source": [
    "# Set the temperature and pressure\n",
    "temperature = 298.15 # K\n",
    "pressure = 1 # atm"
   ]
  },
  {
   "cell_type": "code",
   "execution_count": null,
   "id": "4e137353",
   "metadata": {
    "tags": []
   },
   "outputs": [],
   "source": [
    "# Calculate thermodynamic properties of the diene\n",
    "diene_h, diene_s, diene_g = calculate_thermo_properties(diene_mol, temperature, pressure)\n",
    "print([diene_h, diene_s, diene_g])"
   ]
  },
  {
   "cell_type": "code",
   "execution_count": null,
   "id": "b8a8c18f",
   "metadata": {
    "scrolled": true,
    "tags": []
   },
   "outputs": [],
   "source": [
    "# Calculate thermodynamic properties of the dienophile\n",
    "dienophile_h, dienophile_s, dienophile_g = calculate_thermo_properties(dienophile_mol, temperature, pressure)\n",
    "print([dienophile_h, dienophile_s, dienophile_g])"
   ]
  },
  {
   "cell_type": "code",
   "execution_count": null,
   "id": "35688e6b",
   "metadata": {
    "scrolled": true,
    "tags": []
   },
   "outputs": [],
   "source": [
    "# Calculate thermodynamic properties of the product\n",
    "product_h, product_s, product_g = calculate_thermo_properties(product_mol, temperature, pressure)\n",
    "print([product_h, product_s, product_g])"
   ]
  },
  {
   "cell_type": "markdown",
   "id": "0a176762",
   "metadata": {},
   "source": [
    "### 9.1.2. Calculation of Thermodynamic State Functions of the Reaction"
   ]
  },
  {
   "cell_type": "markdown",
   "id": "cbaa9c40",
   "metadata": {},
   "source": [
    "Using Hess's law, we can calculate $\\Delta{H}$, $\\Delta{S}$, and $\\Delta{G}$ of the reaction:"
   ]
  },
  {
   "cell_type": "code",
   "execution_count": null,
   "id": "23636bc3",
   "metadata": {
    "tags": []
   },
   "outputs": [],
   "source": [
    "# Calculate the changes in enthalpy, entropy and Gibbs free energy for the reaction\n",
    "dh = product_h - (diene_h + dienophile_h)\n",
    "ds = product_s - (diene_s + dienophile_s)\n",
    "dg = product_g - (diene_g + dienophile_g)\n",
    "\n",
    "print(f'ΔH = {dh:.4f} kcal/mol')\n",
    "print(f'ΔS = {ds:.4f} kcal/mol')\n",
    "print(f'ΔG = {dg:.4f} kcal/mol')"
   ]
  },
  {
   "cell_type": "code",
   "execution_count": null,
   "id": "c60d6963",
   "metadata": {},
   "outputs": [],
   "source": []
  }
 ],
 "metadata": {
  "kernelspec": {
   "display_name": "Python 3 (ipykernel)",
   "language": "python",
   "name": "python3"
  },
  "language_info": {
   "codemirror_mode": {
    "name": "ipython",
    "version": 3
   },
   "file_extension": ".py",
   "mimetype": "text/x-python",
   "name": "python",
   "nbconvert_exporter": "python",
   "pygments_lexer": "ipython3",
   "version": "3.10.11"
  },
  "toc": {
   "base_numbering": "",
   "nav_menu": {},
   "number_sections": false,
   "sideBar": true,
   "skip_h1_title": false,
   "title_cell": "Table of Contents",
   "title_sidebar": "Table of Contents",
   "toc_cell": false,
   "toc_position": {
    "height": "calc(100% - 180px)",
    "left": "10px",
    "top": "150px",
    "width": "203px"
   },
   "toc_section_display": true,
   "toc_window_display": true
  }
 },
 "nbformat": 4,
 "nbformat_minor": 5
}
