{
 "cells": [
  {
   "cell_type": "markdown",
   "id": "ce2d6e30",
   "metadata": {},
   "source": [
    "# Chapter 2. Molecular Mechanics"
   ]
  },
  {
   "cell_type": "markdown",
   "id": "0d09f3a0",
   "metadata": {},
   "source": [
    "## 2.1. Molecular Geometry"
   ]
  },
  {
   "cell_type": "markdown",
   "id": "520d5d2e",
   "metadata": {},
   "source": [
    "In this notebook, we will explore the fundamental concepts of molecular geometry, which play a crucial role in molecular mechanics simulations. Understanding these geometry terms is essential for accurately representing and analyzing molecular structures."
   ]
  },
  {
   "cell_type": "markdown",
   "id": "68576094",
   "metadata": {},
   "source": [
    "### 2.1.1. Bond Length"
   ]
  },
  {
   "cell_type": "markdown",
   "id": "5c1bcbc6",
   "metadata": {},
   "source": [
    "Bond length refers to the distance between the nuclei of two atoms that are bonded together in a molecule. It is a fundamental parameter in molecular geometry and affects the chemical properties of the molecule.\n",
    "\n",
    "We can calculate the bond length between two atoms using their Cartesian coordinates:\n",
    "\n",
    "$$\\text{Bond Length} = \\sqrt{{(x_1 - x_2)^2 + (y_1 - y_2)^2 + (z_1 - z_2)^2}}$$"
   ]
  },
  {
   "cell_type": "markdown",
   "id": "3cce8a27",
   "metadata": {},
   "source": [
    "We will explore an example with ethane molecule using RDKit:"
   ]
  },
  {
   "cell_type": "code",
   "execution_count": 1,
   "id": "f96430dc",
   "metadata": {},
   "outputs": [],
   "source": [
    "# XYZ string for ethane (C2H6)\n",
    "ethane_xyz = \"\"\"8\n",
    "Ethane\n",
    "C      -0.765806   -0.000316   0.000000\n",
    "C      0.765806    0.000316    0.000000\n",
    "H      -1.165351   1.040005    -0.000000\n",
    "H      -1.164581   -0.520796   0.901055\n",
    "H      -1.164581   -0.520796   -0.901055\n",
    "H      1.165351    -1.040005   0.000000\n",
    "H      1.164581    0.520796    0.901055\n",
    "H      1.164581    0.520796    -0.901055\n",
    "\"\"\""
   ]
  },
  {
   "cell_type": "markdown",
   "id": "77842622",
   "metadata": {},
   "source": [
    "Here, using the coordinates of the 2 carbon atoms, the C-C bond length is:\n",
    "\n",
    "$$\\text{C-C Bond Length} = \\sqrt{{(-0.765806 - 0.765806)^2 + (-0.000316 - 0.000316)^2 + (0.000000 - 0.000000)^2}} = 1.536112\\text{ (Å)}$$"
   ]
  },
  {
   "cell_type": "markdown",
   "id": "7a4a8ca4",
   "metadata": {},
   "source": [
    "However, if you want to calculate any bond length, you should use RDKit:"
   ]
  },
  {
   "cell_type": "code",
   "execution_count": 2,
   "id": "33f1782d",
   "metadata": {},
   "outputs": [],
   "source": [
    "# Import modules\n",
    "import numpy as np\n",
    "from rdkit import Chem\n",
    "from rdkit.Chem import AllChem, Draw\n",
    "from utils import MolFromXYZWithSMILES, View3DModel # These are functions from previous sections"
   ]
  },
  {
   "cell_type": "code",
   "execution_count": 3,
   "id": "a7d00e0b",
   "metadata": {},
   "outputs": [
    {
     "data": {
      "application/3dmoljs_load.v0": "<div id=\"3dmolviewer_17167302268111424\"  style=\"position: relative; width: 800px; height: 400px;\">\n        <p id=\"3dmolwarning_17167302268111424\" style=\"background-color:#ffcccc;color:black\">3Dmol.js failed to load for some reason.  Please check your browser console for error messages.<br></p>\n        </div>\n<script>\n\nvar loadScriptAsync = function(uri){\n  return new Promise((resolve, reject) => {\n    //this is to ignore the existence of requirejs amd\n    var savedexports, savedmodule;\n    if (typeof exports !== 'undefined') savedexports = exports;\n    else exports = {}\n    if (typeof module !== 'undefined') savedmodule = module;\n    else module = {}\n\n    var tag = document.createElement('script');\n    tag.src = uri;\n    tag.async = true;\n    tag.onload = () => {\n        exports = savedexports;\n        module = savedmodule;\n        resolve();\n    };\n  var firstScriptTag = document.getElementsByTagName('script')[0];\n  firstScriptTag.parentNode.insertBefore(tag, firstScriptTag);\n});\n};\n\nif(typeof $3Dmolpromise === 'undefined') {\n$3Dmolpromise = null;\n  $3Dmolpromise = loadScriptAsync('https://cdnjs.cloudflare.com/ajax/libs/3Dmol/2.1.0/3Dmol-min.js');\n}\n\nvar viewer_17167302268111424 = null;\nvar warn = document.getElementById(\"3dmolwarning_17167302268111424\");\nif(warn) {\n    warn.parentNode.removeChild(warn);\n}\n$3Dmolpromise.then(function() {\nviewer_17167302268111424 = $3Dmol.createViewer(document.getElementById(\"3dmolviewer_17167302268111424\"),{backgroundColor:\"white\"});\nviewer_17167302268111424.zoomTo();\n\tviewer_17167302268111424.addModel(\"\\n     RDKit          3D\\n\\n  8  7  0  0  0  0  0  0  0  0999 V2000\\n   -0.7658   -0.0003    0.0000 C   0  0  0  0  0  0  0  0  0  0  0  0\\n    0.7658    0.0003    0.0000 C   0  0  0  0  0  0  0  0  0  0  0  0\\n   -1.1654    1.0400   -0.0000 H   0  0  0  0  0  0  0  0  0  0  0  0\\n   -1.1646   -0.5208    0.9011 H   0  0  0  0  0  0  0  0  0  0  0  0\\n   -1.1646   -0.5208   -0.9011 H   0  0  0  0  0  0  0  0  0  0  0  0\\n    1.1654   -1.0400    0.0000 H   0  0  0  0  0  0  0  0  0  0  0  0\\n    1.1646    0.5208    0.9011 H   0  0  0  0  0  0  0  0  0  0  0  0\\n    1.1646    0.5208   -0.9011 H   0  0  0  0  0  0  0  0  0  0  0  0\\n  1  2  1  0\\n  1  3  1  0\\n  1  4  1  0\\n  1  5  1  0\\n  2  6  1  0\\n  2  7  1  0\\n  2  8  1  0\\nM  END\\n\",\"molecule\",{\"keepH\": true});\n\tviewer_17167302268111424.setBackgroundColor(\"white\");\n\tviewer_17167302268111424.setStyle({\"stick\": {\"scale\": 0.3}, \"sphere\": {\"scale\": 0.3}});\n\tviewer_17167302268111424.zoomTo();\nviewer_17167302268111424.render();\n});\n</script>",
      "text/html": [
       "<div id=\"3dmolviewer_17167302268111424\"  style=\"position: relative; width: 800px; height: 400px;\">\n",
       "        <p id=\"3dmolwarning_17167302268111424\" style=\"background-color:#ffcccc;color:black\">3Dmol.js failed to load for some reason.  Please check your browser console for error messages.<br></p>\n",
       "        </div>\n",
       "<script>\n",
       "\n",
       "var loadScriptAsync = function(uri){\n",
       "  return new Promise((resolve, reject) => {\n",
       "    //this is to ignore the existence of requirejs amd\n",
       "    var savedexports, savedmodule;\n",
       "    if (typeof exports !== 'undefined') savedexports = exports;\n",
       "    else exports = {}\n",
       "    if (typeof module !== 'undefined') savedmodule = module;\n",
       "    else module = {}\n",
       "\n",
       "    var tag = document.createElement('script');\n",
       "    tag.src = uri;\n",
       "    tag.async = true;\n",
       "    tag.onload = () => {\n",
       "        exports = savedexports;\n",
       "        module = savedmodule;\n",
       "        resolve();\n",
       "    };\n",
       "  var firstScriptTag = document.getElementsByTagName('script')[0];\n",
       "  firstScriptTag.parentNode.insertBefore(tag, firstScriptTag);\n",
       "});\n",
       "};\n",
       "\n",
       "if(typeof $3Dmolpromise === 'undefined') {\n",
       "$3Dmolpromise = null;\n",
       "  $3Dmolpromise = loadScriptAsync('https://cdnjs.cloudflare.com/ajax/libs/3Dmol/2.1.0/3Dmol-min.js');\n",
       "}\n",
       "\n",
       "var viewer_17167302268111424 = null;\n",
       "var warn = document.getElementById(\"3dmolwarning_17167302268111424\");\n",
       "if(warn) {\n",
       "    warn.parentNode.removeChild(warn);\n",
       "}\n",
       "$3Dmolpromise.then(function() {\n",
       "viewer_17167302268111424 = $3Dmol.createViewer(document.getElementById(\"3dmolviewer_17167302268111424\"),{backgroundColor:\"white\"});\n",
       "viewer_17167302268111424.zoomTo();\n",
       "\tviewer_17167302268111424.addModel(\"\\n     RDKit          3D\\n\\n  8  7  0  0  0  0  0  0  0  0999 V2000\\n   -0.7658   -0.0003    0.0000 C   0  0  0  0  0  0  0  0  0  0  0  0\\n    0.7658    0.0003    0.0000 C   0  0  0  0  0  0  0  0  0  0  0  0\\n   -1.1654    1.0400   -0.0000 H   0  0  0  0  0  0  0  0  0  0  0  0\\n   -1.1646   -0.5208    0.9011 H   0  0  0  0  0  0  0  0  0  0  0  0\\n   -1.1646   -0.5208   -0.9011 H   0  0  0  0  0  0  0  0  0  0  0  0\\n    1.1654   -1.0400    0.0000 H   0  0  0  0  0  0  0  0  0  0  0  0\\n    1.1646    0.5208    0.9011 H   0  0  0  0  0  0  0  0  0  0  0  0\\n    1.1646    0.5208   -0.9011 H   0  0  0  0  0  0  0  0  0  0  0  0\\n  1  2  1  0\\n  1  3  1  0\\n  1  4  1  0\\n  1  5  1  0\\n  2  6  1  0\\n  2  7  1  0\\n  2  8  1  0\\nM  END\\n\",\"molecule\",{\"keepH\": true});\n",
       "\tviewer_17167302268111424.setBackgroundColor(\"white\");\n",
       "\tviewer_17167302268111424.setStyle({\"stick\": {\"scale\": 0.3}, \"sphere\": {\"scale\": 0.3}});\n",
       "\tviewer_17167302268111424.zoomTo();\n",
       "viewer_17167302268111424.render();\n",
       "});\n",
       "</script>"
      ]
     },
     "metadata": {},
     "output_type": "display_data"
    }
   ],
   "source": [
    "# Create an RDKit molecule from the XYZ string\n",
    "smiles = 'CC'\n",
    "ethane_mol = MolFromXYZWithSMILES(ethane_xyz, smiles)\n",
    "\n",
    "# Visualize the molecule with Py3DMol\n",
    "View3DModel(ethane_mol)"
   ]
  },
  {
   "cell_type": "code",
   "execution_count": 4,
   "id": "f51aae64",
   "metadata": {
    "scrolled": true
   },
   "outputs": [
    {
     "name": "stdout",
     "output_type": "stream",
     "text": [
      "The bond length between C1 and C2 in ethane is 1.5316 Å.\n",
      "The bond length between C1 and H1 in ethane is 1.1144 Å.\n"
     ]
    }
   ],
   "source": [
    "# Extract the coordinates of the atoms\n",
    "carbon1 = ethane_mol.GetConformer(0).GetAtomPosition(0)\n",
    "carbon2 = ethane_mol.GetConformer(0).GetAtomPosition(1)\n",
    "hydrogen1 = ethane_mol.GetConformer(0).GetAtomPosition(2)\n",
    "\n",
    "# Calculate the bond lengths\n",
    "C_C_bond_length = (sum((carbon1[i] - carbon2[i]) ** 2 for i in range(3))) ** 0.5\n",
    "C_H_bond_length = (sum((carbon1[i] - hydrogen1[i]) ** 2 for i in range(3))) ** 0.5\n",
    "\n",
    "# Display the bond length\n",
    "print(f\"The bond length between C1 and C2 in ethane is {C_C_bond_length:.4f} Å.\")\n",
    "print(f\"The bond length between C1 and H1 in ethane is {C_H_bond_length:.4f} Å.\")"
   ]
  },
  {
   "cell_type": "markdown",
   "id": "1ea3e28b",
   "metadata": {},
   "source": [
    "Alternatively, we can get the bond length using rdkit.Chem.rdMolTransforms module:"
   ]
  },
  {
   "cell_type": "code",
   "execution_count": 5,
   "id": "d7129e92",
   "metadata": {},
   "outputs": [
    {
     "name": "stdout",
     "output_type": "stream",
     "text": [
      "The bond length between C1 and C2 in ethane is 1.5316 Å.\n",
      "The bond length between C1 and H1 in ethane is 1.1144 Å.\n"
     ]
    }
   ],
   "source": [
    "# Calculate the bond lengths\n",
    "C_C_bond_length = Chem.rdMolTransforms.GetBondLength(ethane_mol.GetConformer(0), 0, 1)\n",
    "C_H_bond_length = Chem.rdMolTransforms.GetBondLength(ethane_mol.GetConformer(0), 0, 2)\n",
    "\n",
    "# Display the bond length\n",
    "print(f\"The bond length between C1 and C2 in ethane is {C_C_bond_length:.4f} Å.\")\n",
    "print(f\"The bond length between C1 and H1 in ethane is {C_H_bond_length:.4f} Å.\")"
   ]
  },
  {
   "cell_type": "markdown",
   "id": "dd05bef6",
   "metadata": {},
   "source": [
    "Using RDKit, we can also manipulate the bond length of a molecule. For example:"
   ]
  },
  {
   "cell_type": "code",
   "execution_count": 6,
   "id": "61ba6fdf",
   "metadata": {
    "scrolled": true
   },
   "outputs": [
    {
     "data": {
      "application/3dmoljs_load.v0": "<div id=\"3dmolviewer_1716730238632846\"  style=\"position: relative; width: 800px; height: 400px;\">\n        <p id=\"3dmolwarning_1716730238632846\" style=\"background-color:#ffcccc;color:black\">3Dmol.js failed to load for some reason.  Please check your browser console for error messages.<br></p>\n        </div>\n<script>\n\nvar loadScriptAsync = function(uri){\n  return new Promise((resolve, reject) => {\n    //this is to ignore the existence of requirejs amd\n    var savedexports, savedmodule;\n    if (typeof exports !== 'undefined') savedexports = exports;\n    else exports = {}\n    if (typeof module !== 'undefined') savedmodule = module;\n    else module = {}\n\n    var tag = document.createElement('script');\n    tag.src = uri;\n    tag.async = true;\n    tag.onload = () => {\n        exports = savedexports;\n        module = savedmodule;\n        resolve();\n    };\n  var firstScriptTag = document.getElementsByTagName('script')[0];\n  firstScriptTag.parentNode.insertBefore(tag, firstScriptTag);\n});\n};\n\nif(typeof $3Dmolpromise === 'undefined') {\n$3Dmolpromise = null;\n  $3Dmolpromise = loadScriptAsync('https://cdnjs.cloudflare.com/ajax/libs/3Dmol/2.1.0/3Dmol-min.js');\n}\n\nvar viewer_1716730238632846 = null;\nvar warn = document.getElementById(\"3dmolwarning_1716730238632846\");\nif(warn) {\n    warn.parentNode.removeChild(warn);\n}\n$3Dmolpromise.then(function() {\nviewer_1716730238632846 = $3Dmol.createViewer(document.getElementById(\"3dmolviewer_1716730238632846\"),{backgroundColor:\"white\"});\nviewer_1716730238632846.zoomTo();\n\tviewer_1716730238632846.addModel(\"\\n     RDKit          3D\\n\\n  8  7  0  0  0  0  0  0  0  0999 V2000\\n   -0.7658   -0.0003    0.0000 C   0  0  0  0  0  0  0  0  0  0  0  0\\n    2.2974    0.0009    0.0000 C   0  0  0  0  0  0  0  0  0  0  0  0\\n   -1.1654    1.0400   -0.0000 H   0  0  0  0  0  0  0  0  0  0  0  0\\n   -1.1646   -0.5208    0.9011 H   0  0  0  0  0  0  0  0  0  0  0  0\\n   -1.1646   -0.5208   -0.9011 H   0  0  0  0  0  0  0  0  0  0  0  0\\n    2.6970   -1.0394    0.0000 H   0  0  0  0  0  0  0  0  0  0  0  0\\n    2.6962    0.5214    0.9011 H   0  0  0  0  0  0  0  0  0  0  0  0\\n    2.6962    0.5214   -0.9011 H   0  0  0  0  0  0  0  0  0  0  0  0\\n  1  2  1  0\\n  1  3  1  0\\n  1  4  1  0\\n  1  5  1  0\\n  2  6  1  0\\n  2  7  1  0\\n  2  8  1  0\\nM  END\\n\",\"molecule\",{\"keepH\": true});\n\tviewer_1716730238632846.setBackgroundColor(\"white\");\n\tviewer_1716730238632846.setStyle({\"stick\": {\"scale\": 0.3}, \"sphere\": {\"scale\": 0.3}});\n\tviewer_1716730238632846.zoomTo();\nviewer_1716730238632846.render();\n});\n</script>",
      "text/html": [
       "<div id=\"3dmolviewer_1716730238632846\"  style=\"position: relative; width: 800px; height: 400px;\">\n",
       "        <p id=\"3dmolwarning_1716730238632846\" style=\"background-color:#ffcccc;color:black\">3Dmol.js failed to load for some reason.  Please check your browser console for error messages.<br></p>\n",
       "        </div>\n",
       "<script>\n",
       "\n",
       "var loadScriptAsync = function(uri){\n",
       "  return new Promise((resolve, reject) => {\n",
       "    //this is to ignore the existence of requirejs amd\n",
       "    var savedexports, savedmodule;\n",
       "    if (typeof exports !== 'undefined') savedexports = exports;\n",
       "    else exports = {}\n",
       "    if (typeof module !== 'undefined') savedmodule = module;\n",
       "    else module = {}\n",
       "\n",
       "    var tag = document.createElement('script');\n",
       "    tag.src = uri;\n",
       "    tag.async = true;\n",
       "    tag.onload = () => {\n",
       "        exports = savedexports;\n",
       "        module = savedmodule;\n",
       "        resolve();\n",
       "    };\n",
       "  var firstScriptTag = document.getElementsByTagName('script')[0];\n",
       "  firstScriptTag.parentNode.insertBefore(tag, firstScriptTag);\n",
       "});\n",
       "};\n",
       "\n",
       "if(typeof $3Dmolpromise === 'undefined') {\n",
       "$3Dmolpromise = null;\n",
       "  $3Dmolpromise = loadScriptAsync('https://cdnjs.cloudflare.com/ajax/libs/3Dmol/2.1.0/3Dmol-min.js');\n",
       "}\n",
       "\n",
       "var viewer_1716730238632846 = null;\n",
       "var warn = document.getElementById(\"3dmolwarning_1716730238632846\");\n",
       "if(warn) {\n",
       "    warn.parentNode.removeChild(warn);\n",
       "}\n",
       "$3Dmolpromise.then(function() {\n",
       "viewer_1716730238632846 = $3Dmol.createViewer(document.getElementById(\"3dmolviewer_1716730238632846\"),{backgroundColor:\"white\"});\n",
       "viewer_1716730238632846.zoomTo();\n",
       "\tviewer_1716730238632846.addModel(\"\\n     RDKit          3D\\n\\n  8  7  0  0  0  0  0  0  0  0999 V2000\\n   -0.7658   -0.0003    0.0000 C   0  0  0  0  0  0  0  0  0  0  0  0\\n    2.2974    0.0009    0.0000 C   0  0  0  0  0  0  0  0  0  0  0  0\\n   -1.1654    1.0400   -0.0000 H   0  0  0  0  0  0  0  0  0  0  0  0\\n   -1.1646   -0.5208    0.9011 H   0  0  0  0  0  0  0  0  0  0  0  0\\n   -1.1646   -0.5208   -0.9011 H   0  0  0  0  0  0  0  0  0  0  0  0\\n    2.6970   -1.0394    0.0000 H   0  0  0  0  0  0  0  0  0  0  0  0\\n    2.6962    0.5214    0.9011 H   0  0  0  0  0  0  0  0  0  0  0  0\\n    2.6962    0.5214   -0.9011 H   0  0  0  0  0  0  0  0  0  0  0  0\\n  1  2  1  0\\n  1  3  1  0\\n  1  4  1  0\\n  1  5  1  0\\n  2  6  1  0\\n  2  7  1  0\\n  2  8  1  0\\nM  END\\n\",\"molecule\",{\"keepH\": true});\n",
       "\tviewer_1716730238632846.setBackgroundColor(\"white\");\n",
       "\tviewer_1716730238632846.setStyle({\"stick\": {\"scale\": 0.3}, \"sphere\": {\"scale\": 0.3}});\n",
       "\tviewer_1716730238632846.zoomTo();\n",
       "viewer_1716730238632846.render();\n",
       "});\n",
       "</script>"
      ]
     },
     "metadata": {},
     "output_type": "display_data"
    }
   ],
   "source": [
    "# Double the C-C bond length\n",
    "new_C_C_bond_length = C_C_bond_length * 2\n",
    "\n",
    "# Set the new C-C bond length\n",
    "Chem.rdMolTransforms.SetBondLength(ethane_mol.GetConformer(0), 0, 1, new_C_C_bond_length)\n",
    "\n",
    "# Visualize the molecule with Py3DMol\n",
    "View3DModel(ethane_mol)"
   ]
  },
  {
   "cell_type": "code",
   "execution_count": 7,
   "id": "f8974ca6",
   "metadata": {},
   "outputs": [
    {
     "name": "stdout",
     "output_type": "stream",
     "text": [
      "3.0632242607866633\n"
     ]
    }
   ],
   "source": [
    "# To confirm, we can print out the C-C bond length again\n",
    "print(Chem.rdMolTransforms.GetBondLength(ethane_mol.GetConformer(0), 0, 1))"
   ]
  },
  {
   "cell_type": "markdown",
   "id": "d4301937",
   "metadata": {},
   "source": [
    "### 2.1.2. Bond Angle"
   ]
  },
  {
   "cell_type": "markdown",
   "id": "4f91f338",
   "metadata": {},
   "source": [
    "Bond angle refers to the angle between two bonds that share a common atom. It is crucial for determining the molecular shape and properties."
   ]
  },
  {
   "cell_type": "markdown",
   "id": "2b260642",
   "metadata": {},
   "source": [
    "The equation to calculate bond angle equation is as follows:\n",
    "\n",
    "$$\\text{Bond Angle} = \\arccos\\left(\\frac{{\\mathbf{A} \\cdot \\mathbf{B}}}{{\\lVert \\mathbf{A} \\rVert \\cdot \\lVert \\mathbf{B} \\rVert}}\\right)$$\n",
    "\n",
    "Where **A** and **B** represents the vectors corresponding to the bonds that form the angle."
   ]
  },
  {
   "cell_type": "markdown",
   "id": "57f68f70",
   "metadata": {},
   "source": [
    "We will calculate the H-C-C angle in ethane using numpy:"
   ]
  },
  {
   "cell_type": "code",
   "execution_count": 8,
   "id": "b273e391",
   "metadata": {},
   "outputs": [
    {
     "name": "stdout",
     "output_type": "stream",
     "text": [
      "The H-C-C bond angle in ethane is 110.99 degrees.\n"
     ]
    }
   ],
   "source": [
    "# Create the molecule again\n",
    "smiles = 'CC'\n",
    "ethane_mol = MolFromXYZWithSMILES(ethane_xyz, smiles)\n",
    "\n",
    "# Extract the coordinates of the atoms\n",
    "carbon1 = ethane_mol.GetConformer(0).GetAtomPosition(0)\n",
    "carbon2 = ethane_mol.GetConformer(0).GetAtomPosition(1)\n",
    "hydrogen1 = ethane_mol.GetConformer(0).GetAtomPosition(2)\n",
    "\n",
    "# Calculate vectors\n",
    "vector1 = np.array(hydrogen1) - np.array(carbon1)\n",
    "vector2 = np.array(carbon2) - np.array(carbon1)\n",
    "\n",
    "# Calculate bond angle in degrees\n",
    "H_C_C_bond_angle_rad = np.arccos(np.dot(vector1, vector2) / (np.linalg.norm(vector1) * np.linalg.norm(vector2)))\n",
    "H_C_C_bond_angle_deg = np.degrees(H_C_C_bond_angle_rad)\n",
    "\n",
    "# Display the bond angle\n",
    "print(f\"The H-C-C bond angle in ethane is {H_C_C_bond_angle_deg:.2f} degrees.\")"
   ]
  },
  {
   "cell_type": "markdown",
   "id": "6d5c2ae0",
   "metadata": {},
   "source": [
    "Alternatively, we can get the bond angle using rdkit.Chem.rdMolTransforms module:"
   ]
  },
  {
   "cell_type": "code",
   "execution_count": 9,
   "id": "309d560d",
   "metadata": {},
   "outputs": [
    {
     "name": "stdout",
     "output_type": "stream",
     "text": [
      "The H-C-C bond angle in ethane is 110.99 degrees.\n"
     ]
    }
   ],
   "source": [
    "# Calculate the bond angle\n",
    "H_C_C_bond_angle_deg = Chem.rdMolTransforms.GetAngleDeg(ethane_mol.GetConformer(0), 2, 0, 1)\n",
    "\n",
    "# Display the bond angle\n",
    "print(f\"The H-C-C bond angle in ethane is {H_C_C_bond_angle_deg:.2f} degrees.\")"
   ]
  },
  {
   "cell_type": "markdown",
   "id": "a8a694a6",
   "metadata": {},
   "source": [
    "Using RDKit, we can also manipulate the bond angle of a molecule. For example:"
   ]
  },
  {
   "cell_type": "code",
   "execution_count": 10,
   "id": "96957da3",
   "metadata": {
    "scrolled": true
   },
   "outputs": [
    {
     "data": {
      "application/3dmoljs_load.v0": "<div id=\"3dmolviewer_17167303669253607\"  style=\"position: relative; width: 800px; height: 400px;\">\n        <p id=\"3dmolwarning_17167303669253607\" style=\"background-color:#ffcccc;color:black\">3Dmol.js failed to load for some reason.  Please check your browser console for error messages.<br></p>\n        </div>\n<script>\n\nvar loadScriptAsync = function(uri){\n  return new Promise((resolve, reject) => {\n    //this is to ignore the existence of requirejs amd\n    var savedexports, savedmodule;\n    if (typeof exports !== 'undefined') savedexports = exports;\n    else exports = {}\n    if (typeof module !== 'undefined') savedmodule = module;\n    else module = {}\n\n    var tag = document.createElement('script');\n    tag.src = uri;\n    tag.async = true;\n    tag.onload = () => {\n        exports = savedexports;\n        module = savedmodule;\n        resolve();\n    };\n  var firstScriptTag = document.getElementsByTagName('script')[0];\n  firstScriptTag.parentNode.insertBefore(tag, firstScriptTag);\n});\n};\n\nif(typeof $3Dmolpromise === 'undefined') {\n$3Dmolpromise = null;\n  $3Dmolpromise = loadScriptAsync('https://cdnjs.cloudflare.com/ajax/libs/3Dmol/2.1.0/3Dmol-min.js');\n}\n\nvar viewer_17167303669253607 = null;\nvar warn = document.getElementById(\"3dmolwarning_17167303669253607\");\nif(warn) {\n    warn.parentNode.removeChild(warn);\n}\n$3Dmolpromise.then(function() {\nviewer_17167303669253607 = $3Dmol.createViewer(document.getElementById(\"3dmolviewer_17167303669253607\"),{backgroundColor:\"white\"});\nviewer_17167303669253607.zoomTo();\n\tviewer_17167303669253607.addModel(\"\\n     RDKit          3D\\n\\n  8  7  0  0  0  0  0  0  0  0999 V2000\\n   -0.7658   -0.0003    0.0000 C   0  0  0  0  0  0  0  0  0  0  0  0\\n   -0.1431    1.3990    0.0000 C   0  0  0  0  0  0  0  0  0  0  0  0\\n   -1.1654    1.0400   -0.0000 H   0  0  0  0  0  0  0  0  0  0  0  0\\n   -1.1646   -0.5208    0.9011 H   0  0  0  0  0  0  0  0  0  0  0  0\\n   -1.1646   -0.5208   -0.9011 H   0  0  0  0  0  0  0  0  0  0  0  0\\n    0.9698    1.3406    0.0000 H   0  0  0  0  0  0  0  0  0  0  0  0\\n   -0.4562    1.9751    0.9011 H   0  0  0  0  0  0  0  0  0  0  0  0\\n   -0.4562    1.9751   -0.9011 H   0  0  0  0  0  0  0  0  0  0  0  0\\n  1  2  1  0\\n  1  3  1  0\\n  1  4  1  0\\n  1  5  1  0\\n  2  6  1  0\\n  2  7  1  0\\n  2  8  1  0\\nM  END\\n\",\"molecule\",{\"keepH\": true});\n\tviewer_17167303669253607.setBackgroundColor(\"white\");\n\tviewer_17167303669253607.setStyle({\"stick\": {\"scale\": 0.3}, \"sphere\": {\"scale\": 0.3}});\n\tviewer_17167303669253607.zoomTo();\nviewer_17167303669253607.render();\n});\n</script>",
      "text/html": [
       "<div id=\"3dmolviewer_17167303669253607\"  style=\"position: relative; width: 800px; height: 400px;\">\n",
       "        <p id=\"3dmolwarning_17167303669253607\" style=\"background-color:#ffcccc;color:black\">3Dmol.js failed to load for some reason.  Please check your browser console for error messages.<br></p>\n",
       "        </div>\n",
       "<script>\n",
       "\n",
       "var loadScriptAsync = function(uri){\n",
       "  return new Promise((resolve, reject) => {\n",
       "    //this is to ignore the existence of requirejs amd\n",
       "    var savedexports, savedmodule;\n",
       "    if (typeof exports !== 'undefined') savedexports = exports;\n",
       "    else exports = {}\n",
       "    if (typeof module !== 'undefined') savedmodule = module;\n",
       "    else module = {}\n",
       "\n",
       "    var tag = document.createElement('script');\n",
       "    tag.src = uri;\n",
       "    tag.async = true;\n",
       "    tag.onload = () => {\n",
       "        exports = savedexports;\n",
       "        module = savedmodule;\n",
       "        resolve();\n",
       "    };\n",
       "  var firstScriptTag = document.getElementsByTagName('script')[0];\n",
       "  firstScriptTag.parentNode.insertBefore(tag, firstScriptTag);\n",
       "});\n",
       "};\n",
       "\n",
       "if(typeof $3Dmolpromise === 'undefined') {\n",
       "$3Dmolpromise = null;\n",
       "  $3Dmolpromise = loadScriptAsync('https://cdnjs.cloudflare.com/ajax/libs/3Dmol/2.1.0/3Dmol-min.js');\n",
       "}\n",
       "\n",
       "var viewer_17167303669253607 = null;\n",
       "var warn = document.getElementById(\"3dmolwarning_17167303669253607\");\n",
       "if(warn) {\n",
       "    warn.parentNode.removeChild(warn);\n",
       "}\n",
       "$3Dmolpromise.then(function() {\n",
       "viewer_17167303669253607 = $3Dmol.createViewer(document.getElementById(\"3dmolviewer_17167303669253607\"),{backgroundColor:\"white\"});\n",
       "viewer_17167303669253607.zoomTo();\n",
       "\tviewer_17167303669253607.addModel(\"\\n     RDKit          3D\\n\\n  8  7  0  0  0  0  0  0  0  0999 V2000\\n   -0.7658   -0.0003    0.0000 C   0  0  0  0  0  0  0  0  0  0  0  0\\n   -0.1431    1.3990    0.0000 C   0  0  0  0  0  0  0  0  0  0  0  0\\n   -1.1654    1.0400   -0.0000 H   0  0  0  0  0  0  0  0  0  0  0  0\\n   -1.1646   -0.5208    0.9011 H   0  0  0  0  0  0  0  0  0  0  0  0\\n   -1.1646   -0.5208   -0.9011 H   0  0  0  0  0  0  0  0  0  0  0  0\\n    0.9698    1.3406    0.0000 H   0  0  0  0  0  0  0  0  0  0  0  0\\n   -0.4562    1.9751    0.9011 H   0  0  0  0  0  0  0  0  0  0  0  0\\n   -0.4562    1.9751   -0.9011 H   0  0  0  0  0  0  0  0  0  0  0  0\\n  1  2  1  0\\n  1  3  1  0\\n  1  4  1  0\\n  1  5  1  0\\n  2  6  1  0\\n  2  7  1  0\\n  2  8  1  0\\nM  END\\n\",\"molecule\",{\"keepH\": true});\n",
       "\tviewer_17167303669253607.setBackgroundColor(\"white\");\n",
       "\tviewer_17167303669253607.setStyle({\"stick\": {\"scale\": 0.3}, \"sphere\": {\"scale\": 0.3}});\n",
       "\tviewer_17167303669253607.zoomTo();\n",
       "viewer_17167303669253607.render();\n",
       "});\n",
       "</script>"
      ]
     },
     "metadata": {},
     "output_type": "display_data"
    }
   ],
   "source": [
    "# Set the H-C-C bond angle to a new value\n",
    "new_H_C_C_bond_angle_deg = 45\n",
    "\n",
    "# Set the new H-C-C bond angle\n",
    "Chem.rdMolTransforms.SetAngleDeg(ethane_mol.GetConformer(0), 2, 0, 1, new_H_C_C_bond_angle_deg)\n",
    "\n",
    "# Visualize the molecule with Py3DMol\n",
    "View3DModel(ethane_mol)"
   ]
  },
  {
   "cell_type": "code",
   "execution_count": 11,
   "id": "ad583894",
   "metadata": {},
   "outputs": [
    {
     "name": "stdout",
     "output_type": "stream",
     "text": [
      "44.99999999999998\n"
     ]
    }
   ],
   "source": [
    "# To confirm, we can print out the H-C-C bond angle again\n",
    "print(Chem.rdMolTransforms.GetAngleDeg(ethane_mol.GetConformer(0), 2, 0, 1))"
   ]
  },
  {
   "cell_type": "markdown",
   "id": "57f82370",
   "metadata": {},
   "source": [
    "### 2.1.3. Torsion Angle"
   ]
  },
  {
   "cell_type": "markdown",
   "id": "880faa0c",
   "metadata": {},
   "source": [
    "Torsion angle, also known as dihedral angle, refers to the angle between two planes in a molecule. It's essential for understanding the conformational flexibility of molecules."
   ]
  },
  {
   "cell_type": "markdown",
   "id": "488b5836",
   "metadata": {},
   "source": [
    "![Torsion angle](./images/dihedral_angle.png)"
   ]
  },
  {
   "cell_type": "markdown",
   "id": "b3f72070",
   "metadata": {},
   "source": [
    "![Torsion angle in molecule](./images/dihedral_angle_molecule.png)"
   ]
  },
  {
   "cell_type": "markdown",
   "id": "983638e8",
   "metadata": {},
   "source": [
    "We can calculate torsion angle using the following equation:\n",
    "\n",
    "$$\\text{Dihedral Angle} = \\arctan2\\left( \\mathbf{B} \\cdot ((\\mathbf{A} \\times \\mathbf{B}) \\times(\\mathbf{B} \\times \\mathbf{C})), | \\mathbf{B} | \\times (\\mathbf{A} \\times \\mathbf{B}) \\times(\\mathbf{B} \\cdot \\mathbf{C}) \\right)$$\n",
    "\n",
    "Where:\n",
    "\n",
    "- **A** represents the vector of first bond.\n",
    "- **B** represents the vector of second bond.\n",
    "- **C** represents the vector of third bond."
   ]
  },
  {
   "cell_type": "markdown",
   "id": "5fda92b0",
   "metadata": {},
   "source": [
    "We will calculate the H-C-C-H torsion angle in ethane using numpy:"
   ]
  },
  {
   "cell_type": "code",
   "execution_count": 12,
   "id": "9b7d4170",
   "metadata": {},
   "outputs": [
    {
     "name": "stdout",
     "output_type": "stream",
     "text": [
      "The H-C-C-H torsion angle in ethane is 60.00 degrees.\n"
     ]
    }
   ],
   "source": [
    "# Create the molecule again\n",
    "smiles = 'CC'\n",
    "ethane_mol = MolFromXYZWithSMILES(ethane_xyz, smiles)\n",
    "\n",
    "# Extract the coordinates of the atoms\n",
    "carbon1 = ethane_mol.GetConformer(0).GetAtomPosition(0)\n",
    "carbon2 = ethane_mol.GetConformer(0).GetAtomPosition(1)\n",
    "hydrogen1 = ethane_mol.GetConformer(0).GetAtomPosition(2)\n",
    "hydrogen2 = ethane_mol.GetConformer(0).GetAtomPosition(6)\n",
    "\n",
    "# Calculate vectors\n",
    "vector1 = carbon1 - hydrogen1\n",
    "vector2 = carbon2 - carbon1\n",
    "vector3 = hydrogen2 - carbon2\n",
    "\n",
    "# Calculate torsion angle in degrees\n",
    "cross_product1 = np.cross(vector1, vector2)\n",
    "cross_product2 = np.cross(vector2, vector3)\n",
    "H_C_C_H_torsion_angle_rad = np.arctan2(np.dot(vector2, np.cross(cross_product1, cross_product2)), np.linalg.norm(vector2) * np.dot(cross_product1, cross_product2))\n",
    "H_C_C_H_torsion_angle_deg = np.degrees(H_C_C_H_torsion_angle_rad)\n",
    "\n",
    "# Display the torsion angle\n",
    "print(f\"The H-C-C-H torsion angle in ethane is {H_C_C_H_torsion_angle_deg:.2f} degrees.\")"
   ]
  },
  {
   "cell_type": "markdown",
   "id": "d3ce481a",
   "metadata": {},
   "source": [
    "Alternatively, we can get the torsion angle using rdkit.Chem.rdMolTransforms module:"
   ]
  },
  {
   "cell_type": "code",
   "execution_count": 13,
   "id": "dffea1e3",
   "metadata": {},
   "outputs": [
    {
     "name": "stdout",
     "output_type": "stream",
     "text": [
      "The H-C-C bond angle in ethane is 60.00 degrees.\n"
     ]
    }
   ],
   "source": [
    "# Calculate the torsion angle\n",
    "H_C_C_H_torsion_angle_deg = Chem.rdMolTransforms.GetDihedralDeg(ethane_mol.GetConformer(0), 2, 0, 1, 6)\n",
    "\n",
    "# Display the torsion angle\n",
    "print(f\"The H-C-C bond angle in ethane is {H_C_C_H_torsion_angle_deg:.2f} degrees.\")"
   ]
  },
  {
   "cell_type": "markdown",
   "id": "1476b00d",
   "metadata": {},
   "source": [
    "Using RDKit, we can also manipulate the torsion angle of a molecule. For example:"
   ]
  },
  {
   "cell_type": "code",
   "execution_count": 14,
   "id": "606a4b30",
   "metadata": {},
   "outputs": [
    {
     "data": {
      "application/3dmoljs_load.v0": "<div id=\"3dmolviewer_17167304799443724\"  style=\"position: relative; width: 800px; height: 400px;\">\n        <p id=\"3dmolwarning_17167304799443724\" style=\"background-color:#ffcccc;color:black\">3Dmol.js failed to load for some reason.  Please check your browser console for error messages.<br></p>\n        </div>\n<script>\n\nvar loadScriptAsync = function(uri){\n  return new Promise((resolve, reject) => {\n    //this is to ignore the existence of requirejs amd\n    var savedexports, savedmodule;\n    if (typeof exports !== 'undefined') savedexports = exports;\n    else exports = {}\n    if (typeof module !== 'undefined') savedmodule = module;\n    else module = {}\n\n    var tag = document.createElement('script');\n    tag.src = uri;\n    tag.async = true;\n    tag.onload = () => {\n        exports = savedexports;\n        module = savedmodule;\n        resolve();\n    };\n  var firstScriptTag = document.getElementsByTagName('script')[0];\n  firstScriptTag.parentNode.insertBefore(tag, firstScriptTag);\n});\n};\n\nif(typeof $3Dmolpromise === 'undefined') {\n$3Dmolpromise = null;\n  $3Dmolpromise = loadScriptAsync('https://cdnjs.cloudflare.com/ajax/libs/3Dmol/2.1.0/3Dmol-min.js');\n}\n\nvar viewer_17167304799443724 = null;\nvar warn = document.getElementById(\"3dmolwarning_17167304799443724\");\nif(warn) {\n    warn.parentNode.removeChild(warn);\n}\n$3Dmolpromise.then(function() {\nviewer_17167304799443724 = $3Dmol.createViewer(document.getElementById(\"3dmolviewer_17167304799443724\"),{backgroundColor:\"white\"});\nviewer_17167304799443724.zoomTo();\n\tviewer_17167304799443724.addModel(\"\\n     RDKit          3D\\n\\n  8  7  0  0  0  0  0  0  0  0999 V2000\\n   -0.7658   -0.0003    0.0000 C   0  0  0  0  0  0  0  0  0  0  0  0\\n    0.7658    0.0003    0.0000 C   0  0  0  0  0  0  0  0  0  0  0  0\\n   -1.1654    1.0400   -0.0000 H   0  0  0  0  0  0  0  0  0  0  0  0\\n   -1.1646   -0.5208    0.9011 H   0  0  0  0  0  0  0  0  0  0  0  0\\n   -1.1646   -0.5208   -0.9011 H   0  0  0  0  0  0  0  0  0  0  0  0\\n    1.1653   -1.0046    0.2692 H   0  0  0  0  0  0  0  0  0  0  0  0\\n    1.1645    0.7362    0.7357 H   0  0  0  0  0  0  0  0  0  0  0  0\\n    1.1647    0.2699   -1.0050 H   0  0  0  0  0  0  0  0  0  0  0  0\\n  1  2  1  0\\n  1  3  1  0\\n  1  4  1  0\\n  1  5  1  0\\n  2  6  1  0\\n  2  7  1  0\\n  2  8  1  0\\nM  END\\n\",\"molecule\",{\"keepH\": true});\n\tviewer_17167304799443724.setBackgroundColor(\"white\");\n\tviewer_17167304799443724.setStyle({\"stick\": {\"scale\": 0.3}, \"sphere\": {\"scale\": 0.3}});\n\tviewer_17167304799443724.zoomTo();\nviewer_17167304799443724.render();\n});\n</script>",
      "text/html": [
       "<div id=\"3dmolviewer_17167304799443724\"  style=\"position: relative; width: 800px; height: 400px;\">\n",
       "        <p id=\"3dmolwarning_17167304799443724\" style=\"background-color:#ffcccc;color:black\">3Dmol.js failed to load for some reason.  Please check your browser console for error messages.<br></p>\n",
       "        </div>\n",
       "<script>\n",
       "\n",
       "var loadScriptAsync = function(uri){\n",
       "  return new Promise((resolve, reject) => {\n",
       "    //this is to ignore the existence of requirejs amd\n",
       "    var savedexports, savedmodule;\n",
       "    if (typeof exports !== 'undefined') savedexports = exports;\n",
       "    else exports = {}\n",
       "    if (typeof module !== 'undefined') savedmodule = module;\n",
       "    else module = {}\n",
       "\n",
       "    var tag = document.createElement('script');\n",
       "    tag.src = uri;\n",
       "    tag.async = true;\n",
       "    tag.onload = () => {\n",
       "        exports = savedexports;\n",
       "        module = savedmodule;\n",
       "        resolve();\n",
       "    };\n",
       "  var firstScriptTag = document.getElementsByTagName('script')[0];\n",
       "  firstScriptTag.parentNode.insertBefore(tag, firstScriptTag);\n",
       "});\n",
       "};\n",
       "\n",
       "if(typeof $3Dmolpromise === 'undefined') {\n",
       "$3Dmolpromise = null;\n",
       "  $3Dmolpromise = loadScriptAsync('https://cdnjs.cloudflare.com/ajax/libs/3Dmol/2.1.0/3Dmol-min.js');\n",
       "}\n",
       "\n",
       "var viewer_17167304799443724 = null;\n",
       "var warn = document.getElementById(\"3dmolwarning_17167304799443724\");\n",
       "if(warn) {\n",
       "    warn.parentNode.removeChild(warn);\n",
       "}\n",
       "$3Dmolpromise.then(function() {\n",
       "viewer_17167304799443724 = $3Dmol.createViewer(document.getElementById(\"3dmolviewer_17167304799443724\"),{backgroundColor:\"white\"});\n",
       "viewer_17167304799443724.zoomTo();\n",
       "\tviewer_17167304799443724.addModel(\"\\n     RDKit          3D\\n\\n  8  7  0  0  0  0  0  0  0  0999 V2000\\n   -0.7658   -0.0003    0.0000 C   0  0  0  0  0  0  0  0  0  0  0  0\\n    0.7658    0.0003    0.0000 C   0  0  0  0  0  0  0  0  0  0  0  0\\n   -1.1654    1.0400   -0.0000 H   0  0  0  0  0  0  0  0  0  0  0  0\\n   -1.1646   -0.5208    0.9011 H   0  0  0  0  0  0  0  0  0  0  0  0\\n   -1.1646   -0.5208   -0.9011 H   0  0  0  0  0  0  0  0  0  0  0  0\\n    1.1653   -1.0046    0.2692 H   0  0  0  0  0  0  0  0  0  0  0  0\\n    1.1645    0.7362    0.7357 H   0  0  0  0  0  0  0  0  0  0  0  0\\n    1.1647    0.2699   -1.0050 H   0  0  0  0  0  0  0  0  0  0  0  0\\n  1  2  1  0\\n  1  3  1  0\\n  1  4  1  0\\n  1  5  1  0\\n  2  6  1  0\\n  2  7  1  0\\n  2  8  1  0\\nM  END\\n\",\"molecule\",{\"keepH\": true});\n",
       "\tviewer_17167304799443724.setBackgroundColor(\"white\");\n",
       "\tviewer_17167304799443724.setStyle({\"stick\": {\"scale\": 0.3}, \"sphere\": {\"scale\": 0.3}});\n",
       "\tviewer_17167304799443724.zoomTo();\n",
       "viewer_17167304799443724.render();\n",
       "});\n",
       "</script>"
      ]
     },
     "metadata": {},
     "output_type": "display_data"
    }
   ],
   "source": [
    "# Set the H-C-C-H torsion angle to a new value\n",
    "new_H_C_C_H_torsion_angle_deg = 45\n",
    "\n",
    "# Set the new H-C-C-H torsion angle\n",
    "Chem.rdMolTransforms.SetDihedralDeg(ethane_mol.GetConformer(0), 2, 0, 1, 6, new_H_C_C_H_torsion_angle_deg)\n",
    "\n",
    "# Visualize the molecule with Py3DMol\n",
    "View3DModel(ethane_mol)"
   ]
  },
  {
   "cell_type": "code",
   "execution_count": 15,
   "id": "28d4777b",
   "metadata": {},
   "outputs": [
    {
     "name": "stdout",
     "output_type": "stream",
     "text": [
      "44.99999999999998\n"
     ]
    }
   ],
   "source": [
    "# To confirm, we can print out the H-C-C-H torsion angle again\n",
    "print(Chem.rdMolTransforms.GetDihedralDeg(ethane_mol.GetConformer(0), 2, 0, 1, 6))"
   ]
  },
  {
   "cell_type": "code",
   "execution_count": null,
   "id": "bba7e5bb-8d60-4620-a015-c4ac9456b9d3",
   "metadata": {},
   "outputs": [],
   "source": []
  }
 ],
 "metadata": {
  "kernelspec": {
   "display_name": "Python 3 (ipykernel)",
   "language": "python",
   "name": "python3"
  },
  "language_info": {
   "codemirror_mode": {
    "name": "ipython",
    "version": 3
   },
   "file_extension": ".py",
   "mimetype": "text/x-python",
   "name": "python",
   "nbconvert_exporter": "python",
   "pygments_lexer": "ipython3",
   "version": "3.11.7"
  },
  "toc": {
   "base_numbering": "",
   "nav_menu": {},
   "number_sections": false,
   "sideBar": true,
   "skip_h1_title": false,
   "title_cell": "Table of Contents",
   "title_sidebar": "Table of Contents",
   "toc_cell": false,
   "toc_position": {
    "height": "calc(100% - 180px)",
    "left": "10px",
    "top": "150px",
    "width": "205.667px"
   },
   "toc_section_display": true,
   "toc_window_display": true
  }
 },
 "nbformat": 4,
 "nbformat_minor": 5
}
