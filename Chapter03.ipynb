{
 "cells": [
  {
   "cell_type": "markdown",
   "id": "ce2d6e30",
   "metadata": {},
   "source": [
    "# Chapter 3. Molecular Dynamics"
   ]
  },
  {
   "cell_type": "markdown",
   "id": "520d5d2e",
   "metadata": {},
   "source": [
    "Molecular Dynamics (MD) is a powerful computational technique used in the field of computational chemistry to simulate the time evolution of a molecular system. While the previous chapter introduced the concept of Molecular Mechanics, which focuses on static energy calculations and geometry optimization, Molecular Dynamics takes a dynamic approach by simulating how molecules move and interact over time.\n",
    "\n",
    "Molecular Dynamics has a wide range of applications in chemistry, biology, and materials science. It is used to study processes such as protein folding, ligand binding, chemical reactions, and material properties. By simulating the dynamic behavior of molecules, researchers can gain valuable insights into the structure, function, and properties of complex systems."
   ]
  },
  {
   "cell_type": "markdown",
   "id": "295a0f8f",
   "metadata": {},
   "source": [
    "## 3.1. Fundamentals of Molecular Dynamics"
   ]
  },
  {
   "cell_type": "markdown",
   "id": "59d740b7",
   "metadata": {},
   "source": [
    "### 3.1.1. Newton's Equations of Motion"
   ]
  },
  {
   "cell_type": "markdown",
   "id": "bada76cf",
   "metadata": {},
   "source": [
    "MD simulations are based on Newton's equations of motion, which describe how the positions and velocities of particles change in response to forces. By numerically solving these equations, MD simulations can provide insights into the dynamics and thermodynamics of a molecular system.\n",
    "\n",
    "Newton's Second Law of Motion:\n",
    "$$F = ma = m \\frac{d^2\\mathbf{r}}{dt^2}$$\n",
    "\n",
    "Where:\n",
    "- $F$ represents the force applied to an object.\n",
    "- $m$ represents the mass of the object.\n",
    "- $\\mathbf{r}$ is the position vector of the object.\n",
    "- $\\frac{d^2\\mathbf{r}}{dt^2}$ is the second derivative of the position vector with respect to time, representing acceleration.\n",
    "\n",
    "Beside that, we know the relationship between force and potential energy:\n",
    "\\$$F = -\\nabla E_{\\text{potential}}$$\n",
    "\n",
    "Where:\n",
    "- $F$ represents the force applied to an object.\n",
    "- $\\nabla$ represents the gradient operator.\n",
    "- $E_{\\text{potential}}$ represents the potential energy of the system.\n",
    "\n",
    "If one knows the forces acting upon the body, one can find the position of the body at any moment r(t), i.e. predict its dynamics. This can be done by solving Newton’s equation of motion. It is a second order ODE that can be solved analytically for a few simple cases: constant force, harmonic oscillator, periodic force, drag force, etc. However, a more general approach is to use computers in order to solve the ODE numerically."
   ]
  },
  {
   "cell_type": "markdown",
   "id": "58df9c37",
   "metadata": {},
   "source": [
    "### 3.1.2. Kinetic Energy"
   ]
  },
  {
   "cell_type": "markdown",
   "id": "2dbc81ee",
   "metadata": {},
   "source": [
    "The kinetic energy $(E_{\\text{kinetic}}$) of a molecular system can be calculated using the velocities of the particles (atoms) within the system. The kinetic energy is a measure of the energy associated with the motion of the particles and is typically calculated as:\n",
    "\n",
    "$$E_{\\text{kinetic}} = \\sum_{i} \\frac{1}{2} m_i v_i^2$$\n",
    "\n",
    "Where:\n",
    "- $E_{\\text{kinetic}}$ is the kinetic energy of the system.\n",
    "- $i$ represents individual particles (atoms) in the system.\n",
    "- $m_i$ is the mass of particle $i$.\n",
    "- $v_i$ is the velocity of particle $i$.\n",
    "\n",
    "In molecular mechanics simulations, the kinetic energy can be calculated based on the velocities of particles. It's important to note that molecular mechanics simulations often assume that atoms have classical kinetic energy, and their velocities are determined by temperature.\n",
    "\n",
    "To obtain the kinetic energy in molecular mechanics simulations, you typically need to perform a simulation that includes a description of the velocities of the particles. The kinetic energy is then calculated based on the velocities of the atoms during the simulation.\n",
    "\n",
    "It's worth mentioning that kinetic energy is a key component of the total energy of the system, and it is often used to calculate the temperature of the system through the equipartition theorem. In molecular mechanics simulations, the kinetic energy is not explicitly minimized or optimized, as it depends on the initial velocities of the particles and the simulation conditions."
   ]
  },
  {
   "cell_type": "markdown",
   "id": "2d6e53ba",
   "metadata": {},
   "source": [
    "### 3.1.3. Simulation of Dynamics of Particles"
   ]
  },
  {
   "cell_type": "markdown",
   "id": "be689ba0",
   "metadata": {},
   "source": [
    "There are many methods for solving ordinary differential equations (ODEs). The second-order ODE is transformed into a system of two first-order ODEs as follows:\n",
    "\n",
    "$$\\frac{dr(t)}{dt} = v(t)$$\n",
    "\n",
    "$$m\\frac{dv(t)}{dt} = F(t)$$\n",
    "\n",
    "We use a finite difference approximation that leads to a simple forward Euler algorithm:\n",
    "\n",
    "$$v_{n+1} = v_n + \\frac{F_n}{m} \\cdot \\Delta t$$\n",
    "\n",
    "$$r_{n+1} = r_n + v_{n+1} \\cdot \\Delta t$$\n",
    "\n",
    "Here we discretize time $t$ with a time step $\\Delta t$, so $t_{n+1} = t_n + \\Delta t$, and $r_n = r(t_n)$, $v_n = v(t_n)$, where $n$ is the timestep number. Using this method, computing dynamics is straightforward.\n",
    "\n",
    "In Molecular Dynamics, the positions and velocities of atoms within a molecular system are updated over discrete time steps (time evolution). The simulation proceeds in small time increments, allowing us to study the behavior of molecules in a dynamic and time-dependent manner."
   ]
  },
  {
   "cell_type": "markdown",
   "id": "68576094",
   "metadata": {},
   "source": [
    "## 3.2. Ensemble Simulations"
   ]
  },
  {
   "cell_type": "markdown",
   "id": "5c1bcbc6",
   "metadata": {},
   "source": [
    "In ensemble simulations, we explore the behavior of molecular systems by simulating them under different conditions. These simulations often fall into two main categories:\n",
    "\n",
    "   **Molecular Dynamics (MD) Simulations**: MD simulations involve solving equations of motion to evolve the system over time. They provide a dynamic view of the system's behavior, tracking how it changes as a function of time.\n",
    "\n",
    "   **Monte Carlo (MC) Simulations**: In contrast to MD simulations, MC simulations focus on sampling different configurations of the system in a probabilistic manner. Rather than evolving the system over time, MC simulations make random moves to explore various states and configurations. This approach is particularly useful for systems in which changes occur less frequently or when configurational changes are of interest.\n",
    "\n",
    "While MD simulations are well-suited for studying dynamic processes, MC simulations are valuable for exploring the equilibrium properties and thermodynamics of a system. Both techniques play essential roles in understanding molecular behavior and are valuable tools in computational chemistry.\n",
    "\n",
    "MD simulations are powerful tools for sampling different conformations and properties of a molecular system. By averaging over the trajectories of multiple simulations, we can compute various thermodynamic and structural properties, such as diffusion coefficients, radial distribution functions, and thermodynamic quantities."
   ]
  },
  {
   "cell_type": "markdown",
   "id": "515b8674",
   "metadata": {},
   "source": [
    "## 3.3. Molecule Dynamics Simulation"
   ]
  },
  {
   "cell_type": "markdown",
   "id": "f88c70ff",
   "metadata": {},
   "source": [
    "In the following section, we will run molecular dynamics simulation using [openmm](https://openmm.org/). To install openmm, run the following command:"
   ]
  },
  {
   "cell_type": "code",
   "execution_count": null,
   "id": "1ec1eb5c",
   "metadata": {},
   "outputs": [],
   "source": [
    "!conda install -c conda-forge openmm"
   ]
  },
  {
   "cell_type": "markdown",
   "id": "fa9bf611",
   "metadata": {},
   "source": [
    "### 3.4.1. Gas Phase Simulation"
   ]
  },
  {
   "cell_type": "markdown",
   "id": "2fade306",
   "metadata": {},
   "source": [
    "In the following section, we will simulate the dynamics of ethane molecules in the gas phase using OpenMM. The gas phase simulation allows us to observe the behavior of individual molecules as they move and interact:"
   ]
  },
  {
   "cell_type": "code",
   "execution_count": null,
   "id": "927b7ce6",
   "metadata": {},
   "outputs": [],
   "source": [
    "# Import modules\n",
    "import numpy as np\n",
    "from rdkit import Chem\n",
    "from rdkit.Chem import AllChem\n",
    "import openmm\n",
    "from openmm import unit\n",
    "from openmm.app import PDBFile, PDBReporter, StateDataReporter\n",
    "from openmm.app.element import Element\n",
    "from utils import View3DModel\n",
    "import py3Dmol"
   ]
  },
  {
   "cell_type": "code",
   "execution_count": null,
   "id": "ec59587d-2b44-461e-ae5f-447144981cc2",
   "metadata": {},
   "outputs": [],
   "source": [
    "# Create a molecule of ethane and optimizer its geometry\n",
    "ethane_smiles = 'CC'\n",
    "ethane_mol = Chem.MolFromSmiles(ethane_smiles)\n",
    "ethane_mol = Chem.AddHs(ethane_mol)\n",
    "AllChem.EmbedMolecule(ethane_mol)\n",
    "AllChem.UFFOptimizeMolecule(ethane_mol, maxIters=200)\n",
    "\n",
    "# View 3D model\n",
    "View3DModel(ethane_mol)"
   ]
  },
  {
   "cell_type": "code",
   "execution_count": null,
   "id": "fe728c06-f65e-4b5e-ac41-8d18448d0fdb",
   "metadata": {},
   "outputs": [],
   "source": [
    "# Save the molecule as PDB file\n",
    "Chem.MolToPDBFile(ethane_mol, '.\\\\structures\\\\ethane.pdb')\n",
    "\n",
    "# Load PDB file\n",
    "ethane_pdbfile = PDBFile('.\\\\structures\\\\ethane.pdb')"
   ]
  },
  {
   "cell_type": "code",
   "execution_count": null,
   "id": "7edcecd7-0382-440a-b5fa-2bdc2f290e53",
   "metadata": {},
   "outputs": [],
   "source": [
    "# Create an OpenMM system\n",
    "system = openmm.System()\n",
    "\n",
    "# Create atoms and set their masses\n",
    "for atom in ethane_mol.GetAtoms():\n",
    "    symbol = atom.GetSymbol()\n",
    "    mass = Element.getBySymbol(symbol).mass\n",
    "    system.addParticle(mass)"
   ]
  },
  {
   "cell_type": "code",
   "execution_count": null,
   "id": "682ba969",
   "metadata": {},
   "outputs": [],
   "source": [
    "# Define the and simulation box size and set up a periodic boundary condition (PBC)\n",
    "box_size = 1.0 * unit.angstroms  # Simulation box size\n",
    "system.setDefaultPeriodicBoxVectors((box_size, 0, 0), (0, box_size, 0), (0, 0, box_size))\n",
    "\n",
    "# Create an OpenMM integrator\n",
    "temperature = 300 * unit.kelvin\n",
    "collision_rate = 1.0 / unit.picoseconds\n",
    "timestep = 2.0 * unit.femtoseconds\n",
    "integrator = openmm.LangevinIntegrator(temperature, collision_rate, timestep)\n",
    "\n",
    "# Create an OpenMM simulation\n",
    "simulation = openmm.app.Simulation(ethane_pdbfile.topology, system, integrator)"
   ]
  },
  {
   "cell_type": "code",
   "execution_count": null,
   "id": "d4592083",
   "metadata": {},
   "outputs": [],
   "source": [
    "# Set positions based on the initial geometry\n",
    "positions = []\n",
    "conf = ethane_mol.GetConformer()\n",
    "for i, atom in enumerate(ethane_mol.GetAtoms()):\n",
    "    x, y, z = conf.GetAtomPosition(i)\n",
    "    positions.append((float(x), float(y), float(z)) * unit.angstroms)\n",
    "        \n",
    "simulation.context.setPositions(positions)\n",
    "simulation.context.setVelocitiesToTemperature(temperature)"
   ]
  },
  {
   "cell_type": "code",
   "execution_count": null,
   "id": "e2817d7e",
   "metadata": {},
   "outputs": [],
   "source": [
    "# Run the MD simulation for a defined number of steps\n",
    "total_steps = 50  # Number of MD steps\n",
    "potential_energies = []\n",
    "kinetic_energies = []\n",
    "trajectory = ''\n",
    "for step_idx in range(total_steps):\n",
    "    integrator.step(1)\n",
    "    \n",
    "    state = simulation.context.getState(getPositions=True, getEnergy=True)\n",
    "    potential_energies.append(state.getPotentialEnergy().value_in_unit(state.getPotentialEnergy().unit))\n",
    "    kinetic_energies.append(state.getKineticEnergy().value_in_unit(state.getKineticEnergy().unit))\n",
    "    \n",
    "    # Save trajectory\n",
    "    positions = state.getPositions(asNumpy=True)\n",
    "    conf = ethane_mol.GetConformer()\n",
    "    for i, position in enumerate(positions):\n",
    "        position = position * 10 # nn to angstrom\n",
    "        conf.SetAtomPosition(i, position.tolist())\n",
    "    trajectory += \"MODEL     {:4d}\\n\".format(step_idx + 1)\n",
    "    trajectory += Chem.MolToPDBBlock(ethane_mol)\n",
    "    trajectory += \"ENDMDL\\n\""
   ]
  },
  {
   "cell_type": "code",
   "execution_count": null,
   "id": "0bf3f437",
   "metadata": {},
   "outputs": [],
   "source": [
    "# Visualize the potential and kinetic energy\n",
    "import matplotlib.pyplot as plt\n",
    "\n",
    "plt.plot(potential_energies, label='potential_energies')\n",
    "plt.plot(kinetic_energies, label='kinetic_energies')\n",
    "plt.legend()\n",
    "plt.xlabel('Step')\n",
    "plt.ylabel('Energy (kJ)')"
   ]
  },
  {
   "cell_type": "code",
   "execution_count": null,
   "id": "03b2881e-27c7-460e-bf63-42d6eedb3d29",
   "metadata": {},
   "outputs": [],
   "source": [
    "# Show the animation\n",
    "view = py3Dmol.view(width=400, height=300)\n",
    "view.addModelsAsFrames(trajectory, \"trajectory\", {'keepH': True})\n",
    "view.setBackgroundColor('white')\n",
    "view.setStyle({'stick': {'scale': 0.3}, 'sphere': {'scale': 0.3}})\n",
    "view.zoomTo()\n",
    "view.animate({'loop': \"forward\", 'interval': 10}) # Adjust the speed as needed (set 'interval' to a new value in millisecond)\n",
    "view.show()"
   ]
  },
  {
   "cell_type": "markdown",
   "id": "c6ca3bb5",
   "metadata": {},
   "source": [
    "### 3.4.2. Protein Simulation"
   ]
  },
  {
   "cell_type": "markdown",
   "id": "807e550c",
   "metadata": {},
   "source": [
    "In the following section, we will simulate the dynamics of a protein. For this, you need to install MDAnalysis and NGLView:"
   ]
  },
  {
   "cell_type": "code",
   "execution_count": null,
   "id": "c38313aa",
   "metadata": {},
   "outputs": [],
   "source": [
    "!conda install -c conda-forge mdanalysis"
   ]
  },
  {
   "cell_type": "code",
   "execution_count": null,
   "id": "29262ea8",
   "metadata": {},
   "outputs": [],
   "source": [
    "!conda install -c conda-forge nglview"
   ]
  },
  {
   "cell_type": "code",
   "execution_count": null,
   "id": "7023fa81",
   "metadata": {},
   "outputs": [],
   "source": [
    "# Import modules\n",
    "from openmm import *\n",
    "from openmm.app import *\n",
    "from openmm.unit import *\n",
    "import MDAnalysis as md\n",
    "import nglview as ng\n",
    "from sys import stdout"
   ]
  },
  {
   "cell_type": "code",
   "execution_count": null,
   "id": "a0ac4c2d",
   "metadata": {},
   "outputs": [],
   "source": [
    "## View protein file\n",
    "protein_file_name = '.\\\\structures\\\\1a3n_chainA.pdb'\n",
    "u = md.Universe(protein_file_name)\n",
    "ng.show_mdanalysis(u, gui=True)"
   ]
  },
  {
   "cell_type": "code",
   "execution_count": null,
   "id": "1f136ca5",
   "metadata": {},
   "outputs": [],
   "source": [
    "## Loading protein file\n",
    "protein_pdb = PDBFile(protein_file_name)\n",
    "\n",
    "## Choosing forcefield\n",
    "forcefield = ForceField('amber14-all.xml', 'amber14/tip3pfb.xml')\n",
    "\n",
    "# Create a combined system for the protein-ligand complex\n",
    "system = forcefield.createSystem(protein_pdb.topology, nonbondedMethod=PME,\n",
    "        nonbondedCutoff=1*nanometer, constraints=HBonds)\n",
    "\n",
    "## Set up integrator\n",
    "temperature = 300*kelvin\n",
    "frictionCoeff = 1/picosecond\n",
    "time_step = 0.002*picoseconds\n",
    "integrator = LangevinIntegrator(temperature, frictionCoeff, time_step)"
   ]
  },
  {
   "cell_type": "code",
   "execution_count": null,
   "id": "ad319c09",
   "metadata": {},
   "outputs": [],
   "source": [
    "## Create a simulation object\n",
    "simulation = Simulation(protein_pdb.topology, system, integrator)"
   ]
  },
  {
   "cell_type": "code",
   "execution_count": null,
   "id": "94efc5bf",
   "metadata": {},
   "outputs": [],
   "source": [
    "## Initialize the position and minimize energy\n",
    "simulation.context.setPositions(protein_pdb.positions)\n",
    "simulation.minimizeEnergy()\n",
    "\n",
    "## Set up reporters\n",
    "total_steps = 10000\n",
    "pdb_reporter = PDBReporter('.\\\\trajectories\\\\traj.pdb', 1000)\n",
    "state_data_reporter = StateDataReporter(stdout, 500, step=True, potentialEnergy=True, temperature=True, progress=True, totalSteps = total_steps)\n",
    "simulation.reporters.append(pdb_reporter)\n",
    "simulation.reporters.append(state_data_reporter)"
   ]
  },
  {
   "cell_type": "code",
   "execution_count": null,
   "id": "7f158bd8",
   "metadata": {
    "scrolled": true
   },
   "outputs": [],
   "source": [
    "## Run simulation\n",
    "simulation.step(total_steps)"
   ]
  },
  {
   "cell_type": "code",
   "execution_count": null,
   "id": "b2b5b656",
   "metadata": {},
   "outputs": [],
   "source": [
    "## Visualize the result\n",
    "sys = md.Universe(protein_file_name, '.\\\\trajectories\\\\traj.pdb')\n",
    "ng.show_mdanalysis(sys, gui=True)"
   ]
  },
  {
   "cell_type": "markdown",
   "id": "eb78446d",
   "metadata": {},
   "source": [
    " ### 3.4.2. Molecular Dynamics Simulation and Docking Software"
   ]
  },
  {
   "cell_type": "markdown",
   "id": "df8ac2aa",
   "metadata": {},
   "source": [
    "There are several free and user-friendly software tools with graphical user interfaces (GUIs) that are popular for molecular dynamics simulations:\n",
    "\n",
    "- **VMD (Visual Molecular Dynamics) & NAMD (Nanoscale Molecular Dynamics)**\n",
    "\n",
    "- **GROMACS**\n",
    "\n",
    "- **AmberTools**\n",
    "\n",
    "- **LAMMPS (Large-scale Atomic/Molecular Massively Parallel Simulator)**\n",
    "\n",
    "- **CHARMM-GUI**\n",
    "\n",
    "- **Molecular Operating Environment (MOE)**\n",
    "\n",
    "- **Desmond**\n",
    "\n",
    "These software tools cater to a range of user needs, from beginners to advanced users, and offer various features for setting up, running, and analyzing molecular dynamics simulations."
   ]
  },
  {
   "cell_type": "markdown",
   "id": "8279797d",
   "metadata": {},
   "source": [
    "Additionally, here are some other software that are focused on protein simulation, including protein-ligand interaction, docking, and related tasks:\n",
    "\n",
    "- **UCSF Chimera & ChimeraX**\n",
    "\n",
    "- **AutoDock and AutoDock Vina**\n",
    "\n",
    "- **AutodockTools**\n",
    "\n",
    "- **MGLTools**\n",
    "\n",
    "- **PyRx**\n",
    "\n",
    "- **SwissDock**\n",
    "\n",
    "- **LeDock**\n",
    "\n",
    "- **BIOVIA Discovery Studio**\n",
    "\n",
    "- **Maestro**"
   ]
  },
  {
   "cell_type": "code",
   "execution_count": null,
   "id": "682e686d",
   "metadata": {},
   "outputs": [],
   "source": []
  }
 ],
 "metadata": {
  "kernelspec": {
   "display_name": "Python 3 (ipykernel)",
   "language": "python",
   "name": "python3"
  },
  "language_info": {
   "codemirror_mode": {
    "name": "ipython",
    "version": 3
   },
   "file_extension": ".py",
   "mimetype": "text/x-python",
   "name": "python",
   "nbconvert_exporter": "python",
   "pygments_lexer": "ipython3",
   "version": "3.11.7"
  },
  "toc": {
   "base_numbering": "",
   "nav_menu": {},
   "number_sections": false,
   "sideBar": true,
   "skip_h1_title": false,
   "title_cell": "Table of Contents",
   "title_sidebar": "Table of Contents",
   "toc_cell": false,
   "toc_position": {
    "height": "calc(100% - 180px)",
    "left": "10px",
    "top": "150px",
    "width": "203px"
   },
   "toc_section_display": true,
   "toc_window_display": true
  }
 },
 "nbformat": 4,
 "nbformat_minor": 5
}
