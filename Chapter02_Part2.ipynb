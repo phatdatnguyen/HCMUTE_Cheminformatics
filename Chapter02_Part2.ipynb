{
 "cells": [
  {
   "cell_type": "markdown",
   "id": "ce2d6e30",
   "metadata": {},
   "source": [
    "# Chapter 2. Molecular Mechanics"
   ]
  },
  {
   "cell_type": "markdown",
   "id": "0d09f3a0",
   "metadata": {},
   "source": [
    "## 2.2. Molecular Mechanics"
   ]
  },
  {
   "cell_type": "markdown",
   "id": "520d5d2e",
   "metadata": {},
   "source": [
    "Molecular mechanics is a computational approach used to model and study the behavior of molecules and molecular systems. It plays a vital role in various fields, including chemistry, biochemistry, and material science.\n",
    "\n",
    "Molecular mechanics is applied to various areas, including drug discovery, protein folding, material science, and understanding chemical reactions. Its computational efficiency and versatility make it a valuable tool in molecular modeling and simulations.\n",
    "\n",
    "In the upcoming sections, we will delve deeper into the practical aspects of molecular mechanics, including force field selection, energy minimization, and conformational analysis."
   ]
  },
  {
   "cell_type": "markdown",
   "id": "68576094",
   "metadata": {},
   "source": [
    "### 2.2.1. Energy Functions"
   ]
  },
  {
   "cell_type": "markdown",
   "id": "5c1bcbc6",
   "metadata": {},
   "source": [
    "In molecular mechanics, the behavior of molecules is described by energy functions, also known as potential energy functions. These functions are used to estimate the energy of a molecular system based on the positions of its atoms.\n",
    "\n",
    "We can thing of a energy function as a mapping from a molecular geometry (or state) to its potential energy:\n",
    "\n",
    "$$E(\\text{conformer}) = F(\\text{geometry})$$\n",
    "\n",
    "In this equation:\n",
    "\n",
    "- E represents the potential energy associated with a molecular conformation (conformer).\n",
    "- F represents the energy function that maps the geometry (positions of atoms) of the conformer to its potential energy."
   ]
  },
  {
   "cell_type": "markdown",
   "id": "104f08b7",
   "metadata": {},
   "source": [
    "### 2.2.2. Molecular Mechanics"
   ]
  },
  {
   "cell_type": "markdown",
   "id": "00eeb774",
   "metadata": {},
   "source": [
    "Molecular mechanics is a computational modeling approach that employs energy functions to describe and analyze the behavior of chemical systems. In molecular mechanics, a molecule or molecular system is represented as a set of interacting particles (atoms) with well-defined energy terms."
   ]
  },
  {
   "cell_type": "markdown",
   "id": "ccbd547a",
   "metadata": {},
   "source": [
    "### 2.2.3. Force Field"
   ]
  },
  {
   "cell_type": "markdown",
   "id": "e144cb2c",
   "metadata": {},
   "source": [
    "Force fields are sets of parameters and mathematical functions that define the potential energy of a molecular system. They are used to calculate the forces acting on the atoms in a molecule, which can be used to predict the molecule's behavior.\n",
    "In molecular mechanics, force fields are essential for defining the potential energy of a molecular system based on atomic interactions. Force fields consist of a set of parameters and mathematical functions that describe how atoms interact with each other. \n",
    "\n",
    "There are several well-established force fields used in molecular mechanics simulations, each with its own set of parameters and applications. Some commonly used force fields include:\n",
    "\n",
    "1. **UFF (Universal Force Field)**: UFF is a versatile force field that provides a good balance between accuracy and computational cost. It can be used to model a wide range of organic and inorganic molecules.\n",
    "\n",
    "2. **MMFF (Merck Molecular Force Field)**: MMFF is known for its accuracy in modeling the conformational and energetic properties of organic molecules. It includes parameters for various chemical elements.\n",
    "\n",
    "3. **AMBER (Assisted Model Building with Energy Refinement)**: AMBER is widely used in biomolecular simulations and is particularly suited for proteins, nucleic acids, and other biomolecules.\n",
    "\n",
    "4. **CHARMM (Chemistry at HARvard Molecular Mechanics)**: CHARMM is a force field known for its accuracy in biomolecular simulations, and it is extensively used for modeling proteins, nucleic acids, and lipids.\n",
    "\n",
    "5. **GROMOS (GROningen MOlecular Simulation)**: GROMOS is a force field commonly used in biomolecular simulations, especially in the study of proteins, nucleic acids, and carbohydrates.\n",
    "\n",
    "6. **OPLS (Optimized Potential for Liquid Simulations)**: OPLS is designed for the simulation of liquids and condensed phases. It has various parameter sets optimized for specific applications.\n",
    "\n",
    "7. **Dreiding Force Field**: The Dreiding force field is primarily used for organic molecules and includes parameters for a wide range of chemical functional groups.\n",
    "\n",
    "8. **COMPASS (Condensed-phase Optimized Molecular Potentials for Atomistic Simulation Studies)**: COMPASS is used in various applications, including polymers, organic molecules, and inorganic materials.\n",
    "\n",
    "These force fields vary in terms of accuracy, computational cost, and applicability to different types of molecules. The choice of a specific force field depends on the nature of the system being studied and the research objectives."
   ]
  },
  {
   "cell_type": "markdown",
   "id": "12e4c861",
   "metadata": {},
   "source": [
    "In the following section, we will use UFF (available in RDKit) to calculate the potential energy of ethane:"
   ]
  },
  {
   "cell_type": "code",
   "execution_count": null,
   "id": "ec482edb",
   "metadata": {},
   "outputs": [],
   "source": [
    "# Import modules\n",
    "from rdkit import Chem\n",
    "from rdkit.Chem import AllChem\n",
    "from utils import View3DModel\n",
    "import py3Dmol"
   ]
  },
  {
   "cell_type": "code",
   "execution_count": null,
   "id": "194bf9a8",
   "metadata": {},
   "outputs": [],
   "source": [
    "# Create an RDKit molecule from the XYZ string\n",
    "ethane_smiles = 'CC'\n",
    "ethane_mol = Chem.MolFromSmiles(ethane_smiles)\n",
    "\n",
    "# Prepare the molecule\n",
    "ethane_mol = Chem.AddHs(ethane_mol)\n",
    "AllChem.EmbedMolecule(ethane_mol)\n",
    "\n",
    "# Visualize the molecule with Py3DMol\n",
    "View3DModel(ethane_mol)"
   ]
  },
  {
   "cell_type": "code",
   "execution_count": null,
   "id": "f9d6eaaf",
   "metadata": {},
   "outputs": [],
   "source": [
    "# Generate a force field object using the UFF parameters\n",
    "ff = Chem.rdForceFieldHelpers.UFFGetMoleculeForceField(ethane_mol)\n",
    "\n",
    "# Calculate the energy total energy\n",
    "total_energy = ff.CalcEnergy()\n",
    "print(total_energy)"
   ]
  },
  {
   "cell_type": "markdown",
   "id": "5e30cd84",
   "metadata": {},
   "source": [
    "Now we will rotate the molecule to make the eclipsed conformer, then calculate the total energy:"
   ]
  },
  {
   "cell_type": "code",
   "execution_count": null,
   "id": "b8d8c2c2",
   "metadata": {
    "scrolled": true
   },
   "outputs": [],
   "source": [
    "# Rotate the molecule by setting new torsion angle values\n",
    "Chem.rdMolTransforms.SetDihedralDeg(ethane_mol.GetConformer(0), 2, 0, 1, 5, 0)\n",
    "Chem.rdMolTransforms.SetDihedralDeg(ethane_mol.GetConformer(0), 2, 0, 1, 6, 120)\n",
    "Chem.rdMolTransforms.SetDihedralDeg(ethane_mol.GetConformer(0), 2, 0, 1, 7, -120)\n",
    "\n",
    "# Visualize the molecule with Py3DMol\n",
    "View3DModel(ethane_mol)"
   ]
  },
  {
   "cell_type": "code",
   "execution_count": null,
   "id": "3b5bfe69",
   "metadata": {},
   "outputs": [],
   "source": [
    "# Generate a force field object using the UFF parameters\n",
    "ff = Chem.rdForceFieldHelpers.UFFGetMoleculeForceField(ethane_mol)\n",
    "\n",
    "# Calculate the energy total energy\n",
    "total_energy = ff.CalcEnergy()\n",
    "print(total_energy)"
   ]
  },
  {
   "cell_type": "markdown",
   "id": "426e2283",
   "metadata": {},
   "source": [
    "As you can see, the eclipsed conformer has higher energy than the staggered conformer.\n",
    "\n",
    "We can also calculate the energy of any conformer of ethane by rotating around C-C bond:"
   ]
  },
  {
   "cell_type": "code",
   "execution_count": null,
   "id": "273480fd",
   "metadata": {},
   "outputs": [],
   "source": [
    "# Defind a function that calculate total energy\n",
    "def calculate_total_energy(mol, rotation_angle):\n",
    "    # Generate a force field object using the UFF parameters\n",
    "    ff = Chem.rdForceFieldHelpers.UFFGetMoleculeForceField(mol)\n",
    "    \n",
    "    # Rotate round C-C bond\n",
    "    Chem.rdMolTransforms.SetDihedralDeg(ethane_mol.GetConformer(0), 2, 0, 1, 5, 0 + rotation_angle)\n",
    "    Chem.rdMolTransforms.SetDihedralDeg(ethane_mol.GetConformer(0), 2, 0, 1, 6, 120 + rotation_angle)\n",
    "    Chem.rdMolTransforms.SetDihedralDeg(ethane_mol.GetConformer(0), 2, 0, 1, 7, -120 + rotation_angle)\n",
    "    \n",
    "    # Calculate the energy total energy\n",
    "    return ff.CalcEnergy()"
   ]
  },
  {
   "cell_type": "code",
   "execution_count": null,
   "id": "94cad1e2",
   "metadata": {},
   "outputs": [],
   "source": [
    "import numpy as np\n",
    "import matplotlib.pyplot as plt\n",
    "\n",
    "# Calculate an array of energies for all comformers\n",
    "energy_arr = []\n",
    "angles = np.linspace(0, 360, num=121) # rotate 3 degrees each time\n",
    "for angle in angles:\n",
    "    energy_arr.append(calculate_total_energy(ethane_mol, angle))\n",
    "energy_arr = np.array(energy_arr)\n",
    "    \n",
    "# Plot the result\n",
    "plt.plot(angles, energy_arr)"
   ]
  },
  {
   "cell_type": "markdown",
   "id": "d98d6dc4",
   "metadata": {},
   "source": [
    "### 2.2.4. Potential Energy"
   ]
  },
  {
   "cell_type": "markdown",
   "id": "7a051f0d",
   "metadata": {},
   "source": [
    "In molecular mechanics, the potential energy of a molecular system is described in terms of various energy components. These energy terms capture different aspects of molecular interactions and contribute to the overall potential energy. Below are descriptions of key energy terms, along with their corresponding equations for calculation."
   ]
  },
  {
   "cell_type": "markdown",
   "id": "fa9badf9",
   "metadata": {},
   "source": [
    "The total energy of a molecular system is the sum of its bonded and non-bonded energies:\n",
    "\n",
    "$$E_{\\text{potential}} = E_{\\text{bonded}} + E_{\\text{non-bonded}}$$"
   ]
  },
  {
   "cell_type": "markdown",
   "id": "90cc12e4",
   "metadata": {},
   "source": [
    "Bonded energy accounts for the interactions associated with covalent bonds within the molecular structure. The bonded energy is the sum of these individual bonded energy terms:\n",
    "\n",
    "$$E_{\\text{bonded}} = E_{\\text{bonds}} + E_{\\text{angles}} + E_{\\text{torsion}} + E_{\\text{out of plane}} + E_{\\text{inversion}} + E_{\\text{cross}} + E_{\\text{additional}}$$"
   ]
  },
  {
   "cell_type": "markdown",
   "id": "67623dc0",
   "metadata": {},
   "source": [
    "Non-bonded energy encompasses interactions between atoms that are not directly connected by covalent bonds. The non-bonded energy is the sum of these individual non-bonded energy terms:\n",
    "\n",
    "$$E_{\\text{non-bonded}} = E_{\\text{vdw}} + E_{\\text{electrostatic}} + E_{\\text{additional}}$$"
   ]
  },
  {
   "cell_type": "markdown",
   "id": "eb988e3a",
   "metadata": {},
   "source": [
    "#### 2.2.4.1. Bond Stretching Energy (E<sub>bonds</sub>)"
   ]
  },
  {
   "cell_type": "markdown",
   "id": "71dc9a7a",
   "metadata": {},
   "source": [
    "Bond stretching energy accounts for the energy required to stretch or compress chemical bonds. It is calculated as follows:\n",
    "\n",
    "$$E_{\\text{bonds}} = \\sum_k \\frac{1}{2} k_b (r_k - r_{0})^2$$\n",
    "\n",
    "Where:\n",
    "- $k_b$ is the force constant of the bond.\n",
    "- $r_k$ is the current bond length.\n",
    "- $r_{0k}$ is the equilibrium bond length."
   ]
  },
  {
   "cell_type": "markdown",
   "id": "f4deb0a0",
   "metadata": {},
   "source": [
    "#### 2.2.4.2. Angle Bending Energy (E<sub>angles</sub>)"
   ]
  },
  {
   "cell_type": "markdown",
   "id": "7258f9a5",
   "metadata": {},
   "source": [
    "Angle bending energy represents the energy associated with bond angles within a molecule. It is calculated as follows:\n",
    "\n",
    "$$E_{\\text{angles}} = \\sum_j \\frac{1}{2} k_{\\theta j} (\\theta_j - \\theta_{0})^2$$\n",
    "\n",
    "Where:\n",
    "- $k_{\\theta j}$ is the force constant for angle \\(j\\).\n",
    "- $\\theta_j$ is the current bond angle.\n",
    "- $\\theta_{0j}$ is the equilibrium bond angle."
   ]
  },
  {
   "cell_type": "markdown",
   "id": "e14c9256",
   "metadata": {},
   "source": [
    "#### 2.2.4.3. Torsional Energy (E<sub>torsion</sub>)"
   ]
  },
  {
   "cell_type": "markdown",
   "id": "4a6a9725",
   "metadata": {},
   "source": [
    "Torsional energy accounts for the energy due to the rotation of bonds within a molecule. It is calculated as a sum of periodic terms:\n",
    "\n",
    "$$E_{\\text{torsion}} = \\sum_{n=1}^{N} V_n [1 + \\cos(n \\phi - \\gamma_n)]$$\n",
    "\n",
    "Where:\n",
    "- $N$ is the number of torsional terms.\n",
    "- $V_n$ is the amplitude of the $n$-th term.\n",
    "- $\\phi$ is the dihedral angle.\n",
    "- $\\gamma_n$ is the phase offset of the $n$-th term."
   ]
  },
  {
   "cell_type": "markdown",
   "id": "46897053",
   "metadata": {},
   "source": [
    "#### 2.2.4.4. Out-of-Plane Bending Energy (E<sub>out of plane</sub>)\n"
   ]
  },
  {
   "cell_type": "markdown",
   "id": "a4664dfd",
   "metadata": {},
   "source": [
    "Out-of-plane bending energy accounts for the energy associated with deviations from a planar conformation. It is calculated based on the out-of-plane angle and force constants.\n",
    "\n",
    "$$E_{\\text{out of plane}} = \\frac{1}{2} k_{\\text{oop}} \\Delta z^2$$\n",
    "\n",
    "Where:\n",
    "- $k_{\\text{oop}}$ is the out-of-plane force constant.\n",
    "- $\\Delta z$ is the deviation from the planar conformation."
   ]
  },
  {
   "cell_type": "markdown",
   "id": "33fe6635",
   "metadata": {},
   "source": [
    "#### 2.2.4.5. Inversion (E<sub>inversion</sub>)"
   ]
  },
  {
   "cell_type": "markdown",
   "id": "a98e1c54",
   "metadata": {},
   "source": [
    "Inversion energy accounts for deviations from a planar arrangement of atoms, often seen in nitrogen inversion in amines. It is calculated based on inversion force constants.\n",
    "\n",
    "$$E_{\\text{inversion}} = \\frac{1}{2} k_{\\text{inv}} \\Delta \\theta^2$$\n",
    "\n",
    "Where:\n",
    "- $k_{\\text{inv}}$ is the inversion force constant.\n",
    "- $\\Delta \\theta$ is the deviation from the planar arrangement."
   ]
  },
  {
   "cell_type": "markdown",
   "id": "9618c614",
   "metadata": {},
   "source": [
    "#### 2.2.4.6. Cross Term (E<sub>cross</sub>)"
   ]
  },
  {
   "cell_type": "markdown",
   "id": "7906b654",
   "metadata": {},
   "source": [
    "The cross term accounts for interactions between different types of energy terms, such as bond-stretching and angle-bending interactions, and is included in force fields to capture mixed interactions.\n",
    "\n",
    "$$E_{\\text{cross}} = \\sum_{i} \\sum_{j} E_{\\text{cross}, ij}$$\n",
    "\n",
    "Where:\n",
    "- $E_{\\text{cross}}$ represents the total cross term energy.\n",
    "- $E_{\\text{cross}, ij}$ represents the cross term energy between interactions of atom $i$ and atom $j$."
   ]
  },
  {
   "cell_type": "markdown",
   "id": "b7d88e3b",
   "metadata": {},
   "source": [
    "#### 2.2.4.7. Van der Waals Energy (E<sub>vdw</sub>)"
   ]
  },
  {
   "cell_type": "markdown",
   "id": "080c1980",
   "metadata": {},
   "source": [
    "Van der Waals energy represents the attractive and repulsive interactions between atoms. It is calculated using the Lennard-Jones potential:\n",
    "\n",
    "$$E_{\\text{vdw}} = \\sum_i \\sum_j \\left(\\frac{A_{ij}}{r_{ij}^{12}} - \\frac{B_{ij}}{r_{ij}^{6}}\\right)$$\n",
    "\n",
    "Where:\n",
    "- $A_{ij}$ and $B_{ij}$ are Lennard-Jones parameters for atom pairs $i$ and $j$).\n",
    "- $r_{ij}$ is the distance between atoms $i$ and $j$."
   ]
  },
  {
   "cell_type": "markdown",
   "id": "7013eaeb",
   "metadata": {},
   "source": [
    "#### 2.2.4.8. Electrostatic Energy (E<sub>electrostatic</sub>)"
   ]
  },
  {
   "cell_type": "markdown",
   "id": "24bb6867",
   "metadata": {},
   "source": [
    "Electrostatic energy accounts for electrostatic interactions, such as charges, between atoms. It is calculated using the Coulombic potential energy:\n",
    "\n",
    "$$E_{\\text{electrostatic}} = \\sum_i \\sum_j \\frac{q_i q_j}{4\\pi\\epsilon r_{ij}}$$\n",
    "\n",
    "Where:\n",
    "- $q_i$ and $q_j$ are the charges of atoms $i$ and $j$.\n",
    "- $\\epsilon$ is the dielectric constant.\n",
    "- $r_{ij}$ is the distance between atoms $i$ and $j$."
   ]
  },
  {
   "cell_type": "markdown",
   "id": "5eb81195",
   "metadata": {},
   "source": [
    "#### 2.2.4.9. Additional Non-Bonded Terms (E<sub>additional</sub>)"
   ]
  },
  {
   "cell_type": "markdown",
   "id": "18657a92",
   "metadata": {},
   "source": [
    "Additional terms may be introduced in specific force fields to account for other molecular interactions (bonded and non-bonded), such as hydrogen bonding or solvation effects."
   ]
  },
  {
   "cell_type": "markdown",
   "id": "212931b9",
   "metadata": {},
   "source": [
    "### 2.2.5. Geometry Optimization"
   ]
  },
  {
   "cell_type": "markdown",
   "id": "7d2417bc",
   "metadata": {},
   "source": [
    "Geometry optimization is a fundamental process in molecular mechanics that aims to find the most stable configuration (conformation) of a molecular system. This process involves adjusting the positions of atoms to minimize the potential energy of the system. Geometry optimization is crucial in understanding molecular structures, chemical reactions, and thermodynamic properties.\n",
    "\n",
    "In molecular mechanics simulations, a molecular system is initially assigned a set of atomic coordinates. However, these coordinates may not correspond to the most stable or energetically favorable conformation. Geometry optimization seeks to find the conformation with the lowest potential energy, representing the most stable state of the system."
   ]
  },
  {
   "cell_type": "markdown",
   "id": "fa88e3fb",
   "metadata": {},
   "source": [
    "#### 2.2.5.1. Calculation of Energy Gradient"
   ]
  },
  {
   "cell_type": "markdown",
   "id": "210a9414",
   "metadata": {},
   "source": [
    "Geometry optimization relies on the calculation of the energy gradient $\\nabla E$, a vector that points in the direction of the steepest increase in potential energy. It can be calculated for each atom and each coordinate (x, y, z). The energy gradient is used to determine how the potential energy changes as atomic coordinates are adjusted. The negative gradient represents the force acting on each atom.\n",
    "\n",
    "The energy gradient for a given coordinate can be expressed as:\n",
    "\n",
    "$$\\nabla E_i = -\\frac{\\partial E}{\\partial q_i}$$\n",
    "\n",
    "Where:\n",
    "- $\\nabla E_i$ is the energy gradient for coordinate $q_i$.\n",
    "- $\\frac{\\partial E}{\\partial q_i}$ represents the partial derivative of the potential energy with respect to coordinate $q_i$."
   ]
  },
  {
   "cell_type": "markdown",
   "id": "5055f1f0",
   "metadata": {},
   "source": [
    "#### 2.2.5.2. Minimizing the Energy Function with Gradient Descent\n"
   ]
  },
  {
   "cell_type": "markdown",
   "id": "4fbed09a",
   "metadata": {},
   "source": [
    "The gradient descent update for atomic coordinates is given by:\n",
    "\n",
    "$$q_i^{(n+1)} = q_i^{(n)} - \\alpha \\nabla E_i^{(n)}$$\n",
    "\n",
    "Where:\n",
    "- $q_i^{(n+1)}$ is the updated coordinate for atom $i$ at iteration $n+1$.\n",
    "- $q_i^{(n)}$ is the current coordinate for atom $i$ at iteration $n$.\n",
    "- $\\alpha$ is the step size (learning rate) that controls the step size in the direction of the negative gradient.\n",
    "- $\\nabla E_i^{(n)}$ is the energy gradient for coordinate $q_i$ at iteration $n$.\n",
    "\n",
    "This iterative process continues until a local minimum is reached, where the energy gradient becomes nearly zero, indicating a stable conformation."
   ]
  },
  {
   "cell_type": "markdown",
   "id": "6fa07bb1",
   "metadata": {},
   "source": [
    "In the following section, we will optimize the geometry of a distorted cyclohexane molecule:"
   ]
  },
  {
   "cell_type": "markdown",
   "id": "349b5dda",
   "metadata": {},
   "source": [
    "First, we optimize with UFF:"
   ]
  },
  {
   "cell_type": "code",
   "execution_count": null,
   "id": "2a342bb8",
   "metadata": {},
   "outputs": [],
   "source": [
    "# Create an RDKit molecule from the XYZ string\n",
    "cyclohexane_smiles = 'C1CCCCC1'\n",
    "cyclohexane_mol = Chem.MolFromSmiles(cyclohexane_smiles)\n",
    "\n",
    "# Prepare the molecule\n",
    "cyclohexane_mol = Chem.AddHs(cyclohexane_mol)\n",
    "AllChem.EmbedMolecule(cyclohexane_mol)\n",
    "\n",
    "# Visualize the molecule with Py3DMol before optimization\n",
    "View3DModel(cyclohexane_mol)"
   ]
  },
  {
   "cell_type": "code",
   "execution_count": null,
   "id": "b9e174f4",
   "metadata": {},
   "outputs": [],
   "source": [
    "# Generate a UFF force field object\n",
    "uff = Chem.rdForceFieldHelpers.UFFGetMoleculeForceField(cyclohexane_mol)\n",
    "\n",
    "# Calculate the energy total energy before optimization\n",
    "total_energy = uff.CalcEnergy()\n",
    "print(total_energy)"
   ]
  },
  {
   "cell_type": "code",
   "execution_count": null,
   "id": "cf7566ea",
   "metadata": {},
   "outputs": [],
   "source": [
    "# Optimize the molecule\n",
    "opt_result = Chem.rdForceFieldHelpers.UFFOptimizeMoleculeConfs(cyclohexane_mol, maxIters=100)\n",
    "\n",
    "# Print out the optimized energy\n",
    "print(opt_result[-1][1])\n",
    "\n",
    "# Visualize the molecule with Py3DMol after optimization\n",
    "View3DModel(cyclohexane_mol)"
   ]
  },
  {
   "cell_type": "markdown",
   "id": "e8e0f0fe",
   "metadata": {},
   "source": [
    "Next, we will optimize glucose molecule with MMFF:"
   ]
  },
  {
   "cell_type": "code",
   "execution_count": null,
   "id": "66faa96b",
   "metadata": {},
   "outputs": [],
   "source": [
    "# Create an RDKit molecule from file\n",
    "glucose_mol = Chem.MolFromPDBFile('./structures/glucose.pdb')\n",
    "\n",
    "# Prepare the molecule\n",
    "glucose_mol = Chem.AddHs(glucose_mol)\n",
    "AllChem.EmbedMolecule(glucose_mol)\n",
    "\n",
    "# Visualize the molecule with Py3DMol before optimization\n",
    "View3DModel(glucose_mol)"
   ]
  },
  {
   "cell_type": "code",
   "execution_count": null,
   "id": "708012aa",
   "metadata": {},
   "outputs": [],
   "source": [
    "# Generate a MMFF force field object\n",
    "mol_properties = Chem.rdForceFieldHelpers.MMFFGetMoleculeProperties(glucose_mol)\n",
    "mmff = Chem.rdForceFieldHelpers.MMFFGetMoleculeForceField(glucose_mol, mol_properties)\n",
    "\n",
    "# Calculate the energy total energy before optimization\n",
    "total_energy = mmff.CalcEnergy()\n",
    "print(total_energy)"
   ]
  },
  {
   "cell_type": "code",
   "execution_count": null,
   "id": "0a6682d3",
   "metadata": {
    "scrolled": true
   },
   "outputs": [],
   "source": [
    "# Optimize the molecule\n",
    "opt_result = Chem.rdForceFieldHelpers.MMFFOptimizeMoleculeConfs(glucose_mol, maxIters=100)\n",
    "\n",
    "# Print out the optimized energy\n",
    "print(opt_result[-1][1])\n",
    "\n",
    "# Visualize the molecule with Py3DMol after optimization\n",
    "View3DModel(glucose_mol)"
   ]
  },
  {
   "cell_type": "markdown",
   "id": "df49d09c",
   "metadata": {},
   "source": [
    "If you want to log the energy value and geometry for each optimization step, you can run a loop:"
   ]
  },
  {
   "cell_type": "code",
   "execution_count": null,
   "id": "0a3f5cf1",
   "metadata": {},
   "outputs": [],
   "source": [
    "# Create an RDKit molecule from file\n",
    "glucose_mol = Chem.MolFromPDBFile('.\\\\structures\\\\glucose.pdb')\n",
    "\n",
    "# Prepare the molecule\n",
    "glucose_mol = Chem.AddHs(glucose_mol)\n",
    "AllChem.EmbedMolecule(glucose_mol)\n",
    "\n",
    "# Geometry optimization\n",
    "max_steps = 100\n",
    "steps = 5 # save geometry every 5 steps\n",
    "energy_values = []\n",
    "geometries = []\n",
    "for i in range(max_steps // steps):\n",
    "    # Optimize the molecule\n",
    "    opt_result = Chem.rdForceFieldHelpers.MMFFOptimizeMoleculeConfs(glucose_mol, maxIters=steps)\n",
    "\n",
    "    # Add the energy value to the list\n",
    "    energy_values.append(opt_result[-1][1])\n",
    "    \n",
    "    # Add the geometry to the list\n",
    "    geometries.append(Chem.MolToPDBBlock(glucose_mol))"
   ]
  },
  {
   "cell_type": "code",
   "execution_count": null,
   "id": "6cc3f668",
   "metadata": {},
   "outputs": [],
   "source": [
    "# Show energy plot\n",
    "import matplotlib.pyplot as plt\n",
    "\n",
    "plt.plot(np.array(range(len(energy_values)))*steps,energy_values)"
   ]
  },
  {
   "cell_type": "code",
   "execution_count": null,
   "id": "516c992b",
   "metadata": {},
   "outputs": [],
   "source": [
    "# Show geometry\n",
    "geo_idx = 10\n",
    "view = py3Dmol.view(width=400, height=300)\n",
    "view.addModel(geometries[geo_idx], \"molecule\", {'keepH': True})\n",
    "view.setBackgroundColor('white')\n",
    "view.setStyle({'stick': {'scale': 0.3}, 'sphere': {'scale': 0.3}})\n",
    "view.zoomTo()\n",
    "view.show()"
   ]
  },
  {
   "cell_type": "code",
   "execution_count": null,
   "id": "49657486",
   "metadata": {},
   "outputs": [],
   "source": [
    "# Define a function to generate a PDB trajectory\n",
    "def generate_pdb_trajectory(geometries):\n",
    "    # Initialize the trajectory string\n",
    "    trajectory = \"\"\n",
    "        \n",
    "    # Loop over the list of geometries and generate the corresponding PDB format\n",
    "    for idx in range(len(geometries)):            \n",
    "        # Add the records for atoms\n",
    "        trajectory += \"MODEL     {:4d}\\n\".format(idx + 1)\n",
    "        trajectory += geometries[idx]\n",
    "        trajectory += \"ENDMDL\\n\"\n",
    "\n",
    "    return trajectory"
   ]
  },
  {
   "cell_type": "code",
   "execution_count": null,
   "id": "68663271",
   "metadata": {},
   "outputs": [],
   "source": [
    "# Generate the PDB trajectory string\n",
    "pdb_trajectory = generate_pdb_trajectory(geometries)"
   ]
  },
  {
   "cell_type": "code",
   "execution_count": null,
   "id": "c3897b1a",
   "metadata": {},
   "outputs": [],
   "source": [
    "# Show the animation\n",
    "view = py3Dmol.view(width=400, height=300)\n",
    "view.addModelsAsFrames(pdb_trajectory, \"trajectory\", {'keepH': True})\n",
    "view.setBackgroundColor('white')\n",
    "view.setStyle({'stick': {'scale': 0.3}, 'sphere': {'scale': 0.3}})\n",
    "view.zoomTo()\n",
    "view.animate({'loop': \"forward\", 'interval': 10}) # Adjust the speed as needed (set 'interval' to a new value in millisecond)\n",
    "view.show()"
   ]
  },
  {
   "cell_type": "code",
   "execution_count": null,
   "id": "57be34d3-59e7-4f25-8e72-113b0a053f8e",
   "metadata": {},
   "outputs": [],
   "source": []
  }
 ],
 "metadata": {
  "kernelspec": {
   "display_name": "Python 3 (ipykernel)",
   "language": "python",
   "name": "python3"
  },
  "language_info": {
   "codemirror_mode": {
    "name": "ipython",
    "version": 3
   },
   "file_extension": ".py",
   "mimetype": "text/x-python",
   "name": "python",
   "nbconvert_exporter": "python",
   "pygments_lexer": "ipython3",
   "version": "3.11.7"
  },
  "toc": {
   "base_numbering": "",
   "nav_menu": {},
   "number_sections": false,
   "sideBar": true,
   "skip_h1_title": false,
   "title_cell": "Table of Contents",
   "title_sidebar": "Table of Contents",
   "toc_cell": false,
   "toc_position": {
    "height": "calc(100% - 180px)",
    "left": "10px",
    "top": "150px",
    "width": "203px"
   },
   "toc_section_display": true,
   "toc_window_display": true
  }
 },
 "nbformat": 4,
 "nbformat_minor": 5
}
