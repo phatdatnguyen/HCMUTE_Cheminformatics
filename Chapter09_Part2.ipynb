{
 "cells": [
  {
   "cell_type": "markdown",
   "id": "ce2d6e30",
   "metadata": {},
   "source": [
    "# Chapter 9: Analysis of Chemical Reactions"
   ]
  },
  {
   "cell_type": "markdown",
   "id": "295a0f8f",
   "metadata": {},
   "source": [
    "## 9.2. Reaction Mechanism Analysis"
   ]
  },
  {
   "cell_type": "markdown",
   "id": "7a326b8f",
   "metadata": {},
   "source": [
    "In the following section, we will investigate the mechanism of an $S_{N}2$ reaction between chloride and methyl bromide:"
   ]
  },
  {
   "cell_type": "markdown",
   "id": "4eb5538b",
   "metadata": {},
   "source": [
    "### 9.2.1. Calculation of Potential Energy of Reactants and Products"
   ]
  },
  {
   "cell_type": "code",
   "execution_count": null,
   "id": "7dc680d6",
   "metadata": {
    "tags": []
   },
   "outputs": [],
   "source": [
    "# Import modules\n",
    "import numpy as np\n",
    "import matplotlib.pyplot as plt\n",
    "from rdkit import Chem\n",
    "from rdkit.Chem import AllChem\n",
    "from utils import View3DModel, AddBonds, WriteXYZString, ReadXYZString, WritePDBTrajectory\n",
    "import psi4\n",
    "import py3Dmol\n",
    "import fortecubeview\n",
    "from tqdm import tqdm"
   ]
  },
  {
   "cell_type": "code",
   "execution_count": null,
   "id": "c00ee585",
   "metadata": {
    "scrolled": true,
    "tags": []
   },
   "outputs": [],
   "source": [
    "# Set the number of threads and memory limit\n",
    "psi4.set_num_threads(16)\n",
    "psi4.set_memory(16*1024*1024*1024) # 16 GB"
   ]
  },
  {
   "cell_type": "code",
   "execution_count": null,
   "id": "f7c89412",
   "metadata": {
    "tags": []
   },
   "outputs": [],
   "source": [
    "# Set calculation options\n",
    "psi4.set_options({\n",
    "    'BASIS': '6-31G*',\n",
    "    'SCF_TYPE': 'DF',\n",
    "    'REFERENCE': 'RHF'\n",
    "})"
   ]
  },
  {
   "cell_type": "markdown",
   "id": "6c3cbebe",
   "metadata": {},
   "source": [
    "First, we calculate the energy of compounds:"
   ]
  },
  {
   "cell_type": "code",
   "execution_count": null,
   "id": "89410102",
   "metadata": {
    "tags": []
   },
   "outputs": [],
   "source": [
    "# Define a function that calculate the potential energy of individual molecule\n",
    "def calculate_potential_energy(mol, charge, multiplicity, optimization=True):\n",
    "    # Write the geometry to XYZ string\n",
    "    xyz_string = WriteXYZString(mol, charge, multiplicity)\n",
    "\n",
    "    # Get the psi4 geometry\n",
    "    geometry = psi4.geometry(xyz_string)\n",
    "    \n",
    "    if optimization:\n",
    "        # Perform geometry optimization\n",
    "        energy = psi4.optimize('b3lyp', molecule=geometry)\n",
    "    else:\n",
    "        # Perform single-point calculation\n",
    "        energy = psi4.energy('b3lyp', molecule=geometry)\n",
    "    \n",
    "    return geometry, energy * psi4.constants.hartree2kcalmol"
   ]
  },
  {
   "cell_type": "code",
   "execution_count": null,
   "id": "5cfdb69a",
   "metadata": {
    "tags": []
   },
   "outputs": [],
   "source": [
    "# Create a molecule of the substrate (methyl bromide)\n",
    "substrate_mol = Chem.MolFromSmiles('CBr')\n",
    "\n",
    "# Prepare the molecule\n",
    "substrate_mol = Chem.AddHs(substrate_mol)\n",
    "AllChem.EmbedMolecule(substrate_mol, useRandomCoords=True)\n",
    "AllChem.UFFOptimizeMolecule(substrate_mol, maxIters=200)"
   ]
  },
  {
   "cell_type": "code",
   "execution_count": null,
   "id": "a766364e",
   "metadata": {
    "scrolled": true,
    "tags": []
   },
   "outputs": [],
   "source": [
    "# Create a molecule of the nucleophile (methoxide)\n",
    "nu_mol = Chem.MolFromSmiles('[Cl-]')\n",
    "\n",
    "# Prepare the molecule\n",
    "nu_mol = Chem.AddHs(nu_mol)\n",
    "AllChem.EmbedMolecule(nu_mol, useRandomCoords=True)\n",
    "AllChem.UFFOptimizeMolecule(nu_mol, maxIters=200)"
   ]
  },
  {
   "cell_type": "code",
   "execution_count": null,
   "id": "c01e98c2",
   "metadata": {
    "tags": []
   },
   "outputs": [],
   "source": [
    "# Create a molecule of the product (methyl chloride)\n",
    "product_mol = Chem.MolFromSmiles('CCl')\n",
    "\n",
    "# Prepare the molecule\n",
    "product_mol = Chem.AddHs(product_mol)\n",
    "AllChem.EmbedMolecule(product_mol, useRandomCoords=True)\n",
    "AllChem.UFFOptimizeMolecule(product_mol, maxIters=200)"
   ]
  },
  {
   "cell_type": "code",
   "execution_count": null,
   "id": "87064641",
   "metadata": {
    "tags": []
   },
   "outputs": [],
   "source": [
    "# Create a molecule of the leaving group (chloride)\n",
    "lg_mol = Chem.MolFromSmiles('[Br-]')\n",
    "\n",
    "# Prepare the molecule\n",
    "lg_mol = Chem.AddHs(lg_mol)\n",
    "AllChem.EmbedMolecule(lg_mol, useRandomCoords=True)\n",
    "AllChem.UFFOptimizeMolecule(lg_mol, maxIters=200)"
   ]
  },
  {
   "cell_type": "code",
   "execution_count": null,
   "id": "4e137353",
   "metadata": {
    "tags": []
   },
   "outputs": [],
   "source": [
    "# Calculate the potential energy of the substrate\n",
    "charge = 0\n",
    "multiplicity = 1\n",
    "substrate_geo, substrate_energy = calculate_potential_energy(substrate_mol, charge, multiplicity)\n",
    "print(substrate_energy)"
   ]
  },
  {
   "cell_type": "code",
   "execution_count": null,
   "id": "bf14d781",
   "metadata": {
    "tags": []
   },
   "outputs": [],
   "source": [
    "# View the optimized geometry\n",
    "substrate_mol_optimized = ReadXYZString(substrate_geo.save_string_xyz())\n",
    "View3DModel(substrate_mol_optimized)"
   ]
  },
  {
   "cell_type": "code",
   "execution_count": null,
   "id": "b8a8c18f",
   "metadata": {
    "scrolled": true,
    "tags": []
   },
   "outputs": [],
   "source": [
    "# Calculate the potential energy of the nucleophile\n",
    "charge = -1\n",
    "multiplicity = 1\n",
    "nu_geo, nu_energy = calculate_potential_energy(nu_mol, charge, multiplicity, False)\n",
    "print(nu_energy)"
   ]
  },
  {
   "cell_type": "code",
   "execution_count": null,
   "id": "35688e6b",
   "metadata": {
    "tags": []
   },
   "outputs": [],
   "source": [
    "# Calculate potential energy of the product\n",
    "charge = 0\n",
    "multiplicity = 1\n",
    "product_geo, product_energy = calculate_potential_energy(product_mol, charge, multiplicity)\n",
    "print(product_energy)"
   ]
  },
  {
   "cell_type": "code",
   "execution_count": null,
   "id": "aaab6ea6",
   "metadata": {
    "scrolled": true,
    "tags": []
   },
   "outputs": [],
   "source": [
    "# View the optimized geometry\n",
    "product_mol_optimized = ReadXYZString(product_geo.save_string_xyz())\n",
    "View3DModel(product_mol_optimized)"
   ]
  },
  {
   "cell_type": "code",
   "execution_count": null,
   "id": "6567db85",
   "metadata": {
    "tags": []
   },
   "outputs": [],
   "source": [
    "# Calculate potential energy of the leaving group\n",
    "charge = -1\n",
    "multiplicity = 1\n",
    "lg_geo, lg_energy = calculate_potential_energy(lg_mol, charge, multiplicity, optimization=False)\n",
    "print(lg_energy)"
   ]
  },
  {
   "cell_type": "markdown",
   "id": "2c06bb6f",
   "metadata": {},
   "source": [
    "Althought the potential energies of individual molecules were calculated, we should keep in mind that when molecule are close to each other, they can interact, leading the changes in potential energy. Therefore, we must combine them into one geometry and calculate the energy of that system:"
   ]
  },
  {
   "cell_type": "code",
   "execution_count": null,
   "id": "ca1597de",
   "metadata": {
    "tags": []
   },
   "outputs": [],
   "source": [
    "# Combine the substrate and the nucleophile into 1 molecule object\n",
    "substrate_nu_mol = Chem.CombineMols(substrate_mol, nu_mol)\n",
    "\n",
    "# Get the indices of atoms\n",
    "for atom in substrate_nu_mol.GetAtoms():\n",
    "    print([atom.GetSymbol(), atom.GetIdx()])"
   ]
  },
  {
   "cell_type": "code",
   "execution_count": null,
   "id": "71bf7787",
   "metadata": {
    "tags": []
   },
   "outputs": [],
   "source": [
    "# Make a copy to modify the molecule\n",
    "substrate_nu_mol_copy = Chem.RWMol(substrate_nu_mol)\n",
    "\n",
    "# Temporarily remove C-H bond and add C-Cl bond\n",
    "substrate_nu_mol_copy.RemoveBond(0, 2)\n",
    "substrate_nu_mol_copy.AddBond(0, 5)\n",
    "Chem.SanitizeMol(substrate_nu_mol_copy)\n",
    "\n",
    "# Align the Cl atom with the C-Br bond\n",
    "Chem.rdMolTransforms.SetAngleDeg(substrate_nu_mol_copy.GetConformer(), 1, 0, 5, 180)\n",
    "\n",
    "# Set the C-Cl bond length (~ 4 angstrom)\n",
    "Chem.rdMolTransforms.SetBondLength(substrate_nu_mol_copy.GetConformer(), 0, 5, 4)\n",
    "\n",
    "# Remove C-Cl bond and add C-H bond back\n",
    "substrate_nu_mol_copy.RemoveBond(0, 5)\n",
    "substrate_nu_mol_copy.AddBond(0, 2)\n",
    "Chem.SanitizeMol(substrate_nu_mol_copy)\n",
    "\n",
    "# Convert back to regular molecule object\n",
    "substrate_nu_mol = substrate_nu_mol_copy.GetMol()\n",
    "\n",
    "# View 3D model\n",
    "View3DModel(substrate_nu_mol)"
   ]
  },
  {
   "cell_type": "code",
   "execution_count": null,
   "id": "7fb83d79",
   "metadata": {
    "tags": []
   },
   "outputs": [],
   "source": [
    "# Write the geometry to XYZ string\n",
    "charge = -1\n",
    "multiplicity = 1\n",
    "xyz_string = WriteXYZString(substrate_nu_mol, charge, multiplicity)\n",
    "\n",
    "# Get the psi4 geometry\n",
    "substrate_nu_geo = psi4.geometry(xyz_string)\n",
    "\n",
    "# Optimize the geometry of the substrate and nucleophile\n",
    "substrate_nu_energy = psi4.optimize('b3lyp', molecule=substrate_nu_geo)\n",
    "substrate_nu_energy *= psi4.constants.hartree2kcalmol\n",
    "print(substrate_nu_energy)"
   ]
  },
  {
   "cell_type": "code",
   "execution_count": null,
   "id": "eeacd4ab",
   "metadata": {
    "tags": []
   },
   "outputs": [],
   "source": [
    "# View the optimized geometry\n",
    "View3DModel(ReadXYZString(substrate_nu_geo.save_string_xyz()))"
   ]
  },
  {
   "cell_type": "code",
   "execution_count": null,
   "id": "67fb6721",
   "metadata": {
    "tags": []
   },
   "outputs": [],
   "source": [
    "# Combine the product and the leaving group into 1 molecule object\n",
    "product_lg_mol = Chem.CombineMols(product_mol, lg_mol)\n",
    "\n",
    "# Get the indices of atoms\n",
    "for atom in product_lg_mol.GetAtoms():\n",
    "    print([atom.GetSymbol(), atom.GetIdx()])"
   ]
  },
  {
   "cell_type": "code",
   "execution_count": null,
   "id": "416aef59",
   "metadata": {
    "tags": []
   },
   "outputs": [],
   "source": [
    "# Make a copy to modify the molecule\n",
    "product_lg_mol_copy = Chem.RWMol(product_lg_mol)\n",
    "\n",
    "# Temporarily remove C-H bond and add C-Br bond\n",
    "product_lg_mol_copy.RemoveBond(0, 2)\n",
    "product_lg_mol_copy.AddBond(0, 5)\n",
    "Chem.SanitizeMol(product_lg_mol_copy)\n",
    "\n",
    "# Align the Br atom with the C-Cl bond\n",
    "Chem.rdMolTransforms.SetAngleDeg(product_lg_mol_copy.GetConformer(), 1, 0, 5, 180)\n",
    "\n",
    "# Set the C-Br bond length (~ 4 angstrom)\n",
    "Chem.rdMolTransforms.SetBondLength(product_lg_mol_copy.GetConformer(), 0, 5, 4)\n",
    "\n",
    "# Remove C-Br bond and add C-H bond back\n",
    "product_lg_mol_copy.RemoveBond(0, 5)\n",
    "product_lg_mol_copy.AddBond(0, 2)\n",
    "Chem.SanitizeMol(product_lg_mol_copy)\n",
    "\n",
    "# Convert back to regular molecule object\n",
    "product_lg_mol = product_lg_mol_copy.GetMol()\n",
    "\n",
    "# View 3D model\n",
    "View3DModel(product_lg_mol)"
   ]
  },
  {
   "cell_type": "code",
   "execution_count": null,
   "id": "5f655e00",
   "metadata": {
    "tags": []
   },
   "outputs": [],
   "source": [
    "# Write the geometry to XYZ string\n",
    "charge = -1\n",
    "multiplicity = 1\n",
    "xyz_string = WriteXYZString(product_lg_mol, charge, multiplicity)\n",
    "\n",
    "# Get the psi4 geometry\n",
    "product_lg_geo = psi4.geometry(xyz_string)\n",
    "\n",
    "# Optimize the geometry of the substrate and nucleophile\n",
    "product_lg_energy = psi4.optimize('b3lyp', molecule=product_lg_geo)\n",
    "product_lg_energy *= psi4.constants.hartree2kcalmol\n",
    "print(product_lg_energy)"
   ]
  },
  {
   "cell_type": "code",
   "execution_count": null,
   "id": "b6056bfa",
   "metadata": {
    "tags": []
   },
   "outputs": [],
   "source": [
    "# View the optimized geometry\n",
    "View3DModel(ReadXYZString(product_lg_geo.save_string_xyz()))"
   ]
  },
  {
   "cell_type": "markdown",
   "id": "0a176762",
   "metadata": {},
   "source": [
    "### 9.2.2. Calculation of Potential Energy of Transition State"
   ]
  },
  {
   "cell_type": "markdown",
   "id": "cbaa9c40",
   "metadata": {},
   "source": [
    "First, we have to guess the geometry of the transition state ($TS^{\\ddagger}$), we can do it using Avogadro or other software:"
   ]
  },
  {
   "cell_type": "markdown",
   "id": "73dbf674",
   "metadata": {},
   "source": [
    "For example, our initial guess of the $TS^{\\ddagger}$ is in the file `SN2_TS.xyz`."
   ]
  },
  {
   "cell_type": "code",
   "execution_count": null,
   "id": "23636bc3",
   "metadata": {
    "tags": []
   },
   "outputs": [],
   "source": [
    "# Load the geometry from the file\n",
    "ts_guess_mol = Chem.MolFromXYZFile('./structures/SN2_TS.xyz')\n",
    "ts_guess_mol = AddBonds(ts_guess_mol, 1.5)\n",
    "\n",
    "# View the initial guess\n",
    "View3DModel(ts_guess_mol)"
   ]
  },
  {
   "cell_type": "code",
   "execution_count": null,
   "id": "668697ee",
   "metadata": {
    "tags": []
   },
   "outputs": [],
   "source": [
    "# Find the indices of atoms\n",
    "for atom in ts_guess_mol.GetAtoms():\n",
    "    print([atom.GetSymbol(), atom.GetIdx()])"
   ]
  },
  {
   "cell_type": "code",
   "execution_count": null,
   "id": "0a6e4466",
   "metadata": {
    "tags": []
   },
   "outputs": [],
   "source": [
    "# Set the atom indices\n",
    "C_idx = 3\n",
    "Cl_idx = 4\n",
    "Br_idx = 5\n",
    "H1_idx = 0\n",
    "H2_idx = 1\n",
    "H3_idx = 2"
   ]
  },
  {
   "cell_type": "markdown",
   "id": "3d9fe955",
   "metadata": {},
   "source": [
    "Next, we optimize our guess geometry to the true $TS^{\\ddagger}$ geometry. A $TS^{\\ddagger}$ is a saddle point on the PES, therefore, it should have exactly one imaginary vibrational frequency. We will do a frequency analysis after geometry optimization to confirm."
   ]
  },
  {
   "cell_type": "code",
   "execution_count": null,
   "id": "c60d6963",
   "metadata": {
    "tags": []
   },
   "outputs": [],
   "source": [
    "# Generate the xyz string\n",
    "charge = -1\n",
    "multiplicity = 1\n",
    "xyz_string = WriteXYZString(ts_guess_mol, charge, multiplicity)\n",
    "\n",
    "# Get the psi4 geometry\n",
    "ts_geometry = psi4.geometry(xyz_string)"
   ]
  },
  {
   "cell_type": "code",
   "execution_count": null,
   "id": "86dbe545",
   "metadata": {
    "tags": []
   },
   "outputs": [],
   "source": [
    "# Set optimization parameters\n",
    "max_iters = 500\n",
    "psi4.set_options({'OPT_TYPE': 'TS'})\n",
    "psi4.set_options({'OPT_COORDINATES': 'CARTESIAN'})\n",
    "psi4.set_options({'FULL_HESS_EVERY': 0})\n",
    "psi4.set_options({'GEOM_MAXITER': max_iters})\n",
    "psi4.set_options({'G_CONVERGENCE': 'GAU_LOOSE'})"
   ]
  },
  {
   "cell_type": "code",
   "execution_count": null,
   "id": "e7c4f43c",
   "metadata": {
    "tags": []
   },
   "outputs": [],
   "source": [
    "# Freeze the position of atoms (optional)\n",
    "psi4.set_options({'FROZEN_CARTESIAN': f'{H1_idx + 1} xyz\\n{H2_idx + 1} xyz\\n{H3_idx + 1} xyz'}) # Free the 3 H atoms\n",
    "\n",
    "# Freeze the bond lengths (optional)\n",
    "psi4.set_options({'FROZEN_DISTANCE': ''})\n",
    "\n",
    "# Freeze the bond angles (optional)\n",
    "psi4.set_options({'FROZEN_BEND': ''})"
   ]
  },
  {
   "cell_type": "code",
   "execution_count": null,
   "id": "681ed8c4",
   "metadata": {
    "tags": []
   },
   "outputs": [],
   "source": [
    "# Run geometry optimization\n",
    "ts_energy, ts_history = psi4.optimize('b3lyp', molecule=ts_geometry, optking__geom_maxiter=max_iters, return_history=True)\n",
    "ts_energy *= psi4.constants.hartree2kcalmol\n",
    "print(ts_energy)"
   ]
  },
  {
   "cell_type": "code",
   "execution_count": null,
   "id": "215129fe",
   "metadata": {
    "tags": []
   },
   "outputs": [],
   "source": [
    "# Plot the energy diagram of the optimization process\n",
    "ts_energies = ts_history['energy'] \n",
    "ts_energies = np.array(ts_energies) * psi4.constants.hartree2kcalmol\n",
    "plt.plot(ts_energies)"
   ]
  },
  {
   "cell_type": "code",
   "execution_count": null,
   "id": "69a96503",
   "metadata": {
    "scrolled": true,
    "tags": []
   },
   "outputs": [],
   "source": [
    "# Get the optimized geometry as xyz string\n",
    "optimized_ts_xyz_string = ts_geometry.save_string_xyz()\n",
    "\n",
    "# Get optimized TS molecule\n",
    "ts_optimized_mol = ReadXYZString(optimized_ts_xyz_string)\n",
    "\n",
    "# View the 3D model\n",
    "View3DModel(ts_optimized_mol)"
   ]
  },
  {
   "cell_type": "code",
   "execution_count": null,
   "id": "ed7a2d9a",
   "metadata": {
    "tags": []
   },
   "outputs": [],
   "source": [
    "# You can also write the optimized TS geometry to a file\n",
    "xyz_file_name = 'SN2_TS_optimized.xyz'\n",
    "xyz_file = open(f'./structures/{xyz_file_name}', 'w')\n",
    "xyz_file.write(optimized_ts_xyz_string)\n",
    "xyz_file.close()"
   ]
  },
  {
   "cell_type": "code",
   "execution_count": null,
   "id": "74610440",
   "metadata": {
    "tags": []
   },
   "outputs": [],
   "source": [
    "# Load the optimized TS geometry from a file\n",
    "xyz_file_name = 'SN2_TS_optimized_gaussian.xyz'\n",
    "xyz_file = open(f'./structures/{xyz_file_name}', 'r')\n",
    "optimized_ts_xyz_string = xyz_file.read()\n",
    "xyz_file.close()\n",
    "\n",
    "# Get optimized TS molecule\n",
    "ts_optimized_mol = ReadXYZString(optimized_ts_xyz_string)\n",
    "\n",
    "# View the 3D model\n",
    "View3DModel(ts_optimized_mol)"
   ]
  },
  {
   "cell_type": "code",
   "execution_count": null,
   "id": "5810faa0",
   "metadata": {
    "tags": []
   },
   "outputs": [],
   "source": [
    "# Recalculate the potential energy of the TS\n",
    "ts_geometry = psi4.geometry(optimized_ts_xyz_string)\n",
    "ts_energy = psi4.energy('b3lyp', molecule=ts_geometry, return_wfn=True)\n",
    "ts_energy = ts_energy[0] * psi4.constants.hartree2kcalmol"
   ]
  },
  {
   "cell_type": "code",
   "execution_count": null,
   "id": "f3d005fb",
   "metadata": {
    "tags": []
   },
   "outputs": [],
   "source": [
    "# Run frequency analysis\n",
    "energy, wfn = psi4.frequencies('b3lyp', molecule=ts_geometry, return_wfn=True)"
   ]
  },
  {
   "cell_type": "code",
   "execution_count": null,
   "id": "d1366a1d",
   "metadata": {
    "tags": []
   },
   "outputs": [],
   "source": [
    "# Extract frequencies and intensities\n",
    "frequencies = wfn.frequencies().to_array()\n",
    "\n",
    "# Print out the vibrational frequencies to check for imaginary frequencies\n",
    "print(frequencies)"
   ]
  },
  {
   "cell_type": "markdown",
   "id": "b0f82472",
   "metadata": {},
   "source": [
    "### 9.2.3. Reaction Energy Diagram"
   ]
  },
  {
   "cell_type": "markdown",
   "id": "d6f1216c",
   "metadata": {},
   "source": [
    "Knowing the potential energy of the $TS^{\\ddagger}$, we can plot the energy diagram for this reaction:"
   ]
  },
  {
   "cell_type": "code",
   "execution_count": null,
   "id": "42aab6be",
   "metadata": {
    "tags": []
   },
   "outputs": [],
   "source": [
    "# Get the energy levels for reactants, TS, and products\n",
    "e_reactants_separate = substrate_energy + nu_energy\n",
    "e_reactants_close = substrate_nu_energy\n",
    "e_ts = ts_energy\n",
    "e_products_close = product_lg_energy\n",
    "e_products_separate = product_energy + lg_energy"
   ]
  },
  {
   "cell_type": "code",
   "execution_count": null,
   "id": "823a877e",
   "metadata": {
    "tags": []
   },
   "outputs": [],
   "source": [
    "# If we set e_reactants_close as the reference point (E = 0), we can calculate the relative energies\n",
    "e_reactants_separate -= e_reactants_close\n",
    "e_ts -= e_reactants_close\n",
    "e_products_close -= e_reactants_close\n",
    "e_products_separate -= e_reactants_close\n",
    "e_reactants_close = 0"
   ]
  },
  {
   "cell_type": "code",
   "execution_count": null,
   "id": "a566c5a8",
   "metadata": {
    "scrolled": true,
    "tags": []
   },
   "outputs": [],
   "source": [
    "# Create the plot\n",
    "plt.figure(figsize=(8, 6))\n",
    "\n",
    "# Plotting horizontal lines for each energy state\n",
    "plt.hlines(y=e_reactants_separate, xmin=0, xmax=0.4, color='blue', label='Reactants')\n",
    "plt.hlines(y=e_reactants_close, xmin=0.5, xmax=0.9, color='blue', label='Reactants')\n",
    "plt.hlines(y=e_ts, xmin=1, xmax=1.4, color='red', label='Transition State')\n",
    "plt.hlines(y=e_products_close, xmin=1.5, xmax=1.9, color='green', label='Products')\n",
    "plt.hlines(y=e_products_separate, xmin=2, xmax=2.4, color='green', label='Products')\n",
    "\n",
    "# Connecting the energy levels with dotted lines\n",
    "plt.plot([0.4, 0.5], [e_reactants_separate, e_reactants_close], 'k--')\n",
    "plt.plot([0.9, 1], [e_reactants_close, e_ts], 'k--')\n",
    "plt.plot([1.4, 1.5], [e_ts, e_products_close], 'k--')\n",
    "plt.plot([1.9, 2], [e_products_close, e_products_separate], 'k--')\n",
    "\n",
    "# Adding energy values on top of the lines\n",
    "plt.text(0.2, e_reactants_separate, f'{e_reactants_separate:.1f}', ha='center', va='bottom', color='blue')\n",
    "plt.text(0.7, e_reactants_close, f'{e_reactants_close:.1f}', ha='center', va='bottom', color='blue')\n",
    "plt.text(1.2, e_ts, f'{e_ts:.1f}', ha='center', va='bottom', color='red')\n",
    "plt.text(1.7, e_products_close, f'{e_products_close:.1f}', ha='center', va='bottom', color='green')\n",
    "plt.text(2.2, e_products_separate, f'{e_products_separate:.1f}', ha='center', va='bottom', color='green')\n",
    "\n",
    "# Adding titles, labels, and legend\n",
    "plt.title('Reaction Energy Profile')\n",
    "plt.ylabel('Relative Energy (kcal/mol)')\n",
    "plt.xticks([])\n",
    "plt.legend()\n",
    "\n",
    "# Show the plot\n",
    "plt.show()"
   ]
  },
  {
   "cell_type": "markdown",
   "id": "974a9090",
   "metadata": {},
   "source": [
    "From this diagram, we can also get the activation energy of this reaction:"
   ]
  },
  {
   "cell_type": "code",
   "execution_count": null,
   "id": "f6c68ea5",
   "metadata": {
    "tags": []
   },
   "outputs": [],
   "source": [
    "# Calculate activation energy\n",
    "E_a = ts_energy - substrate_nu_energy\n",
    "print(f'Activation energy: {E_a} kcal/mol')"
   ]
  },
  {
   "cell_type": "markdown",
   "id": "9b89dade",
   "metadata": {},
   "source": [
    "### 9.2.4. Intrinsic Reaction Coordinate (IRC) Scan"
   ]
  },
  {
   "cell_type": "markdown",
   "id": "66cc4ae1",
   "metadata": {},
   "source": [
    "An Intrinsic Reaction Coordinate (IRC) scan is a computational technique used in theoretical chemistry to map out the minimum energy pathway of a chemical reaction from reactants to products via the transition state. This concept is crucial for understanding how a reaction progresses at the molecular level."
   ]
  },
  {
   "cell_type": "markdown",
   "id": "673efd8a",
   "metadata": {},
   "source": [
    "In the section, we will perform IRC scan, both forward and backward, for this reaction:"
   ]
  },
  {
   "cell_type": "markdown",
   "id": "d57ed3a6",
   "metadata": {},
   "source": [
    "***Forward IRC Scan***"
   ]
  },
  {
   "cell_type": "code",
   "execution_count": null,
   "id": "8e30bf96",
   "metadata": {
    "tags": []
   },
   "outputs": [],
   "source": [
    "# Set optimization parameters\n",
    "max_iters = 100\n",
    "psi4.set_options({'OPT_TYPE': 'IRC'})\n",
    "psi4.set_options({'OPT_COORDINATES': 'CARTESIAN'})\n",
    "psi4.set_options({'GEOM_MAXITER': max_iters})\n",
    "psi4.set_options({'FULL_HESS_EVERY': 10})\n",
    "psi4.set_options({'MAX_DISP_G_CONVERGENCE': 6.0e-6, 'RMS_DISP_G_CONVERGENCE': 4.0e-6})"
   ]
  },
  {
   "cell_type": "code",
   "execution_count": null,
   "id": "45dec138",
   "metadata": {
    "tags": []
   },
   "outputs": [],
   "source": [
    "irc_forward_geometry = psi4.geometry(optimized_ts_xyz_string)\n",
    "\n",
    "# Run forward IRC scan\n",
    "psi4.set_options({'IRC_POINTS': 10})\n",
    "psi4.set_options({'IRC_DIRECTION': 'FORWARD'})\n",
    "irc_forward_energy, irc_forward_history = psi4.optimize('b3lyp', molecule=irc_forward_geometry, return_history=True)"
   ]
  },
  {
   "cell_type": "code",
   "execution_count": null,
   "id": "a5091103",
   "metadata": {
    "tags": []
   },
   "outputs": [],
   "source": [
    "# Plot the energy values of forward IRC scan\n",
    "irc_forward_energies = irc_forward_history['energy']\n",
    "plt.plot(irc_forward_energies)"
   ]
  },
  {
   "cell_type": "code",
   "execution_count": null,
   "id": "8b4f2946",
   "metadata": {
    "tags": []
   },
   "outputs": [],
   "source": [
    "# Get the list of coordinates\n",
    "irc_forward_coordinates_list = irc_forward_history['coordinates']\n",
    "\n",
    "# Get the number of conformers\n",
    "print(len(irc_forward_coordinates_list))"
   ]
  },
  {
   "cell_type": "code",
   "execution_count": null,
   "id": "8e77f2ea",
   "metadata": {
    "tags": []
   },
   "outputs": [],
   "source": [
    "# Generate the PDB trajectory string\n",
    "pdb_trajectory = WritePDBTrajectory(ts_optimized_mol, irc_forward_coordinates_list, True, 2.5)"
   ]
  },
  {
   "cell_type": "code",
   "execution_count": null,
   "id": "b2d1d37b",
   "metadata": {
    "tags": []
   },
   "outputs": [],
   "source": [
    "# Show the animation\n",
    "view = py3Dmol.view(width=400, height=300)\n",
    "view.addModelsAsFrames(pdb_trajectory, \"trajectory\", {'keepH': True})\n",
    "view.setBackgroundColor('white')\n",
    "view.setStyle({'stick': {'scale': 0.3}, 'sphere': {'scale': 0.3}})\n",
    "view.zoomTo()\n",
    "view.animate({'loop': \"forward\", 'interval': 200}) # Adjust the speed as needed (set 'interval' to a new value in millisecond)\n",
    "view.show()"
   ]
  },
  {
   "cell_type": "markdown",
   "id": "48f84be3",
   "metadata": {},
   "source": [
    "***Backward IRC Scan***"
   ]
  },
  {
   "cell_type": "code",
   "execution_count": null,
   "id": "b74a765e",
   "metadata": {
    "tags": []
   },
   "outputs": [],
   "source": [
    "irc_backward_geometry = psi4.geometry(optimized_ts_xyz_string)\n",
    "\n",
    "# Run backward IRC scan\n",
    "psi4.set_options({'IRC_POINTS': 10})\n",
    "psi4.set_options({'IRC_DIRECTION': 'BACKWARD'})\n",
    "irc_backward_energy, irc_backward_history = psi4.optimize('b3lyp', molecule=irc_backward_geometry, return_history=True)"
   ]
  },
  {
   "cell_type": "code",
   "execution_count": null,
   "id": "c5edfad9",
   "metadata": {
    "tags": []
   },
   "outputs": [],
   "source": [
    "# Plot the energy values of backward IRC scan\n",
    "irc_backward_energies = irc_backward_history['energy']\n",
    "plt.plot(irc_backward_energies)"
   ]
  },
  {
   "cell_type": "code",
   "execution_count": null,
   "id": "c2571ee7",
   "metadata": {
    "tags": []
   },
   "outputs": [],
   "source": [
    "# Get the list of coordinates\n",
    "irc_backward_coordinates_list = irc_backward_history['coordinates']\n",
    "\n",
    "# Get the number of conformers\n",
    "print(len(irc_backward_coordinates_list))"
   ]
  },
  {
   "cell_type": "code",
   "execution_count": null,
   "id": "6d8c2e33",
   "metadata": {
    "tags": []
   },
   "outputs": [],
   "source": [
    "# Generate the PDB trajectory string\n",
    "pdb_trajectory = WritePDBTrajectory(ts_optimized_mol, irc_backward_coordinates_list, True, 2.5)"
   ]
  },
  {
   "cell_type": "code",
   "execution_count": null,
   "id": "8de8f556",
   "metadata": {
    "tags": []
   },
   "outputs": [],
   "source": [
    "# Show the animation\n",
    "view = py3Dmol.view(width=400, height=300)\n",
    "view.addModelsAsFrames(pdb_trajectory, \"trajectory\", {'keepH': True})\n",
    "view.setBackgroundColor('white')\n",
    "view.setStyle({'stick': {'scale': 0.3}, 'sphere': {'scale': 0.3}})\n",
    "view.zoomTo()\n",
    "view.animate({'loop': \"forward\", 'interval': 200}) # Adjust the speed as needed (set 'interval' to a new value in millisecond)\n",
    "view.show()"
   ]
  },
  {
   "cell_type": "code",
   "execution_count": null,
   "id": "ef1409bd",
   "metadata": {},
   "outputs": [],
   "source": []
  }
 ],
 "metadata": {
  "kernelspec": {
   "display_name": "Python 3 (ipykernel)",
   "language": "python",
   "name": "python3"
  },
  "language_info": {
   "codemirror_mode": {
    "name": "ipython",
    "version": 3
   },
   "file_extension": ".py",
   "mimetype": "text/x-python",
   "name": "python",
   "nbconvert_exporter": "python",
   "pygments_lexer": "ipython3",
   "version": "3.10.11"
  },
  "toc": {
   "base_numbering": "",
   "nav_menu": {},
   "number_sections": false,
   "sideBar": true,
   "skip_h1_title": false,
   "title_cell": "Table of Contents",
   "title_sidebar": "Table of Contents",
   "toc_cell": false,
   "toc_position": {
    "height": "calc(100% - 180px)",
    "left": "10px",
    "top": "150px",
    "width": "203px"
   },
   "toc_section_display": true,
   "toc_window_display": true
  }
 },
 "nbformat": 4,
 "nbformat_minor": 5
}
