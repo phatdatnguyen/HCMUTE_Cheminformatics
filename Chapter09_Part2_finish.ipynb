{
 "cells": [
  {
   "cell_type": "markdown",
   "id": "ce2d6e30",
   "metadata": {},
   "source": [
    "# Chapter 9: Analysis of Chemical Reactions"
   ]
  },
  {
   "cell_type": "markdown",
   "id": "295a0f8f",
   "metadata": {},
   "source": [
    "## 9.2. Reaction Mechanism Analysis"
   ]
  },
  {
   "cell_type": "markdown",
   "id": "7a326b8f",
   "metadata": {},
   "source": [
    "In the following section, we will investigate the mechanism of an $S_{N}2$ reaction between chloride and methyl bromide:"
   ]
  },
  {
   "cell_type": "markdown",
   "id": "4eb5538b",
   "metadata": {},
   "source": [
    "### 9.2.1. Calculation of Potential Energy of Reactants and Products"
   ]
  },
  {
   "cell_type": "code",
   "execution_count": 1,
   "id": "7dc680d6",
   "metadata": {
    "tags": []
   },
   "outputs": [],
   "source": [
    "# Import modules\n",
    "import numpy as np\n",
    "import matplotlib.pyplot as plt\n",
    "from rdkit import Chem\n",
    "from rdkit.Chem import AllChem\n",
    "from utils import View3DModel, AddBonds, WriteXYZString, ReadXYZString, WritePDBTrajectory\n",
    "import psi4\n",
    "import py3Dmol\n",
    "import fortecubeview\n",
    "from tqdm import tqdm"
   ]
  },
  {
   "cell_type": "code",
   "execution_count": 2,
   "id": "c00ee585",
   "metadata": {
    "scrolled": true,
    "tags": []
   },
   "outputs": [
    {
     "data": {
      "text/plain": [
       "17179869184"
      ]
     },
     "execution_count": 2,
     "metadata": {},
     "output_type": "execute_result"
    }
   ],
   "source": [
    "# Set the number of threads and memory limit\n",
    "psi4.set_num_threads(16)\n",
    "psi4.set_memory(16*1024*1024*1024) # 16 GB"
   ]
  },
  {
   "cell_type": "code",
   "execution_count": 3,
   "id": "f7c89412",
   "metadata": {
    "tags": []
   },
   "outputs": [],
   "source": [
    "# Set calculation options\n",
    "psi4.set_options({\n",
    "    'BASIS': '6-31G*',\n",
    "    'SCF_TYPE': 'DF',\n",
    "    'REFERENCE': 'RHF'\n",
    "})"
   ]
  },
  {
   "cell_type": "markdown",
   "id": "6c3cbebe",
   "metadata": {},
   "source": [
    "First, we calculate the energy of compounds:"
   ]
  },
  {
   "cell_type": "code",
   "execution_count": 4,
   "id": "89410102",
   "metadata": {
    "tags": []
   },
   "outputs": [],
   "source": [
    "# Define a function that calculate the potential energy of individual molecule\n",
    "def calculate_potential_energy(mol, charge, multiplicity, optimization=True):\n",
    "    # Write the geometry to XYZ string\n",
    "    xyz_string = WriteXYZString(mol, charge, multiplicity)\n",
    "\n",
    "    # Get the psi4 geometry\n",
    "    geometry = psi4.geometry(xyz_string)\n",
    "    \n",
    "    if optimization:\n",
    "        # Perform geometry optimization\n",
    "        energy = psi4.optimize('b3lyp', molecule=geometry)\n",
    "    else:\n",
    "        # Perform single-point calculation\n",
    "        energy = psi4.energy('b3lyp', molecule=geometry)\n",
    "    \n",
    "    return geometry, energy * psi4.constants.hartree2kcalmol"
   ]
  },
  {
   "cell_type": "code",
   "execution_count": 5,
   "id": "5cfdb69a",
   "metadata": {
    "tags": []
   },
   "outputs": [
    {
     "data": {
      "text/plain": [
       "0"
      ]
     },
     "execution_count": 5,
     "metadata": {},
     "output_type": "execute_result"
    }
   ],
   "source": [
    "# Create a molecule of the substrate (methyl bromide)\n",
    "substrate_mol = Chem.MolFromSmiles('CBr')\n",
    "\n",
    "# Prepare the molecule\n",
    "substrate_mol = Chem.AddHs(substrate_mol)\n",
    "AllChem.EmbedMolecule(substrate_mol, useRandomCoords=True)\n",
    "AllChem.UFFOptimizeMolecule(substrate_mol, maxIters=200)"
   ]
  },
  {
   "cell_type": "code",
   "execution_count": 6,
   "id": "a766364e",
   "metadata": {
    "scrolled": true,
    "tags": []
   },
   "outputs": [
    {
     "data": {
      "text/plain": [
       "0"
      ]
     },
     "execution_count": 6,
     "metadata": {},
     "output_type": "execute_result"
    }
   ],
   "source": [
    "# Create a molecule of the nucleophile (methoxide)\n",
    "nu_mol = Chem.MolFromSmiles('[Cl-]')\n",
    "\n",
    "# Prepare the molecule\n",
    "nu_mol = Chem.AddHs(nu_mol)\n",
    "AllChem.EmbedMolecule(nu_mol, useRandomCoords=True)\n",
    "AllChem.UFFOptimizeMolecule(nu_mol, maxIters=200)"
   ]
  },
  {
   "cell_type": "code",
   "execution_count": 7,
   "id": "c01e98c2",
   "metadata": {
    "tags": []
   },
   "outputs": [
    {
     "data": {
      "text/plain": [
       "0"
      ]
     },
     "execution_count": 7,
     "metadata": {},
     "output_type": "execute_result"
    }
   ],
   "source": [
    "# Create a molecule of the product (methyl chloride)\n",
    "product_mol = Chem.MolFromSmiles('CCl')\n",
    "\n",
    "# Prepare the molecule\n",
    "product_mol = Chem.AddHs(product_mol)\n",
    "AllChem.EmbedMolecule(product_mol, useRandomCoords=True)\n",
    "AllChem.UFFOptimizeMolecule(product_mol, maxIters=200)"
   ]
  },
  {
   "cell_type": "code",
   "execution_count": 8,
   "id": "87064641",
   "metadata": {
    "tags": []
   },
   "outputs": [
    {
     "data": {
      "text/plain": [
       "0"
      ]
     },
     "execution_count": 8,
     "metadata": {},
     "output_type": "execute_result"
    }
   ],
   "source": [
    "# Create a molecule of the leaving group (chloride)\n",
    "lg_mol = Chem.MolFromSmiles('[Br-]')\n",
    "\n",
    "# Prepare the molecule\n",
    "lg_mol = Chem.AddHs(lg_mol)\n",
    "AllChem.EmbedMolecule(lg_mol, useRandomCoords=True)\n",
    "AllChem.UFFOptimizeMolecule(lg_mol, maxIters=200)"
   ]
  },
  {
   "cell_type": "code",
   "execution_count": 9,
   "id": "4e137353",
   "metadata": {
    "tags": []
   },
   "outputs": [
    {
     "name": "stderr",
     "output_type": "stream",
     "text": [
      "\tPrevious geometry is closer to target in internal coordinates, so using that one.\n",
      "\n",
      "\tBest geometry has RMS(Delta(q)) = 4.17e-07\n",
      "\n"
     ]
    },
    {
     "name": "stdout",
     "output_type": "stream",
     "text": [
      "Optimizer: Optimization complete!\n",
      "-1640097.1768382087\n"
     ]
    }
   ],
   "source": [
    "# Calculate the potential energy of the substrate\n",
    "charge = 0\n",
    "multiplicity = 1\n",
    "substrate_geo, substrate_energy = calculate_potential_energy(substrate_mol, charge, multiplicity)\n",
    "print(substrate_energy)"
   ]
  },
  {
   "cell_type": "code",
   "execution_count": 10,
   "id": "bf14d781",
   "metadata": {
    "tags": []
   },
   "outputs": [
    {
     "data": {
      "application/3dmoljs_load.v0": "<div id=\"3dmolviewer_17175018104826386\"  style=\"position: relative; width: 800px; height: 400px;\">\n        <p id=\"3dmolwarning_17175018104826386\" style=\"background-color:#ffcccc;color:black\">3Dmol.js failed to load for some reason.  Please check your browser console for error messages.<br></p>\n        </div>\n<script>\n\nvar loadScriptAsync = function(uri){\n  return new Promise((resolve, reject) => {\n    //this is to ignore the existence of requirejs amd\n    var savedexports, savedmodule;\n    if (typeof exports !== 'undefined') savedexports = exports;\n    else exports = {}\n    if (typeof module !== 'undefined') savedmodule = module;\n    else module = {}\n\n    var tag = document.createElement('script');\n    tag.src = uri;\n    tag.async = true;\n    tag.onload = () => {\n        exports = savedexports;\n        module = savedmodule;\n        resolve();\n    };\n  var firstScriptTag = document.getElementsByTagName('script')[0];\n  firstScriptTag.parentNode.insertBefore(tag, firstScriptTag);\n});\n};\n\nif(typeof $3Dmolpromise === 'undefined') {\n$3Dmolpromise = null;\n  $3Dmolpromise = loadScriptAsync('https://cdnjs.cloudflare.com/ajax/libs/3Dmol/2.1.0/3Dmol-min.js');\n}\n\nvar viewer_17175018104826386 = null;\nvar warn = document.getElementById(\"3dmolwarning_17175018104826386\");\nif(warn) {\n    warn.parentNode.removeChild(warn);\n}\n$3Dmolpromise.then(function() {\nviewer_17175018104826386 = $3Dmol.createViewer(document.getElementById(\"3dmolviewer_17175018104826386\"),{backgroundColor:\"white\"});\nviewer_17175018104826386.zoomTo();\n\tviewer_17175018104826386.addModel(\"\\n     RDKit          3D\\n\\n  5  4  0  0  0  0  0  0  0  0999 V2000\\n    0.0302   -1.5768    0.4565 C   0  0  0  0  0  0  0  0  0  0  0  0\\n   -0.0060    0.3124   -0.0904 Br  0  0  0  0  0  0  0  0  0  0  0  0\\n   -0.6723   -1.6984    1.2791 H   0  0  0  0  0  0  0  0  0  0  0  0\\n   -0.2644   -2.1773   -0.4023 H   0  0  0  0  0  0  0  0  0  0  0  0\\n    1.0455   -1.8129    0.7700 H   0  0  0  0  0  0  0  0  0  0  0  0\\n  1  2  1  0\\n  1  3  1  0\\n  1  4  1  0\\n  1  5  1  0\\nM  END\\n\",\"molecule\",{\"keepH\": true});\n\tviewer_17175018104826386.setBackgroundColor(\"white\");\n\tviewer_17175018104826386.setStyle({\"stick\": {\"scale\": 0.3}, \"sphere\": {\"scale\": 0.3}});\n\tviewer_17175018104826386.zoomTo();\nviewer_17175018104826386.render();\n});\n</script>",
      "text/html": [
       "<div id=\"3dmolviewer_17175018104826386\"  style=\"position: relative; width: 800px; height: 400px;\">\n",
       "        <p id=\"3dmolwarning_17175018104826386\" style=\"background-color:#ffcccc;color:black\">3Dmol.js failed to load for some reason.  Please check your browser console for error messages.<br></p>\n",
       "        </div>\n",
       "<script>\n",
       "\n",
       "var loadScriptAsync = function(uri){\n",
       "  return new Promise((resolve, reject) => {\n",
       "    //this is to ignore the existence of requirejs amd\n",
       "    var savedexports, savedmodule;\n",
       "    if (typeof exports !== 'undefined') savedexports = exports;\n",
       "    else exports = {}\n",
       "    if (typeof module !== 'undefined') savedmodule = module;\n",
       "    else module = {}\n",
       "\n",
       "    var tag = document.createElement('script');\n",
       "    tag.src = uri;\n",
       "    tag.async = true;\n",
       "    tag.onload = () => {\n",
       "        exports = savedexports;\n",
       "        module = savedmodule;\n",
       "        resolve();\n",
       "    };\n",
       "  var firstScriptTag = document.getElementsByTagName('script')[0];\n",
       "  firstScriptTag.parentNode.insertBefore(tag, firstScriptTag);\n",
       "});\n",
       "};\n",
       "\n",
       "if(typeof $3Dmolpromise === 'undefined') {\n",
       "$3Dmolpromise = null;\n",
       "  $3Dmolpromise = loadScriptAsync('https://cdnjs.cloudflare.com/ajax/libs/3Dmol/2.1.0/3Dmol-min.js');\n",
       "}\n",
       "\n",
       "var viewer_17175018104826386 = null;\n",
       "var warn = document.getElementById(\"3dmolwarning_17175018104826386\");\n",
       "if(warn) {\n",
       "    warn.parentNode.removeChild(warn);\n",
       "}\n",
       "$3Dmolpromise.then(function() {\n",
       "viewer_17175018104826386 = $3Dmol.createViewer(document.getElementById(\"3dmolviewer_17175018104826386\"),{backgroundColor:\"white\"});\n",
       "viewer_17175018104826386.zoomTo();\n",
       "\tviewer_17175018104826386.addModel(\"\\n     RDKit          3D\\n\\n  5  4  0  0  0  0  0  0  0  0999 V2000\\n    0.0302   -1.5768    0.4565 C   0  0  0  0  0  0  0  0  0  0  0  0\\n   -0.0060    0.3124   -0.0904 Br  0  0  0  0  0  0  0  0  0  0  0  0\\n   -0.6723   -1.6984    1.2791 H   0  0  0  0  0  0  0  0  0  0  0  0\\n   -0.2644   -2.1773   -0.4023 H   0  0  0  0  0  0  0  0  0  0  0  0\\n    1.0455   -1.8129    0.7700 H   0  0  0  0  0  0  0  0  0  0  0  0\\n  1  2  1  0\\n  1  3  1  0\\n  1  4  1  0\\n  1  5  1  0\\nM  END\\n\",\"molecule\",{\"keepH\": true});\n",
       "\tviewer_17175018104826386.setBackgroundColor(\"white\");\n",
       "\tviewer_17175018104826386.setStyle({\"stick\": {\"scale\": 0.3}, \"sphere\": {\"scale\": 0.3}});\n",
       "\tviewer_17175018104826386.zoomTo();\n",
       "viewer_17175018104826386.render();\n",
       "});\n",
       "</script>"
      ]
     },
     "metadata": {},
     "output_type": "display_data"
    }
   ],
   "source": [
    "# View the optimized geometry\n",
    "substrate_mol_optimized = ReadXYZString(substrate_geo.save_string_xyz())\n",
    "View3DModel(substrate_mol_optimized)"
   ]
  },
  {
   "cell_type": "code",
   "execution_count": 11,
   "id": "b8a8c18f",
   "metadata": {
    "scrolled": true,
    "tags": []
   },
   "outputs": [
    {
     "name": "stdout",
     "output_type": "stream",
     "text": [
      "-288812.63745103026\n"
     ]
    }
   ],
   "source": [
    "# Calculate the potential energy of the nucleophile\n",
    "charge = -1\n",
    "multiplicity = 1\n",
    "nu_geo, nu_energy = calculate_potential_energy(nu_mol, charge, multiplicity, False)\n",
    "print(nu_energy)"
   ]
  },
  {
   "cell_type": "code",
   "execution_count": 12,
   "id": "35688e6b",
   "metadata": {
    "tags": []
   },
   "outputs": [
    {
     "name": "stderr",
     "output_type": "stream",
     "text": [
      "\tPrevious geometry is closer to target in internal coordinates, so using that one.\n",
      "\n",
      "\tBest geometry has RMS(Delta(q)) = 2.92e-07\n",
      "\n"
     ]
    },
    {
     "name": "stdout",
     "output_type": "stream",
     "text": [
      "Optimizer: Optimization complete!\n",
      "-313822.86577274796\n"
     ]
    }
   ],
   "source": [
    "# Calculate potential energy of the product\n",
    "charge = 0\n",
    "multiplicity = 1\n",
    "product_geo, product_energy = calculate_potential_energy(product_mol, charge, multiplicity)\n",
    "print(product_energy)"
   ]
  },
  {
   "cell_type": "code",
   "execution_count": 13,
   "id": "aaab6ea6",
   "metadata": {
    "scrolled": true,
    "tags": []
   },
   "outputs": [
    {
     "data": {
      "application/3dmoljs_load.v0": "<div id=\"3dmolviewer_17175018171435578\"  style=\"position: relative; width: 800px; height: 400px;\">\n        <p id=\"3dmolwarning_17175018171435578\" style=\"background-color:#ffcccc;color:black\">3Dmol.js failed to load for some reason.  Please check your browser console for error messages.<br></p>\n        </div>\n<script>\n\nvar loadScriptAsync = function(uri){\n  return new Promise((resolve, reject) => {\n    //this is to ignore the existence of requirejs amd\n    var savedexports, savedmodule;\n    if (typeof exports !== 'undefined') savedexports = exports;\n    else exports = {}\n    if (typeof module !== 'undefined') savedmodule = module;\n    else module = {}\n\n    var tag = document.createElement('script');\n    tag.src = uri;\n    tag.async = true;\n    tag.onload = () => {\n        exports = savedexports;\n        module = savedmodule;\n        resolve();\n    };\n  var firstScriptTag = document.getElementsByTagName('script')[0];\n  firstScriptTag.parentNode.insertBefore(tag, firstScriptTag);\n});\n};\n\nif(typeof $3Dmolpromise === 'undefined') {\n$3Dmolpromise = null;\n  $3Dmolpromise = loadScriptAsync('https://cdnjs.cloudflare.com/ajax/libs/3Dmol/2.1.0/3Dmol-min.js');\n}\n\nvar viewer_17175018171435578 = null;\nvar warn = document.getElementById(\"3dmolwarning_17175018171435578\");\nif(warn) {\n    warn.parentNode.removeChild(warn);\n}\n$3Dmolpromise.then(function() {\nviewer_17175018171435578 = $3Dmol.createViewer(document.getElementById(\"3dmolviewer_17175018171435578\"),{backgroundColor:\"white\"});\nviewer_17175018171435578.zoomTo();\n\tviewer_17175018171435578.addModel(\"\\n     RDKit          3D\\n\\n  5  4  0  0  0  0  0  0  0  0999 V2000\\n    1.2070   -0.0725    0.2774 C   0  0  0  0  0  0  0  0  0  0  0  0\\n   -0.5477    0.0329   -0.1259 Cl  0  0  0  0  0  0  0  0  0  0  0  0\\n    1.3592   -0.9247    0.9399 H   0  0  0  0  0  0  0  0  0  0  0  0\\n    1.7674   -0.2055   -0.6482 H   0  0  0  0  0  0  0  0  0  0  0  0\\n    1.5044    0.8520    0.7726 H   0  0  0  0  0  0  0  0  0  0  0  0\\n  1  2  1  0\\n  1  3  1  0\\n  1  4  1  0\\n  1  5  1  0\\nM  END\\n\",\"molecule\",{\"keepH\": true});\n\tviewer_17175018171435578.setBackgroundColor(\"white\");\n\tviewer_17175018171435578.setStyle({\"stick\": {\"scale\": 0.3}, \"sphere\": {\"scale\": 0.3}});\n\tviewer_17175018171435578.zoomTo();\nviewer_17175018171435578.render();\n});\n</script>",
      "text/html": [
       "<div id=\"3dmolviewer_17175018171435578\"  style=\"position: relative; width: 800px; height: 400px;\">\n",
       "        <p id=\"3dmolwarning_17175018171435578\" style=\"background-color:#ffcccc;color:black\">3Dmol.js failed to load for some reason.  Please check your browser console for error messages.<br></p>\n",
       "        </div>\n",
       "<script>\n",
       "\n",
       "var loadScriptAsync = function(uri){\n",
       "  return new Promise((resolve, reject) => {\n",
       "    //this is to ignore the existence of requirejs amd\n",
       "    var savedexports, savedmodule;\n",
       "    if (typeof exports !== 'undefined') savedexports = exports;\n",
       "    else exports = {}\n",
       "    if (typeof module !== 'undefined') savedmodule = module;\n",
       "    else module = {}\n",
       "\n",
       "    var tag = document.createElement('script');\n",
       "    tag.src = uri;\n",
       "    tag.async = true;\n",
       "    tag.onload = () => {\n",
       "        exports = savedexports;\n",
       "        module = savedmodule;\n",
       "        resolve();\n",
       "    };\n",
       "  var firstScriptTag = document.getElementsByTagName('script')[0];\n",
       "  firstScriptTag.parentNode.insertBefore(tag, firstScriptTag);\n",
       "});\n",
       "};\n",
       "\n",
       "if(typeof $3Dmolpromise === 'undefined') {\n",
       "$3Dmolpromise = null;\n",
       "  $3Dmolpromise = loadScriptAsync('https://cdnjs.cloudflare.com/ajax/libs/3Dmol/2.1.0/3Dmol-min.js');\n",
       "}\n",
       "\n",
       "var viewer_17175018171435578 = null;\n",
       "var warn = document.getElementById(\"3dmolwarning_17175018171435578\");\n",
       "if(warn) {\n",
       "    warn.parentNode.removeChild(warn);\n",
       "}\n",
       "$3Dmolpromise.then(function() {\n",
       "viewer_17175018171435578 = $3Dmol.createViewer(document.getElementById(\"3dmolviewer_17175018171435578\"),{backgroundColor:\"white\"});\n",
       "viewer_17175018171435578.zoomTo();\n",
       "\tviewer_17175018171435578.addModel(\"\\n     RDKit          3D\\n\\n  5  4  0  0  0  0  0  0  0  0999 V2000\\n    1.2070   -0.0725    0.2774 C   0  0  0  0  0  0  0  0  0  0  0  0\\n   -0.5477    0.0329   -0.1259 Cl  0  0  0  0  0  0  0  0  0  0  0  0\\n    1.3592   -0.9247    0.9399 H   0  0  0  0  0  0  0  0  0  0  0  0\\n    1.7674   -0.2055   -0.6482 H   0  0  0  0  0  0  0  0  0  0  0  0\\n    1.5044    0.8520    0.7726 H   0  0  0  0  0  0  0  0  0  0  0  0\\n  1  2  1  0\\n  1  3  1  0\\n  1  4  1  0\\n  1  5  1  0\\nM  END\\n\",\"molecule\",{\"keepH\": true});\n",
       "\tviewer_17175018171435578.setBackgroundColor(\"white\");\n",
       "\tviewer_17175018171435578.setStyle({\"stick\": {\"scale\": 0.3}, \"sphere\": {\"scale\": 0.3}});\n",
       "\tviewer_17175018171435578.zoomTo();\n",
       "viewer_17175018171435578.render();\n",
       "});\n",
       "</script>"
      ]
     },
     "metadata": {},
     "output_type": "display_data"
    }
   ],
   "source": [
    "# View the optimized geometry\n",
    "product_mol_optimized = ReadXYZString(product_geo.save_string_xyz())\n",
    "View3DModel(product_mol_optimized)"
   ]
  },
  {
   "cell_type": "code",
   "execution_count": 14,
   "id": "6567db85",
   "metadata": {
    "tags": []
   },
   "outputs": [
    {
     "name": "stdout",
     "output_type": "stream",
     "text": [
      "-1615099.0703239436\n"
     ]
    }
   ],
   "source": [
    "# Calculate potential energy of the leaving group\n",
    "charge = -1\n",
    "multiplicity = 1\n",
    "lg_geo, lg_energy = calculate_potential_energy(lg_mol, charge, multiplicity, optimization=False)\n",
    "print(lg_energy)"
   ]
  },
  {
   "cell_type": "markdown",
   "id": "2c06bb6f",
   "metadata": {},
   "source": [
    "Althought the potential energies of individual molecules were calculated, we should keep in mind that when molecule are close to each other, they can interact, leading the changes in potential energy. Therefore, we must combine them into one geometry and calculate the energy of that system:"
   ]
  },
  {
   "cell_type": "code",
   "execution_count": 15,
   "id": "ca1597de",
   "metadata": {
    "tags": []
   },
   "outputs": [
    {
     "name": "stdout",
     "output_type": "stream",
     "text": [
      "['C', 0]\n",
      "['Br', 1]\n",
      "['H', 2]\n",
      "['H', 3]\n",
      "['H', 4]\n",
      "['Cl', 5]\n"
     ]
    }
   ],
   "source": [
    "# Combine the substrate and the nucleophile into 1 molecule object\n",
    "substrate_nu_mol = Chem.CombineMols(substrate_mol, nu_mol)\n",
    "\n",
    "# Get the indices of atoms\n",
    "for atom in substrate_nu_mol.GetAtoms():\n",
    "    print([atom.GetSymbol(), atom.GetIdx()])"
   ]
  },
  {
   "cell_type": "code",
   "execution_count": 16,
   "id": "71bf7787",
   "metadata": {
    "tags": []
   },
   "outputs": [
    {
     "data": {
      "application/3dmoljs_load.v0": "<div id=\"3dmolviewer_17175018175591457\"  style=\"position: relative; width: 800px; height: 400px;\">\n        <p id=\"3dmolwarning_17175018175591457\" style=\"background-color:#ffcccc;color:black\">3Dmol.js failed to load for some reason.  Please check your browser console for error messages.<br></p>\n        </div>\n<script>\n\nvar loadScriptAsync = function(uri){\n  return new Promise((resolve, reject) => {\n    //this is to ignore the existence of requirejs amd\n    var savedexports, savedmodule;\n    if (typeof exports !== 'undefined') savedexports = exports;\n    else exports = {}\n    if (typeof module !== 'undefined') savedmodule = module;\n    else module = {}\n\n    var tag = document.createElement('script');\n    tag.src = uri;\n    tag.async = true;\n    tag.onload = () => {\n        exports = savedexports;\n        module = savedmodule;\n        resolve();\n    };\n  var firstScriptTag = document.getElementsByTagName('script')[0];\n  firstScriptTag.parentNode.insertBefore(tag, firstScriptTag);\n});\n};\n\nif(typeof $3Dmolpromise === 'undefined') {\n$3Dmolpromise = null;\n  $3Dmolpromise = loadScriptAsync('https://cdnjs.cloudflare.com/ajax/libs/3Dmol/2.1.0/3Dmol-min.js');\n}\n\nvar viewer_17175018175591457 = null;\nvar warn = document.getElementById(\"3dmolwarning_17175018175591457\");\nif(warn) {\n    warn.parentNode.removeChild(warn);\n}\n$3Dmolpromise.then(function() {\nviewer_17175018175591457 = $3Dmol.createViewer(document.getElementById(\"3dmolviewer_17175018175591457\"),{backgroundColor:\"white\"});\nviewer_17175018175591457.zoomTo();\n\tviewer_17175018175591457.addModel(\"\\n     RDKit          3D\\n\\n  0  0  0  0  0  0  0  0  0  0999 V3000\\nM  V30 BEGIN CTAB\\nM  V30 COUNTS 6 4 0 0 0\\nM  V30 BEGIN ATOM\\nM  V30 1 C -1.058146 -0.035867 1.062386 0 RAD=2 VAL=3\\nM  V30 2 Br -1.093660 1.820993 0.524828 0\\nM  V30 3 H -1.766355 -0.191380 1.902045 0\\nM  V30 4 H -1.354774 -0.674722 0.205271 0\\nM  V30 5 H -0.032931 -0.306957 1.388292 0\\nM  V30 6 Cl -0.984672 -3.877450 2.174520 0 CHG=-1 VAL=-1\\nM  V30 END ATOM\\nM  V30 BEGIN BOND\\nM  V30 1 1 1 2\\nM  V30 2 1 1 4\\nM  V30 3 1 1 5\\nM  V30 4 0 1 3\\nM  V30 END BOND\\nM  V30 BEGIN COLLECTION\\nM  V30 MDLV30/STEABS ATOMS=(0)\\nM  V30 END COLLECTION\\nM  V30 END CTAB\\nM  END\\n\",\"molecule\",{\"keepH\": true});\n\tviewer_17175018175591457.setBackgroundColor(\"white\");\n\tviewer_17175018175591457.setStyle({\"stick\": {\"scale\": 0.3}, \"sphere\": {\"scale\": 0.3}});\n\tviewer_17175018175591457.zoomTo();\nviewer_17175018175591457.render();\n});\n</script>",
      "text/html": [
       "<div id=\"3dmolviewer_17175018175591457\"  style=\"position: relative; width: 800px; height: 400px;\">\n",
       "        <p id=\"3dmolwarning_17175018175591457\" style=\"background-color:#ffcccc;color:black\">3Dmol.js failed to load for some reason.  Please check your browser console for error messages.<br></p>\n",
       "        </div>\n",
       "<script>\n",
       "\n",
       "var loadScriptAsync = function(uri){\n",
       "  return new Promise((resolve, reject) => {\n",
       "    //this is to ignore the existence of requirejs amd\n",
       "    var savedexports, savedmodule;\n",
       "    if (typeof exports !== 'undefined') savedexports = exports;\n",
       "    else exports = {}\n",
       "    if (typeof module !== 'undefined') savedmodule = module;\n",
       "    else module = {}\n",
       "\n",
       "    var tag = document.createElement('script');\n",
       "    tag.src = uri;\n",
       "    tag.async = true;\n",
       "    tag.onload = () => {\n",
       "        exports = savedexports;\n",
       "        module = savedmodule;\n",
       "        resolve();\n",
       "    };\n",
       "  var firstScriptTag = document.getElementsByTagName('script')[0];\n",
       "  firstScriptTag.parentNode.insertBefore(tag, firstScriptTag);\n",
       "});\n",
       "};\n",
       "\n",
       "if(typeof $3Dmolpromise === 'undefined') {\n",
       "$3Dmolpromise = null;\n",
       "  $3Dmolpromise = loadScriptAsync('https://cdnjs.cloudflare.com/ajax/libs/3Dmol/2.1.0/3Dmol-min.js');\n",
       "}\n",
       "\n",
       "var viewer_17175018175591457 = null;\n",
       "var warn = document.getElementById(\"3dmolwarning_17175018175591457\");\n",
       "if(warn) {\n",
       "    warn.parentNode.removeChild(warn);\n",
       "}\n",
       "$3Dmolpromise.then(function() {\n",
       "viewer_17175018175591457 = $3Dmol.createViewer(document.getElementById(\"3dmolviewer_17175018175591457\"),{backgroundColor:\"white\"});\n",
       "viewer_17175018175591457.zoomTo();\n",
       "\tviewer_17175018175591457.addModel(\"\\n     RDKit          3D\\n\\n  0  0  0  0  0  0  0  0  0  0999 V3000\\nM  V30 BEGIN CTAB\\nM  V30 COUNTS 6 4 0 0 0\\nM  V30 BEGIN ATOM\\nM  V30 1 C -1.058146 -0.035867 1.062386 0 RAD=2 VAL=3\\nM  V30 2 Br -1.093660 1.820993 0.524828 0\\nM  V30 3 H -1.766355 -0.191380 1.902045 0\\nM  V30 4 H -1.354774 -0.674722 0.205271 0\\nM  V30 5 H -0.032931 -0.306957 1.388292 0\\nM  V30 6 Cl -0.984672 -3.877450 2.174520 0 CHG=-1 VAL=-1\\nM  V30 END ATOM\\nM  V30 BEGIN BOND\\nM  V30 1 1 1 2\\nM  V30 2 1 1 4\\nM  V30 3 1 1 5\\nM  V30 4 0 1 3\\nM  V30 END BOND\\nM  V30 BEGIN COLLECTION\\nM  V30 MDLV30/STEABS ATOMS=(0)\\nM  V30 END COLLECTION\\nM  V30 END CTAB\\nM  END\\n\",\"molecule\",{\"keepH\": true});\n",
       "\tviewer_17175018175591457.setBackgroundColor(\"white\");\n",
       "\tviewer_17175018175591457.setStyle({\"stick\": {\"scale\": 0.3}, \"sphere\": {\"scale\": 0.3}});\n",
       "\tviewer_17175018175591457.zoomTo();\n",
       "viewer_17175018175591457.render();\n",
       "});\n",
       "</script>"
      ]
     },
     "metadata": {},
     "output_type": "display_data"
    }
   ],
   "source": [
    "# Make a copy to modify the molecule\n",
    "substrate_nu_mol_copy = Chem.RWMol(substrate_nu_mol)\n",
    "\n",
    "# Temporarily remove C-H bond and add C-Cl bond\n",
    "substrate_nu_mol_copy.RemoveBond(0, 2)\n",
    "substrate_nu_mol_copy.AddBond(0, 5)\n",
    "Chem.SanitizeMol(substrate_nu_mol_copy)\n",
    "\n",
    "# Align the Cl atom with the C-Br bond\n",
    "Chem.rdMolTransforms.SetAngleDeg(substrate_nu_mol_copy.GetConformer(), 1, 0, 5, 180)\n",
    "\n",
    "# Set the C-Cl bond length (~ 4 angstrom)\n",
    "Chem.rdMolTransforms.SetBondLength(substrate_nu_mol_copy.GetConformer(), 0, 5, 4)\n",
    "\n",
    "# Remove C-Cl bond and add C-H bond back\n",
    "substrate_nu_mol_copy.RemoveBond(0, 5)\n",
    "substrate_nu_mol_copy.AddBond(0, 2)\n",
    "Chem.SanitizeMol(substrate_nu_mol_copy)\n",
    "\n",
    "# Convert back to regular molecule object\n",
    "substrate_nu_mol = substrate_nu_mol_copy.GetMol()\n",
    "\n",
    "# View 3D model\n",
    "View3DModel(substrate_nu_mol)"
   ]
  },
  {
   "cell_type": "code",
   "execution_count": 17,
   "id": "7fb83d79",
   "metadata": {
    "tags": []
   },
   "outputs": [
    {
     "name": "stderr",
     "output_type": "stream",
     "text": [
      "\tPrevious geometry is closer to target in internal coordinates, so using that one.\n",
      "\n",
      "\tBest geometry has RMS(Delta(q)) = 4.04e-06\n",
      "\n",
      "\tUnable to completely converge to displaced geometry.\n",
      "\tRMS(dx):  2.095e-06 \tMax(dx):  4.087e-06 \tRMS(dq):  2.859e-04\n",
      "\tPrevious geometry is closer to target in internal coordinates, so using that one.\n",
      "\n",
      "\tBest geometry has RMS(Delta(q)) = 2.86e-04\n",
      "\n",
      "\tChange in internal coordinate of 6.75e-01 exceeds limit of 5.00e-01.\n",
      "\tSkipping Hessian update for step 2.\n",
      "\tUnable to completely converge to displaced geometry.\n",
      "\tRMS(dx):  3.703e-06 \tMax(dx):  6.905e-06 \tRMS(dq):  1.233e-04\n",
      "\tPrevious geometry is closer to target in internal coordinates, so using that one.\n",
      "\n",
      "\tBest geometry has RMS(Delta(q)) = 1.23e-04\n",
      "\n",
      "\tChange in internal coordinate of 6.78e-01 exceeds limit of 5.00e-01.\n",
      "\tSkipping Hessian update for step 3.\n",
      "\tChange in internal coordinate of 1.35e+00 exceeds limit of 5.00e-01.\n",
      "\tSkipping Hessian update for step 2.\n",
      "\tUnable to completely converge to displaced geometry.\n",
      "\tRMS(dx):  3.029e-06 \tMax(dx):  5.776e-06 \tRMS(dq):  2.918e-05\n",
      "\tPrevious geometry is closer to target in internal coordinates, so using that one.\n",
      "\n",
      "\tBest geometry has RMS(Delta(q)) = 2.90e-05\n",
      "\n",
      "\tChange in internal coordinate of 1.08e+00 exceeds limit of 5.00e-01.\n",
      "\tSkipping Hessian update for step 2.\n",
      "\tChange in internal coordinate of 1.44e+00 exceeds limit of 5.00e-01.\n",
      "\tSkipping Hessian update for step 1.\n",
      "\tUnable to completely converge to displaced geometry.\n",
      "\tRMS(dx):  2.718e-06 \tMax(dx):  5.062e-06 \tRMS(dq):  1.485e-04\n",
      "\tPrevious geometry is closer to target in internal coordinates, so using that one.\n",
      "\n",
      "\tBest geometry has RMS(Delta(q)) = 1.49e-04\n",
      "\n",
      "\tChange in internal coordinate of 7.69e-01 exceeds limit of 5.00e-01.\n",
      "\tSkipping Hessian update for step 3.\n",
      "\tChange in internal coordinate of 1.44e+00 exceeds limit of 5.00e-01.\n",
      "\tSkipping Hessian update for step 2.\n",
      "\tChange in internal coordinate of 1.80e+00 exceeds limit of 5.00e-01.\n",
      "\tSkipping Hessian update for step 1.\n",
      "\tUnable to completely converge to displaced geometry.\n",
      "\tRMS(dx):  2.823e-06 \tMax(dx):  5.312e-06 \tRMS(dq):  4.034e-06\n",
      "\tPrevious geometry is closer to target in internal coordinates, so using that one.\n",
      "\n",
      "\tBest geometry has RMS(Delta(q)) = 2.91e-06\n",
      "\n",
      "\tChange in internal coordinate of 6.33e-01 exceeds limit of 5.00e-01.\n",
      "\tSkipping Hessian update for step 3.\n",
      "\tChange in internal coordinate of 1.31e+00 exceeds limit of 5.00e-01.\n",
      "\tSkipping Hessian update for step 2.\n",
      "\tChange in internal coordinate of 1.67e+00 exceeds limit of 5.00e-01.\n",
      "\tSkipping Hessian update for step 1.\n",
      "\tPrevious geometry is closer to target in internal coordinates, so using that one.\n",
      "\n",
      "\tBest geometry has RMS(Delta(q)) = 3.22e-07\n",
      "\n",
      "\tPrevious geometry is closer to target in internal coordinates, so using that one.\n",
      "\n",
      "\tBest geometry has RMS(Delta(q)) = 6.61e-10\n",
      "\n"
     ]
    },
    {
     "name": "stdout",
     "output_type": "stream",
     "text": [
      "Optimizer: Optimization complete!\n",
      "-1928923.574903594\n"
     ]
    }
   ],
   "source": [
    "# Write the geometry to XYZ string\n",
    "charge = -1\n",
    "multiplicity = 1\n",
    "xyz_string = WriteXYZString(substrate_nu_mol, charge, multiplicity)\n",
    "\n",
    "# Get the psi4 geometry\n",
    "substrate_nu_geo = psi4.geometry(xyz_string)\n",
    "\n",
    "# Optimize the geometry of the substrate and nucleophile\n",
    "substrate_nu_energy = psi4.optimize('b3lyp', molecule=substrate_nu_geo)\n",
    "substrate_nu_energy *= psi4.constants.hartree2kcalmol\n",
    "print(substrate_nu_energy)"
   ]
  },
  {
   "cell_type": "code",
   "execution_count": 18,
   "id": "eeacd4ab",
   "metadata": {
    "tags": []
   },
   "outputs": [
    {
     "data": {
      "application/3dmoljs_load.v0": "<div id=\"3dmolviewer_17175018405520792\"  style=\"position: relative; width: 800px; height: 400px;\">\n        <p id=\"3dmolwarning_17175018405520792\" style=\"background-color:#ffcccc;color:black\">3Dmol.js failed to load for some reason.  Please check your browser console for error messages.<br></p>\n        </div>\n<script>\n\nvar loadScriptAsync = function(uri){\n  return new Promise((resolve, reject) => {\n    //this is to ignore the existence of requirejs amd\n    var savedexports, savedmodule;\n    if (typeof exports !== 'undefined') savedexports = exports;\n    else exports = {}\n    if (typeof module !== 'undefined') savedmodule = module;\n    else module = {}\n\n    var tag = document.createElement('script');\n    tag.src = uri;\n    tag.async = true;\n    tag.onload = () => {\n        exports = savedexports;\n        module = savedmodule;\n        resolve();\n    };\n  var firstScriptTag = document.getElementsByTagName('script')[0];\n  firstScriptTag.parentNode.insertBefore(tag, firstScriptTag);\n});\n};\n\nif(typeof $3Dmolpromise === 'undefined') {\n$3Dmolpromise = null;\n  $3Dmolpromise = loadScriptAsync('https://cdnjs.cloudflare.com/ajax/libs/3Dmol/2.1.0/3Dmol-min.js');\n}\n\nvar viewer_17175018405520792 = null;\nvar warn = document.getElementById(\"3dmolwarning_17175018405520792\");\nif(warn) {\n    warn.parentNode.removeChild(warn);\n}\n$3Dmolpromise.then(function() {\nviewer_17175018405520792 = $3Dmol.createViewer(document.getElementById(\"3dmolviewer_17175018405520792\"),{backgroundColor:\"white\"});\nviewer_17175018405520792.zoomTo();\n\tviewer_17175018405520792.addModel(\"\\n     RDKit          3D\\n\\n  6  4  0  0  0  0  0  0  0  0999 V2000\\n    0.0025   -0.4357    0.1338 C   0  0  0  0  0  0  0  0  0  0  0  0\\n   -0.0254    1.5504   -0.4537 Br  0  0  0  0  0  0  0  0  0  0  0  0\\n   -0.7052   -0.5141    0.9490 H   0  0  0  0  0  0  0  0  0  0  0  0\\n   -0.2953   -1.0082   -0.7350 H   0  0  0  0  0  0  0  0  0  0  0  0\\n    1.0194   -0.6418    0.4414 H   0  0  0  0  0  0  0  0  0  0  0  0\\n    0.0560   -3.2872    0.9590 Cl  0  0  0  0  0  0  0  0  0  0  0  0\\n  1  2  1  0\\n  1  3  1  0\\n  1  4  1  0\\n  1  5  1  0\\nM  END\\n\",\"molecule\",{\"keepH\": true});\n\tviewer_17175018405520792.setBackgroundColor(\"white\");\n\tviewer_17175018405520792.setStyle({\"stick\": {\"scale\": 0.3}, \"sphere\": {\"scale\": 0.3}});\n\tviewer_17175018405520792.zoomTo();\nviewer_17175018405520792.render();\n});\n</script>",
      "text/html": [
       "<div id=\"3dmolviewer_17175018405520792\"  style=\"position: relative; width: 800px; height: 400px;\">\n",
       "        <p id=\"3dmolwarning_17175018405520792\" style=\"background-color:#ffcccc;color:black\">3Dmol.js failed to load for some reason.  Please check your browser console for error messages.<br></p>\n",
       "        </div>\n",
       "<script>\n",
       "\n",
       "var loadScriptAsync = function(uri){\n",
       "  return new Promise((resolve, reject) => {\n",
       "    //this is to ignore the existence of requirejs amd\n",
       "    var savedexports, savedmodule;\n",
       "    if (typeof exports !== 'undefined') savedexports = exports;\n",
       "    else exports = {}\n",
       "    if (typeof module !== 'undefined') savedmodule = module;\n",
       "    else module = {}\n",
       "\n",
       "    var tag = document.createElement('script');\n",
       "    tag.src = uri;\n",
       "    tag.async = true;\n",
       "    tag.onload = () => {\n",
       "        exports = savedexports;\n",
       "        module = savedmodule;\n",
       "        resolve();\n",
       "    };\n",
       "  var firstScriptTag = document.getElementsByTagName('script')[0];\n",
       "  firstScriptTag.parentNode.insertBefore(tag, firstScriptTag);\n",
       "});\n",
       "};\n",
       "\n",
       "if(typeof $3Dmolpromise === 'undefined') {\n",
       "$3Dmolpromise = null;\n",
       "  $3Dmolpromise = loadScriptAsync('https://cdnjs.cloudflare.com/ajax/libs/3Dmol/2.1.0/3Dmol-min.js');\n",
       "}\n",
       "\n",
       "var viewer_17175018405520792 = null;\n",
       "var warn = document.getElementById(\"3dmolwarning_17175018405520792\");\n",
       "if(warn) {\n",
       "    warn.parentNode.removeChild(warn);\n",
       "}\n",
       "$3Dmolpromise.then(function() {\n",
       "viewer_17175018405520792 = $3Dmol.createViewer(document.getElementById(\"3dmolviewer_17175018405520792\"),{backgroundColor:\"white\"});\n",
       "viewer_17175018405520792.zoomTo();\n",
       "\tviewer_17175018405520792.addModel(\"\\n     RDKit          3D\\n\\n  6  4  0  0  0  0  0  0  0  0999 V2000\\n    0.0025   -0.4357    0.1338 C   0  0  0  0  0  0  0  0  0  0  0  0\\n   -0.0254    1.5504   -0.4537 Br  0  0  0  0  0  0  0  0  0  0  0  0\\n   -0.7052   -0.5141    0.9490 H   0  0  0  0  0  0  0  0  0  0  0  0\\n   -0.2953   -1.0082   -0.7350 H   0  0  0  0  0  0  0  0  0  0  0  0\\n    1.0194   -0.6418    0.4414 H   0  0  0  0  0  0  0  0  0  0  0  0\\n    0.0560   -3.2872    0.9590 Cl  0  0  0  0  0  0  0  0  0  0  0  0\\n  1  2  1  0\\n  1  3  1  0\\n  1  4  1  0\\n  1  5  1  0\\nM  END\\n\",\"molecule\",{\"keepH\": true});\n",
       "\tviewer_17175018405520792.setBackgroundColor(\"white\");\n",
       "\tviewer_17175018405520792.setStyle({\"stick\": {\"scale\": 0.3}, \"sphere\": {\"scale\": 0.3}});\n",
       "\tviewer_17175018405520792.zoomTo();\n",
       "viewer_17175018405520792.render();\n",
       "});\n",
       "</script>"
      ]
     },
     "metadata": {},
     "output_type": "display_data"
    }
   ],
   "source": [
    "# View the optimized geometry\n",
    "View3DModel(ReadXYZString(substrate_nu_geo.save_string_xyz()))"
   ]
  },
  {
   "cell_type": "code",
   "execution_count": 19,
   "id": "67fb6721",
   "metadata": {
    "tags": []
   },
   "outputs": [
    {
     "name": "stdout",
     "output_type": "stream",
     "text": [
      "['C', 0]\n",
      "['Cl', 1]\n",
      "['H', 2]\n",
      "['H', 3]\n",
      "['H', 4]\n",
      "['Br', 5]\n"
     ]
    }
   ],
   "source": [
    "# Combine the product and the leaving group into 1 molecule object\n",
    "product_lg_mol = Chem.CombineMols(product_mol, lg_mol)\n",
    "\n",
    "# Get the indices of atoms\n",
    "for atom in product_lg_mol.GetAtoms():\n",
    "    print([atom.GetSymbol(), atom.GetIdx()])"
   ]
  },
  {
   "cell_type": "code",
   "execution_count": 20,
   "id": "416aef59",
   "metadata": {
    "tags": []
   },
   "outputs": [
    {
     "data": {
      "application/3dmoljs_load.v0": "<div id=\"3dmolviewer_1717501840564095\"  style=\"position: relative; width: 800px; height: 400px;\">\n        <p id=\"3dmolwarning_1717501840564095\" style=\"background-color:#ffcccc;color:black\">3Dmol.js failed to load for some reason.  Please check your browser console for error messages.<br></p>\n        </div>\n<script>\n\nvar loadScriptAsync = function(uri){\n  return new Promise((resolve, reject) => {\n    //this is to ignore the existence of requirejs amd\n    var savedexports, savedmodule;\n    if (typeof exports !== 'undefined') savedexports = exports;\n    else exports = {}\n    if (typeof module !== 'undefined') savedmodule = module;\n    else module = {}\n\n    var tag = document.createElement('script');\n    tag.src = uri;\n    tag.async = true;\n    tag.onload = () => {\n        exports = savedexports;\n        module = savedmodule;\n        resolve();\n    };\n  var firstScriptTag = document.getElementsByTagName('script')[0];\n  firstScriptTag.parentNode.insertBefore(tag, firstScriptTag);\n});\n};\n\nif(typeof $3Dmolpromise === 'undefined') {\n$3Dmolpromise = null;\n  $3Dmolpromise = loadScriptAsync('https://cdnjs.cloudflare.com/ajax/libs/3Dmol/2.1.0/3Dmol-min.js');\n}\n\nvar viewer_1717501840564095 = null;\nvar warn = document.getElementById(\"3dmolwarning_1717501840564095\");\nif(warn) {\n    warn.parentNode.removeChild(warn);\n}\n$3Dmolpromise.then(function() {\nviewer_1717501840564095 = $3Dmol.createViewer(document.getElementById(\"3dmolviewer_1717501840564095\"),{backgroundColor:\"white\"});\nviewer_1717501840564095.zoomTo();\n\tviewer_1717501840564095.addModel(\"\\n     RDKit          3D\\n\\n  0  0  0  0  0  0  0  0  0  0999 V3000\\nM  V30 BEGIN CTAB\\nM  V30 COUNTS 6 4 0 0 0\\nM  V30 BEGIN ATOM\\nM  V30 1 C 2.028873 -0.261118 0.850705 0 RAD=2 VAL=3\\nM  V30 2 Cl 0.299023 -0.157199 0.453146 0\\nM  V30 3 H 2.202023 -1.124563 1.525428 0\\nM  V30 4 H 2.615024 -0.396796 -0.081383 0\\nM  V30 5 H 2.348929 0.673163 1.356129 0\\nM  V30 6 Br 5.920581 -0.494909 1.745107 0 CHG=-1 VAL=-1\\nM  V30 END ATOM\\nM  V30 BEGIN BOND\\nM  V30 1 1 1 2\\nM  V30 2 1 1 4\\nM  V30 3 1 1 5\\nM  V30 4 0 1 3\\nM  V30 END BOND\\nM  V30 BEGIN COLLECTION\\nM  V30 MDLV30/STEABS ATOMS=(0)\\nM  V30 END COLLECTION\\nM  V30 END CTAB\\nM  END\\n\",\"molecule\",{\"keepH\": true});\n\tviewer_1717501840564095.setBackgroundColor(\"white\");\n\tviewer_1717501840564095.setStyle({\"stick\": {\"scale\": 0.3}, \"sphere\": {\"scale\": 0.3}});\n\tviewer_1717501840564095.zoomTo();\nviewer_1717501840564095.render();\n});\n</script>",
      "text/html": [
       "<div id=\"3dmolviewer_1717501840564095\"  style=\"position: relative; width: 800px; height: 400px;\">\n",
       "        <p id=\"3dmolwarning_1717501840564095\" style=\"background-color:#ffcccc;color:black\">3Dmol.js failed to load for some reason.  Please check your browser console for error messages.<br></p>\n",
       "        </div>\n",
       "<script>\n",
       "\n",
       "var loadScriptAsync = function(uri){\n",
       "  return new Promise((resolve, reject) => {\n",
       "    //this is to ignore the existence of requirejs amd\n",
       "    var savedexports, savedmodule;\n",
       "    if (typeof exports !== 'undefined') savedexports = exports;\n",
       "    else exports = {}\n",
       "    if (typeof module !== 'undefined') savedmodule = module;\n",
       "    else module = {}\n",
       "\n",
       "    var tag = document.createElement('script');\n",
       "    tag.src = uri;\n",
       "    tag.async = true;\n",
       "    tag.onload = () => {\n",
       "        exports = savedexports;\n",
       "        module = savedmodule;\n",
       "        resolve();\n",
       "    };\n",
       "  var firstScriptTag = document.getElementsByTagName('script')[0];\n",
       "  firstScriptTag.parentNode.insertBefore(tag, firstScriptTag);\n",
       "});\n",
       "};\n",
       "\n",
       "if(typeof $3Dmolpromise === 'undefined') {\n",
       "$3Dmolpromise = null;\n",
       "  $3Dmolpromise = loadScriptAsync('https://cdnjs.cloudflare.com/ajax/libs/3Dmol/2.1.0/3Dmol-min.js');\n",
       "}\n",
       "\n",
       "var viewer_1717501840564095 = null;\n",
       "var warn = document.getElementById(\"3dmolwarning_1717501840564095\");\n",
       "if(warn) {\n",
       "    warn.parentNode.removeChild(warn);\n",
       "}\n",
       "$3Dmolpromise.then(function() {\n",
       "viewer_1717501840564095 = $3Dmol.createViewer(document.getElementById(\"3dmolviewer_1717501840564095\"),{backgroundColor:\"white\"});\n",
       "viewer_1717501840564095.zoomTo();\n",
       "\tviewer_1717501840564095.addModel(\"\\n     RDKit          3D\\n\\n  0  0  0  0  0  0  0  0  0  0999 V3000\\nM  V30 BEGIN CTAB\\nM  V30 COUNTS 6 4 0 0 0\\nM  V30 BEGIN ATOM\\nM  V30 1 C 2.028873 -0.261118 0.850705 0 RAD=2 VAL=3\\nM  V30 2 Cl 0.299023 -0.157199 0.453146 0\\nM  V30 3 H 2.202023 -1.124563 1.525428 0\\nM  V30 4 H 2.615024 -0.396796 -0.081383 0\\nM  V30 5 H 2.348929 0.673163 1.356129 0\\nM  V30 6 Br 5.920581 -0.494909 1.745107 0 CHG=-1 VAL=-1\\nM  V30 END ATOM\\nM  V30 BEGIN BOND\\nM  V30 1 1 1 2\\nM  V30 2 1 1 4\\nM  V30 3 1 1 5\\nM  V30 4 0 1 3\\nM  V30 END BOND\\nM  V30 BEGIN COLLECTION\\nM  V30 MDLV30/STEABS ATOMS=(0)\\nM  V30 END COLLECTION\\nM  V30 END CTAB\\nM  END\\n\",\"molecule\",{\"keepH\": true});\n",
       "\tviewer_1717501840564095.setBackgroundColor(\"white\");\n",
       "\tviewer_1717501840564095.setStyle({\"stick\": {\"scale\": 0.3}, \"sphere\": {\"scale\": 0.3}});\n",
       "\tviewer_1717501840564095.zoomTo();\n",
       "viewer_1717501840564095.render();\n",
       "});\n",
       "</script>"
      ]
     },
     "metadata": {},
     "output_type": "display_data"
    }
   ],
   "source": [
    "# Make a copy to modify the molecule\n",
    "product_lg_mol_copy = Chem.RWMol(product_lg_mol)\n",
    "\n",
    "# Temporarily remove C-H bond and add C-Br bond\n",
    "product_lg_mol_copy.RemoveBond(0, 2)\n",
    "product_lg_mol_copy.AddBond(0, 5)\n",
    "Chem.SanitizeMol(product_lg_mol_copy)\n",
    "\n",
    "# Align the Br atom with the C-Cl bond\n",
    "Chem.rdMolTransforms.SetAngleDeg(product_lg_mol_copy.GetConformer(), 1, 0, 5, 180)\n",
    "\n",
    "# Set the C-Br bond length (~ 4 angstrom)\n",
    "Chem.rdMolTransforms.SetBondLength(product_lg_mol_copy.GetConformer(), 0, 5, 4)\n",
    "\n",
    "# Remove C-Br bond and add C-H bond back\n",
    "product_lg_mol_copy.RemoveBond(0, 5)\n",
    "product_lg_mol_copy.AddBond(0, 2)\n",
    "Chem.SanitizeMol(product_lg_mol_copy)\n",
    "\n",
    "# Convert back to regular molecule object\n",
    "product_lg_mol = product_lg_mol_copy.GetMol()\n",
    "\n",
    "# View 3D model\n",
    "View3DModel(product_lg_mol)"
   ]
  },
  {
   "cell_type": "code",
   "execution_count": 21,
   "id": "5f655e00",
   "metadata": {
    "tags": []
   },
   "outputs": [
    {
     "name": "stderr",
     "output_type": "stream",
     "text": [
      "\tPrevious geometry is closer to target in internal coordinates, so using that one.\n",
      "\n",
      "\tBest geometry has RMS(Delta(q)) = 1.99e-05\n",
      "\n",
      "\tChange in internal coordinate of 7.63e-01 exceeds limit of 5.00e-01.\n",
      "\tSkipping Hessian update for step 1.\n",
      "\tChange in internal coordinate of 5.11e-01 exceeds limit of 5.00e-01.\n",
      "\tSkipping Hessian update for step 3.\n",
      "\tChange in internal coordinate of 1.00e+00 exceeds limit of 5.00e-01.\n",
      "\tSkipping Hessian update for step 2.\n",
      "\tUnable to completely converge to displaced geometry.\n",
      "\tRMS(dx):  3.467e-06 \tMax(dx):  7.482e-06 \tRMS(dq):  2.095e-06\n",
      "\tPrevious geometry is closer to target in internal coordinates, so using that one.\n",
      "\n",
      "\tBest geometry has RMS(Delta(q)) = 1.88e-06\n",
      "\n",
      "\tChange in internal coordinate of 6.88e-01 exceeds limit of 5.00e-01.\n",
      "\tSkipping Hessian update for step 2.\n",
      "\tChange in internal coordinate of 9.60e-01 exceeds limit of 5.00e-01.\n",
      "\tSkipping Hessian update for step 1.\n",
      "\tEnergy ratio indicates iffy step.\n",
      "\tIntrafrag trust radius decreased to 2.500e-01.\n",
      "\tChange in internal coordinate of 8.67e-01 exceeds limit of 5.00e-01.\n",
      "\tSkipping Hessian update for step 2.\n",
      "\tChange in internal coordinate of 1.14e+00 exceeds limit of 5.00e-01.\n",
      "\tSkipping Hessian update for step 1.\n",
      "\tPrevious geometry is closer to target in internal coordinates, so using that one.\n",
      "\n",
      "\tBest geometry has RMS(Delta(q)) = 2.78e-08\n",
      "\n"
     ]
    },
    {
     "name": "stdout",
     "output_type": "stream",
     "text": [
      "Optimizer: Optimization complete!\n",
      "-1928931.8093019857\n"
     ]
    }
   ],
   "source": [
    "# Write the geometry to XYZ string\n",
    "charge = -1\n",
    "multiplicity = 1\n",
    "xyz_string = WriteXYZString(product_lg_mol, charge, multiplicity)\n",
    "\n",
    "# Get the psi4 geometry\n",
    "product_lg_geo = psi4.geometry(xyz_string)\n",
    "\n",
    "# Optimize the geometry of the substrate and nucleophile\n",
    "product_lg_energy = psi4.optimize('b3lyp', molecule=product_lg_geo)\n",
    "product_lg_energy *= psi4.constants.hartree2kcalmol\n",
    "print(product_lg_energy)"
   ]
  },
  {
   "cell_type": "code",
   "execution_count": 22,
   "id": "b6056bfa",
   "metadata": {
    "tags": []
   },
   "outputs": [
    {
     "data": {
      "application/3dmoljs_load.v0": "<div id=\"3dmolviewer_17175018586951346\"  style=\"position: relative; width: 800px; height: 400px;\">\n        <p id=\"3dmolwarning_17175018586951346\" style=\"background-color:#ffcccc;color:black\">3Dmol.js failed to load for some reason.  Please check your browser console for error messages.<br></p>\n        </div>\n<script>\n\nvar loadScriptAsync = function(uri){\n  return new Promise((resolve, reject) => {\n    //this is to ignore the existence of requirejs amd\n    var savedexports, savedmodule;\n    if (typeof exports !== 'undefined') savedexports = exports;\n    else exports = {}\n    if (typeof module !== 'undefined') savedmodule = module;\n    else module = {}\n\n    var tag = document.createElement('script');\n    tag.src = uri;\n    tag.async = true;\n    tag.onload = () => {\n        exports = savedexports;\n        module = savedmodule;\n        resolve();\n    };\n  var firstScriptTag = document.getElementsByTagName('script')[0];\n  firstScriptTag.parentNode.insertBefore(tag, firstScriptTag);\n});\n};\n\nif(typeof $3Dmolpromise === 'undefined') {\n$3Dmolpromise = null;\n  $3Dmolpromise = loadScriptAsync('https://cdnjs.cloudflare.com/ajax/libs/3Dmol/2.1.0/3Dmol-min.js');\n}\n\nvar viewer_17175018586951346 = null;\nvar warn = document.getElementById(\"3dmolwarning_17175018586951346\");\nif(warn) {\n    warn.parentNode.removeChild(warn);\n}\n$3Dmolpromise.then(function() {\nviewer_17175018586951346 = $3Dmol.createViewer(document.getElementById(\"3dmolviewer_17175018586951346\"),{backgroundColor:\"white\"});\nviewer_17175018586951346.zoomTo();\n\tviewer_17175018586951346.addModel(\"\\n     RDKit          3D\\n\\n  6  4  0  0  0  0  0  0  0  0999 V2000\\n   -1.5047    0.0807   -0.3386 C   0  0  0  0  0  0  0  0  0  0  0  0\\n   -3.3063    0.2033   -0.7634 Cl  0  0  0  0  0  0  0  0  0  0  0  0\\n   -1.3717   -0.7718    0.3205 H   0  0  0  0  0  0  0  0  0  0  0  0\\n   -0.9479   -0.0544   -1.2608 H   0  0  0  0  0  0  0  0  0  0  0  0\\n   -1.2103    1.0007    0.1568 H   0  0  0  0  0  0  0  0  0  0  0  0\\n    1.7389   -0.1046    0.3997 Br  0  0  0  0  0  0  0  0  0  0  0  0\\n  1  2  1  0\\n  1  3  1  0\\n  1  4  1  0\\n  1  5  1  0\\nM  END\\n\",\"molecule\",{\"keepH\": true});\n\tviewer_17175018586951346.setBackgroundColor(\"white\");\n\tviewer_17175018586951346.setStyle({\"stick\": {\"scale\": 0.3}, \"sphere\": {\"scale\": 0.3}});\n\tviewer_17175018586951346.zoomTo();\nviewer_17175018586951346.render();\n});\n</script>",
      "text/html": [
       "<div id=\"3dmolviewer_17175018586951346\"  style=\"position: relative; width: 800px; height: 400px;\">\n",
       "        <p id=\"3dmolwarning_17175018586951346\" style=\"background-color:#ffcccc;color:black\">3Dmol.js failed to load for some reason.  Please check your browser console for error messages.<br></p>\n",
       "        </div>\n",
       "<script>\n",
       "\n",
       "var loadScriptAsync = function(uri){\n",
       "  return new Promise((resolve, reject) => {\n",
       "    //this is to ignore the existence of requirejs amd\n",
       "    var savedexports, savedmodule;\n",
       "    if (typeof exports !== 'undefined') savedexports = exports;\n",
       "    else exports = {}\n",
       "    if (typeof module !== 'undefined') savedmodule = module;\n",
       "    else module = {}\n",
       "\n",
       "    var tag = document.createElement('script');\n",
       "    tag.src = uri;\n",
       "    tag.async = true;\n",
       "    tag.onload = () => {\n",
       "        exports = savedexports;\n",
       "        module = savedmodule;\n",
       "        resolve();\n",
       "    };\n",
       "  var firstScriptTag = document.getElementsByTagName('script')[0];\n",
       "  firstScriptTag.parentNode.insertBefore(tag, firstScriptTag);\n",
       "});\n",
       "};\n",
       "\n",
       "if(typeof $3Dmolpromise === 'undefined') {\n",
       "$3Dmolpromise = null;\n",
       "  $3Dmolpromise = loadScriptAsync('https://cdnjs.cloudflare.com/ajax/libs/3Dmol/2.1.0/3Dmol-min.js');\n",
       "}\n",
       "\n",
       "var viewer_17175018586951346 = null;\n",
       "var warn = document.getElementById(\"3dmolwarning_17175018586951346\");\n",
       "if(warn) {\n",
       "    warn.parentNode.removeChild(warn);\n",
       "}\n",
       "$3Dmolpromise.then(function() {\n",
       "viewer_17175018586951346 = $3Dmol.createViewer(document.getElementById(\"3dmolviewer_17175018586951346\"),{backgroundColor:\"white\"});\n",
       "viewer_17175018586951346.zoomTo();\n",
       "\tviewer_17175018586951346.addModel(\"\\n     RDKit          3D\\n\\n  6  4  0  0  0  0  0  0  0  0999 V2000\\n   -1.5047    0.0807   -0.3386 C   0  0  0  0  0  0  0  0  0  0  0  0\\n   -3.3063    0.2033   -0.7634 Cl  0  0  0  0  0  0  0  0  0  0  0  0\\n   -1.3717   -0.7718    0.3205 H   0  0  0  0  0  0  0  0  0  0  0  0\\n   -0.9479   -0.0544   -1.2608 H   0  0  0  0  0  0  0  0  0  0  0  0\\n   -1.2103    1.0007    0.1568 H   0  0  0  0  0  0  0  0  0  0  0  0\\n    1.7389   -0.1046    0.3997 Br  0  0  0  0  0  0  0  0  0  0  0  0\\n  1  2  1  0\\n  1  3  1  0\\n  1  4  1  0\\n  1  5  1  0\\nM  END\\n\",\"molecule\",{\"keepH\": true});\n",
       "\tviewer_17175018586951346.setBackgroundColor(\"white\");\n",
       "\tviewer_17175018586951346.setStyle({\"stick\": {\"scale\": 0.3}, \"sphere\": {\"scale\": 0.3}});\n",
       "\tviewer_17175018586951346.zoomTo();\n",
       "viewer_17175018586951346.render();\n",
       "});\n",
       "</script>"
      ]
     },
     "metadata": {},
     "output_type": "display_data"
    }
   ],
   "source": [
    "# View the optimized geometry\n",
    "View3DModel(ReadXYZString(product_lg_geo.save_string_xyz()))"
   ]
  },
  {
   "cell_type": "markdown",
   "id": "0a176762",
   "metadata": {},
   "source": [
    "### 9.2.2. Calculation of Potential Energy of Transition State"
   ]
  },
  {
   "cell_type": "markdown",
   "id": "cbaa9c40",
   "metadata": {},
   "source": [
    "First, we have to guess the geometry of the transition state ($TS^{\\ddagger}$), we can do it using Avogadro or other software:"
   ]
  },
  {
   "cell_type": "markdown",
   "id": "73dbf674",
   "metadata": {},
   "source": [
    "For example, our initial guess of the $TS^{\\ddagger}$ is in the file `SN2_TS.xyz`."
   ]
  },
  {
   "cell_type": "code",
   "execution_count": 23,
   "id": "23636bc3",
   "metadata": {
    "tags": []
   },
   "outputs": [
    {
     "data": {
      "application/3dmoljs_load.v0": "<div id=\"3dmolviewer_17175018587024977\"  style=\"position: relative; width: 800px; height: 400px;\">\n        <p id=\"3dmolwarning_17175018587024977\" style=\"background-color:#ffcccc;color:black\">3Dmol.js failed to load for some reason.  Please check your browser console for error messages.<br></p>\n        </div>\n<script>\n\nvar loadScriptAsync = function(uri){\n  return new Promise((resolve, reject) => {\n    //this is to ignore the existence of requirejs amd\n    var savedexports, savedmodule;\n    if (typeof exports !== 'undefined') savedexports = exports;\n    else exports = {}\n    if (typeof module !== 'undefined') savedmodule = module;\n    else module = {}\n\n    var tag = document.createElement('script');\n    tag.src = uri;\n    tag.async = true;\n    tag.onload = () => {\n        exports = savedexports;\n        module = savedmodule;\n        resolve();\n    };\n  var firstScriptTag = document.getElementsByTagName('script')[0];\n  firstScriptTag.parentNode.insertBefore(tag, firstScriptTag);\n});\n};\n\nif(typeof $3Dmolpromise === 'undefined') {\n$3Dmolpromise = null;\n  $3Dmolpromise = loadScriptAsync('https://cdnjs.cloudflare.com/ajax/libs/3Dmol/2.1.0/3Dmol-min.js');\n}\n\nvar viewer_17175018587024977 = null;\nvar warn = document.getElementById(\"3dmolwarning_17175018587024977\");\nif(warn) {\n    warn.parentNode.removeChild(warn);\n}\n$3Dmolpromise.then(function() {\nviewer_17175018587024977 = $3Dmol.createViewer(document.getElementById(\"3dmolviewer_17175018587024977\"),{backgroundColor:\"white\"});\nviewer_17175018587024977.zoomTo();\n\tviewer_17175018587024977.addModel(\"\\n     RDKit          3D\\n\\n  6  5  0  0  0  0  0  0  0  0999 V2000\\n    4.3460   -0.4280   -0.1630 H   0  0  0  0  0  0  0  0  0  0  0  0\\n    2.3810    0.7060   -0.1630 H   0  0  0  0  0  0  0  0  0  0  0  0\\n    2.3810   -1.5630   -0.1630 H   0  0  0  0  0  0  0  0  0  0  0  0\\n    3.0360   -0.4280   -0.1630 C   0  0  0  0  0  0  0  0  0  0  0  0\\n    3.0360   -0.4280    2.0370 Cl  0  0  0  0  0  0  0  0  0  0  0  0\\n    3.0360   -0.4280   -2.5630 Br  0  0  0  0  0  0  0  0  0  0  0  0\\n  1  4  1  0\\n  2  4  1  0\\n  3  4  1  0\\n  4  5  1  0\\n  4  6  1  0\\nM  END\\n\",\"molecule\",{\"keepH\": true});\n\tviewer_17175018587024977.setBackgroundColor(\"white\");\n\tviewer_17175018587024977.setStyle({\"stick\": {\"scale\": 0.3}, \"sphere\": {\"scale\": 0.3}});\n\tviewer_17175018587024977.zoomTo();\nviewer_17175018587024977.render();\n});\n</script>",
      "text/html": [
       "<div id=\"3dmolviewer_17175018587024977\"  style=\"position: relative; width: 800px; height: 400px;\">\n",
       "        <p id=\"3dmolwarning_17175018587024977\" style=\"background-color:#ffcccc;color:black\">3Dmol.js failed to load for some reason.  Please check your browser console for error messages.<br></p>\n",
       "        </div>\n",
       "<script>\n",
       "\n",
       "var loadScriptAsync = function(uri){\n",
       "  return new Promise((resolve, reject) => {\n",
       "    //this is to ignore the existence of requirejs amd\n",
       "    var savedexports, savedmodule;\n",
       "    if (typeof exports !== 'undefined') savedexports = exports;\n",
       "    else exports = {}\n",
       "    if (typeof module !== 'undefined') savedmodule = module;\n",
       "    else module = {}\n",
       "\n",
       "    var tag = document.createElement('script');\n",
       "    tag.src = uri;\n",
       "    tag.async = true;\n",
       "    tag.onload = () => {\n",
       "        exports = savedexports;\n",
       "        module = savedmodule;\n",
       "        resolve();\n",
       "    };\n",
       "  var firstScriptTag = document.getElementsByTagName('script')[0];\n",
       "  firstScriptTag.parentNode.insertBefore(tag, firstScriptTag);\n",
       "});\n",
       "};\n",
       "\n",
       "if(typeof $3Dmolpromise === 'undefined') {\n",
       "$3Dmolpromise = null;\n",
       "  $3Dmolpromise = loadScriptAsync('https://cdnjs.cloudflare.com/ajax/libs/3Dmol/2.1.0/3Dmol-min.js');\n",
       "}\n",
       "\n",
       "var viewer_17175018587024977 = null;\n",
       "var warn = document.getElementById(\"3dmolwarning_17175018587024977\");\n",
       "if(warn) {\n",
       "    warn.parentNode.removeChild(warn);\n",
       "}\n",
       "$3Dmolpromise.then(function() {\n",
       "viewer_17175018587024977 = $3Dmol.createViewer(document.getElementById(\"3dmolviewer_17175018587024977\"),{backgroundColor:\"white\"});\n",
       "viewer_17175018587024977.zoomTo();\n",
       "\tviewer_17175018587024977.addModel(\"\\n     RDKit          3D\\n\\n  6  5  0  0  0  0  0  0  0  0999 V2000\\n    4.3460   -0.4280   -0.1630 H   0  0  0  0  0  0  0  0  0  0  0  0\\n    2.3810    0.7060   -0.1630 H   0  0  0  0  0  0  0  0  0  0  0  0\\n    2.3810   -1.5630   -0.1630 H   0  0  0  0  0  0  0  0  0  0  0  0\\n    3.0360   -0.4280   -0.1630 C   0  0  0  0  0  0  0  0  0  0  0  0\\n    3.0360   -0.4280    2.0370 Cl  0  0  0  0  0  0  0  0  0  0  0  0\\n    3.0360   -0.4280   -2.5630 Br  0  0  0  0  0  0  0  0  0  0  0  0\\n  1  4  1  0\\n  2  4  1  0\\n  3  4  1  0\\n  4  5  1  0\\n  4  6  1  0\\nM  END\\n\",\"molecule\",{\"keepH\": true});\n",
       "\tviewer_17175018587024977.setBackgroundColor(\"white\");\n",
       "\tviewer_17175018587024977.setStyle({\"stick\": {\"scale\": 0.3}, \"sphere\": {\"scale\": 0.3}});\n",
       "\tviewer_17175018587024977.zoomTo();\n",
       "viewer_17175018587024977.render();\n",
       "});\n",
       "</script>"
      ]
     },
     "metadata": {},
     "output_type": "display_data"
    }
   ],
   "source": [
    "# Load the geometry from the file\n",
    "ts_guess_mol = Chem.MolFromXYZFile('.\\\\structures\\\\SN2_TS.xyz')\n",
    "ts_guess_mol = AddBonds(ts_guess_mol, 1.5)\n",
    "\n",
    "# View the initial guess\n",
    "View3DModel(ts_guess_mol)"
   ]
  },
  {
   "cell_type": "code",
   "execution_count": 24,
   "id": "668697ee",
   "metadata": {
    "tags": []
   },
   "outputs": [
    {
     "name": "stdout",
     "output_type": "stream",
     "text": [
      "['H', 0]\n",
      "['H', 1]\n",
      "['H', 2]\n",
      "['C', 3]\n",
      "['Cl', 4]\n",
      "['Br', 5]\n"
     ]
    }
   ],
   "source": [
    "# Find the indices of atoms\n",
    "for atom in ts_guess_mol.GetAtoms():\n",
    "    print([atom.GetSymbol(), atom.GetIdx()])"
   ]
  },
  {
   "cell_type": "code",
   "execution_count": 25,
   "id": "0a6e4466",
   "metadata": {
    "tags": []
   },
   "outputs": [],
   "source": [
    "# Set the atom indices\n",
    "C_idx = 3\n",
    "Cl_idx = 4\n",
    "Br_idx = 5\n",
    "H1_idx = 0\n",
    "H2_idx = 1\n",
    "H3_idx = 2"
   ]
  },
  {
   "cell_type": "markdown",
   "id": "3d9fe955",
   "metadata": {},
   "source": [
    "Next, we optimize our guess geometry to the true $TS^{\\ddagger}$ geometry. A $TS^{\\ddagger}$ is a saddle point on the PES, therefore, it should have exactly one imaginary vibrational frequency. We will do a frequency analysis after geometry optimization to confirm."
   ]
  },
  {
   "cell_type": "code",
   "execution_count": 26,
   "id": "c60d6963",
   "metadata": {
    "tags": []
   },
   "outputs": [],
   "source": [
    "# Generate the xyz string\n",
    "charge = -1\n",
    "multiplicity = 1\n",
    "xyz_string = WriteXYZString(ts_guess_mol, charge, multiplicity)\n",
    "\n",
    "# Get the psi4 geometry\n",
    "ts_geometry = psi4.geometry(xyz_string)"
   ]
  },
  {
   "cell_type": "code",
   "execution_count": 27,
   "id": "86dbe545",
   "metadata": {
    "tags": []
   },
   "outputs": [],
   "source": [
    "# Set optimization parameters\n",
    "max_iters = 500\n",
    "psi4.set_options({'OPT_TYPE': 'TS'})\n",
    "psi4.set_options({'OPT_COORDINATES': 'CARTESIAN'})\n",
    "psi4.set_options({'FULL_HESS_EVERY': 0})\n",
    "psi4.set_options({'GEOM_MAXITER': max_iters})\n",
    "psi4.set_options({'G_CONVERGENCE': 'GAU_LOOSE'})"
   ]
  },
  {
   "cell_type": "code",
   "execution_count": 28,
   "id": "e7c4f43c",
   "metadata": {
    "tags": []
   },
   "outputs": [],
   "source": [
    "# Freeze the position of atoms (optional)\n",
    "psi4.set_options({'FROZEN_CARTESIAN': f'{H1_idx + 1} xyz\\n{H2_idx + 1} xyz\\n{H3_idx + 1} xyz'}) # Free the 3 H atoms\n",
    "\n",
    "# Freeze the bond lengths (optional)\n",
    "psi4.set_options({'FROZEN_DISTANCE': ''})\n",
    "\n",
    "# Freeze the bond angles (optional)\n",
    "psi4.set_options({'FROZEN_BEND': ''})"
   ]
  },
  {
   "cell_type": "code",
   "execution_count": 29,
   "id": "681ed8c4",
   "metadata": {
    "tags": []
   },
   "outputs": [
    {
     "name": "stdout",
     "output_type": "stream",
     "text": [
      "Warning: thermodynamics relations excluded imaginary frequencies: ['17.7339i' '16.4564i']\n",
      "Warning: used thermodynamics relations inappropriate for low-frequency modes: ['105.1901' '176.3654' '178.7123' '213.6363']\n"
     ]
    },
    {
     "name": "stderr",
     "output_type": "stream",
     "text": [
      "\tChange in internal coordinate of 7.31e-01 exceeds limit of 5.00e-01.\n",
      "\tSkipping Hessian update for step 1.\n",
      "\tChange in internal coordinate of 6.87e-01 exceeds limit of 5.00e-01.\n",
      "\tSkipping Hessian update for step 2.\n",
      "\tChange in internal coordinate of 1.07e+00 exceeds limit of 5.00e-01.\n",
      "\tSkipping Hessian update for step 1.\n",
      "\tChange in internal coordinate of 5.98e-01 exceeds limit of 5.00e-01.\n",
      "\tSkipping Hessian update for step 1.\n",
      "\tChange in internal coordinate of 6.41e-01 exceeds limit of 5.00e-01.\n",
      "\tSkipping Hessian update for step 4.\n",
      "\tChange in internal coordinate of 6.25e-01 exceeds limit of 5.00e-01.\n",
      "\tSkipping Hessian update for step 3.\n",
      "\tChange in internal coordinate of 6.23e-01 exceeds limit of 5.00e-01.\n",
      "\tSkipping Hessian update for step 2.\n",
      "\tChange in internal coordinate of 6.67e-01 exceeds limit of 5.00e-01.\n",
      "\tSkipping Hessian update for step 1.\n",
      "\tChange in internal coordinate of 6.90e-01 exceeds limit of 5.00e-01.\n",
      "\tSkipping Hessian update for step 5.\n",
      "\tChange in internal coordinate of 8.40e-01 exceeds limit of 5.00e-01.\n",
      "\tSkipping Hessian update for step 4.\n",
      "\tChange in internal coordinate of 8.24e-01 exceeds limit of 5.00e-01.\n",
      "\tSkipping Hessian update for step 3.\n",
      "\tChange in internal coordinate of 8.22e-01 exceeds limit of 5.00e-01.\n",
      "\tSkipping Hessian update for step 2.\n",
      "\tChange in internal coordinate of 8.97e-01 exceeds limit of 5.00e-01.\n",
      "\tSkipping Hessian update for step 1.\n",
      "\tChange in internal coordinate of 9.02e-01 exceeds limit of 5.00e-01.\n",
      "\tSkipping Hessian update for step 5.\n",
      "\tChange in internal coordinate of 1.05e+00 exceeds limit of 5.00e-01.\n",
      "\tSkipping Hessian update for step 4.\n",
      "\tChange in internal coordinate of 1.04e+00 exceeds limit of 5.00e-01.\n",
      "\tSkipping Hessian update for step 3.\n",
      "\tChange in internal coordinate of 1.03e+00 exceeds limit of 5.00e-01.\n",
      "\tSkipping Hessian update for step 2.\n",
      "\tChange in internal coordinate of 1.13e+00 exceeds limit of 5.00e-01.\n",
      "\tSkipping Hessian update for step 1.\n",
      "\tChange in internal coordinate of 5.08e-01 exceeds limit of 5.00e-01.\n",
      "\tSkipping Hessian update for step 6.\n",
      "\tChange in internal coordinate of 9.35e-01 exceeds limit of 5.00e-01.\n",
      "\tSkipping Hessian update for step 5.\n",
      "\tChange in internal coordinate of 1.09e+00 exceeds limit of 5.00e-01.\n",
      "\tSkipping Hessian update for step 4.\n",
      "\tChange in internal coordinate of 1.07e+00 exceeds limit of 5.00e-01.\n",
      "\tSkipping Hessian update for step 3.\n",
      "\tChange in internal coordinate of 1.07e+00 exceeds limit of 5.00e-01.\n",
      "\tSkipping Hessian update for step 2.\n",
      "\tChange in internal coordinate of 1.17e+00 exceeds limit of 5.00e-01.\n",
      "\tSkipping Hessian update for step 1.\n",
      "\tChange in internal coordinate of 5.43e-01 exceeds limit of 5.00e-01.\n",
      "\tSkipping Hessian update for step 6.\n",
      "\tChange in internal coordinate of 9.34e-01 exceeds limit of 5.00e-01.\n",
      "\tSkipping Hessian update for step 5.\n",
      "\tChange in internal coordinate of 1.08e+00 exceeds limit of 5.00e-01.\n",
      "\tSkipping Hessian update for step 4.\n",
      "\tChange in internal coordinate of 1.07e+00 exceeds limit of 5.00e-01.\n",
      "\tSkipping Hessian update for step 3.\n",
      "\tChange in internal coordinate of 1.06e+00 exceeds limit of 5.00e-01.\n",
      "\tSkipping Hessian update for step 2.\n",
      "\tChange in internal coordinate of 1.21e+00 exceeds limit of 5.00e-01.\n",
      "\tSkipping Hessian update for step 1.\n",
      "\tChange in internal coordinate of 6.48e-01 exceeds limit of 5.00e-01.\n",
      "\tSkipping Hessian update for step 15.\n",
      "\tChange in internal coordinate of 8.98e-01 exceeds limit of 5.00e-01.\n",
      "\tSkipping Hessian update for step 17.\n",
      "\tChange in internal coordinate of 7.46e-01 exceeds limit of 5.00e-01.\n",
      "\tSkipping Hessian update for step 14.\n",
      "\tChange in internal coordinate of 6.50e-01 exceeds limit of 5.00e-01.\n",
      "\tSkipping Hessian update for step 13.\n",
      "\tChange in internal coordinate of 5.98e-01 exceeds limit of 5.00e-01.\n",
      "\tSkipping Hessian update for step 12.\n",
      "\tChange in internal coordinate of 6.77e-01 exceeds limit of 5.00e-01.\n",
      "\tSkipping Hessian update for step 11.\n",
      "\tChange in internal coordinate of 5.61e-01 exceeds limit of 5.00e-01.\n",
      "\tSkipping Hessian update for step 10.\n",
      "\tChange in internal coordinate of 6.03e-01 exceeds limit of 5.00e-01.\n",
      "\tSkipping Hessian update for step 9.\n",
      "\tChange in internal coordinate of 6.17e-01 exceeds limit of 5.00e-01.\n",
      "\tSkipping Hessian update for step 8.\n",
      "\tChange in internal coordinate of 6.52e-01 exceeds limit of 5.00e-01.\n",
      "\tSkipping Hessian update for step 7.\n",
      "\tChange in internal coordinate of 7.78e-01 exceeds limit of 5.00e-01.\n",
      "\tSkipping Hessian update for step 6.\n",
      "\tChange in internal coordinate of 1.27e+00 exceeds limit of 5.00e-01.\n",
      "\tSkipping Hessian update for step 5.\n",
      "\tChange in internal coordinate of 1.42e+00 exceeds limit of 5.00e-01.\n",
      "\tSkipping Hessian update for step 4.\n",
      "\tChange in internal coordinate of 1.40e+00 exceeds limit of 5.00e-01.\n",
      "\tSkipping Hessian update for step 3.\n",
      "\tChange in internal coordinate of 1.40e+00 exceeds limit of 5.00e-01.\n",
      "\tSkipping Hessian update for step 2.\n",
      "\tChange in internal coordinate of 1.40e+00 exceeds limit of 5.00e-01.\n",
      "\tSkipping Hessian update for step 1.\n",
      "\tChange in internal coordinate of 9.02e-01 exceeds limit of 5.00e-01.\n",
      "\tSkipping Hessian update for step 17.\n"
     ]
    },
    {
     "name": "stdout",
     "output_type": "stream",
     "text": [
      "Optimizer: Optimization complete!\n",
      "-1928876.865778752\n"
     ]
    }
   ],
   "source": [
    "# Run geometry optimization\n",
    "ts_energy, ts_history = psi4.optimize('b3lyp', molecule=ts_geometry, optking__geom_maxiter=max_iters, return_history=True)\n",
    "ts_energy *= psi4.constants.hartree2kcalmol\n",
    "print(ts_energy)"
   ]
  },
  {
   "cell_type": "code",
   "execution_count": 30,
   "id": "215129fe",
   "metadata": {
    "tags": []
   },
   "outputs": [
    {
     "data": {
      "text/plain": [
       "[<matplotlib.lines.Line2D at 0x1e40966f990>]"
      ]
     },
     "execution_count": 30,
     "metadata": {},
     "output_type": "execute_result"
    },
    {
     "data": {
      "image/png": "[encoded data removed]",
      "text/plain": [
       "<Figure size 640x480 with 1 Axes>"
      ]
     },
     "metadata": {},
     "output_type": "display_data"
    }
   ],
   "source": [
    "# Plot the energy diagram of the optimization process\n",
    "ts_energies = ts_history['energy'] \n",
    "ts_energies = np.array(ts_energies) * psi4.constants.hartree2kcalmol\n",
    "plt.plot(ts_energies)"
   ]
  },
  {
   "cell_type": "code",
   "execution_count": 31,
   "id": "69a96503",
   "metadata": {
    "scrolled": true,
    "tags": []
   },
   "outputs": [
    {
     "data": {
      "application/3dmoljs_load.v0": "<div id=\"3dmolviewer_17175019992837558\"  style=\"position: relative; width: 800px; height: 400px;\">\n        <p id=\"3dmolwarning_17175019992837558\" style=\"background-color:#ffcccc;color:black\">3Dmol.js failed to load for some reason.  Please check your browser console for error messages.<br></p>\n        </div>\n<script>\n\nvar loadScriptAsync = function(uri){\n  return new Promise((resolve, reject) => {\n    //this is to ignore the existence of requirejs amd\n    var savedexports, savedmodule;\n    if (typeof exports !== 'undefined') savedexports = exports;\n    else exports = {}\n    if (typeof module !== 'undefined') savedmodule = module;\n    else module = {}\n\n    var tag = document.createElement('script');\n    tag.src = uri;\n    tag.async = true;\n    tag.onload = () => {\n        exports = savedexports;\n        module = savedmodule;\n        resolve();\n    };\n  var firstScriptTag = document.getElementsByTagName('script')[0];\n  firstScriptTag.parentNode.insertBefore(tag, firstScriptTag);\n});\n};\n\nif(typeof $3Dmolpromise === 'undefined') {\n$3Dmolpromise = null;\n  $3Dmolpromise = loadScriptAsync('https://cdnjs.cloudflare.com/ajax/libs/3Dmol/2.1.0/3Dmol-min.js');\n}\n\nvar viewer_17175019992837558 = null;\nvar warn = document.getElementById(\"3dmolwarning_17175019992837558\");\nif(warn) {\n    warn.parentNode.removeChild(warn);\n}\n$3Dmolpromise.then(function() {\nviewer_17175019992837558 = $3Dmol.createViewer(document.getElementById(\"3dmolviewer_17175019992837558\"),{backgroundColor:\"white\"});\nviewer_17175019992837558.zoomTo();\n\tviewer_17175019992837558.addModel(\"\\n     RDKit          3D\\n\\n  6  4  0  0  0  0  0  0  0  0999 V2000\\n    1.3100    0.0000    0.8725 H   0  0  0  0  0  0  0  0  0  0  0  0\\n   -0.6550    1.1340    0.8725 H   0  0  0  0  0  0  0  0  0  0  0  0\\n   -0.6550   -1.1350    0.8725 H   0  0  0  0  0  0  0  0  0  0  0  0\\n   -0.0025    0.0039    1.0883 C   0  0  0  0  0  0  0  0  0  0  0  0\\n    0.0177   -0.0311    3.0165 Cl  0  0  0  0  0  0  0  0  0  0  0  0\\n   -0.3740    0.6608   -2.1596 Br  0  0  0  0  0  0  0  0  0  0  0  0\\n  1  4  1  0\\n  2  4  1  0\\n  3  4  1  0\\n  4  5  1  0\\nM  END\\n\",\"molecule\",{\"keepH\": true});\n\tviewer_17175019992837558.setBackgroundColor(\"white\");\n\tviewer_17175019992837558.setStyle({\"stick\": {\"scale\": 0.3}, \"sphere\": {\"scale\": 0.3}});\n\tviewer_17175019992837558.zoomTo();\nviewer_17175019992837558.render();\n});\n</script>",
      "text/html": [
       "<div id=\"3dmolviewer_17175019992837558\"  style=\"position: relative; width: 800px; height: 400px;\">\n",
       "        <p id=\"3dmolwarning_17175019992837558\" style=\"background-color:#ffcccc;color:black\">3Dmol.js failed to load for some reason.  Please check your browser console for error messages.<br></p>\n",
       "        </div>\n",
       "<script>\n",
       "\n",
       "var loadScriptAsync = function(uri){\n",
       "  return new Promise((resolve, reject) => {\n",
       "    //this is to ignore the existence of requirejs amd\n",
       "    var savedexports, savedmodule;\n",
       "    if (typeof exports !== 'undefined') savedexports = exports;\n",
       "    else exports = {}\n",
       "    if (typeof module !== 'undefined') savedmodule = module;\n",
       "    else module = {}\n",
       "\n",
       "    var tag = document.createElement('script');\n",
       "    tag.src = uri;\n",
       "    tag.async = true;\n",
       "    tag.onload = () => {\n",
       "        exports = savedexports;\n",
       "        module = savedmodule;\n",
       "        resolve();\n",
       "    };\n",
       "  var firstScriptTag = document.getElementsByTagName('script')[0];\n",
       "  firstScriptTag.parentNode.insertBefore(tag, firstScriptTag);\n",
       "});\n",
       "};\n",
       "\n",
       "if(typeof $3Dmolpromise === 'undefined') {\n",
       "$3Dmolpromise = null;\n",
       "  $3Dmolpromise = loadScriptAsync('https://cdnjs.cloudflare.com/ajax/libs/3Dmol/2.1.0/3Dmol-min.js');\n",
       "}\n",
       "\n",
       "var viewer_17175019992837558 = null;\n",
       "var warn = document.getElementById(\"3dmolwarning_17175019992837558\");\n",
       "if(warn) {\n",
       "    warn.parentNode.removeChild(warn);\n",
       "}\n",
       "$3Dmolpromise.then(function() {\n",
       "viewer_17175019992837558 = $3Dmol.createViewer(document.getElementById(\"3dmolviewer_17175019992837558\"),{backgroundColor:\"white\"});\n",
       "viewer_17175019992837558.zoomTo();\n",
       "\tviewer_17175019992837558.addModel(\"\\n     RDKit          3D\\n\\n  6  4  0  0  0  0  0  0  0  0999 V2000\\n    1.3100    0.0000    0.8725 H   0  0  0  0  0  0  0  0  0  0  0  0\\n   -0.6550    1.1340    0.8725 H   0  0  0  0  0  0  0  0  0  0  0  0\\n   -0.6550   -1.1350    0.8725 H   0  0  0  0  0  0  0  0  0  0  0  0\\n   -0.0025    0.0039    1.0883 C   0  0  0  0  0  0  0  0  0  0  0  0\\n    0.0177   -0.0311    3.0165 Cl  0  0  0  0  0  0  0  0  0  0  0  0\\n   -0.3740    0.6608   -2.1596 Br  0  0  0  0  0  0  0  0  0  0  0  0\\n  1  4  1  0\\n  2  4  1  0\\n  3  4  1  0\\n  4  5  1  0\\nM  END\\n\",\"molecule\",{\"keepH\": true});\n",
       "\tviewer_17175019992837558.setBackgroundColor(\"white\");\n",
       "\tviewer_17175019992837558.setStyle({\"stick\": {\"scale\": 0.3}, \"sphere\": {\"scale\": 0.3}});\n",
       "\tviewer_17175019992837558.zoomTo();\n",
       "viewer_17175019992837558.render();\n",
       "});\n",
       "</script>"
      ]
     },
     "metadata": {},
     "output_type": "display_data"
    }
   ],
   "source": [
    "# Get the optimized geometry as xyz string\n",
    "optimized_ts_xyz_string = ts_geometry.save_string_xyz()\n",
    "\n",
    "# Get optimized TS molecule\n",
    "ts_optimized_mol = ReadXYZString(optimized_ts_xyz_string)\n",
    "\n",
    "# View the 3D model\n",
    "View3DModel(ts_optimized_mol)"
   ]
  },
  {
   "cell_type": "code",
   "execution_count": 32,
   "id": "ed7a2d9a",
   "metadata": {
    "tags": []
   },
   "outputs": [],
   "source": [
    "# You can also write the optimized TS geometry to a file\n",
    "xyz_file_name = 'SN2_TS_optimized.xyz'\n",
    "xyz_file = open(f'.\\\\structures\\\\{xyz_file_name}', 'w')\n",
    "xyz_file.write(optimized_ts_xyz_string)\n",
    "xyz_file.close()"
   ]
  },
  {
   "cell_type": "code",
   "execution_count": 33,
   "id": "74610440",
   "metadata": {
    "tags": []
   },
   "outputs": [
    {
     "data": {
      "application/3dmoljs_load.v0": "<div id=\"3dmolviewer_17175019994039109\"  style=\"position: relative; width: 800px; height: 400px;\">\n        <p id=\"3dmolwarning_17175019994039109\" style=\"background-color:#ffcccc;color:black\">3Dmol.js failed to load for some reason.  Please check your browser console for error messages.<br></p>\n        </div>\n<script>\n\nvar loadScriptAsync = function(uri){\n  return new Promise((resolve, reject) => {\n    //this is to ignore the existence of requirejs amd\n    var savedexports, savedmodule;\n    if (typeof exports !== 'undefined') savedexports = exports;\n    else exports = {}\n    if (typeof module !== 'undefined') savedmodule = module;\n    else module = {}\n\n    var tag = document.createElement('script');\n    tag.src = uri;\n    tag.async = true;\n    tag.onload = () => {\n        exports = savedexports;\n        module = savedmodule;\n        resolve();\n    };\n  var firstScriptTag = document.getElementsByTagName('script')[0];\n  firstScriptTag.parentNode.insertBefore(tag, firstScriptTag);\n});\n};\n\nif(typeof $3Dmolpromise === 'undefined') {\n$3Dmolpromise = null;\n  $3Dmolpromise = loadScriptAsync('https://cdnjs.cloudflare.com/ajax/libs/3Dmol/2.1.0/3Dmol-min.js');\n}\n\nvar viewer_17175019994039109 = null;\nvar warn = document.getElementById(\"3dmolwarning_17175019994039109\");\nif(warn) {\n    warn.parentNode.removeChild(warn);\n}\n$3Dmolpromise.then(function() {\nviewer_17175019994039109 = $3Dmol.createViewer(document.getElementById(\"3dmolviewer_17175019994039109\"),{backgroundColor:\"white\"});\nviewer_17175019994039109.zoomTo();\n\tviewer_17175019994039109.addModel(\"\\n     RDKit          3D\\n\\n  6  3  0  0  0  0  0  0  0  0999 V2000\\n   -0.0000    1.0720   -0.7600 H   0  0  0  0  0  0  0  0  0  0  0  0\\n    0.9290   -0.5360   -0.7600 H   0  0  0  0  0  0  0  0  0  0  0  0\\n   -0.9290   -0.5360   -0.7600 H   0  0  0  0  0  0  0  0  0  0  0  0\\n    0.0000    0.0000   -0.7680 C   0  0  0  0  0  0  0  0  0  0  0  0\\n    0.0000    0.0000   -3.1330 Cl  0  0  0  0  0  0  0  0  0  0  0  0\\n    0.0000    0.0000    1.7190 Br  0  0  0  0  0  0  0  0  0  0  0  0\\n  1  4  1  0\\n  2  4  1  0\\n  3  4  1  0\\nM  END\\n\",\"molecule\",{\"keepH\": true});\n\tviewer_17175019994039109.setBackgroundColor(\"white\");\n\tviewer_17175019994039109.setStyle({\"stick\": {\"scale\": 0.3}, \"sphere\": {\"scale\": 0.3}});\n\tviewer_17175019994039109.zoomTo();\nviewer_17175019994039109.render();\n});\n</script>",
      "text/html": [
       "<div id=\"3dmolviewer_17175019994039109\"  style=\"position: relative; width: 800px; height: 400px;\">\n",
       "        <p id=\"3dmolwarning_17175019994039109\" style=\"background-color:#ffcccc;color:black\">3Dmol.js failed to load for some reason.  Please check your browser console for error messages.<br></p>\n",
       "        </div>\n",
       "<script>\n",
       "\n",
       "var loadScriptAsync = function(uri){\n",
       "  return new Promise((resolve, reject) => {\n",
       "    //this is to ignore the existence of requirejs amd\n",
       "    var savedexports, savedmodule;\n",
       "    if (typeof exports !== 'undefined') savedexports = exports;\n",
       "    else exports = {}\n",
       "    if (typeof module !== 'undefined') savedmodule = module;\n",
       "    else module = {}\n",
       "\n",
       "    var tag = document.createElement('script');\n",
       "    tag.src = uri;\n",
       "    tag.async = true;\n",
       "    tag.onload = () => {\n",
       "        exports = savedexports;\n",
       "        module = savedmodule;\n",
       "        resolve();\n",
       "    };\n",
       "  var firstScriptTag = document.getElementsByTagName('script')[0];\n",
       "  firstScriptTag.parentNode.insertBefore(tag, firstScriptTag);\n",
       "});\n",
       "};\n",
       "\n",
       "if(typeof $3Dmolpromise === 'undefined') {\n",
       "$3Dmolpromise = null;\n",
       "  $3Dmolpromise = loadScriptAsync('https://cdnjs.cloudflare.com/ajax/libs/3Dmol/2.1.0/3Dmol-min.js');\n",
       "}\n",
       "\n",
       "var viewer_17175019994039109 = null;\n",
       "var warn = document.getElementById(\"3dmolwarning_17175019994039109\");\n",
       "if(warn) {\n",
       "    warn.parentNode.removeChild(warn);\n",
       "}\n",
       "$3Dmolpromise.then(function() {\n",
       "viewer_17175019994039109 = $3Dmol.createViewer(document.getElementById(\"3dmolviewer_17175019994039109\"),{backgroundColor:\"white\"});\n",
       "viewer_17175019994039109.zoomTo();\n",
       "\tviewer_17175019994039109.addModel(\"\\n     RDKit          3D\\n\\n  6  3  0  0  0  0  0  0  0  0999 V2000\\n   -0.0000    1.0720   -0.7600 H   0  0  0  0  0  0  0  0  0  0  0  0\\n    0.9290   -0.5360   -0.7600 H   0  0  0  0  0  0  0  0  0  0  0  0\\n   -0.9290   -0.5360   -0.7600 H   0  0  0  0  0  0  0  0  0  0  0  0\\n    0.0000    0.0000   -0.7680 C   0  0  0  0  0  0  0  0  0  0  0  0\\n    0.0000    0.0000   -3.1330 Cl  0  0  0  0  0  0  0  0  0  0  0  0\\n    0.0000    0.0000    1.7190 Br  0  0  0  0  0  0  0  0  0  0  0  0\\n  1  4  1  0\\n  2  4  1  0\\n  3  4  1  0\\nM  END\\n\",\"molecule\",{\"keepH\": true});\n",
       "\tviewer_17175019994039109.setBackgroundColor(\"white\");\n",
       "\tviewer_17175019994039109.setStyle({\"stick\": {\"scale\": 0.3}, \"sphere\": {\"scale\": 0.3}});\n",
       "\tviewer_17175019994039109.zoomTo();\n",
       "viewer_17175019994039109.render();\n",
       "});\n",
       "</script>"
      ]
     },
     "metadata": {},
     "output_type": "display_data"
    }
   ],
   "source": [
    "# Load the optimized TS geometry from a file\n",
    "xyz_file_name = 'SN2_TS_optimized_gaussian.xyz'\n",
    "xyz_file = open(f'.\\\\structures\\\\{xyz_file_name}', 'r')\n",
    "optimized_ts_xyz_string = xyz_file.read()\n",
    "xyz_file.close()\n",
    "\n",
    "# Get optimized TS molecule\n",
    "ts_optimized_mol = ReadXYZString(optimized_ts_xyz_string)\n",
    "\n",
    "# View the 3D model\n",
    "View3DModel(ts_optimized_mol)"
   ]
  },
  {
   "cell_type": "code",
   "execution_count": 34,
   "id": "5810faa0",
   "metadata": {
    "tags": []
   },
   "outputs": [],
   "source": [
    "# Recalculate the potential energy of the TS\n",
    "ts_geometry = psi4.geometry(optimized_ts_xyz_string)\n",
    "ts_energy = psi4.energy('b3lyp', molecule=ts_geometry, return_wfn=True)\n",
    "ts_energy = ts_energy[0] * psi4.constants.hartree2kcalmol"
   ]
  },
  {
   "cell_type": "code",
   "execution_count": 35,
   "id": "f3d005fb",
   "metadata": {
    "tags": []
   },
   "outputs": [
    {
     "name": "stdout",
     "output_type": "stream",
     "text": [
      "Warning: thermodynamics relations excluded imaginary frequencies: ['315.3432i']\n",
      "Warning: used thermodynamics relations inappropriate for low-frequency modes: ['176.0542' '176.9325' '179.4093']\n"
     ]
    }
   ],
   "source": [
    "# Run frequency analysis\n",
    "energy, wfn = psi4.frequencies('b3lyp', molecule=ts_geometry, return_wfn=True)"
   ]
  },
  {
   "cell_type": "code",
   "execution_count": 36,
   "id": "d1366a1d",
   "metadata": {
    "tags": []
   },
   "outputs": [
    {
     "name": "stdout",
     "output_type": "stream",
     "text": [
      "[-315.34315778  176.05418073  176.93250662  179.40926728  906.99924106\n",
      "  908.89551706  999.32180810 1420.77571561 1422.72200206 3247.60531946\n",
      " 3442.45597690 3446.11718633]\n"
     ]
    }
   ],
   "source": [
    "# Extract frequencies and intensities\n",
    "frequencies = wfn.frequencies().to_array()\n",
    "\n",
    "# Print out the vibrational frequencies to check for imaginary frequencies\n",
    "print(frequencies)"
   ]
  },
  {
   "cell_type": "markdown",
   "id": "b0f82472",
   "metadata": {},
   "source": [
    "### 9.2.3. Reaction Energy Diagram"
   ]
  },
  {
   "cell_type": "markdown",
   "id": "d6f1216c",
   "metadata": {},
   "source": [
    "Knowing the potential energy of the $TS^{\\ddagger}$, we can plot the energy diagram for this reaction:"
   ]
  },
  {
   "cell_type": "code",
   "execution_count": 37,
   "id": "42aab6be",
   "metadata": {
    "tags": []
   },
   "outputs": [],
   "source": [
    "# Get the energy levels for reactants, TS, and products\n",
    "e_reactants_separate = substrate_energy + nu_energy\n",
    "e_reactants_close = substrate_nu_energy\n",
    "e_ts = ts_energy\n",
    "e_products_close = product_lg_energy\n",
    "e_products_separate = product_energy + lg_energy"
   ]
  },
  {
   "cell_type": "code",
   "execution_count": 38,
   "id": "823a877e",
   "metadata": {
    "tags": []
   },
   "outputs": [],
   "source": [
    "# If we set e_reactants_close as the reference point (E = 0), we can calculate the relative energies\n",
    "e_reactants_separate -= e_reactants_close\n",
    "e_ts -= e_reactants_close\n",
    "e_products_close -= e_reactants_close\n",
    "e_products_separate -= e_reactants_close\n",
    "e_reactants_close = 0"
   ]
  },
  {
   "cell_type": "code",
   "execution_count": 39,
   "id": "a566c5a8",
   "metadata": {
    "scrolled": true,
    "tags": []
   },
   "outputs": [
    {
     "data": {
      "image/png": "[encoded data removed]",
      "text/plain": [
       "<Figure size 800x600 with 1 Axes>"
      ]
     },
     "metadata": {},
     "output_type": "display_data"
    }
   ],
   "source": [
    "# Create the plot\n",
    "plt.figure(figsize=(8, 6))\n",
    "\n",
    "# Plotting horizontal lines for each energy state\n",
    "plt.hlines(y=e_reactants_separate, xmin=0, xmax=0.4, color='blue', label='Reactants')\n",
    "plt.hlines(y=e_reactants_close, xmin=0.5, xmax=0.9, color='blue', label='Reactants')\n",
    "plt.hlines(y=e_ts, xmin=1, xmax=1.4, color='red', label='Transition State')\n",
    "plt.hlines(y=e_products_close, xmin=1.5, xmax=1.9, color='green', label='Products')\n",
    "plt.hlines(y=e_products_separate, xmin=2, xmax=2.4, color='green', label='Products')\n",
    "\n",
    "# Connecting the energy levels with dotted lines\n",
    "plt.plot([0.4, 0.5], [e_reactants_separate, e_reactants_close], 'k--')\n",
    "plt.plot([0.9, 1], [e_reactants_close, e_ts], 'k--')\n",
    "plt.plot([1.4, 1.5], [e_ts, e_products_close], 'k--')\n",
    "plt.plot([1.9, 2], [e_products_close, e_products_separate], 'k--')\n",
    "\n",
    "# Adding energy values on top of the lines\n",
    "plt.text(0.2, e_reactants_separate, f'{e_reactants_separate:.1f}', ha='center', va='bottom', color='blue')\n",
    "plt.text(0.7, e_reactants_close, f'{e_reactants_close:.1f}', ha='center', va='bottom', color='blue')\n",
    "plt.text(1.2, e_ts, f'{e_ts:.1f}', ha='center', va='bottom', color='red')\n",
    "plt.text(1.7, e_products_close, f'{e_products_close:.1f}', ha='center', va='bottom', color='green')\n",
    "plt.text(2.2, e_products_separate, f'{e_products_separate:.1f}', ha='center', va='bottom', color='green')\n",
    "\n",
    "# Adding titles, labels, and legend\n",
    "plt.title('Reaction Energy Profile')\n",
    "plt.ylabel('Relative Energy (kcal/mol)')\n",
    "plt.xticks([])\n",
    "plt.legend()\n",
    "\n",
    "# Show the plot\n",
    "plt.show()"
   ]
  },
  {
   "cell_type": "markdown",
   "id": "974a9090",
   "metadata": {},
   "source": [
    "From this diagram, we can also get the activation energy of this reaction:"
   ]
  },
  {
   "cell_type": "code",
   "execution_count": 40,
   "id": "f6c68ea5",
   "metadata": {
    "tags": []
   },
   "outputs": [
    {
     "name": "stdout",
     "output_type": "stream",
     "text": [
      "Activation energy: 2.0684453200083226 kcal/mol\n"
     ]
    }
   ],
   "source": [
    "# Calculate activation energy\n",
    "E_a = ts_energy - substrate_nu_energy\n",
    "print(f'Activation energy: {E_a} kcal/mol')"
   ]
  },
  {
   "cell_type": "markdown",
   "id": "9b89dade",
   "metadata": {},
   "source": [
    "### 9.2.4. Intrinsic Reaction Coordinate (IRC) Scan"
   ]
  },
  {
   "cell_type": "markdown",
   "id": "66cc4ae1",
   "metadata": {},
   "source": [
    "An Intrinsic Reaction Coordinate (IRC) scan is a computational technique used in theoretical chemistry to map out the minimum energy pathway of a chemical reaction from reactants to products via the transition state. This concept is crucial for understanding how a reaction progresses at the molecular level."
   ]
  },
  {
   "cell_type": "markdown",
   "id": "673efd8a",
   "metadata": {},
   "source": [
    "In the section, we will perform IRC scan, both forward and backward, for this reaction:"
   ]
  },
  {
   "cell_type": "markdown",
   "id": "d57ed3a6",
   "metadata": {},
   "source": [
    "***Forward IRC Scan***"
   ]
  },
  {
   "cell_type": "code",
   "execution_count": 41,
   "id": "8e30bf96",
   "metadata": {
    "tags": []
   },
   "outputs": [],
   "source": [
    "# Set optimization parameters\n",
    "max_iters = 100\n",
    "psi4.set_options({'OPT_TYPE': 'IRC'})\n",
    "psi4.set_options({'OPT_COORDINATES': 'CARTESIAN'})\n",
    "psi4.set_options({'GEOM_MAXITER': max_iters})\n",
    "psi4.set_options({'FULL_HESS_EVERY': 10})\n",
    "psi4.set_options({'MAX_DISP_G_CONVERGENCE': 6.0e-6, 'RMS_DISP_G_CONVERGENCE': 4.0e-6})"
   ]
  },
  {
   "cell_type": "code",
   "execution_count": 42,
   "id": "45dec138",
   "metadata": {
    "tags": []
   },
   "outputs": [
    {
     "name": "stdout",
     "output_type": "stream",
     "text": [
      "Warning: thermodynamics relations excluded imaginary frequencies: ['315.4104i']\n",
      "Warning: used thermodynamics relations inappropriate for low-frequency modes: ['176.0388' '178.9868' '179.4094']\n"
     ]
    },
    {
     "name": "stderr",
     "output_type": "stream",
     "text": [
      "\tDenominators (dg)(dq) or (dq)(dq) are very small.\n",
      "\tSkipping Hessian update for step 2.\n",
      "\tDenominators (dg)(dq) or (dq)(dq) are very small.\n",
      "\tSkipping Hessian update for step 4.\n",
      "\tDenominators (dg)(dq) or (dq)(dq) are very small.\n",
      "\tSkipping Hessian update for step 5.\n",
      "\tDenominators (dg)(dq) or (dq)(dq) are very small.\n",
      "\tSkipping Hessian update for step 6.\n",
      "\tDenominators (dg)(dq) or (dq)(dq) are very small.\n",
      "\tSkipping Hessian update for step 5.\n"
     ]
    },
    {
     "name": "stdout",
     "output_type": "stream",
     "text": [
      "Warning: thermodynamics relations excluded imaginary frequencies: ['261.1081i']\n",
      "Warning: used thermodynamics relations inappropriate for low-frequency modes: ['172.3187' '182.3315' '182.5591']\n"
     ]
    },
    {
     "name": "stderr",
     "output_type": "stream",
     "text": [
      "\tDenominators (dg)(dq) or (dq)(dq) are very small.\n",
      "\tSkipping Hessian update for step 7.\n",
      "\tDenominators (dg)(dq) or (dq)(dq) are very small.\n",
      "\tSkipping Hessian update for step 8.\n",
      "\tDenominators (dg)(dq) or (dq)(dq) are very small.\n",
      "\tSkipping Hessian update for step 7.\n",
      "\tDenominators (dg)(dq) or (dq)(dq) are very small.\n",
      "\tSkipping Hessian update for step 9.\n",
      "\tDenominators (dg)(dq) or (dq)(dq) are very small.\n",
      "\tSkipping Hessian update for step 10.\n",
      "\tDenominators (dg)(dq) or (dq)(dq) are very small.\n",
      "\tSkipping Hessian update for step 9.\n",
      "\tDenominators (dg)(dq) or (dq)(dq) are very small.\n",
      "\tSkipping Hessian update for step 11.\n",
      "\tDenominators (dg)(dq) or (dq)(dq) are very small.\n",
      "\tSkipping Hessian update for step 12.\n",
      "\tDenominators (dg)(dq) or (dq)(dq) are very small.\n",
      "\tSkipping Hessian update for step 11.\n"
     ]
    },
    {
     "name": "stdout",
     "output_type": "stream",
     "text": [
      "Warning: thermodynamics relations excluded imaginary frequencies: ['145.1539i']\n",
      "Warning: used thermodynamics relations inappropriate for low-frequency modes: ['170.8365' '183.2520' '183.2633']\n"
     ]
    },
    {
     "name": "stderr",
     "output_type": "stream",
     "text": [
      "\tDenominators (dg)(dq) or (dq)(dq) are very small.\n",
      "\tSkipping Hessian update for step 14.\n",
      "\tDenominators (dg)(dq) or (dq)(dq) are very small.\n",
      "\tSkipping Hessian update for step 15.\n",
      "\tDenominators (dg)(dq) or (dq)(dq) are very small.\n",
      "\tSkipping Hessian update for step 14.\n",
      "C:\\Users\\nguye\\anaconda3\\Lib\\site-packages\\optking\\IRCfollowing.py:415: RuntimeWarning: invalid value encountered in scalar divide\n",
      "  lagrangian += (numerator / denom) ** 2\n",
      "\tDenominators (dg)(dq) or (dq)(dq) are very small.\n",
      "\tSkipping Hessian update for step 17.\n",
      "C:\\Users\\nguye\\anaconda3\\Lib\\site-packages\\optking\\IRCfollowing.py:415: RuntimeWarning: invalid value encountered in scalar divide\n",
      "  lagrangian += (numerator / denom) ** 2\n",
      "\tDenominators (dg)(dq) or (dq)(dq) are very small.\n",
      "\tSkipping Hessian update for step 18.\n",
      "\tDenominators (dg)(dq) or (dq)(dq) are very small.\n",
      "\tSkipping Hessian update for step 17.\n",
      "C:\\Users\\nguye\\anaconda3\\Lib\\site-packages\\optking\\IRCfollowing.py:415: RuntimeWarning: invalid value encountered in scalar divide\n",
      "  lagrangian += (numerator / denom) ** 2\n",
      "C:\\Users\\nguye\\anaconda3\\Lib\\site-packages\\optking\\IRCfollowing.py:415: RuntimeWarning: invalid value encountered in scalar divide\n",
      "  lagrangian += (numerator / denom) ** 2\n",
      "\tDenominators (dg)(dq) or (dq)(dq) are very small.\n",
      "\tSkipping Hessian update for step 20.\n",
      "C:\\Users\\nguye\\anaconda3\\Lib\\site-packages\\optking\\IRCfollowing.py:415: RuntimeWarning: invalid value encountered in scalar divide\n",
      "  lagrangian += (numerator / denom) ** 2\n"
     ]
    },
    {
     "name": "stdout",
     "output_type": "stream",
     "text": [
      "Warning: used thermodynamics relations inappropriate for low-frequency modes: ['112.1085' '178.2639' '183.2826' '183.5815']\n"
     ]
    },
    {
     "name": "stderr",
     "output_type": "stream",
     "text": [
      "C:\\Users\\nguye\\anaconda3\\Lib\\site-packages\\optking\\IRCfollowing.py:415: RuntimeWarning: invalid value encountered in scalar divide\n",
      "  lagrangian += (numerator / denom) ** 2\n",
      "C:\\Users\\nguye\\anaconda3\\Lib\\site-packages\\optking\\IRCfollowing.py:415: RuntimeWarning: invalid value encountered in scalar divide\n",
      "  lagrangian += (numerator / denom) ** 2\n",
      "\tDenominators (dg)(dq) or (dq)(dq) are very small.\n",
      "\tSkipping Hessian update for step 23.\n"
     ]
    },
    {
     "name": "stdout",
     "output_type": "stream",
     "text": [
      "Optimizer: Optimization complete!\n",
      "[{'step_number': 0, 'q': [-2.025786406490792, 1.6500601620597726, 0.0, 1.012893203245396, 1.6500601620597726, 1.7555555705503225, 1.012893203245396, 1.6500601620597726, -1.7555555705503225, 0.0, 1.6651779710634353, 0.0, 0.0, 6.134380257771198, 0.0, 0.0, -3.0345709029501835, 0.0], 'x': [[-2.025786406490792, 1.6500601620597726, 0.0], [1.012893203245396, 1.6500601620597726, 1.7555555705503225], [1.012893203245396, 1.6500601620597726, -1.7555555705503225], [0.0, 1.6651779710634353, 0.0], [0.0, 6.134380257771198, 0.0], [0.0, -3.0345709029501835, 0.0]], 'f_q': [0.0, 0.0, 0.0, 0.0, 0.0, 0.0, 0.0, 0.0, 0.0, 0.00034162883118290025, 0.005863570343013594, 0.0, -3.1193953129790533e-06, -0.0020126174771291916, 0.0, -3.4433387745021694e-06, -0.004901829854836302, 0.0], 'f_x': [0.0, 0.0, 0.0, 0.0, 0.0, 0.0, 0.0, 0.0, 0.0, 0.00034162883118290025, 0.005863570343013594, 0.0, -3.1193953129790533e-06, -0.0020126174771291916, 0.0, -3.4433387745021694e-06, -0.004901829854836302, 0.0], 'energy': -3073.9320871813297, 'q_pivot': [-2.025786406490792, 1.6500601620597726, 0.0, 1.012893203245396, 1.6500601620597726, 1.7555555705503225, 1.012893203245396, 1.6500601620597726, -1.7555555705503225, 5.104379811637568e-07, 1.6921288660841187, -1.6024689053196375e-18, 1.649902262037549e-06, 6.13153073440052, 2.2560493006106808e-20, -9.10415180150121e-06, -3.038858962397234, 9.343252068740167e-20], 'x_pivot': [[-2.025786406490792, 1.6500601620597726, 0.0], [1.012893203245396, 1.6500601620597726, 1.7555555705503225], [1.012893203245396, 1.6500601620597726, -1.7555555705503225], [5.104379811637568e-07, 1.6921288660841187, -1.6024689053196375e-18], [1.649902262037549e-06, 6.13153073440052, 2.2560493006106808e-20], [-9.10415180150121e-06, -3.038858962397234, 9.343252068740167e-20]], 'step_dist': 0.0, 'arc_dist': 0.0, 'line_dist': 0.0}, {'step_number': 1, 'q': [-2.025786406490792, 1.6500601620597726, 0.0, 1.012893203245396, 1.6500601620597726, 1.7555555705503225, 1.012893203245396, 1.6500601620597726, -1.7555555705503225, 0.00033699014526644125, 1.7183893632473533, -4.890197129642525e-19, 2.433980044741807e-06, 6.1296994868388905, 1.9403419592810306e-20, -8.919589332735248e-06, -3.0453174582936415, 8.663676736484102e-20], 'x': [[-2.025786406490792, 1.6500601620597726, 0.0], [1.012893203245396, 1.6500601620597726, 1.7555555705503225], [1.012893203245396, 1.6500601620597726, -1.7555555705503225], [0.00033699014526644125, 1.7183893632473533, -4.890197129642525e-19], [2.433980044741807e-06, 6.1296994868388905, 1.9403419592810306e-20], [-8.919589332735248e-06, -3.0453174582936415, 8.663676736484102e-20]], 'f_q': [0.0, 0.0, 0.0, 0.0, 0.0, 0.0, 0.0, 0.0, 0.0, 0.00010528353950617998, 0.00816816811992684, 0.0, 1.5925927243769255e-06, -0.003745979601525295, 0.0, 1.547074364350796e-07, -0.005854217969183388, 0.0], 'f_x': [0.0, 0.0, 0.0, 0.0, 0.0, 0.0, 0.0, 0.0, 0.0, 0.00010528353950617998, 0.00816816811992684, 0.0, 1.5925927243769255e-06, -0.003745979601525295, 0.0, 1.547074364350796e-07, -0.005854217969183388, 0.0], 'energy': -3073.9325325336326, 'q_pivot': [-2.025786406490792, 1.6500601620597726, 0.0, 1.012893203245396, 1.6500601620597726, 1.7555555705503225, 1.012893203245396, 1.6500601620597726, -1.7555555705503225, 0.0006754725678310275, 1.744649701246204, 0.0, 3.2125249888453852e-06, 6.127868250619584, 0.0, -8.748907736415484e-06, -3.0517761476185297, 0.0], 'x_pivot': [[-2.025786406490792, 1.6500601620597726, 0.0], [1.012893203245396, 1.6500601620597726, 1.7555555705503225], [1.012893203245396, 1.6500601620597726, -1.7555555705503225], [0.0006754725678310275, 1.744649701246204, 0.0], [3.2125249888453852e-06, 6.127868250619584, 0.0], [-8.748907736415484e-06, -3.0517761476185297, 0.0]], 'step_dist': 0.2, 'arc_dist': 0.19985863014637076, 'line_dist': 0.10337506141418747}, {'step_number': 2, 'q': [-2.025786406490792, 1.6500601620597726, 0.0, 1.012893203245396, 1.6500601620597726, 1.7555555705503225, 1.012893203245396, 1.6500601620597726, -1.7555555705503225, 0.0005539649662052004, 1.7711057758388284, -1.5065121086924666e-22, 5.3133682705593875e-06, 6.1256795907354595, 8.327882587829108e-24, -6.960877362557115e-06, -3.0576892993057534, -3.669287901758565e-24], 'x': [[-2.025786406490792, 1.6500601620597726, 0.0], [1.012893203245396, 1.6500601620597726, 1.7555555705503225], [1.012893203245396, 1.6500601620597726, -1.7555555705503225], [0.0005539649662052004, 1.7711057758388284, -1.5065121086924666e-22], [5.3133682705593875e-06, 6.1256795907354595, 8.327882587829108e-24], [-6.960877362557115e-06, -3.0576892993057534, -3.669287901758565e-24]], 'f_q': [0.0, 0.0, 0.0, 0.0, 0.0, 0.0, 0.0, 0.0, 0.0, -4.939645413493582e-05, 0.010238350011067328, 0.0, 5.391944485505957e-06, -0.005570309885706358, 0.0, 2.056500493295569e-06, -0.0066684158810582615, 0.0], 'f_x': [0.0, 0.0, 0.0, 0.0, 0.0, 0.0, 0.0, 0.0, 0.0, -4.939645413493582e-05, 0.010238350011067328, 0.0, 5.391944485505957e-06, -0.005570309885706358, 0.0, 2.056500493295569e-06, -0.0066684158810582615, 0.0], 'energy': -3073.9331155881273, 'q_pivot': [-2.025786406490792, 1.6500601620597726, 0.0, 1.012893203245396, 1.6500601620597726, 1.7555555705503225, 1.012893203245396, 1.6500601620597726, -1.7555555705503225, 0.0004263237467644006, 1.797561834342633, 0.0, 7.431943546703802e-06, 6.123490933037658, 0.0, -5.1373014353179806e-06, -3.0636024331528695, 0.0], 'x_pivot': [[-2.025786406490792, 1.6500601620597726, 0.0], [1.012893203245396, 1.6500601620597726, 1.7555555705503225], [1.012893203245396, 1.6500601620597726, -1.7555555705503225], [0.0004263237467644006, 1.797561834342633, 0.0], [7.431943546703802e-06, 6.123490933037658, 0.0], [-5.1373014353179806e-06, -3.0636024331528695, 0.0]], 'step_dist': 0.4, 'arc_dist': 0.39984359765767946, 'line_dist': 0.2066981137365502}, {'step_number': 3, 'q': [-2.025786406490792, 1.6500601620597726, 0.0, 1.012893203245396, 1.6500601620597726, 1.7555555705503225, 1.012893203245396, 1.6500601620597726, -1.7555555705503225, 0.0004616202578398318, 1.8239869838646312, -2.063265988003202e-22, 8.88867275828735e-06, 6.120997667518782, 4.8447293151083346e-23, -4.3148027619634525e-06, -3.0692868558913884, -1.338482434194107e-23], 'x': [[-2.025786406490792, 1.6500601620597726, 0.0], [1.012893203245396, 1.6500601620597726, 1.7555555705503225], [1.012893203245396, 1.6500601620597726, -1.7555555705503225], [0.0004616202578398318, 1.8239869838646312, -2.063265988003202e-22], [8.88867275828735e-06, 6.120997667518782, 4.8447293151083346e-23], [-4.3148027619634525e-06, -3.0692868558913884, -1.338482434194107e-23]], 'f_q': [0.0, 0.0, 0.0, 0.0, 0.0, 0.0, 0.0, 0.0, 0.0, 1.769820206456291e-05, 0.011910260631385373, 0.0, 4.286399741335339e-06, -0.007390414822729126, 0.0, 1.0483258254888978e-06, -0.007465962372976108, 0.0], 'f_x': [0.0, 0.0, 0.0, 0.0, 0.0, 0.0, 0.0, 0.0, 0.0, 1.769820206456291e-05, 0.011910260631385373, 0.0, 4.286399741335339e-06, -0.007390414822729126, 0.0, 1.0483258254888978e-06, -0.007465962372976108, 0.0], 'energy': -3073.9338161052374, 'q_pivot': [-2.025786406490792, 1.6500601620597726, 0.0, 1.012893203245396, 1.6500601620597726, 1.7555555705503225, 1.012893203245396, 1.6500601620597726, -1.7555555705503225, 0.0005008870823375251, 1.8504121604011128, 0.0, 1.0334753757972223e-05, 6.1185044006515135, 0.0, -3.51663757878599e-06, -3.07497122527363, 0.0], 'x_pivot': [[-2.025786406490792, 1.6500601620597726, 0.0], [1.012893203245396, 1.6500601620597726, 1.7555555705503225], [1.012893203245396, 1.6500601620597726, -1.7555555705503225], [0.0005008870823375251, 1.8504121604011128, 0.0], [1.0334753757972223e-05, 6.1185044006515135, 0.0], [-3.51663757878599e-06, -3.07497122527363, 0.0]], 'step_dist': 0.6000000000000001, 'arc_dist': 0.5998397567501209, 'line_dist': 0.31002879909043307}, {'step_number': 4, 'q': [-2.025786406490792, 1.6500601620597726, 0.0, 1.012893203245396, 1.6500601620597726, 1.7555555705503225, 1.012893203245396, 1.6500601620597726, -1.7555555705503225, 0.0004902735030002336, 1.8766377296634693, 1.6326420225013895e-23, 1.1965942970902646e-05, 6.115694406431046, -4.716969768520559e-25, -2.789190674741643e-06, -3.0806394041416825, -4.738625114333289e-25], 'x': [[-2.025786406490792, 1.6500601620597726, 0.0], [1.012893203245396, 1.6500601620597726, 1.7555555705503225], [1.012893203245396, 1.6500601620597726, -1.7555555705503225], [0.0004902735030002336, 1.8766377296634693, 1.6326420225013895e-23], [1.1965942970902646e-05, 6.115694406431046, -4.716969768520559e-25], [-2.789190674741643e-06, -3.0806394041416825, -4.738625114333289e-25]], 'f_q': [0.0, 0.0, 0.0, 0.0, 0.0, 0.0, 0.0, 0.0, 0.0, -5.284123517615067e-06, 0.01302850830061325, 0.0, 5.329525596347749e-06, -0.009180617462295294, 0.0, 1.0534606748419715e-06, -0.008205660819247795, 0.0], 'f_x': [0.0, 0.0, 0.0, 0.0, 0.0, 0.0, 0.0, 0.0, 0.0, -5.284123517615067e-06, 0.01302850830061325, 0.0, 5.329525596347749e-06, -0.009180617462295294, 0.0, 1.0534606748419715e-06, -0.008205660819247795, 0.0], 'energy': -3073.9346087786257, 'q_pivot': [-2.025786406490792, 1.6500601620597726, 0.0, 1.012893203245396, 1.6500601620597726, 1.7555555705503225, 1.012893203245396, 1.6500601620597726, -1.7555555705503225, 0.0004796368944211587, 1.9028632981424964, 0.0, 1.3597198839186248e-05, 6.112884412213155, 0.0, -2.0614973219979437e-06, -3.0863075842414585, 0.0], 'x_pivot': [[-2.025786406490792, 1.6500601620597726, 0.0], [1.012893203245396, 1.6500601620597726, 1.7555555705503225], [1.012893203245396, 1.6500601620597726, -1.7555555705503225], [0.0004796368944211587, 1.9028632981424964, 0.0], [1.3597198839186248e-05, 6.112884412213155, 0.0], [-2.0614973219979437e-06, -3.0863075842414585, 0.0]], 'step_dist': 0.8, 'arc_dist': 0.7998371194707906, 'line_dist': 0.41305703401948785}, {'step_number': 5, 'q': [-2.025786406490792, 1.6500601620597726, 0.0, 1.012893203245396, 1.6500601620597726, 1.7555555705503225, 1.012893203245396, 1.6500601620597726, -1.7555555705503225, 0.00047895988527002265, 1.9287026864583412, 1.5081761726918389e-22, 1.522704548589062e-05, 6.1097042061918, -1.3235441872731217e-23, -1.6073240637992603e-06, -3.0921405311613097, -1.7769711913267785e-23], 'x': [[-2.025786406490792, 1.6500601620597726, 0.0], [1.012893203245396, 1.6500601620597726, 1.7555555705503225], [1.012893203245396, 1.6500601620597726, -1.7555555705503225], [0.00047895988527002265, 1.9287026864583412, 1.5081761726918389e-22], [1.522704548589062e-05, 6.1097042061918, -1.3235441872731217e-23], [-1.6073240637992603e-06, -3.0921405311613097, -1.7769711913267785e-23]], 'f_q': [0.0, 0.0, 0.0, 0.0, 0.0, 0.0, 0.0, 0.0, 0.0, -2.737791393089676e-07, 0.013471222138907987, 0.0, 5.586091215104287e-06, -0.010903661954401733, 0.0, 6.889485680281307e-07, -0.00886152249674039, 0.0], 'f_x': [0.0, 0.0, 0.0, 0.0, 0.0, 0.0, 0.0, 0.0, 0.0, -2.737791393089676e-07, 0.013471222138907987, 0.0, 5.586091215104287e-06, -0.010903661954401733, 0.0, 6.889485680281307e-07, -0.00886152249674039, 0.0], 'energy': -3073.935460620669, 'q_pivot': [-2.025786406490792, 1.6500601620597726, 0.0, 1.012893203245396, 1.6500601620597726, 1.7555555705503225, 1.012893203245396, 1.6500601620597726, -1.7555555705503225, 0.000478434743606029, 1.9545421277974844, 0.0, 1.6856294484813087e-05, 6.106524025339085, 0.0, -1.1538392098904282e-06, -3.097973428450502, 0.0], 'x_pivot': [[-2.025786406490792, 1.6500601620597726, 0.0], [1.012893203245396, 1.6500601620597726, 1.7555555705503225], [1.012893203245396, 1.6500601620597726, -1.7555555705503225], [0.000478434743606029, 1.9545421277974844, 0.0], [1.6856294484813087e-05, 6.106524025339085, 0.0], [-1.1538392098904282e-06, -3.097973428450502, 0.0]], 'step_dist': 1.0, 'arc_dist': 0.999831860779655, 'line_dist': 0.5154841791690433}, {'step_number': 6, 'q': [-2.025786406490792, 1.6500601620597726, 0.0, 1.012893203245396, 1.6500601620597726, 1.7555555705503225, 1.012893203245396, 1.6500601620597726, -1.7555555705503225, 0.00047512842694551145, 1.9797333523028124, 1.275104645180599e-21, 1.8592867067728886e-05, 6.10288233123937, 7.912524690754781e-23, -9.154655723666244e-07, -3.1041596069585937, 4.1209883265401427e-23], 'x': [[-2.025786406490792, 1.6500601620597726, 0.0], [1.012893203245396, 1.6500601620597726, 1.7555555705503225], [1.012893203245396, 1.6500601620597726, -1.7555555705503225], [0.00047512842694551145, 1.9797333523028124, 1.275104645180599e-21], [1.8592867067728886e-05, 6.10288233123937, 7.912524690754781e-23], [-9.154655723666244e-07, -3.1041596069585937, 4.1209883265401427e-23]], 'f_q': [0.0, 0.0, 0.0, 0.0, 0.0, 0.0, 0.0, 0.0, 0.0, -1.7592393222333035e-06, 0.013156393356887994, 0.0, 5.965293873352713e-06, -0.01250770535076081, 0.0, 3.632209438931552e-07, -0.009414572570153525, 0.0], 'f_x': [0.0, 0.0, 0.0, 0.0, 0.0, 0.0, 0.0, 0.0, 0.0, -1.7592393222333035e-06, 0.013156393356887994, 0.0, 5.965293873352713e-06, -0.01250770535076081, 0.0, 3.632209438931552e-07, -0.009414572570153525, 0.0], 'energy': -3073.936333596922, 'q_pivot': [-2.025786406490792, 1.6500601620597726, 0.0, 1.012893203245396, 1.6500601620597726, 1.7555555705503225, 1.012893203245396, 1.6500601620597726, -1.7555555705503225, 0.00047175990264673213, 2.00492471208365, 0.0, 2.0329667513798903e-05, 6.099240702060035, 0.0, -6.768023467377768e-07, -3.1103456826661957, 0.0], 'x_pivot': [[-2.025786406490792, 1.6500601620597726, 0.0], [1.012893203245396, 1.6500601620597726, 1.7555555705503225], [1.012893203245396, 1.6500601620597726, -1.7555555705503225], [0.00047175990264673213, 2.00492471208365, 0.0], [2.0329667513798903e-05, 6.099240702060035, 0.0], [-6.768023467377768e-07, -3.1103456826661957, 0.0]], 'step_dist': 1.2, 'arc_dist': 1.199819180447588, 'line_dist': 0.6169171011333736}, {'step_number': 7, 'q': [-2.025786406490792, 1.6500601620597726, 0.0, 1.012893203245396, 1.6500601620597726, 1.7555555705503225, 1.012893203245396, 1.6500601620597726, -1.7555555705503225, 0.00046778059239385874, 2.0290523400009914, 1.3557105804736646e-22, 2.2220486774230364e-05, 6.095004496426261, -7.1636823366391105e-25, -6.44394502504006e-07, -3.117105838319526, 1.6838630297604137e-26], 'x': [[-2.025786406490792, 1.6500601620597726, 0.0], [1.012893203245396, 1.6500601620597726, 1.7555555705503225], [1.012893203245396, 1.6500601620597726, -1.7555555705503225], [0.00046778059239385874, 2.0290523400009914, 1.3557105804736646e-22], [2.2220486774230364e-05, 6.095004496426261, -7.1636823366391105e-25], [-6.44394502504006e-07, -3.117105838319526, 1.6838630297604137e-26]], 'f_q': [0.0, 0.0, 0.0, 0.0, 0.0, 0.0, 0.0, 0.0, 0.0, -1.989744027531084e-06, 0.01206145194478142, 0.0, 6.216311114333641e-06, -0.013927028355208579, 0.0, 4.721574740656967e-08, -0.009847852941720798, 0.0], 'f_x': [0.0, 0.0, 0.0, 0.0, 0.0, 0.0, 0.0, 0.0, 0.0, -1.989744027531084e-06, 0.01206145194478142, 0.0, 6.216311114333641e-06, -0.013927028355208579, 0.0, 4.721574740656967e-08, -0.009847852941720798, 0.0], 'energy': -3073.937188102547, 'q_pivot': [-2.025786406490792, 1.6500601620597726, 0.0, 1.012893203245396, 1.6500601620597726, 1.7555555705503225, 1.012893203245396, 1.6500601620597726, -1.7555555705503225, 0.0004638003243883126, 2.0531799718028645, 0.0, 2.4111311032770266e-05, 6.090768292256447, 0.0, -6.11982800506439e-07, -3.1238659912853244, 0.0], 'x_pivot': [[-2.025786406490792, 1.6500601620597726, 0.0], [1.012893203245396, 1.6500601620597726, 1.7555555705503225], [1.012893203245396, 1.6500601620597726, -1.7555555705503225], [0.0004638003243883126, 2.0531799718028645, 0.0], [2.4111311032770266e-05, 6.090768292256447, 0.0], [-6.11982800506439e-07, -3.1238659912853244, 0.0]], 'step_dist': 1.4, 'arc_dist': 1.3997881240639258, 'line_dist': 0.7167589395683799}, {'step_number': 8, 'q': [-2.025786406490792, 1.6500601620597726, 0.0, 1.012893203245396, 1.6500601620597726, 1.7555555705503225, 1.012893203245396, 1.6500601620597726, -1.7555555705503225, 0.0004590570446170113, 2.0755529697609805, -2.731736199032644e-23, 2.6218688713771758e-05, 6.08576495987816, 1.7473460781279456e-23, -7.765365304676047e-07, -3.1314622216246693, -1.38254991988322e-23], 'x': [[-2.025786406490792, 1.6500601620597726, 0.0], [1.012893203245396, 1.6500601620597726, 1.7555555705503225], [1.012893203245396, 1.6500601620597726, -1.7555555705503225], [0.0004590570446170113, 2.0755529697609805, -2.731736199032644e-23], [2.6218688713771758e-05, 6.08576495987816, 1.7473460781279456e-23], [-7.765365304676047e-07, -3.1314622216246693, -1.38254991988322e-23]], 'f_q': [0.0, 0.0, 0.0, 0.0, 0.0, 0.0, 0.0, 0.0, 0.0, -2.1738428989943707e-06, 0.010254429183144578, 0.0, 6.352237066608344e-06, -0.015081493897139305, 0.0, -2.1978739992713995e-07, -0.010145807325753516, 0.0], 'f_x': [0.0, 0.0, 0.0, 0.0, 0.0, 0.0, 0.0, 0.0, 0.0, -2.1738428989943707e-06, 0.010254429183144578, 0.0, 6.352237066608344e-06, -0.015081493897139305, 0.0, -2.1978739992713995e-07, -0.010145807325753516, 0.0], 'energy': -3073.937988058035, 'q_pivot': [-2.025786406490792, 1.6500601620597726, 0.0, 1.012893203245396, 1.6500601620597726, 1.7555555705503225, 1.012893203245396, 1.6500601620597726, -1.7555555705503225, 0.00045431418318398267, 2.0979259465354096, 0.0, 2.8326066010376435e-05, 6.0807616205026855, 0.0, -9.410929902608175e-07, -3.1390584629734612, 0.0], 'x_pivot': [[-2.025786406490792, 1.6500601620597726, 0.0], [1.012893203245396, 1.6500601620597726, 1.7555555705503225], [1.012893203245396, 1.6500601620597726, -1.7555555705503225], [0.00045431418318398267, 2.0979259465354096, 0.0], [2.8326066010376435e-05, 6.0807616205026855, 0.0], [-9.410929902608175e-07, -3.1390584629734612, 0.0]], 'step_dist': 1.5999999999999999, 'arc_dist': 1.599708814598139, 'line_dist': 0.8140607209022189}, {'step_number': 9, 'q': [-2.025786406490792, 1.6500601620597726, 0.0, 1.012893203245396, 1.6500601620597726, 1.7555555705503225, 1.012893203245396, 1.6500601620597726, -1.7555555705503225, 0.0004494482014710645, 2.1174553173791133, -5.339815729467487e-23, 3.0701028636857144e-05, 6.07482283431879, 4.150210568146368e-24, -1.3062671721597888e-06, -3.1477470590523797, 6.80144151582156e-24], 'x': [[-2.025786406490792, 1.6500601620597726, 0.0], [1.012893203245396, 1.6500601620597726, 1.7555555705503225], [1.012893203245396, 1.6500601620597726, -1.7555555705503225], [0.0004494482014710645, 2.1174553173791133, -5.339815729467487e-23], [3.0701028636857144e-05, 6.07482283431879, 4.150210568146368e-24], [-1.3062671721597888e-06, -3.1477470590523797, 6.80144151582156e-24]], 'f_q': [0.0, 0.0, 0.0, 0.0, 0.0, 0.0, 0.0, 0.0, 0.0, -1.9780965390609525e-06, 0.007941020872993018, 0.0, 6.350994851410461e-06, -0.0158812327931572, 0.0, -4.327094007492696e-07, -0.010295311100526925, 0.0], 'f_x': [0.0, 0.0, 0.0, 0.0, 0.0, 0.0, 0.0, 0.0, 0.0, -1.9780965390609525e-06, 0.007941020872993018, 0.0, 6.350994851410461e-06, -0.0158812327931572, 0.0, -4.327094007492696e-07, -0.010295311100526925, 0.0], 'energy': -3073.9387081311816, 'q_pivot': [-2.025786406490792, 1.6500601620597726, 0.0, 1.012893203245396, 1.6500601620597726, 1.7555555705503225, 1.012893203245396, 1.6500601620597726, -1.7555555705503225, 0.0004445834744485533, 2.1369846467441573, 0.0, 3.307598738597592e-05, 6.068884036752213, 0.0, -1.6714473412876802e-06, -3.1564356695665134, 0.0], 'x_pivot': [[-2.025786406490792, 1.6500601620597726, 0.0], [1.012893203245396, 1.6500601620597726, 1.7555555705503225], [1.012893203245396, 1.6500601620597726, -1.7555555705503225], [0.0004445834744485533, 2.1369846467441573, 0.0], [3.307598738597592e-05, 6.068884036752213, 0.0], [-1.6714473412876802e-06, -3.1564356695665134, 0.0]], 'step_dist': 1.7999999999999998, 'arc_dist': 1.7994960398032671, 'line_dist': 0.9074103315574675}, {'step_number': 10, 'q': [-2.025786406490792, 1.6500601620597726, 0.0, 1.012893203245396, 1.6500601620597726, 1.7555555705503225, 1.012893203245396, 1.6500601620597726, -1.7555555705503225, 0.0004403358183454439, 2.15235267860431, 1.9094188329628637e-22, 3.572556762377711e-05, 6.061979481950121, -7.421679244644457e-25, -2.2495812477095776e-06, -3.166301410916371, -1.0093072160974528e-23], 'x': [[-2.025786406490792, 1.6500601620597726, 0.0], [1.012893203245396, 1.6500601620597726, 1.7555555705503225], [1.012893203245396, 1.6500601620597726, -1.7555555705503225], [0.0004403358183454439, 2.15235267860431, 1.9094188329628637e-22], [3.572556762377711e-05, 6.061979481950121, -7.421679244644457e-25], [-2.2495812477095776e-06, -3.166301410916371, -1.0093072160974528e-23]], 'f_q': [0.0, 0.0, 0.0, 0.0, 0.0, 0.0, 0.0, 0.0, 0.0, -1.5205200708991867e-06, 0.005501020450492972, 0.0, 6.237460682601893e-06, -0.016254274065648028, 0.0, -6.030664673704065e-07, -0.01029117480767871, 0.0], 'f_x': [0.0, 0.0, 0.0, 0.0, 0.0, 0.0, 0.0, 0.0, 0.0, -1.5205200708991867e-06, 0.005501020450492972, 0.0, 6.237460682601893e-06, -0.016254274065648028, 0.0, -6.030664673704065e-07, -0.01029117480767871, 0.0], 'energy': -3073.9393421150144, 'q_pivot': [0, 0, 0, 0, 0, 0, 0, 0, 0, 0, 0, 0, 0, 0, 0, 0, 0, 0], 'x_pivot': [0, 0, 0, 0, 0, 0], 'step_dist': 1.9999999999999998, 'arc_dist': 1.9989475213126204, 'line_dist': 0.9952728628506644}]\n"
     ]
    },
    {
     "name": "stderr",
     "output_type": "stream",
     "text": [
      "C:\\Users\\nguye\\anaconda3\\Lib\\site-packages\\optking\\IRCfollowing.py:415: RuntimeWarning: invalid value encountered in scalar divide\n",
      "  lagrangian += (numerator / denom) ** 2\n"
     ]
    }
   ],
   "source": [
    "irc_forward_geometry = psi4.geometry(optimized_ts_xyz_string)\n",
    "\n",
    "# Run forward IRC scan\n",
    "psi4.set_options({'IRC_POINTS': 10})\n",
    "psi4.set_options({'IRC_DIRECTION': 'FORWARD'})\n",
    "irc_forward_energy, irc_forward_history = psi4.optimize('b3lyp', molecule=irc_forward_geometry, return_history=True)"
   ]
  },
  {
   "cell_type": "code",
   "execution_count": 43,
   "id": "a5091103",
   "metadata": {
    "tags": []
   },
   "outputs": [
    {
     "data": {
      "text/plain": [
       "[<matplotlib.lines.Line2D at 0x1e4096e3b50>]"
      ]
     },
     "execution_count": 43,
     "metadata": {},
     "output_type": "execute_result"
    },
    {
     "data": {
      "image/png": "[encoded data removed]",
      "text/plain": [
       "<Figure size 640x480 with 1 Axes>"
      ]
     },
     "metadata": {},
     "output_type": "display_data"
    }
   ],
   "source": [
    "# Plot the energy values of forward IRC scan\n",
    "irc_forward_energies = irc_forward_history['energy']\n",
    "plt.plot(irc_forward_energies)"
   ]
  },
  {
   "cell_type": "code",
   "execution_count": 44,
   "id": "8b4f2946",
   "metadata": {
    "tags": []
   },
   "outputs": [
    {
     "name": "stdout",
     "output_type": "stream",
     "text": [
      "24\n"
     ]
    }
   ],
   "source": [
    "# Get the list of coordinates\n",
    "irc_forward_coordinates_list = irc_forward_history['coordinates']\n",
    "\n",
    "# Get the number of conformers\n",
    "print(len(irc_forward_coordinates_list))"
   ]
  },
  {
   "cell_type": "code",
   "execution_count": 45,
   "id": "8e77f2ea",
   "metadata": {
    "tags": []
   },
   "outputs": [],
   "source": [
    "# Generate the PDB trajectory string\n",
    "pdb_trajectory = WritePDBTrajectory(ts_optimized_mol, irc_forward_coordinates_list, True, 2.5)"
   ]
  },
  {
   "cell_type": "code",
   "execution_count": 46,
   "id": "b2d1d37b",
   "metadata": {
    "tags": []
   },
   "outputs": [
    {
     "data": {
      "application/3dmoljs_load.v0": "<div id=\"3dmolviewer_17175026489583719\"  style=\"position: relative; width: 400px; height: 300px;\">\n        <p id=\"3dmolwarning_17175026489583719\" style=\"background-color:#ffcccc;color:black\">3Dmol.js failed to load for some reason.  Please check your browser console for error messages.<br></p>\n        </div>\n<script>\n\nvar loadScriptAsync = function(uri){\n  return new Promise((resolve, reject) => {\n    //this is to ignore the existence of requirejs amd\n    var savedexports, savedmodule;\n    if (typeof exports !== 'undefined') savedexports = exports;\n    else exports = {}\n    if (typeof module !== 'undefined') savedmodule = module;\n    else module = {}\n\n    var tag = document.createElement('script');\n    tag.src = uri;\n    tag.async = true;\n    tag.onload = () => {\n        exports = savedexports;\n        module = savedmodule;\n        resolve();\n    };\n  var firstScriptTag = document.getElementsByTagName('script')[0];\n  firstScriptTag.parentNode.insertBefore(tag, firstScriptTag);\n});\n};\n\nif(typeof $3Dmolpromise === 'undefined') {\n$3Dmolpromise = null;\n  $3Dmolpromise = loadScriptAsync('https://cdnjs.cloudflare.com/ajax/libs/3Dmol/2.1.0/3Dmol-min.js');\n}\n\nvar viewer_17175026489583719 = null;\nvar warn = document.getElementById(\"3dmolwarning_17175026489583719\");\nif(warn) {\n    warn.parentNode.removeChild(warn);\n}\n$3Dmolpromise.then(function() {\nviewer_17175026489583719 = $3Dmol.createViewer(document.getElementById(\"3dmolviewer_17175026489583719\"),{backgroundColor:\"white\"});\nviewer_17175026489583719.zoomTo();\n\tviewer_17175026489583719.addModelsAsFrames(\"MODEL        1\\nHETATM    1  H1  UNL     1      -2.026   1.650   0.000  1.00  0.00           H  \\nHETATM    2  H2  UNL     1       1.013   1.650   1.756  1.00  0.00           H  \\nHETATM    3  H3  UNL     1       1.013   1.650  -1.756  1.00  0.00           H  \\nHETATM    4  C1  UNL     1       0.000   1.719   0.000  1.00  0.00           C  \\nHETATM    5 CL1  UNL     1       0.000   6.129   0.000  1.00  0.00          CL  \\nHETATM    6 BR1  UNL     1      -0.000  -3.043   0.000  1.00  0.00          BR  \\nCONECT    1    4\\nCONECT    2    4\\nCONECT    3    4\\nCONECT    4    5    6\\nEND\\nENDMDL\\nMODEL        2\\nHETATM    1  H1  UNL     1      -2.026   1.650   0.000  1.00  0.00           H  \\nHETATM    2  H2  UNL     1       1.013   1.650   1.756  1.00  0.00           H  \\nHETATM    3  H3  UNL     1       1.013   1.650  -1.756  1.00  0.00           H  \\nHETATM    4  C1  UNL     1       0.000   1.718   0.000  1.00  0.00           C  \\nHETATM    5 CL1  UNL     1       0.000   6.130   0.000  1.00  0.00          CL  \\nHETATM    6 BR1  UNL     1      -0.000  -3.045   0.000  1.00  0.00          BR  \\nCONECT    1    4\\nCONECT    2    4\\nCONECT    3    4\\nCONECT    4    5    6\\nEND\\nENDMDL\\nMODEL        3\\nHETATM    1  H1  UNL     1      -2.026   1.650   0.000  1.00  0.00           H  \\nHETATM    2  H2  UNL     1       1.013   1.650   1.756  1.00  0.00           H  \\nHETATM    3  H3  UNL     1       1.013   1.650  -1.756  1.00  0.00           H  \\nHETATM    4  C1  UNL     1       0.001   1.771   0.000  1.00  0.00           C  \\nHETATM    5 CL1  UNL     1       0.000   6.126   0.000  1.00  0.00          CL  \\nHETATM    6 BR1  UNL     1      -0.000  -3.058   0.000  1.00  0.00          BR  \\nCONECT    1    4\\nCONECT    2    4\\nCONECT    3    4\\nCONECT    4    5    6\\nEND\\nENDMDL\\nMODEL        4\\nHETATM    1  H1  UNL     1      -2.026   1.650   0.000  1.00  0.00           H  \\nHETATM    2  H2  UNL     1       1.013   1.650   1.756  1.00  0.00           H  \\nHETATM    3  H3  UNL     1       1.013   1.650  -1.756  1.00  0.00           H  \\nHETATM    4  C1  UNL     1       0.001   1.771   0.000  1.00  0.00           C  \\nHETATM    5 CL1  UNL     1       0.000   6.126   0.000  1.00  0.00          CL  \\nHETATM    6 BR1  UNL     1      -0.000  -3.058   0.000  1.00  0.00          BR  \\nCONECT    1    4\\nCONECT    2    4\\nCONECT    3    4\\nCONECT    4    5    6\\nEND\\nENDMDL\\nMODEL        5\\nHETATM    1  H1  UNL     1      -2.026   1.650   0.000  1.00  0.00           H  \\nHETATM    2  H2  UNL     1       1.013   1.650   1.756  1.00  0.00           H  \\nHETATM    3  H3  UNL     1       1.013   1.650  -1.756  1.00  0.00           H  \\nHETATM    4  C1  UNL     1       0.000   1.824   0.000  1.00  0.00           C  \\nHETATM    5 CL1  UNL     1       0.000   6.121   0.000  1.00  0.00          CL  \\nHETATM    6 BR1  UNL     1      -0.000  -3.070   0.000  1.00  0.00          BR  \\nCONECT    1    4\\nCONECT    2    4\\nCONECT    3    4\\nCONECT    4    5    6\\nEND\\nENDMDL\\nMODEL        6\\nHETATM    1  H1  UNL     1      -2.026   1.650   0.000  1.00  0.00           H  \\nHETATM    2  H2  UNL     1       1.013   1.650   1.756  1.00  0.00           H  \\nHETATM    3  H3  UNL     1       1.013   1.650  -1.756  1.00  0.00           H  \\nHETATM    4  C1  UNL     1       0.000   1.824   0.000  1.00  0.00           C  \\nHETATM    5 CL1  UNL     1       0.000   6.121   0.000  1.00  0.00          CL  \\nHETATM    6 BR1  UNL     1      -0.000  -3.069   0.000  1.00  0.00          BR  \\nCONECT    1    4\\nCONECT    2    4\\nCONECT    3    4\\nCONECT    4    5    6\\nEND\\nENDMDL\\nMODEL        7\\nHETATM    1  H1  UNL     1      -2.026   1.650   0.000  1.00  0.00           H  \\nHETATM    2  H2  UNL     1       1.013   1.650   1.756  1.00  0.00           H  \\nHETATM    3  H3  UNL     1       1.013   1.650  -1.756  1.00  0.00           H  \\nHETATM    4  C1  UNL     1       0.001   1.877   0.000  1.00  0.00           C  \\nHETATM    5 CL1  UNL     1       0.000   6.116   0.000  1.00  0.00          CL  \\nHETATM    6 BR1  UNL     1      -0.000  -3.081   0.000  1.00  0.00          BR  \\nCONECT    1    4\\nCONECT    2    4\\nCONECT    3    4\\nCONECT    4    5\\nEND\\nENDMDL\\nMODEL        8\\nHETATM    1  H1  UNL     1      -2.026   1.650   0.000  1.00  0.00           H  \\nHETATM    2  H2  UNL     1       1.013   1.650   1.756  1.00  0.00           H  \\nHETATM    3  H3  UNL     1       1.013   1.650  -1.756  1.00  0.00           H  \\nHETATM    4  C1  UNL     1       0.000   1.877   0.000  1.00  0.00           C  \\nHETATM    5 CL1  UNL     1       0.000   6.116   0.000  1.00  0.00          CL  \\nHETATM    6 BR1  UNL     1      -0.000  -3.081   0.000  1.00  0.00          BR  \\nCONECT    1    4\\nCONECT    2    4\\nCONECT    3    4\\nCONECT    4    5\\nEND\\nENDMDL\\nMODEL        9\\nHETATM    1  H1  UNL     1      -2.026   1.650   0.000  1.00  0.00           H  \\nHETATM    2  H2  UNL     1       1.013   1.650   1.756  1.00  0.00           H  \\nHETATM    3  H3  UNL     1       1.013   1.650  -1.756  1.00  0.00           H  \\nHETATM    4  C1  UNL     1       0.000   1.929   0.000  1.00  0.00           C  \\nHETATM    5 CL1  UNL     1       0.000   6.110   0.000  1.00  0.00          CL  \\nHETATM    6 BR1  UNL     1      -0.000  -3.092   0.000  1.00  0.00          BR  \\nCONECT    1    4\\nCONECT    2    4\\nCONECT    3    4\\nCONECT    4    5\\nEND\\nENDMDL\\nMODEL       10\\nHETATM    1  H1  UNL     1      -2.026   1.650   0.000  1.00  0.00           H  \\nHETATM    2  H2  UNL     1       1.013   1.650   1.756  1.00  0.00           H  \\nHETATM    3  H3  UNL     1       1.013   1.650  -1.756  1.00  0.00           H  \\nHETATM    4  C1  UNL     1       0.000   1.929   0.000  1.00  0.00           C  \\nHETATM    5 CL1  UNL     1       0.000   6.110   0.000  1.00  0.00          CL  \\nHETATM    6 BR1  UNL     1      -0.000  -3.092   0.000  1.00  0.00          BR  \\nCONECT    1    4\\nCONECT    2    4\\nCONECT    3    4\\nCONECT    4    5\\nEND\\nENDMDL\\nMODEL       11\\nHETATM    1  H1  UNL     1      -2.026   1.650   0.000  1.00  0.00           H  \\nHETATM    2  H2  UNL     1       1.013   1.650   1.756  1.00  0.00           H  \\nHETATM    3  H3  UNL     1       1.013   1.650  -1.756  1.00  0.00           H  \\nHETATM    4  C1  UNL     1       0.000   1.980   0.000  1.00  0.00           C  \\nHETATM    5 CL1  UNL     1       0.000   6.103   0.000  1.00  0.00          CL  \\nHETATM    6 BR1  UNL     1      -0.000  -3.104   0.000  1.00  0.00          BR  \\nCONECT    1    4\\nCONECT    2    4\\nCONECT    3    4\\nCONECT    4    5\\nEND\\nENDMDL\\nMODEL       12\\nHETATM    1  H1  UNL     1      -2.026   1.650   0.000  1.00  0.00           H  \\nHETATM    2  H2  UNL     1       1.013   1.650   1.756  1.00  0.00           H  \\nHETATM    3  H3  UNL     1       1.013   1.650  -1.756  1.00  0.00           H  \\nHETATM    4  C1  UNL     1       0.000   1.980   0.000  1.00  0.00           C  \\nHETATM    5 CL1  UNL     1       0.000   6.103   0.000  1.00  0.00          CL  \\nHETATM    6 BR1  UNL     1      -0.000  -3.104   0.000  1.00  0.00          BR  \\nCONECT    1    4\\nCONECT    2    4\\nCONECT    3    4\\nCONECT    4    5\\nEND\\nENDMDL\\nMODEL       13\\nHETATM    1  H1  UNL     1      -2.026   1.650   0.000  1.00  0.00           H  \\nHETATM    2  H2  UNL     1       1.013   1.650   1.756  1.00  0.00           H  \\nHETATM    3  H3  UNL     1       1.013   1.650  -1.756  1.00  0.00           H  \\nHETATM    4  C1  UNL     1       0.000   2.030   0.000  1.00  0.00           C  \\nHETATM    5 CL1  UNL     1       0.000   6.096   0.000  1.00  0.00          CL  \\nHETATM    6 BR1  UNL     1      -0.000  -3.117   0.000  1.00  0.00          BR  \\nCONECT    1    4\\nCONECT    2    4\\nCONECT    3    4\\nCONECT    4    5\\nEND\\nENDMDL\\nMODEL       14\\nHETATM    1  H1  UNL     1      -2.026   1.650   0.000  1.00  0.00           H  \\nHETATM    2  H2  UNL     1       1.013   1.650   1.756  1.00  0.00           H  \\nHETATM    3  H3  UNL     1       1.013   1.650  -1.756  1.00  0.00           H  \\nHETATM    4  C1  UNL     1       0.000   2.029   0.000  1.00  0.00           C  \\nHETATM    5 CL1  UNL     1       0.000   6.095   0.000  1.00  0.00          CL  \\nHETATM    6 BR1  UNL     1      -0.000  -3.117   0.000  1.00  0.00          BR  \\nCONECT    1    4\\nCONECT    2    4\\nCONECT    3    4\\nCONECT    4    5\\nEND\\nENDMDL\\nMODEL       15\\nHETATM    1  H1  UNL     1      -2.026   1.650   0.000  1.00  0.00           H  \\nHETATM    2  H2  UNL     1       1.013   1.650   1.756  1.00  0.00           H  \\nHETATM    3  H3  UNL     1       1.013   1.650  -1.756  1.00  0.00           H  \\nHETATM    4  C1  UNL     1       0.000   2.029   0.000  1.00  0.00           C  \\nHETATM    5 CL1  UNL     1       0.000   6.095   0.000  1.00  0.00          CL  \\nHETATM    6 BR1  UNL     1      -0.000  -3.117   0.000  1.00  0.00          BR  \\nCONECT    1    4\\nCONECT    2    4\\nCONECT    3    4\\nCONECT    4    5\\nEND\\nENDMDL\\nMODEL       16\\nHETATM    1  H1  UNL     1      -2.026   1.650   0.000  1.00  0.00           H  \\nHETATM    2  H2  UNL     1       1.013   1.650   1.756  1.00  0.00           H  \\nHETATM    3  H3  UNL     1       1.013   1.650  -1.756  1.00  0.00           H  \\nHETATM    4  C1  UNL     1       0.000   2.077   0.000  1.00  0.00           C  \\nHETATM    5 CL1  UNL     1       0.000   6.087   0.000  1.00  0.00          CL  \\nHETATM    6 BR1  UNL     1      -0.000  -3.131   0.000  1.00  0.00          BR  \\nCONECT    1    4\\nCONECT    2    4\\nCONECT    3    4\\nCONECT    4    5\\nEND\\nENDMDL\\nMODEL       17\\nHETATM    1  H1  UNL     1      -2.026   1.650   0.000  1.00  0.00           H  \\nHETATM    2  H2  UNL     1       1.013   1.650   1.756  1.00  0.00           H  \\nHETATM    3  H3  UNL     1       1.013   1.650  -1.756  1.00  0.00           H  \\nHETATM    4  C1  UNL     1       0.000   2.076   0.000  1.00  0.00           C  \\nHETATM    5 CL1  UNL     1       0.000   6.086   0.000  1.00  0.00          CL  \\nHETATM    6 BR1  UNL     1      -0.000  -3.131   0.000  1.00  0.00          BR  \\nCONECT    1    4\\nCONECT    2    4\\nCONECT    3    4\\nCONECT    4    5\\nEND\\nENDMDL\\nMODEL       18\\nHETATM    1  H1  UNL     1      -2.026   1.650   0.000  1.00  0.00           H  \\nHETATM    2  H2  UNL     1       1.013   1.650   1.756  1.00  0.00           H  \\nHETATM    3  H3  UNL     1       1.013   1.650  -1.756  1.00  0.00           H  \\nHETATM    4  C1  UNL     1       0.000   2.076   0.000  1.00  0.00           C  \\nHETATM    5 CL1  UNL     1       0.000   6.086   0.000  1.00  0.00          CL  \\nHETATM    6 BR1  UNL     1      -0.000  -3.131   0.000  1.00  0.00          BR  \\nCONECT    1    4\\nCONECT    2    4\\nCONECT    3    4\\nCONECT    4    5\\nEND\\nENDMDL\\nMODEL       19\\nHETATM    1  H1  UNL     1      -2.026   1.650   0.000  1.00  0.00           H  \\nHETATM    2  H2  UNL     1       1.013   1.650   1.756  1.00  0.00           H  \\nHETATM    3  H3  UNL     1       1.013   1.650  -1.756  1.00  0.00           H  \\nHETATM    4  C1  UNL     1       0.000   2.120   0.000  1.00  0.00           C  \\nHETATM    5 CL1  UNL     1       0.000   6.076   0.000  1.00  0.00          CL  \\nHETATM    6 BR1  UNL     1      -0.000  -3.147   0.000  1.00  0.00          BR  \\nCONECT    1    4\\nCONECT    2    4\\nCONECT    3    4\\nCONECT    4    5\\nEND\\nENDMDL\\nMODEL       20\\nHETATM    1  H1  UNL     1      -2.026   1.650   0.000  1.00  0.00           H  \\nHETATM    2  H2  UNL     1       1.013   1.650   1.756  1.00  0.00           H  \\nHETATM    3  H3  UNL     1       1.013   1.650  -1.756  1.00  0.00           H  \\nHETATM    4  C1  UNL     1       0.000   2.117   0.000  1.00  0.00           C  \\nHETATM    5 CL1  UNL     1       0.000   6.075   0.000  1.00  0.00          CL  \\nHETATM    6 BR1  UNL     1      -0.000  -3.148   0.000  1.00  0.00          BR  \\nCONECT    1    4\\nCONECT    2    4\\nCONECT    3    4\\nCONECT    4    5\\nEND\\nENDMDL\\nMODEL       21\\nHETATM    1  H1  UNL     1      -2.026   1.650   0.000  1.00  0.00           H  \\nHETATM    2  H2  UNL     1       1.013   1.650   1.756  1.00  0.00           H  \\nHETATM    3  H3  UNL     1       1.013   1.650  -1.756  1.00  0.00           H  \\nHETATM    4  C1  UNL     1       0.000   2.117   0.000  1.00  0.00           C  \\nHETATM    5 CL1  UNL     1       0.000   6.075   0.000  1.00  0.00          CL  \\nHETATM    6 BR1  UNL     1      -0.000  -3.148   0.000  1.00  0.00          BR  \\nCONECT    1    4\\nCONECT    2    4\\nCONECT    3    4\\nCONECT    4    5\\nEND\\nENDMDL\\nMODEL       22\\nHETATM    1  H1  UNL     1      -2.026   1.650   0.000  1.00  0.00           H  \\nHETATM    2  H2  UNL     1       1.013   1.650   1.756  1.00  0.00           H  \\nHETATM    3  H3  UNL     1       1.013   1.650  -1.756  1.00  0.00           H  \\nHETATM    4  C1  UNL     1       0.000   2.157   0.000  1.00  0.00           C  \\nHETATM    5 CL1  UNL     1       0.000   6.063   0.000  1.00  0.00          CL  \\nHETATM    6 BR1  UNL     1      -0.000  -3.165   0.000  1.00  0.00          BR  \\nCONECT    1    4\\nCONECT    2    4\\nCONECT    3    4\\nCONECT    4    5\\nEND\\nENDMDL\\nMODEL       23\\nHETATM    1  H1  UNL     1      -2.026   1.650   0.000  1.00  0.00           H  \\nHETATM    2  H2  UNL     1       1.013   1.650   1.756  1.00  0.00           H  \\nHETATM    3  H3  UNL     1       1.013   1.650  -1.756  1.00  0.00           H  \\nHETATM    4  C1  UNL     1       0.000   2.152   0.000  1.00  0.00           C  \\nHETATM    5 CL1  UNL     1       0.000   6.062   0.000  1.00  0.00          CL  \\nHETATM    6 BR1  UNL     1      -0.000  -3.166   0.000  1.00  0.00          BR  \\nCONECT    1    4\\nCONECT    2    4\\nCONECT    3    4\\nCONECT    4    5\\nEND\\nENDMDL\\nMODEL       24\\nHETATM    1  H1  UNL     1      -2.026   1.650   0.000  1.00  0.00           H  \\nHETATM    2  H2  UNL     1       1.013   1.650   1.756  1.00  0.00           H  \\nHETATM    3  H3  UNL     1       1.013   1.650  -1.756  1.00  0.00           H  \\nHETATM    4  C1  UNL     1       0.000   2.152   0.000  1.00  0.00           C  \\nHETATM    5 CL1  UNL     1       0.000   6.062   0.000  1.00  0.00          CL  \\nHETATM    6 BR1  UNL     1      -0.000  -3.166   0.000  1.00  0.00          BR  \\nCONECT    1    4\\nCONECT    2    4\\nCONECT    3    4\\nCONECT    4    5\\nEND\\nENDMDL\\n\",\"trajectory\",{\"keepH\": true});\n\tviewer_17175026489583719.setBackgroundColor(\"white\");\n\tviewer_17175026489583719.setStyle({\"stick\": {\"scale\": 0.3}, \"sphere\": {\"scale\": 0.3}});\n\tviewer_17175026489583719.zoomTo();\n\tviewer_17175026489583719.animate({\"loop\": \"forward\", \"interval\": 200});\nviewer_17175026489583719.render();\n});\n</script>",
      "text/html": [
       "<div id=\"3dmolviewer_17175026489583719\"  style=\"position: relative; width: 400px; height: 300px;\">\n",
       "        <p id=\"3dmolwarning_17175026489583719\" style=\"background-color:#ffcccc;color:black\">3Dmol.js failed to load for some reason.  Please check your browser console for error messages.<br></p>\n",
       "        </div>\n",
       "<script>\n",
       "\n",
       "var loadScriptAsync = function(uri){\n",
       "  return new Promise((resolve, reject) => {\n",
       "    //this is to ignore the existence of requirejs amd\n",
       "    var savedexports, savedmodule;\n",
       "    if (typeof exports !== 'undefined') savedexports = exports;\n",
       "    else exports = {}\n",
       "    if (typeof module !== 'undefined') savedmodule = module;\n",
       "    else module = {}\n",
       "\n",
       "    var tag = document.createElement('script');\n",
       "    tag.src = uri;\n",
       "    tag.async = true;\n",
       "    tag.onload = () => {\n",
       "        exports = savedexports;\n",
       "        module = savedmodule;\n",
       "        resolve();\n",
       "    };\n",
       "  var firstScriptTag = document.getElementsByTagName('script')[0];\n",
       "  firstScriptTag.parentNode.insertBefore(tag, firstScriptTag);\n",
       "});\n",
       "};\n",
       "\n",
       "if(typeof $3Dmolpromise === 'undefined') {\n",
       "$3Dmolpromise = null;\n",
       "  $3Dmolpromise = loadScriptAsync('https://cdnjs.cloudflare.com/ajax/libs/3Dmol/2.1.0/3Dmol-min.js');\n",
       "}\n",
       "\n",
       "var viewer_17175026489583719 = null;\n",
       "var warn = document.getElementById(\"3dmolwarning_17175026489583719\");\n",
       "if(warn) {\n",
       "    warn.parentNode.removeChild(warn);\n",
       "}\n",
       "$3Dmolpromise.then(function() {\n",
       "viewer_17175026489583719 = $3Dmol.createViewer(document.getElementById(\"3dmolviewer_17175026489583719\"),{backgroundColor:\"white\"});\n",
       "viewer_17175026489583719.zoomTo();\n",
       "\tviewer_17175026489583719.addModelsAsFrames(\"MODEL        1\\nHETATM    1  H1  UNL     1      -2.026   1.650   0.000  1.00  0.00           H  \\nHETATM    2  H2  UNL     1       1.013   1.650   1.756  1.00  0.00           H  \\nHETATM    3  H3  UNL     1       1.013   1.650  -1.756  1.00  0.00           H  \\nHETATM    4  C1  UNL     1       0.000   1.719   0.000  1.00  0.00           C  \\nHETATM    5 CL1  UNL     1       0.000   6.129   0.000  1.00  0.00          CL  \\nHETATM    6 BR1  UNL     1      -0.000  -3.043   0.000  1.00  0.00          BR  \\nCONECT    1    4\\nCONECT    2    4\\nCONECT    3    4\\nCONECT    4    5    6\\nEND\\nENDMDL\\nMODEL        2\\nHETATM    1  H1  UNL     1      -2.026   1.650   0.000  1.00  0.00           H  \\nHETATM    2  H2  UNL     1       1.013   1.650   1.756  1.00  0.00           H  \\nHETATM    3  H3  UNL     1       1.013   1.650  -1.756  1.00  0.00           H  \\nHETATM    4  C1  UNL     1       0.000   1.718   0.000  1.00  0.00           C  \\nHETATM    5 CL1  UNL     1       0.000   6.130   0.000  1.00  0.00          CL  \\nHETATM    6 BR1  UNL     1      -0.000  -3.045   0.000  1.00  0.00          BR  \\nCONECT    1    4\\nCONECT    2    4\\nCONECT    3    4\\nCONECT    4    5    6\\nEND\\nENDMDL\\nMODEL        3\\nHETATM    1  H1  UNL     1      -2.026   1.650   0.000  1.00  0.00           H  \\nHETATM    2  H2  UNL     1       1.013   1.650   1.756  1.00  0.00           H  \\nHETATM    3  H3  UNL     1       1.013   1.650  -1.756  1.00  0.00           H  \\nHETATM    4  C1  UNL     1       0.001   1.771   0.000  1.00  0.00           C  \\nHETATM    5 CL1  UNL     1       0.000   6.126   0.000  1.00  0.00          CL  \\nHETATM    6 BR1  UNL     1      -0.000  -3.058   0.000  1.00  0.00          BR  \\nCONECT    1    4\\nCONECT    2    4\\nCONECT    3    4\\nCONECT    4    5    6\\nEND\\nENDMDL\\nMODEL        4\\nHETATM    1  H1  UNL     1      -2.026   1.650   0.000  1.00  0.00           H  \\nHETATM    2  H2  UNL     1       1.013   1.650   1.756  1.00  0.00           H  \\nHETATM    3  H3  UNL     1       1.013   1.650  -1.756  1.00  0.00           H  \\nHETATM    4  C1  UNL     1       0.001   1.771   0.000  1.00  0.00           C  \\nHETATM    5 CL1  UNL     1       0.000   6.126   0.000  1.00  0.00          CL  \\nHETATM    6 BR1  UNL     1      -0.000  -3.058   0.000  1.00  0.00          BR  \\nCONECT    1    4\\nCONECT    2    4\\nCONECT    3    4\\nCONECT    4    5    6\\nEND\\nENDMDL\\nMODEL        5\\nHETATM    1  H1  UNL     1      -2.026   1.650   0.000  1.00  0.00           H  \\nHETATM    2  H2  UNL     1       1.013   1.650   1.756  1.00  0.00           H  \\nHETATM    3  H3  UNL     1       1.013   1.650  -1.756  1.00  0.00           H  \\nHETATM    4  C1  UNL     1       0.000   1.824   0.000  1.00  0.00           C  \\nHETATM    5 CL1  UNL     1       0.000   6.121   0.000  1.00  0.00          CL  \\nHETATM    6 BR1  UNL     1      -0.000  -3.070   0.000  1.00  0.00          BR  \\nCONECT    1    4\\nCONECT    2    4\\nCONECT    3    4\\nCONECT    4    5    6\\nEND\\nENDMDL\\nMODEL        6\\nHETATM    1  H1  UNL     1      -2.026   1.650   0.000  1.00  0.00           H  \\nHETATM    2  H2  UNL     1       1.013   1.650   1.756  1.00  0.00           H  \\nHETATM    3  H3  UNL     1       1.013   1.650  -1.756  1.00  0.00           H  \\nHETATM    4  C1  UNL     1       0.000   1.824   0.000  1.00  0.00           C  \\nHETATM    5 CL1  UNL     1       0.000   6.121   0.000  1.00  0.00          CL  \\nHETATM    6 BR1  UNL     1      -0.000  -3.069   0.000  1.00  0.00          BR  \\nCONECT    1    4\\nCONECT    2    4\\nCONECT    3    4\\nCONECT    4    5    6\\nEND\\nENDMDL\\nMODEL        7\\nHETATM    1  H1  UNL     1      -2.026   1.650   0.000  1.00  0.00           H  \\nHETATM    2  H2  UNL     1       1.013   1.650   1.756  1.00  0.00           H  \\nHETATM    3  H3  UNL     1       1.013   1.650  -1.756  1.00  0.00           H  \\nHETATM    4  C1  UNL     1       0.001   1.877   0.000  1.00  0.00           C  \\nHETATM    5 CL1  UNL     1       0.000   6.116   0.000  1.00  0.00          CL  \\nHETATM    6 BR1  UNL     1      -0.000  -3.081   0.000  1.00  0.00          BR  \\nCONECT    1    4\\nCONECT    2    4\\nCONECT    3    4\\nCONECT    4    5\\nEND\\nENDMDL\\nMODEL        8\\nHETATM    1  H1  UNL     1      -2.026   1.650   0.000  1.00  0.00           H  \\nHETATM    2  H2  UNL     1       1.013   1.650   1.756  1.00  0.00           H  \\nHETATM    3  H3  UNL     1       1.013   1.650  -1.756  1.00  0.00           H  \\nHETATM    4  C1  UNL     1       0.000   1.877   0.000  1.00  0.00           C  \\nHETATM    5 CL1  UNL     1       0.000   6.116   0.000  1.00  0.00          CL  \\nHETATM    6 BR1  UNL     1      -0.000  -3.081   0.000  1.00  0.00          BR  \\nCONECT    1    4\\nCONECT    2    4\\nCONECT    3    4\\nCONECT    4    5\\nEND\\nENDMDL\\nMODEL        9\\nHETATM    1  H1  UNL     1      -2.026   1.650   0.000  1.00  0.00           H  \\nHETATM    2  H2  UNL     1       1.013   1.650   1.756  1.00  0.00           H  \\nHETATM    3  H3  UNL     1       1.013   1.650  -1.756  1.00  0.00           H  \\nHETATM    4  C1  UNL     1       0.000   1.929   0.000  1.00  0.00           C  \\nHETATM    5 CL1  UNL     1       0.000   6.110   0.000  1.00  0.00          CL  \\nHETATM    6 BR1  UNL     1      -0.000  -3.092   0.000  1.00  0.00          BR  \\nCONECT    1    4\\nCONECT    2    4\\nCONECT    3    4\\nCONECT    4    5\\nEND\\nENDMDL\\nMODEL       10\\nHETATM    1  H1  UNL     1      -2.026   1.650   0.000  1.00  0.00           H  \\nHETATM    2  H2  UNL     1       1.013   1.650   1.756  1.00  0.00           H  \\nHETATM    3  H3  UNL     1       1.013   1.650  -1.756  1.00  0.00           H  \\nHETATM    4  C1  UNL     1       0.000   1.929   0.000  1.00  0.00           C  \\nHETATM    5 CL1  UNL     1       0.000   6.110   0.000  1.00  0.00          CL  \\nHETATM    6 BR1  UNL     1      -0.000  -3.092   0.000  1.00  0.00          BR  \\nCONECT    1    4\\nCONECT    2    4\\nCONECT    3    4\\nCONECT    4    5\\nEND\\nENDMDL\\nMODEL       11\\nHETATM    1  H1  UNL     1      -2.026   1.650   0.000  1.00  0.00           H  \\nHETATM    2  H2  UNL     1       1.013   1.650   1.756  1.00  0.00           H  \\nHETATM    3  H3  UNL     1       1.013   1.650  -1.756  1.00  0.00           H  \\nHETATM    4  C1  UNL     1       0.000   1.980   0.000  1.00  0.00           C  \\nHETATM    5 CL1  UNL     1       0.000   6.103   0.000  1.00  0.00          CL  \\nHETATM    6 BR1  UNL     1      -0.000  -3.104   0.000  1.00  0.00          BR  \\nCONECT    1    4\\nCONECT    2    4\\nCONECT    3    4\\nCONECT    4    5\\nEND\\nENDMDL\\nMODEL       12\\nHETATM    1  H1  UNL     1      -2.026   1.650   0.000  1.00  0.00           H  \\nHETATM    2  H2  UNL     1       1.013   1.650   1.756  1.00  0.00           H  \\nHETATM    3  H3  UNL     1       1.013   1.650  -1.756  1.00  0.00           H  \\nHETATM    4  C1  UNL     1       0.000   1.980   0.000  1.00  0.00           C  \\nHETATM    5 CL1  UNL     1       0.000   6.103   0.000  1.00  0.00          CL  \\nHETATM    6 BR1  UNL     1      -0.000  -3.104   0.000  1.00  0.00          BR  \\nCONECT    1    4\\nCONECT    2    4\\nCONECT    3    4\\nCONECT    4    5\\nEND\\nENDMDL\\nMODEL       13\\nHETATM    1  H1  UNL     1      -2.026   1.650   0.000  1.00  0.00           H  \\nHETATM    2  H2  UNL     1       1.013   1.650   1.756  1.00  0.00           H  \\nHETATM    3  H3  UNL     1       1.013   1.650  -1.756  1.00  0.00           H  \\nHETATM    4  C1  UNL     1       0.000   2.030   0.000  1.00  0.00           C  \\nHETATM    5 CL1  UNL     1       0.000   6.096   0.000  1.00  0.00          CL  \\nHETATM    6 BR1  UNL     1      -0.000  -3.117   0.000  1.00  0.00          BR  \\nCONECT    1    4\\nCONECT    2    4\\nCONECT    3    4\\nCONECT    4    5\\nEND\\nENDMDL\\nMODEL       14\\nHETATM    1  H1  UNL     1      -2.026   1.650   0.000  1.00  0.00           H  \\nHETATM    2  H2  UNL     1       1.013   1.650   1.756  1.00  0.00           H  \\nHETATM    3  H3  UNL     1       1.013   1.650  -1.756  1.00  0.00           H  \\nHETATM    4  C1  UNL     1       0.000   2.029   0.000  1.00  0.00           C  \\nHETATM    5 CL1  UNL     1       0.000   6.095   0.000  1.00  0.00          CL  \\nHETATM    6 BR1  UNL     1      -0.000  -3.117   0.000  1.00  0.00          BR  \\nCONECT    1    4\\nCONECT    2    4\\nCONECT    3    4\\nCONECT    4    5\\nEND\\nENDMDL\\nMODEL       15\\nHETATM    1  H1  UNL     1      -2.026   1.650   0.000  1.00  0.00           H  \\nHETATM    2  H2  UNL     1       1.013   1.650   1.756  1.00  0.00           H  \\nHETATM    3  H3  UNL     1       1.013   1.650  -1.756  1.00  0.00           H  \\nHETATM    4  C1  UNL     1       0.000   2.029   0.000  1.00  0.00           C  \\nHETATM    5 CL1  UNL     1       0.000   6.095   0.000  1.00  0.00          CL  \\nHETATM    6 BR1  UNL     1      -0.000  -3.117   0.000  1.00  0.00          BR  \\nCONECT    1    4\\nCONECT    2    4\\nCONECT    3    4\\nCONECT    4    5\\nEND\\nENDMDL\\nMODEL       16\\nHETATM    1  H1  UNL     1      -2.026   1.650   0.000  1.00  0.00           H  \\nHETATM    2  H2  UNL     1       1.013   1.650   1.756  1.00  0.00           H  \\nHETATM    3  H3  UNL     1       1.013   1.650  -1.756  1.00  0.00           H  \\nHETATM    4  C1  UNL     1       0.000   2.077   0.000  1.00  0.00           C  \\nHETATM    5 CL1  UNL     1       0.000   6.087   0.000  1.00  0.00          CL  \\nHETATM    6 BR1  UNL     1      -0.000  -3.131   0.000  1.00  0.00          BR  \\nCONECT    1    4\\nCONECT    2    4\\nCONECT    3    4\\nCONECT    4    5\\nEND\\nENDMDL\\nMODEL       17\\nHETATM    1  H1  UNL     1      -2.026   1.650   0.000  1.00  0.00           H  \\nHETATM    2  H2  UNL     1       1.013   1.650   1.756  1.00  0.00           H  \\nHETATM    3  H3  UNL     1       1.013   1.650  -1.756  1.00  0.00           H  \\nHETATM    4  C1  UNL     1       0.000   2.076   0.000  1.00  0.00           C  \\nHETATM    5 CL1  UNL     1       0.000   6.086   0.000  1.00  0.00          CL  \\nHETATM    6 BR1  UNL     1      -0.000  -3.131   0.000  1.00  0.00          BR  \\nCONECT    1    4\\nCONECT    2    4\\nCONECT    3    4\\nCONECT    4    5\\nEND\\nENDMDL\\nMODEL       18\\nHETATM    1  H1  UNL     1      -2.026   1.650   0.000  1.00  0.00           H  \\nHETATM    2  H2  UNL     1       1.013   1.650   1.756  1.00  0.00           H  \\nHETATM    3  H3  UNL     1       1.013   1.650  -1.756  1.00  0.00           H  \\nHETATM    4  C1  UNL     1       0.000   2.076   0.000  1.00  0.00           C  \\nHETATM    5 CL1  UNL     1       0.000   6.086   0.000  1.00  0.00          CL  \\nHETATM    6 BR1  UNL     1      -0.000  -3.131   0.000  1.00  0.00          BR  \\nCONECT    1    4\\nCONECT    2    4\\nCONECT    3    4\\nCONECT    4    5\\nEND\\nENDMDL\\nMODEL       19\\nHETATM    1  H1  UNL     1      -2.026   1.650   0.000  1.00  0.00           H  \\nHETATM    2  H2  UNL     1       1.013   1.650   1.756  1.00  0.00           H  \\nHETATM    3  H3  UNL     1       1.013   1.650  -1.756  1.00  0.00           H  \\nHETATM    4  C1  UNL     1       0.000   2.120   0.000  1.00  0.00           C  \\nHETATM    5 CL1  UNL     1       0.000   6.076   0.000  1.00  0.00          CL  \\nHETATM    6 BR1  UNL     1      -0.000  -3.147   0.000  1.00  0.00          BR  \\nCONECT    1    4\\nCONECT    2    4\\nCONECT    3    4\\nCONECT    4    5\\nEND\\nENDMDL\\nMODEL       20\\nHETATM    1  H1  UNL     1      -2.026   1.650   0.000  1.00  0.00           H  \\nHETATM    2  H2  UNL     1       1.013   1.650   1.756  1.00  0.00           H  \\nHETATM    3  H3  UNL     1       1.013   1.650  -1.756  1.00  0.00           H  \\nHETATM    4  C1  UNL     1       0.000   2.117   0.000  1.00  0.00           C  \\nHETATM    5 CL1  UNL     1       0.000   6.075   0.000  1.00  0.00          CL  \\nHETATM    6 BR1  UNL     1      -0.000  -3.148   0.000  1.00  0.00          BR  \\nCONECT    1    4\\nCONECT    2    4\\nCONECT    3    4\\nCONECT    4    5\\nEND\\nENDMDL\\nMODEL       21\\nHETATM    1  H1  UNL     1      -2.026   1.650   0.000  1.00  0.00           H  \\nHETATM    2  H2  UNL     1       1.013   1.650   1.756  1.00  0.00           H  \\nHETATM    3  H3  UNL     1       1.013   1.650  -1.756  1.00  0.00           H  \\nHETATM    4  C1  UNL     1       0.000   2.117   0.000  1.00  0.00           C  \\nHETATM    5 CL1  UNL     1       0.000   6.075   0.000  1.00  0.00          CL  \\nHETATM    6 BR1  UNL     1      -0.000  -3.148   0.000  1.00  0.00          BR  \\nCONECT    1    4\\nCONECT    2    4\\nCONECT    3    4\\nCONECT    4    5\\nEND\\nENDMDL\\nMODEL       22\\nHETATM    1  H1  UNL     1      -2.026   1.650   0.000  1.00  0.00           H  \\nHETATM    2  H2  UNL     1       1.013   1.650   1.756  1.00  0.00           H  \\nHETATM    3  H3  UNL     1       1.013   1.650  -1.756  1.00  0.00           H  \\nHETATM    4  C1  UNL     1       0.000   2.157   0.000  1.00  0.00           C  \\nHETATM    5 CL1  UNL     1       0.000   6.063   0.000  1.00  0.00          CL  \\nHETATM    6 BR1  UNL     1      -0.000  -3.165   0.000  1.00  0.00          BR  \\nCONECT    1    4\\nCONECT    2    4\\nCONECT    3    4\\nCONECT    4    5\\nEND\\nENDMDL\\nMODEL       23\\nHETATM    1  H1  UNL     1      -2.026   1.650   0.000  1.00  0.00           H  \\nHETATM    2  H2  UNL     1       1.013   1.650   1.756  1.00  0.00           H  \\nHETATM    3  H3  UNL     1       1.013   1.650  -1.756  1.00  0.00           H  \\nHETATM    4  C1  UNL     1       0.000   2.152   0.000  1.00  0.00           C  \\nHETATM    5 CL1  UNL     1       0.000   6.062   0.000  1.00  0.00          CL  \\nHETATM    6 BR1  UNL     1      -0.000  -3.166   0.000  1.00  0.00          BR  \\nCONECT    1    4\\nCONECT    2    4\\nCONECT    3    4\\nCONECT    4    5\\nEND\\nENDMDL\\nMODEL       24\\nHETATM    1  H1  UNL     1      -2.026   1.650   0.000  1.00  0.00           H  \\nHETATM    2  H2  UNL     1       1.013   1.650   1.756  1.00  0.00           H  \\nHETATM    3  H3  UNL     1       1.013   1.650  -1.756  1.00  0.00           H  \\nHETATM    4  C1  UNL     1       0.000   2.152   0.000  1.00  0.00           C  \\nHETATM    5 CL1  UNL     1       0.000   6.062   0.000  1.00  0.00          CL  \\nHETATM    6 BR1  UNL     1      -0.000  -3.166   0.000  1.00  0.00          BR  \\nCONECT    1    4\\nCONECT    2    4\\nCONECT    3    4\\nCONECT    4    5\\nEND\\nENDMDL\\n\",\"trajectory\",{\"keepH\": true});\n",
       "\tviewer_17175026489583719.setBackgroundColor(\"white\");\n",
       "\tviewer_17175026489583719.setStyle({\"stick\": {\"scale\": 0.3}, \"sphere\": {\"scale\": 0.3}});\n",
       "\tviewer_17175026489583719.zoomTo();\n",
       "\tviewer_17175026489583719.animate({\"loop\": \"forward\", \"interval\": 200});\n",
       "viewer_17175026489583719.render();\n",
       "});\n",
       "</script>"
      ]
     },
     "metadata": {},
     "output_type": "display_data"
    }
   ],
   "source": [
    "# Show the animation\n",
    "view = py3Dmol.view(width=400, height=300)\n",
    "view.addModelsAsFrames(pdb_trajectory, \"trajectory\", {'keepH': True})\n",
    "view.setBackgroundColor('white')\n",
    "view.setStyle({'stick': {'scale': 0.3}, 'sphere': {'scale': 0.3}})\n",
    "view.zoomTo()\n",
    "view.animate({'loop': \"forward\", 'interval': 200}) # Adjust the speed as needed (set 'interval' to a new value in millisecond)\n",
    "view.show()"
   ]
  },
  {
   "cell_type": "markdown",
   "id": "48f84be3",
   "metadata": {},
   "source": [
    "***Backward IRC Scan***"
   ]
  },
  {
   "cell_type": "code",
   "execution_count": 47,
   "id": "b74a765e",
   "metadata": {
    "tags": []
   },
   "outputs": [
    {
     "name": "stdout",
     "output_type": "stream",
     "text": [
      "Warning: thermodynamics relations excluded imaginary frequencies: ['315.4256i']\n",
      "Warning: used thermodynamics relations inappropriate for low-frequency modes: ['176.0433' '178.9869' '179.4093']\n"
     ]
    },
    {
     "name": "stderr",
     "output_type": "stream",
     "text": [
      "\tDenominators (dg)(dq) or (dq)(dq) are very small.\n",
      "\tSkipping Hessian update for step 2.\n",
      "\tDenominators (dg)(dq) or (dq)(dq) are very small.\n",
      "\tSkipping Hessian update for step 3.\n",
      "\tDenominators (dg)(dq) or (dq)(dq) are very small.\n",
      "\tSkipping Hessian update for step 2.\n",
      "\tDenominators (dg)(dq) or (dq)(dq) are very small.\n",
      "\tSkipping Hessian update for step 5.\n",
      "\tDenominators (dg)(dq) or (dq)(dq) are very small.\n",
      "\tSkipping Hessian update for step 6.\n"
     ]
    },
    {
     "name": "stdout",
     "output_type": "stream",
     "text": [
      "Warning: thermodynamics relations excluded imaginary frequencies: ['300.9864i']\n",
      "Warning: used thermodynamics relations inappropriate for low-frequency modes: ['173.4058' '181.1934' '181.3738']\n"
     ]
    },
    {
     "name": "stderr",
     "output_type": "stream",
     "text": [
      "\tDenominators (dg)(dq) or (dq)(dq) are very small.\n",
      "\tSkipping Hessian update for step 8.\n",
      "\tDenominators (dg)(dq) or (dq)(dq) are very small.\n",
      "\tSkipping Hessian update for step 9.\n",
      "\tDenominators (dg)(dq) or (dq)(dq) are very small.\n",
      "\tSkipping Hessian update for step 8.\n",
      "\tDenominators (dg)(dq) or (dq)(dq) are very small.\n",
      "\tSkipping Hessian update for step 10.\n",
      "\tDenominators (dg)(dq) or (dq)(dq) are very small.\n",
      "\tSkipping Hessian update for step 11.\n",
      "\tDenominators (dg)(dq) or (dq)(dq) are very small.\n",
      "\tSkipping Hessian update for step 10.\n",
      "\tDenominators (dg)(dq) or (dq)(dq) are very small.\n",
      "\tSkipping Hessian update for step 12.\n",
      "\tDenominators (dg)(dq) or (dq)(dq) are very small.\n",
      "\tSkipping Hessian update for step 13.\n",
      "\tDenominators (dg)(dq) or (dq)(dq) are very small.\n",
      "\tSkipping Hessian update for step 12.\n"
     ]
    },
    {
     "name": "stdout",
     "output_type": "stream",
     "text": [
      "Warning: thermodynamics relations excluded imaginary frequencies: ['195.6409i']\n",
      "Warning: used thermodynamics relations inappropriate for low-frequency modes: ['170.5808' '182.9847' '183.1464']\n"
     ]
    },
    {
     "name": "stderr",
     "output_type": "stream",
     "text": [
      "\tDenominators (dg)(dq) or (dq)(dq) are very small.\n",
      "\tSkipping Hessian update for step 14.\n",
      "\tDenominators (dg)(dq) or (dq)(dq) are very small.\n",
      "\tSkipping Hessian update for step 15.\n",
      "\tDenominators (dg)(dq) or (dq)(dq) are very small.\n",
      "\tSkipping Hessian update for step 14.\n",
      "\tDenominators (dg)(dq) or (dq)(dq) are very small.\n",
      "\tSkipping Hessian update for step 17.\n",
      "\tDenominators (dg)(dq) or (dq)(dq) are very small.\n",
      "\tSkipping Hessian update for step 18.\n",
      "\tDenominators (dg)(dq) or (dq)(dq) are very small.\n",
      "\tSkipping Hessian update for step 17.\n",
      "C:\\Users\\nguye\\anaconda3\\Lib\\site-packages\\optking\\IRCfollowing.py:415: RuntimeWarning: invalid value encountered in scalar divide\n",
      "  lagrangian += (numerator / denom) ** 2\n",
      "\tDenominators (dg)(dq) or (dq)(dq) are very small.\n",
      "\tSkipping Hessian update for step 20.\n",
      "C:\\Users\\nguye\\anaconda3\\Lib\\site-packages\\optking\\IRCfollowing.py:415: RuntimeWarning: invalid value encountered in scalar divide\n",
      "  lagrangian += (numerator / denom) ** 2\n"
     ]
    },
    {
     "name": "stdout",
     "output_type": "stream",
     "text": [
      "Warning: thermodynamics relations excluded imaginary frequencies: ['66.7905i']\n",
      "Warning: used thermodynamics relations inappropriate for low-frequency modes: ['171.4794' '183.3632' '183.5410']\n"
     ]
    },
    {
     "name": "stderr",
     "output_type": "stream",
     "text": [
      "C:\\Users\\nguye\\anaconda3\\Lib\\site-packages\\optking\\IRCfollowing.py:415: RuntimeWarning: invalid value encountered in scalar divide\n",
      "  lagrangian += (numerator / denom) ** 2\n",
      "C:\\Users\\nguye\\anaconda3\\Lib\\site-packages\\optking\\IRCfollowing.py:415: RuntimeWarning: invalid value encountered in scalar divide\n",
      "  lagrangian += (numerator / denom) ** 2\n",
      "\tDenominators (dg)(dq) or (dq)(dq) are very small.\n",
      "\tSkipping Hessian update for step 23.\n"
     ]
    },
    {
     "name": "stdout",
     "output_type": "stream",
     "text": [
      "Optimizer: Optimization complete!\n",
      "[{'step_number': 0, 'q': [-2.025786406490792, 1.6500601620597726, 0.0, 1.012893203245396, 1.6500601620597726, 1.7555555705503225, 1.012893203245396, 1.6500601620597726, -1.7555555705503225, 0.0, 1.6651779710634353, 0.0, 0.0, 6.134380257771198, 0.0, 0.0, -3.0345709029501835, 0.0], 'x': [[-2.025786406490792, 1.6500601620597726, 0.0], [1.012893203245396, 1.6500601620597726, 1.7555555705503225], [1.012893203245396, 1.6500601620597726, -1.7555555705503225], [0.0, 1.6651779710634353, 0.0], [0.0, 6.134380257771198, 0.0], [0.0, -3.0345709029501835, 0.0]], 'f_q': [0.0, 0.0, 0.0, 0.0, 0.0, 0.0, 0.0, 0.0, 0.0, 0.0003416291289921389, 0.005863572000219797, 0.0, -3.1194032656523873e-06, -0.0020126172436507085, 0.0, -3.4433380130331997e-06, -0.004901831037792698, 0.0], 'f_x': [0.0, 0.0, 0.0, 0.0, 0.0, 0.0, 0.0, 0.0, 0.0, 0.0003416291289921389, 0.005863572000219797, 0.0, -3.1194032656523873e-06, -0.0020126172436507085, 0.0, -3.4433380130331997e-06, -0.004901831037792698, 0.0], 'energy': -3073.9320871813275, 'q_pivot': [-2.025786406490792, 1.6500601620597726, 0.0, 1.012893203245396, 1.6500601620597726, 1.7555555705503225, 1.012893203245396, 1.6500601620597726, -1.7555555705503225, -3.493106746023189e-07, 1.6382267295848048, -1.602468905319637e-18, -1.9010236170117277e-06, 6.137229714167063, 3.4541174137706027e-20, 8.557479524713627e-06, -3.030283489462711, 2.116284007641733e-19], 'x_pivot': [[-2.025786406490792, 1.6500601620597726, 0.0], [1.012893203245396, 1.6500601620597726, 1.7555555705503225], [1.012893203245396, 1.6500601620597726, -1.7555555705503225], [-3.493106746023189e-07, 1.6382267295848048, -1.602468905319637e-18], [-1.9010236170117277e-06, 6.137229714167063, 3.4541174137706027e-20], [8.557479524713627e-06, -3.030283489462711, 2.116284007641733e-19]], 'step_dist': 0.0, 'arc_dist': 0.0, 'line_dist': 0.0}, {'step_number': -1, 'q': [-2.025786406490792, 1.6500601620597726, 0.0, 1.012893203245396, 1.6500601620597726, 1.7555555705503225, 1.012893203245396, 1.6500601620597726, -1.7555555705503225, 0.000368338014121625, 1.6641095070734298, -3.884295632636434e-19, -7.292782621703137e-07, 6.135824518448919, 3.086155129349333e-20, 9.2382039781489e-06, -3.0374650669111505, 2.0302225920561247e-19], 'x': [[-2.025786406490792, 1.6500601620597726, 0.0], [1.012893203245396, 1.6500601620597726, 1.7555555705503225], [1.012893203245396, 1.6500601620597726, -1.7555555705503225], [0.000368338014121625, 1.6641095070734298, -3.884295632636434e-19], [-7.292782621703137e-07, 6.135824518448919, 3.086155129349333e-20], [9.2382039781489e-06, -3.0374650669111505, 2.0302225920561247e-19]], 'f_q': [0.0, 0.0, 0.0, 0.0, 0.0, 0.0, 0.0, 0.0, 0.0, 8.334029028231554e-05, 0.005850718506445415, 0.0, 1.741932125873876e-06, -0.002088968636625551, 0.0, 4.484300291523984e-07, -0.004730631045587137, 0.0], 'f_x': [0.0, 0.0, 0.0, 0.0, 0.0, 0.0, 0.0, 0.0, 0.0, 8.334029028231554e-05, 0.005850718506445415, 0.0, 1.741932125873876e-06, -0.002088968636625551, 0.0, 4.484300291523984e-07, -0.004730631045587137, 0.0], 'energy': -3073.932091971021, 'q_pivot': [-2.025786406490792, 1.6500601620597726, 0.0, 1.012893203245396, 1.6500601620597726, 1.7555555705503225, 1.012893203245396, 1.6500601620597726, -1.7555555705503225, 0.0007370239274306764, 1.68999227624493, 0.0, 4.4247475951724673e-07, 6.1344193228756705, 0.0, 9.91896720108974e-06, -3.0446466547348408, 0.0], 'x_pivot': [[-2.025786406490792, 1.6500601620597726, 0.0], [1.012893203245396, 1.6500601620597726, 1.7555555705503225], [1.012893203245396, 1.6500601620597726, -1.7555555705503225], [0.0007370239274306764, 1.68999227624493, 0.0], [4.4247475951724673e-07, 6.1344193228756705, 0.0], [9.91896720108974e-06, -3.0446466547348408, 0.0]], 'step_dist': -0.2, 'arc_dist': 0.03182754766386923, 'line_dist': -0.008513958606147124}, {'step_number': -2, 'q': [-2.025786406490792, 1.6500601620597726, 0.0, 1.012893203245396, 1.6500601620597726, 1.7555555705503225, 1.012893203245396, 1.6500601620597726, -1.7555555705503225, 0.0005635544011540073, 1.7164152206763277, 1.95866109697686e-22, 2.831530497978383e-06, 6.132498277786139, 2.236287292055403e-23, 1.243364802668001e-05, -3.0508145854171667, 3.8555702410466976e-24], 'x': [[-2.025786406490792, 1.6500601620597726, 0.0], [1.012893203245396, 1.6500601620597726, 1.7555555705503225], [1.012893203245396, 1.6500601620597726, -1.7555555705503225], [0.0005635544011540073, 1.7164152206763277, 1.95866109697686e-22], [2.831530497978383e-06, 6.132498277786139, 2.236287292055403e-23], [1.243364802668001e-05, -3.0508145854171667, 3.8555702410466976e-24]], 'f_q': [0.0, 0.0, 0.0, 0.0, 0.0, 0.0, 0.0, 0.0, 0.0, -5.4674812060264354e-05, 0.008140644628612822, 0.0, 4.863552873863799e-06, -0.0038923703663453005, 0.0, 2.280869052303635e-06, -0.005537409823600743, 0.0], 'f_x': [0.0, 0.0, 0.0, 0.0, 0.0, 0.0, 0.0, 0.0, 0.0, -5.4674812060264354e-05, 0.008140644628612822, 0.0, 4.863552873863799e-06, -0.0038923703663453005, 0.0, 2.280869052303635e-06, -0.005537409823600743, 0.0], 'energy': -3073.932537014507, 'q_pivot': [-2.025786406490792, 1.6500601620597726, 0.0, 1.012893203245396, 1.6500601620597726, 1.7555555705503225, 1.012893203245396, 1.6500601620597726, -1.7555555705503225, 0.0003860902310069443, 1.7428382240491889, 0.0, 5.231912396582224e-06, 6.1305772180973985, 0.0, 1.4974173763402544e-05, -3.056982380169535, 0.0], 'x_pivot': [[-2.025786406490792, 1.6500601620597726, 0.0], [1.012893203245396, 1.6500601620597726, 1.7555555705503225], [1.012893203245396, 1.6500601620597726, -1.7555555705503225], [0.0003860902310069443, 1.7428382240491889, 0.0], [5.231912396582224e-06, 6.1305772180973985, 0.0], [1.4974173763402544e-05, -3.056982380169535, 0.0]], 'step_dist': -0.4, 'arc_dist': -0.1681321657214389, 'line_dist': -0.11161413027982957}, {'step_number': -3, 'q': [-2.025786406490792, 1.6500601620597726, 0.0, 1.012893203245396, 1.6500601620597726, 1.7555555705503225, 1.012893203245396, 1.6500601620597726, -1.7555555705503225, 0.0004507060599604209, 1.7693934324167746, -1.5471429432646832e-23, 6.662272102409177e-06, 6.128320716138097, -9.358199193917342e-23, 1.5919549655150918e-05, -3.0626819439406767, -1.0807883089809716e-23], 'x': [[-2.025786406490792, 1.6500601620597726, 0.0], [1.012893203245396, 1.6500601620597726, 1.7555555705503225], [1.012893203245396, 1.6500601620597726, -1.7555555705503225], [0.0004507060599604209, 1.7693934324167746, -1.5471429432646832e-23], [6.662272102409177e-06, 6.128320716138097, -9.358199193917342e-23], [1.5919549655150918e-05, -3.0626819439406767, -1.0807883089809716e-23]], 'f_q': [0.0, 0.0, 0.0, 0.0, 0.0, 0.0, 0.0, 0.0, 0.0, 2.6377164233766406e-05, 0.010214431649550916, 0.0, 3.5923737580136334e-06, -0.005708169790767631, 0.0, 1.0307210615625698e-06, -0.0063885486782120846, 0.0], 'f_x': [0.0, 0.0, 0.0, 0.0, 0.0, 0.0, 0.0, 0.0, 0.0, 2.6377164233766406e-05, 0.010214431649550916, 0.0, 3.5923737580136334e-06, -0.005708169790767631, 0.0, 1.0307210615625698e-06, -0.0063885486782120846, 0.0], 'energy': -3073.933115732862, 'q_pivot': [-2.025786406490792, 1.6500601620597726, 0.0, 1.012893203245396, 1.6500601620597726, 1.7555555705503225, 1.012893203245396, 1.6500601620597726, -1.7555555705503225, 0.000519280762453146, 1.795948660465268, 0.0, 8.082377773146276e-06, 6.12606421254592, 0.0, 1.683910281630594e-05, -3.068381458922292, 0.0], 'x_pivot': [[-2.025786406490792, 1.6500601620597726, 0.0], [1.012893203245396, 1.6500601620597726, 1.7555555705503225], [1.012893203245396, 1.6500601620597726, -1.7555555705503225], [0.000519280762453146, 1.795948660465268, 0.0], [8.082377773146276e-06, 6.12606421254592, 0.0], [1.683910281630594e-05, -3.068381458922292, 0.0]], 'step_dist': -0.6000000000000001, 'arc_dist': -0.36812307387540755, 'line_dist': -0.21510596166548734}, {'step_number': -4, 'q': [-2.025786406490792, 1.6500601620597726, 0.0, 1.012893203245396, 1.6500601620597726, 1.7555555705503225, 1.012893203245396, 1.6500601620597726, -1.7555555705503225, 0.0004987306140233558, 1.8224437047128859, -6.497418884947547e-23, 9.744855625523236e-06, 6.1235159831964046, -4.3368682690337794e-23, 1.7824247129344848e-05, -3.07389673539947, 3.527769725450267e-23], 'x': [[-2.025786406490792, 1.6500601620597726, 0.0], [1.012893203245396, 1.6500601620597726, 1.7555555705503225], [1.012893203245396, 1.6500601620597726, -1.7555555705503225], [0.0004987306140233558, 1.8224437047128859, -6.497418884947547e-23], [9.744855625523236e-06, 6.1235159831964046, -4.3368682690337794e-23], [1.7824247129344848e-05, -3.07389673539947, 3.527769725450267e-23]], 'f_q': [0.0, 0.0, 0.0, 0.0, 0.0, 0.0, 0.0, 0.0, 0.0, -9.683815904512052e-06, 0.011891930525365503, 0.0, 4.916839648298842e-06, -0.007521805481047132, 0.0, 1.2956759168762958e-06, -0.007213632695090254, 0.0], 'f_x': [0.0, 0.0, 0.0, 0.0, 0.0, 0.0, 0.0, 0.0, 0.0, -9.683815904512052e-06, 0.011891930525365503, 0.0, 4.916839648298842e-06, -0.007521805481047132, 0.0, 1.2956759168762958e-06, -0.007213632695090254, 0.0], 'energy': -3073.9338127561173, 'q_pivot': [-2.025786406490792, 1.6500601620597726, 0.0, 1.012893203245396, 1.6500601620597726, 1.7555555705503225, 1.012893203245396, 1.6500601620597726, -1.7555555705503225, 0.0004771552088951488, 1.8489387580442596, 0.0, 1.1410574847425045e-05, 6.120967757736678, 0.0, 1.881487076046451e-05, -3.0794119996109113, 0.0], 'x_pivot': [[-2.025786406490792, 1.6500601620597726, 0.0], [1.012893203245396, 1.6500601620597726, 1.7555555705503225], [1.012893203245396, 1.6500601620597726, -1.7555555705503225], [0.0004771552088951488, 1.8489387580442596, 0.0], [1.1410574847425045e-05, 6.120967757736678, 0.0], [1.881487076046451e-05, -3.0794119996109113, 0.0]], 'step_dist': -0.8, 'arc_dist': -0.5681202412186086, 'line_dist': -0.318536920898579}, {'step_number': -5, 'q': [-2.025786406490792, 1.6500601620597726, 0.0, 1.012893203245396, 1.6500601620597726, 1.7555555705503225, 1.012893203245396, 1.6500601620597726, -1.7555555705503225, 0.000480439016190918, 1.875220117885785, 1.440149659793377e-22, 1.2967921982386262e-05, 6.11811079359884, 2.3407541269607303e-23, 1.9462732472050608e-05, -3.08493670029356, 1.1945802383976044e-23], 'x': [[-2.025786406490792, 1.6500601620597726, 0.0], [1.012893203245396, 1.6500601620597726, 1.7555555705503225], [1.012893203245396, 1.6500601620597726, -1.7555555705503225], [0.000480439016190918, 1.875220117885785, 1.440149659793377e-22], [1.2967921982386262e-05, 6.11811079359884, 2.3407541269607303e-23], [1.9462732472050608e-05, -3.08493670029356, 1.1945802383976044e-23]], 'f_q': [0.0, 0.0, 0.0, 0.0, 0.0, 0.0, 0.0, 0.0, 0.0, 1.9088301886123634e-06, 0.01301951840634269, 0.0, 5.0678233834394625e-06, -0.009307786318680775, 0.0, 9.310359171113101e-07, -0.007975425966427217, 0.0], 'f_x': [0.0, 0.0, 0.0, 0.0, 0.0, 0.0, 0.0, 0.0, 0.0, 1.9088301886123634e-06, 0.01301951840634269, 0.0, 5.0678233834394625e-06, -0.009307786318680775, 0.0, 9.310359171113101e-07, -0.007975425966427217, 0.0], 'energy': -3073.934602705741, 'q_pivot': [-2.025786406490792, 1.6500601620597726, 0.0, 1.012893203245396, 1.6500601620597726, 1.7555555705503225, 1.012893203245396, 1.6500601620597726, -1.7555555705503225, 0.0004842922074671932, 1.9015014995633726, 0.0, 1.4523450803748394e-05, 6.115253841257307, 0.0, 2.010767285541764e-05, -3.090461378972189, 0.0], 'x_pivot': [[-2.025786406490792, 1.6500601620597726, 0.0], [1.012893203245396, 1.6500601620597726, 1.7555555705503225], [1.012893203245396, 1.6500601620597726, -1.7555555705503225], [0.0004842922074671932, 1.9015014995633726, 0.0], [1.4523450803748394e-05, 6.115253841257307, 0.0], [2.010767285541764e-05, -3.090461378972189, 0.0]], 'step_dist': -1.0, 'arc_dist': -0.768117706614988, 'line_dist': -0.42163403839391717}, {'step_number': -6, 'q': [-2.025786406490792, 1.6500601620597726, 0.0, 1.012893203245396, 1.6500601620597726, 1.7555555705503225, 1.012893203245396, 1.6500601620597726, -1.7555555705503225, 0.00048123543065571193, 1.9273902942995143, -4.316461392725668e-22, 1.6150318273810667e-05, 6.112031553171859, 7.645303652569202e-23, 2.0546769851004322e-05, -3.096165604591738, 9.981101761850495e-23], 'x': [[-2.025786406490792, 1.6500601620597726, 0.0], [1.012893203245396, 1.6500601620597726, 1.7555555705503225], [1.012893203245396, 1.6500601620597726, -1.7555555705503225], [0.00048123543065571193, 1.9273902942995143, -4.316461392725668e-22], [1.6150318273810667e-05, 6.112031553171859, 7.645303652569202e-23], [2.0546769851004322e-05, -3.096165604591738, 9.981101761850495e-23]], 'f_q': [0.0, 0.0, 0.0, 0.0, 0.0, 0.0, 0.0, 0.0, 0.0, -1.7159593197334125e-06, 0.0134733936791889, 0.0, 5.570795014360236e-06, -0.011028633186734235, 0.0, 6.677737682320738e-07, -0.008650844081110432, 0.0], 'f_x': [0.0, 0.0, 0.0, 0.0, 0.0, 0.0, 0.0, 0.0, 0.0, -1.7159593197334125e-06, 0.0134733936791889, 0.0, 5.570795014360236e-06, -0.011028633186734235, 0.0, 6.677737682320738e-07, -0.008650844081110432, 0.0], 'energy': -3073.935452619169, 'q_pivot': [-2.025786406490792, 1.6500601620597726, 0.0, 1.012893203245396, 1.6500601620597726, 1.7555555705503225, 1.012893203245396, 1.6500601620597726, -1.7555555705503225, 0.0004779382511592999, 1.9532791349469782, 0.0, 1.7777949820150787e-05, 6.108809292930463, 0.0, 2.0987086209160288e-05, -3.1018697941570967, 0.0], 'x_pivot': [[-2.025786406490792, 1.6500601620597726, 0.0], [1.012893203245396, 1.6500601620597726, 1.7555555705503225], [1.012893203245396, 1.6500601620597726, -1.7555555705503225], [0.0004779382511592999, 1.9532791349469782, 0.0], [1.7777949820150787e-05, 6.108809292930463, 0.0], [2.0987086209160288e-05, -3.1018697941570967, 0.0]], 'step_dist': -1.2, 'arc_dist': -0.9681123684528138, 'line_dist': -0.5241146175329944}, {'step_number': -7, 'q': [-2.025786406490792, 1.6500601620597726, 0.0, 1.012893203245396, 1.6500601620597726, 1.7555555705503225, 1.012893203245396, 1.6500601620597726, -1.7555555705503225, 0.00047512776203930215, 1.9785193453935588, -7.295430736763373e-24, 1.9495999068587488e-05, 6.105128343198977, -3.8175034463758335e-24, 2.1209670448924222e-05, -3.1079338120176305, 1.7173439865933825e-24], 'x': [[-2.025786406490792, 1.6500601620597726, 0.0], [1.012893203245396, 1.6500601620597726, 1.7555555705503225], [1.012893203245396, 1.6500601620597726, -1.7555555705503225], [0.00047512776203930215, 1.9785193453935588, -7.295430736763373e-24], [1.9495999068587488e-05, 6.105128343198977, -3.8175034463758335e-24], [2.1209670448924222e-05, -3.1079338120176305, 1.7173439865933825e-24]], 'f_q': [0.0, 0.0, 0.0, 0.0, 0.0, 0.0, 0.0, 0.0, 0.0, -1.4672113779220608e-06, 0.013171627465638006, 0.0, 5.896363265855872e-06, -0.012632903096584481, 0.0, 3.385248883988567e-07, -0.009221618987790222, 0.0], 'f_x': [0.0, 0.0, 0.0, 0.0, 0.0, 0.0, 0.0, 0.0, 0.0, -1.4672113779220608e-06, 0.013171627465638006, 0.0, 5.896363265855872e-06, -0.012632903096584481, 0.0, 3.385248883988567e-07, -0.009221618987790222, 0.0], 'energy': -3073.9363245041495, 'q_pivot': [-2.025786406490792, 1.6500601620597726, 0.0, 1.012893203245396, 1.6500601620597726, 1.7555555705503225, 1.012893203245396, 1.6500601620597726, -1.7555555705503225, 0.0004723162095716557, 2.003759554310411, 0.0, 2.1214069865281638e-05, 6.101447392601277, 0.0, 2.1432280091558654e-05, -3.1139978308763094, 0.0], 'x_pivot': [[-2.025786406490792, 1.6500601620597726, 0.0], [1.012893203245396, 1.6500601620597726, 1.7555555705503225], [1.012893203245396, 1.6500601620597726, -1.7555555705503225], [0.0004723162095716557, 2.003759554310411, 0.0], [2.1214069865281638e-05, 6.101447392601277, 0.0], [2.1432280091558654e-05, -3.1139978308763094, 0.0]], 'step_dist': -1.4, 'arc_dist': -1.1680996726949786, 'line_dist': -0.625594093901218}, {'step_number': -8, 'q': [-2.025786406490792, 1.6500601620597726, 0.0, 1.012893203245396, 1.6500601620597726, 1.7555555705503225, 1.012893203245396, 1.6500601620597726, -1.7555555705503225, 0.0004682582798506143, 2.027941724826318, -3.1412421679948013e-23, 2.308757991246234e-05, 6.097173153231179, -2.59273453362176e-24, 2.1455320742151667e-05, -3.1206359778393216, 7.516717876411577e-25], 'x': [[-2.025786406490792, 1.6500601620597726, 0.0], [1.012893203245396, 1.6500601620597726, 1.7555555705503225], [1.012893203245396, 1.6500601620597726, -1.7555555705503225], [0.0004682582798506143, 2.027941724826318, -3.1412421679948013e-23], [2.308757991246234e-05, 6.097173153231179, -2.59273453362176e-24], [2.1455320742151667e-05, -3.1206359778393216, 7.516717876411577e-25]], 'f_q': [0.0, 0.0, 0.0, 0.0, 0.0, 0.0, 0.0, 0.0, 0.0, -2.0291523551143275e-06, 0.012090570312972448, 0.0, 6.160348760441743e-06, -0.014054245755695648, 0.0, 3.3571564361865774e-08, -0.00967161781438281, 0.0], 'f_x': [0.0, 0.0, 0.0, 0.0, 0.0, 0.0, 0.0, 0.0, 0.0, -2.0291523551143275e-06, 0.012090570312972448, 0.0, 6.160348760441743e-06, -0.014054245755695648, 0.0, 3.3571564361865774e-08, -0.00967161781438281, 0.0], 'energy': -3073.9371787568098, 'q_pivot': [-2.025786406490792, 1.6500601620597726, 0.0, 1.012893203245396, 1.6500601620597726, 1.7555555705503225, 1.012893203245396, 1.6500601620597726, -1.7555555705503225, 0.0004641998038759528, 2.0521238859200768, 0.0, 2.4961093902911726e-05, 6.092898910477653, 0.0, 2.1478362720511138e-05, -3.1272741316643256, 0.0], 'x_pivot': [[-2.025786406490792, 1.6500601620597726, 0.0], [1.012893203245396, 1.6500601620597726, 1.7555555705503225], [1.012893203245396, 1.6500601620597726, -1.7555555705503225], [0.0004641998038759528, 2.0521238859200768, 0.0], [2.4961093902911726e-05, 6.092898910477653, 0.0], [2.1478362720511138e-05, -3.1272741316643256, 0.0]], 'step_dist': -1.5999999999999999, 'arc_dist': -1.3680689458087367, 'line_dist': -0.7254821344158988}, {'step_number': -9, 'q': [-2.025786406490792, 1.6500601620597726, 0.0, 1.012893203245396, 1.6500601620597726, 1.7555555705503225, 1.012893203245396, 1.6500601620597726, -1.7555555705503225, 0.0004594649209682192, 2.0745646323714064, -3.8012104953432675e-23, 2.7048122348606458e-05, 6.087857084850536, -3.402128054421709e-23, 2.1306588128300762e-05, -3.1347432819997865, -9.211064802546658e-24], 'x': [[-2.025786406490792, 1.6500601620597726, 0.0], [1.012893203245396, 1.6500601620597726, 1.7555555705503225], [1.012893203245396, 1.6500601620597726, -1.7555555705503225], [0.0004594649209682192, 2.0745646323714064, -3.8012104953432675e-23], [2.7048122348606458e-05, 6.087857084850536, -3.402128054421709e-23], [2.1306588128300762e-05, -3.1347432819997865, -9.211064802546658e-24]], 'f_q': [0.0, 0.0, 0.0, 0.0, 0.0, 0.0, 0.0, 0.0, 0.0, -2.17203638635204e-06, 0.01029586172270644, 0.0, 6.297247723477504e-06, -0.015212871168365793, 0.0, -2.2966559204108048e-07, -0.009986149722444992, 0.0], 'f_x': [0.0, 0.0, 0.0, 0.0, 0.0, 0.0, 0.0, 0.0, 0.0, -2.17203638635204e-06, 0.01029586172270644, 0.0, 6.297247723477504e-06, -0.015212871168365793, 0.0, -2.2966559204108048e-07, -0.009986149722444992, 0.0], 'energy': -3073.937979203677, 'q_pivot': [-2.025786406490792, 1.6500601620597726, 0.0, 1.012893203245396, 1.6500601620597726, 1.7555555705503225, 1.012893203245396, 1.6500601620597726, -1.7555555705503225, 0.0004547307800954194, 2.0970053521072405, 0.0, 2.9135149871525846e-05, 6.0828152503499435, 0.0, 2.1134809204200458e-05, -3.142212446361679, 0.0], 'x_pivot': [[-2.025786406490792, 1.6500601620597726, 0.0], [1.012893203245396, 1.6500601620597726, 1.7555555705503225], [1.012893203245396, 1.6500601620597726, -1.7555555705503225], [0.0004547307800954194, 2.0970053521072405, 0.0], [2.9135149871525846e-05, 6.0828152503499435, 0.0], [2.1134809204200458e-05, -3.142212446361679, 0.0]], 'step_dist': -1.7999999999999998, 'arc_dist': -1.567991008000052, 'line_dist': -0.822835989455849}, {'step_number': -10, 'q': [-2.025786406490792, 1.6500601620597726, 0.0, 1.012893203245396, 1.6500601620597726, 1.7555555705503225, 1.012893203245396, 1.6500601620597726, -1.7555555705503225, 0.0004498521642394882, 2.1166241248059494, -2.829983444207099e-23, 3.148699857665595e-05, 6.076834878389099, -1.0491372165683187e-23, 2.0763045619709573e-05, -3.150766511507356, -5.500333938623063e-24], 'x': [[-2.025786406490792, 1.6500601620597726, 0.0], [1.012893203245396, 1.6500601620597726, 1.7555555705503225], [1.012893203245396, 1.6500601620597726, -1.7555555705503225], [0.0004498521642394882, 2.1166241248059494, -2.829983444207099e-23], [3.148699857665595e-05, 6.076834878389099, -1.0491372165683187e-23], [2.0763045619709573e-05, -3.150766511507356, -5.500333938623063e-24]], 'f_q': [0.0, 0.0, 0.0, 0.0, 0.0, 0.0, 0.0, 0.0, 0.0, -1.986646831153463e-06, 0.007990299910979229, 0.0, 6.2993799243487055e-06, -0.016018349264581136, 0.0, -4.4122866516415225e-07, -0.010152324481656302, 0.0], 'f_x': [0.0, 0.0, 0.0, 0.0, 0.0, 0.0, 0.0, 0.0, 0.0, -1.986646831153463e-06, 0.007990299910979229, 0.0, 6.2993799243487055e-06, -0.016018349264581136, 0.0, -4.4122866516415225e-07, -0.010152324481656302, 0.0], 'energy': -3073.9387002568646, 'q_pivot': [0, 0, 0, 0, 0, 0, 0, 0, 0, 0, 0, 0, 0, 0, 0, 0, 0, 0], 'x_pivot': [0, 0, 0, 0, 0, 0], 'step_dist': -1.9999999999999998, 'arc_dist': -1.76778258214474, 'line_dist': -0.9162463774835119}]\n"
     ]
    },
    {
     "name": "stderr",
     "output_type": "stream",
     "text": [
      "C:\\Users\\nguye\\anaconda3\\Lib\\site-packages\\optking\\IRCfollowing.py:415: RuntimeWarning: invalid value encountered in scalar divide\n",
      "  lagrangian += (numerator / denom) ** 2\n"
     ]
    }
   ],
   "source": [
    "irc_backward_geometry = psi4.geometry(optimized_ts_xyz_string)\n",
    "\n",
    "# Run backward IRC scan\n",
    "psi4.set_options({'IRC_POINTS': 10})\n",
    "psi4.set_options({'IRC_DIRECTION': 'BACKWARD'})\n",
    "irc_backward_energy, irc_backward_history = psi4.optimize('b3lyp', molecule=irc_backward_geometry, return_history=True)"
   ]
  },
  {
   "cell_type": "code",
   "execution_count": 48,
   "id": "c5edfad9",
   "metadata": {
    "tags": []
   },
   "outputs": [
    {
     "data": {
      "text/plain": [
       "[<matplotlib.lines.Line2D at 0x1e4054b0e10>]"
      ]
     },
     "execution_count": 48,
     "metadata": {},
     "output_type": "execute_result"
    },
    {
     "data": {
      "image/png": "[encoded data removed]",
      "text/plain": [
       "<Figure size 640x480 with 1 Axes>"
      ]
     },
     "metadata": {},
     "output_type": "display_data"
    }
   ],
   "source": [
    "# Plot the energy values of backward IRC scan\n",
    "irc_backward_energies = irc_backward_history['energy']\n",
    "plt.plot(irc_backward_energies)"
   ]
  },
  {
   "cell_type": "code",
   "execution_count": 49,
   "id": "c2571ee7",
   "metadata": {
    "tags": []
   },
   "outputs": [
    {
     "name": "stdout",
     "output_type": "stream",
     "text": [
      "24\n"
     ]
    }
   ],
   "source": [
    "# Get the list of coordinates\n",
    "irc_backward_coordinates_list = irc_backward_history['coordinates']\n",
    "\n",
    "# Get the number of conformers\n",
    "print(len(irc_backward_coordinates_list))"
   ]
  },
  {
   "cell_type": "code",
   "execution_count": 50,
   "id": "6d8c2e33",
   "metadata": {
    "tags": []
   },
   "outputs": [],
   "source": [
    "# Generate the PDB trajectory string\n",
    "pdb_trajectory = WritePDBTrajectory(ts_optimized_mol, irc_backward_coordinates_list, True, 2.5)"
   ]
  },
  {
   "cell_type": "code",
   "execution_count": 51,
   "id": "8de8f556",
   "metadata": {
    "tags": []
   },
   "outputs": [
    {
     "data": {
      "application/3dmoljs_load.v0": "<div id=\"3dmolviewer_17175030586561835\"  style=\"position: relative; width: 400px; height: 300px;\">\n        <p id=\"3dmolwarning_17175030586561835\" style=\"background-color:#ffcccc;color:black\">3Dmol.js failed to load for some reason.  Please check your browser console for error messages.<br></p>\n        </div>\n<script>\n\nvar loadScriptAsync = function(uri){\n  return new Promise((resolve, reject) => {\n    //this is to ignore the existence of requirejs amd\n    var savedexports, savedmodule;\n    if (typeof exports !== 'undefined') savedexports = exports;\n    else exports = {}\n    if (typeof module !== 'undefined') savedmodule = module;\n    else module = {}\n\n    var tag = document.createElement('script');\n    tag.src = uri;\n    tag.async = true;\n    tag.onload = () => {\n        exports = savedexports;\n        module = savedmodule;\n        resolve();\n    };\n  var firstScriptTag = document.getElementsByTagName('script')[0];\n  firstScriptTag.parentNode.insertBefore(tag, firstScriptTag);\n});\n};\n\nif(typeof $3Dmolpromise === 'undefined') {\n$3Dmolpromise = null;\n  $3Dmolpromise = loadScriptAsync('https://cdnjs.cloudflare.com/ajax/libs/3Dmol/2.1.0/3Dmol-min.js');\n}\n\nvar viewer_17175030586561835 = null;\nvar warn = document.getElementById(\"3dmolwarning_17175030586561835\");\nif(warn) {\n    warn.parentNode.removeChild(warn);\n}\n$3Dmolpromise.then(function() {\nviewer_17175030586561835 = $3Dmol.createViewer(document.getElementById(\"3dmolviewer_17175030586561835\"),{backgroundColor:\"white\"});\nviewer_17175030586561835.zoomTo();\n\tviewer_17175030586561835.addModelsAsFrames(\"MODEL        1\\nHETATM    1  H1  UNL     1      -2.026   1.650   0.000  1.00  0.00           H  \\nHETATM    2  H2  UNL     1       1.013   1.650   1.756  1.00  0.00           H  \\nHETATM    3  H3  UNL     1       1.013   1.650  -1.756  1.00  0.00           H  \\nHETATM    4  C1  UNL     1      -0.000   1.611   0.000  1.00  0.00           C  \\nHETATM    5 CL1  UNL     1      -0.000   6.140   0.000  1.00  0.00          CL  \\nHETATM    6 BR1  UNL     1       0.000  -3.026   0.000  1.00  0.00          BR  \\nCONECT    1    4\\nCONECT    2    4\\nCONECT    3    4\\nCONECT    4    6\\nEND\\nENDMDL\\nMODEL        2\\nHETATM    1  H1  UNL     1      -2.026   1.650   0.000  1.00  0.00           H  \\nHETATM    2  H2  UNL     1       1.013   1.650   1.756  1.00  0.00           H  \\nHETATM    3  H3  UNL     1       1.013   1.650  -1.756  1.00  0.00           H  \\nHETATM    4  C1  UNL     1       0.000   1.664   0.000  1.00  0.00           C  \\nHETATM    5 CL1  UNL     1       0.000   6.136   0.000  1.00  0.00          CL  \\nHETATM    6 BR1  UNL     1       0.000  -3.037   0.000  1.00  0.00          BR  \\nCONECT    1    4\\nCONECT    2    4\\nCONECT    3    4\\nCONECT    4    6\\nEND\\nENDMDL\\nMODEL        3\\nHETATM    1  H1  UNL     1      -2.026   1.650   0.000  1.00  0.00           H  \\nHETATM    2  H2  UNL     1       1.013   1.650   1.756  1.00  0.00           H  \\nHETATM    3  H3  UNL     1       1.013   1.650  -1.756  1.00  0.00           H  \\nHETATM    4  C1  UNL     1       0.000   1.664   0.000  1.00  0.00           C  \\nHETATM    5 CL1  UNL     1      -0.000   6.136   0.000  1.00  0.00          CL  \\nHETATM    6 BR1  UNL     1       0.000  -3.037   0.000  1.00  0.00          BR  \\nCONECT    1    4\\nCONECT    2    4\\nCONECT    3    4\\nCONECT    4    6\\nEND\\nENDMDL\\nMODEL        4\\nHETATM    1  H1  UNL     1      -2.026   1.650   0.000  1.00  0.00           H  \\nHETATM    2  H2  UNL     1       1.013   1.650   1.756  1.00  0.00           H  \\nHETATM    3  H3  UNL     1       1.013   1.650  -1.756  1.00  0.00           H  \\nHETATM    4  C1  UNL     1       0.001   1.716   0.000  1.00  0.00           C  \\nHETATM    5 CL1  UNL     1       0.000   6.133   0.000  1.00  0.00          CL  \\nHETATM    6 BR1  UNL     1       0.000  -3.052   0.000  1.00  0.00          BR  \\nCONECT    1    4\\nCONECT    2    4\\nCONECT    3    4\\nCONECT    4    5    6\\nEND\\nENDMDL\\nMODEL        5\\nHETATM    1  H1  UNL     1      -2.026   1.650   0.000  1.00  0.00           H  \\nHETATM    2  H2  UNL     1       1.013   1.650   1.756  1.00  0.00           H  \\nHETATM    3  H3  UNL     1       1.013   1.650  -1.756  1.00  0.00           H  \\nHETATM    4  C1  UNL     1       0.001   1.716   0.000  1.00  0.00           C  \\nHETATM    5 CL1  UNL     1       0.000   6.132   0.000  1.00  0.00          CL  \\nHETATM    6 BR1  UNL     1       0.000  -3.051   0.000  1.00  0.00          BR  \\nCONECT    1    4\\nCONECT    2    4\\nCONECT    3    4\\nCONECT    4    5    6\\nEND\\nENDMDL\\nMODEL        6\\nHETATM    1  H1  UNL     1      -2.026   1.650   0.000  1.00  0.00           H  \\nHETATM    2  H2  UNL     1       1.013   1.650   1.756  1.00  0.00           H  \\nHETATM    3  H3  UNL     1       1.013   1.650  -1.756  1.00  0.00           H  \\nHETATM    4  C1  UNL     1       0.000   1.769   0.000  1.00  0.00           C  \\nHETATM    5 CL1  UNL     1       0.000   6.129   0.000  1.00  0.00          CL  \\nHETATM    6 BR1  UNL     1       0.000  -3.063   0.000  1.00  0.00          BR  \\nCONECT    1    4\\nCONECT    2    4\\nCONECT    3    4\\nCONECT    4    5    6\\nEND\\nENDMDL\\nMODEL        7\\nHETATM    1  H1  UNL     1      -2.026   1.650   0.000  1.00  0.00           H  \\nHETATM    2  H2  UNL     1       1.013   1.650   1.756  1.00  0.00           H  \\nHETATM    3  H3  UNL     1       1.013   1.650  -1.756  1.00  0.00           H  \\nHETATM    4  C1  UNL     1       0.000   1.769   0.000  1.00  0.00           C  \\nHETATM    5 CL1  UNL     1       0.000   6.128   0.000  1.00  0.00          CL  \\nHETATM    6 BR1  UNL     1       0.000  -3.063   0.000  1.00  0.00          BR  \\nCONECT    1    4\\nCONECT    2    4\\nCONECT    3    4\\nCONECT    4    5    6\\nEND\\nENDMDL\\nMODEL        8\\nHETATM    1  H1  UNL     1      -2.026   1.650   0.000  1.00  0.00           H  \\nHETATM    2  H2  UNL     1       1.013   1.650   1.756  1.00  0.00           H  \\nHETATM    3  H3  UNL     1       1.013   1.650  -1.756  1.00  0.00           H  \\nHETATM    4  C1  UNL     1       0.001   1.823   0.000  1.00  0.00           C  \\nHETATM    5 CL1  UNL     1       0.000   6.124   0.000  1.00  0.00          CL  \\nHETATM    6 BR1  UNL     1       0.000  -3.074   0.000  1.00  0.00          BR  \\nCONECT    1    4\\nCONECT    2    4\\nCONECT    3    4\\nCONECT    4    5    6\\nEND\\nENDMDL\\nMODEL        9\\nHETATM    1  H1  UNL     1      -2.026   1.650   0.000  1.00  0.00           H  \\nHETATM    2  H2  UNL     1       1.013   1.650   1.756  1.00  0.00           H  \\nHETATM    3  H3  UNL     1       1.013   1.650  -1.756  1.00  0.00           H  \\nHETATM    4  C1  UNL     1       0.000   1.822   0.000  1.00  0.00           C  \\nHETATM    5 CL1  UNL     1       0.000   6.124   0.000  1.00  0.00          CL  \\nHETATM    6 BR1  UNL     1       0.000  -3.074   0.000  1.00  0.00          BR  \\nCONECT    1    4\\nCONECT    2    4\\nCONECT    3    4\\nCONECT    4    5    6\\nEND\\nENDMDL\\nMODEL       10\\nHETATM    1  H1  UNL     1      -2.026   1.650   0.000  1.00  0.00           H  \\nHETATM    2  H2  UNL     1       1.013   1.650   1.756  1.00  0.00           H  \\nHETATM    3  H3  UNL     1       1.013   1.650  -1.756  1.00  0.00           H  \\nHETATM    4  C1  UNL     1       0.000   1.875   0.000  1.00  0.00           C  \\nHETATM    5 CL1  UNL     1       0.000   6.118   0.000  1.00  0.00          CL  \\nHETATM    6 BR1  UNL     1       0.000  -3.085   0.000  1.00  0.00          BR  \\nCONECT    1    4\\nCONECT    2    4\\nCONECT    3    4\\nCONECT    4    5\\nEND\\nENDMDL\\nMODEL       11\\nHETATM    1  H1  UNL     1      -2.026   1.650   0.000  1.00  0.00           H  \\nHETATM    2  H2  UNL     1       1.013   1.650   1.756  1.00  0.00           H  \\nHETATM    3  H3  UNL     1       1.013   1.650  -1.756  1.00  0.00           H  \\nHETATM    4  C1  UNL     1       0.000   1.875   0.000  1.00  0.00           C  \\nHETATM    5 CL1  UNL     1       0.000   6.118   0.000  1.00  0.00          CL  \\nHETATM    6 BR1  UNL     1       0.000  -3.085   0.000  1.00  0.00          BR  \\nCONECT    1    4\\nCONECT    2    4\\nCONECT    3    4\\nCONECT    4    5\\nEND\\nENDMDL\\nMODEL       12\\nHETATM    1  H1  UNL     1      -2.026   1.650   0.000  1.00  0.00           H  \\nHETATM    2  H2  UNL     1       1.013   1.650   1.756  1.00  0.00           H  \\nHETATM    3  H3  UNL     1       1.013   1.650  -1.756  1.00  0.00           H  \\nHETATM    4  C1  UNL     1       0.000   1.928   0.000  1.00  0.00           C  \\nHETATM    5 CL1  UNL     1       0.000   6.112   0.000  1.00  0.00          CL  \\nHETATM    6 BR1  UNL     1       0.000  -3.096   0.000  1.00  0.00          BR  \\nCONECT    1    4\\nCONECT    2    4\\nCONECT    3    4\\nCONECT    4    5\\nEND\\nENDMDL\\nMODEL       13\\nHETATM    1  H1  UNL     1      -2.026   1.650   0.000  1.00  0.00           H  \\nHETATM    2  H2  UNL     1       1.013   1.650   1.756  1.00  0.00           H  \\nHETATM    3  H3  UNL     1       1.013   1.650  -1.756  1.00  0.00           H  \\nHETATM    4  C1  UNL     1       0.000   1.927   0.000  1.00  0.00           C  \\nHETATM    5 CL1  UNL     1       0.000   6.112   0.000  1.00  0.00          CL  \\nHETATM    6 BR1  UNL     1       0.000  -3.096   0.000  1.00  0.00          BR  \\nCONECT    1    4\\nCONECT    2    4\\nCONECT    3    4\\nCONECT    4    5\\nEND\\nENDMDL\\nMODEL       14\\nHETATM    1  H1  UNL     1      -2.026   1.650   0.000  1.00  0.00           H  \\nHETATM    2  H2  UNL     1       1.013   1.650   1.756  1.00  0.00           H  \\nHETATM    3  H3  UNL     1       1.013   1.650  -1.756  1.00  0.00           H  \\nHETATM    4  C1  UNL     1       0.000   1.979   0.000  1.00  0.00           C  \\nHETATM    5 CL1  UNL     1       0.000   6.106   0.000  1.00  0.00          CL  \\nHETATM    6 BR1  UNL     1       0.000  -3.108   0.000  1.00  0.00          BR  \\nCONECT    1    4\\nCONECT    2    4\\nCONECT    3    4\\nCONECT    4    5\\nEND\\nENDMDL\\nMODEL       15\\nHETATM    1  H1  UNL     1      -2.026   1.650   0.000  1.00  0.00           H  \\nHETATM    2  H2  UNL     1       1.013   1.650   1.756  1.00  0.00           H  \\nHETATM    3  H3  UNL     1       1.013   1.650  -1.756  1.00  0.00           H  \\nHETATM    4  C1  UNL     1       0.000   1.979   0.000  1.00  0.00           C  \\nHETATM    5 CL1  UNL     1       0.000   6.105   0.000  1.00  0.00          CL  \\nHETATM    6 BR1  UNL     1       0.000  -3.108   0.000  1.00  0.00          BR  \\nCONECT    1    4\\nCONECT    2    4\\nCONECT    3    4\\nCONECT    4    5\\nEND\\nENDMDL\\nMODEL       16\\nHETATM    1  H1  UNL     1      -2.026   1.650   0.000  1.00  0.00           H  \\nHETATM    2  H2  UNL     1       1.013   1.650   1.756  1.00  0.00           H  \\nHETATM    3  H3  UNL     1       1.013   1.650  -1.756  1.00  0.00           H  \\nHETATM    4  C1  UNL     1       0.000   2.029   0.000  1.00  0.00           C  \\nHETATM    5 CL1  UNL     1       0.000   6.098   0.000  1.00  0.00          CL  \\nHETATM    6 BR1  UNL     1       0.000  -3.120   0.000  1.00  0.00          BR  \\nCONECT    1    4\\nCONECT    2    4\\nCONECT    3    4\\nCONECT    4    5\\nEND\\nENDMDL\\nMODEL       17\\nHETATM    1  H1  UNL     1      -2.026   1.650   0.000  1.00  0.00           H  \\nHETATM    2  H2  UNL     1       1.013   1.650   1.756  1.00  0.00           H  \\nHETATM    3  H3  UNL     1       1.013   1.650  -1.756  1.00  0.00           H  \\nHETATM    4  C1  UNL     1       0.000   2.028   0.000  1.00  0.00           C  \\nHETATM    5 CL1  UNL     1       0.000   6.097   0.000  1.00  0.00          CL  \\nHETATM    6 BR1  UNL     1       0.000  -3.121   0.000  1.00  0.00          BR  \\nCONECT    1    4\\nCONECT    2    4\\nCONECT    3    4\\nCONECT    4    5\\nEND\\nENDMDL\\nMODEL       18\\nHETATM    1  H1  UNL     1      -2.026   1.650   0.000  1.00  0.00           H  \\nHETATM    2  H2  UNL     1       1.013   1.650   1.756  1.00  0.00           H  \\nHETATM    3  H3  UNL     1       1.013   1.650  -1.756  1.00  0.00           H  \\nHETATM    4  C1  UNL     1       0.000   2.028   0.000  1.00  0.00           C  \\nHETATM    5 CL1  UNL     1       0.000   6.097   0.000  1.00  0.00          CL  \\nHETATM    6 BR1  UNL     1       0.000  -3.121   0.000  1.00  0.00          BR  \\nCONECT    1    4\\nCONECT    2    4\\nCONECT    3    4\\nCONECT    4    5\\nEND\\nENDMDL\\nMODEL       19\\nHETATM    1  H1  UNL     1      -2.026   1.650   0.000  1.00  0.00           H  \\nHETATM    2  H2  UNL     1       1.013   1.650   1.756  1.00  0.00           H  \\nHETATM    3  H3  UNL     1       1.013   1.650  -1.756  1.00  0.00           H  \\nHETATM    4  C1  UNL     1       0.000   2.076   0.000  1.00  0.00           C  \\nHETATM    5 CL1  UNL     1       0.000   6.089   0.000  1.00  0.00          CL  \\nHETATM    6 BR1  UNL     1       0.000  -3.134   0.000  1.00  0.00          BR  \\nCONECT    1    4\\nCONECT    2    4\\nCONECT    3    4\\nCONECT    4    5\\nEND\\nENDMDL\\nMODEL       20\\nHETATM    1  H1  UNL     1      -2.026   1.650   0.000  1.00  0.00           H  \\nHETATM    2  H2  UNL     1       1.013   1.650   1.756  1.00  0.00           H  \\nHETATM    3  H3  UNL     1       1.013   1.650  -1.756  1.00  0.00           H  \\nHETATM    4  C1  UNL     1       0.000   2.075   0.000  1.00  0.00           C  \\nHETATM    5 CL1  UNL     1       0.000   6.088   0.000  1.00  0.00          CL  \\nHETATM    6 BR1  UNL     1       0.000  -3.135   0.000  1.00  0.00          BR  \\nCONECT    1    4\\nCONECT    2    4\\nCONECT    3    4\\nCONECT    4    5\\nEND\\nENDMDL\\nMODEL       21\\nHETATM    1  H1  UNL     1      -2.026   1.650   0.000  1.00  0.00           H  \\nHETATM    2  H2  UNL     1       1.013   1.650   1.756  1.00  0.00           H  \\nHETATM    3  H3  UNL     1       1.013   1.650  -1.756  1.00  0.00           H  \\nHETATM    4  C1  UNL     1       0.000   2.075   0.000  1.00  0.00           C  \\nHETATM    5 CL1  UNL     1       0.000   6.088   0.000  1.00  0.00          CL  \\nHETATM    6 BR1  UNL     1       0.000  -3.135   0.000  1.00  0.00          BR  \\nCONECT    1    4\\nCONECT    2    4\\nCONECT    3    4\\nCONECT    4    5\\nEND\\nENDMDL\\nMODEL       22\\nHETATM    1  H1  UNL     1      -2.026   1.650   0.000  1.00  0.00           H  \\nHETATM    2  H2  UNL     1       1.013   1.650   1.756  1.00  0.00           H  \\nHETATM    3  H3  UNL     1       1.013   1.650  -1.756  1.00  0.00           H  \\nHETATM    4  C1  UNL     1       0.000   2.119   0.000  1.00  0.00           C  \\nHETATM    5 CL1  UNL     1       0.000   6.078   0.000  1.00  0.00          CL  \\nHETATM    6 BR1  UNL     1       0.000  -3.150   0.000  1.00  0.00          BR  \\nCONECT    1    4\\nCONECT    2    4\\nCONECT    3    4\\nCONECT    4    5\\nEND\\nENDMDL\\nMODEL       23\\nHETATM    1  H1  UNL     1      -2.026   1.650   0.000  1.00  0.00           H  \\nHETATM    2  H2  UNL     1       1.013   1.650   1.756  1.00  0.00           H  \\nHETATM    3  H3  UNL     1       1.013   1.650  -1.756  1.00  0.00           H  \\nHETATM    4  C1  UNL     1       0.000   2.117   0.000  1.00  0.00           C  \\nHETATM    5 CL1  UNL     1       0.000   6.077   0.000  1.00  0.00          CL  \\nHETATM    6 BR1  UNL     1       0.000  -3.151   0.000  1.00  0.00          BR  \\nCONECT    1    4\\nCONECT    2    4\\nCONECT    3    4\\nCONECT    4    5\\nEND\\nENDMDL\\nMODEL       24\\nHETATM    1  H1  UNL     1      -2.026   1.650   0.000  1.00  0.00           H  \\nHETATM    2  H2  UNL     1       1.013   1.650   1.756  1.00  0.00           H  \\nHETATM    3  H3  UNL     1       1.013   1.650  -1.756  1.00  0.00           H  \\nHETATM    4  C1  UNL     1       0.000   2.117   0.000  1.00  0.00           C  \\nHETATM    5 CL1  UNL     1       0.000   6.077   0.000  1.00  0.00          CL  \\nHETATM    6 BR1  UNL     1       0.000  -3.151   0.000  1.00  0.00          BR  \\nCONECT    1    4\\nCONECT    2    4\\nCONECT    3    4\\nCONECT    4    5\\nEND\\nENDMDL\\n\",\"trajectory\",{\"keepH\": true});\n\tviewer_17175030586561835.setBackgroundColor(\"white\");\n\tviewer_17175030586561835.setStyle({\"stick\": {\"scale\": 0.3}, \"sphere\": {\"scale\": 0.3}});\n\tviewer_17175030586561835.zoomTo();\n\tviewer_17175030586561835.animate({\"loop\": \"forward\", \"interval\": 200});\nviewer_17175030586561835.render();\n});\n</script>",
      "text/html": [
       "<div id=\"3dmolviewer_17175030586561835\"  style=\"position: relative; width: 400px; height: 300px;\">\n",
       "        <p id=\"3dmolwarning_17175030586561835\" style=\"background-color:#ffcccc;color:black\">3Dmol.js failed to load for some reason.  Please check your browser console for error messages.<br></p>\n",
       "        </div>\n",
       "<script>\n",
       "\n",
       "var loadScriptAsync = function(uri){\n",
       "  return new Promise((resolve, reject) => {\n",
       "    //this is to ignore the existence of requirejs amd\n",
       "    var savedexports, savedmodule;\n",
       "    if (typeof exports !== 'undefined') savedexports = exports;\n",
       "    else exports = {}\n",
       "    if (typeof module !== 'undefined') savedmodule = module;\n",
       "    else module = {}\n",
       "\n",
       "    var tag = document.createElement('script');\n",
       "    tag.src = uri;\n",
       "    tag.async = true;\n",
       "    tag.onload = () => {\n",
       "        exports = savedexports;\n",
       "        module = savedmodule;\n",
       "        resolve();\n",
       "    };\n",
       "  var firstScriptTag = document.getElementsByTagName('script')[0];\n",
       "  firstScriptTag.parentNode.insertBefore(tag, firstScriptTag);\n",
       "});\n",
       "};\n",
       "\n",
       "if(typeof $3Dmolpromise === 'undefined') {\n",
       "$3Dmolpromise = null;\n",
       "  $3Dmolpromise = loadScriptAsync('https://cdnjs.cloudflare.com/ajax/libs/3Dmol/2.1.0/3Dmol-min.js');\n",
       "}\n",
       "\n",
       "var viewer_17175030586561835 = null;\n",
       "var warn = document.getElementById(\"3dmolwarning_17175030586561835\");\n",
       "if(warn) {\n",
       "    warn.parentNode.removeChild(warn);\n",
       "}\n",
       "$3Dmolpromise.then(function() {\n",
       "viewer_17175030586561835 = $3Dmol.createViewer(document.getElementById(\"3dmolviewer_17175030586561835\"),{backgroundColor:\"white\"});\n",
       "viewer_17175030586561835.zoomTo();\n",
       "\tviewer_17175030586561835.addModelsAsFrames(\"MODEL        1\\nHETATM    1  H1  UNL     1      -2.026   1.650   0.000  1.00  0.00           H  \\nHETATM    2  H2  UNL     1       1.013   1.650   1.756  1.00  0.00           H  \\nHETATM    3  H3  UNL     1       1.013   1.650  -1.756  1.00  0.00           H  \\nHETATM    4  C1  UNL     1      -0.000   1.611   0.000  1.00  0.00           C  \\nHETATM    5 CL1  UNL     1      -0.000   6.140   0.000  1.00  0.00          CL  \\nHETATM    6 BR1  UNL     1       0.000  -3.026   0.000  1.00  0.00          BR  \\nCONECT    1    4\\nCONECT    2    4\\nCONECT    3    4\\nCONECT    4    6\\nEND\\nENDMDL\\nMODEL        2\\nHETATM    1  H1  UNL     1      -2.026   1.650   0.000  1.00  0.00           H  \\nHETATM    2  H2  UNL     1       1.013   1.650   1.756  1.00  0.00           H  \\nHETATM    3  H3  UNL     1       1.013   1.650  -1.756  1.00  0.00           H  \\nHETATM    4  C1  UNL     1       0.000   1.664   0.000  1.00  0.00           C  \\nHETATM    5 CL1  UNL     1       0.000   6.136   0.000  1.00  0.00          CL  \\nHETATM    6 BR1  UNL     1       0.000  -3.037   0.000  1.00  0.00          BR  \\nCONECT    1    4\\nCONECT    2    4\\nCONECT    3    4\\nCONECT    4    6\\nEND\\nENDMDL\\nMODEL        3\\nHETATM    1  H1  UNL     1      -2.026   1.650   0.000  1.00  0.00           H  \\nHETATM    2  H2  UNL     1       1.013   1.650   1.756  1.00  0.00           H  \\nHETATM    3  H3  UNL     1       1.013   1.650  -1.756  1.00  0.00           H  \\nHETATM    4  C1  UNL     1       0.000   1.664   0.000  1.00  0.00           C  \\nHETATM    5 CL1  UNL     1      -0.000   6.136   0.000  1.00  0.00          CL  \\nHETATM    6 BR1  UNL     1       0.000  -3.037   0.000  1.00  0.00          BR  \\nCONECT    1    4\\nCONECT    2    4\\nCONECT    3    4\\nCONECT    4    6\\nEND\\nENDMDL\\nMODEL        4\\nHETATM    1  H1  UNL     1      -2.026   1.650   0.000  1.00  0.00           H  \\nHETATM    2  H2  UNL     1       1.013   1.650   1.756  1.00  0.00           H  \\nHETATM    3  H3  UNL     1       1.013   1.650  -1.756  1.00  0.00           H  \\nHETATM    4  C1  UNL     1       0.001   1.716   0.000  1.00  0.00           C  \\nHETATM    5 CL1  UNL     1       0.000   6.133   0.000  1.00  0.00          CL  \\nHETATM    6 BR1  UNL     1       0.000  -3.052   0.000  1.00  0.00          BR  \\nCONECT    1    4\\nCONECT    2    4\\nCONECT    3    4\\nCONECT    4    5    6\\nEND\\nENDMDL\\nMODEL        5\\nHETATM    1  H1  UNL     1      -2.026   1.650   0.000  1.00  0.00           H  \\nHETATM    2  H2  UNL     1       1.013   1.650   1.756  1.00  0.00           H  \\nHETATM    3  H3  UNL     1       1.013   1.650  -1.756  1.00  0.00           H  \\nHETATM    4  C1  UNL     1       0.001   1.716   0.000  1.00  0.00           C  \\nHETATM    5 CL1  UNL     1       0.000   6.132   0.000  1.00  0.00          CL  \\nHETATM    6 BR1  UNL     1       0.000  -3.051   0.000  1.00  0.00          BR  \\nCONECT    1    4\\nCONECT    2    4\\nCONECT    3    4\\nCONECT    4    5    6\\nEND\\nENDMDL\\nMODEL        6\\nHETATM    1  H1  UNL     1      -2.026   1.650   0.000  1.00  0.00           H  \\nHETATM    2  H2  UNL     1       1.013   1.650   1.756  1.00  0.00           H  \\nHETATM    3  H3  UNL     1       1.013   1.650  -1.756  1.00  0.00           H  \\nHETATM    4  C1  UNL     1       0.000   1.769   0.000  1.00  0.00           C  \\nHETATM    5 CL1  UNL     1       0.000   6.129   0.000  1.00  0.00          CL  \\nHETATM    6 BR1  UNL     1       0.000  -3.063   0.000  1.00  0.00          BR  \\nCONECT    1    4\\nCONECT    2    4\\nCONECT    3    4\\nCONECT    4    5    6\\nEND\\nENDMDL\\nMODEL        7\\nHETATM    1  H1  UNL     1      -2.026   1.650   0.000  1.00  0.00           H  \\nHETATM    2  H2  UNL     1       1.013   1.650   1.756  1.00  0.00           H  \\nHETATM    3  H3  UNL     1       1.013   1.650  -1.756  1.00  0.00           H  \\nHETATM    4  C1  UNL     1       0.000   1.769   0.000  1.00  0.00           C  \\nHETATM    5 CL1  UNL     1       0.000   6.128   0.000  1.00  0.00          CL  \\nHETATM    6 BR1  UNL     1       0.000  -3.063   0.000  1.00  0.00          BR  \\nCONECT    1    4\\nCONECT    2    4\\nCONECT    3    4\\nCONECT    4    5    6\\nEND\\nENDMDL\\nMODEL        8\\nHETATM    1  H1  UNL     1      -2.026   1.650   0.000  1.00  0.00           H  \\nHETATM    2  H2  UNL     1       1.013   1.650   1.756  1.00  0.00           H  \\nHETATM    3  H3  UNL     1       1.013   1.650  -1.756  1.00  0.00           H  \\nHETATM    4  C1  UNL     1       0.001   1.823   0.000  1.00  0.00           C  \\nHETATM    5 CL1  UNL     1       0.000   6.124   0.000  1.00  0.00          CL  \\nHETATM    6 BR1  UNL     1       0.000  -3.074   0.000  1.00  0.00          BR  \\nCONECT    1    4\\nCONECT    2    4\\nCONECT    3    4\\nCONECT    4    5    6\\nEND\\nENDMDL\\nMODEL        9\\nHETATM    1  H1  UNL     1      -2.026   1.650   0.000  1.00  0.00           H  \\nHETATM    2  H2  UNL     1       1.013   1.650   1.756  1.00  0.00           H  \\nHETATM    3  H3  UNL     1       1.013   1.650  -1.756  1.00  0.00           H  \\nHETATM    4  C1  UNL     1       0.000   1.822   0.000  1.00  0.00           C  \\nHETATM    5 CL1  UNL     1       0.000   6.124   0.000  1.00  0.00          CL  \\nHETATM    6 BR1  UNL     1       0.000  -3.074   0.000  1.00  0.00          BR  \\nCONECT    1    4\\nCONECT    2    4\\nCONECT    3    4\\nCONECT    4    5    6\\nEND\\nENDMDL\\nMODEL       10\\nHETATM    1  H1  UNL     1      -2.026   1.650   0.000  1.00  0.00           H  \\nHETATM    2  H2  UNL     1       1.013   1.650   1.756  1.00  0.00           H  \\nHETATM    3  H3  UNL     1       1.013   1.650  -1.756  1.00  0.00           H  \\nHETATM    4  C1  UNL     1       0.000   1.875   0.000  1.00  0.00           C  \\nHETATM    5 CL1  UNL     1       0.000   6.118   0.000  1.00  0.00          CL  \\nHETATM    6 BR1  UNL     1       0.000  -3.085   0.000  1.00  0.00          BR  \\nCONECT    1    4\\nCONECT    2    4\\nCONECT    3    4\\nCONECT    4    5\\nEND\\nENDMDL\\nMODEL       11\\nHETATM    1  H1  UNL     1      -2.026   1.650   0.000  1.00  0.00           H  \\nHETATM    2  H2  UNL     1       1.013   1.650   1.756  1.00  0.00           H  \\nHETATM    3  H3  UNL     1       1.013   1.650  -1.756  1.00  0.00           H  \\nHETATM    4  C1  UNL     1       0.000   1.875   0.000  1.00  0.00           C  \\nHETATM    5 CL1  UNL     1       0.000   6.118   0.000  1.00  0.00          CL  \\nHETATM    6 BR1  UNL     1       0.000  -3.085   0.000  1.00  0.00          BR  \\nCONECT    1    4\\nCONECT    2    4\\nCONECT    3    4\\nCONECT    4    5\\nEND\\nENDMDL\\nMODEL       12\\nHETATM    1  H1  UNL     1      -2.026   1.650   0.000  1.00  0.00           H  \\nHETATM    2  H2  UNL     1       1.013   1.650   1.756  1.00  0.00           H  \\nHETATM    3  H3  UNL     1       1.013   1.650  -1.756  1.00  0.00           H  \\nHETATM    4  C1  UNL     1       0.000   1.928   0.000  1.00  0.00           C  \\nHETATM    5 CL1  UNL     1       0.000   6.112   0.000  1.00  0.00          CL  \\nHETATM    6 BR1  UNL     1       0.000  -3.096   0.000  1.00  0.00          BR  \\nCONECT    1    4\\nCONECT    2    4\\nCONECT    3    4\\nCONECT    4    5\\nEND\\nENDMDL\\nMODEL       13\\nHETATM    1  H1  UNL     1      -2.026   1.650   0.000  1.00  0.00           H  \\nHETATM    2  H2  UNL     1       1.013   1.650   1.756  1.00  0.00           H  \\nHETATM    3  H3  UNL     1       1.013   1.650  -1.756  1.00  0.00           H  \\nHETATM    4  C1  UNL     1       0.000   1.927   0.000  1.00  0.00           C  \\nHETATM    5 CL1  UNL     1       0.000   6.112   0.000  1.00  0.00          CL  \\nHETATM    6 BR1  UNL     1       0.000  -3.096   0.000  1.00  0.00          BR  \\nCONECT    1    4\\nCONECT    2    4\\nCONECT    3    4\\nCONECT    4    5\\nEND\\nENDMDL\\nMODEL       14\\nHETATM    1  H1  UNL     1      -2.026   1.650   0.000  1.00  0.00           H  \\nHETATM    2  H2  UNL     1       1.013   1.650   1.756  1.00  0.00           H  \\nHETATM    3  H3  UNL     1       1.013   1.650  -1.756  1.00  0.00           H  \\nHETATM    4  C1  UNL     1       0.000   1.979   0.000  1.00  0.00           C  \\nHETATM    5 CL1  UNL     1       0.000   6.106   0.000  1.00  0.00          CL  \\nHETATM    6 BR1  UNL     1       0.000  -3.108   0.000  1.00  0.00          BR  \\nCONECT    1    4\\nCONECT    2    4\\nCONECT    3    4\\nCONECT    4    5\\nEND\\nENDMDL\\nMODEL       15\\nHETATM    1  H1  UNL     1      -2.026   1.650   0.000  1.00  0.00           H  \\nHETATM    2  H2  UNL     1       1.013   1.650   1.756  1.00  0.00           H  \\nHETATM    3  H3  UNL     1       1.013   1.650  -1.756  1.00  0.00           H  \\nHETATM    4  C1  UNL     1       0.000   1.979   0.000  1.00  0.00           C  \\nHETATM    5 CL1  UNL     1       0.000   6.105   0.000  1.00  0.00          CL  \\nHETATM    6 BR1  UNL     1       0.000  -3.108   0.000  1.00  0.00          BR  \\nCONECT    1    4\\nCONECT    2    4\\nCONECT    3    4\\nCONECT    4    5\\nEND\\nENDMDL\\nMODEL       16\\nHETATM    1  H1  UNL     1      -2.026   1.650   0.000  1.00  0.00           H  \\nHETATM    2  H2  UNL     1       1.013   1.650   1.756  1.00  0.00           H  \\nHETATM    3  H3  UNL     1       1.013   1.650  -1.756  1.00  0.00           H  \\nHETATM    4  C1  UNL     1       0.000   2.029   0.000  1.00  0.00           C  \\nHETATM    5 CL1  UNL     1       0.000   6.098   0.000  1.00  0.00          CL  \\nHETATM    6 BR1  UNL     1       0.000  -3.120   0.000  1.00  0.00          BR  \\nCONECT    1    4\\nCONECT    2    4\\nCONECT    3    4\\nCONECT    4    5\\nEND\\nENDMDL\\nMODEL       17\\nHETATM    1  H1  UNL     1      -2.026   1.650   0.000  1.00  0.00           H  \\nHETATM    2  H2  UNL     1       1.013   1.650   1.756  1.00  0.00           H  \\nHETATM    3  H3  UNL     1       1.013   1.650  -1.756  1.00  0.00           H  \\nHETATM    4  C1  UNL     1       0.000   2.028   0.000  1.00  0.00           C  \\nHETATM    5 CL1  UNL     1       0.000   6.097   0.000  1.00  0.00          CL  \\nHETATM    6 BR1  UNL     1       0.000  -3.121   0.000  1.00  0.00          BR  \\nCONECT    1    4\\nCONECT    2    4\\nCONECT    3    4\\nCONECT    4    5\\nEND\\nENDMDL\\nMODEL       18\\nHETATM    1  H1  UNL     1      -2.026   1.650   0.000  1.00  0.00           H  \\nHETATM    2  H2  UNL     1       1.013   1.650   1.756  1.00  0.00           H  \\nHETATM    3  H3  UNL     1       1.013   1.650  -1.756  1.00  0.00           H  \\nHETATM    4  C1  UNL     1       0.000   2.028   0.000  1.00  0.00           C  \\nHETATM    5 CL1  UNL     1       0.000   6.097   0.000  1.00  0.00          CL  \\nHETATM    6 BR1  UNL     1       0.000  -3.121   0.000  1.00  0.00          BR  \\nCONECT    1    4\\nCONECT    2    4\\nCONECT    3    4\\nCONECT    4    5\\nEND\\nENDMDL\\nMODEL       19\\nHETATM    1  H1  UNL     1      -2.026   1.650   0.000  1.00  0.00           H  \\nHETATM    2  H2  UNL     1       1.013   1.650   1.756  1.00  0.00           H  \\nHETATM    3  H3  UNL     1       1.013   1.650  -1.756  1.00  0.00           H  \\nHETATM    4  C1  UNL     1       0.000   2.076   0.000  1.00  0.00           C  \\nHETATM    5 CL1  UNL     1       0.000   6.089   0.000  1.00  0.00          CL  \\nHETATM    6 BR1  UNL     1       0.000  -3.134   0.000  1.00  0.00          BR  \\nCONECT    1    4\\nCONECT    2    4\\nCONECT    3    4\\nCONECT    4    5\\nEND\\nENDMDL\\nMODEL       20\\nHETATM    1  H1  UNL     1      -2.026   1.650   0.000  1.00  0.00           H  \\nHETATM    2  H2  UNL     1       1.013   1.650   1.756  1.00  0.00           H  \\nHETATM    3  H3  UNL     1       1.013   1.650  -1.756  1.00  0.00           H  \\nHETATM    4  C1  UNL     1       0.000   2.075   0.000  1.00  0.00           C  \\nHETATM    5 CL1  UNL     1       0.000   6.088   0.000  1.00  0.00          CL  \\nHETATM    6 BR1  UNL     1       0.000  -3.135   0.000  1.00  0.00          BR  \\nCONECT    1    4\\nCONECT    2    4\\nCONECT    3    4\\nCONECT    4    5\\nEND\\nENDMDL\\nMODEL       21\\nHETATM    1  H1  UNL     1      -2.026   1.650   0.000  1.00  0.00           H  \\nHETATM    2  H2  UNL     1       1.013   1.650   1.756  1.00  0.00           H  \\nHETATM    3  H3  UNL     1       1.013   1.650  -1.756  1.00  0.00           H  \\nHETATM    4  C1  UNL     1       0.000   2.075   0.000  1.00  0.00           C  \\nHETATM    5 CL1  UNL     1       0.000   6.088   0.000  1.00  0.00          CL  \\nHETATM    6 BR1  UNL     1       0.000  -3.135   0.000  1.00  0.00          BR  \\nCONECT    1    4\\nCONECT    2    4\\nCONECT    3    4\\nCONECT    4    5\\nEND\\nENDMDL\\nMODEL       22\\nHETATM    1  H1  UNL     1      -2.026   1.650   0.000  1.00  0.00           H  \\nHETATM    2  H2  UNL     1       1.013   1.650   1.756  1.00  0.00           H  \\nHETATM    3  H3  UNL     1       1.013   1.650  -1.756  1.00  0.00           H  \\nHETATM    4  C1  UNL     1       0.000   2.119   0.000  1.00  0.00           C  \\nHETATM    5 CL1  UNL     1       0.000   6.078   0.000  1.00  0.00          CL  \\nHETATM    6 BR1  UNL     1       0.000  -3.150   0.000  1.00  0.00          BR  \\nCONECT    1    4\\nCONECT    2    4\\nCONECT    3    4\\nCONECT    4    5\\nEND\\nENDMDL\\nMODEL       23\\nHETATM    1  H1  UNL     1      -2.026   1.650   0.000  1.00  0.00           H  \\nHETATM    2  H2  UNL     1       1.013   1.650   1.756  1.00  0.00           H  \\nHETATM    3  H3  UNL     1       1.013   1.650  -1.756  1.00  0.00           H  \\nHETATM    4  C1  UNL     1       0.000   2.117   0.000  1.00  0.00           C  \\nHETATM    5 CL1  UNL     1       0.000   6.077   0.000  1.00  0.00          CL  \\nHETATM    6 BR1  UNL     1       0.000  -3.151   0.000  1.00  0.00          BR  \\nCONECT    1    4\\nCONECT    2    4\\nCONECT    3    4\\nCONECT    4    5\\nEND\\nENDMDL\\nMODEL       24\\nHETATM    1  H1  UNL     1      -2.026   1.650   0.000  1.00  0.00           H  \\nHETATM    2  H2  UNL     1       1.013   1.650   1.756  1.00  0.00           H  \\nHETATM    3  H3  UNL     1       1.013   1.650  -1.756  1.00  0.00           H  \\nHETATM    4  C1  UNL     1       0.000   2.117   0.000  1.00  0.00           C  \\nHETATM    5 CL1  UNL     1       0.000   6.077   0.000  1.00  0.00          CL  \\nHETATM    6 BR1  UNL     1       0.000  -3.151   0.000  1.00  0.00          BR  \\nCONECT    1    4\\nCONECT    2    4\\nCONECT    3    4\\nCONECT    4    5\\nEND\\nENDMDL\\n\",\"trajectory\",{\"keepH\": true});\n",
       "\tviewer_17175030586561835.setBackgroundColor(\"white\");\n",
       "\tviewer_17175030586561835.setStyle({\"stick\": {\"scale\": 0.3}, \"sphere\": {\"scale\": 0.3}});\n",
       "\tviewer_17175030586561835.zoomTo();\n",
       "\tviewer_17175030586561835.animate({\"loop\": \"forward\", \"interval\": 200});\n",
       "viewer_17175030586561835.render();\n",
       "});\n",
       "</script>"
      ]
     },
     "metadata": {},
     "output_type": "display_data"
    }
   ],
   "source": [
    "# Show the animation\n",
    "view = py3Dmol.view(width=400, height=300)\n",
    "view.addModelsAsFrames(pdb_trajectory, \"trajectory\", {'keepH': True})\n",
    "view.setBackgroundColor('white')\n",
    "view.setStyle({'stick': {'scale': 0.3}, 'sphere': {'scale': 0.3}})\n",
    "view.zoomTo()\n",
    "view.animate({'loop': \"forward\", 'interval': 200}) # Adjust the speed as needed (set 'interval' to a new value in millisecond)\n",
    "view.show()"
   ]
  },
  {
   "cell_type": "code",
   "execution_count": null,
   "id": "ef1409bd",
   "metadata": {},
   "outputs": [],
   "source": []
  }
 ],
 "metadata": {
  "kernelspec": {
   "display_name": "Python 3 (ipykernel)",
   "language": "python",
   "name": "python3"
  },
  "language_info": {
   "codemirror_mode": {
    "name": "ipython",
    "version": 3
   },
   "file_extension": ".py",
   "mimetype": "text/x-python",
   "name": "python",
   "nbconvert_exporter": "python",
   "pygments_lexer": "ipython3",
   "version": "3.11.7"
  },
  "toc": {
   "base_numbering": "",
   "nav_menu": {},
   "number_sections": false,
   "sideBar": true,
   "skip_h1_title": false,
   "title_cell": "Table of Contents",
   "title_sidebar": "Table of Contents",
   "toc_cell": false,
   "toc_position": {
    "height": "calc(100% - 180px)",
    "left": "10px",
    "top": "150px",
    "width": "203px"
   },
   "toc_section_display": true,
   "toc_window_display": true
  }
 },
 "nbformat": 4,
 "nbformat_minor": 5
}
