{
 "cells": [
  {
   "cell_type": "markdown",
   "id": "ce2d6e30",
   "metadata": {},
   "source": [
    "# Chapter 8: Calculation of Molecular Properties"
   ]
  },
  {
   "cell_type": "markdown",
   "id": "14225220",
   "metadata": {},
   "source": [
    "## 8.7. Molecular Dynamics Simulation"
   ]
  },
  {
   "cell_type": "markdown",
   "id": "758448fd",
   "metadata": {},
   "source": [
    "In the following section, we will perform molecular dynamics simulation for organic molecules:"
   ]
  },
  {
   "cell_type": "markdown",
   "id": "8a9a343f",
   "metadata": {},
   "source": [
    "### 8.7.1. *Ab initio* calculation"
   ]
  },
  {
   "cell_type": "code",
   "execution_count": null,
   "id": "fc30433b",
   "metadata": {
    "tags": []
   },
   "outputs": [],
   "source": [
    "# Import modules\n",
    "import numpy as np\n",
    "import psi4\n",
    "from rdkit import Chem\n",
    "from rdkit.Chem import AllChem\n",
    "from utils import View3DModel\n",
    "import py3Dmol\n",
    "from tqdm import tqdm"
   ]
  },
  {
   "cell_type": "code",
   "execution_count": null,
   "id": "d04d8d7f-5313-49bc-a513-7ecbf3b967d6",
   "metadata": {},
   "outputs": [],
   "source": [
    "# Create a molecule of acetone\n",
    "mol = Chem.MolFromSmiles('CC(=O)C') # acetone\n",
    "\n",
    "# Prepare the molecule\n",
    "mol = Chem.AddHs(mol)\n",
    "AllChem.EmbedMolecule(mol, useRandomCoords=True)\n",
    "AllChem.UFFOptimizeMolecule(mol, maxIters=200)"
   ]
  },
  {
   "cell_type": "code",
   "execution_count": null,
   "id": "add7af1a-616f-451b-93af-92bceb173ac1",
   "metadata": {},
   "outputs": [],
   "source": [
    "# View 3D model with py3Dmol\n",
    "View3DModel(mol)"
   ]
  },
  {
   "cell_type": "code",
   "execution_count": null,
   "id": "c7120f41-d88e-4798-a899-af96bfbd3d5c",
   "metadata": {},
   "outputs": [],
   "source": [
    "# Write the geometry to XYZ string\n",
    "xyz_string = Chem.MolToXYZBlock(mol)\n",
    "\n",
    "# Get the psi4 geometry\n",
    "geometry = psi4.geometry(xyz_string)\n",
    "\n",
    "# Convert initial coordinates to numpy array\n",
    "natoms = geometry.natom()\n",
    "coords = np.array([[geometry.x(i), geometry.y(i), geometry.z(i)] for i in range(natoms)])\n",
    "\n",
    "# Initial velocities = 0\n",
    "velocities = np.zeros_like(coords)"
   ]
  },
  {
   "cell_type": "code",
   "execution_count": null,
   "id": "d20f157d-eb7b-4d59-a070-04f5d1442eae",
   "metadata": {},
   "outputs": [],
   "source": [
    "# Simulation parameters\n",
    "dt = 0.5  # time step in fs (arbitrary units for demo)\n",
    "num_steps = 100\n",
    "\n",
    "# Store PDB trajectory\n",
    "pdb_traj = \"\""
   ]
  },
  {
   "cell_type": "code",
   "execution_count": null,
   "id": "92b7a0ac-df40-40fb-b3e5-fe5f0ef67580",
   "metadata": {},
   "outputs": [],
   "source": [
    "# Set calculation options\n",
    "psi4.set_options({'BASIS': '6-31g'})\n",
    "\n",
    "# Set the number of threads and memory limit\n",
    "psi4.set_num_threads(16)\n",
    "psi4.set_memory(16*1024*1024*1024) # 16 GB"
   ]
  },
  {
   "cell_type": "code",
   "execution_count": null,
   "id": "45cc12ef",
   "metadata": {
    "tags": []
   },
   "outputs": [],
   "source": [
    "# Keep initial reference positions\n",
    "ref_coords = coords.copy()\n",
    "\n",
    "# Damping factor for velocities (to avoid runaway)\n",
    "damping = 0.9\n",
    "\n",
    "# Harmonic restraint constant (a.u.)\n",
    "k_restraint = 0.05"
   ]
  },
  {
   "cell_type": "code",
   "execution_count": null,
   "id": "582c5dbf",
   "metadata": {
    "tags": []
   },
   "outputs": [],
   "source": [
    "for step in tqdm(range(1, num_steps+1)):\n",
    "    # Update Psi4 molecule geometry\n",
    "    geometry = psi4.geometry(\n",
    "        f\"0 1\\n\" +\n",
    "        \"\\n\".join([f\"{geometry.symbol(i)} {coords[i,0]} {coords[i,1]} {coords[i,2]}\" for i in range(natoms)])\n",
    "    )\n",
    "    \n",
    "    # Compute forces (negative gradient from QM)\n",
    "    grad = psi4.gradient('SCF', molecule=geometry).to_array()\n",
    "    forces = -grad  # Hartree/Bohr\n",
    "    \n",
    "    # Add harmonic restraint force: -k * (x - x0)\n",
    "    restraint_force = -k_restraint * (coords - ref_coords)\n",
    "    forces += restraint_force\n",
    "    \n",
    "    # Velocity Verlet with damping\n",
    "    velocities = damping * (velocities + 0.5 * forces * dt)\n",
    "    coords += velocities * dt\n",
    "    \n",
    "    # Write step to PDB string\n",
    "    conformer = mol.GetConformer()\n",
    "    pdb_traj += f\"MODEL     {step}\\n\"\n",
    "    for i in range(natoms):\n",
    "        pdb_traj += f\"ATOM  {i+1:5d} {geometry.symbol(i):>2}   MOL     1    {coords[i,0]:8.3f}{coords[i,1]:8.3f}{coords[i,2]:8.3f}  1.00  0.00\\n\"\n",
    "        conect_lines = \"\"\n",
    "        for bond in mol.GetBonds():\n",
    "            a1 = bond.GetBeginAtomIdx() + 1  # PDB atoms are 1-indexed\n",
    "            a2 = bond.GetEndAtomIdx() + 1\n",
    "            conect_lines += f\"CONECT{a1:5d}{a2:5d}\\n\"\n",
    "    pdb_traj += conect_lines\n",
    "    pdb_traj += \"ENDMDL\\n\""
   ]
  },
  {
   "cell_type": "code",
   "execution_count": null,
   "id": "82c3839d",
   "metadata": {
    "tags": []
   },
   "outputs": [],
   "source": [
    "# Show the animation\n",
    "view = py3Dmol.view(width=400, height=300)\n",
    "view.addModelsAsFrames(pdb_traj, \"trajectory\", {'keepH': True})\n",
    "view.setBackgroundColor('white')\n",
    "view.setStyle({'stick': {'scale': 0.3}, 'sphere': {'scale': 0.3}})\n",
    "view.zoomTo()\n",
    "view.animate({'loop': \"forward\", 'interval': 100}) # Adjust the speed as needed (set 'interval' to a new value in millisecond)\n",
    "view.show()"
   ]
  },
  {
   "cell_type": "markdown",
   "id": "e2d0e5cc",
   "metadata": {},
   "source": [
    "### 8.7.2. DFT Calculation"
   ]
  },
  {
   "cell_type": "code",
   "execution_count": null,
   "id": "02545cf1",
   "metadata": {},
   "outputs": [],
   "source": [
    "# Import modules\n",
    "import numpy as np\n",
    "import psi4\n",
    "from rdkit import Chem\n",
    "from rdkit.Chem import AllChem\n",
    "from utils import View3DModel\n",
    "import py3Dmol\n",
    "from tqdm import tqdm"
   ]
  },
  {
   "cell_type": "code",
   "execution_count": null,
   "id": "fb89be02-7525-4fe1-9568-b9506bdc072e",
   "metadata": {},
   "outputs": [],
   "source": [
    "# Create a molecule of acetone\n",
    "mol = Chem.MolFromSmiles('CC(=O)C') # acetone\n",
    "\n",
    "# Prepare the molecule\n",
    "mol = Chem.AddHs(mol)\n",
    "AllChem.EmbedMolecule(mol, useRandomCoords=True)\n",
    "AllChem.UFFOptimizeMolecule(mol, maxIters=200)"
   ]
  },
  {
   "cell_type": "code",
   "execution_count": null,
   "id": "8a4d6b0c-3b1d-4596-8522-ff537f348805",
   "metadata": {},
   "outputs": [],
   "source": [
    "# View 3D model with py3Dmol\n",
    "View3DModel(mol)"
   ]
  },
  {
   "cell_type": "code",
   "execution_count": null,
   "id": "8932a5ac-b67c-4301-b7c2-be88ff4b89d5",
   "metadata": {},
   "outputs": [],
   "source": [
    "# Write the geometry to XYZ string\n",
    "xyz_string = Chem.MolToXYZBlock(mol)\n",
    "\n",
    "# Get the psi4 geometry\n",
    "geometry = psi4.geometry(xyz_string)\n",
    "\n",
    "# Convert initial coordinates to numpy array\n",
    "natoms = geometry.natom()\n",
    "coords = np.array([[geometry.x(i), geometry.y(i), geometry.z(i)] for i in range(natoms)])\n",
    "\n",
    "# Initial velocities = 0\n",
    "velocities = np.zeros_like(coords)"
   ]
  },
  {
   "cell_type": "code",
   "execution_count": null,
   "id": "7972457e-cb3a-4585-8d81-0d72b805c9a9",
   "metadata": {},
   "outputs": [],
   "source": [
    "# Simulation parameters\n",
    "dt = 0.5  # time step in fs (arbitrary units for demo)\n",
    "num_steps = 100\n",
    "\n",
    "# Store PDB trajectory\n",
    "pdb_traj = \"\""
   ]
  },
  {
   "cell_type": "code",
   "execution_count": null,
   "id": "688178b4-7df4-4b66-89e0-c19f192377fd",
   "metadata": {},
   "outputs": [],
   "source": [
    "# Set calculation options\n",
    "psi4.set_options({'BASIS': '6-31g', 'SCF_TYPE': 'DF'})\n",
    "\n",
    "# Set the number of threads and memory limit\n",
    "psi4.set_num_threads(16)\n",
    "psi4.set_memory(16*1024*1024*1024) # 16 GB"
   ]
  },
  {
   "cell_type": "code",
   "execution_count": null,
   "id": "340300df-d28d-4321-b29b-8109bae07e04",
   "metadata": {},
   "outputs": [],
   "source": [
    "# Keep initial reference positions\n",
    "ref_coords = coords.copy()\n",
    "\n",
    "# Damping factor for velocities (to avoid runaway)\n",
    "damping = 0.9\n",
    "\n",
    "# Harmonic restraint constant (a.u.)\n",
    "k_restraint = 0.05"
   ]
  },
  {
   "cell_type": "code",
   "execution_count": null,
   "id": "e43be678-39e0-4cd3-8eba-1673b7c18e1a",
   "metadata": {},
   "outputs": [],
   "source": [
    "for step in tqdm(range(1, num_steps+1)):\n",
    "    # Update Psi4 molecule geometry\n",
    "    geometry = psi4.geometry(\n",
    "        f\"0 1\\n\" +\n",
    "        \"\\n\".join([f\"{geometry.symbol(i)} {coords[i,0]} {coords[i,1]} {coords[i,2]}\" for i in range(natoms)])\n",
    "    )\n",
    "    \n",
    "    # Compute forces (negative gradient from QM)\n",
    "    grad = psi4.gradient('B3LYP', molecule=geometry).to_array()\n",
    "    forces = -grad  # Hartree/Bohr\n",
    "    \n",
    "    # Add harmonic restraint force: -k * (x - x0)\n",
    "    restraint_force = -k_restraint * (coords - ref_coords)\n",
    "    forces += restraint_force\n",
    "    \n",
    "    # Velocity Verlet with damping\n",
    "    velocities = damping * (velocities + 0.5 * forces * dt)\n",
    "    coords += velocities * dt\n",
    "    \n",
    "    # Write step to PDB string\n",
    "    conformer = mol.GetConformer()\n",
    "    pdb_traj += f\"MODEL     {step}\\n\"\n",
    "    for i in range(natoms):\n",
    "        pdb_traj += f\"ATOM  {i+1:5d} {geometry.symbol(i):>2}   MOL     1    {coords[i,0]:8.3f}{coords[i,1]:8.3f}{coords[i,2]:8.3f}  1.00  0.00\\n\"\n",
    "        conect_lines = \"\"\n",
    "        for bond in mol.GetBonds():\n",
    "            a1 = bond.GetBeginAtomIdx() + 1  # PDB atoms are 1-indexed\n",
    "            a2 = bond.GetEndAtomIdx() + 1\n",
    "            conect_lines += f\"CONECT{a1:5d}{a2:5d}\\n\"\n",
    "    pdb_traj += conect_lines\n",
    "    pdb_traj += \"ENDMDL\\n\""
   ]
  },
  {
   "cell_type": "code",
   "execution_count": null,
   "id": "8c048eb8-6e68-4e46-b94c-316405770987",
   "metadata": {},
   "outputs": [],
   "source": [
    "# Show the animation\n",
    "view = py3Dmol.view(width=400, height=300)\n",
    "view.addModelsAsFrames(pdb_traj, \"trajectory\", {'keepH': True})\n",
    "view.setBackgroundColor('white')\n",
    "view.setStyle({'stick': {'scale': 0.3}, 'sphere': {'scale': 0.3}})\n",
    "view.zoomTo()\n",
    "view.animate({'loop': \"forward\", 'interval': 100}) # Adjust the speed as needed (set 'interval' to a new value in millisecond)\n",
    "view.show()"
   ]
  },
  {
   "cell_type": "code",
   "execution_count": null,
   "id": "0a47c1af-a076-4112-b651-de687b16e522",
   "metadata": {},
   "outputs": [],
   "source": []
  }
 ],
 "metadata": {
  "kernelspec": {
   "display_name": "Python 3 (ipykernel)",
   "language": "python",
   "name": "python3"
  },
  "language_info": {
   "codemirror_mode": {
    "name": "ipython",
    "version": 3
   },
   "file_extension": ".py",
   "mimetype": "text/x-python",
   "name": "python",
   "nbconvert_exporter": "python",
   "pygments_lexer": "ipython3",
   "version": "3.10.11"
  },
  "toc": {
   "base_numbering": "",
   "nav_menu": {},
   "number_sections": false,
   "sideBar": true,
   "skip_h1_title": false,
   "title_cell": "Table of Contents",
   "title_sidebar": "Table of Contents",
   "toc_cell": false,
   "toc_position": {
    "height": "calc(100% - 180px)",
    "left": "10px",
    "top": "150px",
    "width": "203px"
   },
   "toc_section_display": true,
   "toc_window_display": true
  }
 },
 "nbformat": 4,
 "nbformat_minor": 5
}
