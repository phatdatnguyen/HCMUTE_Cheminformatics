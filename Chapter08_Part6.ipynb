{
 "cells": [
  {
   "cell_type": "markdown",
   "id": "ce2d6e30",
   "metadata": {},
   "source": [
    "# Chapter 8: Calculation of Molecular Properties"
   ]
  },
  {
   "cell_type": "markdown",
   "id": "14225220",
   "metadata": {},
   "source": [
    "## 8.6. Time-Dependent Calculation"
   ]
  },
  {
   "cell_type": "markdown",
   "id": "758448fd",
   "metadata": {},
   "source": [
    "In the following section, we will perform time-dependent calculation to predict the absorption spectrum of coumarin:"
   ]
  },
  {
   "cell_type": "markdown",
   "id": "8a9a343f",
   "metadata": {},
   "source": [
    "### 8.6.1. Time-Dependent Calculation"
   ]
  },
  {
   "cell_type": "code",
   "execution_count": null,
   "id": "fc30433b",
   "metadata": {
    "tags": []
   },
   "outputs": [],
   "source": [
    "# Import modules\n",
    "import numpy as np\n",
    "import matplotlib.pyplot as plt\n",
    "from rdkit import Chem\n",
    "from rdkit.Chem import AllChem\n",
    "from utils import View3DModel\n",
    "import psi4\n",
    "import py3Dmol"
   ]
  },
  {
   "cell_type": "code",
   "execution_count": null,
   "id": "45cc12ef",
   "metadata": {
    "tags": []
   },
   "outputs": [],
   "source": [
    "# Define the molecule\n",
    "smiles = 'O=C1OC2=C(C=CC=C2)C=C1'\n",
    "mol = Chem.MolFromSmiles(smiles)\n",
    "mol = Chem.AddHs(mol)\n",
    "AllChem.EmbedMolecule(mol, useRandomCoords=True)\n",
    "AllChem.UFFOptimizeMolecule(mol, maxIters=200)"
   ]
  },
  {
   "cell_type": "code",
   "execution_count": null,
   "id": "3cf85740",
   "metadata": {
    "scrolled": true,
    "tags": []
   },
   "outputs": [],
   "source": [
    "# View 3D model with py3Dmol\n",
    "View3DModel(mol)"
   ]
  },
  {
   "cell_type": "code",
   "execution_count": null,
   "id": "a9c6b6ee",
   "metadata": {
    "tags": []
   },
   "outputs": [],
   "source": [
    "# Set the number of threads and memory limit\n",
    "psi4.set_num_threads(16)\n",
    "psi4.set_memory(16*1024*1024*1024) # 16 GB"
   ]
  },
  {
   "cell_type": "code",
   "execution_count": null,
   "id": "582c5dbf",
   "metadata": {
    "tags": []
   },
   "outputs": [],
   "source": [
    "# Set up the basis set, temperature and pressure\n",
    "psi4.set_options({'BASIS': 'cc-pvdz',\n",
    "                  'TDSCF_STATES': 10,\n",
    "                  'ROOTS_PER_IRREP': [5]})"
   ]
  },
  {
   "cell_type": "code",
   "execution_count": null,
   "id": "4ccb356e",
   "metadata": {
    "tags": []
   },
   "outputs": [],
   "source": [
    "# Write the geometry to XYZ string\n",
    "xyz_string = Chem.MolToXYZBlock(mol)\n",
    "\n",
    "# Get the psi4 geometry\n",
    "geometry = psi4.geometry(xyz_string)\n",
    "\n",
    "# Perform geometry optimization\n",
    "psi4.optimize('b3lyp', molecule=geometry, return_wfn=True)"
   ]
  },
  {
   "cell_type": "code",
   "execution_count": null,
   "id": "82c3839d",
   "metadata": {
    "tags": []
   },
   "outputs": [],
   "source": [
    "# Run the TD calculation\n",
    "energy, wfn = psi4.energy('td-scf', return_wfn=True, molecule=geometry)"
   ]
  },
  {
   "cell_type": "markdown",
   "id": "e2d0e5cc",
   "metadata": {},
   "source": [
    "### 8.6.2. Prediction of Absorption Spectra"
   ]
  },
  {
   "cell_type": "markdown",
   "id": "8776539d",
   "metadata": {},
   "source": [
    "After time-dependent calculation, the excitation energies and oscillator strengths can be extracted for predicting absorption spectrum."
   ]
  },
  {
   "cell_type": "code",
   "execution_count": null,
   "id": "58fd1e25",
   "metadata": {
    "tags": []
   },
   "outputs": [],
   "source": [
    "# Extract information about the excited states\n",
    "states_info = psi4.procrouting.response.scf_response.tdscf_excitations(wfn, states=5)"
   ]
  },
  {
   "cell_type": "code",
   "execution_count": null,
   "id": "4d4ce35c",
   "metadata": {
    "tags": []
   },
   "outputs": [],
   "source": [
    "# Iterate through the states and gather the wavelengths and oscillator strengths\n",
    "exc_energies = []\n",
    "osc_strengths = []\n",
    "for state in states_info:\n",
    "    exc_energies.append(state['EXCITATION ENERGY'])\n",
    "    osc_strengths.append(state['OSCILLATOR STRENGTH (LEN)'])"
   ]
  },
  {
   "cell_type": "code",
   "execution_count": null,
   "id": "4d10577f",
   "metadata": {
    "tags": []
   },
   "outputs": [],
   "source": [
    "# Convert excitation energies (Hartrees) to wavelengths (nm) using E = hc/λ\n",
    "wavelengths_nm = [(psi4.constants.h * psi4.constants.c * 1e9) / (energy * psi4.constants.hartree2ev * psi4.constants.electron_volt) for energy in exc_energies]\n",
    "\n",
    "# Function to generate a Gaussian curve\n",
    "def gaussian(x, mu, sigma, intensity):\n",
    "    return intensity * np.exp(-np.power(x - mu, 2.) / (2 * np.power(sigma, 2.)))\n",
    "\n",
    "# Generate a continuous spectrum\n",
    "spectrum_x = np.linspace(100, 800, 1000)  # Adjust range and resolution as needed\n",
    "spectrum_y = np.zeros_like(spectrum_x)\n",
    "\n",
    "# Width of the Gaussian peaks (standard deviation)\n",
    "gaussian_width = 5  # You can adjust this value\n",
    "\n",
    "# Superimpose Gaussian curves for each transition\n",
    "for wavelength, strength in zip(wavelengths_nm, osc_strengths):\n",
    "    spectrum_y += gaussian(spectrum_x, wavelength, gaussian_width, strength)\n",
    "\n",
    "# Create the spectrum plot\n",
    "plt.figure(figsize=(10, 6))\n",
    "plt.plot(spectrum_x, spectrum_y, color='blue')\n",
    "plt.title('Predicted Absorption Spectrum of Coumarin')\n",
    "plt.xlabel('Wavelength (nm)')\n",
    "plt.ylabel('Relative Intensity')\n",
    "plt.xlim(100, 800)\n",
    "plt.ylim(0, max(spectrum_y) * 1.1)\n",
    "plt.show()"
   ]
  },
  {
   "cell_type": "code",
   "execution_count": null,
   "id": "02545cf1",
   "metadata": {},
   "outputs": [],
   "source": []
  }
 ],
 "metadata": {
  "kernelspec": {
   "display_name": "Python 3 (ipykernel)",
   "language": "python",
   "name": "python3"
  },
  "language_info": {
   "codemirror_mode": {
    "name": "ipython",
    "version": 3
   },
   "file_extension": ".py",
   "mimetype": "text/x-python",
   "name": "python",
   "nbconvert_exporter": "python",
   "pygments_lexer": "ipython3",
   "version": "3.11.7"
  },
  "toc": {
   "base_numbering": "",
   "nav_menu": {},
   "number_sections": false,
   "sideBar": true,
   "skip_h1_title": false,
   "title_cell": "Table of Contents",
   "title_sidebar": "Table of Contents",
   "toc_cell": false,
   "toc_position": {
    "height": "calc(100% - 180px)",
    "left": "10px",
    "top": "150px",
    "width": "203px"
   },
   "toc_section_display": true,
   "toc_window_display": true
  }
 },
 "nbformat": 4,
 "nbformat_minor": 5
}
