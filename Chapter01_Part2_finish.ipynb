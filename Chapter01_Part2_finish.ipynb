{
 "cells": [
  {
   "cell_type": "markdown",
   "id": "ce2d6e30",
   "metadata": {},
   "source": [
    "# Chapter 1. Introduction"
   ]
  },
  {
   "cell_type": "markdown",
   "id": "0d09f3a0",
   "metadata": {},
   "source": [
    "## 1.2. Common Python Modules"
   ]
  },
  {
   "cell_type": "markdown",
   "id": "5c1bcbc6",
   "metadata": {},
   "source": [
    "In this section, we will learn the essentials of common Python modules. The following modules will be covered:\n",
    "\n",
    "1. Numpy\n",
    "2. Pandas\n",
    "3. Matplotlib"
   ]
  },
  {
   "cell_type": "markdown",
   "id": "4d478d5a",
   "metadata": {},
   "source": [
    "### 1.2.1. NumPy"
   ]
  },
  {
   "cell_type": "markdown",
   "id": "c256ede9",
   "metadata": {},
   "source": [
    "#### 1.2.1.1. Installation"
   ]
  },
  {
   "cell_type": "markdown",
   "id": "7f104a95",
   "metadata": {},
   "source": [
    "To start using NumPy, you need to install it in your Python environment. Note that the default Anaconda environment already has NumPy installed, so you don't need to do it. To install NumPy in your custom environment, run the following command:"
   ]
  },
  {
   "cell_type": "code",
   "execution_count": null,
   "id": "f78c57d4",
   "metadata": {
    "scrolled": true
   },
   "outputs": [],
   "source": [
    "!conda install numpy"
   ]
  },
  {
   "cell_type": "markdown",
   "id": "fd4bff03",
   "metadata": {},
   "source": [
    "For more information about NumPy, see [documentation](https://numpy.org/doc/)"
   ]
  },
  {
   "cell_type": "markdown",
   "id": "04290f8e",
   "metadata": {},
   "source": [
    "#### 1.2.1.2. Importing NumPy"
   ]
  },
  {
   "cell_type": "markdown",
   "id": "03a7fd39",
   "metadata": {},
   "source": [
    "To use NumPy in your Python code, you need to import the library. It's a common convention to import NumPy as `np`:"
   ]
  },
  {
   "cell_type": "code",
   "execution_count": 1,
   "id": "6902a4b4",
   "metadata": {},
   "outputs": [],
   "source": [
    "import numpy as np"
   ]
  },
  {
   "cell_type": "markdown",
   "id": "5a7f9298",
   "metadata": {},
   "source": [
    "#### 1.2.1.3. Creating NumPy Arrays"
   ]
  },
  {
   "cell_type": "markdown",
   "id": "1388ce27",
   "metadata": {},
   "source": [
    "NumPy's primary data structure is the numpy.array. You can create arrays in various ways. Here are a few examples:"
   ]
  },
  {
   "cell_type": "markdown",
   "id": "860f32ba",
   "metadata": {},
   "source": [
    "1. Creating an Array from a List"
   ]
  },
  {
   "cell_type": "code",
   "execution_count": 2,
   "id": "9d1c25ef",
   "metadata": {},
   "outputs": [],
   "source": [
    "my_list = [1, 2, 3, 4, 5]\n",
    "my_array = np.array(my_list)"
   ]
  },
  {
   "cell_type": "markdown",
   "id": "792069bb",
   "metadata": {},
   "source": [
    "2. Creating an Array of Zeros"
   ]
  },
  {
   "cell_type": "code",
   "execution_count": 3,
   "id": "29016f47",
   "metadata": {},
   "outputs": [],
   "source": [
    "zeros_array = np.zeros(5)  # Creates a 1D array with 5 zeros"
   ]
  },
  {
   "cell_type": "markdown",
   "id": "cdd18242",
   "metadata": {},
   "source": [
    "3. Creating an Array of Ones"
   ]
  },
  {
   "cell_type": "code",
   "execution_count": 4,
   "id": "a04f152b",
   "metadata": {},
   "outputs": [],
   "source": [
    "ones_array = np.ones((3, 3))  # Creates a 3x3 array of ones"
   ]
  },
  {
   "cell_type": "markdown",
   "id": "8bb5673a",
   "metadata": {},
   "source": [
    "4. Creating a Range of Values"
   ]
  },
  {
   "cell_type": "code",
   "execution_count": 5,
   "id": "24cb1f1f",
   "metadata": {},
   "outputs": [],
   "source": [
    "range_array = np.arange(0, 10, 2)  # Creates an array [0, 2, 4, 6, 8], the point '10' is not included"
   ]
  },
  {
   "cell_type": "code",
   "execution_count": 6,
   "id": "920b3984",
   "metadata": {},
   "outputs": [],
   "source": [
    "linspace_array = np.linspace(2.0, 3.0, num=5) # Creates an array [2.  , 2.25, 2.5 , 2.75, 3.  ]"
   ]
  },
  {
   "cell_type": "markdown",
   "id": "55bd8e7b",
   "metadata": {},
   "source": [
    "#### 1.2.1.4. Basic NumPy Operations"
   ]
  },
  {
   "cell_type": "markdown",
   "id": "b3a9533c",
   "metadata": {},
   "source": [
    "NumPy allows you to perform mathematical operations on arrays efficiently. Here are some examples:"
   ]
  },
  {
   "cell_type": "markdown",
   "id": "14959129",
   "metadata": {},
   "source": [
    "**Get An Element**\n",
    "\n",
    "Similar to list, you can get an element in a NumPy array using index:"
   ]
  },
  {
   "cell_type": "code",
   "execution_count": 7,
   "id": "93b5953f",
   "metadata": {},
   "outputs": [
    {
     "name": "stdout",
     "output_type": "stream",
     "text": [
      "1\n"
     ]
    }
   ],
   "source": [
    "array1 = np.array([1, 2, 3])\n",
    "element1 = array1[0]\n",
    "print(element1)"
   ]
  },
  {
   "cell_type": "markdown",
   "id": "57cdcd86",
   "metadata": {},
   "source": [
    "**Add Elements**\n",
    "\n",
    "Similar to list, you can get new elements into a NumPy array using `np.append()` or `np.concatenate()` function. For `np.concatenate()`, put all input arrays in a tuple. You need to assign to output of these functions to a new Numpy array."
   ]
  },
  {
   "cell_type": "code",
   "execution_count": 8,
   "id": "81ae9f57",
   "metadata": {},
   "outputs": [
    {
     "name": "stdout",
     "output_type": "stream",
     "text": [
      "[1 2 3]\n",
      "[ 1  2  3 10]\n"
     ]
    }
   ],
   "source": [
    "array1 = np.array([1, 2, 3])\n",
    "array2 = np.append(array1, 10)\n",
    "print(array1)\n",
    "print(array2)"
   ]
  },
  {
   "cell_type": "code",
   "execution_count": 9,
   "id": "7e947952",
   "metadata": {},
   "outputs": [
    {
     "name": "stdout",
     "output_type": "stream",
     "text": [
      "[1 2 3]\n",
      "[4 5 6]\n",
      "[1 2 3 4 5 6]\n"
     ]
    }
   ],
   "source": [
    "array1 = np.array([1, 2, 3])\n",
    "array2 = np.array([4, 5, 6])\n",
    "array3 = np.concatenate((array1, array2))\n",
    "print(array1)\n",
    "print(array2)\n",
    "print(array3)"
   ]
  },
  {
   "cell_type": "markdown",
   "id": "812df23d",
   "metadata": {},
   "source": [
    "**Slicing**\n",
    "\n",
    "Numpy slicing is a powerful and flexible way to extract and manipulate portions of a NumPy array. Slicing allows you to select a subset of elements from an array by specifying a range or a set of indices."
   ]
  },
  {
   "cell_type": "markdown",
   "id": "9f1cea97",
   "metadata": {},
   "source": [
    "***Basic Slicing:***\n",
    "\n",
    "Syntax: `array[start:stop]`\n",
    "- Returns a view of the array elements from the index start (inclusive) to the index stop (exclusive).\n",
    "- If `start` is not provided, it defaults to `0`. If `stop` is not provided, it defaults to the end of the array.\n",
    "- You can use negative indices to count from the end of the array."
   ]
  },
  {
   "cell_type": "code",
   "execution_count": 10,
   "id": "6ecf952a",
   "metadata": {},
   "outputs": [
    {
     "name": "stdout",
     "output_type": "stream",
     "text": [
      "[2 3 4]\n"
     ]
    }
   ],
   "source": [
    "arr = np.array([0, 1, 2, 3, 4, 5])\n",
    "sliced = arr[2:5]  # Slices from index 2 to 4\n",
    "print(sliced)"
   ]
  },
  {
   "cell_type": "code",
   "execution_count": 11,
   "id": "26d723cc",
   "metadata": {},
   "outputs": [
    {
     "name": "stdout",
     "output_type": "stream",
     "text": [
      "[0 1 2 3]\n"
     ]
    }
   ],
   "source": [
    "arr = np.array([0, 1, 2, 3, 4, 5])\n",
    "sliced = arr[0:-2]  # Slices from index 0 to 4 (remove the last 2 elements)\n",
    "print(sliced)"
   ]
  },
  {
   "cell_type": "markdown",
   "id": "86d358a0",
   "metadata": {},
   "source": [
    "***Step Slicing:***\n",
    "\n",
    "Syntax: `array[start:stop:step]`\n",
    "- The `step` argument allows you to skip elements while slicing.\n",
    "- If `step` is not specified, it defaults to `1`."
   ]
  },
  {
   "cell_type": "code",
   "execution_count": 12,
   "id": "cdf942f5",
   "metadata": {},
   "outputs": [
    {
     "name": "stdout",
     "output_type": "stream",
     "text": [
      "[1 3]\n"
     ]
    }
   ],
   "source": [
    "arr = np.array([0, 1, 2, 3, 4, 5])\n",
    "sliced = arr[1:5:2]  # Slices from index 1 to 4 with a step of 2\n",
    "print(sliced)"
   ]
  },
  {
   "cell_type": "markdown",
   "id": "9e684419",
   "metadata": {},
   "source": [
    "**Element-wise Operations**\n",
    "\n",
    "You can perform element-wise operations like addition, subtraction, multiplication, and division:"
   ]
  },
  {
   "cell_type": "code",
   "execution_count": 13,
   "id": "34bc0bf0",
   "metadata": {},
   "outputs": [
    {
     "name": "stdout",
     "output_type": "stream",
     "text": [
      "[5 7 9]\n",
      "[11 12 13]\n",
      "[ 4 10 18]\n",
      "[ 5 10 15]\n"
     ]
    }
   ],
   "source": [
    "array1 = np.array([1, 2, 3])\n",
    "array2 = np.array([4, 5, 6])\n",
    "\n",
    "result1 = array1 + array2  # Element-wise addition\n",
    "result2 = array1 + 10  # Element-wise addition with a scalar\n",
    "result3 = array1 * array2  # Element-wise multiplication\n",
    "result4 = array1 * 5  # Element-wise multiplication with a scalar\n",
    "print(result1)\n",
    "print(result2)\n",
    "print(result3)\n",
    "print(result4)"
   ]
  },
  {
   "cell_type": "markdown",
   "id": "1da555e5",
   "metadata": {},
   "source": [
    "**Dot Product**\n",
    "\n",
    "You can calculate the dot product of two arrays:"
   ]
  },
  {
   "cell_type": "code",
   "execution_count": 14,
   "id": "921ec975",
   "metadata": {},
   "outputs": [
    {
     "name": "stdout",
     "output_type": "stream",
     "text": [
      "32\n"
     ]
    }
   ],
   "source": [
    "dot_product = np.dot(array1, array2)\n",
    "print(dot_product)"
   ]
  },
  {
   "cell_type": "markdown",
   "id": "0d610e09",
   "metadata": {},
   "source": [
    "**Statistical Functions**\n",
    "\n",
    "NumPy provides various statistical functions, such as mean, median, and standard deviation:"
   ]
  },
  {
   "cell_type": "code",
   "execution_count": 15,
   "id": "36227621",
   "metadata": {},
   "outputs": [
    {
     "name": "stdout",
     "output_type": "stream",
     "text": [
      "5\n",
      "1\n",
      "3.0\n",
      "3.0\n",
      "1.4142135623730951\n"
     ]
    }
   ],
   "source": [
    "data = np.array([1, 2, 3, 4, 5])\n",
    "max_value = np.max(data)\n",
    "min_value = np.min(data)\n",
    "mean_value = np.mean(data)\n",
    "median_value = np.median(data)\n",
    "std_deviation = np.std(data)\n",
    "print(max_value)\n",
    "print(min_value)\n",
    "print(mean_value)\n",
    "print(median_value)\n",
    "print(std_deviation)"
   ]
  },
  {
   "cell_type": "markdown",
   "id": "9c6f6cb9",
   "metadata": {},
   "source": [
    "### 1.2.2. Pandas"
   ]
  },
  {
   "cell_type": "markdown",
   "id": "07020c3a",
   "metadata": {},
   "source": [
    "#### 1.2.2.1. Installation"
   ]
  },
  {
   "cell_type": "markdown",
   "id": "9b73adfc",
   "metadata": {},
   "source": [
    "To start using Pandas, you need to install it in your Python environment. Note that the default Anaconda environment already has Pandas installed, so you don't need to do it. To install Pandas in your custom environment, run the following command:"
   ]
  },
  {
   "cell_type": "code",
   "execution_count": null,
   "id": "c94af68e",
   "metadata": {},
   "outputs": [],
   "source": [
    "!conda install pandas"
   ]
  },
  {
   "cell_type": "markdown",
   "id": "a638ff78",
   "metadata": {},
   "source": [
    "For more information about Pandas, see [documentation](https://pandas.pydata.org/docs/)"
   ]
  },
  {
   "cell_type": "markdown",
   "id": "2da54c42",
   "metadata": {},
   "source": [
    "#### 1.2.2.2. Importing Pandas"
   ]
  },
  {
   "cell_type": "markdown",
   "id": "467d2cd4",
   "metadata": {},
   "source": [
    "To use Pandas in your Python code, you need to import the library:"
   ]
  },
  {
   "cell_type": "code",
   "execution_count": 16,
   "id": "770ccff5",
   "metadata": {},
   "outputs": [],
   "source": [
    "import pandas as pd"
   ]
  },
  {
   "cell_type": "markdown",
   "id": "915bb177",
   "metadata": {
    "scrolled": true
   },
   "source": [
    "#### 1.2.2.3. Pandas Data Structures"
   ]
  },
  {
   "cell_type": "markdown",
   "id": "6797ce66",
   "metadata": {},
   "source": [
    "Pandas provides two primary data structures: Series and DataFrame."
   ]
  },
  {
   "cell_type": "markdown",
   "id": "d02483b0",
   "metadata": {},
   "source": [
    "**Series**\n",
    "\n",
    "A Series is a one-dimensional array-like object that can hold various data types. You can think of it as a column in a spreadsheet or a single-dimensional array. Here's how you can create a Series:"
   ]
  },
  {
   "cell_type": "code",
   "execution_count": 17,
   "id": "588221a8",
   "metadata": {},
   "outputs": [
    {
     "name": "stdout",
     "output_type": "stream",
     "text": [
      "0    1\n",
      "1    3\n",
      "2    5\n",
      "3    7\n",
      "4    9\n",
      "dtype: int64\n"
     ]
    }
   ],
   "source": [
    "data = pd.Series([1, 3, 5, 7, 9])\n",
    "print(data)"
   ]
  },
  {
   "cell_type": "markdown",
   "id": "d9664d0d",
   "metadata": {},
   "source": [
    "**DataFrame**\n",
    "\n",
    "A DataFrame is a two-dimensional tabular data structure with rows and columns, similar to a spreadsheet or a SQL table. You can create a DataFrame using dictionaries, lists, or other data structures:"
   ]
  },
  {
   "cell_type": "code",
   "execution_count": 18,
   "id": "1c86ba80",
   "metadata": {},
   "outputs": [
    {
     "name": "stdout",
     "output_type": "stream",
     "text": [
      "      Name  Age\n",
      "0    Alice   25\n",
      "1      Bob   30\n",
      "2  Charlie   35\n",
      "3    David   40\n"
     ]
    }
   ],
   "source": [
    "data = {\n",
    "    'Name': ['Alice', 'Bob', 'Charlie', 'David'],\n",
    "    'Age': [25, 30, 35, 40]\n",
    "}\n",
    "\n",
    "df = pd.DataFrame(data)\n",
    "print(df)"
   ]
  },
  {
   "cell_type": "markdown",
   "id": "f0b2470d",
   "metadata": {},
   "source": [
    "#### 1.2.2.4. Reading and Writing Data"
   ]
  },
  {
   "cell_type": "markdown",
   "id": "5505ceba",
   "metadata": {},
   "source": [
    "Pandas supports various file formats for reading and writing data, including CSV, Excel, SQL, and more. Here are some examples of reading and writing data:"
   ]
  },
  {
   "cell_type": "markdown",
   "id": "6da42e79",
   "metadata": {},
   "source": [
    "**Reading Data**"
   ]
  },
  {
   "cell_type": "code",
   "execution_count": null,
   "id": "174341c2",
   "metadata": {},
   "outputs": [
    {
     "name": "stdout",
     "output_type": "stream",
     "text": [
      "   Sepal length  Sepal width  Petal length  Petal width    Species\n",
      "0           5.1          3.5           1.4          0.2  I. setosa\n",
      "1           4.9          3.0           1.4          0.2  I. setosa\n",
      "2           4.7          3.2           1.3          0.2  I. setosa\n",
      "3           4.6          3.1           1.5          0.2  I. setosa\n",
      "4           5.0          3.6           1.4          0.3  I. setosa\n"
     ]
    }
   ],
   "source": [
    "# Read data from a CSV file\n",
    "df = pd.read_csv('./datasets/IrisFlower.csv')\n",
    "print(df.head()) # Show the top 5 rows"
   ]
  },
  {
   "cell_type": "code",
   "execution_count": null,
   "id": "b12fba0f",
   "metadata": {},
   "outputs": [
    {
     "name": "stdout",
     "output_type": "stream",
     "text": [
      "   Sepal length  Sepal width  Petal length  Petal width    Species\n",
      "0           5.1          3.5           1.4          0.2  I. setosa\n",
      "1           4.9          3.0           1.4          0.2  I. setosa\n",
      "2           4.7          3.2           1.3          0.2  I. setosa\n",
      "3           4.6          3.1           1.5          0.2  I. setosa\n",
      "4           5.0          3.6           1.4          0.3  I. setosa\n",
      "5           5.4          3.9           1.7          0.4  I. setosa\n",
      "6           4.6          3.4           1.4          0.3  I. setosa\n",
      "7           5.0          3.4           1.5          0.2  I. setosa\n",
      "8           4.4          2.9           1.4          0.2  I. setosa\n",
      "9           4.9          3.1           1.5          0.1  I. setosa\n"
     ]
    }
   ],
   "source": [
    "# Read data from an Excel file\n",
    "df = pd.read_excel('./datasets/IrisFlower.xlsx')\n",
    "print(df.head(10)) # Show the top 10 rows"
   ]
  },
  {
   "cell_type": "markdown",
   "id": "4c6aef0a",
   "metadata": {},
   "source": [
    "**Writing Data**"
   ]
  },
  {
   "cell_type": "code",
   "execution_count": 21,
   "id": "60b8021a",
   "metadata": {},
   "outputs": [],
   "source": [
    "# Write data to a CSV file\n",
    "df.to_csv('output.csv', index=False)"
   ]
  },
  {
   "cell_type": "code",
   "execution_count": 22,
   "id": "6002d1be",
   "metadata": {},
   "outputs": [],
   "source": [
    "# Write data to an Excel file\n",
    "df.to_excel('output.xlsx', index=False)"
   ]
  },
  {
   "cell_type": "markdown",
   "id": "c5bdb6b0",
   "metadata": {},
   "source": [
    "#### 1.2.2.5. Basic Data Manipulation"
   ]
  },
  {
   "cell_type": "markdown",
   "id": "a3fa6f14",
   "metadata": {},
   "source": [
    "Pandas allows you to perform various data manipulation tasks, such as filtering, sorting, and aggregating data."
   ]
  },
  {
   "cell_type": "markdown",
   "id": "e6fe2309",
   "metadata": {},
   "source": [
    "**Filtering Data**\n",
    "\n",
    "You can filter data based on specific conditions:"
   ]
  },
  {
   "cell_type": "code",
   "execution_count": 23,
   "id": "27a30510",
   "metadata": {},
   "outputs": [
    {
     "name": "stdout",
     "output_type": "stream",
     "text": [
      "    Sepal length  Sepal width  Petal length  Petal width    Species\n",
      "0            5.1          3.5           1.4          0.2  I. setosa\n",
      "5            5.4          3.9           1.7          0.4  I. setosa\n",
      "10           5.4          3.7           1.5          0.2  I. setosa\n",
      "14           5.8          4.0           1.2          0.2  I. setosa\n",
      "15           5.7          4.4           1.5          0.4  I. setosa\n"
     ]
    }
   ],
   "source": [
    "filtered_df = df[df['Sepal length'] > 5.0]\n",
    "print(filtered_df.head())"
   ]
  },
  {
   "cell_type": "markdown",
   "id": "6f327dff",
   "metadata": {},
   "source": [
    "**Sorting Data**\n",
    "\n",
    "You can sort data by one or more columns:"
   ]
  },
  {
   "cell_type": "code",
   "execution_count": 24,
   "id": "caf4a9db",
   "metadata": {},
   "outputs": [
    {
     "name": "stdout",
     "output_type": "stream",
     "text": [
      "    Sepal length  Sepal width  Petal length  Petal width    Species\n",
      "13           4.3          3.0           1.1          0.1  I. setosa\n",
      "42           4.4          3.2           1.3          0.2  I. setosa\n",
      "38           4.4          3.0           1.3          0.2  I. setosa\n",
      "8            4.4          2.9           1.4          0.2  I. setosa\n",
      "41           4.5          2.3           1.3          0.3  I. setosa\n"
     ]
    }
   ],
   "source": [
    "sorted_df = df.sort_values(by='Sepal length')\n",
    "print(sorted_df.head())"
   ]
  },
  {
   "cell_type": "markdown",
   "id": "82c29eef",
   "metadata": {},
   "source": [
    "**Aggregating Data**\n",
    "\n",
    "You can perform operations like sum, mean, and count on specific columns:"
   ]
  },
  {
   "cell_type": "code",
   "execution_count": 25,
   "id": "7e1b0756",
   "metadata": {},
   "outputs": [
    {
     "name": "stdout",
     "output_type": "stream",
     "text": [
      "3.0573333333333337\n"
     ]
    }
   ],
   "source": [
    "# Mean sepal width\n",
    "mean_sepal_width = df['Sepal width'].mean()\n",
    "print(mean_sepal_width)"
   ]
  },
  {
   "cell_type": "code",
   "execution_count": 26,
   "id": "177093b0",
   "metadata": {},
   "outputs": [
    {
     "name": "stdout",
     "output_type": "stream",
     "text": [
      "3\n"
     ]
    }
   ],
   "source": [
    "# Number of species\n",
    "num_species = df['Species'].nunique()\n",
    "print(num_species)"
   ]
  },
  {
   "cell_type": "markdown",
   "id": "aa42bc7a",
   "metadata": {},
   "source": [
    "### 1.2.3. Matplotlib and Seaborn"
   ]
  },
  {
   "cell_type": "markdown",
   "id": "01fe0c6a",
   "metadata": {},
   "source": [
    "#### 1.2.3.1. Installation"
   ]
  },
  {
   "cell_type": "markdown",
   "id": "49c9c1be",
   "metadata": {},
   "source": [
    "To use Matplotlib and Seaborn, you need to install them in your Python environment. You can do this with Anaconda by running the following commands:"
   ]
  },
  {
   "cell_type": "code",
   "execution_count": null,
   "id": "e134dc2f",
   "metadata": {},
   "outputs": [],
   "source": [
    "!conda install matplotlib"
   ]
  },
  {
   "cell_type": "code",
   "execution_count": null,
   "id": "391faa29",
   "metadata": {},
   "outputs": [],
   "source": [
    "!conda install seaborn"
   ]
  },
  {
   "cell_type": "markdown",
   "id": "671d848c",
   "metadata": {},
   "source": [
    "[Matplotlib documentation](https://matplotlib.org/stable/index.html)"
   ]
  },
  {
   "cell_type": "markdown",
   "id": "c8fbaefc",
   "metadata": {},
   "source": [
    "[Seaborn documentation](https://seaborn.pydata.org/)"
   ]
  },
  {
   "cell_type": "markdown",
   "id": "1e0d668f",
   "metadata": {},
   "source": [
    "#### 1.2.3.2. Importing Matplotlib and Seaborn"
   ]
  },
  {
   "cell_type": "markdown",
   "id": "8e253ae2",
   "metadata": {},
   "source": [
    "To use Matplotlib and Seaborn in your Python code, you need to import the libraries:"
   ]
  },
  {
   "cell_type": "code",
   "execution_count": 27,
   "id": "84947816",
   "metadata": {},
   "outputs": [],
   "source": [
    "import matplotlib.pyplot as plt\n",
    "import seaborn as sns"
   ]
  },
  {
   "cell_type": "markdown",
   "id": "d64eaba3",
   "metadata": {},
   "source": [
    "#### 1.2.3.3. Matplotlib"
   ]
  },
  {
   "cell_type": "markdown",
   "id": "1347dcb9",
   "metadata": {},
   "source": [
    "Matplotlib is a versatile library that provides a wide range of options for creating static, animated, or interactive visualizations. It's well-suited for creating various types of plots, including line plots, bar plots, scatter plots, and more."
   ]
  },
  {
   "cell_type": "markdown",
   "id": "feccf86f",
   "metadata": {},
   "source": [
    "**Example: Line Plot**\n",
    "\n",
    "Let's create a simple line plot to visualize a set of data points:"
   ]
  },
  {
   "cell_type": "code",
   "execution_count": 28,
   "id": "f459be3d",
   "metadata": {},
   "outputs": [
    {
     "data": {
      "image/png": "[encoded data removed]",
      "text/plain": [
       "<Figure size 640x480 with 1 Axes>"
      ]
     },
     "metadata": {},
     "output_type": "display_data"
    }
   ],
   "source": [
    "x = [1, 2, 3, 4, 5]\n",
    "y = [2, 4, 6, 8, 10]\n",
    "\n",
    "plt.plot(x, y)\n",
    "plt.title(\"Simple Line Plot\")\n",
    "plt.xlabel(\"X-axis\")\n",
    "plt.ylabel(\"Y-axis\")\n",
    "plt.show()"
   ]
  },
  {
   "cell_type": "markdown",
   "id": "569525d3",
   "metadata": {},
   "source": [
    "#### 1.2.3.4. Seaborn"
   ]
  },
  {
   "cell_type": "markdown",
   "id": "bdce18de",
   "metadata": {},
   "source": [
    "Seaborn is built on top of Matplotlib and provides a high-level interface for creating attractive and informative statistical graphics. It simplifies many common tasks and offers various built-in themes and color palettes."
   ]
  },
  {
   "cell_type": "markdown",
   "id": "ba26eef9",
   "metadata": {},
   "source": [
    "**Example: Scatter Plot**\n",
    "\n",
    "Let's create a scatter plot using Seaborn to visualize the relationship between two variables:"
   ]
  },
  {
   "cell_type": "code",
   "execution_count": 29,
   "id": "2af4afbd",
   "metadata": {
    "scrolled": true
   },
   "outputs": [
    {
     "data": {
      "image/png": "[encoded data removed]",
      "text/plain": [
       "<Figure size 640x480 with 1 Axes>"
      ]
     },
     "metadata": {},
     "output_type": "display_data"
    }
   ],
   "source": [
    "# Load a sample dataset\n",
    "data = pd.read_csv('.\\datasets\\IrisFlower.csv')\n",
    "\n",
    "# Create a scatter plot\n",
    "sns.scatterplot(data=data, x='Sepal length', y='Sepal width')\n",
    "plt.title(\"Scatter Plot\")\n",
    "plt.show()"
   ]
  },
  {
   "cell_type": "markdown",
   "id": "2fa2494b",
   "metadata": {},
   "source": [
    "Both Matplotlib and Seaborn allow you to customize your plots extensively. You can modify colors, labels, titles, legends, and more to make your visualizations informative and visually appealing."
   ]
  }
 ],
 "metadata": {
  "kernelspec": {
   "display_name": "Python 3 (ipykernel)",
   "language": "python",
   "name": "python3"
  },
  "language_info": {
   "codemirror_mode": {
    "name": "ipython",
    "version": 3
   },
   "file_extension": ".py",
   "mimetype": "text/x-python",
   "name": "python",
   "nbconvert_exporter": "python",
   "pygments_lexer": "ipython3",
   "version": "3.10.11"
  },
  "toc": {
   "base_numbering": "",
   "nav_menu": {},
   "number_sections": false,
   "sideBar": true,
   "skip_h1_title": false,
   "title_cell": "Table of Contents",
   "title_sidebar": "Table of Contents",
   "toc_cell": false,
   "toc_position": {
    "height": "calc(100% - 180px)",
    "left": "10px",
    "top": "150px",
    "width": "244.333px"
   },
   "toc_section_display": true,
   "toc_window_display": true
  }
 },
 "nbformat": 4,
 "nbformat_minor": 5
}
