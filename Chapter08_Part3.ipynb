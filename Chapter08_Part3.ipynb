{
 "cells": [
  {
   "cell_type": "markdown",
   "id": "ce2d6e30",
   "metadata": {},
   "source": [
    "# Chapter 8: Calculation of Molecular Properties"
   ]
  },
  {
   "cell_type": "markdown",
   "id": "295a0f8f",
   "metadata": {},
   "source": [
    "## 8.3. Molecular Orbital Analysis"
   ]
  },
  {
   "cell_type": "markdown",
   "id": "7a326b8f",
   "metadata": {},
   "source": [
    "In the following section, we will calculate and visualize the molecule orbitals of 1,3-butadiene and 1,3,5-hexatriene:"
   ]
  },
  {
   "cell_type": "markdown",
   "id": "208dff3b",
   "metadata": {},
   "source": [
    "### 8.3.1. Calculation of Molecular Orbital Energies"
   ]
  },
  {
   "cell_type": "code",
   "execution_count": null,
   "id": "7dc680d6",
   "metadata": {
    "tags": []
   },
   "outputs": [],
   "source": [
    "# Import modules\n",
    "import numpy as np\n",
    "import matplotlib.pyplot as plt\n",
    "from rdkit import Chem\n",
    "from rdkit.Chem import AllChem\n",
    "from utils import View3DModel\n",
    "import psi4\n",
    "import py3Dmol"
   ]
  },
  {
   "cell_type": "code",
   "execution_count": null,
   "id": "5cfdb69a",
   "metadata": {
    "tags": []
   },
   "outputs": [],
   "source": [
    "# Create a molecule of 1,3-butadiene\n",
    "butadiene_mol = Chem.MolFromSmiles('C=CC=C')\n",
    "\n",
    "# Create a molecule of 1,3,5-hexatriene\n",
    "hexatriene_mol = Chem.MolFromSmiles('C=C\\C=C\\C=C')\n",
    "\n",
    "# Prepare the molecules\n",
    "butadiene_mol = Chem.AddHs(butadiene_mol)\n",
    "AllChem.EmbedMolecule(butadiene_mol, useRandomCoords=True)\n",
    "AllChem.UFFOptimizeMolecule(butadiene_mol, maxIters=200)\n",
    "\n",
    "hexatriene_mol = Chem.AddHs(hexatriene_mol)\n",
    "AllChem.EmbedMolecule(hexatriene_mol, useRandomCoords=True)\n",
    "AllChem.UFFOptimizeMolecule(hexatriene_mol, maxIters=200)"
   ]
  },
  {
   "cell_type": "code",
   "execution_count": null,
   "id": "86278bdf",
   "metadata": {
    "scrolled": true,
    "tags": []
   },
   "outputs": [],
   "source": [
    "# View 3D model of 1,3-butadiene\n",
    "View3DModel(butadiene_mol)"
   ]
  },
  {
   "cell_type": "code",
   "execution_count": null,
   "id": "5052b50c",
   "metadata": {
    "tags": []
   },
   "outputs": [],
   "source": [
    "# View 3D model of 1,3,5-hexatriene\n",
    "View3DModel(hexatriene_mol)"
   ]
  },
  {
   "cell_type": "code",
   "execution_count": null,
   "id": "a77aa320",
   "metadata": {
    "tags": []
   },
   "outputs": [],
   "source": [
    "# Set the number of threads and memory limit\n",
    "psi4.set_num_threads(16)\n",
    "psi4.set_memory(16*1024*1024*1024) # 16 GB"
   ]
  },
  {
   "cell_type": "code",
   "execution_count": null,
   "id": "758d2000",
   "metadata": {
    "tags": []
   },
   "outputs": [],
   "source": [
    "# Set calculation options\n",
    "psi4.set_options({\n",
    "    'BASIS': '6-31G*',\n",
    "    'SCF_TYPE': 'DF',\n",
    "    'REFERENCE': 'RHF'\n",
    "})"
   ]
  },
  {
   "cell_type": "code",
   "execution_count": null,
   "id": "4e137353",
   "metadata": {
    "tags": []
   },
   "outputs": [],
   "source": [
    "# Calculate MO energies of 1,3-butadiene\n",
    "\n",
    "# Write the geometry to XYZ string\n",
    "xyz_string = Chem.MolToXYZBlock(butadiene_mol)\n",
    "\n",
    "# Get the psi4 geometry\n",
    "geometry = psi4.geometry(xyz_string)\n",
    "\n",
    "\n",
    "# Calculate the single point energy\n",
    "butadiene_energy, butadiene_wfn = psi4.energy('b3lyp', molecule=geometry, return_wfn=True)\n",
    "\n",
    "# Extract orbital energies\n",
    "butadiene_MO_energies = butadiene_wfn.epsilon_a().to_array() * psi4.constants.hartree2kcalmol"
   ]
  },
  {
   "cell_type": "code",
   "execution_count": null,
   "id": "df7ab3f0",
   "metadata": {
    "scrolled": true,
    "tags": []
   },
   "outputs": [],
   "source": [
    "# Print out the MO energies of 1,3-butadiene\n",
    "print(\"Molecular orbital energies (in kcal/mol) of 1,3-butadiene:\")\n",
    "for i, energy in enumerate(butadiene_MO_energies):\n",
    "    print(f\"MO {i+1}: {energy:.6f} kcal/mol\")"
   ]
  },
  {
   "cell_type": "code",
   "execution_count": null,
   "id": "9e1a24ad",
   "metadata": {
    "tags": []
   },
   "outputs": [],
   "source": [
    "# Get HOMO, LUMO energies and HOMO-LUMO gap of 1,3-butadiene\n",
    "butadiene_HOMO_energy = butadiene_MO_energies[butadiene_wfn.nalpha() - 1]\n",
    "butadiene_LUMO_energy = butadiene_MO_energies[butadiene_wfn.nalpha()]\n",
    "butadiene_HOMO_LUMO_gap = butadiene_LUMO_energy - butadiene_HOMO_energy\n",
    "\n",
    "# Print out the HOMO-LUMO gap of 1,3-butadiene\n",
    "print(f'{butadiene_HOMO_LUMO_gap} kcal/mol')"
   ]
  },
  {
   "cell_type": "code",
   "execution_count": null,
   "id": "e7b960dd",
   "metadata": {
    "tags": []
   },
   "outputs": [],
   "source": [
    "# Calculate MO energies of 1,3,5-hexatriene_mol\n",
    "\n",
    "# Write the geometry to XYZ string\n",
    "xyz_string = Chem.MolToXYZBlock(hexatriene_mol)\n",
    "\n",
    "# Get the psi4 geometry\n",
    "geometry = psi4.geometry(xyz_string)\n",
    "\n",
    "# Calculate the single point energy\n",
    "hexatriene_mol_energy, hexatriene_wfn = psi4.energy('b3lyp', molecule=geometry, return_wfn=True)\n",
    "\n",
    "# Extract orbital energies\n",
    "hexatriene_MO_energies = hexatriene_wfn.epsilon_a().to_array() * psi4.constants.hartree2kcalmol"
   ]
  },
  {
   "cell_type": "code",
   "execution_count": null,
   "id": "0f03cf4b",
   "metadata": {
    "scrolled": true,
    "tags": []
   },
   "outputs": [],
   "source": [
    "# Print out the MO energies of 1,3,5-hexatriene_mol\n",
    "print(\"Molecular orbital energies (in kcal/mol) of 1,3,5-hexatriene:\")\n",
    "for i, energy in enumerate(hexatriene_MO_energies):\n",
    "    print(f\"MO {i+1}: {energy:.6f} kcal/mol\")"
   ]
  },
  {
   "cell_type": "code",
   "execution_count": null,
   "id": "e5b9c7c7",
   "metadata": {
    "tags": []
   },
   "outputs": [],
   "source": [
    "# Get HOMO, LUMO energies and HOMO-LUMO gap of 1,3,5-hexatriene\n",
    "hexatriene_HOMO_energy = hexatriene_MO_energies[hexatriene_wfn.nalpha() - 1]\n",
    "hexatriene_LUMO_energy = hexatriene_MO_energies[hexatriene_wfn.nalpha()]\n",
    "hexatriene_HOMO_LUMO_gap = hexatriene_LUMO_energy - hexatriene_HOMO_energy\n",
    "\n",
    "# Print out the HOMO-LUMO gap of 1,3,5-hexatriene_mol\n",
    "print(f'{hexatriene_HOMO_LUMO_gap} kcal/mol')"
   ]
  },
  {
   "cell_type": "markdown",
   "id": "c776651b",
   "metadata": {},
   "source": [
    "### 8.3.2. Visualization of Molecular Orbitals"
   ]
  },
  {
   "cell_type": "markdown",
   "id": "c9aad287",
   "metadata": {},
   "source": [
    "After the energy calculation, you'll have the molecular orbital data available to be exported as cube files."
   ]
  },
  {
   "cell_type": "code",
   "execution_count": null,
   "id": "f81b1b2f",
   "metadata": {
    "tags": []
   },
   "outputs": [],
   "source": [
    "# Set options for cube file generation\n",
    "psi4.set_options({'CUBEPROP_TASKS': ['FRONTIER_ORBITALS'], # this will generate HOMO and LUMO cube files. The default is 'orbitals', which will generate cube files for all MOs.\n",
    "                  'CUBIC_GRID_SPACING': [0.1, 0.1, 0.1],\n",
    "                  'CUBEPROP_FILEPATH': './'})\n",
    "\n",
    "# Generate the cube file\n",
    "psi4.cubeprop(butadiene_wfn)"
   ]
  },
  {
   "cell_type": "code",
   "execution_count": null,
   "id": "29d2cbe0",
   "metadata": {},
   "outputs": [],
   "source": []
  }
 ],
 "metadata": {
  "kernelspec": {
   "display_name": "Python 3 (ipykernel)",
   "language": "python",
   "name": "python3"
  },
  "language_info": {
   "codemirror_mode": {
    "name": "ipython",
    "version": 3
   },
   "file_extension": ".py",
   "mimetype": "text/x-python",
   "name": "python",
   "nbconvert_exporter": "python",
   "pygments_lexer": "ipython3",
   "version": "3.11.7"
  },
  "toc": {
   "base_numbering": "",
   "nav_menu": {},
   "number_sections": false,
   "sideBar": true,
   "skip_h1_title": false,
   "title_cell": "Table of Contents",
   "title_sidebar": "Table of Contents",
   "toc_cell": false,
   "toc_position": {
    "height": "calc(100% - 180px)",
    "left": "10px",
    "top": "150px",
    "width": "203px"
   },
   "toc_section_display": true,
   "toc_window_display": true
  }
 },
 "nbformat": 4,
 "nbformat_minor": 5
}
