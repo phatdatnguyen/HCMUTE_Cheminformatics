{
 "cells": [
  {
   "cell_type": "markdown",
   "id": "ce2d6e30",
   "metadata": {},
   "source": [
    "# Chapter 8: Calculation of Molecular Properties"
   ]
  },
  {
   "cell_type": "markdown",
   "id": "295a0f8f",
   "metadata": {},
   "source": [
    "## 8.5. Vibrational Frequency Analysis"
   ]
  },
  {
   "cell_type": "markdown",
   "id": "bada76cf",
   "metadata": {},
   "source": [
    "Computational methods allows the calculation the vibrational modes of a molecule. It's not only helpful in predicting IR and Raman spectra but also in confirming whether a geometry corresponds to a minimum (all positive frequencies) or a saddle point (one or more negative frequencies) on the potential energy surface."
   ]
  },
  {
   "cell_type": "markdown",
   "id": "7a326b8f",
   "metadata": {},
   "source": [
    "In the following section, we will calculate the vibrational energy of acetic acid and predict its IR spectra:"
   ]
  },
  {
   "cell_type": "markdown",
   "id": "4eb5538b",
   "metadata": {},
   "source": [
    "### 8.5.1. Vibrational Frequency Calculation"
   ]
  },
  {
   "cell_type": "code",
   "execution_count": null,
   "id": "7dc680d6",
   "metadata": {
    "tags": []
   },
   "outputs": [],
   "source": [
    "# Import modules\n",
    "import numpy as np\n",
    "import matplotlib.pyplot as plt\n",
    "from rdkit import Chem\n",
    "from rdkit.Chem import AllChem\n",
    "from utils import View3DModel\n",
    "import psi4\n",
    "import py3Dmol"
   ]
  },
  {
   "cell_type": "code",
   "execution_count": null,
   "id": "5cfdb69a",
   "metadata": {
    "tags": []
   },
   "outputs": [],
   "source": [
    "# Create a molecule of acetic acid\n",
    "mol = Chem.MolFromSmiles('CC(=O)O')\n",
    "\n",
    "# Prepare the molecule\n",
    "mol = Chem.AddHs(mol)\n",
    "AllChem.EmbedMolecule(mol, useRandomCoords=True)\n",
    "AllChem.UFFOptimizeMolecule(mol, maxIters=200)"
   ]
  },
  {
   "cell_type": "code",
   "execution_count": null,
   "id": "86278bdf",
   "metadata": {
    "tags": []
   },
   "outputs": [],
   "source": [
    "# View 3D model with py3Dmol\n",
    "View3DModel(mol)"
   ]
  },
  {
   "cell_type": "code",
   "execution_count": null,
   "id": "c00ee585",
   "metadata": {
    "tags": []
   },
   "outputs": [],
   "source": [
    "# Set the number of threads and memory limit\n",
    "psi4.set_num_threads(16)\n",
    "psi4.set_memory(16*1024*1024*1024) # 16 GB"
   ]
  },
  {
   "cell_type": "code",
   "execution_count": null,
   "id": "f7c89412",
   "metadata": {
    "tags": []
   },
   "outputs": [],
   "source": [
    "# Set calculation options\n",
    "psi4.set_options({\n",
    "    'BASIS': '6-31G*',\n",
    "    'SCF_TYPE': 'DF',\n",
    "    'REFERENCE': 'RHF'\n",
    "})"
   ]
  },
  {
   "cell_type": "code",
   "execution_count": null,
   "id": "4e137353",
   "metadata": {
    "tags": []
   },
   "outputs": [],
   "source": [
    "# Write the geometry to XYZ string\n",
    "xyz_string = Chem.MolToXYZBlock(mol)\n",
    "\n",
    "# Get the psi4 geometry\n",
    "geometry = psi4.geometry(xyz_string)\n",
    "\n",
    "# Perform geometry optimization\n",
    "psi4.optimize('b3lyp', molecule=geometry, return_wfn=True)"
   ]
  },
  {
   "cell_type": "code",
   "execution_count": null,
   "id": "b8a8c18f",
   "metadata": {
    "tags": []
   },
   "outputs": [],
   "source": [
    "# Perform frequency analysis\n",
    "energy, wfn = psi4.frequencies('b3lyp', molecule=geometry, return_wfn=True)"
   ]
  },
  {
   "cell_type": "markdown",
   "id": "0e73b028",
   "metadata": {},
   "source": [
    "### 8.5.2. Infrared (IR) Spectra Prediction"
   ]
  },
  {
   "cell_type": "markdown",
   "id": "dc29fd26",
   "metadata": {},
   "source": [
    "After frequency analysis, the vibrational frequencies and intensities can be extracted and used for predicting IR spectrum of the molecule."
   ]
  },
  {
   "cell_type": "code",
   "execution_count": null,
   "id": "18d79270",
   "metadata": {
    "tags": []
   },
   "outputs": [],
   "source": [
    "# Extract frequencies and intensities\n",
    "frequencies = wfn.frequencies().to_array()\n",
    "vib_info = wfn.frequency_analysis # This is a dictionary containing all the vibrational analysis info\n",
    "\n",
    "# IR intensities can be extracted from 'vib_info' which contains several keys including 'IR_intensity'\n",
    "ir_intensities = vib_info['IR_intensity'].data  # Make sure to extract as np.array for further use"
   ]
  },
  {
   "cell_type": "code",
   "execution_count": null,
   "id": "df7ab3f0",
   "metadata": {
    "tags": []
   },
   "outputs": [],
   "source": [
    "# Define wavenumber range\n",
    "wavenumbers = np.linspace(min(frequencies) - 100, max(frequencies) + 100, 2000)\n",
    "\n",
    "# Lorentzian function to simulate peak shapes\n",
    "def lorentzian(wavenumber, position, intensity, width=10):\n",
    "    return intensity * (width ** 2) / ((wavenumber - position) ** 2 + width ** 2)\n",
    "\n",
    "# Simulate the spectrum\n",
    "spectrum = np.zeros_like(wavenumbers)\n",
    "for freq, intensity in zip(frequencies, ir_intensities):\n",
    "    spectrum += lorentzian(wavenumbers, freq, intensity)\n",
    "    \n",
    "# Plot the artificial IR spectrum\n",
    "plt.plot(wavenumbers, spectrum, 'k')\n",
    "plt.gca().invert_xaxis() # Invert the x-axis\n",
    "plt.gca().invert_yaxis() # Invert the y-axis\n",
    "plt.xlabel('Wavenumber ($cm^{-1}$)')\n",
    "plt.ylabel('Transmittance')\n",
    "plt.title('Artificial IR Spectrum of Acetic Acid')\n",
    "plt.show()"
   ]
  },
  {
   "cell_type": "markdown",
   "id": "14225220",
   "metadata": {},
   "source": [
    "### 8.5.3. Calculation of Thermodynamic Properties"
   ]
  },
  {
   "cell_type": "markdown",
   "id": "29260e54",
   "metadata": {},
   "source": [
    "Within the context of computational chemistry and using software like Psi4, you can calculate thermodynamic properties such as the Gibbs free energy $G$, enthalpy $H$, and entropy $S$ for a molecule at a given temperature."
   ]
  },
  {
   "cell_type": "markdown",
   "id": "758448fd",
   "metadata": {},
   "source": [
    "In the following section, we will calculate the thermodynamic properties of toluene at 300 K."
   ]
  },
  {
   "cell_type": "code",
   "execution_count": null,
   "id": "7c87669e",
   "metadata": {
    "tags": []
   },
   "outputs": [],
   "source": [
    "# Import modules\n",
    "import numpy as np\n",
    "import matplotlib.pyplot as plt\n",
    "from rdkit import Chem\n",
    "from rdkit.Chem import AllChem\n",
    "from utils import View3DModel\n",
    "import psi4\n",
    "import py3Dmol"
   ]
  },
  {
   "cell_type": "code",
   "execution_count": null,
   "id": "45cc12ef",
   "metadata": {
    "tags": []
   },
   "outputs": [],
   "source": [
    "# Define the molecule\n",
    "acetic_acid_smiles = 'c1ccccc1C'\n",
    "mol = Chem.MolFromSmiles(acetic_acid_smiles)\n",
    "mol = Chem.AddHs(mol)\n",
    "AllChem.EmbedMolecule(mol, useRandomCoords=True)\n",
    "AllChem.UFFOptimizeMolecule(mol, maxIters=200)"
   ]
  },
  {
   "cell_type": "code",
   "execution_count": null,
   "id": "3cf85740",
   "metadata": {
    "tags": []
   },
   "outputs": [],
   "source": [
    "# View 3D model with py3Dmol\n",
    "View3DModel(mol)"
   ]
  },
  {
   "cell_type": "code",
   "execution_count": null,
   "id": "8cc21656",
   "metadata": {
    "tags": []
   },
   "outputs": [],
   "source": [
    "# Set the number of threads and memory limit\n",
    "psi4.set_num_threads(16)\n",
    "psi4.set_memory(16*1024*1024*1024) # 16 GB"
   ]
  },
  {
   "cell_type": "code",
   "execution_count": null,
   "id": "6c2ea375",
   "metadata": {
    "tags": []
   },
   "outputs": [],
   "source": [
    "# Set calculation options\n",
    "temperature = 300 # K\n",
    "pressure = 101325 # Pa (1 atm)\n",
    "psi4.set_options({\n",
    "    'BASIS': '6-31G*',\n",
    "    'SCF_TYPE': 'DF',\n",
    "    'REFERENCE': 'RHF',\n",
    "    'T': temperature,\n",
    "    'P': pressure\n",
    "})"
   ]
  },
  {
   "cell_type": "code",
   "execution_count": null,
   "id": "63981780",
   "metadata": {
    "scrolled": true,
    "tags": []
   },
   "outputs": [],
   "source": [
    "# Write the geometry to XYZ string\n",
    "xyz_string = Chem.MolToXYZBlock(mol)\n",
    "\n",
    "# Get the psi4 geometry\n",
    "geometry = psi4.geometry(xyz_string)\n",
    "\n",
    "# Perform geometry optimization\n",
    "psi4.optimize('b3lyp', molecule=geometry, return_wfn=True)"
   ]
  },
  {
   "cell_type": "code",
   "execution_count": null,
   "id": "9ee7e318",
   "metadata": {
    "tags": []
   },
   "outputs": [],
   "source": [
    "# Perform frequency analysis\n",
    "frequency_results = psi4.frequencies('b3lyp', molecule=geometry, return_wfn=True)"
   ]
  },
  {
   "cell_type": "code",
   "execution_count": null,
   "id": "a96a1ed9",
   "metadata": {
    "scrolled": true,
    "tags": []
   },
   "outputs": [],
   "source": [
    "# Extract thermodynamic parameters\n",
    "E_h = psi4.core.variable('DFT TOTAL ENERGY') * psi4.constants.hartree2kcalmol # Use 'HF TOTAL ENERGY' or 'SCF TOTAL ENERGY' if you are running HF or SCF calculation\n",
    "zpve = psi4.core.variable('ZPVE') * psi4.constants.hartree2kcalmol # At 0K\n",
    "e_thermo_corr = psi4.core.variable('THERMAL ENERGY CORRECTION') * psi4.constants.hartree2kcalmol\n",
    "e_thermo = psi4.core.variable('THERMAL ENERGY') * psi4.constants.hartree2kcalmol # Equal to E_h + e_thermo_corr\n",
    "h_corr = psi4.core.variable('ENTHALPY CORRECTION') * psi4.constants.hartree2kcalmol\n",
    "h = psi4.core.variable('ENTHALPY') * psi4.constants.hartree2kcalmol # Equal to E_h + h_corr\n",
    "g_corr = psi4.core.variable('GIBBS FREE ENERGY CORRECTION') * psi4.constants.hartree2kcalmol\n",
    "g = psi4.core.variable('GIBBS FREE ENERGY') * psi4.constants.hartree2kcalmol # Equal to E_h + g_corr\n",
    "s = (h - g) / 300 # G = H - TS"
   ]
  },
  {
   "cell_type": "code",
   "execution_count": null,
   "id": "571dc04b",
   "metadata": {
    "tags": []
   },
   "outputs": [],
   "source": [
    "# Print out the results in kcal/mol\n",
    "print(f\"Zero-Point Vibrational Energy (ZPVE): {zpve:.2f} kcal/mol\")\n",
    "print(f\"Thermal Energy: {e_thermo:.2f} kcal/mol\")\n",
    "print(f\"Enthalpy (H): {h:.2f} kcal/mol\")\n",
    "print(f\"Entropy (S): {s:.2f} kcal/mol\")\n",
    "print(f\"Gibbs Free Energy (G): {g:.2f} kcal/mol\")"
   ]
  },
  {
   "cell_type": "code",
   "execution_count": null,
   "id": "e41a9959",
   "metadata": {},
   "outputs": [],
   "source": []
  }
 ],
 "metadata": {
  "kernelspec": {
   "display_name": "Python 3 (ipykernel)",
   "language": "python",
   "name": "python3"
  },
  "language_info": {
   "codemirror_mode": {
    "name": "ipython",
    "version": 3
   },
   "file_extension": ".py",
   "mimetype": "text/x-python",
   "name": "python",
   "nbconvert_exporter": "python",
   "pygments_lexer": "ipython3",
   "version": "3.11.7"
  },
  "toc": {
   "base_numbering": "",
   "nav_menu": {},
   "number_sections": false,
   "sideBar": true,
   "skip_h1_title": false,
   "title_cell": "Table of Contents",
   "title_sidebar": "Table of Contents",
   "toc_cell": false,
   "toc_position": {
    "height": "calc(100% - 180px)",
    "left": "10px",
    "top": "150px",
    "width": "203px"
   },
   "toc_section_display": true,
   "toc_window_display": true
  }
 },
 "nbformat": 4,
 "nbformat_minor": 5
}
