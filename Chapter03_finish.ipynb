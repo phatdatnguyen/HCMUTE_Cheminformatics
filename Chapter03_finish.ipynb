{
 "cells": [
  {
   "cell_type": "markdown",
   "id": "ce2d6e30",
   "metadata": {},
   "source": [
    "# Chapter 3. Molecular Dynamics"
   ]
  },
  {
   "cell_type": "markdown",
   "id": "520d5d2e",
   "metadata": {},
   "source": [
    "Molecular Dynamics (MD) is a powerful computational technique used in the field of computational chemistry to simulate the time evolution of a molecular system. While the previous chapter introduced the concept of Molecular Mechanics, which focuses on static energy calculations and geometry optimization, Molecular Dynamics takes a dynamic approach by simulating how molecules move and interact over time.\n",
    "\n",
    "Molecular Dynamics has a wide range of applications in chemistry, biology, and materials science. It is used to study processes such as protein folding, ligand binding, chemical reactions, and material properties. By simulating the dynamic behavior of molecules, researchers can gain valuable insights into the structure, function, and properties of complex systems."
   ]
  },
  {
   "cell_type": "markdown",
   "id": "295a0f8f",
   "metadata": {},
   "source": [
    "## 3.1. Fundamentals of Molecular Dynamics"
   ]
  },
  {
   "cell_type": "markdown",
   "id": "59d740b7",
   "metadata": {},
   "source": [
    "### 3.1.1. Newton's Equations of Motion"
   ]
  },
  {
   "cell_type": "markdown",
   "id": "bada76cf",
   "metadata": {},
   "source": [
    "MD simulations are based on Newton's equations of motion, which describe how the positions and velocities of particles change in response to forces. By numerically solving these equations, MD simulations can provide insights into the dynamics and thermodynamics of a molecular system.\n",
    "\n",
    "Newton's Second Law of Motion:\n",
    "$$F = ma = m \\frac{d^2\\mathbf{r}}{dt^2}$$\n",
    "\n",
    "Where:\n",
    "- $F$ represents the force applied to an object.\n",
    "- $m$ represents the mass of the object.\n",
    "- $\\mathbf{r}$ is the position vector of the object.\n",
    "- $\\frac{d^2\\mathbf{r}}{dt^2}$ is the second derivative of the position vector with respect to time, representing acceleration.\n",
    "\n",
    "Beside that, we know the relationship between force and potential energy:\n",
    "\\$$F = -\\nabla E_{\\text{potential}}$$\n",
    "\n",
    "Where:\n",
    "- $F$ represents the force applied to an object.\n",
    "- $\\nabla$ represents the gradient operator.\n",
    "- $E_{\\text{potential}}$ represents the potential energy of the system.\n",
    "\n",
    "If one knows the forces acting upon the body, one can find the position of the body at any moment r(t), i.e. predict its dynamics. This can be done by solving Newton’s equation of motion. It is a second order ODE that can be solved analytically for a few simple cases: constant force, harmonic oscillator, periodic force, drag force, etc. However, a more general approach is to use computers in order to solve the ODE numerically."
   ]
  },
  {
   "cell_type": "markdown",
   "id": "58df9c37",
   "metadata": {},
   "source": [
    "### 3.1.2. Kinetic Energy"
   ]
  },
  {
   "cell_type": "markdown",
   "id": "2dbc81ee",
   "metadata": {},
   "source": [
    "The kinetic energy $(E_{\\text{kinetic}}$) of a molecular system can be calculated using the velocities of the particles (atoms) within the system. The kinetic energy is a measure of the energy associated with the motion of the particles and is typically calculated as:\n",
    "\n",
    "$$E_{\\text{kinetic}} = \\sum_{i} \\frac{1}{2} m_i v_i^2$$\n",
    "\n",
    "Where:\n",
    "- $E_{\\text{kinetic}}$ is the kinetic energy of the system.\n",
    "- $i$ represents individual particles (atoms) in the system.\n",
    "- $m_i$ is the mass of particle $i$.\n",
    "- $v_i$ is the velocity of particle $i$.\n",
    "\n",
    "In molecular mechanics simulations, the kinetic energy can be calculated based on the velocities of particles. It's important to note that molecular mechanics simulations often assume that atoms have classical kinetic energy, and their velocities are determined by temperature.\n",
    "\n",
    "To obtain the kinetic energy in molecular mechanics simulations, you typically need to perform a simulation that includes a description of the velocities of the particles. The kinetic energy is then calculated based on the velocities of the atoms during the simulation.\n",
    "\n",
    "It's worth mentioning that kinetic energy is a key component of the total energy of the system, and it is often used to calculate the temperature of the system through the equipartition theorem. In molecular mechanics simulations, the kinetic energy is not explicitly minimized or optimized, as it depends on the initial velocities of the particles and the simulation conditions."
   ]
  },
  {
   "cell_type": "markdown",
   "id": "2d6e53ba",
   "metadata": {},
   "source": [
    "### 3.1.3. Simulation of Dynamics of Particles"
   ]
  },
  {
   "cell_type": "markdown",
   "id": "be689ba0",
   "metadata": {},
   "source": [
    "There are many methods for solving ordinary differential equations (ODEs). The second-order ODE is transformed into a system of two first-order ODEs as follows:\n",
    "\n",
    "$$\\frac{dr(t)}{dt} = v(t)$$\n",
    "\n",
    "$$m\\frac{dv(t)}{dt} = F(t)$$\n",
    "\n",
    "We use a finite difference approximation that leads to a simple forward Euler algorithm:\n",
    "\n",
    "$$v_{n+1} = v_n + \\frac{F_n}{m} \\cdot \\Delta t$$\n",
    "\n",
    "$$r_{n+1} = r_n + v_{n+1} \\cdot \\Delta t$$\n",
    "\n",
    "Here we discretize time $t$ with a time step $\\Delta t$, so $t_{n+1} = t_n + \\Delta t$, and $r_n = r(t_n)$, $v_n = v(t_n)$, where $n$ is the timestep number. Using this method, computing dynamics is straightforward.\n",
    "\n",
    "In Molecular Dynamics, the positions and velocities of atoms within a molecular system are updated over discrete time steps (time evolution). The simulation proceeds in small time increments, allowing us to study the behavior of molecules in a dynamic and time-dependent manner."
   ]
  },
  {
   "cell_type": "markdown",
   "id": "68576094",
   "metadata": {},
   "source": [
    "## 3.2. Ensemble Simulations"
   ]
  },
  {
   "cell_type": "markdown",
   "id": "5c1bcbc6",
   "metadata": {},
   "source": [
    "In ensemble simulations, we explore the behavior of molecular systems by simulating them under different conditions. These simulations often fall into two main categories:\n",
    "\n",
    "   **Molecular Dynamics (MD) Simulations**: MD simulations involve solving equations of motion to evolve the system over time. They provide a dynamic view of the system's behavior, tracking how it changes as a function of time.\n",
    "\n",
    "   **Monte Carlo (MC) Simulations**: In contrast to MD simulations, MC simulations focus on sampling different configurations of the system in a probabilistic manner. Rather than evolving the system over time, MC simulations make random moves to explore various states and configurations. This approach is particularly useful for systems in which changes occur less frequently or when configurational changes are of interest.\n",
    "\n",
    "While MD simulations are well-suited for studying dynamic processes, MC simulations are valuable for exploring the equilibrium properties and thermodynamics of a system. Both techniques play essential roles in understanding molecular behavior and are valuable tools in computational chemistry.\n",
    "\n",
    "MD simulations are powerful tools for sampling different conformations and properties of a molecular system. By averaging over the trajectories of multiple simulations, we can compute various thermodynamic and structural properties, such as diffusion coefficients, radial distribution functions, and thermodynamic quantities."
   ]
  },
  {
   "cell_type": "markdown",
   "id": "515b8674",
   "metadata": {},
   "source": [
    "## 3.3. Molecule Dynamics Simulation"
   ]
  },
  {
   "cell_type": "markdown",
   "id": "f88c70ff",
   "metadata": {},
   "source": [
    "In the following section, we will run molecular dynamics simulation using [openmm](https://openmm.org/). To install openmm, run the following command:"
   ]
  },
  {
   "cell_type": "code",
   "execution_count": null,
   "id": "1ec1eb5c",
   "metadata": {},
   "outputs": [],
   "source": [
    "!conda install -c conda-forge openmm"
   ]
  },
  {
   "cell_type": "markdown",
   "id": "fa9bf611",
   "metadata": {},
   "source": [
    "### 3.4.1. Gas Phase Simulation"
   ]
  },
  {
   "cell_type": "markdown",
   "id": "2fade306",
   "metadata": {},
   "source": [
    "In the following section, we will simulate the dynamics of ethane molecules in the gas phase using OpenMM. The gas phase simulation allows us to observe the behavior of individual molecules as they move and interact:"
   ]
  },
  {
   "cell_type": "code",
   "execution_count": 1,
   "id": "927b7ce6",
   "metadata": {},
   "outputs": [],
   "source": [
    "# Import modules\n",
    "import numpy as np\n",
    "from rdkit import Chem\n",
    "from rdkit.Chem import AllChem\n",
    "import openmm\n",
    "from openmm import unit, HarmonicBondForce\n",
    "from openmm.app import PDBFile, PDBReporter, StateDataReporter\n",
    "from openmm.app.element import Element\n",
    "from utils import View3DModel\n",
    "import py3Dmol"
   ]
  },
  {
   "cell_type": "code",
   "execution_count": 2,
   "id": "ec59587d-2b44-461e-ae5f-447144981cc2",
   "metadata": {},
   "outputs": [
    {
     "data": {
      "application/3dmoljs_load.v0": "<div id=\"3dmolviewer_17312245209491532\"  style=\"position: relative; width: 800px; height: 400px;\">\n        <p id=\"3dmolwarning_17312245209491532\" style=\"background-color:#ffcccc;color:black\">3Dmol.js failed to load for some reason.  Please check your browser console for error messages.<br></p>\n        </div>\n<script>\n\nvar loadScriptAsync = function(uri){\n  return new Promise((resolve, reject) => {\n    //this is to ignore the existence of requirejs amd\n    var savedexports, savedmodule;\n    if (typeof exports !== 'undefined') savedexports = exports;\n    else exports = {}\n    if (typeof module !== 'undefined') savedmodule = module;\n    else module = {}\n\n    var tag = document.createElement('script');\n    tag.src = uri;\n    tag.async = true;\n    tag.onload = () => {\n        exports = savedexports;\n        module = savedmodule;\n        resolve();\n    };\n  var firstScriptTag = document.getElementsByTagName('script')[0];\n  firstScriptTag.parentNode.insertBefore(tag, firstScriptTag);\n});\n};\n\nif(typeof $3Dmolpromise === 'undefined') {\n$3Dmolpromise = null;\n  $3Dmolpromise = loadScriptAsync('https://cdnjs.cloudflare.com/ajax/libs/3Dmol/2.4.2/3Dmol-min.js');\n}\n\nvar viewer_17312245209491532 = null;\nvar warn = document.getElementById(\"3dmolwarning_17312245209491532\");\nif(warn) {\n    warn.parentNode.removeChild(warn);\n}\n$3Dmolpromise.then(function() {\nviewer_17312245209491532 = $3Dmol.createViewer(document.getElementById(\"3dmolviewer_17312245209491532\"),{backgroundColor:\"white\"});\nviewer_17312245209491532.zoomTo();\n\tviewer_17312245209491532.addModel(\"\\n     RDKit          3D\\n\\n  8  7  0  0  0  0  0  0  0  0999 V2000\\n   -0.7594    0.0090   -0.0155 C   0  0  0  0  0  0  0  0  0  0  0  0\\n    0.7594   -0.0090    0.0155 C   0  0  0  0  0  0  0  0  0  0  0  0\\n   -1.1582   -0.1060    1.0145 H   0  0  0  0  0  0  0  0  0  0  0  0\\n   -1.1159    0.9718   -0.4383 H   0  0  0  0  0  0  0  0  0  0  0  0\\n   -1.1329   -0.8256   -0.6455 H   0  0  0  0  0  0  0  0  0  0  0  0\\n    1.1329    0.8256    0.6455 H   0  0  0  0  0  0  0  0  0  0  0  0\\n    1.1582    0.1060   -1.0145 H   0  0  0  0  0  0  0  0  0  0  0  0\\n    1.1159   -0.9718    0.4383 H   0  0  0  0  0  0  0  0  0  0  0  0\\n  1  2  1  0\\n  1  3  1  0\\n  1  4  1  0\\n  1  5  1  0\\n  2  6  1  0\\n  2  7  1  0\\n  2  8  1  0\\nM  END\\n\",\"molecule\",{\"keepH\": true});\n\tviewer_17312245209491532.setBackgroundColor(\"white\");\n\tviewer_17312245209491532.setStyle({\"stick\": {\"scale\": 0.3}, \"sphere\": {\"scale\": 0.3}});\n\tviewer_17312245209491532.zoomTo();\nviewer_17312245209491532.render();\n});\n</script>",
      "text/html": [
       "<div id=\"3dmolviewer_17312245209491532\"  style=\"position: relative; width: 800px; height: 400px;\">\n",
       "        <p id=\"3dmolwarning_17312245209491532\" style=\"background-color:#ffcccc;color:black\">3Dmol.js failed to load for some reason.  Please check your browser console for error messages.<br></p>\n",
       "        </div>\n",
       "<script>\n",
       "\n",
       "var loadScriptAsync = function(uri){\n",
       "  return new Promise((resolve, reject) => {\n",
       "    //this is to ignore the existence of requirejs amd\n",
       "    var savedexports, savedmodule;\n",
       "    if (typeof exports !== 'undefined') savedexports = exports;\n",
       "    else exports = {}\n",
       "    if (typeof module !== 'undefined') savedmodule = module;\n",
       "    else module = {}\n",
       "\n",
       "    var tag = document.createElement('script');\n",
       "    tag.src = uri;\n",
       "    tag.async = true;\n",
       "    tag.onload = () => {\n",
       "        exports = savedexports;\n",
       "        module = savedmodule;\n",
       "        resolve();\n",
       "    };\n",
       "  var firstScriptTag = document.getElementsByTagName('script')[0];\n",
       "  firstScriptTag.parentNode.insertBefore(tag, firstScriptTag);\n",
       "});\n",
       "};\n",
       "\n",
       "if(typeof $3Dmolpromise === 'undefined') {\n",
       "$3Dmolpromise = null;\n",
       "  $3Dmolpromise = loadScriptAsync('https://cdnjs.cloudflare.com/ajax/libs/3Dmol/2.4.2/3Dmol-min.js');\n",
       "}\n",
       "\n",
       "var viewer_17312245209491532 = null;\n",
       "var warn = document.getElementById(\"3dmolwarning_17312245209491532\");\n",
       "if(warn) {\n",
       "    warn.parentNode.removeChild(warn);\n",
       "}\n",
       "$3Dmolpromise.then(function() {\n",
       "viewer_17312245209491532 = $3Dmol.createViewer(document.getElementById(\"3dmolviewer_17312245209491532\"),{backgroundColor:\"white\"});\n",
       "viewer_17312245209491532.zoomTo();\n",
       "\tviewer_17312245209491532.addModel(\"\\n     RDKit          3D\\n\\n  8  7  0  0  0  0  0  0  0  0999 V2000\\n   -0.7594    0.0090   -0.0155 C   0  0  0  0  0  0  0  0  0  0  0  0\\n    0.7594   -0.0090    0.0155 C   0  0  0  0  0  0  0  0  0  0  0  0\\n   -1.1582   -0.1060    1.0145 H   0  0  0  0  0  0  0  0  0  0  0  0\\n   -1.1159    0.9718   -0.4383 H   0  0  0  0  0  0  0  0  0  0  0  0\\n   -1.1329   -0.8256   -0.6455 H   0  0  0  0  0  0  0  0  0  0  0  0\\n    1.1329    0.8256    0.6455 H   0  0  0  0  0  0  0  0  0  0  0  0\\n    1.1582    0.1060   -1.0145 H   0  0  0  0  0  0  0  0  0  0  0  0\\n    1.1159   -0.9718    0.4383 H   0  0  0  0  0  0  0  0  0  0  0  0\\n  1  2  1  0\\n  1  3  1  0\\n  1  4  1  0\\n  1  5  1  0\\n  2  6  1  0\\n  2  7  1  0\\n  2  8  1  0\\nM  END\\n\",\"molecule\",{\"keepH\": true});\n",
       "\tviewer_17312245209491532.setBackgroundColor(\"white\");\n",
       "\tviewer_17312245209491532.setStyle({\"stick\": {\"scale\": 0.3}, \"sphere\": {\"scale\": 0.3}});\n",
       "\tviewer_17312245209491532.zoomTo();\n",
       "viewer_17312245209491532.render();\n",
       "});\n",
       "</script>"
      ]
     },
     "metadata": {},
     "output_type": "display_data"
    }
   ],
   "source": [
    "# Create a molecule of ethane and optimizer its geometry\n",
    "ethane_smiles = 'CC'\n",
    "ethane_mol = Chem.MolFromSmiles(ethane_smiles)\n",
    "ethane_mol = Chem.AddHs(ethane_mol)\n",
    "AllChem.EmbedMolecule(ethane_mol)\n",
    "AllChem.UFFOptimizeMolecule(ethane_mol, maxIters=200)\n",
    "\n",
    "# View 3D model\n",
    "View3DModel(ethane_mol)"
   ]
  },
  {
   "cell_type": "code",
   "execution_count": 3,
   "id": "fe728c06-f65e-4b5e-ac41-8d18448d0fdb",
   "metadata": {},
   "outputs": [],
   "source": [
    "# Save the molecule as PDB file\n",
    "Chem.MolToPDBFile(ethane_mol, './structures/ethane.pdb')\n",
    "\n",
    "# Load PDB file\n",
    "ethane_pdbfile = PDBFile('./structures/ethane.pdb')"
   ]
  },
  {
   "cell_type": "code",
   "execution_count": 4,
   "id": "7edcecd7-0382-440a-b5fa-2bdc2f290e53",
   "metadata": {},
   "outputs": [],
   "source": [
    "# Create an OpenMM system\n",
    "system = openmm.System()\n",
    "\n",
    "# Create atoms and set their masses\n",
    "for atom in ethane_mol.GetAtoms():\n",
    "    symbol = atom.GetSymbol()\n",
    "    mass = Element.getBySymbol(symbol).mass\n",
    "    system.addParticle(mass)"
   ]
  },
  {
   "cell_type": "code",
   "execution_count": 5,
   "id": "682ba969",
   "metadata": {},
   "outputs": [],
   "source": [
    "# Define the simulation box size and set up periodic boundary conditions (PBC)\n",
    "box_size = 3.0 * unit.nanometers  # Increased box size for better simulation\n",
    "system.setDefaultPeriodicBoxVectors((box_size, 0, 0), (0, box_size, 0), (0, 0, box_size))"
   ]
  },
  {
   "cell_type": "code",
   "execution_count": 6,
   "id": "a7ecd48e-e42b-46ca-adf5-6c592f70f733",
   "metadata": {},
   "outputs": [],
   "source": [
    "# Create an OpenMM integrator\n",
    "temperature = 300 * unit.kelvin\n",
    "collision_rate = 1.0 / unit.picoseconds\n",
    "timestep = 2.0 * unit.femtoseconds\n",
    "integrator = openmm.LangevinIntegrator(temperature, collision_rate, timestep)\n",
    "\n",
    "# Create an OpenMM simulation\n",
    "simulation = openmm.app.Simulation(ethane_pdbfile.topology, system, integrator)"
   ]
  },
  {
   "cell_type": "code",
   "execution_count": 7,
   "id": "d4592083",
   "metadata": {},
   "outputs": [],
   "source": [
    "# Set positions based on the initial geometry\n",
    "positions = []\n",
    "conf = ethane_mol.GetConformer()\n",
    "for i, atom in enumerate(ethane_mol.GetAtoms()):\n",
    "    x, y, z = conf.GetAtomPosition(i)\n",
    "    positions.append((float(x), float(y), float(z)) * unit.angstroms)\n",
    "        \n",
    "simulation.context.setPositions(positions)\n",
    "simulation.context.setVelocitiesToTemperature(temperature)"
   ]
  },
  {
   "cell_type": "code",
   "execution_count": 8,
   "id": "e2817d7e",
   "metadata": {},
   "outputs": [],
   "source": [
    "# Run the MD simulation for a defined number of steps\n",
    "total_steps = 50  # Number of MD steps\n",
    "potential_energies = []\n",
    "kinetic_energies = []\n",
    "trajectory = ''\n",
    "for step_idx in range(total_steps):\n",
    "    integrator.step(1)\n",
    "    \n",
    "    state = simulation.context.getState(getPositions=True, getEnergy=True)\n",
    "    potential_energies.append(state.getPotentialEnergy().value_in_unit(state.getPotentialEnergy().unit))\n",
    "    kinetic_energies.append(state.getKineticEnergy().value_in_unit(state.getKineticEnergy().unit))\n",
    "    \n",
    "    # Save trajectory\n",
    "    positions = state.getPositions(asNumpy=True)\n",
    "    conf = ethane_mol.GetConformer()\n",
    "    for i, position in enumerate(positions):\n",
    "        position = position * 10 # nn to angstrom\n",
    "        conf.SetAtomPosition(i, position.tolist())\n",
    "    trajectory += \"MODEL     {:4d}\\n\".format(step_idx + 1)\n",
    "    trajectory += Chem.MolToPDBBlock(ethane_mol)\n",
    "    trajectory += \"ENDMDL\\n\""
   ]
  },
  {
   "cell_type": "code",
   "execution_count": 9,
   "id": "0bf3f437",
   "metadata": {},
   "outputs": [
    {
     "data": {
      "text/plain": [
       "Text(0, 0.5, 'Energy (kJ)')"
      ]
     },
     "execution_count": 9,
     "metadata": {},
     "output_type": "execute_result"
    },
    {
     "data": {
      "image/png": "[encoded data removed]",
      "text/plain": [
       "<Figure size 640x480 with 1 Axes>"
      ]
     },
     "metadata": {},
     "output_type": "display_data"
    }
   ],
   "source": [
    "# Visualize the potential and kinetic energy\n",
    "import matplotlib.pyplot as plt\n",
    "\n",
    "plt.plot(potential_energies, label='potential_energies')\n",
    "plt.plot(kinetic_energies, label='kinetic_energies')\n",
    "plt.legend()\n",
    "plt.xlabel('Step')\n",
    "plt.ylabel('Energy (kJ)')"
   ]
  },
  {
   "cell_type": "code",
   "execution_count": 10,
   "id": "03b2881e-27c7-460e-bf63-42d6eedb3d29",
   "metadata": {},
   "outputs": [
    {
     "data": {
      "application/3dmoljs_load.v0": "<div id=\"3dmolviewer_1731224527492181\"  style=\"position: relative; width: 400px; height: 300px;\">\n        <p id=\"3dmolwarning_1731224527492181\" style=\"background-color:#ffcccc;color:black\">3Dmol.js failed to load for some reason.  Please check your browser console for error messages.<br></p>\n        </div>\n<script>\n\nvar loadScriptAsync = function(uri){\n  return new Promise((resolve, reject) => {\n    //this is to ignore the existence of requirejs amd\n    var savedexports, savedmodule;\n    if (typeof exports !== 'undefined') savedexports = exports;\n    else exports = {}\n    if (typeof module !== 'undefined') savedmodule = module;\n    else module = {}\n\n    var tag = document.createElement('script');\n    tag.src = uri;\n    tag.async = true;\n    tag.onload = () => {\n        exports = savedexports;\n        module = savedmodule;\n        resolve();\n    };\n  var firstScriptTag = document.getElementsByTagName('script')[0];\n  firstScriptTag.parentNode.insertBefore(tag, firstScriptTag);\n});\n};\n\nif(typeof $3Dmolpromise === 'undefined') {\n$3Dmolpromise = null;\n  $3Dmolpromise = loadScriptAsync('https://cdnjs.cloudflare.com/ajax/libs/3Dmol/2.4.2/3Dmol-min.js');\n}\n\nvar viewer_1731224527492181 = null;\nvar warn = document.getElementById(\"3dmolwarning_1731224527492181\");\nif(warn) {\n    warn.parentNode.removeChild(warn);\n}\n$3Dmolpromise.then(function() {\nviewer_1731224527492181 = $3Dmol.createViewer(document.getElementById(\"3dmolviewer_1731224527492181\"),{backgroundColor:\"white\"});\nviewer_1731224527492181.zoomTo();\n\tviewer_1731224527492181.addModelsAsFrames(\"MODEL        1\\nHETATM    1  C1  UNL     1      -0.768   0.000  -0.024  1.00  0.00           C  \\nHETATM    2  C2  UNL     1       0.766  -0.002   0.023  1.00  0.00           C  \\nHETATM    3  H1  UNL     1      -1.216  -0.164   0.959  1.00  0.00           H  \\nHETATM    4  H2  UNL     1      -1.089   1.000  -0.408  1.00  0.00           H  \\nHETATM    5  H3  UNL     1      -1.152  -0.844  -0.665  1.00  0.00           H  \\nHETATM    6  H4  UNL     1       1.137   0.830   0.649  1.00  0.00           H  \\nHETATM    7  H5  UNL     1       1.113   0.060  -1.062  1.00  0.00           H  \\nHETATM    8  H6  UNL     1       1.148  -0.940   0.469  1.00  0.00           H  \\nCONECT    1    2    3    4    5\\nCONECT    2    6    7    8\\nEND\\nENDMDL\\nMODEL        2\\nHETATM    1  C1  UNL     1      -0.776  -0.009  -0.032  1.00  0.00           C  \\nHETATM    2  C2  UNL     1       0.773   0.004   0.031  1.00  0.00           C  \\nHETATM    3  H1  UNL     1      -1.275  -0.221   0.908  1.00  0.00           H  \\nHETATM    4  H2  UNL     1      -1.063   1.028  -0.376  1.00  0.00           H  \\nHETATM    5  H3  UNL     1      -1.170  -0.862  -0.686  1.00  0.00           H  \\nHETATM    6  H4  UNL     1       1.143   0.833   0.653  1.00  0.00           H  \\nHETATM    7  H5  UNL     1       1.068   0.013  -1.110  1.00  0.00           H  \\nHETATM    8  H6  UNL     1       1.180  -0.907   0.503  1.00  0.00           H  \\nCONECT    1    2    3    4    5\\nCONECT    2    6    7    8\\nEND\\nENDMDL\\nMODEL        3\\nHETATM    1  C1  UNL     1      -0.784  -0.019  -0.039  1.00  0.00           C  \\nHETATM    2  C2  UNL     1       0.779   0.010   0.039  1.00  0.00           C  \\nHETATM    3  H1  UNL     1      -1.336  -0.280   0.858  1.00  0.00           H  \\nHETATM    4  H2  UNL     1      -1.036   1.056  -0.343  1.00  0.00           H  \\nHETATM    5  H3  UNL     1      -1.188  -0.881  -0.707  1.00  0.00           H  \\nHETATM    6  H4  UNL     1       1.149   0.835   0.657  1.00  0.00           H  \\nHETATM    7  H5  UNL     1       1.021  -0.034  -1.158  1.00  0.00           H  \\nHETATM    8  H6  UNL     1       1.212  -0.874   0.536  1.00  0.00           H  \\nCONECT    1    2    3    4    5\\nCONECT    2    6    7    8\\nEND\\nENDMDL\\nMODEL        4\\nHETATM    1  C1  UNL     1      -0.792  -0.029  -0.046  1.00  0.00           C  \\nHETATM    2  C2  UNL     1       0.785   0.016   0.047  1.00  0.00           C  \\nHETATM    3  H1  UNL     1      -1.396  -0.340   0.808  1.00  0.00           H  \\nHETATM    4  H2  UNL     1      -1.010   1.086  -0.310  1.00  0.00           H  \\nHETATM    5  H3  UNL     1      -1.206  -0.896  -0.728  1.00  0.00           H  \\nHETATM    6  H4  UNL     1       1.152   0.836   0.662  1.00  0.00           H  \\nHETATM    7  H5  UNL     1       0.975  -0.083  -1.205  1.00  0.00           H  \\nHETATM    8  H6  UNL     1       1.244  -0.843   0.569  1.00  0.00           H  \\nCONECT    1    2    3    4    5\\nCONECT    2    6    7    8\\nEND\\nENDMDL\\nMODEL        5\\nHETATM    1  C1  UNL     1      -0.800  -0.038  -0.055  1.00  0.00           C  \\nHETATM    2  C2  UNL     1       0.791   0.020   0.056  1.00  0.00           C  \\nHETATM    3  H1  UNL     1      -1.458  -0.401   0.759  1.00  0.00           H  \\nHETATM    4  H2  UNL     1      -0.986   1.117  -0.278  1.00  0.00           H  \\nHETATM    5  H3  UNL     1      -1.224  -0.910  -0.746  1.00  0.00           H  \\nHETATM    6  H4  UNL     1       1.154   0.835   0.666  1.00  0.00           H  \\nHETATM    7  H5  UNL     1       0.929  -0.133  -1.253  1.00  0.00           H  \\nHETATM    8  H6  UNL     1       1.276  -0.815   0.601  1.00  0.00           H  \\nCONECT    1    2    3    4    5\\nCONECT    2    6    7    8\\nEND\\nENDMDL\\nMODEL        6\\nHETATM    1  C1  UNL     1      -0.808  -0.048  -0.063  1.00  0.00           C  \\nHETATM    2  C2  UNL     1       0.797   0.025   0.065  1.00  0.00           C  \\nHETATM    3  H1  UNL     1      -1.520  -0.462   0.711  1.00  0.00           H  \\nHETATM    4  H2  UNL     1      -0.963   1.150  -0.246  1.00  0.00           H  \\nHETATM    5  H3  UNL     1      -1.241  -0.924  -0.763  1.00  0.00           H  \\nHETATM    6  H4  UNL     1       1.158   0.834   0.673  1.00  0.00           H  \\nHETATM    7  H5  UNL     1       0.884  -0.185  -1.301  1.00  0.00           H  \\nHETATM    8  H6  UNL     1       1.308  -0.785   0.636  1.00  0.00           H  \\nCONECT    1    2    3    4    5\\nCONECT    2    6    7    8\\nEND\\nENDMDL\\nMODEL        7\\nHETATM    1  C1  UNL     1      -0.817  -0.058  -0.073  1.00  0.00           C  \\nHETATM    2  C2  UNL     1       0.803   0.029   0.073  1.00  0.00           C  \\nHETATM    3  H1  UNL     1      -1.581  -0.525   0.665  1.00  0.00           H  \\nHETATM    4  H2  UNL     1      -0.939   1.182  -0.214  1.00  0.00           H  \\nHETATM    5  H3  UNL     1      -1.257  -0.938  -0.782  1.00  0.00           H  \\nHETATM    6  H4  UNL     1       1.164   0.832   0.681  1.00  0.00           H  \\nHETATM    7  H5  UNL     1       0.841  -0.236  -1.350  1.00  0.00           H  \\nHETATM    8  H6  UNL     1       1.339  -0.752   0.672  1.00  0.00           H  \\nCONECT    1    2    3    4    5\\nCONECT    2    6    7    8\\nEND\\nENDMDL\\nMODEL        8\\nHETATM    1  C1  UNL     1      -0.827  -0.069  -0.083  1.00  0.00           C  \\nHETATM    2  C2  UNL     1       0.808   0.033   0.082  1.00  0.00           C  \\nHETATM    3  H1  UNL     1      -1.643  -0.586   0.619  1.00  0.00           H  \\nHETATM    4  H2  UNL     1      -0.914   1.212  -0.183  1.00  0.00           H  \\nHETATM    5  H3  UNL     1      -1.274  -0.951  -0.803  1.00  0.00           H  \\nHETATM    6  H4  UNL     1       1.170   0.828   0.690  1.00  0.00           H  \\nHETATM    7  H5  UNL     1       0.797  -0.285  -1.402  1.00  0.00           H  \\nHETATM    8  H6  UNL     1       1.368  -0.718   0.709  1.00  0.00           H  \\nCONECT    1    2    3    4    5\\nCONECT    2    6    7    8\\nEND\\nENDMDL\\nMODEL        9\\nHETATM    1  C1  UNL     1      -0.837  -0.079  -0.093  1.00  0.00           C  \\nHETATM    2  C2  UNL     1       0.814   0.037   0.092  1.00  0.00           C  \\nHETATM    3  H1  UNL     1      -1.705  -0.649   0.575  1.00  0.00           H  \\nHETATM    4  H2  UNL     1      -0.891   1.240  -0.150  1.00  0.00           H  \\nHETATM    5  H3  UNL     1      -1.293  -0.965  -0.825  1.00  0.00           H  \\nHETATM    6  H4  UNL     1       1.176   0.825   0.700  1.00  0.00           H  \\nHETATM    7  H5  UNL     1       0.754  -0.332  -1.454  1.00  0.00           H  \\nHETATM    8  H6  UNL     1       1.396  -0.685   0.747  1.00  0.00           H  \\nCONECT    1    2    3    4    5\\nCONECT    2    6    7    8\\nEND\\nENDMDL\\nMODEL       10\\nHETATM    1  C1  UNL     1      -0.847  -0.090  -0.102  1.00  0.00           C  \\nHETATM    2  C2  UNL     1       0.820   0.042   0.103  1.00  0.00           C  \\nHETATM    3  H1  UNL     1      -1.767  -0.714   0.530  1.00  0.00           H  \\nHETATM    4  H2  UNL     1      -0.870   1.265  -0.119  1.00  0.00           H  \\nHETATM    5  H3  UNL     1      -1.315  -0.979  -0.846  1.00  0.00           H  \\nHETATM    6  H4  UNL     1       1.183   0.823   0.709  1.00  0.00           H  \\nHETATM    7  H5  UNL     1       0.708  -0.381  -1.506  1.00  0.00           H  \\nHETATM    8  H6  UNL     1       1.425  -0.653   0.785  1.00  0.00           H  \\nCONECT    1    2    3    4    5\\nCONECT    2    6    7    8\\nEND\\nENDMDL\\nMODEL       11\\nHETATM    1  C1  UNL     1      -0.857  -0.100  -0.111  1.00  0.00           C  \\nHETATM    2  C2  UNL     1       0.826   0.047   0.113  1.00  0.00           C  \\nHETATM    3  H1  UNL     1      -1.827  -0.781   0.486  1.00  0.00           H  \\nHETATM    4  H2  UNL     1      -0.848   1.291  -0.088  1.00  0.00           H  \\nHETATM    5  H3  UNL     1      -1.337  -0.994  -0.865  1.00  0.00           H  \\nHETATM    6  H4  UNL     1       1.190   0.822   0.718  1.00  0.00           H  \\nHETATM    7  H5  UNL     1       0.662  -0.428  -1.561  1.00  0.00           H  \\nHETATM    8  H6  UNL     1       1.456  -0.619   0.821  1.00  0.00           H  \\nCONECT    1    2    3    4    5\\nCONECT    2    6    7    8\\nEND\\nENDMDL\\nMODEL       12\\nHETATM    1  C1  UNL     1      -0.867  -0.109  -0.119  1.00  0.00           C  \\nHETATM    2  C2  UNL     1       0.831   0.051   0.123  1.00  0.00           C  \\nHETATM    3  H1  UNL     1      -1.885  -0.849   0.440  1.00  0.00           H  \\nHETATM    4  H2  UNL     1      -0.826   1.317  -0.060  1.00  0.00           H  \\nHETATM    5  H3  UNL     1      -1.361  -1.012  -0.884  1.00  0.00           H  \\nHETATM    6  H4  UNL     1       1.198   0.821   0.724  1.00  0.00           H  \\nHETATM    7  H5  UNL     1       0.617  -0.475  -1.616  1.00  0.00           H  \\nHETATM    8  H6  UNL     1       1.485  -0.583   0.856  1.00  0.00           H  \\nCONECT    1    2    3    4    5\\nCONECT    2    6    7    8\\nEND\\nENDMDL\\nMODEL       13\\nHETATM    1  C1  UNL     1      -0.877  -0.120  -0.127  1.00  0.00           C  \\nHETATM    2  C2  UNL     1       0.837   0.056   0.134  1.00  0.00           C  \\nHETATM    3  H1  UNL     1      -1.945  -0.917   0.391  1.00  0.00           H  \\nHETATM    4  H2  UNL     1      -0.802   1.341  -0.030  1.00  0.00           H  \\nHETATM    5  H3  UNL     1      -1.388  -1.029  -0.903  1.00  0.00           H  \\nHETATM    6  H4  UNL     1       1.204   0.825   0.731  1.00  0.00           H  \\nHETATM    7  H5  UNL     1       0.571  -0.521  -1.668  1.00  0.00           H  \\nHETATM    8  H6  UNL     1       1.515  -0.546   0.889  1.00  0.00           H  \\nCONECT    1    2    3    4    5\\nCONECT    2    6    7    8\\nEND\\nENDMDL\\nMODEL       14\\nHETATM    1  C1  UNL     1      -0.888  -0.130  -0.134  1.00  0.00           C  \\nHETATM    2  C2  UNL     1       0.841   0.061   0.144  1.00  0.00           C  \\nHETATM    3  H1  UNL     1      -2.003  -0.986   0.344  1.00  0.00           H  \\nHETATM    4  H2  UNL     1      -0.776   1.364   0.000  1.00  0.00           H  \\nHETATM    5  H3  UNL     1      -1.414  -1.042  -0.924  1.00  0.00           H  \\nHETATM    6  H4  UNL     1       1.209   0.832   0.737  1.00  0.00           H  \\nHETATM    7  H5  UNL     1       0.524  -0.565  -1.718  1.00  0.00           H  \\nHETATM    8  H6  UNL     1       1.545  -0.509   0.921  1.00  0.00           H  \\nCONECT    1    2    3    4    5\\nCONECT    2    6    7    8\\nEND\\nENDMDL\\nMODEL       15\\nHETATM    1  C1  UNL     1      -0.899  -0.142  -0.142  1.00  0.00           C  \\nHETATM    2  C2  UNL     1       0.846   0.065   0.155  1.00  0.00           C  \\nHETATM    3  H1  UNL     1      -2.062  -1.054   0.295  1.00  0.00           H  \\nHETATM    4  H2  UNL     1      -0.750   1.385   0.031  1.00  0.00           H  \\nHETATM    5  H3  UNL     1      -1.440  -1.056  -0.946  1.00  0.00           H  \\nHETATM    6  H4  UNL     1       1.216   0.840   0.743  1.00  0.00           H  \\nHETATM    7  H5  UNL     1       0.475  -0.609  -1.769  1.00  0.00           H  \\nHETATM    8  H6  UNL     1       1.573  -0.470   0.951  1.00  0.00           H  \\nCONECT    1    2    3    4    5\\nCONECT    2    6    7    8\\nEND\\nENDMDL\\nMODEL       16\\nHETATM    1  C1  UNL     1      -0.909  -0.154  -0.150  1.00  0.00           C  \\nHETATM    2  C2  UNL     1       0.851   0.068   0.166  1.00  0.00           C  \\nHETATM    3  H1  UNL     1      -2.121  -1.121   0.247  1.00  0.00           H  \\nHETATM    4  H2  UNL     1      -0.726   1.404   0.063  1.00  0.00           H  \\nHETATM    5  H3  UNL     1      -1.466  -1.071  -0.971  1.00  0.00           H  \\nHETATM    6  H4  UNL     1       1.224   0.850   0.751  1.00  0.00           H  \\nHETATM    7  H5  UNL     1       0.427  -0.652  -1.820  1.00  0.00           H  \\nHETATM    8  H6  UNL     1       1.598  -0.430   0.982  1.00  0.00           H  \\nCONECT    1    2    3    4    5\\nCONECT    2    6    7    8\\nEND\\nENDMDL\\nMODEL       17\\nHETATM    1  C1  UNL     1      -0.920  -0.167  -0.157  1.00  0.00           C  \\nHETATM    2  C2  UNL     1       0.856   0.070   0.176  1.00  0.00           C  \\nHETATM    3  H1  UNL     1      -2.179  -1.187   0.200  1.00  0.00           H  \\nHETATM    4  H2  UNL     1      -0.701   1.421   0.094  1.00  0.00           H  \\nHETATM    5  H3  UNL     1      -1.491  -1.088  -0.996  1.00  0.00           H  \\nHETATM    6  H4  UNL     1       1.231   0.861   0.757  1.00  0.00           H  \\nHETATM    7  H5  UNL     1       0.379  -0.693  -1.869  1.00  0.00           H  \\nHETATM    8  H6  UNL     1       1.624  -0.390   1.014  1.00  0.00           H  \\nCONECT    1    2    3    4    5\\nCONECT    2    6    7    8\\nEND\\nENDMDL\\nMODEL       18\\nHETATM    1  C1  UNL     1      -0.931  -0.180  -0.164  1.00  0.00           C  \\nHETATM    2  C2  UNL     1       0.861   0.072   0.187  1.00  0.00           C  \\nHETATM    3  H1  UNL     1      -2.234  -1.252   0.150  1.00  0.00           H  \\nHETATM    4  H2  UNL     1      -0.675   1.436   0.124  1.00  0.00           H  \\nHETATM    5  H3  UNL     1      -1.516  -1.104  -1.020  1.00  0.00           H  \\nHETATM    6  H4  UNL     1       1.237   0.873   0.763  1.00  0.00           H  \\nHETATM    7  H5  UNL     1       0.329  -0.732  -1.918  1.00  0.00           H  \\nHETATM    8  H6  UNL     1       1.651  -0.355   1.047  1.00  0.00           H  \\nCONECT    1    2    3    4    5\\nCONECT    2    6    7    8\\nEND\\nENDMDL\\nMODEL       19\\nHETATM    1  C1  UNL     1      -0.941  -0.193  -0.171  1.00  0.00           C  \\nHETATM    2  C2  UNL     1       0.867   0.074   0.198  1.00  0.00           C  \\nHETATM    3  H1  UNL     1      -2.286  -1.316   0.097  1.00  0.00           H  \\nHETATM    4  H2  UNL     1      -0.647   1.448   0.156  1.00  0.00           H  \\nHETATM    5  H3  UNL     1      -1.542  -1.120  -1.041  1.00  0.00           H  \\nHETATM    6  H4  UNL     1       1.244   0.888   0.768  1.00  0.00           H  \\nHETATM    7  H5  UNL     1       0.278  -0.769  -1.966  1.00  0.00           H  \\nHETATM    8  H6  UNL     1       1.675  -0.320   1.080  1.00  0.00           H  \\nCONECT    1    2    3    4    5\\nCONECT    2    6    7    8\\nEND\\nENDMDL\\nMODEL       20\\nHETATM    1  C1  UNL     1      -0.951  -0.206  -0.177  1.00  0.00           C  \\nHETATM    2  C2  UNL     1       0.872   0.076   0.209  1.00  0.00           C  \\nHETATM    3  H1  UNL     1      -2.337  -1.378   0.044  1.00  0.00           H  \\nHETATM    4  H2  UNL     1      -0.618   1.458   0.190  1.00  0.00           H  \\nHETATM    5  H3  UNL     1      -1.569  -1.136  -1.060  1.00  0.00           H  \\nHETATM    6  H4  UNL     1       1.253   0.902   0.774  1.00  0.00           H  \\nHETATM    7  H5  UNL     1       0.224  -0.805  -2.014  1.00  0.00           H  \\nHETATM    8  H6  UNL     1       1.700  -0.285   1.112  1.00  0.00           H  \\nCONECT    1    2    3    4    5\\nCONECT    2    6    7    8\\nEND\\nENDMDL\\nMODEL       21\\nHETATM    1  C1  UNL     1      -0.960  -0.220  -0.183  1.00  0.00           C  \\nHETATM    2  C2  UNL     1       0.877   0.079   0.221  1.00  0.00           C  \\nHETATM    3  H1  UNL     1      -2.388  -1.439  -0.009  1.00  0.00           H  \\nHETATM    4  H2  UNL     1      -0.590   1.468   0.225  1.00  0.00           H  \\nHETATM    5  H3  UNL     1      -1.597  -1.152  -1.081  1.00  0.00           H  \\nHETATM    6  H4  UNL     1       1.261   0.913   0.779  1.00  0.00           H  \\nHETATM    7  H5  UNL     1       0.169  -0.841  -2.061  1.00  0.00           H  \\nHETATM    8  H6  UNL     1       1.726  -0.248   1.142  1.00  0.00           H  \\nCONECT    1    2    3    4    5\\nCONECT    2    6    7    8\\nEND\\nENDMDL\\nMODEL       22\\nHETATM    1  C1  UNL     1      -0.970  -0.233  -0.190  1.00  0.00           C  \\nHETATM    2  C2  UNL     1       0.882   0.082   0.232  1.00  0.00           C  \\nHETATM    3  H1  UNL     1      -2.439  -1.500  -0.060  1.00  0.00           H  \\nHETATM    4  H2  UNL     1      -0.563   1.479   0.263  1.00  0.00           H  \\nHETATM    5  H3  UNL     1      -1.628  -1.169  -1.103  1.00  0.00           H  \\nHETATM    6  H4  UNL     1       1.269   0.922   0.782  1.00  0.00           H  \\nHETATM    7  H5  UNL     1       0.114  -0.877  -2.108  1.00  0.00           H  \\nHETATM    8  H6  UNL     1       1.752  -0.209   1.170  1.00  0.00           H  \\nCONECT    1    2    3    4    5\\nCONECT    2    6    7    8\\nEND\\nENDMDL\\nMODEL       23\\nHETATM    1  C1  UNL     1      -0.979  -0.246  -0.197  1.00  0.00           C  \\nHETATM    2  C2  UNL     1       0.886   0.084   0.244  1.00  0.00           C  \\nHETATM    3  H1  UNL     1      -2.490  -1.562  -0.110  1.00  0.00           H  \\nHETATM    4  H2  UNL     1      -0.535   1.492   0.302  1.00  0.00           H  \\nHETATM    5  H3  UNL     1      -1.658  -1.184  -1.122  1.00  0.00           H  \\nHETATM    6  H4  UNL     1       1.275   0.928   0.785  1.00  0.00           H  \\nHETATM    7  H5  UNL     1       0.061  -0.915  -2.152  1.00  0.00           H  \\nHETATM    8  H6  UNL     1       1.778  -0.169   1.199  1.00  0.00           H  \\nCONECT    1    2    3    4    5\\nCONECT    2    6    7    8\\nEND\\nENDMDL\\nMODEL       24\\nHETATM    1  C1  UNL     1      -0.989  -0.259  -0.203  1.00  0.00           C  \\nHETATM    2  C2  UNL     1       0.891   0.088   0.255  1.00  0.00           C  \\nHETATM    3  H1  UNL     1      -2.540  -1.623  -0.158  1.00  0.00           H  \\nHETATM    4  H2  UNL     1      -0.505   1.505   0.341  1.00  0.00           H  \\nHETATM    5  H3  UNL     1      -1.689  -1.198  -1.142  1.00  0.00           H  \\nHETATM    6  H4  UNL     1       1.281   0.930   0.788  1.00  0.00           H  \\nHETATM    7  H5  UNL     1       0.010  -0.953  -2.195  1.00  0.00           H  \\nHETATM    8  H6  UNL     1       1.804  -0.126   1.228  1.00  0.00           H  \\nCONECT    1    2    3    4    5\\nCONECT    2    6    7    8\\nEND\\nENDMDL\\nMODEL       25\\nHETATM    1  C1  UNL     1      -0.998  -0.271  -0.210  1.00  0.00           C  \\nHETATM    2  C2  UNL     1       0.895   0.092   0.266  1.00  0.00           C  \\nHETATM    3  H1  UNL     1      -2.592  -1.685  -0.205  1.00  0.00           H  \\nHETATM    4  H2  UNL     1      -0.476   1.518   0.381  1.00  0.00           H  \\nHETATM    5  H3  UNL     1      -1.720  -1.212  -1.160  1.00  0.00           H  \\nHETATM    6  H4  UNL     1       1.289   0.932   0.792  1.00  0.00           H  \\nHETATM    7  H5  UNL     1      -0.038  -0.991  -2.237  1.00  0.00           H  \\nHETATM    8  H6  UNL     1       1.828  -0.082   1.259  1.00  0.00           H  \\nCONECT    1    2    3    4    5\\nCONECT    2    6    7    8\\nEND\\nENDMDL\\nMODEL       26\\nHETATM    1  C1  UNL     1      -1.006  -0.282  -0.218  1.00  0.00           C  \\nHETATM    2  C2  UNL     1       0.900   0.096   0.277  1.00  0.00           C  \\nHETATM    3  H1  UNL     1      -2.646  -1.748  -0.251  1.00  0.00           H  \\nHETATM    4  H2  UNL     1      -0.448   1.530   0.421  1.00  0.00           H  \\nHETATM    5  H3  UNL     1      -1.751  -1.224  -1.179  1.00  0.00           H  \\nHETATM    6  H4  UNL     1       1.298   0.932   0.796  1.00  0.00           H  \\nHETATM    7  H5  UNL     1      -0.087  -1.030  -2.279  1.00  0.00           H  \\nHETATM    8  H6  UNL     1       1.851  -0.036   1.292  1.00  0.00           H  \\nCONECT    1    2    3    4    5\\nCONECT    2    6    7    8\\nEND\\nENDMDL\\nMODEL       27\\nHETATM    1  C1  UNL     1      -1.014  -0.294  -0.227  1.00  0.00           C  \\nHETATM    2  C2  UNL     1       0.903   0.099   0.288  1.00  0.00           C  \\nHETATM    3  H1  UNL     1      -2.699  -1.811  -0.299  1.00  0.00           H  \\nHETATM    4  H2  UNL     1      -0.420   1.542   0.462  1.00  0.00           H  \\nHETATM    5  H3  UNL     1      -1.785  -1.235  -1.200  1.00  0.00           H  \\nHETATM    6  H4  UNL     1       1.308   0.930   0.801  1.00  0.00           H  \\nHETATM    7  H5  UNL     1      -0.136  -1.068  -2.321  1.00  0.00           H  \\nHETATM    8  H6  UNL     1       1.871   0.009   1.322  1.00  0.00           H  \\nCONECT    1    2    3    4    5\\nCONECT    2    6    7    8\\nEND\\nENDMDL\\nMODEL       28\\nHETATM    1  C1  UNL     1      -1.023  -0.307  -0.236  1.00  0.00           C  \\nHETATM    2  C2  UNL     1       0.906   0.104   0.298  1.00  0.00           C  \\nHETATM    3  H1  UNL     1      -2.751  -1.874  -0.348  1.00  0.00           H  \\nHETATM    4  H2  UNL     1      -0.391   1.553   0.503  1.00  0.00           H  \\nHETATM    5  H3  UNL     1      -1.819  -1.247  -1.221  1.00  0.00           H  \\nHETATM    6  H4  UNL     1       1.318   0.926   0.806  1.00  0.00           H  \\nHETATM    7  H5  UNL     1      -0.185  -1.106  -2.365  1.00  0.00           H  \\nHETATM    8  H6  UNL     1       1.890   0.052   1.351  1.00  0.00           H  \\nCONECT    1    2    3    4    5\\nCONECT    2    6    7    8\\nEND\\nENDMDL\\nMODEL       29\\nHETATM    1  C1  UNL     1      -1.031  -0.320  -0.247  1.00  0.00           C  \\nHETATM    2  C2  UNL     1       0.910   0.108   0.308  1.00  0.00           C  \\nHETATM    3  H1  UNL     1      -2.801  -1.937  -0.397  1.00  0.00           H  \\nHETATM    4  H2  UNL     1      -0.362   1.563   0.544  1.00  0.00           H  \\nHETATM    5  H3  UNL     1      -1.853  -1.259  -1.244  1.00  0.00           H  \\nHETATM    6  H4  UNL     1       1.329   0.922   0.812  1.00  0.00           H  \\nHETATM    7  H5  UNL     1      -0.233  -1.144  -2.410  1.00  0.00           H  \\nHETATM    8  H6  UNL     1       1.907   0.091   1.382  1.00  0.00           H  \\nCONECT    1    2    3    4    5\\nCONECT    2    6    7    8\\nEND\\nENDMDL\\nMODEL       30\\nHETATM    1  C1  UNL     1      -1.039  -0.334  -0.258  1.00  0.00           C  \\nHETATM    2  C2  UNL     1       0.915   0.110   0.317  1.00  0.00           C  \\nHETATM    3  H1  UNL     1      -2.851  -1.999  -0.444  1.00  0.00           H  \\nHETATM    4  H2  UNL     1      -0.333   1.574   0.587  1.00  0.00           H  \\nHETATM    5  H3  UNL     1      -1.889  -1.273  -1.267  1.00  0.00           H  \\nHETATM    6  H4  UNL     1       1.337   0.914   0.818  1.00  0.00           H  \\nHETATM    7  H5  UNL     1      -0.280  -1.183  -2.453  1.00  0.00           H  \\nHETATM    8  H6  UNL     1       1.924   0.130   1.410  1.00  0.00           H  \\nCONECT    1    2    3    4    5\\nCONECT    2    6    7    8\\nEND\\nENDMDL\\nMODEL       31\\nHETATM    1  C1  UNL     1      -1.046  -0.348  -0.268  1.00  0.00           C  \\nHETATM    2  C2  UNL     1       0.919   0.113   0.326  1.00  0.00           C  \\nHETATM    3  H1  UNL     1      -2.900  -2.059  -0.491  1.00  0.00           H  \\nHETATM    4  H2  UNL     1      -0.302   1.586   0.630  1.00  0.00           H  \\nHETATM    5  H3  UNL     1      -1.924  -1.291  -1.291  1.00  0.00           H  \\nHETATM    6  H4  UNL     1       1.344   0.904   0.824  1.00  0.00           H  \\nHETATM    7  H5  UNL     1      -0.326  -1.221  -2.497  1.00  0.00           H  \\nHETATM    8  H6  UNL     1       1.945   0.168   1.438  1.00  0.00           H  \\nCONECT    1    2    3    4    5\\nCONECT    2    6    7    8\\nEND\\nENDMDL\\nMODEL       32\\nHETATM    1  C1  UNL     1      -1.052  -0.362  -0.279  1.00  0.00           C  \\nHETATM    2  C2  UNL     1       0.923   0.117   0.334  1.00  0.00           C  \\nHETATM    3  H1  UNL     1      -2.947  -2.119  -0.536  1.00  0.00           H  \\nHETATM    4  H2  UNL     1      -0.271   1.600   0.671  1.00  0.00           H  \\nHETATM    5  H3  UNL     1      -1.959  -1.308  -1.318  1.00  0.00           H  \\nHETATM    6  H4  UNL     1       1.351   0.892   0.827  1.00  0.00           H  \\nHETATM    7  H5  UNL     1      -0.371  -1.259  -2.540  1.00  0.00           H  \\nHETATM    8  H6  UNL     1       1.969   0.204   1.466  1.00  0.00           H  \\nCONECT    1    2    3    4    5\\nCONECT    2    6    7    8\\nEND\\nENDMDL\\nMODEL       33\\nHETATM    1  C1  UNL     1      -1.058  -0.375  -0.288  1.00  0.00           C  \\nHETATM    2  C2  UNL     1       0.928   0.121   0.343  1.00  0.00           C  \\nHETATM    3  H1  UNL     1      -2.995  -2.179  -0.578  1.00  0.00           H  \\nHETATM    4  H2  UNL     1      -0.238   1.614   0.711  1.00  0.00           H  \\nHETATM    5  H3  UNL     1      -1.993  -1.325  -1.346  1.00  0.00           H  \\nHETATM    6  H4  UNL     1       1.359   0.881   0.831  1.00  0.00           H  \\nHETATM    7  H5  UNL     1      -0.415  -1.295  -2.582  1.00  0.00           H  \\nHETATM    8  H6  UNL     1       1.995   0.241   1.496  1.00  0.00           H  \\nCONECT    1    2    3    4    5\\nCONECT    2    6    7    8\\nEND\\nENDMDL\\nMODEL       34\\nHETATM    1  C1  UNL     1      -1.063  -0.389  -0.297  1.00  0.00           C  \\nHETATM    2  C2  UNL     1       0.932   0.125   0.351  1.00  0.00           C  \\nHETATM    3  H1  UNL     1      -3.043  -2.239  -0.621  1.00  0.00           H  \\nHETATM    4  H2  UNL     1      -0.205   1.627   0.754  1.00  0.00           H  \\nHETATM    5  H3  UNL     1      -2.026  -1.343  -1.375  1.00  0.00           H  \\nHETATM    6  H4  UNL     1       1.367   0.870   0.836  1.00  0.00           H  \\nHETATM    7  H5  UNL     1      -0.461  -1.330  -2.627  1.00  0.00           H  \\nHETATM    8  H6  UNL     1       2.020   0.278   1.526  1.00  0.00           H  \\nCONECT    1    2    3    4    5\\nCONECT    2    6    7    8\\nEND\\nENDMDL\\nMODEL       35\\nHETATM    1  C1  UNL     1      -1.068  -0.403  -0.306  1.00  0.00           C  \\nHETATM    2  C2  UNL     1       0.936   0.130   0.359  1.00  0.00           C  \\nHETATM    3  H1  UNL     1      -3.093  -2.297  -0.664  1.00  0.00           H  \\nHETATM    4  H2  UNL     1      -0.172   1.642   0.798  1.00  0.00           H  \\nHETATM    5  H3  UNL     1      -2.061  -1.361  -1.403  1.00  0.00           H  \\nHETATM    6  H4  UNL     1       1.373   0.859   0.842  1.00  0.00           H  \\nHETATM    7  H5  UNL     1      -0.506  -1.364  -2.671  1.00  0.00           H  \\nHETATM    8  H6  UNL     1       2.048   0.317   1.557  1.00  0.00           H  \\nCONECT    1    2    3    4    5\\nCONECT    2    6    7    8\\nEND\\nENDMDL\\nMODEL       36\\nHETATM    1  C1  UNL     1      -1.072  -0.417  -0.315  1.00  0.00           C  \\nHETATM    2  C2  UNL     1       0.941   0.134   0.367  1.00  0.00           C  \\nHETATM    3  H1  UNL     1      -3.143  -2.354  -0.706  1.00  0.00           H  \\nHETATM    4  H2  UNL     1      -0.140   1.657   0.839  1.00  0.00           H  \\nHETATM    5  H3  UNL     1      -2.094  -1.377  -1.433  1.00  0.00           H  \\nHETATM    6  H4  UNL     1       1.379   0.846   0.846  1.00  0.00           H  \\nHETATM    7  H5  UNL     1      -0.549  -1.397  -2.716  1.00  0.00           H  \\nHETATM    8  H6  UNL     1       2.077   0.357   1.590  1.00  0.00           H  \\nCONECT    1    2    3    4    5\\nCONECT    2    6    7    8\\nEND\\nENDMDL\\nMODEL       37\\nHETATM    1  C1  UNL     1      -1.076  -0.432  -0.324  1.00  0.00           C  \\nHETATM    2  C2  UNL     1       0.946   0.138   0.375  1.00  0.00           C  \\nHETATM    3  H1  UNL     1      -3.193  -2.409  -0.745  1.00  0.00           H  \\nHETATM    4  H2  UNL     1      -0.107   1.671   0.881  1.00  0.00           H  \\nHETATM    5  H3  UNL     1      -2.128  -1.392  -1.464  1.00  0.00           H  \\nHETATM    6  H4  UNL     1       1.382   0.833   0.847  1.00  0.00           H  \\nHETATM    7  H5  UNL     1      -0.591  -1.428  -2.763  1.00  0.00           H  \\nHETATM    8  H6  UNL     1       2.108   0.397   1.624  1.00  0.00           H  \\nCONECT    1    2    3    4    5\\nCONECT    2    6    7    8\\nEND\\nENDMDL\\nMODEL       38\\nHETATM    1  C1  UNL     1      -1.080  -0.446  -0.333  1.00  0.00           C  \\nHETATM    2  C2  UNL     1       0.950   0.141   0.384  1.00  0.00           C  \\nHETATM    3  H1  UNL     1      -3.241  -2.464  -0.783  1.00  0.00           H  \\nHETATM    4  H2  UNL     1      -0.074   1.685   0.927  1.00  0.00           H  \\nHETATM    5  H3  UNL     1      -2.160  -1.405  -1.493  1.00  0.00           H  \\nHETATM    6  H4  UNL     1       1.384   0.822   0.848  1.00  0.00           H  \\nHETATM    7  H5  UNL     1      -0.634  -1.458  -2.810  1.00  0.00           H  \\nHETATM    8  H6  UNL     1       2.139   0.436   1.656  1.00  0.00           H  \\nCONECT    1    2    3    4    5\\nCONECT    2    6    7    8\\nEND\\nENDMDL\\nMODEL       39\\nHETATM    1  C1  UNL     1      -1.083  -0.460  -0.341  1.00  0.00           C  \\nHETATM    2  C2  UNL     1       0.953   0.144   0.392  1.00  0.00           C  \\nHETATM    3  H1  UNL     1      -3.285  -2.520  -0.820  1.00  0.00           H  \\nHETATM    4  H2  UNL     1      -0.040   1.700   0.974  1.00  0.00           H  \\nHETATM    5  H3  UNL     1      -2.195  -1.419  -1.522  1.00  0.00           H  \\nHETATM    6  H4  UNL     1       1.385   0.810   0.851  1.00  0.00           H  \\nHETATM    7  H5  UNL     1      -0.676  -1.489  -2.857  1.00  0.00           H  \\nHETATM    8  H6  UNL     1       2.170   0.474   1.689  1.00  0.00           H  \\nCONECT    1    2    3    4    5\\nCONECT    2    6    7    8\\nEND\\nENDMDL\\nMODEL       40\\nHETATM    1  C1  UNL     1      -1.085  -0.474  -0.351  1.00  0.00           C  \\nHETATM    2  C2  UNL     1       0.958   0.148   0.400  1.00  0.00           C  \\nHETATM    3  H1  UNL     1      -3.327  -2.578  -0.857  1.00  0.00           H  \\nHETATM    4  H2  UNL     1      -0.006   1.713   1.020  1.00  0.00           H  \\nHETATM    5  H3  UNL     1      -2.229  -1.434  -1.553  1.00  0.00           H  \\nHETATM    6  H4  UNL     1       1.386   0.796   0.852  1.00  0.00           H  \\nHETATM    7  H5  UNL     1      -0.719  -1.522  -2.906  1.00  0.00           H  \\nHETATM    8  H6  UNL     1       2.200   0.512   1.724  1.00  0.00           H  \\nCONECT    1    2    3    4    5\\nCONECT    2    6    7    8\\nEND\\nENDMDL\\nMODEL       41\\nHETATM    1  C1  UNL     1      -1.088  -0.488  -0.360  1.00  0.00           C  \\nHETATM    2  C2  UNL     1       0.962   0.152   0.407  1.00  0.00           C  \\nHETATM    3  H1  UNL     1      -3.366  -2.639  -0.893  1.00  0.00           H  \\nHETATM    4  H2  UNL     1       0.027   1.726   1.063  1.00  0.00           H  \\nHETATM    5  H3  UNL     1      -2.262  -1.449  -1.583  1.00  0.00           H  \\nHETATM    6  H4  UNL     1       1.388   0.783   0.849  1.00  0.00           H  \\nHETATM    7  H5  UNL     1      -0.764  -1.558  -2.956  1.00  0.00           H  \\nHETATM    8  H6  UNL     1       2.231   0.550   1.757  1.00  0.00           H  \\nCONECT    1    2    3    4    5\\nCONECT    2    6    7    8\\nEND\\nENDMDL\\nMODEL       42\\nHETATM    1  C1  UNL     1      -1.091  -0.502  -0.368  1.00  0.00           C  \\nHETATM    2  C2  UNL     1       0.968   0.156   0.414  1.00  0.00           C  \\nHETATM    3  H1  UNL     1      -3.407  -2.699  -0.928  1.00  0.00           H  \\nHETATM    4  H2  UNL     1       0.058   1.739   1.105  1.00  0.00           H  \\nHETATM    5  H3  UNL     1      -2.295  -1.463  -1.612  1.00  0.00           H  \\nHETATM    6  H4  UNL     1       1.390   0.770   0.843  1.00  0.00           H  \\nHETATM    7  H5  UNL     1      -0.813  -1.595  -3.004  1.00  0.00           H  \\nHETATM    8  H6  UNL     1       2.260   0.588   1.789  1.00  0.00           H  \\nCONECT    1    2    3    4    5\\nCONECT    2    6    7    8\\nEND\\nENDMDL\\nMODEL       43\\nHETATM    1  C1  UNL     1      -1.094  -0.515  -0.375  1.00  0.00           C  \\nHETATM    2  C2  UNL     1       0.972   0.160   0.421  1.00  0.00           C  \\nHETATM    3  H1  UNL     1      -3.450  -2.759  -0.963  1.00  0.00           H  \\nHETATM    4  H2  UNL     1       0.090   1.753   1.147  1.00  0.00           H  \\nHETATM    5  H3  UNL     1      -2.327  -1.476  -1.641  1.00  0.00           H  \\nHETATM    6  H4  UNL     1       1.389   0.757   0.837  1.00  0.00           H  \\nHETATM    7  H5  UNL     1      -0.863  -1.629  -3.050  1.00  0.00           H  \\nHETATM    8  H6  UNL     1       2.290   0.626   1.823  1.00  0.00           H  \\nCONECT    1    2    3    4    5\\nCONECT    2    6    7    8\\nEND\\nENDMDL\\nMODEL       44\\nHETATM    1  C1  UNL     1      -1.099  -0.529  -0.382  1.00  0.00           C  \\nHETATM    2  C2  UNL     1       0.977   0.164   0.427  1.00  0.00           C  \\nHETATM    3  H1  UNL     1      -3.491  -2.816  -0.999  1.00  0.00           H  \\nHETATM    4  H2  UNL     1       0.122   1.765   1.190  1.00  0.00           H  \\nHETATM    5  H3  UNL     1      -2.356  -1.491  -1.668  1.00  0.00           H  \\nHETATM    6  H4  UNL     1       1.386   0.744   0.830  1.00  0.00           H  \\nHETATM    7  H5  UNL     1      -0.914  -1.664  -3.097  1.00  0.00           H  \\nHETATM    8  H6  UNL     1       2.321   0.661   1.855  1.00  0.00           H  \\nCONECT    1    2    3    4    5\\nCONECT    2    6    7    8\\nEND\\nENDMDL\\nMODEL       45\\nHETATM    1  C1  UNL     1      -1.103  -0.541  -0.390  1.00  0.00           C  \\nHETATM    2  C2  UNL     1       0.982   0.167   0.434  1.00  0.00           C  \\nHETATM    3  H1  UNL     1      -3.531  -2.873  -1.036  1.00  0.00           H  \\nHETATM    4  H2  UNL     1       0.154   1.774   1.236  1.00  0.00           H  \\nHETATM    5  H3  UNL     1      -2.386  -1.505  -1.694  1.00  0.00           H  \\nHETATM    6  H4  UNL     1       1.382   0.728   0.822  1.00  0.00           H  \\nHETATM    7  H5  UNL     1      -0.967  -1.698  -3.147  1.00  0.00           H  \\nHETATM    8  H6  UNL     1       2.351   0.696   1.887  1.00  0.00           H  \\nCONECT    1    2    3    4    5\\nCONECT    2    6    7    8\\nEND\\nENDMDL\\nMODEL       46\\nHETATM    1  C1  UNL     1      -1.106  -0.553  -0.399  1.00  0.00           C  \\nHETATM    2  C2  UNL     1       0.988   0.170   0.441  1.00  0.00           C  \\nHETATM    3  H1  UNL     1      -3.572  -2.929  -1.073  1.00  0.00           H  \\nHETATM    4  H2  UNL     1       0.186   1.784   1.284  1.00  0.00           H  \\nHETATM    5  H3  UNL     1      -2.414  -1.516  -1.718  1.00  0.00           H  \\nHETATM    6  H4  UNL     1       1.378   0.712   0.814  1.00  0.00           H  \\nHETATM    7  H5  UNL     1      -1.019  -1.732  -3.197  1.00  0.00           H  \\nHETATM    8  H6  UNL     1       2.380   0.731   1.921  1.00  0.00           H  \\nCONECT    1    2    3    4    5\\nCONECT    2    6    7    8\\nEND\\nENDMDL\\nMODEL       47\\nHETATM    1  C1  UNL     1      -1.109  -0.564  -0.408  1.00  0.00           C  \\nHETATM    2  C2  UNL     1       0.994   0.172   0.448  1.00  0.00           C  \\nHETATM    3  H1  UNL     1      -3.612  -2.986  -1.110  1.00  0.00           H  \\nHETATM    4  H2  UNL     1       0.219   1.795   1.333  1.00  0.00           H  \\nHETATM    5  H3  UNL     1      -2.437  -1.525  -1.743  1.00  0.00           H  \\nHETATM    6  H4  UNL     1       1.376   0.694   0.806  1.00  0.00           H  \\nHETATM    7  H5  UNL     1      -1.070  -1.768  -3.247  1.00  0.00           H  \\nHETATM    8  H6  UNL     1       2.410   0.766   1.955  1.00  0.00           H  \\nCONECT    1    2    3    4    5\\nCONECT    2    6    7    8\\nEND\\nENDMDL\\nMODEL       48\\nHETATM    1  C1  UNL     1      -1.112  -0.575  -0.417  1.00  0.00           C  \\nHETATM    2  C2  UNL     1       1.000   0.175   0.454  1.00  0.00           C  \\nHETATM    3  H1  UNL     1      -3.654  -3.042  -1.148  1.00  0.00           H  \\nHETATM    4  H2  UNL     1       0.253   1.807   1.382  1.00  0.00           H  \\nHETATM    5  H3  UNL     1      -2.460  -1.535  -1.769  1.00  0.00           H  \\nHETATM    6  H4  UNL     1       1.375   0.674   0.796  1.00  0.00           H  \\nHETATM    7  H5  UNL     1      -1.121  -1.804  -3.298  1.00  0.00           H  \\nHETATM    8  H6  UNL     1       2.439   0.800   1.988  1.00  0.00           H  \\nCONECT    1    2    3    4    5\\nCONECT    2    6    7    8\\nEND\\nENDMDL\\nMODEL       49\\nHETATM    1  C1  UNL     1      -1.115  -0.586  -0.425  1.00  0.00           C  \\nHETATM    2  C2  UNL     1       1.005   0.176   0.462  1.00  0.00           C  \\nHETATM    3  H1  UNL     1      -3.695  -3.096  -1.185  1.00  0.00           H  \\nHETATM    4  H2  UNL     1       0.288   1.820   1.430  1.00  0.00           H  \\nHETATM    5  H3  UNL     1      -2.486  -1.547  -1.798  1.00  0.00           H  \\nHETATM    6  H4  UNL     1       1.378   0.652   0.783  1.00  0.00           H  \\nHETATM    7  H5  UNL     1      -1.172  -1.841  -3.350  1.00  0.00           H  \\nHETATM    8  H6  UNL     1       2.468   0.833   2.020  1.00  0.00           H  \\nCONECT    1    2    3    4    5\\nCONECT    2    6    7    8\\nEND\\nENDMDL\\nMODEL       50\\nHETATM    1  C1  UNL     1      -1.117  -0.597  -0.435  1.00  0.00           C  \\nHETATM    2  C2  UNL     1       1.011   0.177   0.470  1.00  0.00           C  \\nHETATM    3  H1  UNL     1      -3.737  -3.150  -1.221  1.00  0.00           H  \\nHETATM    4  H2  UNL     1       0.326   1.834   1.476  1.00  0.00           H  \\nHETATM    5  H3  UNL     1      -2.513  -1.558  -1.828  1.00  0.00           H  \\nHETATM    6  H4  UNL     1       1.383   0.631   0.772  1.00  0.00           H  \\nHETATM    7  H5  UNL     1      -1.226  -1.883  -3.402  1.00  0.00           H  \\nHETATM    8  H6  UNL     1       2.497   0.866   2.052  1.00  0.00           H  \\nCONECT    1    2    3    4    5\\nCONECT    2    6    7    8\\nEND\\nENDMDL\\n\",\"trajectory\",{\"keepH\": true});\n\tviewer_1731224527492181.setBackgroundColor(\"white\");\n\tviewer_1731224527492181.setStyle({\"stick\": {\"scale\": 0.3}, \"sphere\": {\"scale\": 0.3}});\n\tviewer_1731224527492181.zoomTo();\n\tviewer_1731224527492181.animate({\"loop\": \"forward\", \"interval\": 10});\nviewer_1731224527492181.render();\n});\n</script>",
      "text/html": [
       "<div id=\"3dmolviewer_1731224527492181\"  style=\"position: relative; width: 400px; height: 300px;\">\n",
       "        <p id=\"3dmolwarning_1731224527492181\" style=\"background-color:#ffcccc;color:black\">3Dmol.js failed to load for some reason.  Please check your browser console for error messages.<br></p>\n",
       "        </div>\n",
       "<script>\n",
       "\n",
       "var loadScriptAsync = function(uri){\n",
       "  return new Promise((resolve, reject) => {\n",
       "    //this is to ignore the existence of requirejs amd\n",
       "    var savedexports, savedmodule;\n",
       "    if (typeof exports !== 'undefined') savedexports = exports;\n",
       "    else exports = {}\n",
       "    if (typeof module !== 'undefined') savedmodule = module;\n",
       "    else module = {}\n",
       "\n",
       "    var tag = document.createElement('script');\n",
       "    tag.src = uri;\n",
       "    tag.async = true;\n",
       "    tag.onload = () => {\n",
       "        exports = savedexports;\n",
       "        module = savedmodule;\n",
       "        resolve();\n",
       "    };\n",
       "  var firstScriptTag = document.getElementsByTagName('script')[0];\n",
       "  firstScriptTag.parentNode.insertBefore(tag, firstScriptTag);\n",
       "});\n",
       "};\n",
       "\n",
       "if(typeof $3Dmolpromise === 'undefined') {\n",
       "$3Dmolpromise = null;\n",
       "  $3Dmolpromise = loadScriptAsync('https://cdnjs.cloudflare.com/ajax/libs/3Dmol/2.4.2/3Dmol-min.js');\n",
       "}\n",
       "\n",
       "var viewer_1731224527492181 = null;\n",
       "var warn = document.getElementById(\"3dmolwarning_1731224527492181\");\n",
       "if(warn) {\n",
       "    warn.parentNode.removeChild(warn);\n",
       "}\n",
       "$3Dmolpromise.then(function() {\n",
       "viewer_1731224527492181 = $3Dmol.createViewer(document.getElementById(\"3dmolviewer_1731224527492181\"),{backgroundColor:\"white\"});\n",
       "viewer_1731224527492181.zoomTo();\n",
       "\tviewer_1731224527492181.addModelsAsFrames(\"MODEL        1\\nHETATM    1  C1  UNL     1      -0.768   0.000  -0.024  1.00  0.00           C  \\nHETATM    2  C2  UNL     1       0.766  -0.002   0.023  1.00  0.00           C  \\nHETATM    3  H1  UNL     1      -1.216  -0.164   0.959  1.00  0.00           H  \\nHETATM    4  H2  UNL     1      -1.089   1.000  -0.408  1.00  0.00           H  \\nHETATM    5  H3  UNL     1      -1.152  -0.844  -0.665  1.00  0.00           H  \\nHETATM    6  H4  UNL     1       1.137   0.830   0.649  1.00  0.00           H  \\nHETATM    7  H5  UNL     1       1.113   0.060  -1.062  1.00  0.00           H  \\nHETATM    8  H6  UNL     1       1.148  -0.940   0.469  1.00  0.00           H  \\nCONECT    1    2    3    4    5\\nCONECT    2    6    7    8\\nEND\\nENDMDL\\nMODEL        2\\nHETATM    1  C1  UNL     1      -0.776  -0.009  -0.032  1.00  0.00           C  \\nHETATM    2  C2  UNL     1       0.773   0.004   0.031  1.00  0.00           C  \\nHETATM    3  H1  UNL     1      -1.275  -0.221   0.908  1.00  0.00           H  \\nHETATM    4  H2  UNL     1      -1.063   1.028  -0.376  1.00  0.00           H  \\nHETATM    5  H3  UNL     1      -1.170  -0.862  -0.686  1.00  0.00           H  \\nHETATM    6  H4  UNL     1       1.143   0.833   0.653  1.00  0.00           H  \\nHETATM    7  H5  UNL     1       1.068   0.013  -1.110  1.00  0.00           H  \\nHETATM    8  H6  UNL     1       1.180  -0.907   0.503  1.00  0.00           H  \\nCONECT    1    2    3    4    5\\nCONECT    2    6    7    8\\nEND\\nENDMDL\\nMODEL        3\\nHETATM    1  C1  UNL     1      -0.784  -0.019  -0.039  1.00  0.00           C  \\nHETATM    2  C2  UNL     1       0.779   0.010   0.039  1.00  0.00           C  \\nHETATM    3  H1  UNL     1      -1.336  -0.280   0.858  1.00  0.00           H  \\nHETATM    4  H2  UNL     1      -1.036   1.056  -0.343  1.00  0.00           H  \\nHETATM    5  H3  UNL     1      -1.188  -0.881  -0.707  1.00  0.00           H  \\nHETATM    6  H4  UNL     1       1.149   0.835   0.657  1.00  0.00           H  \\nHETATM    7  H5  UNL     1       1.021  -0.034  -1.158  1.00  0.00           H  \\nHETATM    8  H6  UNL     1       1.212  -0.874   0.536  1.00  0.00           H  \\nCONECT    1    2    3    4    5\\nCONECT    2    6    7    8\\nEND\\nENDMDL\\nMODEL        4\\nHETATM    1  C1  UNL     1      -0.792  -0.029  -0.046  1.00  0.00           C  \\nHETATM    2  C2  UNL     1       0.785   0.016   0.047  1.00  0.00           C  \\nHETATM    3  H1  UNL     1      -1.396  -0.340   0.808  1.00  0.00           H  \\nHETATM    4  H2  UNL     1      -1.010   1.086  -0.310  1.00  0.00           H  \\nHETATM    5  H3  UNL     1      -1.206  -0.896  -0.728  1.00  0.00           H  \\nHETATM    6  H4  UNL     1       1.152   0.836   0.662  1.00  0.00           H  \\nHETATM    7  H5  UNL     1       0.975  -0.083  -1.205  1.00  0.00           H  \\nHETATM    8  H6  UNL     1       1.244  -0.843   0.569  1.00  0.00           H  \\nCONECT    1    2    3    4    5\\nCONECT    2    6    7    8\\nEND\\nENDMDL\\nMODEL        5\\nHETATM    1  C1  UNL     1      -0.800  -0.038  -0.055  1.00  0.00           C  \\nHETATM    2  C2  UNL     1       0.791   0.020   0.056  1.00  0.00           C  \\nHETATM    3  H1  UNL     1      -1.458  -0.401   0.759  1.00  0.00           H  \\nHETATM    4  H2  UNL     1      -0.986   1.117  -0.278  1.00  0.00           H  \\nHETATM    5  H3  UNL     1      -1.224  -0.910  -0.746  1.00  0.00           H  \\nHETATM    6  H4  UNL     1       1.154   0.835   0.666  1.00  0.00           H  \\nHETATM    7  H5  UNL     1       0.929  -0.133  -1.253  1.00  0.00           H  \\nHETATM    8  H6  UNL     1       1.276  -0.815   0.601  1.00  0.00           H  \\nCONECT    1    2    3    4    5\\nCONECT    2    6    7    8\\nEND\\nENDMDL\\nMODEL        6\\nHETATM    1  C1  UNL     1      -0.808  -0.048  -0.063  1.00  0.00           C  \\nHETATM    2  C2  UNL     1       0.797   0.025   0.065  1.00  0.00           C  \\nHETATM    3  H1  UNL     1      -1.520  -0.462   0.711  1.00  0.00           H  \\nHETATM    4  H2  UNL     1      -0.963   1.150  -0.246  1.00  0.00           H  \\nHETATM    5  H3  UNL     1      -1.241  -0.924  -0.763  1.00  0.00           H  \\nHETATM    6  H4  UNL     1       1.158   0.834   0.673  1.00  0.00           H  \\nHETATM    7  H5  UNL     1       0.884  -0.185  -1.301  1.00  0.00           H  \\nHETATM    8  H6  UNL     1       1.308  -0.785   0.636  1.00  0.00           H  \\nCONECT    1    2    3    4    5\\nCONECT    2    6    7    8\\nEND\\nENDMDL\\nMODEL        7\\nHETATM    1  C1  UNL     1      -0.817  -0.058  -0.073  1.00  0.00           C  \\nHETATM    2  C2  UNL     1       0.803   0.029   0.073  1.00  0.00           C  \\nHETATM    3  H1  UNL     1      -1.581  -0.525   0.665  1.00  0.00           H  \\nHETATM    4  H2  UNL     1      -0.939   1.182  -0.214  1.00  0.00           H  \\nHETATM    5  H3  UNL     1      -1.257  -0.938  -0.782  1.00  0.00           H  \\nHETATM    6  H4  UNL     1       1.164   0.832   0.681  1.00  0.00           H  \\nHETATM    7  H5  UNL     1       0.841  -0.236  -1.350  1.00  0.00           H  \\nHETATM    8  H6  UNL     1       1.339  -0.752   0.672  1.00  0.00           H  \\nCONECT    1    2    3    4    5\\nCONECT    2    6    7    8\\nEND\\nENDMDL\\nMODEL        8\\nHETATM    1  C1  UNL     1      -0.827  -0.069  -0.083  1.00  0.00           C  \\nHETATM    2  C2  UNL     1       0.808   0.033   0.082  1.00  0.00           C  \\nHETATM    3  H1  UNL     1      -1.643  -0.586   0.619  1.00  0.00           H  \\nHETATM    4  H2  UNL     1      -0.914   1.212  -0.183  1.00  0.00           H  \\nHETATM    5  H3  UNL     1      -1.274  -0.951  -0.803  1.00  0.00           H  \\nHETATM    6  H4  UNL     1       1.170   0.828   0.690  1.00  0.00           H  \\nHETATM    7  H5  UNL     1       0.797  -0.285  -1.402  1.00  0.00           H  \\nHETATM    8  H6  UNL     1       1.368  -0.718   0.709  1.00  0.00           H  \\nCONECT    1    2    3    4    5\\nCONECT    2    6    7    8\\nEND\\nENDMDL\\nMODEL        9\\nHETATM    1  C1  UNL     1      -0.837  -0.079  -0.093  1.00  0.00           C  \\nHETATM    2  C2  UNL     1       0.814   0.037   0.092  1.00  0.00           C  \\nHETATM    3  H1  UNL     1      -1.705  -0.649   0.575  1.00  0.00           H  \\nHETATM    4  H2  UNL     1      -0.891   1.240  -0.150  1.00  0.00           H  \\nHETATM    5  H3  UNL     1      -1.293  -0.965  -0.825  1.00  0.00           H  \\nHETATM    6  H4  UNL     1       1.176   0.825   0.700  1.00  0.00           H  \\nHETATM    7  H5  UNL     1       0.754  -0.332  -1.454  1.00  0.00           H  \\nHETATM    8  H6  UNL     1       1.396  -0.685   0.747  1.00  0.00           H  \\nCONECT    1    2    3    4    5\\nCONECT    2    6    7    8\\nEND\\nENDMDL\\nMODEL       10\\nHETATM    1  C1  UNL     1      -0.847  -0.090  -0.102  1.00  0.00           C  \\nHETATM    2  C2  UNL     1       0.820   0.042   0.103  1.00  0.00           C  \\nHETATM    3  H1  UNL     1      -1.767  -0.714   0.530  1.00  0.00           H  \\nHETATM    4  H2  UNL     1      -0.870   1.265  -0.119  1.00  0.00           H  \\nHETATM    5  H3  UNL     1      -1.315  -0.979  -0.846  1.00  0.00           H  \\nHETATM    6  H4  UNL     1       1.183   0.823   0.709  1.00  0.00           H  \\nHETATM    7  H5  UNL     1       0.708  -0.381  -1.506  1.00  0.00           H  \\nHETATM    8  H6  UNL     1       1.425  -0.653   0.785  1.00  0.00           H  \\nCONECT    1    2    3    4    5\\nCONECT    2    6    7    8\\nEND\\nENDMDL\\nMODEL       11\\nHETATM    1  C1  UNL     1      -0.857  -0.100  -0.111  1.00  0.00           C  \\nHETATM    2  C2  UNL     1       0.826   0.047   0.113  1.00  0.00           C  \\nHETATM    3  H1  UNL     1      -1.827  -0.781   0.486  1.00  0.00           H  \\nHETATM    4  H2  UNL     1      -0.848   1.291  -0.088  1.00  0.00           H  \\nHETATM    5  H3  UNL     1      -1.337  -0.994  -0.865  1.00  0.00           H  \\nHETATM    6  H4  UNL     1       1.190   0.822   0.718  1.00  0.00           H  \\nHETATM    7  H5  UNL     1       0.662  -0.428  -1.561  1.00  0.00           H  \\nHETATM    8  H6  UNL     1       1.456  -0.619   0.821  1.00  0.00           H  \\nCONECT    1    2    3    4    5\\nCONECT    2    6    7    8\\nEND\\nENDMDL\\nMODEL       12\\nHETATM    1  C1  UNL     1      -0.867  -0.109  -0.119  1.00  0.00           C  \\nHETATM    2  C2  UNL     1       0.831   0.051   0.123  1.00  0.00           C  \\nHETATM    3  H1  UNL     1      -1.885  -0.849   0.440  1.00  0.00           H  \\nHETATM    4  H2  UNL     1      -0.826   1.317  -0.060  1.00  0.00           H  \\nHETATM    5  H3  UNL     1      -1.361  -1.012  -0.884  1.00  0.00           H  \\nHETATM    6  H4  UNL     1       1.198   0.821   0.724  1.00  0.00           H  \\nHETATM    7  H5  UNL     1       0.617  -0.475  -1.616  1.00  0.00           H  \\nHETATM    8  H6  UNL     1       1.485  -0.583   0.856  1.00  0.00           H  \\nCONECT    1    2    3    4    5\\nCONECT    2    6    7    8\\nEND\\nENDMDL\\nMODEL       13\\nHETATM    1  C1  UNL     1      -0.877  -0.120  -0.127  1.00  0.00           C  \\nHETATM    2  C2  UNL     1       0.837   0.056   0.134  1.00  0.00           C  \\nHETATM    3  H1  UNL     1      -1.945  -0.917   0.391  1.00  0.00           H  \\nHETATM    4  H2  UNL     1      -0.802   1.341  -0.030  1.00  0.00           H  \\nHETATM    5  H3  UNL     1      -1.388  -1.029  -0.903  1.00  0.00           H  \\nHETATM    6  H4  UNL     1       1.204   0.825   0.731  1.00  0.00           H  \\nHETATM    7  H5  UNL     1       0.571  -0.521  -1.668  1.00  0.00           H  \\nHETATM    8  H6  UNL     1       1.515  -0.546   0.889  1.00  0.00           H  \\nCONECT    1    2    3    4    5\\nCONECT    2    6    7    8\\nEND\\nENDMDL\\nMODEL       14\\nHETATM    1  C1  UNL     1      -0.888  -0.130  -0.134  1.00  0.00           C  \\nHETATM    2  C2  UNL     1       0.841   0.061   0.144  1.00  0.00           C  \\nHETATM    3  H1  UNL     1      -2.003  -0.986   0.344  1.00  0.00           H  \\nHETATM    4  H2  UNL     1      -0.776   1.364   0.000  1.00  0.00           H  \\nHETATM    5  H3  UNL     1      -1.414  -1.042  -0.924  1.00  0.00           H  \\nHETATM    6  H4  UNL     1       1.209   0.832   0.737  1.00  0.00           H  \\nHETATM    7  H5  UNL     1       0.524  -0.565  -1.718  1.00  0.00           H  \\nHETATM    8  H6  UNL     1       1.545  -0.509   0.921  1.00  0.00           H  \\nCONECT    1    2    3    4    5\\nCONECT    2    6    7    8\\nEND\\nENDMDL\\nMODEL       15\\nHETATM    1  C1  UNL     1      -0.899  -0.142  -0.142  1.00  0.00           C  \\nHETATM    2  C2  UNL     1       0.846   0.065   0.155  1.00  0.00           C  \\nHETATM    3  H1  UNL     1      -2.062  -1.054   0.295  1.00  0.00           H  \\nHETATM    4  H2  UNL     1      -0.750   1.385   0.031  1.00  0.00           H  \\nHETATM    5  H3  UNL     1      -1.440  -1.056  -0.946  1.00  0.00           H  \\nHETATM    6  H4  UNL     1       1.216   0.840   0.743  1.00  0.00           H  \\nHETATM    7  H5  UNL     1       0.475  -0.609  -1.769  1.00  0.00           H  \\nHETATM    8  H6  UNL     1       1.573  -0.470   0.951  1.00  0.00           H  \\nCONECT    1    2    3    4    5\\nCONECT    2    6    7    8\\nEND\\nENDMDL\\nMODEL       16\\nHETATM    1  C1  UNL     1      -0.909  -0.154  -0.150  1.00  0.00           C  \\nHETATM    2  C2  UNL     1       0.851   0.068   0.166  1.00  0.00           C  \\nHETATM    3  H1  UNL     1      -2.121  -1.121   0.247  1.00  0.00           H  \\nHETATM    4  H2  UNL     1      -0.726   1.404   0.063  1.00  0.00           H  \\nHETATM    5  H3  UNL     1      -1.466  -1.071  -0.971  1.00  0.00           H  \\nHETATM    6  H4  UNL     1       1.224   0.850   0.751  1.00  0.00           H  \\nHETATM    7  H5  UNL     1       0.427  -0.652  -1.820  1.00  0.00           H  \\nHETATM    8  H6  UNL     1       1.598  -0.430   0.982  1.00  0.00           H  \\nCONECT    1    2    3    4    5\\nCONECT    2    6    7    8\\nEND\\nENDMDL\\nMODEL       17\\nHETATM    1  C1  UNL     1      -0.920  -0.167  -0.157  1.00  0.00           C  \\nHETATM    2  C2  UNL     1       0.856   0.070   0.176  1.00  0.00           C  \\nHETATM    3  H1  UNL     1      -2.179  -1.187   0.200  1.00  0.00           H  \\nHETATM    4  H2  UNL     1      -0.701   1.421   0.094  1.00  0.00           H  \\nHETATM    5  H3  UNL     1      -1.491  -1.088  -0.996  1.00  0.00           H  \\nHETATM    6  H4  UNL     1       1.231   0.861   0.757  1.00  0.00           H  \\nHETATM    7  H5  UNL     1       0.379  -0.693  -1.869  1.00  0.00           H  \\nHETATM    8  H6  UNL     1       1.624  -0.390   1.014  1.00  0.00           H  \\nCONECT    1    2    3    4    5\\nCONECT    2    6    7    8\\nEND\\nENDMDL\\nMODEL       18\\nHETATM    1  C1  UNL     1      -0.931  -0.180  -0.164  1.00  0.00           C  \\nHETATM    2  C2  UNL     1       0.861   0.072   0.187  1.00  0.00           C  \\nHETATM    3  H1  UNL     1      -2.234  -1.252   0.150  1.00  0.00           H  \\nHETATM    4  H2  UNL     1      -0.675   1.436   0.124  1.00  0.00           H  \\nHETATM    5  H3  UNL     1      -1.516  -1.104  -1.020  1.00  0.00           H  \\nHETATM    6  H4  UNL     1       1.237   0.873   0.763  1.00  0.00           H  \\nHETATM    7  H5  UNL     1       0.329  -0.732  -1.918  1.00  0.00           H  \\nHETATM    8  H6  UNL     1       1.651  -0.355   1.047  1.00  0.00           H  \\nCONECT    1    2    3    4    5\\nCONECT    2    6    7    8\\nEND\\nENDMDL\\nMODEL       19\\nHETATM    1  C1  UNL     1      -0.941  -0.193  -0.171  1.00  0.00           C  \\nHETATM    2  C2  UNL     1       0.867   0.074   0.198  1.00  0.00           C  \\nHETATM    3  H1  UNL     1      -2.286  -1.316   0.097  1.00  0.00           H  \\nHETATM    4  H2  UNL     1      -0.647   1.448   0.156  1.00  0.00           H  \\nHETATM    5  H3  UNL     1      -1.542  -1.120  -1.041  1.00  0.00           H  \\nHETATM    6  H4  UNL     1       1.244   0.888   0.768  1.00  0.00           H  \\nHETATM    7  H5  UNL     1       0.278  -0.769  -1.966  1.00  0.00           H  \\nHETATM    8  H6  UNL     1       1.675  -0.320   1.080  1.00  0.00           H  \\nCONECT    1    2    3    4    5\\nCONECT    2    6    7    8\\nEND\\nENDMDL\\nMODEL       20\\nHETATM    1  C1  UNL     1      -0.951  -0.206  -0.177  1.00  0.00           C  \\nHETATM    2  C2  UNL     1       0.872   0.076   0.209  1.00  0.00           C  \\nHETATM    3  H1  UNL     1      -2.337  -1.378   0.044  1.00  0.00           H  \\nHETATM    4  H2  UNL     1      -0.618   1.458   0.190  1.00  0.00           H  \\nHETATM    5  H3  UNL     1      -1.569  -1.136  -1.060  1.00  0.00           H  \\nHETATM    6  H4  UNL     1       1.253   0.902   0.774  1.00  0.00           H  \\nHETATM    7  H5  UNL     1       0.224  -0.805  -2.014  1.00  0.00           H  \\nHETATM    8  H6  UNL     1       1.700  -0.285   1.112  1.00  0.00           H  \\nCONECT    1    2    3    4    5\\nCONECT    2    6    7    8\\nEND\\nENDMDL\\nMODEL       21\\nHETATM    1  C1  UNL     1      -0.960  -0.220  -0.183  1.00  0.00           C  \\nHETATM    2  C2  UNL     1       0.877   0.079   0.221  1.00  0.00           C  \\nHETATM    3  H1  UNL     1      -2.388  -1.439  -0.009  1.00  0.00           H  \\nHETATM    4  H2  UNL     1      -0.590   1.468   0.225  1.00  0.00           H  \\nHETATM    5  H3  UNL     1      -1.597  -1.152  -1.081  1.00  0.00           H  \\nHETATM    6  H4  UNL     1       1.261   0.913   0.779  1.00  0.00           H  \\nHETATM    7  H5  UNL     1       0.169  -0.841  -2.061  1.00  0.00           H  \\nHETATM    8  H6  UNL     1       1.726  -0.248   1.142  1.00  0.00           H  \\nCONECT    1    2    3    4    5\\nCONECT    2    6    7    8\\nEND\\nENDMDL\\nMODEL       22\\nHETATM    1  C1  UNL     1      -0.970  -0.233  -0.190  1.00  0.00           C  \\nHETATM    2  C2  UNL     1       0.882   0.082   0.232  1.00  0.00           C  \\nHETATM    3  H1  UNL     1      -2.439  -1.500  -0.060  1.00  0.00           H  \\nHETATM    4  H2  UNL     1      -0.563   1.479   0.263  1.00  0.00           H  \\nHETATM    5  H3  UNL     1      -1.628  -1.169  -1.103  1.00  0.00           H  \\nHETATM    6  H4  UNL     1       1.269   0.922   0.782  1.00  0.00           H  \\nHETATM    7  H5  UNL     1       0.114  -0.877  -2.108  1.00  0.00           H  \\nHETATM    8  H6  UNL     1       1.752  -0.209   1.170  1.00  0.00           H  \\nCONECT    1    2    3    4    5\\nCONECT    2    6    7    8\\nEND\\nENDMDL\\nMODEL       23\\nHETATM    1  C1  UNL     1      -0.979  -0.246  -0.197  1.00  0.00           C  \\nHETATM    2  C2  UNL     1       0.886   0.084   0.244  1.00  0.00           C  \\nHETATM    3  H1  UNL     1      -2.490  -1.562  -0.110  1.00  0.00           H  \\nHETATM    4  H2  UNL     1      -0.535   1.492   0.302  1.00  0.00           H  \\nHETATM    5  H3  UNL     1      -1.658  -1.184  -1.122  1.00  0.00           H  \\nHETATM    6  H4  UNL     1       1.275   0.928   0.785  1.00  0.00           H  \\nHETATM    7  H5  UNL     1       0.061  -0.915  -2.152  1.00  0.00           H  \\nHETATM    8  H6  UNL     1       1.778  -0.169   1.199  1.00  0.00           H  \\nCONECT    1    2    3    4    5\\nCONECT    2    6    7    8\\nEND\\nENDMDL\\nMODEL       24\\nHETATM    1  C1  UNL     1      -0.989  -0.259  -0.203  1.00  0.00           C  \\nHETATM    2  C2  UNL     1       0.891   0.088   0.255  1.00  0.00           C  \\nHETATM    3  H1  UNL     1      -2.540  -1.623  -0.158  1.00  0.00           H  \\nHETATM    4  H2  UNL     1      -0.505   1.505   0.341  1.00  0.00           H  \\nHETATM    5  H3  UNL     1      -1.689  -1.198  -1.142  1.00  0.00           H  \\nHETATM    6  H4  UNL     1       1.281   0.930   0.788  1.00  0.00           H  \\nHETATM    7  H5  UNL     1       0.010  -0.953  -2.195  1.00  0.00           H  \\nHETATM    8  H6  UNL     1       1.804  -0.126   1.228  1.00  0.00           H  \\nCONECT    1    2    3    4    5\\nCONECT    2    6    7    8\\nEND\\nENDMDL\\nMODEL       25\\nHETATM    1  C1  UNL     1      -0.998  -0.271  -0.210  1.00  0.00           C  \\nHETATM    2  C2  UNL     1       0.895   0.092   0.266  1.00  0.00           C  \\nHETATM    3  H1  UNL     1      -2.592  -1.685  -0.205  1.00  0.00           H  \\nHETATM    4  H2  UNL     1      -0.476   1.518   0.381  1.00  0.00           H  \\nHETATM    5  H3  UNL     1      -1.720  -1.212  -1.160  1.00  0.00           H  \\nHETATM    6  H4  UNL     1       1.289   0.932   0.792  1.00  0.00           H  \\nHETATM    7  H5  UNL     1      -0.038  -0.991  -2.237  1.00  0.00           H  \\nHETATM    8  H6  UNL     1       1.828  -0.082   1.259  1.00  0.00           H  \\nCONECT    1    2    3    4    5\\nCONECT    2    6    7    8\\nEND\\nENDMDL\\nMODEL       26\\nHETATM    1  C1  UNL     1      -1.006  -0.282  -0.218  1.00  0.00           C  \\nHETATM    2  C2  UNL     1       0.900   0.096   0.277  1.00  0.00           C  \\nHETATM    3  H1  UNL     1      -2.646  -1.748  -0.251  1.00  0.00           H  \\nHETATM    4  H2  UNL     1      -0.448   1.530   0.421  1.00  0.00           H  \\nHETATM    5  H3  UNL     1      -1.751  -1.224  -1.179  1.00  0.00           H  \\nHETATM    6  H4  UNL     1       1.298   0.932   0.796  1.00  0.00           H  \\nHETATM    7  H5  UNL     1      -0.087  -1.030  -2.279  1.00  0.00           H  \\nHETATM    8  H6  UNL     1       1.851  -0.036   1.292  1.00  0.00           H  \\nCONECT    1    2    3    4    5\\nCONECT    2    6    7    8\\nEND\\nENDMDL\\nMODEL       27\\nHETATM    1  C1  UNL     1      -1.014  -0.294  -0.227  1.00  0.00           C  \\nHETATM    2  C2  UNL     1       0.903   0.099   0.288  1.00  0.00           C  \\nHETATM    3  H1  UNL     1      -2.699  -1.811  -0.299  1.00  0.00           H  \\nHETATM    4  H2  UNL     1      -0.420   1.542   0.462  1.00  0.00           H  \\nHETATM    5  H3  UNL     1      -1.785  -1.235  -1.200  1.00  0.00           H  \\nHETATM    6  H4  UNL     1       1.308   0.930   0.801  1.00  0.00           H  \\nHETATM    7  H5  UNL     1      -0.136  -1.068  -2.321  1.00  0.00           H  \\nHETATM    8  H6  UNL     1       1.871   0.009   1.322  1.00  0.00           H  \\nCONECT    1    2    3    4    5\\nCONECT    2    6    7    8\\nEND\\nENDMDL\\nMODEL       28\\nHETATM    1  C1  UNL     1      -1.023  -0.307  -0.236  1.00  0.00           C  \\nHETATM    2  C2  UNL     1       0.906   0.104   0.298  1.00  0.00           C  \\nHETATM    3  H1  UNL     1      -2.751  -1.874  -0.348  1.00  0.00           H  \\nHETATM    4  H2  UNL     1      -0.391   1.553   0.503  1.00  0.00           H  \\nHETATM    5  H3  UNL     1      -1.819  -1.247  -1.221  1.00  0.00           H  \\nHETATM    6  H4  UNL     1       1.318   0.926   0.806  1.00  0.00           H  \\nHETATM    7  H5  UNL     1      -0.185  -1.106  -2.365  1.00  0.00           H  \\nHETATM    8  H6  UNL     1       1.890   0.052   1.351  1.00  0.00           H  \\nCONECT    1    2    3    4    5\\nCONECT    2    6    7    8\\nEND\\nENDMDL\\nMODEL       29\\nHETATM    1  C1  UNL     1      -1.031  -0.320  -0.247  1.00  0.00           C  \\nHETATM    2  C2  UNL     1       0.910   0.108   0.308  1.00  0.00           C  \\nHETATM    3  H1  UNL     1      -2.801  -1.937  -0.397  1.00  0.00           H  \\nHETATM    4  H2  UNL     1      -0.362   1.563   0.544  1.00  0.00           H  \\nHETATM    5  H3  UNL     1      -1.853  -1.259  -1.244  1.00  0.00           H  \\nHETATM    6  H4  UNL     1       1.329   0.922   0.812  1.00  0.00           H  \\nHETATM    7  H5  UNL     1      -0.233  -1.144  -2.410  1.00  0.00           H  \\nHETATM    8  H6  UNL     1       1.907   0.091   1.382  1.00  0.00           H  \\nCONECT    1    2    3    4    5\\nCONECT    2    6    7    8\\nEND\\nENDMDL\\nMODEL       30\\nHETATM    1  C1  UNL     1      -1.039  -0.334  -0.258  1.00  0.00           C  \\nHETATM    2  C2  UNL     1       0.915   0.110   0.317  1.00  0.00           C  \\nHETATM    3  H1  UNL     1      -2.851  -1.999  -0.444  1.00  0.00           H  \\nHETATM    4  H2  UNL     1      -0.333   1.574   0.587  1.00  0.00           H  \\nHETATM    5  H3  UNL     1      -1.889  -1.273  -1.267  1.00  0.00           H  \\nHETATM    6  H4  UNL     1       1.337   0.914   0.818  1.00  0.00           H  \\nHETATM    7  H5  UNL     1      -0.280  -1.183  -2.453  1.00  0.00           H  \\nHETATM    8  H6  UNL     1       1.924   0.130   1.410  1.00  0.00           H  \\nCONECT    1    2    3    4    5\\nCONECT    2    6    7    8\\nEND\\nENDMDL\\nMODEL       31\\nHETATM    1  C1  UNL     1      -1.046  -0.348  -0.268  1.00  0.00           C  \\nHETATM    2  C2  UNL     1       0.919   0.113   0.326  1.00  0.00           C  \\nHETATM    3  H1  UNL     1      -2.900  -2.059  -0.491  1.00  0.00           H  \\nHETATM    4  H2  UNL     1      -0.302   1.586   0.630  1.00  0.00           H  \\nHETATM    5  H3  UNL     1      -1.924  -1.291  -1.291  1.00  0.00           H  \\nHETATM    6  H4  UNL     1       1.344   0.904   0.824  1.00  0.00           H  \\nHETATM    7  H5  UNL     1      -0.326  -1.221  -2.497  1.00  0.00           H  \\nHETATM    8  H6  UNL     1       1.945   0.168   1.438  1.00  0.00           H  \\nCONECT    1    2    3    4    5\\nCONECT    2    6    7    8\\nEND\\nENDMDL\\nMODEL       32\\nHETATM    1  C1  UNL     1      -1.052  -0.362  -0.279  1.00  0.00           C  \\nHETATM    2  C2  UNL     1       0.923   0.117   0.334  1.00  0.00           C  \\nHETATM    3  H1  UNL     1      -2.947  -2.119  -0.536  1.00  0.00           H  \\nHETATM    4  H2  UNL     1      -0.271   1.600   0.671  1.00  0.00           H  \\nHETATM    5  H3  UNL     1      -1.959  -1.308  -1.318  1.00  0.00           H  \\nHETATM    6  H4  UNL     1       1.351   0.892   0.827  1.00  0.00           H  \\nHETATM    7  H5  UNL     1      -0.371  -1.259  -2.540  1.00  0.00           H  \\nHETATM    8  H6  UNL     1       1.969   0.204   1.466  1.00  0.00           H  \\nCONECT    1    2    3    4    5\\nCONECT    2    6    7    8\\nEND\\nENDMDL\\nMODEL       33\\nHETATM    1  C1  UNL     1      -1.058  -0.375  -0.288  1.00  0.00           C  \\nHETATM    2  C2  UNL     1       0.928   0.121   0.343  1.00  0.00           C  \\nHETATM    3  H1  UNL     1      -2.995  -2.179  -0.578  1.00  0.00           H  \\nHETATM    4  H2  UNL     1      -0.238   1.614   0.711  1.00  0.00           H  \\nHETATM    5  H3  UNL     1      -1.993  -1.325  -1.346  1.00  0.00           H  \\nHETATM    6  H4  UNL     1       1.359   0.881   0.831  1.00  0.00           H  \\nHETATM    7  H5  UNL     1      -0.415  -1.295  -2.582  1.00  0.00           H  \\nHETATM    8  H6  UNL     1       1.995   0.241   1.496  1.00  0.00           H  \\nCONECT    1    2    3    4    5\\nCONECT    2    6    7    8\\nEND\\nENDMDL\\nMODEL       34\\nHETATM    1  C1  UNL     1      -1.063  -0.389  -0.297  1.00  0.00           C  \\nHETATM    2  C2  UNL     1       0.932   0.125   0.351  1.00  0.00           C  \\nHETATM    3  H1  UNL     1      -3.043  -2.239  -0.621  1.00  0.00           H  \\nHETATM    4  H2  UNL     1      -0.205   1.627   0.754  1.00  0.00           H  \\nHETATM    5  H3  UNL     1      -2.026  -1.343  -1.375  1.00  0.00           H  \\nHETATM    6  H4  UNL     1       1.367   0.870   0.836  1.00  0.00           H  \\nHETATM    7  H5  UNL     1      -0.461  -1.330  -2.627  1.00  0.00           H  \\nHETATM    8  H6  UNL     1       2.020   0.278   1.526  1.00  0.00           H  \\nCONECT    1    2    3    4    5\\nCONECT    2    6    7    8\\nEND\\nENDMDL\\nMODEL       35\\nHETATM    1  C1  UNL     1      -1.068  -0.403  -0.306  1.00  0.00           C  \\nHETATM    2  C2  UNL     1       0.936   0.130   0.359  1.00  0.00           C  \\nHETATM    3  H1  UNL     1      -3.093  -2.297  -0.664  1.00  0.00           H  \\nHETATM    4  H2  UNL     1      -0.172   1.642   0.798  1.00  0.00           H  \\nHETATM    5  H3  UNL     1      -2.061  -1.361  -1.403  1.00  0.00           H  \\nHETATM    6  H4  UNL     1       1.373   0.859   0.842  1.00  0.00           H  \\nHETATM    7  H5  UNL     1      -0.506  -1.364  -2.671  1.00  0.00           H  \\nHETATM    8  H6  UNL     1       2.048   0.317   1.557  1.00  0.00           H  \\nCONECT    1    2    3    4    5\\nCONECT    2    6    7    8\\nEND\\nENDMDL\\nMODEL       36\\nHETATM    1  C1  UNL     1      -1.072  -0.417  -0.315  1.00  0.00           C  \\nHETATM    2  C2  UNL     1       0.941   0.134   0.367  1.00  0.00           C  \\nHETATM    3  H1  UNL     1      -3.143  -2.354  -0.706  1.00  0.00           H  \\nHETATM    4  H2  UNL     1      -0.140   1.657   0.839  1.00  0.00           H  \\nHETATM    5  H3  UNL     1      -2.094  -1.377  -1.433  1.00  0.00           H  \\nHETATM    6  H4  UNL     1       1.379   0.846   0.846  1.00  0.00           H  \\nHETATM    7  H5  UNL     1      -0.549  -1.397  -2.716  1.00  0.00           H  \\nHETATM    8  H6  UNL     1       2.077   0.357   1.590  1.00  0.00           H  \\nCONECT    1    2    3    4    5\\nCONECT    2    6    7    8\\nEND\\nENDMDL\\nMODEL       37\\nHETATM    1  C1  UNL     1      -1.076  -0.432  -0.324  1.00  0.00           C  \\nHETATM    2  C2  UNL     1       0.946   0.138   0.375  1.00  0.00           C  \\nHETATM    3  H1  UNL     1      -3.193  -2.409  -0.745  1.00  0.00           H  \\nHETATM    4  H2  UNL     1      -0.107   1.671   0.881  1.00  0.00           H  \\nHETATM    5  H3  UNL     1      -2.128  -1.392  -1.464  1.00  0.00           H  \\nHETATM    6  H4  UNL     1       1.382   0.833   0.847  1.00  0.00           H  \\nHETATM    7  H5  UNL     1      -0.591  -1.428  -2.763  1.00  0.00           H  \\nHETATM    8  H6  UNL     1       2.108   0.397   1.624  1.00  0.00           H  \\nCONECT    1    2    3    4    5\\nCONECT    2    6    7    8\\nEND\\nENDMDL\\nMODEL       38\\nHETATM    1  C1  UNL     1      -1.080  -0.446  -0.333  1.00  0.00           C  \\nHETATM    2  C2  UNL     1       0.950   0.141   0.384  1.00  0.00           C  \\nHETATM    3  H1  UNL     1      -3.241  -2.464  -0.783  1.00  0.00           H  \\nHETATM    4  H2  UNL     1      -0.074   1.685   0.927  1.00  0.00           H  \\nHETATM    5  H3  UNL     1      -2.160  -1.405  -1.493  1.00  0.00           H  \\nHETATM    6  H4  UNL     1       1.384   0.822   0.848  1.00  0.00           H  \\nHETATM    7  H5  UNL     1      -0.634  -1.458  -2.810  1.00  0.00           H  \\nHETATM    8  H6  UNL     1       2.139   0.436   1.656  1.00  0.00           H  \\nCONECT    1    2    3    4    5\\nCONECT    2    6    7    8\\nEND\\nENDMDL\\nMODEL       39\\nHETATM    1  C1  UNL     1      -1.083  -0.460  -0.341  1.00  0.00           C  \\nHETATM    2  C2  UNL     1       0.953   0.144   0.392  1.00  0.00           C  \\nHETATM    3  H1  UNL     1      -3.285  -2.520  -0.820  1.00  0.00           H  \\nHETATM    4  H2  UNL     1      -0.040   1.700   0.974  1.00  0.00           H  \\nHETATM    5  H3  UNL     1      -2.195  -1.419  -1.522  1.00  0.00           H  \\nHETATM    6  H4  UNL     1       1.385   0.810   0.851  1.00  0.00           H  \\nHETATM    7  H5  UNL     1      -0.676  -1.489  -2.857  1.00  0.00           H  \\nHETATM    8  H6  UNL     1       2.170   0.474   1.689  1.00  0.00           H  \\nCONECT    1    2    3    4    5\\nCONECT    2    6    7    8\\nEND\\nENDMDL\\nMODEL       40\\nHETATM    1  C1  UNL     1      -1.085  -0.474  -0.351  1.00  0.00           C  \\nHETATM    2  C2  UNL     1       0.958   0.148   0.400  1.00  0.00           C  \\nHETATM    3  H1  UNL     1      -3.327  -2.578  -0.857  1.00  0.00           H  \\nHETATM    4  H2  UNL     1      -0.006   1.713   1.020  1.00  0.00           H  \\nHETATM    5  H3  UNL     1      -2.229  -1.434  -1.553  1.00  0.00           H  \\nHETATM    6  H4  UNL     1       1.386   0.796   0.852  1.00  0.00           H  \\nHETATM    7  H5  UNL     1      -0.719  -1.522  -2.906  1.00  0.00           H  \\nHETATM    8  H6  UNL     1       2.200   0.512   1.724  1.00  0.00           H  \\nCONECT    1    2    3    4    5\\nCONECT    2    6    7    8\\nEND\\nENDMDL\\nMODEL       41\\nHETATM    1  C1  UNL     1      -1.088  -0.488  -0.360  1.00  0.00           C  \\nHETATM    2  C2  UNL     1       0.962   0.152   0.407  1.00  0.00           C  \\nHETATM    3  H1  UNL     1      -3.366  -2.639  -0.893  1.00  0.00           H  \\nHETATM    4  H2  UNL     1       0.027   1.726   1.063  1.00  0.00           H  \\nHETATM    5  H3  UNL     1      -2.262  -1.449  -1.583  1.00  0.00           H  \\nHETATM    6  H4  UNL     1       1.388   0.783   0.849  1.00  0.00           H  \\nHETATM    7  H5  UNL     1      -0.764  -1.558  -2.956  1.00  0.00           H  \\nHETATM    8  H6  UNL     1       2.231   0.550   1.757  1.00  0.00           H  \\nCONECT    1    2    3    4    5\\nCONECT    2    6    7    8\\nEND\\nENDMDL\\nMODEL       42\\nHETATM    1  C1  UNL     1      -1.091  -0.502  -0.368  1.00  0.00           C  \\nHETATM    2  C2  UNL     1       0.968   0.156   0.414  1.00  0.00           C  \\nHETATM    3  H1  UNL     1      -3.407  -2.699  -0.928  1.00  0.00           H  \\nHETATM    4  H2  UNL     1       0.058   1.739   1.105  1.00  0.00           H  \\nHETATM    5  H3  UNL     1      -2.295  -1.463  -1.612  1.00  0.00           H  \\nHETATM    6  H4  UNL     1       1.390   0.770   0.843  1.00  0.00           H  \\nHETATM    7  H5  UNL     1      -0.813  -1.595  -3.004  1.00  0.00           H  \\nHETATM    8  H6  UNL     1       2.260   0.588   1.789  1.00  0.00           H  \\nCONECT    1    2    3    4    5\\nCONECT    2    6    7    8\\nEND\\nENDMDL\\nMODEL       43\\nHETATM    1  C1  UNL     1      -1.094  -0.515  -0.375  1.00  0.00           C  \\nHETATM    2  C2  UNL     1       0.972   0.160   0.421  1.00  0.00           C  \\nHETATM    3  H1  UNL     1      -3.450  -2.759  -0.963  1.00  0.00           H  \\nHETATM    4  H2  UNL     1       0.090   1.753   1.147  1.00  0.00           H  \\nHETATM    5  H3  UNL     1      -2.327  -1.476  -1.641  1.00  0.00           H  \\nHETATM    6  H4  UNL     1       1.389   0.757   0.837  1.00  0.00           H  \\nHETATM    7  H5  UNL     1      -0.863  -1.629  -3.050  1.00  0.00           H  \\nHETATM    8  H6  UNL     1       2.290   0.626   1.823  1.00  0.00           H  \\nCONECT    1    2    3    4    5\\nCONECT    2    6    7    8\\nEND\\nENDMDL\\nMODEL       44\\nHETATM    1  C1  UNL     1      -1.099  -0.529  -0.382  1.00  0.00           C  \\nHETATM    2  C2  UNL     1       0.977   0.164   0.427  1.00  0.00           C  \\nHETATM    3  H1  UNL     1      -3.491  -2.816  -0.999  1.00  0.00           H  \\nHETATM    4  H2  UNL     1       0.122   1.765   1.190  1.00  0.00           H  \\nHETATM    5  H3  UNL     1      -2.356  -1.491  -1.668  1.00  0.00           H  \\nHETATM    6  H4  UNL     1       1.386   0.744   0.830  1.00  0.00           H  \\nHETATM    7  H5  UNL     1      -0.914  -1.664  -3.097  1.00  0.00           H  \\nHETATM    8  H6  UNL     1       2.321   0.661   1.855  1.00  0.00           H  \\nCONECT    1    2    3    4    5\\nCONECT    2    6    7    8\\nEND\\nENDMDL\\nMODEL       45\\nHETATM    1  C1  UNL     1      -1.103  -0.541  -0.390  1.00  0.00           C  \\nHETATM    2  C2  UNL     1       0.982   0.167   0.434  1.00  0.00           C  \\nHETATM    3  H1  UNL     1      -3.531  -2.873  -1.036  1.00  0.00           H  \\nHETATM    4  H2  UNL     1       0.154   1.774   1.236  1.00  0.00           H  \\nHETATM    5  H3  UNL     1      -2.386  -1.505  -1.694  1.00  0.00           H  \\nHETATM    6  H4  UNL     1       1.382   0.728   0.822  1.00  0.00           H  \\nHETATM    7  H5  UNL     1      -0.967  -1.698  -3.147  1.00  0.00           H  \\nHETATM    8  H6  UNL     1       2.351   0.696   1.887  1.00  0.00           H  \\nCONECT    1    2    3    4    5\\nCONECT    2    6    7    8\\nEND\\nENDMDL\\nMODEL       46\\nHETATM    1  C1  UNL     1      -1.106  -0.553  -0.399  1.00  0.00           C  \\nHETATM    2  C2  UNL     1       0.988   0.170   0.441  1.00  0.00           C  \\nHETATM    3  H1  UNL     1      -3.572  -2.929  -1.073  1.00  0.00           H  \\nHETATM    4  H2  UNL     1       0.186   1.784   1.284  1.00  0.00           H  \\nHETATM    5  H3  UNL     1      -2.414  -1.516  -1.718  1.00  0.00           H  \\nHETATM    6  H4  UNL     1       1.378   0.712   0.814  1.00  0.00           H  \\nHETATM    7  H5  UNL     1      -1.019  -1.732  -3.197  1.00  0.00           H  \\nHETATM    8  H6  UNL     1       2.380   0.731   1.921  1.00  0.00           H  \\nCONECT    1    2    3    4    5\\nCONECT    2    6    7    8\\nEND\\nENDMDL\\nMODEL       47\\nHETATM    1  C1  UNL     1      -1.109  -0.564  -0.408  1.00  0.00           C  \\nHETATM    2  C2  UNL     1       0.994   0.172   0.448  1.00  0.00           C  \\nHETATM    3  H1  UNL     1      -3.612  -2.986  -1.110  1.00  0.00           H  \\nHETATM    4  H2  UNL     1       0.219   1.795   1.333  1.00  0.00           H  \\nHETATM    5  H3  UNL     1      -2.437  -1.525  -1.743  1.00  0.00           H  \\nHETATM    6  H4  UNL     1       1.376   0.694   0.806  1.00  0.00           H  \\nHETATM    7  H5  UNL     1      -1.070  -1.768  -3.247  1.00  0.00           H  \\nHETATM    8  H6  UNL     1       2.410   0.766   1.955  1.00  0.00           H  \\nCONECT    1    2    3    4    5\\nCONECT    2    6    7    8\\nEND\\nENDMDL\\nMODEL       48\\nHETATM    1  C1  UNL     1      -1.112  -0.575  -0.417  1.00  0.00           C  \\nHETATM    2  C2  UNL     1       1.000   0.175   0.454  1.00  0.00           C  \\nHETATM    3  H1  UNL     1      -3.654  -3.042  -1.148  1.00  0.00           H  \\nHETATM    4  H2  UNL     1       0.253   1.807   1.382  1.00  0.00           H  \\nHETATM    5  H3  UNL     1      -2.460  -1.535  -1.769  1.00  0.00           H  \\nHETATM    6  H4  UNL     1       1.375   0.674   0.796  1.00  0.00           H  \\nHETATM    7  H5  UNL     1      -1.121  -1.804  -3.298  1.00  0.00           H  \\nHETATM    8  H6  UNL     1       2.439   0.800   1.988  1.00  0.00           H  \\nCONECT    1    2    3    4    5\\nCONECT    2    6    7    8\\nEND\\nENDMDL\\nMODEL       49\\nHETATM    1  C1  UNL     1      -1.115  -0.586  -0.425  1.00  0.00           C  \\nHETATM    2  C2  UNL     1       1.005   0.176   0.462  1.00  0.00           C  \\nHETATM    3  H1  UNL     1      -3.695  -3.096  -1.185  1.00  0.00           H  \\nHETATM    4  H2  UNL     1       0.288   1.820   1.430  1.00  0.00           H  \\nHETATM    5  H3  UNL     1      -2.486  -1.547  -1.798  1.00  0.00           H  \\nHETATM    6  H4  UNL     1       1.378   0.652   0.783  1.00  0.00           H  \\nHETATM    7  H5  UNL     1      -1.172  -1.841  -3.350  1.00  0.00           H  \\nHETATM    8  H6  UNL     1       2.468   0.833   2.020  1.00  0.00           H  \\nCONECT    1    2    3    4    5\\nCONECT    2    6    7    8\\nEND\\nENDMDL\\nMODEL       50\\nHETATM    1  C1  UNL     1      -1.117  -0.597  -0.435  1.00  0.00           C  \\nHETATM    2  C2  UNL     1       1.011   0.177   0.470  1.00  0.00           C  \\nHETATM    3  H1  UNL     1      -3.737  -3.150  -1.221  1.00  0.00           H  \\nHETATM    4  H2  UNL     1       0.326   1.834   1.476  1.00  0.00           H  \\nHETATM    5  H3  UNL     1      -2.513  -1.558  -1.828  1.00  0.00           H  \\nHETATM    6  H4  UNL     1       1.383   0.631   0.772  1.00  0.00           H  \\nHETATM    7  H5  UNL     1      -1.226  -1.883  -3.402  1.00  0.00           H  \\nHETATM    8  H6  UNL     1       2.497   0.866   2.052  1.00  0.00           H  \\nCONECT    1    2    3    4    5\\nCONECT    2    6    7    8\\nEND\\nENDMDL\\n\",\"trajectory\",{\"keepH\": true});\n",
       "\tviewer_1731224527492181.setBackgroundColor(\"white\");\n",
       "\tviewer_1731224527492181.setStyle({\"stick\": {\"scale\": 0.3}, \"sphere\": {\"scale\": 0.3}});\n",
       "\tviewer_1731224527492181.zoomTo();\n",
       "\tviewer_1731224527492181.animate({\"loop\": \"forward\", \"interval\": 10});\n",
       "viewer_1731224527492181.render();\n",
       "});\n",
       "</script>"
      ]
     },
     "metadata": {},
     "output_type": "display_data"
    }
   ],
   "source": [
    "# Show the animation\n",
    "view = py3Dmol.view(width=400, height=300)\n",
    "view.addModelsAsFrames(trajectory, \"trajectory\", {'keepH': True})\n",
    "view.setBackgroundColor('white')\n",
    "view.setStyle({'stick': {'scale': 0.3}, 'sphere': {'scale': 0.3}})\n",
    "view.zoomTo()\n",
    "view.animate({'loop': \"forward\", 'interval': 10}) # Adjust the speed as needed (set 'interval' to a new value in millisecond)\n",
    "view.show()"
   ]
  },
  {
   "cell_type": "markdown",
   "id": "c6ca3bb5",
   "metadata": {},
   "source": [
    "### 3.4.2. Protein Simulation"
   ]
  },
  {
   "cell_type": "markdown",
   "id": "807e550c",
   "metadata": {},
   "source": [
    "In the following section, we will simulate the dynamics of a protein. For this, you need to install MDAnalysis and NGLView:"
   ]
  },
  {
   "cell_type": "code",
   "execution_count": null,
   "id": "c38313aa",
   "metadata": {},
   "outputs": [],
   "source": [
    "!conda install -c conda-forge mdanalysis"
   ]
  },
  {
   "cell_type": "code",
   "execution_count": null,
   "id": "29262ea8",
   "metadata": {},
   "outputs": [],
   "source": [
    "!conda install -c conda-forge nglview"
   ]
  },
  {
   "cell_type": "code",
   "execution_count": 11,
   "id": "7023fa81",
   "metadata": {},
   "outputs": [
    {
     "data": {
      "application/vnd.jupyter.widget-view+json": {
       "model_id": "70b6a9b8cb7f49498b8a679c8beaea7e",
       "version_major": 2,
       "version_minor": 0
      },
      "text/plain": []
     },
     "metadata": {},
     "output_type": "display_data"
    }
   ],
   "source": [
    "# Import modules\n",
    "from openmm import *\n",
    "from openmm.app import *\n",
    "from openmm.unit import *\n",
    "import MDAnalysis as md\n",
    "import nglview as ng\n",
    "from sys import stdout"
   ]
  },
  {
   "cell_type": "code",
   "execution_count": 12,
   "id": "a0ac4c2d",
   "metadata": {},
   "outputs": [
    {
     "data": {
      "application/vnd.jupyter.widget-view+json": {
       "model_id": "f6a3aa4bd9fb4a4eb6506e905a5ff480",
       "version_major": 2,
       "version_minor": 0
      },
      "text/plain": [
       "NGLWidget()"
      ]
     },
     "metadata": {},
     "output_type": "display_data"
    },
    {
     "data": {
      "application/vnd.jupyter.widget-view+json": {
       "model_id": "383ea31032a5484684fff9dacf1c049b",
       "version_major": 2,
       "version_minor": 0
      },
      "text/plain": [
       "Tab(children=(Box(children=(Box(children=(Box(children=(Label(value='step'), IntSlider(value=1, min=-100)), la…"
      ]
     },
     "metadata": {},
     "output_type": "display_data"
    }
   ],
   "source": [
    "## View protein file\n",
    "protein_file_name = './structures/1a3n_chainA.pdb'\n",
    "u = md.Universe(protein_file_name)\n",
    "ng.show_mdanalysis(u, gui=True)"
   ]
  },
  {
   "cell_type": "code",
   "execution_count": 13,
   "id": "1f136ca5",
   "metadata": {},
   "outputs": [],
   "source": [
    "## Loading protein file\n",
    "protein_pdb = PDBFile(protein_file_name)\n",
    "\n",
    "## Choosing forcefield\n",
    "forcefield = ForceField('amber14-all.xml', 'amber14/tip3pfb.xml')\n",
    "\n",
    "# Create a combined system for the protein-ligand complex\n",
    "system = forcefield.createSystem(protein_pdb.topology, nonbondedMethod=PME,\n",
    "        nonbondedCutoff=1*nanometer, constraints=HBonds)\n",
    "\n",
    "## Set up integrator\n",
    "temperature = 300*kelvin\n",
    "frictionCoeff = 1/picosecond\n",
    "time_step = 0.002*picoseconds\n",
    "integrator = LangevinIntegrator(temperature, frictionCoeff, time_step)"
   ]
  },
  {
   "cell_type": "code",
   "execution_count": 14,
   "id": "ad319c09",
   "metadata": {},
   "outputs": [],
   "source": [
    "## Create a simulation object\n",
    "simulation = Simulation(protein_pdb.topology, system, integrator)"
   ]
  },
  {
   "cell_type": "code",
   "execution_count": 15,
   "id": "94efc5bf",
   "metadata": {},
   "outputs": [],
   "source": [
    "## Initialize the position and minimize energy\n",
    "simulation.context.setPositions(protein_pdb.positions)\n",
    "simulation.minimizeEnergy()\n",
    "\n",
    "## Set up reporters\n",
    "total_steps = 10000\n",
    "pdb_reporter = PDBReporter('./trajectories/traj.pdb', 1000)\n",
    "state_data_reporter = StateDataReporter(stdout, 500, step=True, potentialEnergy=True, temperature=True, progress=True, totalSteps = total_steps)\n",
    "simulation.reporters.append(pdb_reporter)\n",
    "simulation.reporters.append(state_data_reporter)"
   ]
  },
  {
   "cell_type": "code",
   "execution_count": 16,
   "id": "7f158bd8",
   "metadata": {
    "scrolled": true
   },
   "outputs": [
    {
     "name": "stdout",
     "output_type": "stream",
     "text": [
      "#\"Progress (%)\",\"Step\",\"Potential Energy (kJ/mole)\",\"Temperature (K)\"\n",
      "5.0%,500,-6558.61491509575,203.61059163668392\n",
      "10.0%,1000,-5283.66822167534,267.6868307665001\n",
      "15.0%,1500,-4982.782082759324,290.2755724430151\n",
      "20.0%,2000,-4862.232232295457,294.5129635471319\n",
      "25.0%,2500,-4732.769150935594,303.25771615203746\n",
      "30.0%,3000,-4984.721543513719,296.60428821484436\n",
      "35.0%,3500,-4901.82837792534,299.68421384288644\n",
      "40.0%,4000,-4860.081277095262,295.3039459142403\n",
      "45.0%,4500,-5048.871331416551,296.63507371361\n",
      "50.0%,5000,-5059.595559321824,297.5325592028337\n",
      "55.0%,5500,-5159.715707026902,304.65505829253357\n",
      "60.0%,6000,-5306.664864741746,300.5905853784555\n",
      "65.0%,6500,-5217.2457973589335,292.1925609475847\n",
      "70.0%,7000,-5176.90177270073,297.0801340746874\n",
      "75.0%,7500,-5021.870766841355,302.7135883744503\n",
      "80.0%,8000,-5113.5407192339335,303.9109910547425\n",
      "85.0%,8500,-5247.506661616746,302.1165048242047\n",
      "90.0%,9000,-5329.416253291551,306.27410442868376\n",
      "95.0%,9500,-4977.835732661668,303.21892738116696\n",
      "100.0%,10000,-5372.465813838426,298.456463104901\n"
     ]
    }
   ],
   "source": [
    "## Run simulation\n",
    "simulation.step(total_steps)"
   ]
  },
  {
   "cell_type": "code",
   "execution_count": 17,
   "id": "b2b5b656",
   "metadata": {},
   "outputs": [
    {
     "data": {
      "application/vnd.jupyter.widget-view+json": {
       "model_id": "b908a1aa04cf43aa9a3f9f12231d68cf",
       "version_major": 2,
       "version_minor": 0
      },
      "text/plain": [
       "NGLWidget(max_frame=9)"
      ]
     },
     "metadata": {},
     "output_type": "display_data"
    },
    {
     "data": {
      "application/vnd.jupyter.widget-view+json": {
       "model_id": "d578e7abd1c54e17bfa580f01715ad8b",
       "version_major": 2,
       "version_minor": 0
      },
      "text/plain": [
       "Tab(children=(Box(children=(Box(children=(Box(children=(Label(value='step'), IntSlider(value=1, min=-100)), la…"
      ]
     },
     "metadata": {},
     "output_type": "display_data"
    }
   ],
   "source": [
    "## Visualize the result\n",
    "sys = md.Universe(protein_file_name, './trajectories/traj.pdb')\n",
    "ng.show_mdanalysis(sys, gui=True)"
   ]
  },
  {
   "cell_type": "markdown",
   "id": "eb78446d",
   "metadata": {},
   "source": [
    " ### 3.4.2. Molecular Dynamics Simulation and Docking Software"
   ]
  },
  {
   "cell_type": "markdown",
   "id": "df8ac2aa",
   "metadata": {},
   "source": [
    "There are several free and user-friendly software tools with graphical user interfaces (GUIs) that are popular for molecular dynamics simulations:\n",
    "\n",
    "- **VMD (Visual Molecular Dynamics) & NAMD (Nanoscale Molecular Dynamics)**\n",
    "\n",
    "- **GROMACS**\n",
    "\n",
    "- **AmberTools**\n",
    "\n",
    "- **LAMMPS (Large-scale Atomic/Molecular Massively Parallel Simulator)**\n",
    "\n",
    "- **CHARMM-GUI**\n",
    "\n",
    "- **Molecular Operating Environment (MOE)**\n",
    "\n",
    "- **Desmond**\n",
    "\n",
    "These software tools cater to a range of user needs, from beginners to advanced users, and offer various features for setting up, running, and analyzing molecular dynamics simulations."
   ]
  },
  {
   "cell_type": "markdown",
   "id": "8279797d",
   "metadata": {},
   "source": [
    "Additionally, here are some other software that are focused on protein simulation, including protein-ligand interaction, docking, and related tasks:\n",
    "\n",
    "- **UCSF Chimera & ChimeraX**\n",
    "\n",
    "- **AutoDock and AutoDock Vina**\n",
    "\n",
    "- **AutodockTools**\n",
    "\n",
    "- **MGLTools**\n",
    "\n",
    "- **PyRx**\n",
    "\n",
    "- **SwissDock**\n",
    "\n",
    "- **LeDock**\n",
    "\n",
    "- **BIOVIA Discovery Studio**\n",
    "\n",
    "- **Maestro**"
   ]
  },
  {
   "cell_type": "code",
   "execution_count": null,
   "id": "682e686d",
   "metadata": {},
   "outputs": [],
   "source": []
  }
 ],
 "metadata": {
  "kernelspec": {
   "display_name": "Python 3 (ipykernel)",
   "language": "python",
   "name": "python3"
  },
  "language_info": {
   "codemirror_mode": {
    "name": "ipython",
    "version": 3
   },
   "file_extension": ".py",
   "mimetype": "text/x-python",
   "name": "python",
   "nbconvert_exporter": "python",
   "pygments_lexer": "ipython3",
   "version": "3.12.3"
  },
  "toc": {
   "base_numbering": "",
   "nav_menu": {},
   "number_sections": false,
   "sideBar": true,
   "skip_h1_title": false,
   "title_cell": "Table of Contents",
   "title_sidebar": "Table of Contents",
   "toc_cell": false,
   "toc_position": {
    "height": "calc(100% - 180px)",
    "left": "10px",
    "top": "150px",
    "width": "203px"
   },
   "toc_section_display": true,
   "toc_window_display": true
  }
 },
 "nbformat": 4,
 "nbformat_minor": 5
}
