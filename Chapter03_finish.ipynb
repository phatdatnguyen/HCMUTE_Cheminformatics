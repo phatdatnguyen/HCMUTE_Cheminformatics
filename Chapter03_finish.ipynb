{
 "cells": [
  {
   "cell_type": "markdown",
   "id": "ce2d6e30",
   "metadata": {},
   "source": [
    "# Chapter 3. Molecular Dynamics"
   ]
  },
  {
   "cell_type": "markdown",
   "id": "520d5d2e",
   "metadata": {},
   "source": [
    "Molecular Dynamics (MD) is a powerful computational technique used in the field of computational chemistry to simulate the time evolution of a molecular system. While the previous chapter introduced the concept of Molecular Mechanics, which focuses on static energy calculations and geometry optimization, Molecular Dynamics takes a dynamic approach by simulating how molecules move and interact over time.\n",
    "\n",
    "Molecular Dynamics has a wide range of applications in chemistry, biology, and materials science. It is used to study processes such as protein folding, ligand binding, chemical reactions, and material properties. By simulating the dynamic behavior of molecules, researchers can gain valuable insights into the structure, function, and properties of complex systems."
   ]
  },
  {
   "cell_type": "markdown",
   "id": "295a0f8f",
   "metadata": {},
   "source": [
    "## 3.1. Fundamentals of Molecular Dynamics"
   ]
  },
  {
   "cell_type": "markdown",
   "id": "59d740b7",
   "metadata": {},
   "source": [
    "### 3.1.1. Newton's Equations of Motion"
   ]
  },
  {
   "cell_type": "markdown",
   "id": "bada76cf",
   "metadata": {},
   "source": [
    "MD simulations are based on Newton's equations of motion, which describe how the positions and velocities of particles change in response to forces. By numerically solving these equations, MD simulations can provide insights into the dynamics and thermodynamics of a molecular system.\n",
    "\n",
    "Newton's Second Law of Motion:\n",
    "$$F = ma = m \\frac{d^2\\mathbf{r}}{dt^2}$$\n",
    "\n",
    "Where:\n",
    "- $F$ represents the force applied to an object.\n",
    "- $m$ represents the mass of the object.\n",
    "- $\\mathbf{r}$ is the position vector of the object.\n",
    "- $\\frac{d^2\\mathbf{r}}{dt^2}$ is the second derivative of the position vector with respect to time, representing acceleration.\n",
    "\n",
    "Beside that, we know the relationship between force and potential energy:\n",
    "\\$$F = -\\nabla E_{\\text{potential}}$$\n",
    "\n",
    "Where:\n",
    "- $F$ represents the force applied to an object.\n",
    "- $\\nabla$ represents the gradient operator.\n",
    "- $E_{\\text{potential}}$ represents the potential energy of the system.\n",
    "\n",
    "If one knows the forces acting upon the body, one can find the position of the body at any moment r(t), i.e. predict its dynamics. This can be done by solving Newton’s equation of motion. It is a second order ODE that can be solved analytically for a few simple cases: constant force, harmonic oscillator, periodic force, drag force, etc. However, a more general approach is to use computers in order to solve the ODE numerically."
   ]
  },
  {
   "cell_type": "markdown",
   "id": "58df9c37",
   "metadata": {},
   "source": [
    "### 3.1.2. Kinetic Energy"
   ]
  },
  {
   "cell_type": "markdown",
   "id": "2dbc81ee",
   "metadata": {},
   "source": [
    "The kinetic energy $(E_{\\text{kinetic}}$) of a molecular system can be calculated using the velocities of the particles (atoms) within the system. The kinetic energy is a measure of the energy associated with the motion of the particles and is typically calculated as:\n",
    "\n",
    "$$E_{\\text{kinetic}} = \\sum_{i} \\frac{1}{2} m_i v_i^2$$\n",
    "\n",
    "Where:\n",
    "- $E_{\\text{kinetic}}$ is the kinetic energy of the system.\n",
    "- $i$ represents individual particles (atoms) in the system.\n",
    "- $m_i$ is the mass of particle $i$.\n",
    "- $v_i$ is the velocity of particle $i$.\n",
    "\n",
    "In molecular mechanics simulations, the kinetic energy can be calculated based on the velocities of particles. It's important to note that molecular mechanics simulations often assume that atoms have classical kinetic energy, and their velocities are determined by temperature.\n",
    "\n",
    "To obtain the kinetic energy in molecular mechanics simulations, you typically need to perform a simulation that includes a description of the velocities of the particles. The kinetic energy is then calculated based on the velocities of the atoms during the simulation.\n",
    "\n",
    "It's worth mentioning that kinetic energy is a key component of the total energy of the system, and it is often used to calculate the temperature of the system through the equipartition theorem. In molecular mechanics simulations, the kinetic energy is not explicitly minimized or optimized, as it depends on the initial velocities of the particles and the simulation conditions."
   ]
  },
  {
   "cell_type": "markdown",
   "id": "2d6e53ba",
   "metadata": {},
   "source": [
    "### 3.1.3. Simulation of Dynamics of Particles"
   ]
  },
  {
   "cell_type": "markdown",
   "id": "be689ba0",
   "metadata": {},
   "source": [
    "There are many methods for solving ordinary differential equations (ODEs). The second-order ODE is transformed into a system of two first-order ODEs as follows:\n",
    "\n",
    "$$\\frac{dr(t)}{dt} = v(t)$$\n",
    "\n",
    "$$m\\frac{dv(t)}{dt} = F(t)$$\n",
    "\n",
    "We use a finite difference approximation that leads to a simple forward Euler algorithm:\n",
    "\n",
    "$$v_{n+1} = v_n + \\frac{F_n}{m} \\cdot \\Delta t$$\n",
    "\n",
    "$$r_{n+1} = r_n + v_{n+1} \\cdot \\Delta t$$\n",
    "\n",
    "Here we discretize time $t$ with a time step $\\Delta t$, so $t_{n+1} = t_n + \\Delta t$, and $r_n = r(t_n)$, $v_n = v(t_n)$, where $n$ is the timestep number. Using this method, computing dynamics is straightforward.\n",
    "\n",
    "In Molecular Dynamics, the positions and velocities of atoms within a molecular system are updated over discrete time steps (time evolution). The simulation proceeds in small time increments, allowing us to study the behavior of molecules in a dynamic and time-dependent manner."
   ]
  },
  {
   "cell_type": "markdown",
   "id": "68576094",
   "metadata": {},
   "source": [
    "## 3.2. Ensemble Simulations"
   ]
  },
  {
   "cell_type": "markdown",
   "id": "5c1bcbc6",
   "metadata": {},
   "source": [
    "In ensemble simulations, we explore the behavior of molecular systems by simulating them under different conditions. These simulations often fall into two main categories:\n",
    "\n",
    "   **Molecular Dynamics (MD) Simulations**: MD simulations involve solving equations of motion to evolve the system over time. They provide a dynamic view of the system's behavior, tracking how it changes as a function of time.\n",
    "\n",
    "   **Monte Carlo (MC) Simulations**: In contrast to MD simulations, MC simulations focus on sampling different configurations of the system in a probabilistic manner. Rather than evolving the system over time, MC simulations make random moves to explore various states and configurations. This approach is particularly useful for systems in which changes occur less frequently or when configurational changes are of interest.\n",
    "\n",
    "While MD simulations are well-suited for studying dynamic processes, MC simulations are valuable for exploring the equilibrium properties and thermodynamics of a system. Both techniques play essential roles in understanding molecular behavior and are valuable tools in computational chemistry.\n",
    "\n",
    "MD simulations are powerful tools for sampling different conformations and properties of a molecular system. By averaging over the trajectories of multiple simulations, we can compute various thermodynamic and structural properties, such as diffusion coefficients, radial distribution functions, and thermodynamic quantities."
   ]
  },
  {
   "cell_type": "markdown",
   "id": "515b8674",
   "metadata": {},
   "source": [
    "## 3.3. Molecule Dynamics Simulation"
   ]
  },
  {
   "cell_type": "markdown",
   "id": "f88c70ff",
   "metadata": {},
   "source": [
    "In the following section, we will run molecular dynamics simulation using [openmm](https://openmm.org/). To install openmm, run the following command:"
   ]
  },
  {
   "cell_type": "code",
   "execution_count": null,
   "id": "1ec1eb5c",
   "metadata": {},
   "outputs": [],
   "source": [
    "!conda install -c conda-forge openmm"
   ]
  },
  {
   "cell_type": "markdown",
   "id": "fa9bf611",
   "metadata": {},
   "source": [
    "### 3.4.1. Gas Phase Simulation"
   ]
  },
  {
   "cell_type": "markdown",
   "id": "2fade306",
   "metadata": {},
   "source": [
    "In the following section, we will simulate the dynamics of ethane molecules in the gas phase using OpenMM. The gas phase simulation allows us to observe the behavior of individual molecules as they move and interact:"
   ]
  },
  {
   "cell_type": "code",
   "execution_count": 1,
   "id": "927b7ce6",
   "metadata": {},
   "outputs": [],
   "source": [
    "# Import modules\n",
    "import numpy as np\n",
    "from rdkit import Chem\n",
    "from rdkit.Chem import AllChem\n",
    "import openmm\n",
    "from openmm import unit\n",
    "from openmm.app import PDBFile, PDBReporter, StateDataReporter\n",
    "from openmm.app.element import Element\n",
    "from utils import View3DModel\n",
    "import py3Dmol"
   ]
  },
  {
   "cell_type": "code",
   "execution_count": 2,
   "id": "ec59587d-2b44-461e-ae5f-447144981cc2",
   "metadata": {},
   "outputs": [
    {
     "data": {
      "application/3dmoljs_load.v0": "<div id=\"3dmolviewer_1717486591052621\"  style=\"position: relative; width: 800px; height: 400px;\">\n        <p id=\"3dmolwarning_1717486591052621\" style=\"background-color:#ffcccc;color:black\">3Dmol.js failed to load for some reason.  Please check your browser console for error messages.<br></p>\n        </div>\n<script>\n\nvar loadScriptAsync = function(uri){\n  return new Promise((resolve, reject) => {\n    //this is to ignore the existence of requirejs amd\n    var savedexports, savedmodule;\n    if (typeof exports !== 'undefined') savedexports = exports;\n    else exports = {}\n    if (typeof module !== 'undefined') savedmodule = module;\n    else module = {}\n\n    var tag = document.createElement('script');\n    tag.src = uri;\n    tag.async = true;\n    tag.onload = () => {\n        exports = savedexports;\n        module = savedmodule;\n        resolve();\n    };\n  var firstScriptTag = document.getElementsByTagName('script')[0];\n  firstScriptTag.parentNode.insertBefore(tag, firstScriptTag);\n});\n};\n\nif(typeof $3Dmolpromise === 'undefined') {\n$3Dmolpromise = null;\n  $3Dmolpromise = loadScriptAsync('https://cdnjs.cloudflare.com/ajax/libs/3Dmol/2.1.0/3Dmol-min.js');\n}\n\nvar viewer_1717486591052621 = null;\nvar warn = document.getElementById(\"3dmolwarning_1717486591052621\");\nif(warn) {\n    warn.parentNode.removeChild(warn);\n}\n$3Dmolpromise.then(function() {\nviewer_1717486591052621 = $3Dmol.createViewer(document.getElementById(\"3dmolviewer_1717486591052621\"),{backgroundColor:\"white\"});\nviewer_1717486591052621.zoomTo();\n\tviewer_1717486591052621.addModel(\"\\n     RDKit          3D\\n\\n  8  7  0  0  0  0  0  0  0  0999 V2000\\n   -0.7594    0.0081   -0.0150 C   0  0  0  0  0  0  0  0  0  0  0  0\\n    0.7594   -0.0081    0.0150 C   0  0  0  0  0  0  0  0  0  0  0  0\\n   -1.1574   -0.1050    1.0154 H   0  0  0  0  0  0  0  0  0  0  0  0\\n   -1.1173    0.9696   -0.4398 H   0  0  0  0  0  0  0  0  0  0  0  0\\n   -1.1324   -0.8283   -0.6429 H   0  0  0  0  0  0  0  0  0  0  0  0\\n    1.1324    0.8283    0.6429 H   0  0  0  0  0  0  0  0  0  0  0  0\\n    1.1574    0.1050   -1.0154 H   0  0  0  0  0  0  0  0  0  0  0  0\\n    1.1173   -0.9696    0.4398 H   0  0  0  0  0  0  0  0  0  0  0  0\\n  1  2  1  0\\n  1  3  1  0\\n  1  4  1  0\\n  1  5  1  0\\n  2  6  1  0\\n  2  7  1  0\\n  2  8  1  0\\nM  END\\n\",\"molecule\",{\"keepH\": true});\n\tviewer_1717486591052621.setBackgroundColor(\"white\");\n\tviewer_1717486591052621.setStyle({\"stick\": {\"scale\": 0.3}, \"sphere\": {\"scale\": 0.3}});\n\tviewer_1717486591052621.zoomTo();\nviewer_1717486591052621.render();\n});\n</script>",
      "text/html": [
       "<div id=\"3dmolviewer_1717486591052621\"  style=\"position: relative; width: 800px; height: 400px;\">\n",
       "        <p id=\"3dmolwarning_1717486591052621\" style=\"background-color:#ffcccc;color:black\">3Dmol.js failed to load for some reason.  Please check your browser console for error messages.<br></p>\n",
       "        </div>\n",
       "<script>\n",
       "\n",
       "var loadScriptAsync = function(uri){\n",
       "  return new Promise((resolve, reject) => {\n",
       "    //this is to ignore the existence of requirejs amd\n",
       "    var savedexports, savedmodule;\n",
       "    if (typeof exports !== 'undefined') savedexports = exports;\n",
       "    else exports = {}\n",
       "    if (typeof module !== 'undefined') savedmodule = module;\n",
       "    else module = {}\n",
       "\n",
       "    var tag = document.createElement('script');\n",
       "    tag.src = uri;\n",
       "    tag.async = true;\n",
       "    tag.onload = () => {\n",
       "        exports = savedexports;\n",
       "        module = savedmodule;\n",
       "        resolve();\n",
       "    };\n",
       "  var firstScriptTag = document.getElementsByTagName('script')[0];\n",
       "  firstScriptTag.parentNode.insertBefore(tag, firstScriptTag);\n",
       "});\n",
       "};\n",
       "\n",
       "if(typeof $3Dmolpromise === 'undefined') {\n",
       "$3Dmolpromise = null;\n",
       "  $3Dmolpromise = loadScriptAsync('https://cdnjs.cloudflare.com/ajax/libs/3Dmol/2.1.0/3Dmol-min.js');\n",
       "}\n",
       "\n",
       "var viewer_1717486591052621 = null;\n",
       "var warn = document.getElementById(\"3dmolwarning_1717486591052621\");\n",
       "if(warn) {\n",
       "    warn.parentNode.removeChild(warn);\n",
       "}\n",
       "$3Dmolpromise.then(function() {\n",
       "viewer_1717486591052621 = $3Dmol.createViewer(document.getElementById(\"3dmolviewer_1717486591052621\"),{backgroundColor:\"white\"});\n",
       "viewer_1717486591052621.zoomTo();\n",
       "\tviewer_1717486591052621.addModel(\"\\n     RDKit          3D\\n\\n  8  7  0  0  0  0  0  0  0  0999 V2000\\n   -0.7594    0.0081   -0.0150 C   0  0  0  0  0  0  0  0  0  0  0  0\\n    0.7594   -0.0081    0.0150 C   0  0  0  0  0  0  0  0  0  0  0  0\\n   -1.1574   -0.1050    1.0154 H   0  0  0  0  0  0  0  0  0  0  0  0\\n   -1.1173    0.9696   -0.4398 H   0  0  0  0  0  0  0  0  0  0  0  0\\n   -1.1324   -0.8283   -0.6429 H   0  0  0  0  0  0  0  0  0  0  0  0\\n    1.1324    0.8283    0.6429 H   0  0  0  0  0  0  0  0  0  0  0  0\\n    1.1574    0.1050   -1.0154 H   0  0  0  0  0  0  0  0  0  0  0  0\\n    1.1173   -0.9696    0.4398 H   0  0  0  0  0  0  0  0  0  0  0  0\\n  1  2  1  0\\n  1  3  1  0\\n  1  4  1  0\\n  1  5  1  0\\n  2  6  1  0\\n  2  7  1  0\\n  2  8  1  0\\nM  END\\n\",\"molecule\",{\"keepH\": true});\n",
       "\tviewer_1717486591052621.setBackgroundColor(\"white\");\n",
       "\tviewer_1717486591052621.setStyle({\"stick\": {\"scale\": 0.3}, \"sphere\": {\"scale\": 0.3}});\n",
       "\tviewer_1717486591052621.zoomTo();\n",
       "viewer_1717486591052621.render();\n",
       "});\n",
       "</script>"
      ]
     },
     "metadata": {},
     "output_type": "display_data"
    }
   ],
   "source": [
    "# Create a molecule of ethane and optimizer its geometry\n",
    "ethane_smiles = 'CC'\n",
    "ethane_mol = Chem.MolFromSmiles(ethane_smiles)\n",
    "ethane_mol = Chem.AddHs(ethane_mol)\n",
    "AllChem.EmbedMolecule(ethane_mol)\n",
    "AllChem.UFFOptimizeMolecule(ethane_mol, maxIters=200)\n",
    "\n",
    "# View 3D model\n",
    "View3DModel(ethane_mol)"
   ]
  },
  {
   "cell_type": "code",
   "execution_count": 3,
   "id": "fe728c06-f65e-4b5e-ac41-8d18448d0fdb",
   "metadata": {},
   "outputs": [],
   "source": [
    "# Save the molecule as PDB file\n",
    "Chem.MolToPDBFile(ethane_mol, '.\\\\structures\\\\ethane.pdb')\n",
    "\n",
    "# Load PDB file\n",
    "ethane_pdbfile = PDBFile('.\\\\structures\\\\ethane.pdb')"
   ]
  },
  {
   "cell_type": "code",
   "execution_count": 4,
   "id": "7edcecd7-0382-440a-b5fa-2bdc2f290e53",
   "metadata": {},
   "outputs": [],
   "source": [
    "# Create an OpenMM system\n",
    "system = openmm.System()\n",
    "\n",
    "# Create atoms and set their masses\n",
    "for atom in ethane_mol.GetAtoms():\n",
    "    symbol = atom.GetSymbol()\n",
    "    mass = Element.getBySymbol(symbol).mass\n",
    "    system.addParticle(mass)"
   ]
  },
  {
   "cell_type": "code",
   "execution_count": 5,
   "id": "682ba969",
   "metadata": {},
   "outputs": [],
   "source": [
    "# Define the and simulation box size and set up a periodic boundary condition (PBC)\n",
    "box_size = 1.0 * unit.angstroms  # Simulation box size\n",
    "system.setDefaultPeriodicBoxVectors((box_size, 0, 0), (0, box_size, 0), (0, 0, box_size))\n",
    "\n",
    "# Create an OpenMM integrator\n",
    "temperature = 300 * unit.kelvin\n",
    "collision_rate = 1.0 / unit.picoseconds\n",
    "timestep = 2.0 * unit.femtoseconds\n",
    "integrator = openmm.LangevinIntegrator(temperature, collision_rate, timestep)\n",
    "\n",
    "# Create an OpenMM simulation\n",
    "simulation = openmm.app.Simulation(ethane_pdbfile.topology, system, integrator)"
   ]
  },
  {
   "cell_type": "code",
   "execution_count": 6,
   "id": "d4592083",
   "metadata": {},
   "outputs": [],
   "source": [
    "# Set positions based on the initial geometry\n",
    "positions = []\n",
    "conf = ethane_mol.GetConformer()\n",
    "for i, atom in enumerate(ethane_mol.GetAtoms()):\n",
    "    x, y, z = conf.GetAtomPosition(i)\n",
    "    positions.append((float(x), float(y), float(z)) * unit.angstroms)\n",
    "        \n",
    "simulation.context.setPositions(positions)\n",
    "simulation.context.setVelocitiesToTemperature(temperature)"
   ]
  },
  {
   "cell_type": "code",
   "execution_count": 7,
   "id": "e2817d7e",
   "metadata": {},
   "outputs": [],
   "source": [
    "# Run the MD simulation for a defined number of steps\n",
    "total_steps = 50  # Number of MD steps\n",
    "potential_energies = []\n",
    "kinetic_energies = []\n",
    "trajectory = ''\n",
    "for step_idx in range(total_steps):\n",
    "    integrator.step(1)\n",
    "    \n",
    "    state = simulation.context.getState(getPositions=True, getEnergy=True)\n",
    "    potential_energies.append(state.getPotentialEnergy().value_in_unit(state.getPotentialEnergy().unit))\n",
    "    kinetic_energies.append(state.getKineticEnergy().value_in_unit(state.getKineticEnergy().unit))\n",
    "    \n",
    "    # Save trajectory\n",
    "    positions = state.getPositions(asNumpy=True)\n",
    "    conf = ethane_mol.GetConformer()\n",
    "    for i, position in enumerate(positions):\n",
    "        position = position * 10 # nn to angstrom\n",
    "        conf.SetAtomPosition(i, position.tolist())\n",
    "    trajectory += \"MODEL     {:4d}\\n\".format(step_idx + 1)\n",
    "    trajectory += Chem.MolToPDBBlock(ethane_mol)\n",
    "    trajectory += \"ENDMDL\\n\""
   ]
  },
  {
   "cell_type": "code",
   "execution_count": 8,
   "id": "0bf3f437",
   "metadata": {},
   "outputs": [
    {
     "data": {
      "text/plain": [
       "Text(0, 0.5, 'Energy (kJ)')"
      ]
     },
     "execution_count": 8,
     "metadata": {},
     "output_type": "execute_result"
    },
    {
     "data": {
      "image/png": "[encoded data removed]",
      "text/plain": [
       "<Figure size 640x480 with 1 Axes>"
      ]
     },
     "metadata": {},
     "output_type": "display_data"
    }
   ],
   "source": [
    "# Visualize the potential and kinetic energy\n",
    "import matplotlib.pyplot as plt\n",
    "\n",
    "plt.plot(potential_energies, label='potential_energies')\n",
    "plt.plot(kinetic_energies, label='kinetic_energies')\n",
    "plt.legend()\n",
    "plt.xlabel('Step')\n",
    "plt.ylabel('Energy (kJ)')"
   ]
  },
  {
   "cell_type": "code",
   "execution_count": 9,
   "id": "03b2881e-27c7-460e-bf63-42d6eedb3d29",
   "metadata": {},
   "outputs": [
    {
     "data": {
      "application/3dmoljs_load.v0": "<div id=\"3dmolviewer_1717486592615551\"  style=\"position: relative; width: 400px; height: 300px;\">\n        <p id=\"3dmolwarning_1717486592615551\" style=\"background-color:#ffcccc;color:black\">3Dmol.js failed to load for some reason.  Please check your browser console for error messages.<br></p>\n        </div>\n<script>\n\nvar loadScriptAsync = function(uri){\n  return new Promise((resolve, reject) => {\n    //this is to ignore the existence of requirejs amd\n    var savedexports, savedmodule;\n    if (typeof exports !== 'undefined') savedexports = exports;\n    else exports = {}\n    if (typeof module !== 'undefined') savedmodule = module;\n    else module = {}\n\n    var tag = document.createElement('script');\n    tag.src = uri;\n    tag.async = true;\n    tag.onload = () => {\n        exports = savedexports;\n        module = savedmodule;\n        resolve();\n    };\n  var firstScriptTag = document.getElementsByTagName('script')[0];\n  firstScriptTag.parentNode.insertBefore(tag, firstScriptTag);\n});\n};\n\nif(typeof $3Dmolpromise === 'undefined') {\n$3Dmolpromise = null;\n  $3Dmolpromise = loadScriptAsync('https://cdnjs.cloudflare.com/ajax/libs/3Dmol/2.1.0/3Dmol-min.js');\n}\n\nvar viewer_1717486592615551 = null;\nvar warn = document.getElementById(\"3dmolwarning_1717486592615551\");\nif(warn) {\n    warn.parentNode.removeChild(warn);\n}\n$3Dmolpromise.then(function() {\nviewer_1717486592615551 = $3Dmol.createViewer(document.getElementById(\"3dmolviewer_1717486592615551\"),{backgroundColor:\"white\"});\nviewer_1717486592615551.zoomTo();\n\tviewer_1717486592615551.addModelsAsFrames(\"MODEL        1\\nHETATM    1  C1  UNL     1      -0.772  -0.005  -0.028  1.00  0.00           C  \\nHETATM    2  C2  UNL     1       0.772   0.005   0.028  1.00  0.00           C  \\nHETATM    3  H1  UNL     1      -1.107  -0.059   1.063  1.00  0.00           H  \\nHETATM    4  H2  UNL     1      -1.111   0.970  -0.433  1.00  0.00           H  \\nHETATM    5  H3  UNL     1      -1.168  -0.860  -0.681  1.00  0.00           H  \\nHETATM    6  H4  UNL     1       1.143   0.838   0.654  1.00  0.00           H  \\nHETATM    7  H5  UNL     1       1.188   0.138  -0.984  1.00  0.00           H  \\nHETATM    8  H6  UNL     1       1.128  -0.961   0.445  1.00  0.00           H  \\nCONECT    1    2    3    4    5\\nCONECT    2    6    7    8\\nEND\\nENDMDL\\nMODEL        2\\nHETATM    1  C1  UNL     1      -0.785  -0.019  -0.042  1.00  0.00           C  \\nHETATM    2  C2  UNL     1       0.785   0.018   0.042  1.00  0.00           C  \\nHETATM    3  H1  UNL     1      -1.058  -0.015   1.113  1.00  0.00           H  \\nHETATM    4  H2  UNL     1      -1.106   0.966  -0.427  1.00  0.00           H  \\nHETATM    5  H3  UNL     1      -1.202  -0.893  -0.723  1.00  0.00           H  \\nHETATM    6  H4  UNL     1       1.152   0.848   0.662  1.00  0.00           H  \\nHETATM    7  H5  UNL     1       1.220   0.169  -0.956  1.00  0.00           H  \\nHETATM    8  H6  UNL     1       1.136  -0.954   0.448  1.00  0.00           H  \\nCONECT    1    2    3    4    5\\nCONECT    2    6    7    8\\nEND\\nENDMDL\\nMODEL        3\\nHETATM    1  C1  UNL     1      -0.800  -0.034  -0.055  1.00  0.00           C  \\nHETATM    2  C2  UNL     1       0.798   0.032   0.054  1.00  0.00           C  \\nHETATM    3  H1  UNL     1      -1.009   0.030   1.165  1.00  0.00           H  \\nHETATM    4  H2  UNL     1      -1.099   0.962  -0.420  1.00  0.00           H  \\nHETATM    5  H3  UNL     1      -1.238  -0.923  -0.766  1.00  0.00           H  \\nHETATM    6  H4  UNL     1       1.162   0.857   0.668  1.00  0.00           H  \\nHETATM    7  H5  UNL     1       1.251   0.199  -0.925  1.00  0.00           H  \\nHETATM    8  H6  UNL     1       1.143  -0.946   0.450  1.00  0.00           H  \\nCONECT    1    2    3    4    5\\nCONECT    2    6    7    8\\nEND\\nENDMDL\\nMODEL        4\\nHETATM    1  C1  UNL     1      -0.813  -0.048  -0.068  1.00  0.00           C  \\nHETATM    2  C2  UNL     1       0.811   0.046   0.068  1.00  0.00           C  \\nHETATM    3  H1  UNL     1      -0.963   0.075   1.218  1.00  0.00           H  \\nHETATM    4  H2  UNL     1      -1.091   0.961  -0.413  1.00  0.00           H  \\nHETATM    5  H3  UNL     1      -1.272  -0.953  -0.807  1.00  0.00           H  \\nHETATM    6  H4  UNL     1       1.171   0.867   0.673  1.00  0.00           H  \\nHETATM    7  H5  UNL     1       1.279   0.228  -0.893  1.00  0.00           H  \\nHETATM    8  H6  UNL     1       1.151  -0.938   0.453  1.00  0.00           H  \\nCONECT    1    2    3    4    5\\nCONECT    2    6    7    8\\nEND\\nENDMDL\\nMODEL        5\\nHETATM    1  C1  UNL     1      -0.825  -0.064  -0.080  1.00  0.00           C  \\nHETATM    2  C2  UNL     1       0.824   0.059   0.080  1.00  0.00           C  \\nHETATM    3  H1  UNL     1      -0.917   0.123   1.272  1.00  0.00           H  \\nHETATM    4  H2  UNL     1      -1.083   0.959  -0.411  1.00  0.00           H  \\nHETATM    5  H3  UNL     1      -1.304  -0.980  -0.850  1.00  0.00           H  \\nHETATM    6  H4  UNL     1       1.178   0.880   0.677  1.00  0.00           H  \\nHETATM    7  H5  UNL     1       1.305   0.254  -0.860  1.00  0.00           H  \\nHETATM    8  H6  UNL     1       1.156  -0.930   0.455  1.00  0.00           H  \\nCONECT    1    2    3    4    5\\nCONECT    2    6    7    8\\nEND\\nENDMDL\\nMODEL        6\\nHETATM    1  C1  UNL     1      -0.837  -0.079  -0.092  1.00  0.00           C  \\nHETATM    2  C2  UNL     1       0.838   0.073   0.092  1.00  0.00           C  \\nHETATM    3  H1  UNL     1      -0.875   0.173   1.328  1.00  0.00           H  \\nHETATM    4  H2  UNL     1      -1.078   0.956  -0.406  1.00  0.00           H  \\nHETATM    5  H3  UNL     1      -1.331  -1.004  -0.889  1.00  0.00           H  \\nHETATM    6  H4  UNL     1       1.187   0.890   0.685  1.00  0.00           H  \\nHETATM    7  H5  UNL     1       1.331   0.279  -0.826  1.00  0.00           H  \\nHETATM    8  H6  UNL     1       1.159  -0.923   0.452  1.00  0.00           H  \\nCONECT    1    2    3    4    5\\nCONECT    2    6    7    8\\nEND\\nENDMDL\\nMODEL        7\\nHETATM    1  C1  UNL     1      -0.849  -0.094  -0.104  1.00  0.00           C  \\nHETATM    2  C2  UNL     1       0.852   0.086   0.104  1.00  0.00           C  \\nHETATM    3  H1  UNL     1      -0.829   0.222   1.385  1.00  0.00           H  \\nHETATM    4  H2  UNL     1      -1.071   0.948  -0.399  1.00  0.00           H  \\nHETATM    5  H3  UNL     1      -1.355  -1.031  -0.926  1.00  0.00           H  \\nHETATM    6  H4  UNL     1       1.195   0.901   0.694  1.00  0.00           H  \\nHETATM    7  H5  UNL     1       1.356   0.306  -0.790  1.00  0.00           H  \\nHETATM    8  H6  UNL     1       1.162  -0.913   0.448  1.00  0.00           H  \\nCONECT    1    2    3    4    5\\nCONECT    2    6    7    8\\nEND\\nENDMDL\\nMODEL        8\\nHETATM    1  C1  UNL     1      -0.861  -0.109  -0.116  1.00  0.00           C  \\nHETATM    2  C2  UNL     1       0.866   0.098   0.116  1.00  0.00           C  \\nHETATM    3  H1  UNL     1      -0.780   0.272   1.443  1.00  0.00           H  \\nHETATM    4  H2  UNL     1      -1.060   0.935  -0.389  1.00  0.00           H  \\nHETATM    5  H3  UNL     1      -1.379  -1.057  -0.965  1.00  0.00           H  \\nHETATM    6  H4  UNL     1       1.204   0.913   0.704  1.00  0.00           H  \\nHETATM    7  H5  UNL     1       1.382   0.331  -0.752  1.00  0.00           H  \\nHETATM    8  H6  UNL     1       1.165  -0.903   0.446  1.00  0.00           H  \\nCONECT    1    2    3    4    5\\nCONECT    2    6    7    8\\nEND\\nENDMDL\\nMODEL        9\\nHETATM    1  C1  UNL     1      -0.873  -0.124  -0.127  1.00  0.00           C  \\nHETATM    2  C2  UNL     1       0.879   0.110   0.127  1.00  0.00           C  \\nHETATM    3  H1  UNL     1      -0.731   0.326   1.500  1.00  0.00           H  \\nHETATM    4  H2  UNL     1      -1.047   0.924  -0.378  1.00  0.00           H  \\nHETATM    5  H3  UNL     1      -1.402  -1.084  -1.006  1.00  0.00           H  \\nHETATM    6  H4  UNL     1       1.214   0.920   0.715  1.00  0.00           H  \\nHETATM    7  H5  UNL     1       1.406   0.356  -0.714  1.00  0.00           H  \\nHETATM    8  H6  UNL     1       1.171  -0.895   0.444  1.00  0.00           H  \\nCONECT    1    2    3    4    5\\nCONECT    2    6    7    8\\nEND\\nENDMDL\\nMODEL       10\\nHETATM    1  C1  UNL     1      -0.883  -0.139  -0.139  1.00  0.00           C  \\nHETATM    2  C2  UNL     1       0.892   0.122   0.138  1.00  0.00           C  \\nHETATM    3  H1  UNL     1      -0.683   0.384   1.561  1.00  0.00           H  \\nHETATM    4  H2  UNL     1      -1.037   0.908  -0.365  1.00  0.00           H  \\nHETATM    5  H3  UNL     1      -1.424  -1.113  -1.049  1.00  0.00           H  \\nHETATM    6  H4  UNL     1       1.223   0.929   0.726  1.00  0.00           H  \\nHETATM    7  H5  UNL     1       1.429   0.382  -0.678  1.00  0.00           H  \\nHETATM    8  H6  UNL     1       1.176  -0.887   0.441  1.00  0.00           H  \\nCONECT    1    2    3    4    5\\nCONECT    2    6    7    8\\nEND\\nENDMDL\\nMODEL       11\\nHETATM    1  C1  UNL     1      -0.893  -0.153  -0.150  1.00  0.00           C  \\nHETATM    2  C2  UNL     1       0.905   0.134   0.149  1.00  0.00           C  \\nHETATM    3  H1  UNL     1      -0.635   0.441   1.621  1.00  0.00           H  \\nHETATM    4  H2  UNL     1      -1.023   0.893  -0.353  1.00  0.00           H  \\nHETATM    5  H3  UNL     1      -1.449  -1.144  -1.091  1.00  0.00           H  \\nHETATM    6  H4  UNL     1       1.231   0.936   0.734  1.00  0.00           H  \\nHETATM    7  H5  UNL     1       1.451   0.409  -0.647  1.00  0.00           H  \\nHETATM    8  H6  UNL     1       1.176  -0.880   0.439  1.00  0.00           H  \\nCONECT    1    2    3    4    5\\nCONECT    2    6    7    8\\nEND\\nENDMDL\\nMODEL       12\\nHETATM    1  C1  UNL     1      -0.903  -0.166  -0.161  1.00  0.00           C  \\nHETATM    2  C2  UNL     1       0.918   0.147   0.160  1.00  0.00           C  \\nHETATM    3  H1  UNL     1      -0.584   0.497   1.682  1.00  0.00           H  \\nHETATM    4  H2  UNL     1      -1.009   0.877  -0.344  1.00  0.00           H  \\nHETATM    5  H3  UNL     1      -1.474  -1.177  -1.131  1.00  0.00           H  \\nHETATM    6  H4  UNL     1       1.241   0.945   0.741  1.00  0.00           H  \\nHETATM    7  H5  UNL     1       1.471   0.434  -0.617  1.00  0.00           H  \\nHETATM    8  H6  UNL     1       1.178  -0.869   0.437  1.00  0.00           H  \\nCONECT    1    2    3    4    5\\nCONECT    2    6    7    8\\nEND\\nENDMDL\\nMODEL       13\\nHETATM    1  C1  UNL     1      -0.912  -0.179  -0.171  1.00  0.00           C  \\nHETATM    2  C2  UNL     1       0.933   0.159   0.172  1.00  0.00           C  \\nHETATM    3  H1  UNL     1      -0.534   0.552   1.741  1.00  0.00           H  \\nHETATM    4  H2  UNL     1      -0.995   0.862  -0.331  1.00  0.00           H  \\nHETATM    5  H3  UNL     1      -1.504  -1.208  -1.171  1.00  0.00           H  \\nHETATM    6  H4  UNL     1       1.250   0.950   0.747  1.00  0.00           H  \\nHETATM    7  H5  UNL     1       1.491   0.458  -0.590  1.00  0.00           H  \\nHETATM    8  H6  UNL     1       1.178  -0.859   0.430  1.00  0.00           H  \\nCONECT    1    2    3    4    5\\nCONECT    2    6    7    8\\nEND\\nENDMDL\\nMODEL       14\\nHETATM    1  C1  UNL     1      -0.921  -0.192  -0.181  1.00  0.00           C  \\nHETATM    2  C2  UNL     1       0.946   0.172   0.183  1.00  0.00           C  \\nHETATM    3  H1  UNL     1      -0.483   0.608   1.803  1.00  0.00           H  \\nHETATM    4  H2  UNL     1      -0.979   0.845  -0.322  1.00  0.00           H  \\nHETATM    5  H3  UNL     1      -1.533  -1.240  -1.212  1.00  0.00           H  \\nHETATM    6  H4  UNL     1       1.258   0.950   0.756  1.00  0.00           H  \\nHETATM    7  H5  UNL     1       1.510   0.486  -0.562  1.00  0.00           H  \\nHETATM    8  H6  UNL     1       1.176  -0.848   0.425  1.00  0.00           H  \\nCONECT    1    2    3    4    5\\nCONECT    2    6    7    8\\nEND\\nENDMDL\\nMODEL       15\\nHETATM    1  C1  UNL     1      -0.929  -0.206  -0.191  1.00  0.00           C  \\nHETATM    2  C2  UNL     1       0.960   0.184   0.194  1.00  0.00           C  \\nHETATM    3  H1  UNL     1      -0.432   0.663   1.865  1.00  0.00           H  \\nHETATM    4  H2  UNL     1      -0.961   0.831  -0.314  1.00  0.00           H  \\nHETATM    5  H3  UNL     1      -1.564  -1.273  -1.252  1.00  0.00           H  \\nHETATM    6  H4  UNL     1       1.262   0.953   0.765  1.00  0.00           H  \\nHETATM    7  H5  UNL     1       1.527   0.510  -0.531  1.00  0.00           H  \\nHETATM    8  H6  UNL     1       1.172  -0.835   0.421  1.00  0.00           H  \\nCONECT    1    2    3    4    5\\nCONECT    2    6    7    8\\nEND\\nENDMDL\\nMODEL       16\\nHETATM    1  C1  UNL     1      -0.938  -0.220  -0.202  1.00  0.00           C  \\nHETATM    2  C2  UNL     1       0.975   0.197   0.205  1.00  0.00           C  \\nHETATM    3  H1  UNL     1      -0.384   0.719   1.929  1.00  0.00           H  \\nHETATM    4  H2  UNL     1      -0.942   0.815  -0.308  1.00  0.00           H  \\nHETATM    5  H3  UNL     1      -1.596  -1.307  -1.294  1.00  0.00           H  \\nHETATM    6  H4  UNL     1       1.265   0.955   0.773  1.00  0.00           H  \\nHETATM    7  H5  UNL     1       1.543   0.535  -0.500  1.00  0.00           H  \\nHETATM    8  H6  UNL     1       1.172  -0.818   0.417  1.00  0.00           H  \\nCONECT    1    2    3    4    5\\nCONECT    2    6    7    8\\nEND\\nENDMDL\\nMODEL       17\\nHETATM    1  C1  UNL     1      -0.948  -0.233  -0.213  1.00  0.00           C  \\nHETATM    2  C2  UNL     1       0.989   0.209   0.214  1.00  0.00           C  \\nHETATM    3  H1  UNL     1      -0.338   0.771   1.993  1.00  0.00           H  \\nHETATM    4  H2  UNL     1      -0.925   0.798  -0.305  1.00  0.00           H  \\nHETATM    5  H3  UNL     1      -1.624  -1.345  -1.334  1.00  0.00           H  \\nHETATM    6  H4  UNL     1       1.267   0.955   0.775  1.00  0.00           H  \\nHETATM    7  H5  UNL     1       1.559   0.563  -0.467  1.00  0.00           H  \\nHETATM    8  H6  UNL     1       1.174  -0.801   0.411  1.00  0.00           H  \\nCONECT    1    2    3    4    5\\nCONECT    2    6    7    8\\nEND\\nENDMDL\\nMODEL       18\\nHETATM    1  C1  UNL     1      -0.957  -0.247  -0.224  1.00  0.00           C  \\nHETATM    2  C2  UNL     1       1.004   0.222   0.223  1.00  0.00           C  \\nHETATM    3  H1  UNL     1      -0.291   0.826   2.059  1.00  0.00           H  \\nHETATM    4  H2  UNL     1      -0.911   0.782  -0.303  1.00  0.00           H  \\nHETATM    5  H3  UNL     1      -1.653  -1.384  -1.375  1.00  0.00           H  \\nHETATM    6  H4  UNL     1       1.270   0.952   0.784  1.00  0.00           H  \\nHETATM    7  H5  UNL     1       1.576   0.589  -0.432  1.00  0.00           H  \\nHETATM    8  H6  UNL     1       1.176  -0.784   0.407  1.00  0.00           H  \\nCONECT    1    2    3    4    5\\nCONECT    2    6    7    8\\nEND\\nENDMDL\\nMODEL       19\\nHETATM    1  C1  UNL     1      -0.966  -0.261  -0.236  1.00  0.00           C  \\nHETATM    2  C2  UNL     1       1.019   0.235   0.232  1.00  0.00           C  \\nHETATM    3  H1  UNL     1      -0.244   0.883   2.126  1.00  0.00           H  \\nHETATM    4  H2  UNL     1      -0.893   0.765  -0.302  1.00  0.00           H  \\nHETATM    5  H3  UNL     1      -1.682  -1.420  -1.414  1.00  0.00           H  \\nHETATM    6  H4  UNL     1       1.272   0.949   0.793  1.00  0.00           H  \\nHETATM    7  H5  UNL     1       1.591   0.616  -0.398  1.00  0.00           H  \\nHETATM    8  H6  UNL     1       1.177  -0.767   0.405  1.00  0.00           H  \\nCONECT    1    2    3    4    5\\nCONECT    2    6    7    8\\nEND\\nENDMDL\\nMODEL       20\\nHETATM    1  C1  UNL     1      -0.975  -0.276  -0.247  1.00  0.00           C  \\nHETATM    2  C2  UNL     1       1.034   0.247   0.241  1.00  0.00           C  \\nHETATM    3  H1  UNL     1      -0.196   0.941   2.191  1.00  0.00           H  \\nHETATM    4  H2  UNL     1      -0.875   0.746  -0.299  1.00  0.00           H  \\nHETATM    5  H3  UNL     1      -1.715  -1.455  -1.450  1.00  0.00           H  \\nHETATM    6  H4  UNL     1       1.274   0.946   0.802  1.00  0.00           H  \\nHETATM    7  H5  UNL     1       1.605   0.642  -0.367  1.00  0.00           H  \\nHETATM    8  H6  UNL     1       1.176  -0.751   0.403  1.00  0.00           H  \\nCONECT    1    2    3    4    5\\nCONECT    2    6    7    8\\nEND\\nENDMDL\\nMODEL       21\\nHETATM    1  C1  UNL     1      -0.984  -0.292  -0.259  1.00  0.00           C  \\nHETATM    2  C2  UNL     1       1.050   0.258   0.249  1.00  0.00           C  \\nHETATM    3  H1  UNL     1      -0.146   0.999   2.252  1.00  0.00           H  \\nHETATM    4  H2  UNL     1      -0.859   0.727  -0.296  1.00  0.00           H  \\nHETATM    5  H3  UNL     1      -1.748  -1.491  -1.482  1.00  0.00           H  \\nHETATM    6  H4  UNL     1       1.277   0.940   0.813  1.00  0.00           H  \\nHETATM    7  H5  UNL     1       1.620   0.668  -0.335  1.00  0.00           H  \\nHETATM    8  H6  UNL     1       1.173  -0.734   0.399  1.00  0.00           H  \\nCONECT    1    2    3    4    5\\nCONECT    2    6    7    8\\nEND\\nENDMDL\\nMODEL       22\\nHETATM    1  C1  UNL     1      -0.993  -0.307  -0.270  1.00  0.00           C  \\nHETATM    2  C2  UNL     1       1.066   0.270   0.258  1.00  0.00           C  \\nHETATM    3  H1  UNL     1      -0.096   1.060   2.317  1.00  0.00           H  \\nHETATM    4  H2  UNL     1      -0.841   0.710  -0.294  1.00  0.00           H  \\nHETATM    5  H3  UNL     1      -1.782  -1.527  -1.513  1.00  0.00           H  \\nHETATM    6  H4  UNL     1       1.281   0.932   0.822  1.00  0.00           H  \\nHETATM    7  H5  UNL     1       1.637   0.691  -0.302  1.00  0.00           H  \\nHETATM    8  H6  UNL     1       1.169  -0.719   0.398  1.00  0.00           H  \\nCONECT    1    2    3    4    5\\nCONECT    2    6    7    8\\nEND\\nENDMDL\\nMODEL       23\\nHETATM    1  C1  UNL     1      -1.001  -0.322  -0.282  1.00  0.00           C  \\nHETATM    2  C2  UNL     1       1.082   0.280   0.266  1.00  0.00           C  \\nHETATM    3  H1  UNL     1      -0.047   1.122   2.381  1.00  0.00           H  \\nHETATM    4  H2  UNL     1      -0.825   0.690  -0.290  1.00  0.00           H  \\nHETATM    5  H3  UNL     1      -1.812  -1.564  -1.545  1.00  0.00           H  \\nHETATM    6  H4  UNL     1       1.286   0.922   0.831  1.00  0.00           H  \\nHETATM    7  H5  UNL     1       1.655   0.716  -0.271  1.00  0.00           H  \\nHETATM    8  H6  UNL     1       1.165  -0.704   0.403  1.00  0.00           H  \\nCONECT    1    2    3    4    5\\nCONECT    2    6    7    8\\nEND\\nENDMDL\\nMODEL       24\\nHETATM    1  C1  UNL     1      -1.008  -0.337  -0.294  1.00  0.00           C  \\nHETATM    2  C2  UNL     1       1.097   0.291   0.275  1.00  0.00           C  \\nHETATM    3  H1  UNL     1       0.003   1.182   2.447  1.00  0.00           H  \\nHETATM    4  H2  UNL     1      -0.809   0.670  -0.284  1.00  0.00           H  \\nHETATM    5  H3  UNL     1      -1.840  -1.599  -1.572  1.00  0.00           H  \\nHETATM    6  H4  UNL     1       1.294   0.910   0.835  1.00  0.00           H  \\nHETATM    7  H5  UNL     1       1.674   0.740  -0.237  1.00  0.00           H  \\nHETATM    8  H6  UNL     1       1.165  -0.690   0.404  1.00  0.00           H  \\nCONECT    1    2    3    4    5\\nCONECT    2    6    7    8\\nEND\\nENDMDL\\nMODEL       25\\nHETATM    1  C1  UNL     1      -1.015  -0.351  -0.307  1.00  0.00           C  \\nHETATM    2  C2  UNL     1       1.113   0.301   0.283  1.00  0.00           C  \\nHETATM    3  H1  UNL     1       0.050   1.246   2.513  1.00  0.00           H  \\nHETATM    4  H2  UNL     1      -0.795   0.650  -0.278  1.00  0.00           H  \\nHETATM    5  H3  UNL     1      -1.867  -1.634  -1.600  1.00  0.00           H  \\nHETATM    6  H4  UNL     1       1.300   0.898   0.838  1.00  0.00           H  \\nHETATM    7  H5  UNL     1       1.695   0.766  -0.204  1.00  0.00           H  \\nHETATM    8  H6  UNL     1       1.163  -0.678   0.402  1.00  0.00           H  \\nCONECT    1    2    3    4    5\\nCONECT    2    6    7    8\\nEND\\nENDMDL\\nMODEL       26\\nHETATM    1  C1  UNL     1      -1.023  -0.365  -0.321  1.00  0.00           C  \\nHETATM    2  C2  UNL     1       1.129   0.311   0.292  1.00  0.00           C  \\nHETATM    3  H1  UNL     1       0.098   1.308   2.577  1.00  0.00           H  \\nHETATM    4  H2  UNL     1      -0.780   0.632  -0.274  1.00  0.00           H  \\nHETATM    5  H3  UNL     1      -1.893  -1.666  -1.623  1.00  0.00           H  \\nHETATM    6  H4  UNL     1       1.304   0.886   0.838  1.00  0.00           H  \\nHETATM    7  H5  UNL     1       1.713   0.794  -0.171  1.00  0.00           H  \\nHETATM    8  H6  UNL     1       1.162  -0.668   0.398  1.00  0.00           H  \\nCONECT    1    2    3    4    5\\nCONECT    2    6    7    8\\nEND\\nENDMDL\\nMODEL       27\\nHETATM    1  C1  UNL     1      -1.030  -0.378  -0.335  1.00  0.00           C  \\nHETATM    2  C2  UNL     1       1.145   0.321   0.301  1.00  0.00           C  \\nHETATM    3  H1  UNL     1       0.145   1.368   2.640  1.00  0.00           H  \\nHETATM    4  H2  UNL     1      -0.765   0.618  -0.271  1.00  0.00           H  \\nHETATM    5  H3  UNL     1      -1.918  -1.698  -1.643  1.00  0.00           H  \\nHETATM    6  H4  UNL     1       1.305   0.877   0.837  1.00  0.00           H  \\nHETATM    7  H5  UNL     1       1.733   0.820  -0.138  1.00  0.00           H  \\nHETATM    8  H6  UNL     1       1.161  -0.657   0.392  1.00  0.00           H  \\nCONECT    1    2    3    4    5\\nCONECT    2    6    7    8\\nEND\\nENDMDL\\nMODEL       28\\nHETATM    1  C1  UNL     1      -1.036  -0.392  -0.351  1.00  0.00           C  \\nHETATM    2  C2  UNL     1       1.161   0.332   0.310  1.00  0.00           C  \\nHETATM    3  H1  UNL     1       0.193   1.428   2.702  1.00  0.00           H  \\nHETATM    4  H2  UNL     1      -0.752   0.605  -0.267  1.00  0.00           H  \\nHETATM    5  H3  UNL     1      -1.940  -1.727  -1.660  1.00  0.00           H  \\nHETATM    6  H4  UNL     1       1.302   0.864   0.833  1.00  0.00           H  \\nHETATM    7  H5  UNL     1       1.752   0.846  -0.104  1.00  0.00           H  \\nHETATM    8  H6  UNL     1       1.159  -0.648   0.389  1.00  0.00           H  \\nCONECT    1    2    3    4    5\\nCONECT    2    6    7    8\\nEND\\nENDMDL\\nMODEL       29\\nHETATM    1  C1  UNL     1      -1.043  -0.406  -0.365  1.00  0.00           C  \\nHETATM    2  C2  UNL     1       1.177   0.343   0.319  1.00  0.00           C  \\nHETATM    3  H1  UNL     1       0.240   1.488   2.767  1.00  0.00           H  \\nHETATM    4  H2  UNL     1      -0.743   0.593  -0.264  1.00  0.00           H  \\nHETATM    5  H3  UNL     1      -1.961  -1.753  -1.675  1.00  0.00           H  \\nHETATM    6  H4  UNL     1       1.299   0.854   0.831  1.00  0.00           H  \\nHETATM    7  H5  UNL     1       1.772   0.874  -0.067  1.00  0.00           H  \\nHETATM    8  H6  UNL     1       1.161  -0.641   0.386  1.00  0.00           H  \\nCONECT    1    2    3    4    5\\nCONECT    2    6    7    8\\nEND\\nENDMDL\\nMODEL       30\\nHETATM    1  C1  UNL     1      -1.049  -0.419  -0.378  1.00  0.00           C  \\nHETATM    2  C2  UNL     1       1.191   0.354   0.328  1.00  0.00           C  \\nHETATM    3  H1  UNL     1       0.287   1.549   2.836  1.00  0.00           H  \\nHETATM    4  H2  UNL     1      -0.738   0.579  -0.263  1.00  0.00           H  \\nHETATM    5  H3  UNL     1      -1.986  -1.783  -1.691  1.00  0.00           H  \\nHETATM    6  H4  UNL     1       1.297   0.843   0.827  1.00  0.00           H  \\nHETATM    7  H5  UNL     1       1.792   0.900  -0.026  1.00  0.00           H  \\nHETATM    8  H6  UNL     1       1.162  -0.635   0.380  1.00  0.00           H  \\nCONECT    1    2    3    4    5\\nCONECT    2    6    7    8\\nEND\\nENDMDL\\nMODEL       31\\nHETATM    1  C1  UNL     1      -1.055  -0.433  -0.391  1.00  0.00           C  \\nHETATM    2  C2  UNL     1       1.206   0.365   0.337  1.00  0.00           C  \\nHETATM    3  H1  UNL     1       0.335   1.610   2.907  1.00  0.00           H  \\nHETATM    4  H2  UNL     1      -0.733   0.564  -0.264  1.00  0.00           H  \\nHETATM    5  H3  UNL     1      -2.006  -1.813  -1.706  1.00  0.00           H  \\nHETATM    6  H4  UNL     1       1.292   0.835   0.824  1.00  0.00           H  \\nHETATM    7  H5  UNL     1       1.811   0.927   0.013  1.00  0.00           H  \\nHETATM    8  H6  UNL     1       1.162  -0.630   0.378  1.00  0.00           H  \\nCONECT    1    2    3    4    5\\nCONECT    2    6    7    8\\nEND\\nENDMDL\\nMODEL       32\\nHETATM    1  C1  UNL     1      -1.061  -0.447  -0.403  1.00  0.00           C  \\nHETATM    2  C2  UNL     1       1.221   0.377   0.346  1.00  0.00           C  \\nHETATM    3  H1  UNL     1       0.383   1.672   2.978  1.00  0.00           H  \\nHETATM    4  H2  UNL     1      -0.727   0.553  -0.262  1.00  0.00           H  \\nHETATM    5  H3  UNL     1      -2.027  -1.840  -1.719  1.00  0.00           H  \\nHETATM    6  H4  UNL     1       1.289   0.829   0.825  1.00  0.00           H  \\nHETATM    7  H5  UNL     1       1.826   0.955   0.056  1.00  0.00           H  \\nHETATM    8  H6  UNL     1       1.158  -0.622   0.373  1.00  0.00           H  \\nCONECT    1    2    3    4    5\\nCONECT    2    6    7    8\\nEND\\nENDMDL\\nMODEL       33\\nHETATM    1  C1  UNL     1      -1.067  -0.462  -0.415  1.00  0.00           C  \\nHETATM    2  C2  UNL     1       1.235   0.389   0.355  1.00  0.00           C  \\nHETATM    3  H1  UNL     1       0.432   1.736   3.052  1.00  0.00           H  \\nHETATM    4  H2  UNL     1      -0.722   0.543  -0.260  1.00  0.00           H  \\nHETATM    5  H3  UNL     1      -2.047  -1.869  -1.732  1.00  0.00           H  \\nHETATM    6  H4  UNL     1       1.285   0.825   0.826  1.00  0.00           H  \\nHETATM    7  H5  UNL     1       1.840   0.982   0.094  1.00  0.00           H  \\nHETATM    8  H6  UNL     1       1.152  -0.617   0.366  1.00  0.00           H  \\nCONECT    1    2    3    4    5\\nCONECT    2    6    7    8\\nEND\\nENDMDL\\nMODEL       34\\nHETATM    1  C1  UNL     1      -1.074  -0.476  -0.427  1.00  0.00           C  \\nHETATM    2  C2  UNL     1       1.249   0.401   0.364  1.00  0.00           C  \\nHETATM    3  H1  UNL     1       0.481   1.801   3.128  1.00  0.00           H  \\nHETATM    4  H2  UNL     1      -0.718   0.530  -0.257  1.00  0.00           H  \\nHETATM    5  H3  UNL     1      -2.067  -1.898  -1.747  1.00  0.00           H  \\nHETATM    6  H4  UNL     1       1.280   0.821   0.829  1.00  0.00           H  \\nHETATM    7  H5  UNL     1       1.854   1.010   0.130  1.00  0.00           H  \\nHETATM    8  H6  UNL     1       1.147  -0.618   0.359  1.00  0.00           H  \\nCONECT    1    2    3    4    5\\nCONECT    2    6    7    8\\nEND\\nENDMDL\\nMODEL       35\\nHETATM    1  C1  UNL     1      -1.079  -0.490  -0.439  1.00  0.00           C  \\nHETATM    2  C2  UNL     1       1.265   0.412   0.373  1.00  0.00           C  \\nHETATM    3  H1  UNL     1       0.531   1.866   3.203  1.00  0.00           H  \\nHETATM    4  H2  UNL     1      -0.715   0.516  -0.254  1.00  0.00           H  \\nHETATM    5  H3  UNL     1      -2.086  -1.926  -1.763  1.00  0.00           H  \\nHETATM    6  H4  UNL     1       1.275   0.820   0.834  1.00  0.00           H  \\nHETATM    7  H5  UNL     1       1.870   1.040   0.168  1.00  0.00           H  \\nHETATM    8  H6  UNL     1       1.143  -0.618   0.353  1.00  0.00           H  \\nCONECT    1    2    3    4    5\\nCONECT    2    6    7    8\\nEND\\nENDMDL\\nMODEL       36\\nHETATM    1  C1  UNL     1      -1.086  -0.504  -0.452  1.00  0.00           C  \\nHETATM    2  C2  UNL     1       1.280   0.422   0.381  1.00  0.00           C  \\nHETATM    3  H1  UNL     1       0.581   1.934   3.275  1.00  0.00           H  \\nHETATM    4  H2  UNL     1      -0.710   0.505  -0.253  1.00  0.00           H  \\nHETATM    5  H3  UNL     1      -2.106  -1.951  -1.780  1.00  0.00           H  \\nHETATM    6  H4  UNL     1       1.272   0.822   0.841  1.00  0.00           H  \\nHETATM    7  H5  UNL     1       1.884   1.065   0.207  1.00  0.00           H  \\nHETATM    8  H6  UNL     1       1.141  -0.617   0.346  1.00  0.00           H  \\nCONECT    1    2    3    4    5\\nCONECT    2    6    7    8\\nEND\\nENDMDL\\nMODEL       37\\nHETATM    1  C1  UNL     1      -1.093  -0.518  -0.464  1.00  0.00           C  \\nHETATM    2  C2  UNL     1       1.296   0.433   0.388  1.00  0.00           C  \\nHETATM    3  H1  UNL     1       0.630   2.002   3.346  1.00  0.00           H  \\nHETATM    4  H2  UNL     1      -0.705   0.496  -0.250  1.00  0.00           H  \\nHETATM    5  H3  UNL     1      -2.128  -1.978  -1.797  1.00  0.00           H  \\nHETATM    6  H4  UNL     1       1.273   0.825   0.848  1.00  0.00           H  \\nHETATM    7  H5  UNL     1       1.900   1.092   0.250  1.00  0.00           H  \\nHETATM    8  H6  UNL     1       1.137  -0.618   0.343  1.00  0.00           H  \\nCONECT    1    2    3    4    5\\nCONECT    2    6    7    8\\nEND\\nENDMDL\\nMODEL       38\\nHETATM    1  C1  UNL     1      -1.100  -0.534  -0.476  1.00  0.00           C  \\nHETATM    2  C2  UNL     1       1.312   0.445   0.395  1.00  0.00           C  \\nHETATM    3  H1  UNL     1       0.677   2.070   3.421  1.00  0.00           H  \\nHETATM    4  H2  UNL     1      -0.701   0.488  -0.247  1.00  0.00           H  \\nHETATM    5  H3  UNL     1      -2.149  -2.002  -1.812  1.00  0.00           H  \\nHETATM    6  H4  UNL     1       1.275   0.830   0.857  1.00  0.00           H  \\nHETATM    7  H5  UNL     1       1.917   1.115   0.293  1.00  0.00           H  \\nHETATM    8  H6  UNL     1       1.133  -0.620   0.341  1.00  0.00           H  \\nCONECT    1    2    3    4    5\\nCONECT    2    6    7    8\\nEND\\nENDMDL\\nMODEL       39\\nHETATM    1  C1  UNL     1      -1.109  -0.550  -0.488  1.00  0.00           C  \\nHETATM    2  C2  UNL     1       1.328   0.457   0.402  1.00  0.00           C  \\nHETATM    3  H1  UNL     1       0.726   2.140   3.496  1.00  0.00           H  \\nHETATM    4  H2  UNL     1      -0.698   0.480  -0.242  1.00  0.00           H  \\nHETATM    5  H3  UNL     1      -2.170  -2.025  -1.829  1.00  0.00           H  \\nHETATM    6  H4  UNL     1       1.279   0.836   0.865  1.00  0.00           H  \\nHETATM    7  H5  UNL     1       1.936   1.140   0.338  1.00  0.00           H  \\nHETATM    8  H6  UNL     1       1.126  -0.624   0.339  1.00  0.00           H  \\nCONECT    1    2    3    4    5\\nCONECT    2    6    7    8\\nEND\\nENDMDL\\nMODEL       40\\nHETATM    1  C1  UNL     1      -1.117  -0.566  -0.500  1.00  0.00           C  \\nHETATM    2  C2  UNL     1       1.344   0.468   0.409  1.00  0.00           C  \\nHETATM    3  H1  UNL     1       0.777   2.209   3.568  1.00  0.00           H  \\nHETATM    4  H2  UNL     1      -0.691   0.470  -0.234  1.00  0.00           H  \\nHETATM    5  H3  UNL     1      -2.190  -2.049  -1.848  1.00  0.00           H  \\nHETATM    6  H4  UNL     1       1.284   0.843   0.875  1.00  0.00           H  \\nHETATM    7  H5  UNL     1       1.958   1.165   0.381  1.00  0.00           H  \\nHETATM    8  H6  UNL     1       1.118  -0.631   0.338  1.00  0.00           H  \\nCONECT    1    2    3    4    5\\nCONECT    2    6    7    8\\nEND\\nENDMDL\\nMODEL       41\\nHETATM    1  C1  UNL     1      -1.125  -0.583  -0.512  1.00  0.00           C  \\nHETATM    2  C2  UNL     1       1.360   0.480   0.414  1.00  0.00           C  \\nHETATM    3  H1  UNL     1       0.828   2.276   3.637  1.00  0.00           H  \\nHETATM    4  H2  UNL     1      -0.681   0.463  -0.227  1.00  0.00           H  \\nHETATM    5  H3  UNL     1      -2.207  -2.075  -1.869  1.00  0.00           H  \\nHETATM    6  H4  UNL     1       1.288   0.852   0.886  1.00  0.00           H  \\nHETATM    7  H5  UNL     1       1.981   1.192   0.427  1.00  0.00           H  \\nHETATM    8  H6  UNL     1       1.114  -0.636   0.339  1.00  0.00           H  \\nCONECT    1    2    3    4    5\\nCONECT    2    6    7    8\\nEND\\nENDMDL\\nMODEL       42\\nHETATM    1  C1  UNL     1      -1.133  -0.600  -0.523  1.00  0.00           C  \\nHETATM    2  C2  UNL     1       1.377   0.492   0.419  1.00  0.00           C  \\nHETATM    3  H1  UNL     1       0.879   2.345   3.705  1.00  0.00           H  \\nHETATM    4  H2  UNL     1      -0.669   0.457  -0.219  1.00  0.00           H  \\nHETATM    5  H3  UNL     1      -2.226  -2.099  -1.889  1.00  0.00           H  \\nHETATM    6  H4  UNL     1       1.291   0.859   0.898  1.00  0.00           H  \\nHETATM    7  H5  UNL     1       2.005   1.215   0.469  1.00  0.00           H  \\nHETATM    8  H6  UNL     1       1.108  -0.645   0.335  1.00  0.00           H  \\nCONECT    1    2    3    4    5\\nCONECT    2    6    7    8\\nEND\\nENDMDL\\nMODEL       43\\nHETATM    1  C1  UNL     1      -1.141  -0.617  -0.535  1.00  0.00           C  \\nHETATM    2  C2  UNL     1       1.394   0.502   0.424  1.00  0.00           C  \\nHETATM    3  H1  UNL     1       0.929   2.414   3.773  1.00  0.00           H  \\nHETATM    4  H2  UNL     1      -0.658   0.451  -0.207  1.00  0.00           H  \\nHETATM    5  H3  UNL     1      -2.244  -2.120  -1.911  1.00  0.00           H  \\nHETATM    6  H4  UNL     1       1.296   0.863   0.912  1.00  0.00           H  \\nHETATM    7  H5  UNL     1       2.031   1.239   0.510  1.00  0.00           H  \\nHETATM    8  H6  UNL     1       1.102  -0.655   0.330  1.00  0.00           H  \\nCONECT    1    2    3    4    5\\nCONECT    2    6    7    8\\nEND\\nENDMDL\\nMODEL       44\\nHETATM    1  C1  UNL     1      -1.150  -0.634  -0.547  1.00  0.00           C  \\nHETATM    2  C2  UNL     1       1.411   0.512   0.429  1.00  0.00           C  \\nHETATM    3  H1  UNL     1       0.978   2.482   3.843  1.00  0.00           H  \\nHETATM    4  H2  UNL     1      -0.647   0.445  -0.194  1.00  0.00           H  \\nHETATM    5  H3  UNL     1      -2.260  -2.141  -1.934  1.00  0.00           H  \\nHETATM    6  H4  UNL     1       1.304   0.867   0.923  1.00  0.00           H  \\nHETATM    7  H5  UNL     1       2.053   1.263   0.550  1.00  0.00           H  \\nHETATM    8  H6  UNL     1       1.093  -0.661   0.328  1.00  0.00           H  \\nCONECT    1    2    3    4    5\\nCONECT    2    6    7    8\\nEND\\nENDMDL\\nMODEL       45\\nHETATM    1  C1  UNL     1      -1.158  -0.652  -0.559  1.00  0.00           C  \\nHETATM    2  C2  UNL     1       1.428   0.521   0.434  1.00  0.00           C  \\nHETATM    3  H1  UNL     1       1.025   2.546   3.913  1.00  0.00           H  \\nHETATM    4  H2  UNL     1      -0.638   0.439  -0.182  1.00  0.00           H  \\nHETATM    5  H3  UNL     1      -2.278  -2.164  -1.957  1.00  0.00           H  \\nHETATM    6  H4  UNL     1       1.310   0.871   0.935  1.00  0.00           H  \\nHETATM    7  H5  UNL     1       2.076   1.289   0.592  1.00  0.00           H  \\nHETATM    8  H6  UNL     1       1.087  -0.666   0.321  1.00  0.00           H  \\nCONECT    1    2    3    4    5\\nCONECT    2    6    7    8\\nEND\\nENDMDL\\nMODEL       46\\nHETATM    1  C1  UNL     1      -1.166  -0.670  -0.570  1.00  0.00           C  \\nHETATM    2  C2  UNL     1       1.444   0.531   0.439  1.00  0.00           C  \\nHETATM    3  H1  UNL     1       1.071   2.613   3.983  1.00  0.00           H  \\nHETATM    4  H2  UNL     1      -0.627   0.432  -0.169  1.00  0.00           H  \\nHETATM    5  H3  UNL     1      -2.294  -2.185  -1.980  1.00  0.00           H  \\nHETATM    6  H4  UNL     1       1.316   0.874   0.947  1.00  0.00           H  \\nHETATM    7  H5  UNL     1       2.104   1.314   0.636  1.00  0.00           H  \\nHETATM    8  H6  UNL     1       1.085  -0.672   0.314  1.00  0.00           H  \\nCONECT    1    2    3    4    5\\nCONECT    2    6    7    8\\nEND\\nENDMDL\\nMODEL       47\\nHETATM    1  C1  UNL     1      -1.174  -0.687  -0.582  1.00  0.00           C  \\nHETATM    2  C2  UNL     1       1.461   0.541   0.444  1.00  0.00           C  \\nHETATM    3  H1  UNL     1       1.116   2.679   4.054  1.00  0.00           H  \\nHETATM    4  H2  UNL     1      -0.616   0.427  -0.157  1.00  0.00           H  \\nHETATM    5  H3  UNL     1      -2.314  -2.207  -2.002  1.00  0.00           H  \\nHETATM    6  H4  UNL     1       1.323   0.875   0.960  1.00  0.00           H  \\nHETATM    7  H5  UNL     1       2.132   1.341   0.681  1.00  0.00           H  \\nHETATM    8  H6  UNL     1       1.081  -0.679   0.304  1.00  0.00           H  \\nCONECT    1    2    3    4    5\\nCONECT    2    6    7    8\\nEND\\nENDMDL\\nMODEL       48\\nHETATM    1  C1  UNL     1      -1.181  -0.705  -0.594  1.00  0.00           C  \\nHETATM    2  C2  UNL     1       1.477   0.551   0.448  1.00  0.00           C  \\nHETATM    3  H1  UNL     1       1.163   2.749   4.126  1.00  0.00           H  \\nHETATM    4  H2  UNL     1      -0.609   0.419  -0.145  1.00  0.00           H  \\nHETATM    5  H3  UNL     1      -2.332  -2.227  -2.022  1.00  0.00           H  \\nHETATM    6  H4  UNL     1       1.328   0.873   0.971  1.00  0.00           H  \\nHETATM    7  H5  UNL     1       2.160   1.368   0.726  1.00  0.00           H  \\nHETATM    8  H6  UNL     1       1.078  -0.686   0.294  1.00  0.00           H  \\nCONECT    1    2    3    4    5\\nCONECT    2    6    7    8\\nEND\\nENDMDL\\nMODEL       49\\nHETATM    1  C1  UNL     1      -1.188  -0.723  -0.605  1.00  0.00           C  \\nHETATM    2  C2  UNL     1       1.494   0.560   0.452  1.00  0.00           C  \\nHETATM    3  H1  UNL     1       1.208   2.821   4.197  1.00  0.00           H  \\nHETATM    4  H2  UNL     1      -0.605   0.411  -0.136  1.00  0.00           H  \\nHETATM    5  H3  UNL     1      -2.347  -2.248  -2.041  1.00  0.00           H  \\nHETATM    6  H4  UNL     1       1.331   0.870   0.983  1.00  0.00           H  \\nHETATM    7  H5  UNL     1       2.188   1.390   0.769  1.00  0.00           H  \\nHETATM    8  H6  UNL     1       1.081  -0.693   0.284  1.00  0.00           H  \\nCONECT    1    2    3    4    5\\nCONECT    2    6    7    8\\nEND\\nENDMDL\\nMODEL       50\\nHETATM    1  C1  UNL     1      -1.195  -0.741  -0.618  1.00  0.00           C  \\nHETATM    2  C2  UNL     1       1.511   0.569   0.455  1.00  0.00           C  \\nHETATM    3  H1  UNL     1       1.250   2.894   4.267  1.00  0.00           H  \\nHETATM    4  H2  UNL     1      -0.600   0.402  -0.126  1.00  0.00           H  \\nHETATM    5  H3  UNL     1      -2.363  -2.270  -2.059  1.00  0.00           H  \\nHETATM    6  H4  UNL     1       1.335   0.866   0.989  1.00  0.00           H  \\nHETATM    7  H5  UNL     1       2.212   1.415   0.811  1.00  0.00           H  \\nHETATM    8  H6  UNL     1       1.083  -0.701   0.274  1.00  0.00           H  \\nCONECT    1    2    3    4    5\\nCONECT    2    6    7    8\\nEND\\nENDMDL\\n\",\"trajectory\",{\"keepH\": true});\n\tviewer_1717486592615551.setBackgroundColor(\"white\");\n\tviewer_1717486592615551.setStyle({\"stick\": {\"scale\": 0.3}, \"sphere\": {\"scale\": 0.3}});\n\tviewer_1717486592615551.zoomTo();\n\tviewer_1717486592615551.animate({\"loop\": \"forward\", \"interval\": 10});\nviewer_1717486592615551.render();\n});\n</script>",
      "text/html": [
       "<div id=\"3dmolviewer_1717486592615551\"  style=\"position: relative; width: 400px; height: 300px;\">\n",
       "        <p id=\"3dmolwarning_1717486592615551\" style=\"background-color:#ffcccc;color:black\">3Dmol.js failed to load for some reason.  Please check your browser console for error messages.<br></p>\n",
       "        </div>\n",
       "<script>\n",
       "\n",
       "var loadScriptAsync = function(uri){\n",
       "  return new Promise((resolve, reject) => {\n",
       "    //this is to ignore the existence of requirejs amd\n",
       "    var savedexports, savedmodule;\n",
       "    if (typeof exports !== 'undefined') savedexports = exports;\n",
       "    else exports = {}\n",
       "    if (typeof module !== 'undefined') savedmodule = module;\n",
       "    else module = {}\n",
       "\n",
       "    var tag = document.createElement('script');\n",
       "    tag.src = uri;\n",
       "    tag.async = true;\n",
       "    tag.onload = () => {\n",
       "        exports = savedexports;\n",
       "        module = savedmodule;\n",
       "        resolve();\n",
       "    };\n",
       "  var firstScriptTag = document.getElementsByTagName('script')[0];\n",
       "  firstScriptTag.parentNode.insertBefore(tag, firstScriptTag);\n",
       "});\n",
       "};\n",
       "\n",
       "if(typeof $3Dmolpromise === 'undefined') {\n",
       "$3Dmolpromise = null;\n",
       "  $3Dmolpromise = loadScriptAsync('https://cdnjs.cloudflare.com/ajax/libs/3Dmol/2.1.0/3Dmol-min.js');\n",
       "}\n",
       "\n",
       "var viewer_1717486592615551 = null;\n",
       "var warn = document.getElementById(\"3dmolwarning_1717486592615551\");\n",
       "if(warn) {\n",
       "    warn.parentNode.removeChild(warn);\n",
       "}\n",
       "$3Dmolpromise.then(function() {\n",
       "viewer_1717486592615551 = $3Dmol.createViewer(document.getElementById(\"3dmolviewer_1717486592615551\"),{backgroundColor:\"white\"});\n",
       "viewer_1717486592615551.zoomTo();\n",
       "\tviewer_1717486592615551.addModelsAsFrames(\"MODEL        1\\nHETATM    1  C1  UNL     1      -0.772  -0.005  -0.028  1.00  0.00           C  \\nHETATM    2  C2  UNL     1       0.772   0.005   0.028  1.00  0.00           C  \\nHETATM    3  H1  UNL     1      -1.107  -0.059   1.063  1.00  0.00           H  \\nHETATM    4  H2  UNL     1      -1.111   0.970  -0.433  1.00  0.00           H  \\nHETATM    5  H3  UNL     1      -1.168  -0.860  -0.681  1.00  0.00           H  \\nHETATM    6  H4  UNL     1       1.143   0.838   0.654  1.00  0.00           H  \\nHETATM    7  H5  UNL     1       1.188   0.138  -0.984  1.00  0.00           H  \\nHETATM    8  H6  UNL     1       1.128  -0.961   0.445  1.00  0.00           H  \\nCONECT    1    2    3    4    5\\nCONECT    2    6    7    8\\nEND\\nENDMDL\\nMODEL        2\\nHETATM    1  C1  UNL     1      -0.785  -0.019  -0.042  1.00  0.00           C  \\nHETATM    2  C2  UNL     1       0.785   0.018   0.042  1.00  0.00           C  \\nHETATM    3  H1  UNL     1      -1.058  -0.015   1.113  1.00  0.00           H  \\nHETATM    4  H2  UNL     1      -1.106   0.966  -0.427  1.00  0.00           H  \\nHETATM    5  H3  UNL     1      -1.202  -0.893  -0.723  1.00  0.00           H  \\nHETATM    6  H4  UNL     1       1.152   0.848   0.662  1.00  0.00           H  \\nHETATM    7  H5  UNL     1       1.220   0.169  -0.956  1.00  0.00           H  \\nHETATM    8  H6  UNL     1       1.136  -0.954   0.448  1.00  0.00           H  \\nCONECT    1    2    3    4    5\\nCONECT    2    6    7    8\\nEND\\nENDMDL\\nMODEL        3\\nHETATM    1  C1  UNL     1      -0.800  -0.034  -0.055  1.00  0.00           C  \\nHETATM    2  C2  UNL     1       0.798   0.032   0.054  1.00  0.00           C  \\nHETATM    3  H1  UNL     1      -1.009   0.030   1.165  1.00  0.00           H  \\nHETATM    4  H2  UNL     1      -1.099   0.962  -0.420  1.00  0.00           H  \\nHETATM    5  H3  UNL     1      -1.238  -0.923  -0.766  1.00  0.00           H  \\nHETATM    6  H4  UNL     1       1.162   0.857   0.668  1.00  0.00           H  \\nHETATM    7  H5  UNL     1       1.251   0.199  -0.925  1.00  0.00           H  \\nHETATM    8  H6  UNL     1       1.143  -0.946   0.450  1.00  0.00           H  \\nCONECT    1    2    3    4    5\\nCONECT    2    6    7    8\\nEND\\nENDMDL\\nMODEL        4\\nHETATM    1  C1  UNL     1      -0.813  -0.048  -0.068  1.00  0.00           C  \\nHETATM    2  C2  UNL     1       0.811   0.046   0.068  1.00  0.00           C  \\nHETATM    3  H1  UNL     1      -0.963   0.075   1.218  1.00  0.00           H  \\nHETATM    4  H2  UNL     1      -1.091   0.961  -0.413  1.00  0.00           H  \\nHETATM    5  H3  UNL     1      -1.272  -0.953  -0.807  1.00  0.00           H  \\nHETATM    6  H4  UNL     1       1.171   0.867   0.673  1.00  0.00           H  \\nHETATM    7  H5  UNL     1       1.279   0.228  -0.893  1.00  0.00           H  \\nHETATM    8  H6  UNL     1       1.151  -0.938   0.453  1.00  0.00           H  \\nCONECT    1    2    3    4    5\\nCONECT    2    6    7    8\\nEND\\nENDMDL\\nMODEL        5\\nHETATM    1  C1  UNL     1      -0.825  -0.064  -0.080  1.00  0.00           C  \\nHETATM    2  C2  UNL     1       0.824   0.059   0.080  1.00  0.00           C  \\nHETATM    3  H1  UNL     1      -0.917   0.123   1.272  1.00  0.00           H  \\nHETATM    4  H2  UNL     1      -1.083   0.959  -0.411  1.00  0.00           H  \\nHETATM    5  H3  UNL     1      -1.304  -0.980  -0.850  1.00  0.00           H  \\nHETATM    6  H4  UNL     1       1.178   0.880   0.677  1.00  0.00           H  \\nHETATM    7  H5  UNL     1       1.305   0.254  -0.860  1.00  0.00           H  \\nHETATM    8  H6  UNL     1       1.156  -0.930   0.455  1.00  0.00           H  \\nCONECT    1    2    3    4    5\\nCONECT    2    6    7    8\\nEND\\nENDMDL\\nMODEL        6\\nHETATM    1  C1  UNL     1      -0.837  -0.079  -0.092  1.00  0.00           C  \\nHETATM    2  C2  UNL     1       0.838   0.073   0.092  1.00  0.00           C  \\nHETATM    3  H1  UNL     1      -0.875   0.173   1.328  1.00  0.00           H  \\nHETATM    4  H2  UNL     1      -1.078   0.956  -0.406  1.00  0.00           H  \\nHETATM    5  H3  UNL     1      -1.331  -1.004  -0.889  1.00  0.00           H  \\nHETATM    6  H4  UNL     1       1.187   0.890   0.685  1.00  0.00           H  \\nHETATM    7  H5  UNL     1       1.331   0.279  -0.826  1.00  0.00           H  \\nHETATM    8  H6  UNL     1       1.159  -0.923   0.452  1.00  0.00           H  \\nCONECT    1    2    3    4    5\\nCONECT    2    6    7    8\\nEND\\nENDMDL\\nMODEL        7\\nHETATM    1  C1  UNL     1      -0.849  -0.094  -0.104  1.00  0.00           C  \\nHETATM    2  C2  UNL     1       0.852   0.086   0.104  1.00  0.00           C  \\nHETATM    3  H1  UNL     1      -0.829   0.222   1.385  1.00  0.00           H  \\nHETATM    4  H2  UNL     1      -1.071   0.948  -0.399  1.00  0.00           H  \\nHETATM    5  H3  UNL     1      -1.355  -1.031  -0.926  1.00  0.00           H  \\nHETATM    6  H4  UNL     1       1.195   0.901   0.694  1.00  0.00           H  \\nHETATM    7  H5  UNL     1       1.356   0.306  -0.790  1.00  0.00           H  \\nHETATM    8  H6  UNL     1       1.162  -0.913   0.448  1.00  0.00           H  \\nCONECT    1    2    3    4    5\\nCONECT    2    6    7    8\\nEND\\nENDMDL\\nMODEL        8\\nHETATM    1  C1  UNL     1      -0.861  -0.109  -0.116  1.00  0.00           C  \\nHETATM    2  C2  UNL     1       0.866   0.098   0.116  1.00  0.00           C  \\nHETATM    3  H1  UNL     1      -0.780   0.272   1.443  1.00  0.00           H  \\nHETATM    4  H2  UNL     1      -1.060   0.935  -0.389  1.00  0.00           H  \\nHETATM    5  H3  UNL     1      -1.379  -1.057  -0.965  1.00  0.00           H  \\nHETATM    6  H4  UNL     1       1.204   0.913   0.704  1.00  0.00           H  \\nHETATM    7  H5  UNL     1       1.382   0.331  -0.752  1.00  0.00           H  \\nHETATM    8  H6  UNL     1       1.165  -0.903   0.446  1.00  0.00           H  \\nCONECT    1    2    3    4    5\\nCONECT    2    6    7    8\\nEND\\nENDMDL\\nMODEL        9\\nHETATM    1  C1  UNL     1      -0.873  -0.124  -0.127  1.00  0.00           C  \\nHETATM    2  C2  UNL     1       0.879   0.110   0.127  1.00  0.00           C  \\nHETATM    3  H1  UNL     1      -0.731   0.326   1.500  1.00  0.00           H  \\nHETATM    4  H2  UNL     1      -1.047   0.924  -0.378  1.00  0.00           H  \\nHETATM    5  H3  UNL     1      -1.402  -1.084  -1.006  1.00  0.00           H  \\nHETATM    6  H4  UNL     1       1.214   0.920   0.715  1.00  0.00           H  \\nHETATM    7  H5  UNL     1       1.406   0.356  -0.714  1.00  0.00           H  \\nHETATM    8  H6  UNL     1       1.171  -0.895   0.444  1.00  0.00           H  \\nCONECT    1    2    3    4    5\\nCONECT    2    6    7    8\\nEND\\nENDMDL\\nMODEL       10\\nHETATM    1  C1  UNL     1      -0.883  -0.139  -0.139  1.00  0.00           C  \\nHETATM    2  C2  UNL     1       0.892   0.122   0.138  1.00  0.00           C  \\nHETATM    3  H1  UNL     1      -0.683   0.384   1.561  1.00  0.00           H  \\nHETATM    4  H2  UNL     1      -1.037   0.908  -0.365  1.00  0.00           H  \\nHETATM    5  H3  UNL     1      -1.424  -1.113  -1.049  1.00  0.00           H  \\nHETATM    6  H4  UNL     1       1.223   0.929   0.726  1.00  0.00           H  \\nHETATM    7  H5  UNL     1       1.429   0.382  -0.678  1.00  0.00           H  \\nHETATM    8  H6  UNL     1       1.176  -0.887   0.441  1.00  0.00           H  \\nCONECT    1    2    3    4    5\\nCONECT    2    6    7    8\\nEND\\nENDMDL\\nMODEL       11\\nHETATM    1  C1  UNL     1      -0.893  -0.153  -0.150  1.00  0.00           C  \\nHETATM    2  C2  UNL     1       0.905   0.134   0.149  1.00  0.00           C  \\nHETATM    3  H1  UNL     1      -0.635   0.441   1.621  1.00  0.00           H  \\nHETATM    4  H2  UNL     1      -1.023   0.893  -0.353  1.00  0.00           H  \\nHETATM    5  H3  UNL     1      -1.449  -1.144  -1.091  1.00  0.00           H  \\nHETATM    6  H4  UNL     1       1.231   0.936   0.734  1.00  0.00           H  \\nHETATM    7  H5  UNL     1       1.451   0.409  -0.647  1.00  0.00           H  \\nHETATM    8  H6  UNL     1       1.176  -0.880   0.439  1.00  0.00           H  \\nCONECT    1    2    3    4    5\\nCONECT    2    6    7    8\\nEND\\nENDMDL\\nMODEL       12\\nHETATM    1  C1  UNL     1      -0.903  -0.166  -0.161  1.00  0.00           C  \\nHETATM    2  C2  UNL     1       0.918   0.147   0.160  1.00  0.00           C  \\nHETATM    3  H1  UNL     1      -0.584   0.497   1.682  1.00  0.00           H  \\nHETATM    4  H2  UNL     1      -1.009   0.877  -0.344  1.00  0.00           H  \\nHETATM    5  H3  UNL     1      -1.474  -1.177  -1.131  1.00  0.00           H  \\nHETATM    6  H4  UNL     1       1.241   0.945   0.741  1.00  0.00           H  \\nHETATM    7  H5  UNL     1       1.471   0.434  -0.617  1.00  0.00           H  \\nHETATM    8  H6  UNL     1       1.178  -0.869   0.437  1.00  0.00           H  \\nCONECT    1    2    3    4    5\\nCONECT    2    6    7    8\\nEND\\nENDMDL\\nMODEL       13\\nHETATM    1  C1  UNL     1      -0.912  -0.179  -0.171  1.00  0.00           C  \\nHETATM    2  C2  UNL     1       0.933   0.159   0.172  1.00  0.00           C  \\nHETATM    3  H1  UNL     1      -0.534   0.552   1.741  1.00  0.00           H  \\nHETATM    4  H2  UNL     1      -0.995   0.862  -0.331  1.00  0.00           H  \\nHETATM    5  H3  UNL     1      -1.504  -1.208  -1.171  1.00  0.00           H  \\nHETATM    6  H4  UNL     1       1.250   0.950   0.747  1.00  0.00           H  \\nHETATM    7  H5  UNL     1       1.491   0.458  -0.590  1.00  0.00           H  \\nHETATM    8  H6  UNL     1       1.178  -0.859   0.430  1.00  0.00           H  \\nCONECT    1    2    3    4    5\\nCONECT    2    6    7    8\\nEND\\nENDMDL\\nMODEL       14\\nHETATM    1  C1  UNL     1      -0.921  -0.192  -0.181  1.00  0.00           C  \\nHETATM    2  C2  UNL     1       0.946   0.172   0.183  1.00  0.00           C  \\nHETATM    3  H1  UNL     1      -0.483   0.608   1.803  1.00  0.00           H  \\nHETATM    4  H2  UNL     1      -0.979   0.845  -0.322  1.00  0.00           H  \\nHETATM    5  H3  UNL     1      -1.533  -1.240  -1.212  1.00  0.00           H  \\nHETATM    6  H4  UNL     1       1.258   0.950   0.756  1.00  0.00           H  \\nHETATM    7  H5  UNL     1       1.510   0.486  -0.562  1.00  0.00           H  \\nHETATM    8  H6  UNL     1       1.176  -0.848   0.425  1.00  0.00           H  \\nCONECT    1    2    3    4    5\\nCONECT    2    6    7    8\\nEND\\nENDMDL\\nMODEL       15\\nHETATM    1  C1  UNL     1      -0.929  -0.206  -0.191  1.00  0.00           C  \\nHETATM    2  C2  UNL     1       0.960   0.184   0.194  1.00  0.00           C  \\nHETATM    3  H1  UNL     1      -0.432   0.663   1.865  1.00  0.00           H  \\nHETATM    4  H2  UNL     1      -0.961   0.831  -0.314  1.00  0.00           H  \\nHETATM    5  H3  UNL     1      -1.564  -1.273  -1.252  1.00  0.00           H  \\nHETATM    6  H4  UNL     1       1.262   0.953   0.765  1.00  0.00           H  \\nHETATM    7  H5  UNL     1       1.527   0.510  -0.531  1.00  0.00           H  \\nHETATM    8  H6  UNL     1       1.172  -0.835   0.421  1.00  0.00           H  \\nCONECT    1    2    3    4    5\\nCONECT    2    6    7    8\\nEND\\nENDMDL\\nMODEL       16\\nHETATM    1  C1  UNL     1      -0.938  -0.220  -0.202  1.00  0.00           C  \\nHETATM    2  C2  UNL     1       0.975   0.197   0.205  1.00  0.00           C  \\nHETATM    3  H1  UNL     1      -0.384   0.719   1.929  1.00  0.00           H  \\nHETATM    4  H2  UNL     1      -0.942   0.815  -0.308  1.00  0.00           H  \\nHETATM    5  H3  UNL     1      -1.596  -1.307  -1.294  1.00  0.00           H  \\nHETATM    6  H4  UNL     1       1.265   0.955   0.773  1.00  0.00           H  \\nHETATM    7  H5  UNL     1       1.543   0.535  -0.500  1.00  0.00           H  \\nHETATM    8  H6  UNL     1       1.172  -0.818   0.417  1.00  0.00           H  \\nCONECT    1    2    3    4    5\\nCONECT    2    6    7    8\\nEND\\nENDMDL\\nMODEL       17\\nHETATM    1  C1  UNL     1      -0.948  -0.233  -0.213  1.00  0.00           C  \\nHETATM    2  C2  UNL     1       0.989   0.209   0.214  1.00  0.00           C  \\nHETATM    3  H1  UNL     1      -0.338   0.771   1.993  1.00  0.00           H  \\nHETATM    4  H2  UNL     1      -0.925   0.798  -0.305  1.00  0.00           H  \\nHETATM    5  H3  UNL     1      -1.624  -1.345  -1.334  1.00  0.00           H  \\nHETATM    6  H4  UNL     1       1.267   0.955   0.775  1.00  0.00           H  \\nHETATM    7  H5  UNL     1       1.559   0.563  -0.467  1.00  0.00           H  \\nHETATM    8  H6  UNL     1       1.174  -0.801   0.411  1.00  0.00           H  \\nCONECT    1    2    3    4    5\\nCONECT    2    6    7    8\\nEND\\nENDMDL\\nMODEL       18\\nHETATM    1  C1  UNL     1      -0.957  -0.247  -0.224  1.00  0.00           C  \\nHETATM    2  C2  UNL     1       1.004   0.222   0.223  1.00  0.00           C  \\nHETATM    3  H1  UNL     1      -0.291   0.826   2.059  1.00  0.00           H  \\nHETATM    4  H2  UNL     1      -0.911   0.782  -0.303  1.00  0.00           H  \\nHETATM    5  H3  UNL     1      -1.653  -1.384  -1.375  1.00  0.00           H  \\nHETATM    6  H4  UNL     1       1.270   0.952   0.784  1.00  0.00           H  \\nHETATM    7  H5  UNL     1       1.576   0.589  -0.432  1.00  0.00           H  \\nHETATM    8  H6  UNL     1       1.176  -0.784   0.407  1.00  0.00           H  \\nCONECT    1    2    3    4    5\\nCONECT    2    6    7    8\\nEND\\nENDMDL\\nMODEL       19\\nHETATM    1  C1  UNL     1      -0.966  -0.261  -0.236  1.00  0.00           C  \\nHETATM    2  C2  UNL     1       1.019   0.235   0.232  1.00  0.00           C  \\nHETATM    3  H1  UNL     1      -0.244   0.883   2.126  1.00  0.00           H  \\nHETATM    4  H2  UNL     1      -0.893   0.765  -0.302  1.00  0.00           H  \\nHETATM    5  H3  UNL     1      -1.682  -1.420  -1.414  1.00  0.00           H  \\nHETATM    6  H4  UNL     1       1.272   0.949   0.793  1.00  0.00           H  \\nHETATM    7  H5  UNL     1       1.591   0.616  -0.398  1.00  0.00           H  \\nHETATM    8  H6  UNL     1       1.177  -0.767   0.405  1.00  0.00           H  \\nCONECT    1    2    3    4    5\\nCONECT    2    6    7    8\\nEND\\nENDMDL\\nMODEL       20\\nHETATM    1  C1  UNL     1      -0.975  -0.276  -0.247  1.00  0.00           C  \\nHETATM    2  C2  UNL     1       1.034   0.247   0.241  1.00  0.00           C  \\nHETATM    3  H1  UNL     1      -0.196   0.941   2.191  1.00  0.00           H  \\nHETATM    4  H2  UNL     1      -0.875   0.746  -0.299  1.00  0.00           H  \\nHETATM    5  H3  UNL     1      -1.715  -1.455  -1.450  1.00  0.00           H  \\nHETATM    6  H4  UNL     1       1.274   0.946   0.802  1.00  0.00           H  \\nHETATM    7  H5  UNL     1       1.605   0.642  -0.367  1.00  0.00           H  \\nHETATM    8  H6  UNL     1       1.176  -0.751   0.403  1.00  0.00           H  \\nCONECT    1    2    3    4    5\\nCONECT    2    6    7    8\\nEND\\nENDMDL\\nMODEL       21\\nHETATM    1  C1  UNL     1      -0.984  -0.292  -0.259  1.00  0.00           C  \\nHETATM    2  C2  UNL     1       1.050   0.258   0.249  1.00  0.00           C  \\nHETATM    3  H1  UNL     1      -0.146   0.999   2.252  1.00  0.00           H  \\nHETATM    4  H2  UNL     1      -0.859   0.727  -0.296  1.00  0.00           H  \\nHETATM    5  H3  UNL     1      -1.748  -1.491  -1.482  1.00  0.00           H  \\nHETATM    6  H4  UNL     1       1.277   0.940   0.813  1.00  0.00           H  \\nHETATM    7  H5  UNL     1       1.620   0.668  -0.335  1.00  0.00           H  \\nHETATM    8  H6  UNL     1       1.173  -0.734   0.399  1.00  0.00           H  \\nCONECT    1    2    3    4    5\\nCONECT    2    6    7    8\\nEND\\nENDMDL\\nMODEL       22\\nHETATM    1  C1  UNL     1      -0.993  -0.307  -0.270  1.00  0.00           C  \\nHETATM    2  C2  UNL     1       1.066   0.270   0.258  1.00  0.00           C  \\nHETATM    3  H1  UNL     1      -0.096   1.060   2.317  1.00  0.00           H  \\nHETATM    4  H2  UNL     1      -0.841   0.710  -0.294  1.00  0.00           H  \\nHETATM    5  H3  UNL     1      -1.782  -1.527  -1.513  1.00  0.00           H  \\nHETATM    6  H4  UNL     1       1.281   0.932   0.822  1.00  0.00           H  \\nHETATM    7  H5  UNL     1       1.637   0.691  -0.302  1.00  0.00           H  \\nHETATM    8  H6  UNL     1       1.169  -0.719   0.398  1.00  0.00           H  \\nCONECT    1    2    3    4    5\\nCONECT    2    6    7    8\\nEND\\nENDMDL\\nMODEL       23\\nHETATM    1  C1  UNL     1      -1.001  -0.322  -0.282  1.00  0.00           C  \\nHETATM    2  C2  UNL     1       1.082   0.280   0.266  1.00  0.00           C  \\nHETATM    3  H1  UNL     1      -0.047   1.122   2.381  1.00  0.00           H  \\nHETATM    4  H2  UNL     1      -0.825   0.690  -0.290  1.00  0.00           H  \\nHETATM    5  H3  UNL     1      -1.812  -1.564  -1.545  1.00  0.00           H  \\nHETATM    6  H4  UNL     1       1.286   0.922   0.831  1.00  0.00           H  \\nHETATM    7  H5  UNL     1       1.655   0.716  -0.271  1.00  0.00           H  \\nHETATM    8  H6  UNL     1       1.165  -0.704   0.403  1.00  0.00           H  \\nCONECT    1    2    3    4    5\\nCONECT    2    6    7    8\\nEND\\nENDMDL\\nMODEL       24\\nHETATM    1  C1  UNL     1      -1.008  -0.337  -0.294  1.00  0.00           C  \\nHETATM    2  C2  UNL     1       1.097   0.291   0.275  1.00  0.00           C  \\nHETATM    3  H1  UNL     1       0.003   1.182   2.447  1.00  0.00           H  \\nHETATM    4  H2  UNL     1      -0.809   0.670  -0.284  1.00  0.00           H  \\nHETATM    5  H3  UNL     1      -1.840  -1.599  -1.572  1.00  0.00           H  \\nHETATM    6  H4  UNL     1       1.294   0.910   0.835  1.00  0.00           H  \\nHETATM    7  H5  UNL     1       1.674   0.740  -0.237  1.00  0.00           H  \\nHETATM    8  H6  UNL     1       1.165  -0.690   0.404  1.00  0.00           H  \\nCONECT    1    2    3    4    5\\nCONECT    2    6    7    8\\nEND\\nENDMDL\\nMODEL       25\\nHETATM    1  C1  UNL     1      -1.015  -0.351  -0.307  1.00  0.00           C  \\nHETATM    2  C2  UNL     1       1.113   0.301   0.283  1.00  0.00           C  \\nHETATM    3  H1  UNL     1       0.050   1.246   2.513  1.00  0.00           H  \\nHETATM    4  H2  UNL     1      -0.795   0.650  -0.278  1.00  0.00           H  \\nHETATM    5  H3  UNL     1      -1.867  -1.634  -1.600  1.00  0.00           H  \\nHETATM    6  H4  UNL     1       1.300   0.898   0.838  1.00  0.00           H  \\nHETATM    7  H5  UNL     1       1.695   0.766  -0.204  1.00  0.00           H  \\nHETATM    8  H6  UNL     1       1.163  -0.678   0.402  1.00  0.00           H  \\nCONECT    1    2    3    4    5\\nCONECT    2    6    7    8\\nEND\\nENDMDL\\nMODEL       26\\nHETATM    1  C1  UNL     1      -1.023  -0.365  -0.321  1.00  0.00           C  \\nHETATM    2  C2  UNL     1       1.129   0.311   0.292  1.00  0.00           C  \\nHETATM    3  H1  UNL     1       0.098   1.308   2.577  1.00  0.00           H  \\nHETATM    4  H2  UNL     1      -0.780   0.632  -0.274  1.00  0.00           H  \\nHETATM    5  H3  UNL     1      -1.893  -1.666  -1.623  1.00  0.00           H  \\nHETATM    6  H4  UNL     1       1.304   0.886   0.838  1.00  0.00           H  \\nHETATM    7  H5  UNL     1       1.713   0.794  -0.171  1.00  0.00           H  \\nHETATM    8  H6  UNL     1       1.162  -0.668   0.398  1.00  0.00           H  \\nCONECT    1    2    3    4    5\\nCONECT    2    6    7    8\\nEND\\nENDMDL\\nMODEL       27\\nHETATM    1  C1  UNL     1      -1.030  -0.378  -0.335  1.00  0.00           C  \\nHETATM    2  C2  UNL     1       1.145   0.321   0.301  1.00  0.00           C  \\nHETATM    3  H1  UNL     1       0.145   1.368   2.640  1.00  0.00           H  \\nHETATM    4  H2  UNL     1      -0.765   0.618  -0.271  1.00  0.00           H  \\nHETATM    5  H3  UNL     1      -1.918  -1.698  -1.643  1.00  0.00           H  \\nHETATM    6  H4  UNL     1       1.305   0.877   0.837  1.00  0.00           H  \\nHETATM    7  H5  UNL     1       1.733   0.820  -0.138  1.00  0.00           H  \\nHETATM    8  H6  UNL     1       1.161  -0.657   0.392  1.00  0.00           H  \\nCONECT    1    2    3    4    5\\nCONECT    2    6    7    8\\nEND\\nENDMDL\\nMODEL       28\\nHETATM    1  C1  UNL     1      -1.036  -0.392  -0.351  1.00  0.00           C  \\nHETATM    2  C2  UNL     1       1.161   0.332   0.310  1.00  0.00           C  \\nHETATM    3  H1  UNL     1       0.193   1.428   2.702  1.00  0.00           H  \\nHETATM    4  H2  UNL     1      -0.752   0.605  -0.267  1.00  0.00           H  \\nHETATM    5  H3  UNL     1      -1.940  -1.727  -1.660  1.00  0.00           H  \\nHETATM    6  H4  UNL     1       1.302   0.864   0.833  1.00  0.00           H  \\nHETATM    7  H5  UNL     1       1.752   0.846  -0.104  1.00  0.00           H  \\nHETATM    8  H6  UNL     1       1.159  -0.648   0.389  1.00  0.00           H  \\nCONECT    1    2    3    4    5\\nCONECT    2    6    7    8\\nEND\\nENDMDL\\nMODEL       29\\nHETATM    1  C1  UNL     1      -1.043  -0.406  -0.365  1.00  0.00           C  \\nHETATM    2  C2  UNL     1       1.177   0.343   0.319  1.00  0.00           C  \\nHETATM    3  H1  UNL     1       0.240   1.488   2.767  1.00  0.00           H  \\nHETATM    4  H2  UNL     1      -0.743   0.593  -0.264  1.00  0.00           H  \\nHETATM    5  H3  UNL     1      -1.961  -1.753  -1.675  1.00  0.00           H  \\nHETATM    6  H4  UNL     1       1.299   0.854   0.831  1.00  0.00           H  \\nHETATM    7  H5  UNL     1       1.772   0.874  -0.067  1.00  0.00           H  \\nHETATM    8  H6  UNL     1       1.161  -0.641   0.386  1.00  0.00           H  \\nCONECT    1    2    3    4    5\\nCONECT    2    6    7    8\\nEND\\nENDMDL\\nMODEL       30\\nHETATM    1  C1  UNL     1      -1.049  -0.419  -0.378  1.00  0.00           C  \\nHETATM    2  C2  UNL     1       1.191   0.354   0.328  1.00  0.00           C  \\nHETATM    3  H1  UNL     1       0.287   1.549   2.836  1.00  0.00           H  \\nHETATM    4  H2  UNL     1      -0.738   0.579  -0.263  1.00  0.00           H  \\nHETATM    5  H3  UNL     1      -1.986  -1.783  -1.691  1.00  0.00           H  \\nHETATM    6  H4  UNL     1       1.297   0.843   0.827  1.00  0.00           H  \\nHETATM    7  H5  UNL     1       1.792   0.900  -0.026  1.00  0.00           H  \\nHETATM    8  H6  UNL     1       1.162  -0.635   0.380  1.00  0.00           H  \\nCONECT    1    2    3    4    5\\nCONECT    2    6    7    8\\nEND\\nENDMDL\\nMODEL       31\\nHETATM    1  C1  UNL     1      -1.055  -0.433  -0.391  1.00  0.00           C  \\nHETATM    2  C2  UNL     1       1.206   0.365   0.337  1.00  0.00           C  \\nHETATM    3  H1  UNL     1       0.335   1.610   2.907  1.00  0.00           H  \\nHETATM    4  H2  UNL     1      -0.733   0.564  -0.264  1.00  0.00           H  \\nHETATM    5  H3  UNL     1      -2.006  -1.813  -1.706  1.00  0.00           H  \\nHETATM    6  H4  UNL     1       1.292   0.835   0.824  1.00  0.00           H  \\nHETATM    7  H5  UNL     1       1.811   0.927   0.013  1.00  0.00           H  \\nHETATM    8  H6  UNL     1       1.162  -0.630   0.378  1.00  0.00           H  \\nCONECT    1    2    3    4    5\\nCONECT    2    6    7    8\\nEND\\nENDMDL\\nMODEL       32\\nHETATM    1  C1  UNL     1      -1.061  -0.447  -0.403  1.00  0.00           C  \\nHETATM    2  C2  UNL     1       1.221   0.377   0.346  1.00  0.00           C  \\nHETATM    3  H1  UNL     1       0.383   1.672   2.978  1.00  0.00           H  \\nHETATM    4  H2  UNL     1      -0.727   0.553  -0.262  1.00  0.00           H  \\nHETATM    5  H3  UNL     1      -2.027  -1.840  -1.719  1.00  0.00           H  \\nHETATM    6  H4  UNL     1       1.289   0.829   0.825  1.00  0.00           H  \\nHETATM    7  H5  UNL     1       1.826   0.955   0.056  1.00  0.00           H  \\nHETATM    8  H6  UNL     1       1.158  -0.622   0.373  1.00  0.00           H  \\nCONECT    1    2    3    4    5\\nCONECT    2    6    7    8\\nEND\\nENDMDL\\nMODEL       33\\nHETATM    1  C1  UNL     1      -1.067  -0.462  -0.415  1.00  0.00           C  \\nHETATM    2  C2  UNL     1       1.235   0.389   0.355  1.00  0.00           C  \\nHETATM    3  H1  UNL     1       0.432   1.736   3.052  1.00  0.00           H  \\nHETATM    4  H2  UNL     1      -0.722   0.543  -0.260  1.00  0.00           H  \\nHETATM    5  H3  UNL     1      -2.047  -1.869  -1.732  1.00  0.00           H  \\nHETATM    6  H4  UNL     1       1.285   0.825   0.826  1.00  0.00           H  \\nHETATM    7  H5  UNL     1       1.840   0.982   0.094  1.00  0.00           H  \\nHETATM    8  H6  UNL     1       1.152  -0.617   0.366  1.00  0.00           H  \\nCONECT    1    2    3    4    5\\nCONECT    2    6    7    8\\nEND\\nENDMDL\\nMODEL       34\\nHETATM    1  C1  UNL     1      -1.074  -0.476  -0.427  1.00  0.00           C  \\nHETATM    2  C2  UNL     1       1.249   0.401   0.364  1.00  0.00           C  \\nHETATM    3  H1  UNL     1       0.481   1.801   3.128  1.00  0.00           H  \\nHETATM    4  H2  UNL     1      -0.718   0.530  -0.257  1.00  0.00           H  \\nHETATM    5  H3  UNL     1      -2.067  -1.898  -1.747  1.00  0.00           H  \\nHETATM    6  H4  UNL     1       1.280   0.821   0.829  1.00  0.00           H  \\nHETATM    7  H5  UNL     1       1.854   1.010   0.130  1.00  0.00           H  \\nHETATM    8  H6  UNL     1       1.147  -0.618   0.359  1.00  0.00           H  \\nCONECT    1    2    3    4    5\\nCONECT    2    6    7    8\\nEND\\nENDMDL\\nMODEL       35\\nHETATM    1  C1  UNL     1      -1.079  -0.490  -0.439  1.00  0.00           C  \\nHETATM    2  C2  UNL     1       1.265   0.412   0.373  1.00  0.00           C  \\nHETATM    3  H1  UNL     1       0.531   1.866   3.203  1.00  0.00           H  \\nHETATM    4  H2  UNL     1      -0.715   0.516  -0.254  1.00  0.00           H  \\nHETATM    5  H3  UNL     1      -2.086  -1.926  -1.763  1.00  0.00           H  \\nHETATM    6  H4  UNL     1       1.275   0.820   0.834  1.00  0.00           H  \\nHETATM    7  H5  UNL     1       1.870   1.040   0.168  1.00  0.00           H  \\nHETATM    8  H6  UNL     1       1.143  -0.618   0.353  1.00  0.00           H  \\nCONECT    1    2    3    4    5\\nCONECT    2    6    7    8\\nEND\\nENDMDL\\nMODEL       36\\nHETATM    1  C1  UNL     1      -1.086  -0.504  -0.452  1.00  0.00           C  \\nHETATM    2  C2  UNL     1       1.280   0.422   0.381  1.00  0.00           C  \\nHETATM    3  H1  UNL     1       0.581   1.934   3.275  1.00  0.00           H  \\nHETATM    4  H2  UNL     1      -0.710   0.505  -0.253  1.00  0.00           H  \\nHETATM    5  H3  UNL     1      -2.106  -1.951  -1.780  1.00  0.00           H  \\nHETATM    6  H4  UNL     1       1.272   0.822   0.841  1.00  0.00           H  \\nHETATM    7  H5  UNL     1       1.884   1.065   0.207  1.00  0.00           H  \\nHETATM    8  H6  UNL     1       1.141  -0.617   0.346  1.00  0.00           H  \\nCONECT    1    2    3    4    5\\nCONECT    2    6    7    8\\nEND\\nENDMDL\\nMODEL       37\\nHETATM    1  C1  UNL     1      -1.093  -0.518  -0.464  1.00  0.00           C  \\nHETATM    2  C2  UNL     1       1.296   0.433   0.388  1.00  0.00           C  \\nHETATM    3  H1  UNL     1       0.630   2.002   3.346  1.00  0.00           H  \\nHETATM    4  H2  UNL     1      -0.705   0.496  -0.250  1.00  0.00           H  \\nHETATM    5  H3  UNL     1      -2.128  -1.978  -1.797  1.00  0.00           H  \\nHETATM    6  H4  UNL     1       1.273   0.825   0.848  1.00  0.00           H  \\nHETATM    7  H5  UNL     1       1.900   1.092   0.250  1.00  0.00           H  \\nHETATM    8  H6  UNL     1       1.137  -0.618   0.343  1.00  0.00           H  \\nCONECT    1    2    3    4    5\\nCONECT    2    6    7    8\\nEND\\nENDMDL\\nMODEL       38\\nHETATM    1  C1  UNL     1      -1.100  -0.534  -0.476  1.00  0.00           C  \\nHETATM    2  C2  UNL     1       1.312   0.445   0.395  1.00  0.00           C  \\nHETATM    3  H1  UNL     1       0.677   2.070   3.421  1.00  0.00           H  \\nHETATM    4  H2  UNL     1      -0.701   0.488  -0.247  1.00  0.00           H  \\nHETATM    5  H3  UNL     1      -2.149  -2.002  -1.812  1.00  0.00           H  \\nHETATM    6  H4  UNL     1       1.275   0.830   0.857  1.00  0.00           H  \\nHETATM    7  H5  UNL     1       1.917   1.115   0.293  1.00  0.00           H  \\nHETATM    8  H6  UNL     1       1.133  -0.620   0.341  1.00  0.00           H  \\nCONECT    1    2    3    4    5\\nCONECT    2    6    7    8\\nEND\\nENDMDL\\nMODEL       39\\nHETATM    1  C1  UNL     1      -1.109  -0.550  -0.488  1.00  0.00           C  \\nHETATM    2  C2  UNL     1       1.328   0.457   0.402  1.00  0.00           C  \\nHETATM    3  H1  UNL     1       0.726   2.140   3.496  1.00  0.00           H  \\nHETATM    4  H2  UNL     1      -0.698   0.480  -0.242  1.00  0.00           H  \\nHETATM    5  H3  UNL     1      -2.170  -2.025  -1.829  1.00  0.00           H  \\nHETATM    6  H4  UNL     1       1.279   0.836   0.865  1.00  0.00           H  \\nHETATM    7  H5  UNL     1       1.936   1.140   0.338  1.00  0.00           H  \\nHETATM    8  H6  UNL     1       1.126  -0.624   0.339  1.00  0.00           H  \\nCONECT    1    2    3    4    5\\nCONECT    2    6    7    8\\nEND\\nENDMDL\\nMODEL       40\\nHETATM    1  C1  UNL     1      -1.117  -0.566  -0.500  1.00  0.00           C  \\nHETATM    2  C2  UNL     1       1.344   0.468   0.409  1.00  0.00           C  \\nHETATM    3  H1  UNL     1       0.777   2.209   3.568  1.00  0.00           H  \\nHETATM    4  H2  UNL     1      -0.691   0.470  -0.234  1.00  0.00           H  \\nHETATM    5  H3  UNL     1      -2.190  -2.049  -1.848  1.00  0.00           H  \\nHETATM    6  H4  UNL     1       1.284   0.843   0.875  1.00  0.00           H  \\nHETATM    7  H5  UNL     1       1.958   1.165   0.381  1.00  0.00           H  \\nHETATM    8  H6  UNL     1       1.118  -0.631   0.338  1.00  0.00           H  \\nCONECT    1    2    3    4    5\\nCONECT    2    6    7    8\\nEND\\nENDMDL\\nMODEL       41\\nHETATM    1  C1  UNL     1      -1.125  -0.583  -0.512  1.00  0.00           C  \\nHETATM    2  C2  UNL     1       1.360   0.480   0.414  1.00  0.00           C  \\nHETATM    3  H1  UNL     1       0.828   2.276   3.637  1.00  0.00           H  \\nHETATM    4  H2  UNL     1      -0.681   0.463  -0.227  1.00  0.00           H  \\nHETATM    5  H3  UNL     1      -2.207  -2.075  -1.869  1.00  0.00           H  \\nHETATM    6  H4  UNL     1       1.288   0.852   0.886  1.00  0.00           H  \\nHETATM    7  H5  UNL     1       1.981   1.192   0.427  1.00  0.00           H  \\nHETATM    8  H6  UNL     1       1.114  -0.636   0.339  1.00  0.00           H  \\nCONECT    1    2    3    4    5\\nCONECT    2    6    7    8\\nEND\\nENDMDL\\nMODEL       42\\nHETATM    1  C1  UNL     1      -1.133  -0.600  -0.523  1.00  0.00           C  \\nHETATM    2  C2  UNL     1       1.377   0.492   0.419  1.00  0.00           C  \\nHETATM    3  H1  UNL     1       0.879   2.345   3.705  1.00  0.00           H  \\nHETATM    4  H2  UNL     1      -0.669   0.457  -0.219  1.00  0.00           H  \\nHETATM    5  H3  UNL     1      -2.226  -2.099  -1.889  1.00  0.00           H  \\nHETATM    6  H4  UNL     1       1.291   0.859   0.898  1.00  0.00           H  \\nHETATM    7  H5  UNL     1       2.005   1.215   0.469  1.00  0.00           H  \\nHETATM    8  H6  UNL     1       1.108  -0.645   0.335  1.00  0.00           H  \\nCONECT    1    2    3    4    5\\nCONECT    2    6    7    8\\nEND\\nENDMDL\\nMODEL       43\\nHETATM    1  C1  UNL     1      -1.141  -0.617  -0.535  1.00  0.00           C  \\nHETATM    2  C2  UNL     1       1.394   0.502   0.424  1.00  0.00           C  \\nHETATM    3  H1  UNL     1       0.929   2.414   3.773  1.00  0.00           H  \\nHETATM    4  H2  UNL     1      -0.658   0.451  -0.207  1.00  0.00           H  \\nHETATM    5  H3  UNL     1      -2.244  -2.120  -1.911  1.00  0.00           H  \\nHETATM    6  H4  UNL     1       1.296   0.863   0.912  1.00  0.00           H  \\nHETATM    7  H5  UNL     1       2.031   1.239   0.510  1.00  0.00           H  \\nHETATM    8  H6  UNL     1       1.102  -0.655   0.330  1.00  0.00           H  \\nCONECT    1    2    3    4    5\\nCONECT    2    6    7    8\\nEND\\nENDMDL\\nMODEL       44\\nHETATM    1  C1  UNL     1      -1.150  -0.634  -0.547  1.00  0.00           C  \\nHETATM    2  C2  UNL     1       1.411   0.512   0.429  1.00  0.00           C  \\nHETATM    3  H1  UNL     1       0.978   2.482   3.843  1.00  0.00           H  \\nHETATM    4  H2  UNL     1      -0.647   0.445  -0.194  1.00  0.00           H  \\nHETATM    5  H3  UNL     1      -2.260  -2.141  -1.934  1.00  0.00           H  \\nHETATM    6  H4  UNL     1       1.304   0.867   0.923  1.00  0.00           H  \\nHETATM    7  H5  UNL     1       2.053   1.263   0.550  1.00  0.00           H  \\nHETATM    8  H6  UNL     1       1.093  -0.661   0.328  1.00  0.00           H  \\nCONECT    1    2    3    4    5\\nCONECT    2    6    7    8\\nEND\\nENDMDL\\nMODEL       45\\nHETATM    1  C1  UNL     1      -1.158  -0.652  -0.559  1.00  0.00           C  \\nHETATM    2  C2  UNL     1       1.428   0.521   0.434  1.00  0.00           C  \\nHETATM    3  H1  UNL     1       1.025   2.546   3.913  1.00  0.00           H  \\nHETATM    4  H2  UNL     1      -0.638   0.439  -0.182  1.00  0.00           H  \\nHETATM    5  H3  UNL     1      -2.278  -2.164  -1.957  1.00  0.00           H  \\nHETATM    6  H4  UNL     1       1.310   0.871   0.935  1.00  0.00           H  \\nHETATM    7  H5  UNL     1       2.076   1.289   0.592  1.00  0.00           H  \\nHETATM    8  H6  UNL     1       1.087  -0.666   0.321  1.00  0.00           H  \\nCONECT    1    2    3    4    5\\nCONECT    2    6    7    8\\nEND\\nENDMDL\\nMODEL       46\\nHETATM    1  C1  UNL     1      -1.166  -0.670  -0.570  1.00  0.00           C  \\nHETATM    2  C2  UNL     1       1.444   0.531   0.439  1.00  0.00           C  \\nHETATM    3  H1  UNL     1       1.071   2.613   3.983  1.00  0.00           H  \\nHETATM    4  H2  UNL     1      -0.627   0.432  -0.169  1.00  0.00           H  \\nHETATM    5  H3  UNL     1      -2.294  -2.185  -1.980  1.00  0.00           H  \\nHETATM    6  H4  UNL     1       1.316   0.874   0.947  1.00  0.00           H  \\nHETATM    7  H5  UNL     1       2.104   1.314   0.636  1.00  0.00           H  \\nHETATM    8  H6  UNL     1       1.085  -0.672   0.314  1.00  0.00           H  \\nCONECT    1    2    3    4    5\\nCONECT    2    6    7    8\\nEND\\nENDMDL\\nMODEL       47\\nHETATM    1  C1  UNL     1      -1.174  -0.687  -0.582  1.00  0.00           C  \\nHETATM    2  C2  UNL     1       1.461   0.541   0.444  1.00  0.00           C  \\nHETATM    3  H1  UNL     1       1.116   2.679   4.054  1.00  0.00           H  \\nHETATM    4  H2  UNL     1      -0.616   0.427  -0.157  1.00  0.00           H  \\nHETATM    5  H3  UNL     1      -2.314  -2.207  -2.002  1.00  0.00           H  \\nHETATM    6  H4  UNL     1       1.323   0.875   0.960  1.00  0.00           H  \\nHETATM    7  H5  UNL     1       2.132   1.341   0.681  1.00  0.00           H  \\nHETATM    8  H6  UNL     1       1.081  -0.679   0.304  1.00  0.00           H  \\nCONECT    1    2    3    4    5\\nCONECT    2    6    7    8\\nEND\\nENDMDL\\nMODEL       48\\nHETATM    1  C1  UNL     1      -1.181  -0.705  -0.594  1.00  0.00           C  \\nHETATM    2  C2  UNL     1       1.477   0.551   0.448  1.00  0.00           C  \\nHETATM    3  H1  UNL     1       1.163   2.749   4.126  1.00  0.00           H  \\nHETATM    4  H2  UNL     1      -0.609   0.419  -0.145  1.00  0.00           H  \\nHETATM    5  H3  UNL     1      -2.332  -2.227  -2.022  1.00  0.00           H  \\nHETATM    6  H4  UNL     1       1.328   0.873   0.971  1.00  0.00           H  \\nHETATM    7  H5  UNL     1       2.160   1.368   0.726  1.00  0.00           H  \\nHETATM    8  H6  UNL     1       1.078  -0.686   0.294  1.00  0.00           H  \\nCONECT    1    2    3    4    5\\nCONECT    2    6    7    8\\nEND\\nENDMDL\\nMODEL       49\\nHETATM    1  C1  UNL     1      -1.188  -0.723  -0.605  1.00  0.00           C  \\nHETATM    2  C2  UNL     1       1.494   0.560   0.452  1.00  0.00           C  \\nHETATM    3  H1  UNL     1       1.208   2.821   4.197  1.00  0.00           H  \\nHETATM    4  H2  UNL     1      -0.605   0.411  -0.136  1.00  0.00           H  \\nHETATM    5  H3  UNL     1      -2.347  -2.248  -2.041  1.00  0.00           H  \\nHETATM    6  H4  UNL     1       1.331   0.870   0.983  1.00  0.00           H  \\nHETATM    7  H5  UNL     1       2.188   1.390   0.769  1.00  0.00           H  \\nHETATM    8  H6  UNL     1       1.081  -0.693   0.284  1.00  0.00           H  \\nCONECT    1    2    3    4    5\\nCONECT    2    6    7    8\\nEND\\nENDMDL\\nMODEL       50\\nHETATM    1  C1  UNL     1      -1.195  -0.741  -0.618  1.00  0.00           C  \\nHETATM    2  C2  UNL     1       1.511   0.569   0.455  1.00  0.00           C  \\nHETATM    3  H1  UNL     1       1.250   2.894   4.267  1.00  0.00           H  \\nHETATM    4  H2  UNL     1      -0.600   0.402  -0.126  1.00  0.00           H  \\nHETATM    5  H3  UNL     1      -2.363  -2.270  -2.059  1.00  0.00           H  \\nHETATM    6  H4  UNL     1       1.335   0.866   0.989  1.00  0.00           H  \\nHETATM    7  H5  UNL     1       2.212   1.415   0.811  1.00  0.00           H  \\nHETATM    8  H6  UNL     1       1.083  -0.701   0.274  1.00  0.00           H  \\nCONECT    1    2    3    4    5\\nCONECT    2    6    7    8\\nEND\\nENDMDL\\n\",\"trajectory\",{\"keepH\": true});\n",
       "\tviewer_1717486592615551.setBackgroundColor(\"white\");\n",
       "\tviewer_1717486592615551.setStyle({\"stick\": {\"scale\": 0.3}, \"sphere\": {\"scale\": 0.3}});\n",
       "\tviewer_1717486592615551.zoomTo();\n",
       "\tviewer_1717486592615551.animate({\"loop\": \"forward\", \"interval\": 10});\n",
       "viewer_1717486592615551.render();\n",
       "});\n",
       "</script>"
      ]
     },
     "metadata": {},
     "output_type": "display_data"
    }
   ],
   "source": [
    "# Show the animation\n",
    "view = py3Dmol.view(width=400, height=300)\n",
    "view.addModelsAsFrames(trajectory, \"trajectory\", {'keepH': True})\n",
    "view.setBackgroundColor('white')\n",
    "view.setStyle({'stick': {'scale': 0.3}, 'sphere': {'scale': 0.3}})\n",
    "view.zoomTo()\n",
    "view.animate({'loop': \"forward\", 'interval': 10}) # Adjust the speed as needed (set 'interval' to a new value in millisecond)\n",
    "view.show()"
   ]
  },
  {
   "cell_type": "markdown",
   "id": "c6ca3bb5",
   "metadata": {},
   "source": [
    "### 3.4.2. Protein Simulation"
   ]
  },
  {
   "cell_type": "markdown",
   "id": "807e550c",
   "metadata": {},
   "source": [
    "In the following section, we will simulate the dynamics of a protein. For this, you need to install MDAnalysis and NGLView:"
   ]
  },
  {
   "cell_type": "code",
   "execution_count": null,
   "id": "c38313aa",
   "metadata": {},
   "outputs": [],
   "source": [
    "!conda install -c conda-forge mdanalysis"
   ]
  },
  {
   "cell_type": "code",
   "execution_count": null,
   "id": "29262ea8",
   "metadata": {},
   "outputs": [],
   "source": [
    "!conda install -c conda-forge nglview"
   ]
  },
  {
   "cell_type": "code",
   "execution_count": 10,
   "id": "7023fa81",
   "metadata": {},
   "outputs": [
    {
     "data": {
      "application/vnd.jupyter.widget-view+json": {
       "model_id": "b4630fe6d269477bbc2ae5b38142c9f1",
       "version_major": 2,
       "version_minor": 0
      },
      "text/plain": []
     },
     "metadata": {},
     "output_type": "display_data"
    }
   ],
   "source": [
    "# Import modules\n",
    "from openmm import *\n",
    "from openmm.app import *\n",
    "from openmm.unit import *\n",
    "import MDAnalysis as md\n",
    "import nglview as ng\n",
    "from sys import stdout"
   ]
  },
  {
   "cell_type": "code",
   "execution_count": 11,
   "id": "a0ac4c2d",
   "metadata": {},
   "outputs": [
    {
     "data": {
      "application/vnd.jupyter.widget-view+json": {
       "model_id": "267b8d659537440eb1f95aaf9f315278",
       "version_major": 2,
       "version_minor": 0
      },
      "text/plain": [
       "NGLWidget()"
      ]
     },
     "metadata": {},
     "output_type": "display_data"
    },
    {
     "data": {
      "application/vnd.jupyter.widget-view+json": {
       "model_id": "8c73160edda54accbf1db45f6380ae9b",
       "version_major": 2,
       "version_minor": 0
      },
      "text/plain": [
       "Tab(children=(Box(children=(Box(children=(Box(children=(Label(value='step'), IntSlider(value=1, min=-100)), la…"
      ]
     },
     "metadata": {},
     "output_type": "display_data"
    }
   ],
   "source": [
    "## View protein file\n",
    "protein_file_name = '.\\\\structures\\\\1a3n_chainA.pdb'\n",
    "u = md.Universe(protein_file_name)\n",
    "ng.show_mdanalysis(u, gui=True)"
   ]
  },
  {
   "cell_type": "code",
   "execution_count": 12,
   "id": "1f136ca5",
   "metadata": {},
   "outputs": [],
   "source": [
    "## Loading protein file\n",
    "protein_pdb = PDBFile(protein_file_name)\n",
    "\n",
    "## Choosing forcefield\n",
    "forcefield = ForceField('amber14-all.xml', 'amber14/tip3pfb.xml')\n",
    "\n",
    "# Create a combined system for the protein-ligand complex\n",
    "system = forcefield.createSystem(protein_pdb.topology, nonbondedMethod=PME,\n",
    "        nonbondedCutoff=1*nanometer, constraints=HBonds)\n",
    "\n",
    "## Set up integrator\n",
    "temperature = 300*kelvin\n",
    "frictionCoeff = 1/picosecond\n",
    "time_step = 0.002*picoseconds\n",
    "integrator = LangevinIntegrator(temperature, frictionCoeff, time_step)"
   ]
  },
  {
   "cell_type": "code",
   "execution_count": 13,
   "id": "ad319c09",
   "metadata": {},
   "outputs": [],
   "source": [
    "## Create a simulation object\n",
    "simulation = Simulation(protein_pdb.topology, system, integrator)"
   ]
  },
  {
   "cell_type": "code",
   "execution_count": 14,
   "id": "94efc5bf",
   "metadata": {},
   "outputs": [],
   "source": [
    "## Initialize the position and minimize energy\n",
    "simulation.context.setPositions(protein_pdb.positions)\n",
    "simulation.minimizeEnergy()\n",
    "\n",
    "## Set up reporters\n",
    "total_steps = 10000\n",
    "pdb_reporter = PDBReporter('.\\\\trajectories\\\\traj.pdb', 1000)\n",
    "state_data_reporter = StateDataReporter(stdout, 500, step=True, potentialEnergy=True, temperature=True, progress=True, totalSteps = total_steps)\n",
    "simulation.reporters.append(pdb_reporter)\n",
    "simulation.reporters.append(state_data_reporter)"
   ]
  },
  {
   "cell_type": "code",
   "execution_count": 15,
   "id": "7f158bd8",
   "metadata": {
    "scrolled": true
   },
   "outputs": [
    {
     "name": "stdout",
     "output_type": "stream",
     "text": [
      "#\"Progress (%)\",\"Step\",\"Potential Energy (kJ/mole)\",\"Temperature (K)\"\n",
      "5.0%,500,-6304.530415259782,197.98794899112784\n",
      "10.0%,1000,-5059.3991148104105,271.7020310448786\n",
      "15.0%,1500,-4835.08856125969,283.8652765456841\n",
      "20.0%,2000,-4753.279729091111,287.97709909777086\n",
      "25.0%,2500,-4892.5947105516825,295.4984057229687\n",
      "30.0%,3000,-4659.642019950334,312.2221076798952\n",
      "35.0%,3500,-5216.68158646721,307.065337230565\n",
      "40.0%,4000,-4940.317755900804,302.0661247994083\n",
      "45.0%,4500,-4908.8977644075785,291.16050249470396\n",
      "50.0%,5000,-4839.851783000413,292.3316949998694\n",
      "55.0%,5500,-5042.78221436638,308.55518267550883\n",
      "60.0%,6000,-4973.330884181443,294.61129420550947\n",
      "65.0%,6500,-5017.711091243211,295.12860483409986\n",
      "70.0%,7000,-5061.674250804368,301.9387418829794\n",
      "75.0%,7500,-5058.134992801133,301.3780765202492\n",
      "80.0%,8000,-5157.822585307542,301.0121841720451\n",
      "85.0%,8500,-5329.774825297776,303.98104563102964\n",
      "90.0%,9000,-5212.066554271165,304.4242965148912\n",
      "95.0%,9500,-5424.086425029222,300.27506935207305\n",
      "100.0%,10000,-5033.3215953936015,309.0397042451715\n"
     ]
    }
   ],
   "source": [
    "## Run simulation\n",
    "simulation.step(total_steps)"
   ]
  },
  {
   "cell_type": "code",
   "execution_count": 16,
   "id": "b2b5b656",
   "metadata": {},
   "outputs": [
    {
     "data": {
      "application/vnd.jupyter.widget-view+json": {
       "model_id": "691682d09cae489bab7b2fda253e5fb6",
       "version_major": 2,
       "version_minor": 0
      },
      "text/plain": [
       "NGLWidget(max_frame=9)"
      ]
     },
     "metadata": {},
     "output_type": "display_data"
    },
    {
     "data": {
      "application/vnd.jupyter.widget-view+json": {
       "model_id": "d03e17046f8c401d9e162036e09a4ed5",
       "version_major": 2,
       "version_minor": 0
      },
      "text/plain": [
       "Tab(children=(Box(children=(Box(children=(Box(children=(Label(value='step'), IntSlider(value=1, min=-100)), la…"
      ]
     },
     "metadata": {},
     "output_type": "display_data"
    }
   ],
   "source": [
    "## Visualize the result\n",
    "sys = md.Universe(protein_file_name, '.\\\\trajectories\\\\traj.pdb')\n",
    "ng.show_mdanalysis(sys, gui=True)"
   ]
  },
  {
   "cell_type": "markdown",
   "id": "eb78446d",
   "metadata": {},
   "source": [
    " ### 3.4.2. Molecular Dynamics Simulation and Docking Software"
   ]
  },
  {
   "cell_type": "markdown",
   "id": "df8ac2aa",
   "metadata": {},
   "source": [
    "There are several free and user-friendly software tools with graphical user interfaces (GUIs) that are popular for molecular dynamics simulations:\n",
    "\n",
    "- **VMD (Visual Molecular Dynamics) & NAMD (Nanoscale Molecular Dynamics)**\n",
    "\n",
    "- **GROMACS**\n",
    "\n",
    "- **AmberTools**\n",
    "\n",
    "- **LAMMPS (Large-scale Atomic/Molecular Massively Parallel Simulator)**\n",
    "\n",
    "- **CHARMM-GUI**\n",
    "\n",
    "- **Molecular Operating Environment (MOE)**\n",
    "\n",
    "- **Desmond**\n",
    "\n",
    "These software tools cater to a range of user needs, from beginners to advanced users, and offer various features for setting up, running, and analyzing molecular dynamics simulations."
   ]
  },
  {
   "cell_type": "markdown",
   "id": "8279797d",
   "metadata": {},
   "source": [
    "Additionally, here are some other software that are focused on protein simulation, including protein-ligand interaction, docking, and related tasks:\n",
    "\n",
    "- **UCSF Chimera & ChimeraX**\n",
    "\n",
    "- **AutoDock and AutoDock Vina**\n",
    "\n",
    "- **AutodockTools**\n",
    "\n",
    "- **MGLTools**\n",
    "\n",
    "- **PyRx**\n",
    "\n",
    "- **SwissDock**\n",
    "\n",
    "- **LeDock**\n",
    "\n",
    "- **BIOVIA Discovery Studio**\n",
    "\n",
    "- **Maestro**"
   ]
  },
  {
   "cell_type": "code",
   "execution_count": null,
   "id": "682e686d",
   "metadata": {},
   "outputs": [],
   "source": []
  }
 ],
 "metadata": {
  "kernelspec": {
   "display_name": "Python 3 (ipykernel)",
   "language": "python",
   "name": "python3"
  },
  "language_info": {
   "codemirror_mode": {
    "name": "ipython",
    "version": 3
   },
   "file_extension": ".py",
   "mimetype": "text/x-python",
   "name": "python",
   "nbconvert_exporter": "python",
   "pygments_lexer": "ipython3",
   "version": "3.11.7"
  },
  "toc": {
   "base_numbering": "",
   "nav_menu": {},
   "number_sections": false,
   "sideBar": true,
   "skip_h1_title": false,
   "title_cell": "Table of Contents",
   "title_sidebar": "Table of Contents",
   "toc_cell": false,
   "toc_position": {
    "height": "calc(100% - 180px)",
    "left": "10px",
    "top": "150px",
    "width": "203px"
   },
   "toc_section_display": true,
   "toc_window_display": true
  }
 },
 "nbformat": 4,
 "nbformat_minor": 5
}
