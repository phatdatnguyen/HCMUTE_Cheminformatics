{
 "cells": [
  {
   "cell_type": "markdown",
   "id": "ce2d6e30",
   "metadata": {},
   "source": [
    "# Chapter 11. Deep Learning in Chemistry"
   ]
  },
  {
   "cell_type": "markdown",
   "id": "0d09f3a0",
   "metadata": {},
   "source": [
    "## 11.1. Perceptron"
   ]
  },
  {
   "cell_type": "markdown",
   "id": "fa334069",
   "metadata": {},
   "source": [
    "In this section, we will explore the structure of a perceptron, learn about how it work, and use single-perceptron networks to solve simple linear regression problems."
   ]
  },
  {
   "cell_type": "markdown",
   "id": "a096bd7c",
   "metadata": {},
   "source": [
    "### 11.1.1. Structure of Perceptron"
   ]
  },
  {
   "cell_type": "markdown",
   "id": "d3d39a7a-07c6-4b0b-82b8-22b841a6a779",
   "metadata": {},
   "source": [
    "The structure of a perceptron can be described as follow:\n",
    "![Single layer perceptron](images/perceptron_structure.jpg)\n",
    "\n",
    "**Key points to remember about perceptron**\n",
    "\n",
    "- A perceptron can have 1 or multiple inputs, and only 1 output\n",
    "- A perceptron contains the weights (w) for each of the inputs, and a bias (b)\n",
    "- The output of a perceptron is calculated using the following equation:\n",
    "\n",
    "$$\\text{output} = \\sum_{i}(w_i \\times x_i) + b$$\n",
    "\n",
    "Here, $w_i$ represents the weight associated with the i<sup>th</sup> input, $x_i$ is the i<sup>th</sup> input, and $b$ is the bias term. The perceptron computes a weighted sum of its inputs, adds a bias, and then applies an activation function to produce the output."
   ]
  },
  {
   "cell_type": "markdown",
   "id": "b5972708",
   "metadata": {},
   "source": [
    "### 11.1.2. How Single-Perceptron Network Works"
   ]
  },
  {
   "cell_type": "markdown",
   "id": "d201e568",
   "metadata": {},
   "source": [
    "#### 11.1.2.1. General Concept"
   ]
  },
  {
   "cell_type": "markdown",
   "id": "26814b2b",
   "metadata": {},
   "source": [
    "Single-perceptron network, or any other artificial neural network (ANN), works on the basic of **gradient descent**.\n",
    "You can think of an ANN as a mathematic expression that maps the inputs to the outputs:\n",
    "![ANN](images/ANN.png)\n",
    "In general, to use an ANN to solve a regression problem, you need to follow these step:\n",
    "- **Step 1.** Initialize the parameters (weights and biases) of each neuron in the network randomly.\n",
    "- **Step 2.** Forward pass: Pass the input values to the network, calculate the output of each neuron in the network in order, until we get the output values.\n",
    "- **Step 3.** Calculate the value of the loss function.\n",
    "- **Step 4.** Backward pass: Calculate the gradients for all weights and biases in the network with respect to the loss function\n",
    "- **Step 5.** Update the values of weights and biases so that they can lower the loss function.\n",
    "- Return to **Step 2**, repeat after a number of iterations (epochs) or until the loss function is low enough.\n",
    "\n",
    "The loop from step 2 to step 5 is called the **training process**."
   ]
  },
  {
   "cell_type": "markdown",
   "id": "e0bc1bb1",
   "metadata": {},
   "source": [
    "#### 11.1.2.2. The Workflow of a Single-Perceptron Network"
   ]
  },
  {
   "cell_type": "markdown",
   "id": "1479b306",
   "metadata": {},
   "source": [
    "An example of a single-perceptron network with 3 inputs is below:\n",
    "![Single-perceptron network](images/single-perceptron_network_3_inputs.png)\n",
    "We will test this network for the regression of function $y = x_1 - 3.x_2 + 2.x_3$, using 1 single data point: $x_1 = 3.4$, $x_2 = 2.4$, $x_3 = -1.7$ → $y = -7.2$.\n",
    "\n",
    "Following the general workflow:\n",
    "- **Step 1.** Initialize the parameters:\n",
    "![Single-perceptron network](images/single-perceptron_network_3_inputs_step1.png)\n",
    "\n",
    "- **Step 2.** Forward:\n",
    "![Single-perceptron network](images/single-perceptron_network_3_inputs_step2.png)\n",
    "\n",
    "- **Step 3.** Calculate the loss function. We use MSE loss function in this case:\n",
    "\n",
    "$$\\text{MSE Loss} = \\frac{1}{n} \\sum_{i=1}^{n} (y_i - \\hat{y}_i)^2$$\n",
    "\n",
    "with $n = 1$ (1 data point), $y = -7.2$ (observed value), $\\hat{y} = 0.38$ (predicted value) → $MSE Loss = 57.5$\n",
    "\n",
    "- **Step 4.** Backward:\n",
    "\n",
    "We cannot calculate the gradients for weights and bias directly. We have to use the chain rule.\n",
    "\n",
    "$$\\frac{\\partial \\text{MSE}}{\\partial \\hat{y}} = -2 \\times (y - \\hat{y}) = 15.16$$\n",
    "\n",
    "$$\\frac{\\partial \\hat{y}}{\\partial w_1} = x_1 = 3.4 \\rightarrow \\frac{\\partial \\text{MSE}}{\\partial w_1} = \\left(\\frac{\\partial \\text{MSE}}{\\partial \\hat{y}}\\right) \\times \\left(\\frac{\\partial \\hat{y}}{\\partial w_1}\\right) = 15.16 \\times 3.4 = 51.544$$\n",
    "\n",
    "$$\\frac{\\partial \\hat{y}}{\\partial w_2} = x_2 = 2.4 \\rightarrow \\frac{\\partial \\text{MSE}}{\\partial w_2} = \\left(\\frac{\\partial \\text{MSE}}{\\partial \\hat{y}}\\right) \\times \\left(\\frac{\\partial \\hat{y}}{\\partial w_2}\\right) = 15.16 \\times 2.4 = 36.384$$\n",
    "\n",
    "$$\\frac{\\partial \\hat{y}}{\\partial w_3} = x_3 = -1.7 \\rightarrow \\frac{\\partial \\text{MSE}}{\\partial w_3} = \\left(\\frac{\\partial \\text{MSE}}{\\partial \\hat{y}}\\right) \\times \\left(\\frac{\\partial \\hat{y}}{\\partial w_3}\\right) = 15.16 \\times (-1.7) = -25.772$$\n",
    "\n",
    "$$\\frac{\\partial \\hat{y}}{\\partial b} = 1 \\rightarrow \\frac{\\partial \\text{MSE}}{\\partial b} = \\frac{\\partial \\text{MSE}}{\\partial \\hat{y}} = 15.16$$\n",
    "\n",
    "![Single-perceptron network](images/single-perceptron_network_3_inputs_step4.png)\n",
    "\n",
    "- **Step 5.** Update weights and bias:\n",
    "\n",
    "Choose a learning rate: $lr = 0.001$\n",
    "\n",
    "$$w_1 = w_1 - \\left( \\frac{\\partial \\text{MSE}}{\\partial w1} \\right) \\times \\text{lr} = w1 - 51.544 \\times 0.001 = 0.248$$\n",
    "\n",
    "$$w_2 = w_2 - \\left( \\frac{\\partial \\text{MSE}}{\\partial w2} \\right) \\times \\text{lr} = w2 - 36.384 \\times 0.001 = -0.536$$\n",
    "\n",
    "$$w_3 = w_3 - \\left( \\frac{\\partial \\text{MSE}}{\\partial w3} \\right) \\times \\text{lr} = w3 - (-25.772) \\times 0.001 = 0.226$$\n",
    "\n",
    "$$b = b - \\left( \\frac{\\partial \\text{MSE}}{\\partial b} \\right) \\times \\text{lr} = b - 15.16 \\times 0.001 = 0.885$$\n",
    "\n",
    "![Single-perceptron network](images/single-perceptron_network_3_inputs_step5.png)\n",
    "\n",
    "- Return to **Step 2** and continue\n",
    "\n",
    "**Note:** If we continue running this loop, the values of weights and bias will approaching their target values ($w_1 → 1$, $w_2 → -3$, $w_3 → 2$, $b → 0$), the output will get closer to the observed values, and the MSE loss will approach its mininum."
   ]
  },
  {
   "cell_type": "markdown",
   "id": "87cf1436",
   "metadata": {},
   "source": [
    "### 11.1.3. PyTorch Implementation of Perceptron"
   ]
  },
  {
   "cell_type": "markdown",
   "id": "06c4ccc2",
   "metadata": {},
   "source": [
    "PyTorch is an open-source machine learning library developed by Facebook's AI Research lab, widely used for applications in deep learning and artificial intelligence. Known for its flexibility and dynamic computational graph, it provides a rich ecosystem for developing and training neural network models efficiently and intuitively. PyTorch is particularly favored for its ease of use, simplicity in debugging, and strong support for GPU acceleration, making it a popular choice among researchers and developers in the field of AI.\n",
    "\n",
    "To install PyTorch, visit their [website](https://pytorch.org/) for instruction."
   ]
  },
  {
   "cell_type": "markdown",
   "id": "cf5d20fa",
   "metadata": {},
   "source": [
    "#### 11.1.3.1. Single-perceptron network with 1 input, no scaling"
   ]
  },
  {
   "cell_type": "markdown",
   "id": "170f1606",
   "metadata": {},
   "source": [
    "In this section, we will use a single-perceptron network to perform linear regression for function $y = f(x)$:\n",
    "\n",
    "*Network structure:*\n",
    "![Single-perceptron network](images/single-perceptron_network_1_input.png)"
   ]
  },
  {
   "cell_type": "markdown",
   "id": "bc5c3d1a",
   "metadata": {},
   "source": [
    "**a. Import modules**"
   ]
  },
  {
   "cell_type": "code",
   "execution_count": null,
   "id": "e06c9d90-8488-4aac-90ee-96b688865741",
   "metadata": {},
   "outputs": [],
   "source": [
    "# Install matplotlib extension for JupyterLab\n",
    "!conda install -c conda-forge ipympl"
   ]
  },
  {
   "cell_type": "code",
   "execution_count": 1,
   "id": "429c8af5",
   "metadata": {
    "tags": []
   },
   "outputs": [],
   "source": [
    "# Import modules\n",
    "import math\n",
    "import numpy as np\n",
    "import torch\n",
    "import torch.nn as nn\n",
    "import torch.optim as optim\n",
    "import matplotlib.pyplot as plt\n",
    "from matplotlib.animation import FuncAnimation\n",
    "%matplotlib widget\n",
    "from sklearn.preprocessing import MinMaxScaler\n",
    "from tqdm import tqdm"
   ]
  },
  {
   "cell_type": "markdown",
   "id": "e75ea2ca",
   "metadata": {},
   "source": [
    "**b. Load data**"
   ]
  },
  {
   "cell_type": "code",
   "execution_count": 2,
   "id": "ebfccc2b",
   "metadata": {
    "tags": []
   },
   "outputs": [],
   "source": [
    "# Define the data points\n",
    "x = torch.tensor([1.01, 2.03, 3.01, 4.07, 5.09])\n",
    "y = torch.tensor([2.02, 4.04, 6.05, 8.03, 10.08])"
   ]
  },
  {
   "cell_type": "markdown",
   "id": "fbf300a3",
   "metadata": {},
   "source": [
    "**c. Create model**"
   ]
  },
  {
   "cell_type": "code",
   "execution_count": 3,
   "id": "f34e3598",
   "metadata": {
    "tags": []
   },
   "outputs": [],
   "source": [
    "# Define the linear regression class\n",
    "class LinearRegressionModel(nn.Module):\n",
    "    def __init__(self):\n",
    "        super(LinearRegressionModel, self).__init__()\n",
    "        self.linear = nn.Linear(1, 1)  # One input feature and one output\n",
    "\n",
    "    def forward(self, x):\n",
    "        return self.linear(x)"
   ]
  },
  {
   "cell_type": "code",
   "execution_count": 4,
   "id": "a93267b0",
   "metadata": {
    "tags": []
   },
   "outputs": [],
   "source": [
    "# Instantiate the model\n",
    "model = LinearRegressionModel()"
   ]
  },
  {
   "cell_type": "markdown",
   "id": "737fcf88",
   "metadata": {},
   "source": [
    "**d. Training**"
   ]
  },
  {
   "cell_type": "code",
   "execution_count": 5,
   "id": "59aaafbf",
   "metadata": {
    "tags": []
   },
   "outputs": [],
   "source": [
    "# Define the loss function and optimizer\n",
    "criterion = nn.MSELoss()\n",
    "optimizer = optim.SGD(model.parameters(), lr=0.01)"
   ]
  },
  {
   "cell_type": "code",
   "execution_count": 6,
   "id": "abf487e8",
   "metadata": {
    "tags": []
   },
   "outputs": [],
   "source": [
    "# Define the train function\n",
    "def train(x, y):\n",
    "    # Forward pass\n",
    "    outputs = model(x.unsqueeze(1))\n",
    "    loss = criterion(outputs, y.unsqueeze(1))\n",
    "    \n",
    "    # Backward and optimize\n",
    "    optimizer.zero_grad()\n",
    "    loss.backward()\n",
    "    optimizer.step()\n",
    "    \n",
    "    return loss.item()"
   ]
  },
  {
   "cell_type": "code",
   "execution_count": 7,
   "id": "51168a91",
   "metadata": {
    "tags": []
   },
   "outputs": [],
   "source": [
    "# Create lists of parameters and losses for visualization\n",
    "w_values = []\n",
    "b_values = []\n",
    "losses = []"
   ]
  },
  {
   "cell_type": "code",
   "execution_count": 8,
   "id": "2a1340db",
   "metadata": {
    "tags": []
   },
   "outputs": [
    {
     "name": "stderr",
     "output_type": "stream",
     "text": [
      "Epoch [100/100], Train loss: 0.0076: 100%|██████████████████████████████████████████| 100/100 [00:00<00:00, 860.80it/s]\n"
     ]
    }
   ],
   "source": [
    "# Train the model\n",
    "num_epochs = 100\n",
    "progress_bar = tqdm(range(num_epochs))\n",
    "for epoch in progress_bar:\n",
    "    train_loss = train(x, y)\n",
    "    \n",
    "    # Get the trained parameters\n",
    "    w = model.linear.weight.item()\n",
    "    b = model.linear.bias.item()\n",
    "    \n",
    "    # Add trained parameters to their lists for visualization\n",
    "    w_values.append(w)\n",
    "    b_values.append(b)\n",
    "    losses.append(train_loss)\n",
    "    \n",
    "    # Print progress\n",
    "    progress_bar.set_description(f'Epoch [{epoch+1}/{num_epochs}], Train loss: {train_loss:.4f}') "
   ]
  },
  {
   "cell_type": "markdown",
   "id": "6ecdd638",
   "metadata": {},
   "source": [
    "**e. Visualization**"
   ]
  },
  {
   "cell_type": "code",
   "execution_count": 9,
   "id": "6012dd11",
   "metadata": {
    "tags": []
   },
   "outputs": [
    {
     "data": {
      "application/vnd.jupyter.widget-view+json": {
       "model_id": "8f15952916504c58b71aed381c63158f",
       "version_major": 2,
       "version_minor": 0
      },
      "image/png": "[encoded data removed]",
      "text/html": [
       "\n",
       "            <div style=\"display: inline-block;\">\n",
       "                <div class=\"jupyter-widgets widget-label\" style=\"text-align: center;\">\n",
       "                    Figure\n",
       "                </div>\n",
       "                <img src='data:image/png;base64,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' width=640.0/>\n",
       "            </div>\n",
       "        "
      ],
      "text/plain": [
       "Canvas(toolbar=Toolbar(toolitems=[('Home', 'Reset original view', 'home', 'home'), ('Back', 'Back to previous …"
      ]
     },
     "metadata": {},
     "output_type": "display_data"
    }
   ],
   "source": [
    "# Create the axis\n",
    "x_min = math.floor(torch.min(x).item())\n",
    "x_max = math.ceil(torch.max(x).item())\n",
    "y_min = math.floor(torch.min(y).item())\n",
    "y_max = math.ceil(torch.max(y).item())\n",
    "\n",
    "# Create the initial plot\n",
    "fig = plt.figure()\n",
    "plt.xlim(x_min, x_max)\n",
    "plt.ylim(y_min, y_max)\n",
    "plt.scatter(x, y, color='red')\n",
    "plt.xlabel('x')\n",
    "plt.ylabel('y')\n",
    "x_values = np.linspace(x_min, x_max, num=101)\n",
    "y_values = w_values[0]*x_values + b_values[0]\n",
    "lines = plt.plot(x_values, y_values)\n",
    "line = lines[0]\n",
    "\n",
    "def update(frame):\n",
    "    # Get the x and y coordinates for the current frame\n",
    "    y_values = w_values[frame]*x_values + b_values[frame]\n",
    "\n",
    "    # Update the scatter plot with the current point\n",
    "    line.set_data(x_values, y_values)\n",
    "\n",
    "# Create the animation\n",
    "animation = FuncAnimation(fig, update, frames=num_epochs, interval=200, blit=False)\n",
    "\n",
    "# Display the animation\n",
    "plt.show()"
   ]
  },
  {
   "cell_type": "code",
   "execution_count": 10,
   "id": "19d2ea3c",
   "metadata": {},
   "outputs": [
    {
     "data": {
      "text/plain": [
       "Text(0, 0.5, 'MSE loss')"
      ]
     },
     "execution_count": 10,
     "metadata": {},
     "output_type": "execute_result"
    },
    {
     "data": {
      "application/vnd.jupyter.widget-view+json": {
       "model_id": "029866cb3d9840a59f5c8dc6387dcaaf",
       "version_major": 2,
       "version_minor": 0
      },
      "image/png": "[encoded data removed]",
      "text/html": [
       "\n",
       "            <div style=\"display: inline-block;\">\n",
       "                <div class=\"jupyter-widgets widget-label\" style=\"text-align: center;\">\n",
       "                    Figure\n",
       "                </div>\n",
       "                <img src='data:image/png;base64,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' width=640.0/>\n",
       "            </div>\n",
       "        "
      ],
      "text/plain": [
       "Canvas(toolbar=Toolbar(toolitems=[('Home', 'Reset original view', 'home', 'home'), ('Back', 'Back to previous …"
      ]
     },
     "metadata": {},
     "output_type": "display_data"
    }
   ],
   "source": [
    "# Visualize MSE loss values over time\n",
    "fig = plt.figure()\n",
    "plt.plot(losses)\n",
    "plt.xlabel('epoch')\n",
    "plt.ylabel('MSE loss')"
   ]
  },
  {
   "cell_type": "markdown",
   "id": "37055600",
   "metadata": {},
   "source": [
    "**f. Make prediction**"
   ]
  },
  {
   "cell_type": "code",
   "execution_count": 11,
   "id": "f89d4829",
   "metadata": {},
   "outputs": [
    {
     "name": "stdout",
     "output_type": "stream",
     "text": [
      "9.837372779846191\n"
     ]
    }
   ],
   "source": [
    "# Input for prediction\n",
    "x_pred = 5\n",
    "\n",
    "# Convert to tensor\n",
    "x_pred = torch.tensor([x_pred]).float()\n",
    "\n",
    "# Run model forward\n",
    "y_pred = model(x_pred)\n",
    "\n",
    "# Convert back to number\n",
    "y_pred = y_pred.item()\n",
    "\n",
    "# Show result\n",
    "print(y_pred)"
   ]
  },
  {
   "cell_type": "markdown",
   "id": "3dd410c1",
   "metadata": {},
   "source": [
    "**g. Save and load model**"
   ]
  },
  {
   "cell_type": "code",
   "execution_count": 12,
   "id": "3712059d",
   "metadata": {},
   "outputs": [],
   "source": [
    "# Save model\n",
    "model_name = 'model_1'\n",
    "file_name = f'.\\\\{model_name}_{num_epochs}.ckpt'\n",
    "torch.save(model.state_dict(), file_name)"
   ]
  },
  {
   "cell_type": "code",
   "execution_count": 13,
   "id": "51f233a4",
   "metadata": {},
   "outputs": [
    {
     "data": {
      "text/plain": [
       "<All keys matched successfully>"
      ]
     },
     "execution_count": 13,
     "metadata": {},
     "output_type": "execute_result"
    }
   ],
   "source": [
    "# Load model\n",
    "file_name = f'.\\\\{model_name}_100.ckpt'\n",
    "loaded_model = LinearRegressionModel()\n",
    "loaded_model.load_state_dict(torch.load(file_name))"
   ]
  },
  {
   "cell_type": "markdown",
   "id": "c355a6d8",
   "metadata": {},
   "source": [
    "#### 11.1.3.2. Single-perceptron network with 2 inputs, with scaling"
   ]
  },
  {
   "cell_type": "markdown",
   "id": "f852a0e3",
   "metadata": {},
   "source": [
    "In this section, we will use a single-perceptron network to perform linear regression for function with multiple variables $y = f(x_1, x_2)$:\n",
    "\n",
    "*Network structure:*\n",
    "![Single-perceptron network](images/single-perceptron_network_2_inputs.png)"
   ]
  },
  {
   "cell_type": "markdown",
   "id": "3de7c90a",
   "metadata": {},
   "source": [
    "**b. Load data**"
   ]
  },
  {
   "cell_type": "code",
   "execution_count": 14,
   "id": "55a6cefc",
   "metadata": {},
   "outputs": [],
   "source": [
    "# Define the data points\n",
    "x1 = np.array([1.01, 2.03, 3.01, 4.07, 5.09])\n",
    "x2 = np.array([9.02, 7.04, 5.05, 3.03, 1.08])\n",
    "y = 2*x1 - 3*x2 +5"
   ]
  },
  {
   "cell_type": "code",
   "execution_count": null,
   "id": "296dd874",
   "metadata": {},
   "outputs": [],
   "source": [
    "# Combine x1 and x2 into 1 array\n",
    "x = np.column_stack((x1, x2))\n",
    "\n",
    "# Define input and output scalers\n",
    "input_scaler = MinMaxScaler(feature_range=(0, 1))\n",
    "output_scaler = MinMaxScaler(feature_range=(0, 1))\n",
    "\n",
    "# Scale the data to the range from 0 to 1\n",
    "x_scaled = input_scaler.fit_transform(x)\n",
    "y_scaled = output_scaler.fit_transform(y.reshape(-1, 1)).reshape(-1)\n",
    "\n",
    "# Convert to tensor\n",
    "x_scaled = torch.tensor(x_scaled).float()\n",
    "y_scaled = torch.tensor(y_scaled).float()"
   ]
  },
  {
   "cell_type": "markdown",
   "id": "1467b6f6",
   "metadata": {},
   "source": [
    "**c. Create model**"
   ]
  },
  {
   "cell_type": "code",
   "execution_count": null,
   "id": "5a48cea8",
   "metadata": {},
   "outputs": [],
   "source": [
    "# Define the linear regression class\n",
    "class LinearRegressionModel(nn.Module):\n",
    "    def __init__(self):\n",
    "        super(LinearRegressionModel, self).__init__()\n",
    "        self.linear = nn.Linear(2, 1)  # One input feature and one output\n",
    "\n",
    "    def forward(self, x):\n",
    "        return self.linear(x)"
   ]
  },
  {
   "cell_type": "code",
   "execution_count": null,
   "id": "a89af10e",
   "metadata": {},
   "outputs": [],
   "source": [
    "# Instantiate the model\n",
    "model = LinearRegressionModel()"
   ]
  },
  {
   "cell_type": "markdown",
   "id": "d7a5086a",
   "metadata": {},
   "source": [
    "**d. Training**"
   ]
  },
  {
   "cell_type": "code",
   "execution_count": null,
   "id": "91b7d264",
   "metadata": {},
   "outputs": [],
   "source": [
    "# Define the loss function and optimizer\n",
    "criterion = nn.MSELoss()\n",
    "optimizer = optim.SGD(model.parameters(), lr=0.01)"
   ]
  },
  {
   "cell_type": "code",
   "execution_count": null,
   "id": "d4d1267f",
   "metadata": {},
   "outputs": [],
   "source": [
    "# Define the train function\n",
    "def train(x, y):\n",
    "    # Forward pass\n",
    "    outputs = model(x)\n",
    "    loss = criterion(outputs, y.unsqueeze(1))\n",
    "    \n",
    "    # Backward and optimize\n",
    "    optimizer.zero_grad()\n",
    "    loss.backward()\n",
    "    optimizer.step()\n",
    "    \n",
    "    return loss.item()"
   ]
  },
  {
   "cell_type": "code",
   "execution_count": null,
   "id": "91d84ed7",
   "metadata": {},
   "outputs": [],
   "source": [
    "# Create lists of parameters and losses for visualization\n",
    "w_values = []\n",
    "b_values = []\n",
    "losses = []"
   ]
  },
  {
   "cell_type": "code",
   "execution_count": null,
   "id": "013a5dcc",
   "metadata": {},
   "outputs": [],
   "source": [
    "# Train the model\n",
    "num_epochs = 1000\n",
    "progress_bar = tqdm(range(num_epochs))\n",
    "for epoch in progress_bar:\n",
    "    train_loss = train(x_scaled, y_scaled)\n",
    "    \n",
    "    # Get the trained parameters\n",
    "    w1 = model.linear.weight[0][0].item()\n",
    "    w2 = model.linear.weight[0][1].item()\n",
    "    b = model.linear.bias.item()\n",
    "    \n",
    "    # Add trained parameters to their lists for visualization\n",
    "    w_values.append((w1, w2))\n",
    "    b_values.append(b)\n",
    "    losses.append(train_loss)\n",
    "    \n",
    "    # Print progress\n",
    "    progress_bar.set_description(f'Epoch [{epoch+1}/{num_epochs}], Train loss: {train_loss:.4f}') "
   ]
  },
  {
   "cell_type": "markdown",
   "id": "e3d18638",
   "metadata": {},
   "source": [
    "**e. Visualization**"
   ]
  },
  {
   "cell_type": "code",
   "execution_count": null,
   "id": "33a76692",
   "metadata": {},
   "outputs": [],
   "source": [
    "# Visualize MSE loss values over time\n",
    "fig = plt.figure()\n",
    "plt.plot(losses)\n",
    "plt.xlabel('epoch')\n",
    "plt.ylabel('MSE loss')"
   ]
  },
  {
   "cell_type": "markdown",
   "id": "fcb03fb9",
   "metadata": {},
   "source": [
    "**f. Make prediction**"
   ]
  },
  {
   "cell_type": "code",
   "execution_count": null,
   "id": "9daeefaf",
   "metadata": {},
   "outputs": [],
   "source": [
    "# Input for prediction\n",
    "x_pred = [8, 1]\n",
    "\n",
    "# Scale input to range 0 to 1\n",
    "x_pred_scaled = input_scaler.transform([x_pred])\n",
    "\n",
    "# Convert to tensor\n",
    "x_pred_scaled = torch.tensor(x_pred_scaled).float()\n",
    "\n",
    "# Run model forward\n",
    "y_pred_scaled = model(x_pred_scaled)\n",
    "\n",
    "# Convert back to number\n",
    "y_pred_scaled = y_pred_scaled.item()\n",
    "\n",
    "# Scale output back to original range\n",
    "y_pred = output_scaler.inverse_transform([[y_pred_scaled]])[0][0]\n",
    "\n",
    "# Show result\n",
    "print(y_pred)"
   ]
  },
  {
   "cell_type": "markdown",
   "id": "bd0ccdf1",
   "metadata": {},
   "source": [
    "**g. Save and load model**"
   ]
  },
  {
   "cell_type": "code",
   "execution_count": null,
   "id": "c7ea803f",
   "metadata": {},
   "outputs": [],
   "source": [
    "# Save model\n",
    "model_name = 'model_2'\n",
    "file_name = f'.\\\\{model_name}_{num_epochs}.ckpt'\n",
    "torch.save(model.state_dict(), file_name)"
   ]
  },
  {
   "cell_type": "code",
   "execution_count": null,
   "id": "5f8dfad4",
   "metadata": {},
   "outputs": [],
   "source": [
    "# Load model\n",
    "file_name = f'.\\\\{model_name}_2000.ckpt'\n",
    "loaded_model = LinearRegressionModel()\n",
    "loaded_model.load_state_dict(torch.load(file_name))"
   ]
  },
  {
   "cell_type": "code",
   "execution_count": null,
   "id": "358c1974-9373-46f4-91dc-0817e0f1e034",
   "metadata": {},
   "outputs": [],
   "source": []
  }
 ],
 "metadata": {
  "kernelspec": {
   "display_name": "Python 3 (ipykernel)",
   "language": "python",
   "name": "python3"
  },
  "language_info": {
   "codemirror_mode": {
    "name": "ipython",
    "version": 3
   },
   "file_extension": ".py",
   "mimetype": "text/x-python",
   "name": "python",
   "nbconvert_exporter": "python",
   "pygments_lexer": "ipython3",
   "version": "3.11.7"
  },
  "toc": {
   "base_numbering": "",
   "nav_menu": {},
   "number_sections": false,
   "sideBar": true,
   "skip_h1_title": false,
   "title_cell": "Table of Contents",
   "title_sidebar": "Table of Contents",
   "toc_cell": false,
   "toc_position": {
    "height": "calc(100% - 180px)",
    "left": "10px",
    "top": "150px",
    "width": "244.333px"
   },
   "toc_section_display": true,
   "toc_window_display": true
  }
 },
 "nbformat": 4,
 "nbformat_minor": 5
}
