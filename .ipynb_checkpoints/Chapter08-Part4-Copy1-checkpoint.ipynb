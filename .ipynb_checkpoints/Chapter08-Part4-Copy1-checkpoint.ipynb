{
 "cells": [
  {
   "cell_type": "markdown",
   "id": "ce2d6e30",
   "metadata": {},
   "source": [
    "# Chapter 8: Calculation of Molecular Properties"
   ]
  },
  {
   "cell_type": "markdown",
   "id": "295a0f8f",
   "metadata": {},
   "source": [
    "## 8.4. Calculation of Potential Energy Surface"
   ]
  },
  {
   "cell_type": "markdown",
   "id": "009ad896",
   "metadata": {},
   "source": [
    "In the follow section, we will calculate the potential energy surface (PES) of ethanol by varying 2 variables: C-O bond length and C-C-O bond angle."
   ]
  },
  {
   "cell_type": "code",
   "execution_count": null,
   "id": "084ebda4",
   "metadata": {},
   "outputs": [],
   "source": [
    "# Import modules\n",
    "import numpy as np\n",
    "import matplotlib.pyplot as plt\n",
    "from rdkit import Chem\n",
    "from rdkit.Chem import AllChem, Draw\n",
    "from utils import View3DModel\n",
    "import psi4\n",
    "import py3Dmol\n",
    "from tqdm import tqdm"
   ]
  },
  {
   "cell_type": "code",
   "execution_count": null,
   "id": "79ed6f21",
   "metadata": {},
   "outputs": [],
   "source": [
    "# Create the core molecule\n",
    "ethanol_mol = Chem.MolFromSmiles('CCO')\n",
    "\n",
    "# Prepare the molecule\n",
    "ethanol_mol = Chem.AddHs(ethanol_mol)\n",
    "Chem.rdDistGeom.EmbedMolecule(ethanol_mol)\n",
    "AllChem.UFFOptimizeMolecule(ethanol_mol, maxIters=200)\n",
    "\n",
    "# Calculate the initial C-O bond length and C-C-O bond angle\n",
    "C_O_bond_length = Chem.rdMolTransforms.GetBondLength(ethanol_mol.GetConformer(), 1, 2)\n",
    "C_C_O_bond_angle = Chem.rdMolTransforms.GetAngleDeg(ethanol_mol.GetConformer(), 0, 1, 2)\n",
    "print(f'C-O bond length: {C_O_bond_length} angstrom')\n",
    "print(f'C-C-O bond angle: {C_C_O_bond_angle} degree')"
   ]
  },
  {
   "cell_type": "markdown",
   "id": "39189538",
   "metadata": {},
   "source": [
    "Knowing the initial bond length and bond angle (optimized by MM), we can make a 2D grid:"
   ]
  },
  {
   "cell_type": "code",
   "execution_count": null,
   "id": "73515dff",
   "metadata": {},
   "outputs": [],
   "source": [
    "# Define the lists of C-O bond length and C-C-O bond angle values to scan PES\n",
    "C_O_bond_lengths = np.linspace(1.2, 2.0, 15)\n",
    "C_C_O_bond_angles = np.linspace(80, 120, 10)\n",
    "pes_grid = np.zeros((len(C_O_bond_lengths), len(C_C_O_bond_angles)))"
   ]
  },
  {
   "cell_type": "code",
   "execution_count": null,
   "id": "94bdffa5",
   "metadata": {},
   "outputs": [],
   "source": [
    "# Define a function to create an ethanol molecule with a specific C-O bond length and C-C-O bond angle\n",
    "def generate_ethanol_molecule(C_O_bond_length, C_C_O_bond_angles):\n",
    "    # Create the molecule\n",
    "    ethanol_mol = Chem.MolFromSmiles('CCO')\n",
    "\n",
    "    # Prepare the molecule\n",
    "    ethanol_mol = Chem.AddHs(ethanol_mol)\n",
    "    Chem.rdDistGeom.EmbedMolecule(ethanol_mol)\n",
    "    \n",
    "    # Set the C-O bond length and C-C-O bond angle\n",
    "    Chem.rdMolTransforms.SetBondLength(ethanol_mol.GetConformer(), 1, 2, C_O_bond_length)\n",
    "    Chem.rdMolTransforms.SetAngleDeg(ethanol_mol.GetConformer(), 0, 1, 2, C_C_O_bond_angles)\n",
    "    \n",
    "    # Return the molecule\n",
    "    return ethanol_mol"
   ]
  },
  {
   "cell_type": "code",
   "execution_count": null,
   "id": "76a9d5c4",
   "metadata": {},
   "outputs": [],
   "source": [
    "# For example, we can view a molecule of ethanol with a specific C-O bond length and C-C-O bond angle\n",
    "ethanol_mol = generate_ethanol_molecule(1.5, 120)\n",
    "View3DModel(ethanol_mol)"
   ]
  },
  {
   "cell_type": "code",
   "execution_count": null,
   "id": "def6d030",
   "metadata": {},
   "outputs": [],
   "source": [
    "# Set the number of threads and set memory limit\n",
    "psi4.set_num_threads(8)\n",
    "psi4.set_memory(8*1024*1024*1024) # 8 GB"
   ]
  },
  {
   "cell_type": "code",
   "execution_count": null,
   "id": "5ca9608d",
   "metadata": {},
   "outputs": [],
   "source": [
    "# Set calculation options\n",
    "psi4.set_options({\n",
    "    'BASIS': '6-31G*',\n",
    "    'SCF_TYPE': 'DF',\n",
    "    'REFERENCE': 'RHF'\n",
    "})"
   ]
  },
  {
   "cell_type": "code",
   "execution_count": null,
   "id": "2865b75e",
   "metadata": {
    "scrolled": true
   },
   "outputs": [],
   "source": [
    "# Calculate potential energy values and add them to the grid\n",
    "for i in tqdm(range(len(C_O_bond_lengths)), desc=\"C-O bond length\"):\n",
    "    for j in tqdm(range(len(C_C_O_bond_angles)), desc=\"C-C-O bond angle\", leave=False):\n",
    "        # Create the molecule\n",
    "        ethanol_mol = generate_ethanol_molecule(C_O_bond_lengths[i], C_C_O_bond_angles[j])\n",
    "        \n",
    "        # Write the geometry to XYZ string\n",
    "        xyz_string = Chem.MolToXYZBlock(ethanol_mol)\n",
    "\n",
    "        # Get the psi4 geometry\n",
    "        geometry = psi4.geometry(xyz_string)\n",
    "\n",
    "        # Run energy calculation\n",
    "        energy = psi4.energy('b3lyp', molecule=geometry)\n",
    "        pes_grid[i, j] = energy * psi4.constants.hartree2kcalmol"
   ]
  },
  {
   "cell_type": "markdown",
   "id": "c247eac9",
   "metadata": {},
   "source": [
    "To visualize the PES with interactive 3D graph, you need to install `plotly`:"
   ]
  },
  {
   "cell_type": "code",
   "execution_count": null,
   "id": "9002b606",
   "metadata": {},
   "outputs": [],
   "source": [
    "!pip install plotly"
   ]
  },
  {
   "cell_type": "code",
   "execution_count": null,
   "id": "ee1a623a",
   "metadata": {
    "scrolled": true
   },
   "outputs": [],
   "source": [
    "import plotly.graph_objects as go\n",
    "\n",
    "# Creating the plot\n",
    "x, y = np.meshgrid(C_O_bond_lengths, C_C_O_bond_angles)\n",
    "fig = go.Figure(data=[go.Surface(z=pes_grid.T, x=x, y=y, colorscale='Greys')])\n",
    "\n",
    "# Updating layout for better visualization\n",
    "fig.update_layout(\n",
    "    title='Potential Energy Surface',\n",
    "    scene=dict(\n",
    "        xaxis_title='C-O bond length (angstrom)',\n",
    "        yaxis_title='C-C-O bond angle (degree)',\n",
    "        zaxis_title='Potential energy (kcal/mol)'\n",
    "    )\n",
    ")\n",
    "\n",
    "# Show the plot\n",
    "fig.show()"
   ]
  },
  {
   "cell_type": "markdown",
   "id": "6add838c",
   "metadata": {},
   "source": [
    "You can slide the PES surface the see the affect of 1 parameter on the potential energy of the molecule, for example:"
   ]
  },
  {
   "cell_type": "code",
   "execution_count": null,
   "id": "1e9e68fc",
   "metadata": {},
   "outputs": [],
   "source": [
    "# Get the potential energy values at a specific value of C-O bond length\n",
    "idx = 5\n",
    "pe_values = pes_grid[idx, :]\n",
    "\n",
    "# Plot the values\n",
    "plt.plot(C_C_O_bond_angles, pe_values)\n",
    "plt.title('Potential energy values at C-O bond length = {0:.3f} angstrom'.format(C_O_bond_lengths[5]))\n",
    "plt.xlabel('C-C-O bond angle (degree)')\n",
    "plt.ylabel('Potential energy (kcal/mol)')"
   ]
  },
  {
   "cell_type": "code",
   "execution_count": null,
   "id": "d9a8a36a",
   "metadata": {},
   "outputs": [],
   "source": []
  }
 ],
 "metadata": {
  "kernelspec": {
   "display_name": "Python 3 (ipykernel)",
   "language": "python",
   "name": "python3"
  },
  "language_info": {
   "codemirror_mode": {
    "name": "ipython",
    "version": 3
   },
   "file_extension": ".py",
   "mimetype": "text/x-python",
   "name": "python",
   "nbconvert_exporter": "python",
   "pygments_lexer": "ipython3",
   "version": "3.11.6"
  },
  "toc": {
   "base_numbering": "",
   "nav_menu": {},
   "number_sections": false,
   "sideBar": true,
   "skip_h1_title": false,
   "title_cell": "Table of Contents",
   "title_sidebar": "Table of Contents",
   "toc_cell": false,
   "toc_position": {
    "height": "calc(100% - 180px)",
    "left": "10px",
    "top": "150px",
    "width": "203px"
   },
   "toc_section_display": true,
   "toc_window_display": true
  }
 },
 "nbformat": 4,
 "nbformat_minor": 5
}
