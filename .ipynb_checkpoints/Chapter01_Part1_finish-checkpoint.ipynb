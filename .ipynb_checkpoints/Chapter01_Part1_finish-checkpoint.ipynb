{
 "cells": [
  {
   "cell_type": "markdown",
   "id": "ce2d6e30",
   "metadata": {},
   "source": [
    "# Chapter 1. Introduction"
   ]
  },
  {
   "cell_type": "markdown",
   "id": "0d09f3a0",
   "metadata": {},
   "source": [
    "## 1.1. Introduction to Python and Jupyter Notebooks"
   ]
  },
  {
   "cell_type": "markdown",
   "id": "5c1bcbc6",
   "metadata": {},
   "source": [
    "In this section, we will cover the essentials of using Python and Jupyter Notebooks for computational chemistry. Python is a versatile and widely-used programming language that is well-suited for scientific computing. Jupyter Notebooks provide an interactive and flexible environment for writing and running code, making them an excellent choice for computational chemistry.\n",
    "\n",
    "We will cover the following topics:\n",
    "\n",
    "1. Setting up your Python environment\n",
    "2. Basics of Python programming\n",
    "3. Introduction to Jupyter Notebooks\n",
    "4. Installing and managing Python packages\n",
    "\n",
    "If you get stuck, it might be a good idea to do a Google search and look for solutions from the websites such as [stackoverflow.com](https://stackoverflow.com), [The W3 school](https://www.w3schools.com/python/default.asp), [Youtube](https://www.youtube.com) or get helps from [ChatGPT](https://chat.openai.com)"
   ]
  },
  {
   "cell_type": "markdown",
   "id": "4d478d5a",
   "metadata": {},
   "source": [
    "### 1.1.1. Anaconda and Jupyter Notebook"
   ]
  },
  {
   "cell_type": "markdown",
   "id": "c256ede9",
   "metadata": {},
   "source": [
    "#### 1.1.1.1. Installation"
   ]
  },
  {
   "cell_type": "markdown",
   "id": "7f104a95",
   "metadata": {},
   "source": [
    "If you haven't already installed Anaconda, you can download it from [Anaconda's website](https://www.anaconda.com/products/distribution) and follow the installation instructions for your operating system.\n",
    "\n",
    "Once Anaconda is installed, open Anaconda Navigator or use the Anaconda command prompt to manage your Python environments."
   ]
  },
  {
   "cell_type": "markdown",
   "id": "04290f8e",
   "metadata": {},
   "source": [
    "#### 1.1.1.2. Python Development Environment"
   ]
  },
  {
   "cell_type": "markdown",
   "id": "03a7fd39",
   "metadata": {},
   "source": [
    "Anaconda will make a default python environment for you. However, you can create your own environments if needed.\n",
    "\n",
    "In your Anaconda Navigator or Anaconda command prompt, you can create a new python environment. Here's an example of how to create an environment named \"chem-env\" with python 3.11:\n",
    "\n",
    "`conda create --name chem-env python=3.11`\n",
    "\n",
    "You can replace \"chem-env\" with your preferred environment name and specify a different Python version if needed.\n",
    "\n",
    "To activate your newly created environment, use the following command:\n",
    "\n",
    "`conda activate chem-env`"
   ]
  },
  {
   "cell_type": "markdown",
   "id": "5a7f9298",
   "metadata": {},
   "source": [
    "#### 1.1.1.3. Jupyter Notebook"
   ]
  },
  {
   "cell_type": "markdown",
   "id": "1388ce27",
   "metadata": {},
   "source": [
    "Jupyter Notebook is an interactive web-based application that allows you to create and share documents containing live code, equations, visualizations, and narrative text. It's a popular choice among scientists and researchers for conducting data analysis, running code, and creating reproducible research."
   ]
  },
  {
   "cell_type": "markdown",
   "id": "860f32ba",
   "metadata": {},
   "source": [
    "- Jupyter Notebook is based on the open-source Jupyter project and supports various programming languages, including Python, R, and Julia.\n",
    "- Notebooks are divided into cells, which can contain code, markdown text, or raw text.\n",
    "- It provides a user-friendly interface for combining code execution, documentation, and visualizations in a single document."
   ]
  },
  {
   "cell_type": "markdown",
   "id": "b3a9533c",
   "metadata": {},
   "source": [
    "**Open Jupyter Notebook**\n",
    "\n",
    "After installation of Anaconda, you can search for Jupyter Notebook application in your operation system and run it. Alternatively, you can run the following command in Anaconda Prompt:\n",
    "\n",
    "`jupyter notebook`"
   ]
  },
  {
   "cell_type": "markdown",
   "id": "9e684419",
   "metadata": {},
   "source": [
    "**Basic Operations in Jupyter Notebook**\n",
    "\n",
    "***Creating a New Notebook***\n",
    "\n",
    "1. To create a new Jupyter Notebook, click on the \"New\" button in the Jupyter interface and select \"Python 3\" (or your preferred kernel) from the dropdown menu.\n",
    "\n",
    "***Cells***\n",
    "\n",
    "- Jupyter Notebooks are composed of cells, which are individual units that can contain code, markdown text, or raw content.\n",
    "\n",
    "***Running Code***\n",
    "\n",
    "- To execute code in a cell, select the cell and press \"Shift + Enter\" or click the \"Run\" button in the Jupyter interface.\n",
    "- The output of the code will appear below the cell.\n",
    "\n",
    "***Adding and Deleting Cells***\n",
    "\n",
    "- To add a new cell, click the \"+\" button in the toolbar or press \"B\" to insert a cell below the currently selected cell.\n",
    "- To delete a cell, select it and press \"D\" twice (i.e., press \"D\" followed by another \"D\").\n",
    "\n",
    "***Markdown Cells***\n",
    "\n",
    "- To add markdown text to a cell, change the cell type from \"Code\" to \"Markdown\" in the dropdown menu.\n",
    "- You can use markdown to format text, create headings, lists, links, and more.\n",
    "\n",
    "***Keyboard Shortcuts***\n",
    "\n",
    "Keyboard shortcuts can significantly improve your efficiency when working in Jupyter Notebook. Here are some useful shortcuts:\n",
    "\n",
    "- \"Shift + Enter\" to run the current cell and move to the next cell.\n",
    "- \"Ctrl + Enter\" to run the current cell and stay in the same cell.\n",
    "- \"A\" to insert a new cell above the current cell.\n",
    "- \"B\" to insert a new cell below the current cell.\n",
    "- \"D\" twice (i.e., press \"D\" followed by another \"D\") to delete the current cell.\n",
    "- \"M\" to change the current cell type to markdown.\n",
    "- \"Y\" to change the current cell type to code.\n",
    "\n",
    "***Saving and Exporting***\n",
    "\n",
    "- To save your work, click the \"Save\" button or press \"Ctrl + S\" (or \"Cmd + S\" on Mac).\n",
    "- You can export your notebook as a PDF, HTML, or other formats by going to \"File\" > \"Download as.\"\n",
    "\n",
    "***Jupyter Notebook uses the default Anaconda environment.***\n",
    "To use your own environment, go to Kernel → Change Kernel.\n",
    "\n",
    "***You can add extensions to Jupyter Notebook for more functionaliies.***\n",
    "For example, to add the Table of Contents extension, run the following commands in Anaconda Prompt:\n",
    "\n",
    "`conda install -c conda-forge jupyter_contrib_nbextensions`\n",
    "\n",
    "`jupyter contrib nbextension install --user`\n",
    "\n",
    "Then run Jupyter Notebook, open a notebook, go to Edit → nbextensions config → enable the Table of Contents extension."
   ]
  },
  {
   "cell_type": "markdown",
   "id": "9c6f6cb9",
   "metadata": {},
   "source": [
    "### 1.1.2. Basics of Python Programming"
   ]
  },
  {
   "cell_type": "markdown",
   "id": "0d3e7123",
   "metadata": {},
   "source": [
    "Python is a beginner-friendly programming language, and you don't need to be an expert coder to use it effectively for computational chemistry. Here are some fundamental Python concepts:"
   ]
  },
  {
   "cell_type": "markdown",
   "id": "07020c3a",
   "metadata": {},
   "source": [
    "#### 1.1.2.1. Variables"
   ]
  },
  {
   "cell_type": "markdown",
   "id": "9b73adfc",
   "metadata": {},
   "source": [
    "In Python, you can assign values to variables using the `=`:"
   ]
  },
  {
   "cell_type": "code",
   "execution_count": 1,
   "id": "c94af68e",
   "metadata": {},
   "outputs": [],
   "source": [
    "x = 5\n",
    "y = \"Hello, World!\""
   ]
  },
  {
   "cell_type": "markdown",
   "id": "91d59bf2",
   "metadata": {},
   "source": [
    "You can print out the value of a variable using the `print()` fuction:"
   ]
  },
  {
   "cell_type": "code",
   "execution_count": 2,
   "id": "11f5c9ce",
   "metadata": {},
   "outputs": [
    {
     "name": "stdout",
     "output_type": "stream",
     "text": [
      "5\n",
      "Hello, World!\n"
     ]
    }
   ],
   "source": [
    "print(x)\n",
    "print(y)"
   ]
  },
  {
   "cell_type": "markdown",
   "id": "2da54c42",
   "metadata": {},
   "source": [
    "#### 1.1.2.2. Data Types"
   ]
  },
  {
   "cell_type": "markdown",
   "id": "467d2cd4",
   "metadata": {},
   "source": [
    "Basic data types in python are integer (int), float, string (str), boolean (bool)"
   ]
  },
  {
   "cell_type": "code",
   "execution_count": 3,
   "id": "2d0a424a",
   "metadata": {},
   "outputs": [],
   "source": [
    "a = 5        # Integer\n",
    "b = 3.14     # Float\n",
    "c = \"apple\"  # String (put in a pair of \"\" or '')\n",
    "d = True     # Boolean (True or False)"
   ]
  },
  {
   "cell_type": "code",
   "execution_count": 4,
   "id": "30681344",
   "metadata": {
    "scrolled": true
   },
   "outputs": [
    {
     "name": "stdout",
     "output_type": "stream",
     "text": [
      "5\n",
      "3.14\n",
      "apple\n",
      "True\n"
     ]
    }
   ],
   "source": [
    "print(a)\n",
    "print(b)\n",
    "print(c)\n",
    "print(d)"
   ]
  },
  {
   "cell_type": "markdown",
   "id": "6797ce66",
   "metadata": {},
   "source": [
    "The `type()` function can be used to identify the type of each variable."
   ]
  },
  {
   "cell_type": "code",
   "execution_count": 5,
   "id": "82509f17",
   "metadata": {
    "scrolled": true
   },
   "outputs": [
    {
     "name": "stdout",
     "output_type": "stream",
     "text": [
      "<class 'int'>\n",
      "<class 'float'>\n",
      "<class 'str'>\n",
      "<class 'bool'>\n"
     ]
    }
   ],
   "source": [
    "print(type(a))\n",
    "print(type(b))\n",
    "print(type(c))\n",
    "print(type(d))"
   ]
  },
  {
   "cell_type": "markdown",
   "id": "d9664d0d",
   "metadata": {},
   "source": [
    "The boolean type variables can be the results of comparison operators:\n",
    "- `==`    Equal\n",
    "- `!=`    Not equal\n",
    "- `>`     Greater than\n",
    "- `<`     Less than\n",
    "- `>=`    Greater than or equal to\n",
    "- `<=`    Less than or equal to"
   ]
  },
  {
   "cell_type": "code",
   "execution_count": 6,
   "id": "1c86ba80",
   "metadata": {},
   "outputs": [
    {
     "name": "stdout",
     "output_type": "stream",
     "text": [
      "True\n",
      "False\n"
     ]
    }
   ],
   "source": [
    "bool1 = 5 > 0\n",
    "print(bool1)\n",
    "bool2 = 3.14 <= 2\n",
    "print(bool2)"
   ]
  },
  {
   "cell_type": "markdown",
   "id": "f0b2470d",
   "metadata": {},
   "source": [
    "More complex data types in python are list, tuple, set, and dictionary"
   ]
  },
  {
   "cell_type": "code",
   "execution_count": 7,
   "id": "8addbfa7",
   "metadata": {},
   "outputs": [],
   "source": [
    "# A list\n",
    "l = [1,2,3.14,'dog', True]\n",
    "\n",
    "# A tuple \n",
    "t = (1,2,3.14,'dog', True)\n",
    "\n",
    "# A set \n",
    "s = {'apple', 'banana', 'cherry'}\n",
    "\n",
    "# A dictionary\n",
    "d = {'student id': 11010001,\n",
    "     'student grade': 'A',\n",
    "     'hello': 'ciao',\n",
    "     'dog': 'cane',\n",
    "     'cat': 'gatto'}"
   ]
  },
  {
   "cell_type": "markdown",
   "id": "6da42e79",
   "metadata": {},
   "source": [
    "You can you the length of a list, tuple, set, or dictionary using the `len()` function"
   ]
  },
  {
   "cell_type": "code",
   "execution_count": 8,
   "id": "174341c2",
   "metadata": {},
   "outputs": [
    {
     "name": "stdout",
     "output_type": "stream",
     "text": [
      "5\n",
      "5\n",
      "3\n",
      "5\n"
     ]
    }
   ],
   "source": [
    "print(len(l))\n",
    "print(len(t))\n",
    "print(len(s))\n",
    "print(len(d))"
   ]
  },
  {
   "cell_type": "markdown",
   "id": "4c6aef0a",
   "metadata": {},
   "source": [
    "To get the value of an item in a list or tuple, you can use the index of that item with the following syntax. In python, index start from 0."
   ]
  },
  {
   "cell_type": "code",
   "execution_count": 9,
   "id": "60b8021a",
   "metadata": {},
   "outputs": [],
   "source": [
    "list_item1 = l[0] # get the first item\n",
    "tuple_item3 = t[2] # get the third item"
   ]
  },
  {
   "cell_type": "code",
   "execution_count": 10,
   "id": "6002d1be",
   "metadata": {},
   "outputs": [
    {
     "name": "stdout",
     "output_type": "stream",
     "text": [
      "1\n",
      "3.14\n"
     ]
    }
   ],
   "source": [
    "print(list_item1)\n",
    "print(tuple_item3)"
   ]
  },
  {
   "cell_type": "markdown",
   "id": "0626ab83",
   "metadata": {},
   "source": [
    "However, you cannot use index for a set or a dictionary.\n",
    "\n",
    "Each item of a dictionary is a pair of key and value. For example, the item\n",
    "`'student id': 11010001`:\n",
    "- `'student id'` is the key (type `str`)\n",
    "- `1010001` is the value (type `int`)\n",
    "\n",
    "The get the value of an item in a dictionary, you can use the key with the following syntax:"
   ]
  },
  {
   "cell_type": "code",
   "execution_count": 11,
   "id": "61237aa5",
   "metadata": {},
   "outputs": [],
   "source": [
    "student_id = d['student id']\n",
    "student_grade = d['student grade']"
   ]
  },
  {
   "cell_type": "code",
   "execution_count": 12,
   "id": "4cfddfea",
   "metadata": {},
   "outputs": [
    {
     "name": "stdout",
     "output_type": "stream",
     "text": [
      "11010001\n",
      "A\n"
     ]
    }
   ],
   "source": [
    "print(student_id)\n",
    "print(student_grade)"
   ]
  },
  {
   "cell_type": "markdown",
   "id": "a30a2c31",
   "metadata": {},
   "source": [
    "For lists, you can add elements to a list using append() or extend() functions"
   ]
  },
  {
   "cell_type": "code",
   "execution_count": 13,
   "id": "a7134ced",
   "metadata": {},
   "outputs": [
    {
     "name": "stdout",
     "output_type": "stream",
     "text": [
      "[1, 2, 3.14, 'dog', True, 10]\n"
     ]
    }
   ],
   "source": [
    "l.append(10)\n",
    "print(l)"
   ]
  },
  {
   "cell_type": "code",
   "execution_count": 14,
   "id": "4933c0c3",
   "metadata": {},
   "outputs": [
    {
     "name": "stdout",
     "output_type": "stream",
     "text": [
      "[1, 2, 3.14, 'dog', True, 10, 'cat', False]\n"
     ]
    }
   ],
   "source": [
    "l2 = ['cat', False]\n",
    "l.extend(l2)\n",
    "print(l)"
   ]
  },
  {
   "cell_type": "markdown",
   "id": "c5bdb6b0",
   "metadata": {},
   "source": [
    "#### 1.1.2.3. Basic Operations"
   ]
  },
  {
   "cell_type": "markdown",
   "id": "a3fa6f14",
   "metadata": {},
   "source": [
    "You can perform basic operations in python, such as addition, subtraction, multiplication, and division:"
   ]
  },
  {
   "cell_type": "code",
   "execution_count": 15,
   "id": "ac380757",
   "metadata": {},
   "outputs": [
    {
     "name": "stdout",
     "output_type": "stream",
     "text": [
      "8.14\n",
      "1.8599999999999999\n",
      "15.700000000000001\n",
      "1.592356687898089\n"
     ]
    }
   ],
   "source": [
    "result1 = a + b\n",
    "result2 = a - b\n",
    "result3 = a * b\n",
    "result4 = a / b\n",
    "\n",
    "print(result1)\n",
    "print(result2)\n",
    "print(result3)\n",
    "print(result4)"
   ]
  },
  {
   "cell_type": "markdown",
   "id": "6f327dff",
   "metadata": {},
   "source": [
    "You can format the output's display by using the string.format() function. ([*see details*](https://www.w3schools.com/python/ref_string_format.asp))"
   ]
  },
  {
   "cell_type": "code",
   "execution_count": 16,
   "id": "caf4a9db",
   "metadata": {},
   "outputs": [
    {
     "name": "stdout",
     "output_type": "stream",
     "text": [
      "8.14\n",
      "1.860\n",
      "1570.00%\n",
      "1.5924e+00\n"
     ]
    }
   ],
   "source": [
    "print(\"{0}\".format(result1))\n",
    "print(\"{0:.3f}\".format(result2))\n",
    "print(\"{0:.2%}\".format(result3))\n",
    "print(\"{0:.4e}\".format(result4))"
   ]
  },
  {
   "cell_type": "markdown",
   "id": "82c29eef",
   "metadata": {},
   "source": [
    "Other mathematic operations include integer division, modulo, power, root:"
   ]
  },
  {
   "cell_type": "code",
   "execution_count": 17,
   "id": "c6369f0f",
   "metadata": {},
   "outputs": [
    {
     "name": "stdout",
     "output_type": "stream",
     "text": [
      "6\n"
     ]
    }
   ],
   "source": [
    "# integer division\n",
    "print(20 // 3)"
   ]
  },
  {
   "cell_type": "code",
   "execution_count": 18,
   "id": "8dbb53f3",
   "metadata": {},
   "outputs": [
    {
     "name": "stdout",
     "output_type": "stream",
     "text": [
      "2\n"
     ]
    }
   ],
   "source": [
    "# modulo\n",
    "print(20 % 3) # (20 mod 3)"
   ]
  },
  {
   "cell_type": "code",
   "execution_count": 19,
   "id": "e6c63ceb",
   "metadata": {},
   "outputs": [
    {
     "name": "stdout",
     "output_type": "stream",
     "text": [
      "16\n"
     ]
    }
   ],
   "source": [
    "# power\n",
    "print(2 ** 4) # 2 raised to the fourth power"
   ]
  },
  {
   "cell_type": "code",
   "execution_count": 20,
   "id": "9563eaec",
   "metadata": {},
   "outputs": [
    {
     "name": "stdout",
     "output_type": "stream",
     "text": [
      "4.0\n"
     ]
    }
   ],
   "source": [
    "# root\n",
    "print(16 ** (1/2)) # square root of 16"
   ]
  },
  {
   "cell_type": "markdown",
   "id": "aa42bc7a",
   "metadata": {},
   "source": [
    "***Sometimes you might want to leave comments directly in your code. Comments come after the `#` sign***"
   ]
  },
  {
   "cell_type": "markdown",
   "id": "01fe0c6a",
   "metadata": {},
   "source": [
    "You can compute a new value for a variable and assign it using assignment operators. For example:"
   ]
  },
  {
   "cell_type": "code",
   "execution_count": 21,
   "id": "a1d24c9c",
   "metadata": {},
   "outputs": [
    {
     "name": "stdout",
     "output_type": "stream",
     "text": [
      "5\n"
     ]
    }
   ],
   "source": [
    "x = 5\n",
    "print(x)"
   ]
  },
  {
   "cell_type": "code",
   "execution_count": 22,
   "id": "6396431a",
   "metadata": {},
   "outputs": [
    {
     "name": "stdout",
     "output_type": "stream",
     "text": [
      "8\n"
     ]
    }
   ],
   "source": [
    "x += 3\n",
    "print(x)"
   ]
  },
  {
   "cell_type": "code",
   "execution_count": 23,
   "id": "9fec9baf",
   "metadata": {},
   "outputs": [
    {
     "name": "stdout",
     "output_type": "stream",
     "text": [
      "3\n"
     ]
    }
   ],
   "source": [
    "x -= 5\n",
    "print(x)"
   ]
  },
  {
   "cell_type": "code",
   "execution_count": 24,
   "id": "7e5e5534",
   "metadata": {},
   "outputs": [
    {
     "name": "stdout",
     "output_type": "stream",
     "text": [
      "6\n"
     ]
    }
   ],
   "source": [
    "x *= 2\n",
    "print(x)"
   ]
  },
  {
   "cell_type": "code",
   "execution_count": 25,
   "id": "bdff5059",
   "metadata": {},
   "outputs": [
    {
     "name": "stdout",
     "output_type": "stream",
     "text": [
      "2.0\n"
     ]
    }
   ],
   "source": [
    "x /= 3\n",
    "print(x)"
   ]
  },
  {
   "cell_type": "markdown",
   "id": "1e0d668f",
   "metadata": {},
   "source": [
    "#### 1.1.2.4. Import Python Modules"
   ]
  },
  {
   "cell_type": "markdown",
   "id": "8e253ae2",
   "metadata": {},
   "source": [
    "In Python, modules are accessed by using the `import` statement. For example, we can import the `math` module using:"
   ]
  },
  {
   "cell_type": "code",
   "execution_count": 26,
   "id": "84947816",
   "metadata": {},
   "outputs": [],
   "source": [
    "import math"
   ]
  },
  {
   "cell_type": "markdown",
   "id": "69d13313",
   "metadata": {},
   "source": [
    "Now you can use all the functions that are available within the module `math` using the `math.<function_name>` syntax ([*see details about the module*](https://docs.python.org/3/library/math.html)). For example:"
   ]
  },
  {
   "cell_type": "code",
   "execution_count": 27,
   "id": "34346fdf",
   "metadata": {},
   "outputs": [
    {
     "name": "stdout",
     "output_type": "stream",
     "text": [
      "3.0\n",
      "1.0\n"
     ]
    }
   ],
   "source": [
    "print(math.sqrt(9))        # square root function\n",
    "print(math.sin(math.pi/2)) # sine function, math.pi = 3.141592653589793 (a constant)"
   ]
  },
  {
   "cell_type": "markdown",
   "id": "981a93b0",
   "metadata": {},
   "source": [
    "Alternatively, you can import a function from a module like this:"
   ]
  },
  {
   "cell_type": "code",
   "execution_count": 28,
   "id": "5d3bc5b0",
   "metadata": {},
   "outputs": [],
   "source": [
    "from math import cos # cosine function"
   ]
  },
  {
   "cell_type": "markdown",
   "id": "6637381f",
   "metadata": {},
   "source": [
    "Now you can use the `cos` function without using `math.`:"
   ]
  },
  {
   "cell_type": "code",
   "execution_count": 29,
   "id": "cf6212f8",
   "metadata": {},
   "outputs": [
    {
     "name": "stdout",
     "output_type": "stream",
     "text": [
      "-1.0\n"
     ]
    }
   ],
   "source": [
    "print(cos(math.pi))"
   ]
  },
  {
   "cell_type": "markdown",
   "id": "757c9cd5",
   "metadata": {},
   "source": [
    "You can import multiple functions or other elements at the same time (separated by comma)"
   ]
  },
  {
   "cell_type": "code",
   "execution_count": 30,
   "id": "8b703743",
   "metadata": {},
   "outputs": [
    {
     "name": "stdout",
     "output_type": "stream",
     "text": [
      "-1.0\n"
     ]
    }
   ],
   "source": [
    "from math import cos, pi # math.cos is a function, math.pi is a constant\n",
    "print(cos(pi))"
   ]
  },
  {
   "cell_type": "markdown",
   "id": "9459c373",
   "metadata": {},
   "source": [
    "You can also import all elements from a module using:"
   ]
  },
  {
   "cell_type": "code",
   "execution_count": 31,
   "id": "bc1d60b4",
   "metadata": {},
   "outputs": [],
   "source": [
    "from math import *"
   ]
  },
  {
   "cell_type": "markdown",
   "id": "b723f805",
   "metadata": {},
   "source": [
    "Now you can use any function within that module without using `math.`:"
   ]
  },
  {
   "cell_type": "code",
   "execution_count": 32,
   "id": "cb16d938",
   "metadata": {
    "scrolled": true
   },
   "outputs": [
    {
     "name": "stdout",
     "output_type": "stream",
     "text": [
      "3.141592653589793\n",
      "120\n"
     ]
    }
   ],
   "source": [
    "print(acos(cos(pi)))\n",
    "print(factorial(5))"
   ]
  },
  {
   "cell_type": "markdown",
   "id": "d64eaba3",
   "metadata": {},
   "source": [
    "#### 1.1.2.5. If Statement"
   ]
  },
  {
   "cell_type": "markdown",
   "id": "1347dcb9",
   "metadata": {},
   "source": [
    "An if statement is written by using the `if` keyword. The body of an if statement is indented. For example:"
   ]
  },
  {
   "cell_type": "code",
   "execution_count": 33,
   "id": "38f31bf3",
   "metadata": {},
   "outputs": [
    {
     "name": "stdout",
     "output_type": "stream",
     "text": [
      "b is greater than a\n"
     ]
    }
   ],
   "source": [
    "a = 33\n",
    "b = 200\n",
    "if b > a:\n",
    "    print(\"b is greater than a\")"
   ]
  },
  {
   "cell_type": "markdown",
   "id": "ecd2d6a8",
   "metadata": {},
   "source": [
    "The `elif` keyword is Python's way of saying \"if the previous conditions were not true, then try this condition\".\n",
    "The `else` keyword catches anything which isn't caught by the preceding conditions."
   ]
  },
  {
   "cell_type": "code",
   "execution_count": 34,
   "id": "f459be3d",
   "metadata": {},
   "outputs": [
    {
     "name": "stdout",
     "output_type": "stream",
     "text": [
      "a is greater than b\n"
     ]
    }
   ],
   "source": [
    "a = 200\n",
    "b = 33\n",
    "if b > a:\n",
    "    print(\"b is greater than a\")\n",
    "elif a == b:\n",
    "    print(\"a and b are equal\")\n",
    "else:\n",
    "    print(\"a is greater than b\")"
   ]
  },
  {
   "cell_type": "markdown",
   "id": "569525d3",
   "metadata": {},
   "source": [
    "#### 1.1.2.6. While Loop"
   ]
  },
  {
   "cell_type": "markdown",
   "id": "bdce18de",
   "metadata": {},
   "source": [
    "With the `while` loop we can execute a set of statements as long as a condition is `True`. The body of a `while` loop is indented."
   ]
  },
  {
   "cell_type": "code",
   "execution_count": 35,
   "id": "2af4afbd",
   "metadata": {},
   "outputs": [
    {
     "name": "stdout",
     "output_type": "stream",
     "text": [
      "1\n",
      "2\n",
      "3\n",
      "4\n",
      "5\n"
     ]
    }
   ],
   "source": [
    "i = 1\n",
    "while i < 6:\n",
    "    print(i)\n",
    "    i += 1"
   ]
  },
  {
   "cell_type": "markdown",
   "id": "2fa2494b",
   "metadata": {},
   "source": [
    "With the `break` statement we can stop the loop even if the while condition is `True`:"
   ]
  },
  {
   "cell_type": "code",
   "execution_count": 36,
   "id": "a7277805",
   "metadata": {},
   "outputs": [
    {
     "name": "stdout",
     "output_type": "stream",
     "text": [
      "1\n",
      "2\n",
      "3\n"
     ]
    }
   ],
   "source": [
    "i = 1\n",
    "while i < 6:\n",
    "    print(i)\n",
    "    if i == 3:\n",
    "        break\n",
    "    i += 1 "
   ]
  },
  {
   "cell_type": "markdown",
   "id": "e9e286a9",
   "metadata": {},
   "source": [
    "With the `continue` statement we can stop the current iteration, and continue with the next:"
   ]
  },
  {
   "cell_type": "code",
   "execution_count": 37,
   "id": "f43de6fa",
   "metadata": {},
   "outputs": [
    {
     "name": "stdout",
     "output_type": "stream",
     "text": [
      "1\n",
      "2\n",
      "4\n",
      "5\n",
      "6\n"
     ]
    }
   ],
   "source": [
    "i = 0\n",
    "while i < 6:\n",
    "    i += 1\n",
    "    if i == 3:\n",
    "        continue\n",
    "    print(i)"
   ]
  },
  {
   "cell_type": "markdown",
   "id": "af7b853d",
   "metadata": {},
   "source": [
    "#### 1.1.2.7. For Loop"
   ]
  },
  {
   "cell_type": "markdown",
   "id": "0f2fa448",
   "metadata": {},
   "source": [
    "A `for` loop is used for iterating over a sequence (that is either a list, a tuple, a dictionary, a set, or a string). The body of a `for` loop is indented.\n",
    "\n",
    "With the `for` loop we can execute a set of statements, once for each item in a list, tuple, set etc."
   ]
  },
  {
   "cell_type": "code",
   "execution_count": 38,
   "id": "714dd5e8",
   "metadata": {},
   "outputs": [
    {
     "name": "stdout",
     "output_type": "stream",
     "text": [
      "apple\n",
      "banana\n",
      "cherry\n"
     ]
    }
   ],
   "source": [
    "# Loop through a list\n",
    "fruits = [\"apple\", \"banana\", \"cherry\"]\n",
    "for x in fruits:\n",
    "    print(x)"
   ]
  },
  {
   "cell_type": "code",
   "execution_count": 39,
   "id": "1c985264",
   "metadata": {},
   "outputs": [
    {
     "name": "stdout",
     "output_type": "stream",
     "text": [
      "b\n",
      "a\n",
      "n\n",
      "a\n",
      "n\n",
      "a\n"
     ]
    }
   ],
   "source": [
    "# Loop through a string\n",
    "for x in \"banana\":\n",
    "    print(x)"
   ]
  },
  {
   "cell_type": "markdown",
   "id": "e2768732",
   "metadata": {},
   "source": [
    "With the `break` statement we can stop the loop before it has looped through all the items:"
   ]
  },
  {
   "cell_type": "code",
   "execution_count": 40,
   "id": "a383fd27",
   "metadata": {},
   "outputs": [
    {
     "name": "stdout",
     "output_type": "stream",
     "text": [
      "apple\n",
      "banana\n"
     ]
    }
   ],
   "source": [
    "fruits = [\"apple\", \"banana\", \"cherry\"]\n",
    "for x in fruits:\n",
    "    print(x)\n",
    "    if x == \"banana\":\n",
    "        break"
   ]
  },
  {
   "cell_type": "markdown",
   "id": "14b7d29d",
   "metadata": {},
   "source": [
    "With the continue statement we can stop the current iteration, and continue with the next:"
   ]
  },
  {
   "cell_type": "code",
   "execution_count": 41,
   "id": "429d461e",
   "metadata": {},
   "outputs": [
    {
     "name": "stdout",
     "output_type": "stream",
     "text": [
      "apple\n",
      "cherry\n"
     ]
    }
   ],
   "source": [
    "fruits = [\"apple\", \"banana\", \"cherry\"]\n",
    "for x in fruits:\n",
    "    if x == \"banana\":\n",
    "        continue\n",
    "    print(x)"
   ]
  },
  {
   "cell_type": "markdown",
   "id": "13aff185",
   "metadata": {},
   "source": [
    "#### 1.1.2.8. Function"
   ]
  },
  {
   "cell_type": "markdown",
   "id": "220c692c",
   "metadata": {},
   "source": [
    "In python we can easily define new functions. We use `def` keyword to define a function and its arguments. Then we use `return` keyword to return the result. The body of a function is indented.\n",
    "\n",
    "For example let's write a function that takes 2 numbers x and y, and computes $\\sqrt{x^2 + y^2}$."
   ]
  },
  {
   "cell_type": "code",
   "execution_count": 42,
   "id": "815f46d7",
   "metadata": {},
   "outputs": [],
   "source": [
    "def my_function(x, y):\n",
    "    result = (x ** 2 + y ** 2) ** 0.5\n",
    "    return result"
   ]
  },
  {
   "cell_type": "markdown",
   "id": "e11cb720",
   "metadata": {},
   "source": [
    "Now you can test this function"
   ]
  },
  {
   "cell_type": "code",
   "execution_count": 43,
   "id": "cede8c40",
   "metadata": {},
   "outputs": [
    {
     "name": "stdout",
     "output_type": "stream",
     "text": [
      "5.0\n",
      "10.0\n"
     ]
    }
   ],
   "source": [
    "print(my_function(3, 4))\n",
    "print(my_function(6, 8))"
   ]
  },
  {
   "cell_type": "code",
   "execution_count": null,
   "id": "9d57f999",
   "metadata": {},
   "outputs": [],
   "source": []
  }
 ],
 "metadata": {
  "kernelspec": {
   "display_name": "Python 3 (ipykernel)",
   "language": "python",
   "name": "python3"
  },
  "language_info": {
   "codemirror_mode": {
    "name": "ipython",
    "version": 3
   },
   "file_extension": ".py",
   "mimetype": "text/x-python",
   "name": "python",
   "nbconvert_exporter": "python",
   "pygments_lexer": "ipython3",
   "version": "3.11.6"
  },
  "toc": {
   "base_numbering": "",
   "nav_menu": {},
   "number_sections": false,
   "sideBar": true,
   "skip_h1_title": false,
   "title_cell": "Table of Contents",
   "title_sidebar": "Table of Contents",
   "toc_cell": false,
   "toc_position": {
    "height": "calc(100% - 180px)",
    "left": "10px",
    "top": "150px",
    "width": "244.333px"
   },
   "toc_section_display": true,
   "toc_window_display": true
  }
 },
 "nbformat": 4,
 "nbformat_minor": 5
}
