{
 "cells": [
  {
   "cell_type": "markdown",
   "id": "ce2d6e30",
   "metadata": {},
   "source": [
    "# Chapter 3. Molecular Dynamics"
   ]
  },
  {
   "cell_type": "markdown",
   "id": "520d5d2e",
   "metadata": {},
   "source": [
    "Molecular Dynamics (MD) is a powerful computational technique used in the field of computational chemistry to simulate the time evolution of a molecular system. While the previous chapter introduced the concept of Molecular Mechanics, which focuses on static energy calculations and geometry optimization, Molecular Dynamics takes a dynamic approach by simulating how molecules move and interact over time.\n",
    "\n",
    "Molecular Dynamics has a wide range of applications in chemistry, biology, and materials science. It is used to study processes such as protein folding, ligand binding, chemical reactions, and material properties. By simulating the dynamic behavior of molecules, researchers can gain valuable insights into the structure, function, and properties of complex systems."
   ]
  },
  {
   "cell_type": "markdown",
   "id": "295a0f8f",
   "metadata": {},
   "source": [
    "## 3.1. Newton's Equations of Motion"
   ]
  },
  {
   "cell_type": "markdown",
   "id": "bada76cf",
   "metadata": {},
   "source": [
    "MD simulations are based on Newton's equations of motion, which describe how the positions and velocities of particles change in response to forces. By numerically solving these equations, MD simulations can provide insights into the dynamics and thermodynamics of a molecular system.\n",
    "\n",
    "Newton's Second Law of Motion:\n",
    "$$F = ma = m \\frac{d^2\\mathbf{r}}{dt^2}$$\n",
    "\n",
    "Where:\n",
    "- $F$ represents the force applied to an object.\n",
    "- $m$ represents the mass of the object.\n",
    "- $\\mathbf{r}$ is the position vector of the object.\n",
    "- $\\frac{d^2\\mathbf{r}}{dt^2}$ is the second derivative of the position vector with respect to time, representing acceleration.\n",
    "\n",
    "Beside that, we know the relationship between force and potential energy:\n",
    "\\$$F = -\\nabla E_{\\text{potential}}$$\n",
    "\n",
    "Where:\n",
    "- $F$ represents the force applied to an object.\n",
    "- $\\nabla$ represents the gradient operator.\n",
    "- $E_{\\text{potential}}$ represents the potential energy of the system.\n",
    "\n",
    "If one knows the forces acting upon the body, one can find the position of the body at any moment r(t), i.e. predict its dynamics. This can be done by solving Newton’s equation of motion. It is a second order ODE that can be solved analytically for a few simple cases: constant force, harmonic oscillator, periodic force, drag force, etc. However, a more general approach is to use computers in order to solve the ODE numerically."
   ]
  },
  {
   "cell_type": "markdown",
   "id": "2d6e53ba",
   "metadata": {},
   "source": [
    "## 3.2. Simulation of Dynamics of Particles"
   ]
  },
  {
   "cell_type": "markdown",
   "id": "be689ba0",
   "metadata": {},
   "source": [
    "There are many methods for solving ordinary differential equations (ODEs). The second-order ODE is transformed into a system of two first-order ODEs as follows:\n",
    "\n",
    "$$\\frac{dr(t)}{dt} = v(t)$$\n",
    "\n",
    "$$m\\frac{dv(t)}{dt} = F(t)$$\n",
    "\n",
    "We use a finite difference approximation that leads to a simple forward Euler algorithm:\n",
    "\n",
    "$$v_{n+1} = v_n + \\frac{F_n}{m} \\cdot \\Delta t$$\n",
    "\n",
    "$$r_{n+1} = r_n + v_{n+1} \\cdot \\Delta t$$\n",
    "\n",
    "Here we discretize time $t$ with a time step $\\Delta t$, so $t_{n+1} = t_n + \\Delta t$, and $r_n = r(t_n)$, $v_n = v(t_n)$, where $n$ is the timestep number. Using this method, computing dynamics is straightforward.\n",
    "\n",
    "In Molecular Dynamics, the positions and velocities of atoms within a molecular system are updated over discrete time steps (time evolution). The simulation proceeds in small time increments, allowing us to study the behavior of molecules in a dynamic and time-dependent manner."
   ]
  },
  {
   "cell_type": "markdown",
   "id": "68576094",
   "metadata": {},
   "source": [
    "## 3.3. Ensemble Simulations"
   ]
  },
  {
   "cell_type": "markdown",
   "id": "5c1bcbc6",
   "metadata": {},
   "source": [
    "In ensemble simulations, we explore the behavior of molecular systems by simulating them under different conditions. These simulations often fall into two main categories:\n",
    "\n",
    "   **Molecular Dynamics (MD) Simulations**: MD simulations involve solving equations of motion to evolve the system over time. They provide a dynamic view of the system's behavior, tracking how it changes as a function of time.\n",
    "\n",
    "   **Monte Carlo (MC) Simulations**: In contrast to MD simulations, MC simulations focus on sampling different configurations of the system in a probabilistic manner. Rather than evolving the system over time, MC simulations make random moves to explore various states and configurations. This approach is particularly useful for systems in which changes occur less frequently or when configurational changes are of interest.\n",
    "\n",
    "While MD simulations are well-suited for studying dynamic processes, MC simulations are valuable for exploring the equilibrium properties and thermodynamics of a system. Both techniques play essential roles in understanding molecular behavior and are valuable tools in computational chemistry.\n",
    "\n",
    "MD simulations are powerful tools for sampling different conformations and properties of a molecular system. By averaging over the trajectories of multiple simulations, we can compute various thermodynamic and structural properties, such as diffusion coefficients, radial distribution functions, and thermodynamic quantities."
   ]
  },
  {
   "cell_type": "markdown",
   "id": "515b8674",
   "metadata": {},
   "source": [
    "## 3.4. Molecule Dynamics Simulation"
   ]
  },
  {
   "cell_type": "markdown",
   "id": "fa9bf611",
   "metadata": {},
   "source": [
    "### 3.4.1. Gas Phase Simulation"
   ]
  },
  {
   "cell_type": "markdown",
   "id": "2fade306",
   "metadata": {},
   "source": [
    "In the following section, we will simulate the dynamics of Helium molecules in the gas phase using OpenMM. The gas phase simulation allows us to observe the behavior of individual water molecules as they move and interact:"
   ]
  },
  {
   "cell_type": "code",
   "execution_count": 1,
   "id": "927b7ce6",
   "metadata": {},
   "outputs": [],
   "source": [
    "# Import modules\n",
    "import numpy as np\n",
    "from rdkit import Chem\n",
    "import openmm\n",
    "from openmm import unit\n",
    "from openmm.app import PDBFile, PDBReporter, StateDataReporter\n",
    "from openmm.app.element import Element\n",
    "from sys import stdout"
   ]
  },
  {
   "cell_type": "code",
   "execution_count": 2,
   "id": "f1d94633",
   "metadata": {},
   "outputs": [],
   "source": [
    "# Create a molecule and save it as a PDB file\n",
    "helium_mol = Chem.MolFromSmiles('[He]')\n",
    "Chem.MolToPDBFile(helium_mol, '.\\structures\\helium.pdb')\n",
    "\n",
    "# Load a PDB file containing a water molecule structure\n",
    "helium_pdbfile = PDBFile('.\\structures\\helium.pdb')"
   ]
  },
  {
   "cell_type": "code",
   "execution_count": 3,
   "id": "bf502cb9",
   "metadata": {},
   "outputs": [],
   "source": [
    "# Create a system with the desired number of water molecules\n",
    "system = openmm.System()\n",
    "\n",
    "# Get the mass of helium from the Element class\n",
    "mass = Element.getBySymbol('He').mass\n",
    "\n",
    "# Define the number of molecules \n",
    "num_molecules = 10  # Number of molecules\n",
    "\n",
    "# Add water molecules to the system\n",
    "for _ in range(num_molecules):\n",
    "    system.addParticle(mass)\n",
    "    \n",
    "# Create an OpenMM integrator (e.g., Langevin integrator)\n",
    "temperature = 100 * unit.kelvin\n",
    "collision_rate = 1.0 / unit.picoseconds\n",
    "timestep = 2.0 * unit.femtoseconds\n",
    "integrator = openmm.LangevinIntegrator(temperature, collision_rate, timestep)\n",
    "\n",
    "# Define the and simulation box size and set up a periodic boundary condition (PBC)\n",
    "box_size = 1.0 * unit.angstroms  # Simulation box size\n",
    "system.setDefaultPeriodicBoxVectors((box_size, 0, 0), (0, box_size, 0), (0, 0, box_size))"
   ]
  },
  {
   "cell_type": "code",
   "execution_count": 4,
   "id": "682ba969",
   "metadata": {},
   "outputs": [],
   "source": [
    "# Create an OpenMM simulation\n",
    "simulation = openmm.app.Simulation(helium_pdbfile.topology, system, integrator)"
   ]
  },
  {
   "cell_type": "code",
   "execution_count": 5,
   "id": "d4592083",
   "metadata": {},
   "outputs": [],
   "source": [
    "# Generate random initial positions and velocities\n",
    "initial_positions = np.random.rand(num_molecules, 3) * box_size / unit.angstroms  # Use unit.angstroms\n",
    "simulation.context.setPositions(initial_positions)\n",
    "simulation.context.setVelocitiesToTemperature(temperature)"
   ]
  },
  {
   "cell_type": "code",
   "execution_count": 6,
   "id": "43ed40d1",
   "metadata": {},
   "outputs": [],
   "source": [
    "# Define a function to save trajectory of the simulation\n",
    "def save_pdb_file(step):\n",
    "    positions = simulation.context.getState(getPositions=True).getPositions(asNumpy=True)\n",
    "    with open(f'positions_step_{step}.xyz', 'w') as f:\n",
    "        f.write(f'{num_molecules}\\n')  # Number of atoms\n",
    "        f.write(f'Step {step}\\n')  # Optional comment line\n",
    "        for position in positions:\n",
    "            f.write(f'He {position[0].value_in_unit(unit.angstroms):.3f} {position[1].value_in_unit(unit.angstroms):.3f} {position[2].value_in_unit(unit.angstroms):.3f}\\n')"
   ]
  },
  {
   "cell_type": "code",
   "execution_count": 7,
   "id": "e2817d7e",
   "metadata": {},
   "outputs": [],
   "source": [
    "# Save the initial geometry\n",
    "save_pdb_file(0)\n",
    "\n",
    "# Run the MD simulation for a defined number of steps\n",
    "total_steps = 10  # Number of MD steps\n",
    "potential_energies = []\n",
    "kinetic_energies = []\n",
    "for step_idx in range(total_steps):\n",
    "    integrator.step(1)\n",
    "    \n",
    "    state = simulation.context.getState(getPositions=True, getEnergy=True)\n",
    "    potential_energies.append(state.getPotentialEnergy().value_in_unit(state.getPotentialEnergy().unit))\n",
    "    kinetic_energies.append(state.getKineticEnergy().value_in_unit(state.getKineticEnergy().unit))\n",
    "    \n",
    "    # Save interval (adjust the frequency as needed)\n",
    "    if step_idx % 1 == 0:\n",
    "        save_pdb_file(step_idx + 1)"
   ]
  },
  {
   "cell_type": "code",
   "execution_count": 8,
   "id": "0bf3f437",
   "metadata": {
    "scrolled": false
   },
   "outputs": [
    {
     "data": {
      "text/plain": [
       "<matplotlib.legend.Legend at 0x28875cd4ed0>"
      ]
     },
     "execution_count": 8,
     "metadata": {},
     "output_type": "execute_result"
    },
    {
     "data": {
      "image/png": "[encoded data removed]",
      "text/plain": [
       "<Figure size 640x480 with 1 Axes>"
      ]
     },
     "metadata": {},
     "output_type": "display_data"
    }
   ],
   "source": [
    "# Visualize the potential and kinetic energy\n",
    "import matplotlib.pyplot as plt\n",
    "\n",
    "plt.plot(potential_energies, label='potential_energies')\n",
    "plt.plot(kinetic_energies, label='kinetic_energies')\n",
    "plt.legend()"
   ]
  },
  {
   "cell_type": "markdown",
   "id": "c6ca3bb5",
   "metadata": {},
   "source": [
    "### 3.4.2. Protein Simulation"
   ]
  },
  {
   "cell_type": "markdown",
   "id": "807e550c",
   "metadata": {},
   "source": [
    "In the following section, we will simulate the dynamics of a protein. For this, you need to install MDAnalysis and NGLView:"
   ]
  },
  {
   "cell_type": "code",
   "execution_count": null,
   "id": "c38313aa",
   "metadata": {},
   "outputs": [],
   "source": [
    "!conda install -c conda-forg mdanalysis"
   ]
  },
  {
   "cell_type": "code",
   "execution_count": null,
   "id": "29262ea8",
   "metadata": {},
   "outputs": [],
   "source": [
    "!conda install -c conda-forge nglview"
   ]
  },
  {
   "cell_type": "code",
   "execution_count": 9,
   "id": "7023fa81",
   "metadata": {},
   "outputs": [
    {
     "name": "stderr",
     "output_type": "stream",
     "text": [
      "C:\\Users\\nguye\\anaconda3\\Lib\\site-packages\\MDAnalysis\\topology\\TPRParser.py:161: DeprecationWarning: 'xdrlib' is deprecated and slated for removal in Python 3.13\n",
      "  import xdrlib\n"
     ]
    },
    {
     "data": {
      "application/vnd.jupyter.widget-view+json": {
       "model_id": "f16b87dbab46416f8914fd0d3862d7a4",
       "version_major": 2,
       "version_minor": 0
      },
      "text/plain": []
     },
     "metadata": {},
     "output_type": "display_data"
    }
   ],
   "source": [
    "# Import modules\n",
    "from openmm import *\n",
    "from openmm.app import *\n",
    "from openmm.unit import *\n",
    "import MDAnalysis as md\n",
    "import nglview as ng\n",
    "from sys import stdout"
   ]
  },
  {
   "cell_type": "code",
   "execution_count": 10,
   "id": "a0ac4c2d",
   "metadata": {
    "scrolled": false
   },
   "outputs": [
    {
     "data": {
      "application/vnd.jupyter.widget-view+json": {
       "model_id": "09bb7bdc3ce149c495a6163cb2040ba5",
       "version_major": 2,
       "version_minor": 0
      },
      "text/plain": [
       "NGLWidget()"
      ]
     },
     "metadata": {},
     "output_type": "display_data"
    },
    {
     "data": {
      "application/vnd.jupyter.widget-view+json": {
       "model_id": "c349fe5ef1ed4ea389bbe8364b0ff3df",
       "version_major": 2,
       "version_minor": 0
      },
      "text/plain": [
       "Tab(children=(Box(children=(Box(children=(Box(children=(Label(value='step'), IntSlider(value=1, min=-100)), la…"
      ]
     },
     "metadata": {},
     "output_type": "display_data"
    }
   ],
   "source": [
    "## View protein file\n",
    "protein_file_name = '.\\\\structures\\\\1a3n_chainA.pdb'\n",
    "u = md.Universe(protein_file_name)\n",
    "ng.show_mdanalysis(u, gui=True)"
   ]
  },
  {
   "cell_type": "code",
   "execution_count": 11,
   "id": "1f136ca5",
   "metadata": {},
   "outputs": [],
   "source": [
    "## Loading protein file\n",
    "protein_pdb = PDBFile(protein_file_name)\n",
    "\n",
    "## Choosing forcefield\n",
    "forcefield = ForceField('amber14-all.xml', 'amber14/tip3pfb.xml')\n",
    "\n",
    "# Create a combined system for the protein-ligand complex\n",
    "system = forcefield.createSystem(protein_pdb.topology, nonbondedMethod=PME,\n",
    "        nonbondedCutoff=1*nanometer, constraints=HBonds)\n",
    "\n",
    "## Set up integrator\n",
    "temperature = 300*kelvin\n",
    "frictionCoeff = 1/picosecond\n",
    "time_step = 0.002*picoseconds\n",
    "integrator = LangevinIntegrator(temperature, frictionCoeff, time_step)"
   ]
  },
  {
   "cell_type": "code",
   "execution_count": 12,
   "id": "ad319c09",
   "metadata": {},
   "outputs": [],
   "source": [
    "## Create a simulation object\n",
    "simulation = Simulation(protein_pdb.topology, system, integrator)"
   ]
  },
  {
   "cell_type": "code",
   "execution_count": 13,
   "id": "94efc5bf",
   "metadata": {},
   "outputs": [],
   "source": [
    "## Initialize the position and minimize energy\n",
    "simulation.context.setPositions(protein_pdb.positions)\n",
    "simulation.minimizeEnergy()\n",
    "\n",
    "## Set up reporters\n",
    "total_steps = 10000\n",
    "pdb_reporter = PDBReporter('.\\\\trajectories\\\\traj.pdb', 1000)\n",
    "state_data_reporter = StateDataReporter(stdout, 500, step=True, potentialEnergy=True, temperature=True, progress=True, totalSteps = total_steps)\n",
    "simulation.reporters.append(pdb_reporter)\n",
    "simulation.reporters.append(state_data_reporter)"
   ]
  },
  {
   "cell_type": "code",
   "execution_count": 14,
   "id": "7f158bd8",
   "metadata": {
    "scrolled": true
   },
   "outputs": [
    {
     "name": "stdout",
     "output_type": "stream",
     "text": [
      "#\"Progress (%)\",\"Step\",\"Potential Energy (kJ/mole)\",\"Temperature (K)\"\n",
      "5.0%,500,-6524.917489253465,194.004056325147\n",
      "10.0%,1000,-5370.964364253465,267.4928331551447\n",
      "15.0%,1500,-4648.425301753465,284.15335529042324\n",
      "20.0%,2000,-4486.190926753465,303.31135232185187\n",
      "25.0%,2500,-4572.659676753465,291.1852102614116\n",
      "30.0%,3000,-4737.444833003465,297.51999082318156\n",
      "35.0%,3500,-4422.167489253465,302.3070305007103\n",
      "40.0%,4000,-4543.007333003465,303.4345559343898\n",
      "45.0%,4500,-4497.831551753465,302.21990652742863\n",
      "50.0%,5000,-4585.776864253465,299.9136674773856\n",
      "55.0%,5500,-4509.636239253465,296.0193721167381\n",
      "60.0%,6000,-4697.640145503465,304.08830039786625\n",
      "65.0%,6500,-4733.761239253465,306.66150244767084\n",
      "70.0%,7000,-4343.722176753465,302.8613210071365\n",
      "75.0%,7500,-4688.925301753465,300.3213015446233\n",
      "80.0%,8000,-4536.616708003465,302.1835541966169\n",
      "85.0%,8500,-4500.792489253465,305.16456201689175\n",
      "90.0%,9000,-4600.698739253465,298.79258913890607\n",
      "95.0%,9500,-4647.104989253465,299.04469746760907\n",
      "100.0%,10000,-4923.698739253465,302.97306513974706\n"
     ]
    }
   ],
   "source": [
    "## Run simulation\n",
    "simulation.step(total_steps)"
   ]
  },
  {
   "cell_type": "code",
   "execution_count": 15,
   "id": "b2b5b656",
   "metadata": {},
   "outputs": [
    {
     "data": {
      "application/vnd.jupyter.widget-view+json": {
       "model_id": "f2ff64ee64b04a068542ca336aa8091a",
       "version_major": 2,
       "version_minor": 0
      },
      "text/plain": [
       "NGLWidget(max_frame=9)"
      ]
     },
     "metadata": {},
     "output_type": "display_data"
    },
    {
     "data": {
      "application/vnd.jupyter.widget-view+json": {
       "model_id": "2aebbfc0871247529480776037083623",
       "version_major": 2,
       "version_minor": 0
      },
      "text/plain": [
       "Tab(children=(Box(children=(Box(children=(Box(children=(Label(value='step'), IntSlider(value=1, min=-100)), la…"
      ]
     },
     "metadata": {},
     "output_type": "display_data"
    }
   ],
   "source": [
    "## Visualize the result\n",
    "sys = md.Universe(protein_file_name, '.\\\\trajectories\\\\traj.pdb')\n",
    "ng.show_mdanalysis(sys, gui=True)"
   ]
  },
  {
   "cell_type": "markdown",
   "id": "eb78446d",
   "metadata": {},
   "source": [
    " ### 3.4.2. Simulation Software"
   ]
  },
  {
   "cell_type": "markdown",
   "id": "df8ac2aa",
   "metadata": {},
   "source": [
    "There are several free and user-friendly software tools with graphical user interfaces (GUIs) that are popular for molecular dynamics simulations.\n",
    "\n",
    "**VMD (Visual Molecular Dynamics):**\n",
    "   - VMD is a powerful and widely used molecular visualization and analysis software with a user-friendly GUI. While its primary purpose is visualization, it also provides tools for setting up and running molecular dynamics simulations. It supports various force fields and simulation engines.\n",
    "\n",
    "**NAMD (Nanoscale Molecular Dynamics):**\n",
    "   - NAMD is a high-performance molecular dynamics simulation software designed for simulating large biomolecular systems. While it has a command-line interface, it also provides a graphical interface called NAMD-Lite, which simplifies the setup and running of simulations.\n",
    "\n",
    "**GROMACS:**\n",
    "   - GROMACS is a versatile molecular dynamics simulation package known for its efficiency and performance. It primarily uses command-line tools, but there are graphical frontends like GromacsWrapper and PyGMX that can assist with simulation setup.\n",
    "\n",
    "**AmberTools:**\n",
    "   - AmberTools includes the graphical program LEaP (Leap Easy to use with Amber Parameters) for preparing systems for molecular dynamics simulations using the AMBER force field. It also has visualization capabilities through its ptraj and cpptraj tools.\n",
    "\n",
    "**LAMMPS (Large-scale Atomic/Molecular Massively Parallel Simulator):**\n",
    "   - LAMMPS is a highly extensible and flexible molecular dynamics code. While it's command-line-driven, there are third-party GUIs like OVITO and Atomsk that can be used to prepare and analyze LAMMPS simulations.\n",
    "\n",
    "**CHARMM-GUI:**\n",
    "   - CHARMM-GUI is a web-based interface that assists users in setting up complex molecular systems for simulations with the CHARMM force field. It generates input files for popular simulation programs, including NAMD and GROMACS.\n",
    "\n",
    "These software tools cater to a range of user needs, from beginners to advanced users, and offer various features for setting up, running, and analyzing molecular dynamics simulations."
   ]
  },
  {
   "cell_type": "markdown",
   "id": "8279797d",
   "metadata": {},
   "source": [
    "Additionally, here are some other software that are focused on protein simulation, including protein-ligand interaction, docking, and related tasks:\n",
    "\n",
    "**AutoDock Vina:**\n",
    "\n",
    "   - AutoDock Vina is a popular open-source molecular docking software known for its efficiency and accuracy. It allows for the docking of ligands into protein binding sites to predict binding poses and affinities.\n",
    "\n",
    "**UCSF Chimera:**\n",
    "\n",
    "   - UCSF Chimera is a highly versatile molecular modeling and visualization software that includes tools for protein-ligand docking, visualization, and analysis. It has a user-friendly GUI.\n",
    "\n",
    "**SwissDock:**\n",
    "\n",
    "   - SwissDock is a web-based platform for protein-ligand docking. Users can submit protein and ligand structures, and the platform performs docking calculations and provides results online.\n",
    "\n",
    "**AutodockTools (ADT):**\n",
    "\n",
    "   - AutodockTools is a graphical interface for setting up and running AutoDock and AutoDock Vina simulations. It simplifies the preparation of input files for docking studies.\n",
    "\n",
    "**MGLTools:**\n",
    "\n",
    "   - MGLTools is a set of scripts and utilities for preparing and analyzing protein-ligand docking simulations. It includes tools for visualizing and manipulating molecular structures.\n",
    "\n",
    "**PyRx:**\n",
    "\n",
    "   - PyRx is a virtual screening software that integrates AutoDock Vina for protein-ligand docking. It offers a user-friendly interface and can be used for high-throughput docking studies.\n",
    "   \n",
    "These software tools are valuable for a wide range of tasks related to protein-ligand interactions, such as docking, virtual screening, and molecular modeling. Depending on your specific research or educational needs, you can explore these tools to facilitate protein simulation and drug discovery studies."
   ]
  }
 ],
 "metadata": {
  "kernelspec": {
   "display_name": "Python 3 (ipykernel)",
   "language": "python",
   "name": "python3"
  },
  "language_info": {
   "codemirror_mode": {
    "name": "ipython",
    "version": 3
   },
   "file_extension": ".py",
   "mimetype": "text/x-python",
   "name": "python",
   "nbconvert_exporter": "python",
   "pygments_lexer": "ipython3",
   "version": "3.11.6"
  },
  "toc": {
   "base_numbering": "",
   "nav_menu": {},
   "number_sections": false,
   "sideBar": true,
   "skip_h1_title": false,
   "title_cell": "Table of Contents",
   "title_sidebar": "Table of Contents",
   "toc_cell": false,
   "toc_position": {
    "height": "calc(100% - 180px)",
    "left": "10px",
    "top": "150px",
    "width": "203px"
   },
   "toc_section_display": true,
   "toc_window_display": true
  }
 },
 "nbformat": 4,
 "nbformat_minor": 5
}
