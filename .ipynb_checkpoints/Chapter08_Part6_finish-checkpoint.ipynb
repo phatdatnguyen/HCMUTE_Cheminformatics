{
 "cells": [
  {
   "cell_type": "markdown",
   "id": "ce2d6e30",
   "metadata": {},
   "source": [
    "# Chapter 8: Calculation of Molecular Properties"
   ]
  },
  {
   "cell_type": "markdown",
   "id": "14225220",
   "metadata": {},
   "source": [
    "## 8.6. Time-Dependent Calculation"
   ]
  },
  {
   "cell_type": "markdown",
   "id": "758448fd",
   "metadata": {},
   "source": [
    "In the following section, we will perform time-dependent calculation to predict the absorption spectrum of coumarin:"
   ]
  },
  {
   "cell_type": "markdown",
   "id": "8a9a343f",
   "metadata": {},
   "source": [
    "### 8.6.1. Time-Dependent Calculation"
   ]
  },
  {
   "cell_type": "code",
   "execution_count": 1,
   "id": "fc30433b",
   "metadata": {
    "tags": []
   },
   "outputs": [],
   "source": [
    "# Import modules\n",
    "import numpy as np\n",
    "import matplotlib.pyplot as plt\n",
    "from rdkit import Chem\n",
    "from rdkit.Chem import AllChem\n",
    "from utils import View3DModel\n",
    "import psi4\n",
    "import py3Dmol"
   ]
  },
  {
   "cell_type": "code",
   "execution_count": 2,
   "id": "45cc12ef",
   "metadata": {
    "tags": []
   },
   "outputs": [
    {
     "data": {
      "text/plain": [
       "0"
      ]
     },
     "execution_count": 2,
     "metadata": {},
     "output_type": "execute_result"
    }
   ],
   "source": [
    "# Define the molecule\n",
    "smiles = 'O=C1OC2=C(C=CC=C2)C=C1'\n",
    "mol = Chem.MolFromSmiles(smiles)\n",
    "mol = Chem.AddHs(mol)\n",
    "AllChem.EmbedMolecule(mol, useRandomCoords=True)\n",
    "AllChem.UFFOptimizeMolecule(mol, maxIters=200)"
   ]
  },
  {
   "cell_type": "code",
   "execution_count": 3,
   "id": "3cf85740",
   "metadata": {
    "scrolled": true,
    "tags": []
   },
   "outputs": [
    {
     "data": {
      "application/3dmoljs_load.v0": "<div id=\"3dmolviewer_17174966717771688\"  style=\"position: relative; width: 800px; height: 400px;\">\n        <p id=\"3dmolwarning_17174966717771688\" style=\"background-color:#ffcccc;color:black\">3Dmol.js failed to load for some reason.  Please check your browser console for error messages.<br></p>\n        </div>\n<script>\n\nvar loadScriptAsync = function(uri){\n  return new Promise((resolve, reject) => {\n    //this is to ignore the existence of requirejs amd\n    var savedexports, savedmodule;\n    if (typeof exports !== 'undefined') savedexports = exports;\n    else exports = {}\n    if (typeof module !== 'undefined') savedmodule = module;\n    else module = {}\n\n    var tag = document.createElement('script');\n    tag.src = uri;\n    tag.async = true;\n    tag.onload = () => {\n        exports = savedexports;\n        module = savedmodule;\n        resolve();\n    };\n  var firstScriptTag = document.getElementsByTagName('script')[0];\n  firstScriptTag.parentNode.insertBefore(tag, firstScriptTag);\n});\n};\n\nif(typeof $3Dmolpromise === 'undefined') {\n$3Dmolpromise = null;\n  $3Dmolpromise = loadScriptAsync('https://cdnjs.cloudflare.com/ajax/libs/3Dmol/2.1.0/3Dmol-min.js');\n}\n\nvar viewer_17174966717771688 = null;\nvar warn = document.getElementById(\"3dmolwarning_17174966717771688\");\nif(warn) {\n    warn.parentNode.removeChild(warn);\n}\n$3Dmolpromise.then(function() {\nviewer_17174966717771688 = $3Dmol.createViewer(document.getElementById(\"3dmolviewer_17174966717771688\"),{backgroundColor:\"white\"});\nviewer_17174966717771688.zoomTo();\n\tviewer_17174966717771688.addModel(\"\\n     RDKit          3D\\n\\n 17 18  0  0  0  0  0  0  0  0999 V2000\\n   -3.6465   -0.3545   -0.5205 O   0  0  0  0  0  0  0  0  0  0  0  0\\n   -2.4445    0.0028   -0.4110 C   0  0  0  0  0  0  0  0  0  0  0  0\\n   -1.4900   -0.9193   -0.3129 O   0  0  0  0  0  0  0  0  0  0  0  0\\n   -0.2020   -0.6060   -0.1949 C   0  0  0  0  0  0  0  0  0  0  0  0\\n    0.2009    0.7483   -0.1696 C   0  0  0  0  0  0  0  0  0  0  0  0\\n    1.5599    1.0714   -0.0450 C   0  0  0  0  0  0  0  0  0  0  0  0\\n    2.5120    0.0514    0.0538 C   0  0  0  0  0  0  0  0  0  0  0  0\\n    2.1128   -1.2893    0.0287 C   0  0  0  0  0  0  0  0  0  0  0  0\\n    0.7589   -1.6183   -0.0953 C   0  0  0  0  0  0  0  0  0  0  0  0\\n   -0.7816    1.7379   -0.2709 C   0  0  0  0  0  0  0  0  0  0  0  0\\n   -2.1195    1.3636   -0.3930 C   0  0  0  0  0  0  0  0  0  0  0  0\\n    1.8830    2.1053   -0.0242 H   0  0  0  0  0  0  0  0  0  0  0  0\\n    3.5610    0.3000    0.1499 H   0  0  0  0  0  0  0  0  0  0  0  0\\n    2.8539   -2.0743    0.1055 H   0  0  0  0  0  0  0  0  0  0  0  0\\n    0.4577   -2.6582   -0.1140 H   0  0  0  0  0  0  0  0  0  0  0  0\\n   -0.5176    2.7885   -0.2558 H   0  0  0  0  0  0  0  0  0  0  0  0\\n   -2.8915    2.1191   -0.4725 H   0  0  0  0  0  0  0  0  0  0  0  0\\n  1  2  2  0\\n  2  3  1  0\\n  3  4  1  0\\n  4  5  2  0\\n  5  6  1  0\\n  6  7  2  0\\n  7  8  1  0\\n  8  9  2  0\\n  5 10  1  0\\n 10 11  2  0\\n 11  2  1  0\\n  9  4  1  0\\n  6 12  1  0\\n  7 13  1  0\\n  8 14  1  0\\n  9 15  1  0\\n 10 16  1  0\\n 11 17  1  0\\nM  END\\n\",\"molecule\",{\"keepH\": true});\n\tviewer_17174966717771688.setBackgroundColor(\"white\");\n\tviewer_17174966717771688.setStyle({\"stick\": {\"scale\": 0.3}, \"sphere\": {\"scale\": 0.3}});\n\tviewer_17174966717771688.zoomTo();\nviewer_17174966717771688.render();\n});\n</script>",
      "text/html": [
       "<div id=\"3dmolviewer_17174966717771688\"  style=\"position: relative; width: 800px; height: 400px;\">\n",
       "        <p id=\"3dmolwarning_17174966717771688\" style=\"background-color:#ffcccc;color:black\">3Dmol.js failed to load for some reason.  Please check your browser console for error messages.<br></p>\n",
       "        </div>\n",
       "<script>\n",
       "\n",
       "var loadScriptAsync = function(uri){\n",
       "  return new Promise((resolve, reject) => {\n",
       "    //this is to ignore the existence of requirejs amd\n",
       "    var savedexports, savedmodule;\n",
       "    if (typeof exports !== 'undefined') savedexports = exports;\n",
       "    else exports = {}\n",
       "    if (typeof module !== 'undefined') savedmodule = module;\n",
       "    else module = {}\n",
       "\n",
       "    var tag = document.createElement('script');\n",
       "    tag.src = uri;\n",
       "    tag.async = true;\n",
       "    tag.onload = () => {\n",
       "        exports = savedexports;\n",
       "        module = savedmodule;\n",
       "        resolve();\n",
       "    };\n",
       "  var firstScriptTag = document.getElementsByTagName('script')[0];\n",
       "  firstScriptTag.parentNode.insertBefore(tag, firstScriptTag);\n",
       "});\n",
       "};\n",
       "\n",
       "if(typeof $3Dmolpromise === 'undefined') {\n",
       "$3Dmolpromise = null;\n",
       "  $3Dmolpromise = loadScriptAsync('https://cdnjs.cloudflare.com/ajax/libs/3Dmol/2.1.0/3Dmol-min.js');\n",
       "}\n",
       "\n",
       "var viewer_17174966717771688 = null;\n",
       "var warn = document.getElementById(\"3dmolwarning_17174966717771688\");\n",
       "if(warn) {\n",
       "    warn.parentNode.removeChild(warn);\n",
       "}\n",
       "$3Dmolpromise.then(function() {\n",
       "viewer_17174966717771688 = $3Dmol.createViewer(document.getElementById(\"3dmolviewer_17174966717771688\"),{backgroundColor:\"white\"});\n",
       "viewer_17174966717771688.zoomTo();\n",
       "\tviewer_17174966717771688.addModel(\"\\n     RDKit          3D\\n\\n 17 18  0  0  0  0  0  0  0  0999 V2000\\n   -3.6465   -0.3545   -0.5205 O   0  0  0  0  0  0  0  0  0  0  0  0\\n   -2.4445    0.0028   -0.4110 C   0  0  0  0  0  0  0  0  0  0  0  0\\n   -1.4900   -0.9193   -0.3129 O   0  0  0  0  0  0  0  0  0  0  0  0\\n   -0.2020   -0.6060   -0.1949 C   0  0  0  0  0  0  0  0  0  0  0  0\\n    0.2009    0.7483   -0.1696 C   0  0  0  0  0  0  0  0  0  0  0  0\\n    1.5599    1.0714   -0.0450 C   0  0  0  0  0  0  0  0  0  0  0  0\\n    2.5120    0.0514    0.0538 C   0  0  0  0  0  0  0  0  0  0  0  0\\n    2.1128   -1.2893    0.0287 C   0  0  0  0  0  0  0  0  0  0  0  0\\n    0.7589   -1.6183   -0.0953 C   0  0  0  0  0  0  0  0  0  0  0  0\\n   -0.7816    1.7379   -0.2709 C   0  0  0  0  0  0  0  0  0  0  0  0\\n   -2.1195    1.3636   -0.3930 C   0  0  0  0  0  0  0  0  0  0  0  0\\n    1.8830    2.1053   -0.0242 H   0  0  0  0  0  0  0  0  0  0  0  0\\n    3.5610    0.3000    0.1499 H   0  0  0  0  0  0  0  0  0  0  0  0\\n    2.8539   -2.0743    0.1055 H   0  0  0  0  0  0  0  0  0  0  0  0\\n    0.4577   -2.6582   -0.1140 H   0  0  0  0  0  0  0  0  0  0  0  0\\n   -0.5176    2.7885   -0.2558 H   0  0  0  0  0  0  0  0  0  0  0  0\\n   -2.8915    2.1191   -0.4725 H   0  0  0  0  0  0  0  0  0  0  0  0\\n  1  2  2  0\\n  2  3  1  0\\n  3  4  1  0\\n  4  5  2  0\\n  5  6  1  0\\n  6  7  2  0\\n  7  8  1  0\\n  8  9  2  0\\n  5 10  1  0\\n 10 11  2  0\\n 11  2  1  0\\n  9  4  1  0\\n  6 12  1  0\\n  7 13  1  0\\n  8 14  1  0\\n  9 15  1  0\\n 10 16  1  0\\n 11 17  1  0\\nM  END\\n\",\"molecule\",{\"keepH\": true});\n",
       "\tviewer_17174966717771688.setBackgroundColor(\"white\");\n",
       "\tviewer_17174966717771688.setStyle({\"stick\": {\"scale\": 0.3}, \"sphere\": {\"scale\": 0.3}});\n",
       "\tviewer_17174966717771688.zoomTo();\n",
       "viewer_17174966717771688.render();\n",
       "});\n",
       "</script>"
      ]
     },
     "metadata": {},
     "output_type": "display_data"
    }
   ],
   "source": [
    "# View 3D model with py3Dmol\n",
    "View3DModel(mol)"
   ]
  },
  {
   "cell_type": "code",
   "execution_count": 4,
   "id": "a9c6b6ee",
   "metadata": {
    "tags": []
   },
   "outputs": [
    {
     "data": {
      "text/plain": [
       "17179869184"
      ]
     },
     "execution_count": 4,
     "metadata": {},
     "output_type": "execute_result"
    }
   ],
   "source": [
    "# Set the number of threads and memory limit\n",
    "psi4.set_num_threads(16)\n",
    "psi4.set_memory(16*1024*1024*1024) # 16 GB"
   ]
  },
  {
   "cell_type": "code",
   "execution_count": 5,
   "id": "582c5dbf",
   "metadata": {
    "tags": []
   },
   "outputs": [],
   "source": [
    "# Set up the basis set, temperature and pressure\n",
    "psi4.set_options({'BASIS': 'cc-pvdz',\n",
    "                  'TDSCF_STATES': 10,\n",
    "                  'ROOTS_PER_IRREP': [5]})"
   ]
  },
  {
   "cell_type": "code",
   "execution_count": 6,
   "id": "4ccb356e",
   "metadata": {
    "tags": []
   },
   "outputs": [
    {
     "name": "stderr",
     "output_type": "stream",
     "text": [
      "\tUnable to completely converge to displaced geometry.\n",
      "\tRMS(dx):  3.087e-06 \tMax(dx):  9.923e-06 \tRMS(dq):  8.791e-05\n",
      "\tPrevious geometry is closer to target in internal coordinates, so using that one.\n",
      "\n",
      "\tBest geometry has RMS(Delta(q)) = 8.79e-05\n",
      "\n",
      "\tUnable to completely converge to displaced geometry.\n",
      "\tRMS(dx):  2.123e-06 \tMax(dx):  7.181e-06 \tRMS(dq):  3.020e-05\n",
      "\tPrevious geometry is closer to target in internal coordinates, so using that one.\n",
      "\n",
      "\tBest geometry has RMS(Delta(q)) = 3.01e-05\n",
      "\n",
      "\tUnable to completely converge to displaced geometry.\n",
      "\tRMS(dx):  3.286e-06 \tMax(dx):  1.533e-05 \tRMS(dq):  4.988e-06\n",
      "\tPrevious geometry is closer to target in internal coordinates, so using that one.\n",
      "\n",
      "\tBest geometry has RMS(Delta(q)) = 4.08e-06\n",
      "\n",
      "\tUnable to completely converge to displaced geometry.\n",
      "\tRMS(dx):  7.566e-07 \tMax(dx):  2.421e-06 \tRMS(dq):  3.559e-06\n",
      "\tUnable to completely converge to displaced geometry.\n",
      "\tRMS(dx):  3.484e-07 \tMax(dx):  1.915e-06 \tRMS(dq):  2.079e-06\n",
      "\tPrevious geometry is closer to target in internal coordinates, so using that one.\n",
      "\n",
      "\tBest geometry has RMS(Delta(q)) = 1.98e-06\n",
      "\n",
      "\tUnable to completely converge to displaced geometry.\n",
      "\tRMS(dx):  8.501e-07 \tMax(dx):  3.011e-06 \tRMS(dq):  2.243e-06\n",
      "\tPrevious geometry is closer to target in internal coordinates, so using that one.\n",
      "\n",
      "\tBest geometry has RMS(Delta(q)) = 2.24e-06\n",
      "\n",
      "\tEnergy has increased in a minimization.\n",
      "\tEnergy ratio indicates iffy step.\n",
      "\tIntrafrag trust radius decreased to 2.500e-01.\n",
      "\tUnable to completely converge to displaced geometry.\n",
      "\tRMS(dx):  5.343e-06 \tMax(dx):  1.739e-05 \tRMS(dq):  4.781e-06\n",
      "\tPrevious geometry is closer to target in internal coordinates, so using that one.\n",
      "\n",
      "\tBest geometry has RMS(Delta(q)) = 3.89e-06\n",
      "\n"
     ]
    },
    {
     "name": "stdout",
     "output_type": "stream",
     "text": [
      "Optimizer: Optimization complete!\n"
     ]
    },
    {
     "data": {
      "text/plain": [
       "(-497.0568058429297, <psi4.core.RHF at 0x2452c0b72f0>)"
      ]
     },
     "execution_count": 6,
     "metadata": {},
     "output_type": "execute_result"
    }
   ],
   "source": [
    "# Write the geometry to XYZ string\n",
    "xyz_string = Chem.MolToXYZBlock(mol)\n",
    "\n",
    "# Get the psi4 geometry\n",
    "geometry = psi4.geometry(xyz_string)\n",
    "\n",
    "# Perform geometry optimization\n",
    "psi4.optimize('b3lyp', molecule=geometry, return_wfn=True)"
   ]
  },
  {
   "cell_type": "code",
   "execution_count": 7,
   "id": "82c3839d",
   "metadata": {
    "tags": []
   },
   "outputs": [],
   "source": [
    "# Run the TD calculation\n",
    "energy, wfn = psi4.energy('td-scf', return_wfn=True, molecule=geometry)"
   ]
  },
  {
   "cell_type": "markdown",
   "id": "e2d0e5cc",
   "metadata": {},
   "source": [
    "### 8.6.2. Prediction of Absorption Spectra"
   ]
  },
  {
   "cell_type": "markdown",
   "id": "8776539d",
   "metadata": {},
   "source": [
    "After time-dependent calculation, the excitation energies and oscillator strengths can be extracted for predicting absorption spectrum."
   ]
  },
  {
   "cell_type": "code",
   "execution_count": 8,
   "id": "58fd1e25",
   "metadata": {
    "tags": []
   },
   "outputs": [],
   "source": [
    "# Extract information about the excited states\n",
    "states_info = psi4.procrouting.response.scf_response.tdscf_excitations(wfn, states=5)"
   ]
  },
  {
   "cell_type": "code",
   "execution_count": 9,
   "id": "4d4ce35c",
   "metadata": {
    "tags": []
   },
   "outputs": [],
   "source": [
    "# Iterate through the states and gather the wavelengths and oscillator strengths\n",
    "exc_energies = []\n",
    "osc_strengths = []\n",
    "for state in states_info:\n",
    "    exc_energies.append(state['EXCITATION ENERGY'])\n",
    "    osc_strengths.append(state['OSCILLATOR STRENGTH (LEN)'])"
   ]
  },
  {
   "cell_type": "code",
   "execution_count": 10,
   "id": "4d10577f",
   "metadata": {
    "tags": []
   },
   "outputs": [
    {
     "data": {
      "image/png": "[encoded data removed]",
      "text/plain": [
       "<Figure size 1000x600 with 1 Axes>"
      ]
     },
     "metadata": {},
     "output_type": "display_data"
    }
   ],
   "source": [
    "# Convert excitation energies (Hartrees) to wavelengths (nm) using E = hc/λ\n",
    "wavelengths_nm = [(psi4.constants.h * psi4.constants.c * 1e9) / (energy * psi4.constants.hartree2ev * psi4.constants.electron_volt) for energy in exc_energies]\n",
    "\n",
    "# Function to generate a Gaussian curve\n",
    "def gaussian(x, mu, sigma, intensity):\n",
    "    return intensity * np.exp(-np.power(x - mu, 2.) / (2 * np.power(sigma, 2.)))\n",
    "\n",
    "# Generate a continuous spectrum\n",
    "spectrum_x = np.linspace(100, 800, 1000)  # Adjust range and resolution as needed\n",
    "spectrum_y = np.zeros_like(spectrum_x)\n",
    "\n",
    "# Width of the Gaussian peaks (standard deviation)\n",
    "gaussian_width = 5  # You can adjust this value\n",
    "\n",
    "# Superimpose Gaussian curves for each transition\n",
    "for wavelength, strength in zip(wavelengths_nm, osc_strengths):\n",
    "    spectrum_y += gaussian(spectrum_x, wavelength, gaussian_width, strength)\n",
    "\n",
    "# Create the spectrum plot\n",
    "plt.figure(figsize=(10, 6))\n",
    "plt.plot(spectrum_x, spectrum_y, color='blue')\n",
    "plt.title('Predicted Absorption Spectrum of Coumarin')\n",
    "plt.xlabel('Wavelength (nm)')\n",
    "plt.ylabel('Relative Intensity')\n",
    "plt.xlim(100, 800)\n",
    "plt.ylim(0, max(spectrum_y) * 1.1)\n",
    "plt.show()"
   ]
  },
  {
   "cell_type": "code",
   "execution_count": null,
   "id": "02545cf1",
   "metadata": {},
   "outputs": [],
   "source": []
  }
 ],
 "metadata": {
  "kernelspec": {
   "display_name": "Python 3 (ipykernel)",
   "language": "python",
   "name": "python3"
  },
  "language_info": {
   "codemirror_mode": {
    "name": "ipython",
    "version": 3
   },
   "file_extension": ".py",
   "mimetype": "text/x-python",
   "name": "python",
   "nbconvert_exporter": "python",
   "pygments_lexer": "ipython3",
   "version": "3.11.7"
  },
  "toc": {
   "base_numbering": "",
   "nav_menu": {},
   "number_sections": false,
   "sideBar": true,
   "skip_h1_title": false,
   "title_cell": "Table of Contents",
   "title_sidebar": "Table of Contents",
   "toc_cell": false,
   "toc_position": {
    "height": "calc(100% - 180px)",
    "left": "10px",
    "top": "150px",
    "width": "203px"
   },
   "toc_section_display": true,
   "toc_window_display": true
  }
 },
 "nbformat": 4,
 "nbformat_minor": 5
}
