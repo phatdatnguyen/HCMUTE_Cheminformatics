{
 "cells": [
  {
   "cell_type": "markdown",
   "id": "ce2d6e30",
   "metadata": {},
   "source": [
    "# CHAPTER 10. Machine Learning in Chemistry"
   ]
  },
  {
   "cell_type": "markdown",
   "id": "0d09f3a0",
   "metadata": {},
   "source": [
    "## 10.1. Introduction to Machine Learning in Chemistry"
   ]
  },
  {
   "cell_type": "markdown",
   "id": "fa334069",
   "metadata": {},
   "source": [
    "Machine learning (ML) has emerged as a transformative tool in chemistry, offering new approaches to solving complex chemical problems. By leveraging patterns in data, ML algorithms can predict molecular properties, optimize chemical reactions, design new materials, and more, often with greater efficiency than traditional methods."
   ]
  },
  {
   "cell_type": "markdown",
   "id": "a096bd7c",
   "metadata": {},
   "source": [
    "### 10.1.1. What is Machine Learning?"
   ]
  },
  {
   "cell_type": "markdown",
   "id": "384222a2",
   "metadata": {},
   "source": [
    "Machine Learning is a subset of artificial intelligence (AI) focused on building systems that learn from and make predictions or decisions based on data. ML algorithms improve their performance as the amount of data available for learning increases."
   ]
  },
  {
   "cell_type": "markdown",
   "id": "0e560615",
   "metadata": {},
   "source": [
    "### 10.1.2. Types of Machine Learning"
   ]
  },
  {
   "cell_type": "markdown",
   "id": "ed13d598",
   "metadata": {},
   "source": [
    "- **Supervised Learning:** Models are trained on labeled data, learning to predict outputs from inputs.\n",
    "- **Unsupervised Learning:** Models identify patterns in data without any labels.\n",
    "- **Reinforcement Learning:** Models learn to make sequences of decisions by receiving feedback on their actions."
   ]
  },
  {
   "cell_type": "markdown",
   "id": "4a01d24b",
   "metadata": {},
   "source": [
    "### 10.1.3. Applications of Machine Learning in Chemistry"
   ]
  },
  {
   "cell_type": "markdown",
   "id": "5ecbf1c1",
   "metadata": {},
   "source": [
    "- **Predictive Modeling:** Using ML to predict properties of molecules such as solubility, toxicity, reactivity, or the outcomes of chemical reactions such as yield, chemoselectivity and regioselectivity.\n",
    "- **Reaction Optimization:** Finding optimal conditions for chemical reactions.\n",
    "- **Quantitative Analysis:** Using ML to perform quantitative structure-activity relationships (QSAR) and quantitative structure-property relationships (QSPR).\n",
    "- **Drug Discovery:** Virtual screening, ADMET prediction.\n",
    "- **Molecular Dynamics and Simulations:** Applying ML to improve the efficiency of molecular dynamics simulations.\n",
    "- **Material Design:** Discovering new materials with desired properties."
   ]
  },
  {
   "cell_type": "markdown",
   "id": "3cf4c3fd",
   "metadata": {},
   "source": [
    "### 10.1.4. Challenges and Limitations"
   ]
  },
  {
   "cell_type": "markdown",
   "id": "63339f3b",
   "metadata": {},
   "source": [
    "**Generalization and Overfitting**\n",
    "\n",
    "- The balance between model complexity and predictive power.\n",
    "- Methods to prevent overfitting such as cross-validation.\n",
    "\n",
    "**Interpretability**\n",
    "\n",
    "- The \"black box\" nature of some ML models and the importance of model interpretability in chemistry."
   ]
  },
  {
   "cell_type": "markdown",
   "id": "5977f5dc",
   "metadata": {},
   "source": [
    "## 10.2. Data for Machine Learning in Chemistry"
   ]
  },
  {
   "cell_type": "markdown",
   "id": "728bcf3a",
   "metadata": {},
   "source": [
    "### 10.2.1. Data Acquisition"
   ]
  },
  {
   "cell_type": "markdown",
   "id": "3f4569a3",
   "metadata": {},
   "source": [
    "In computational chemistry, data acquisition is a critical step. The quality and quantity of data directly impact the performance of machine learning models. There are several public databases where researchers can find a wealth of chemical data:\n",
    "\n",
    "- **PubChem:** A repository of chemical molecules and their biological activities. It's a key resource for information on chemical substances and their biological activities.\n",
    "\n",
    "- **ChEMBL:** A manually curated database of bioactive molecules with drug-like properties. ChEMBL integrates chemical, bioactivity, and genomic data.\n",
    "\n",
    "- **Protein Data Bank (PDB):** An archive containing 3D structural data of proteins, nucleic acids, and complex assemblies. Vital for studies in structural biology.\n",
    "\n",
    "- **ZINC Database:** A free database used for virtual screening and containing over 35 million purchasable compounds in 3D formats.\n",
    "\n",
    "- **MoleculeNet:** A benchmark database specifically designed for molecular machine learning. It includes a diverse set of molecular datasets for various property prediction tasks.\n",
    "\n",
    "- **Open Reaction Database (ORD):** A free, open-access database that collects chemical reaction data. It is an important resource for researchers studying reaction mechanisms and kinetics.\n",
    "\n",
    "- **Cambridge Structural Database (CSD):** The world's repository for small-molecule organic and metal-organic crystal structures. It's essential for the study of molecular and crystal structures.\n",
    "\n",
    "In addition to structural databases, spectral databases are vital for researchers working with spectroscopic data. These databases provide spectra (like NMR, IR, UV/Vis) that are essential for understanding molecular properties and behavior. Examples include the NIST Chemistry WebBook and Spectral Database for Organic Compounds (SDBS).\n",
    "\n",
    "These databases offer web interfaces and APIs for data access. Tools like RDKit facilitate fetching and processing chemical data from these sources. Efficient data retrieval and manipulation are key to the success of machine learning applications in computational chemistry."
   ]
  },
  {
   "cell_type": "markdown",
   "id": "36d40827",
   "metadata": {},
   "source": [
    "### 10.2.2. Data Preprocessing"
   ]
  },
  {
   "cell_type": "markdown",
   "id": "fb3ab9bf",
   "metadata": {},
   "source": [
    "Preprocessing is crucial in transforming raw data into a format suitable for machine learning. It involves cleaning data, handling missing values, normalization, feature extraction, and data transformation. Preprocessed data leads to more efficient training of machine learning models, can enhance model accuracy, and helps in achieving more reliable predictions."
   ]
  },
  {
   "cell_type": "markdown",
   "id": "1d9e14f2",
   "metadata": {},
   "source": [
    "Preprocessing steps include:\n",
    "- **Cleaning Data:** Removing duplicates, handling missing values, or filtering out irrelevant data.\n",
    "- **Feature Extraction:** Transforming chemical compounds into a suitable format for machine learning, such as SMILES (Simplified Molecular Input Line Entry System) strings, molecular fingerprints, or graph representations.\n",
    "- **Normalization:** Scaling data to a specific range or distribution. This is important for methods sensitive to the scale of input data.\n",
    "- **Data Transformation:** Converting data into formats that can be efficiently processed by ML algorithms, such as one-hot encoding for categorical data.\n",
    "- **Data Augmentation:** Generating additional data points from existing data. In computational chemistry, this might involve generating conformers of molecules.\n",
    "- **Dimensionality Reduction:** High-dimensional data, often encountered in chemistry, can lead to issues like overfitting and long training times. Dimensionality reduction techniques, such as Principal Component Analysis (PCA) or t-Distributed Stochastic Neighbor Embedding (t-SNE), reduce the number of features while retaining most of the important information. This step is crucial for simplifying models, improving interpretability, and sometimes enhancing model performance."
   ]
  },
  {
   "cell_type": "markdown",
   "id": "eedad634",
   "metadata": {},
   "source": [
    "## 10.3. Chemical Feature Extraction"
   ]
  },
  {
   "cell_type": "markdown",
   "id": "05e589ba",
   "metadata": {},
   "source": [
    "Feature extraction in chemistry involves transforming molecular data into a format that machine learning algorithms can understand and process. This process typically involves converting molecular structures into numerical descriptors or fingerprints.\n",
    "The Role of Features\n",
    "\n",
    "Features are the backbone of any machine learning model in computational chemistry. They represent the chemical information in a format suitable for analysis. The choice of features has a significant impact on the model's ability to learn and make accurate predictions.\n",
    "\n",
    "Feature engineering is the process of creating new features or modifying existing ones to improve model performance. Feature selection involves choosing a subset of available features based on their importance and relevance to the task.\n",
    "\n",
    "Types of Chemical Features:\n",
    "\n",
    "- **Molecular Descriptors:** Quantitative representations of molecular properties (e.g., molecular weight, logP, number of hydrogen bond donors and acceptors).\n",
    "- **Molecular Fingerprints:** Binary or count vectors representing the presence or absence of certain substructural features in the molecule."
   ]
  },
  {
   "cell_type": "markdown",
   "id": "8d6e5fed",
   "metadata": {},
   "source": [
    "Selecting the appropriate features for a specific prediction task is crucial:\n",
    "\n",
    "- **Relevance to the Prediction Task:** Features should capture information that is relevant to the property or behavior being predicted. For instance, solubility prediction might require features related to polarity and molecular size, while toxicity prediction might focus on reactivity and certain functional groups.\n",
    "\n",
    "- **Data Complexity and Model Overfitting:** Using too many features, especially irrelevant ones, can increase the complexity of the model unnecessarily and lead to overfitting, where the model performs well on training data but poorly on unseen data.\n",
    "\n",
    "- **Computational Efficiency:** Some features might be computationally expensive to calculate. Balancing detail with computational efficiency is key, especially for large datasets.\n",
    "\n",
    "- **Interpretability:** The ability to interpret how features influence predictions is important for model trustworthiness, especially in drug discovery and other critical applications."
   ]
  },
  {
   "cell_type": "markdown",
   "id": "f141592c",
   "metadata": {},
   "source": [
    "In the following section, we will use RDKit to extract various types of chemical features for a molecule:"
   ]
  },
  {
   "cell_type": "code",
   "execution_count": 1,
   "id": "615f383b",
   "metadata": {},
   "outputs": [],
   "source": [
    "import numpy as np\n",
    "from rdkit import Chem\n",
    "from rdkit.Chem import AllChem, Descriptors, Draw, Fragments, MACCSkeys, rdMolDescriptors\n",
    "from rdkit.Avalon import pyAvalonTools"
   ]
  },
  {
   "cell_type": "markdown",
   "id": "81570968",
   "metadata": {},
   "source": [
    "### 10.3.1. Molecular Descriptors"
   ]
  },
  {
   "cell_type": "markdown",
   "id": "274a5818",
   "metadata": {},
   "source": [
    " The full list of molecular descriptors can be found in [RDKit documentation](https://www.rdkit.org/docs/GettingStartedInPython.html#list-of-available-descriptors). Here are some common descriptors that we can extract from a molecule using RDKit:"
   ]
  },
  {
   "cell_type": "code",
   "execution_count": 2,
   "id": "6230eb1b",
   "metadata": {},
   "outputs": [
    {
     "data": {
      "image/jpeg": "[encoded data removed]",
      "image/png": "[encoded data removed]",
      "text/plain": [
       "<PIL.PngImagePlugin.PngImageFile image mode=RGB size=300x300>"
      ]
     },
     "execution_count": 2,
     "metadata": {},
     "output_type": "execute_result"
    }
   ],
   "source": [
    "# Example molecule: p-Nitrophenol\n",
    "smiles = 'OC1=CC=C([N+]([O-])=O)C=C1'\n",
    "mol = Chem.MolFromSmiles(smiles)\n",
    "Draw.MolToImage(mol)"
   ]
  },
  {
   "cell_type": "markdown",
   "id": "88d33a32",
   "metadata": {},
   "source": [
    "**Molecular weight**"
   ]
  },
  {
   "cell_type": "code",
   "execution_count": 3,
   "id": "8a70bdcf",
   "metadata": {},
   "outputs": [
    {
     "name": "stdout",
     "output_type": "stream",
     "text": [
      "139.11\n"
     ]
    }
   ],
   "source": [
    "# Get MW with RDKit\n",
    "mw = Descriptors.MolWt(mol)\n",
    "print(mw)"
   ]
  },
  {
   "cell_type": "markdown",
   "id": "a7496482",
   "metadata": {},
   "source": [
    "**Number of hydrogen donors and acceptors**"
   ]
  },
  {
   "cell_type": "code",
   "execution_count": 4,
   "id": "17ccb4c0",
   "metadata": {},
   "outputs": [
    {
     "name": "stdout",
     "output_type": "stream",
     "text": [
      "1\n"
     ]
    }
   ],
   "source": [
    "# Get number of hydrogen donors with RDKit\n",
    "h_donors = Descriptors.NumHDonors(mol)\n",
    "print(h_donors)"
   ]
  },
  {
   "cell_type": "code",
   "execution_count": 5,
   "id": "af04321e",
   "metadata": {},
   "outputs": [
    {
     "name": "stdout",
     "output_type": "stream",
     "text": [
      "3\n"
     ]
    }
   ],
   "source": [
    "# Get number of hydrogen acceptors with RDKit\n",
    "h_acceptors = Descriptors.NumHAcceptors(mol)\n",
    "print(h_acceptors)"
   ]
  },
  {
   "cell_type": "markdown",
   "id": "66627d54",
   "metadata": {},
   "source": [
    "**Number of heteroatoms**"
   ]
  },
  {
   "cell_type": "code",
   "execution_count": 6,
   "id": "d829d351",
   "metadata": {},
   "outputs": [
    {
     "name": "stdout",
     "output_type": "stream",
     "text": [
      "4\n"
     ]
    }
   ],
   "source": [
    "# Get number of heteroatoms with RDKit\n",
    "heteroatoms = Descriptors.NumHeteroatoms(mol)\n",
    "print(heteroatoms)"
   ]
  },
  {
   "cell_type": "markdown",
   "id": "ede418c1",
   "metadata": {},
   "source": [
    "**Number of rings**"
   ]
  },
  {
   "cell_type": "code",
   "execution_count": 7,
   "id": "d3fdbb31",
   "metadata": {},
   "outputs": [
    {
     "name": "stdout",
     "output_type": "stream",
     "text": [
      "1\n"
     ]
    }
   ],
   "source": [
    "# Get number of all rings with RDKit\n",
    "ring_count = Descriptors.RingCount(mol)\n",
    "print(ring_count)"
   ]
  },
  {
   "cell_type": "code",
   "execution_count": 8,
   "id": "b110abd2",
   "metadata": {},
   "outputs": [
    {
     "name": "stdout",
     "output_type": "stream",
     "text": [
      "1\n"
     ]
    }
   ],
   "source": [
    "# Get number of aromatic rings with RDKit\n",
    "aromatic_rings = Descriptors.NumAromaticRings(mol)\n",
    "print(aromatic_rings)"
   ]
  },
  {
   "cell_type": "code",
   "execution_count": 9,
   "id": "985a2e0b",
   "metadata": {},
   "outputs": [
    {
     "name": "stdout",
     "output_type": "stream",
     "text": [
      "0\n"
     ]
    }
   ],
   "source": [
    "# Get number of aliphatic rings with RDKit\n",
    "aliphatic_rings = Descriptors.NumAliphaticRings(mol)\n",
    "print(aliphatic_rings)"
   ]
  },
  {
   "cell_type": "code",
   "execution_count": 10,
   "id": "b48bc6e4",
   "metadata": {},
   "outputs": [
    {
     "name": "stdout",
     "output_type": "stream",
     "text": [
      "0\n"
     ]
    }
   ],
   "source": [
    "# Get number of saturated rings with RDKit\n",
    "saturated_rings = Descriptors.NumSaturatedRings(mol)\n",
    "print(saturated_rings)"
   ]
  },
  {
   "cell_type": "markdown",
   "id": "46b90744",
   "metadata": {},
   "source": [
    "**Number of fragments**"
   ]
  },
  {
   "cell_type": "markdown",
   "id": "b666d54d",
   "metadata": {},
   "source": [
    "The [Fragment module](http://rdkit.org/docs/source/rdkit.Chem.Fragments.html) allows counting of common organic fragments in a molecule, for examples:"
   ]
  },
  {
   "cell_type": "code",
   "execution_count": 11,
   "id": "5a20c594",
   "metadata": {},
   "outputs": [
    {
     "name": "stdout",
     "output_type": "stream",
     "text": [
      "1\n"
     ]
    }
   ],
   "source": [
    "# Count the number of hydroxy group connected to an aromatic ring\n",
    "num_Ar_OH = Fragments.fr_Ar_OH(mol)\n",
    "print(num_Ar_OH)"
   ]
  },
  {
   "cell_type": "code",
   "execution_count": 12,
   "id": "6f9337f4",
   "metadata": {},
   "outputs": [
    {
     "name": "stdout",
     "output_type": "stream",
     "text": [
      "1\n"
     ]
    }
   ],
   "source": [
    "# Count the number of nitro groups\n",
    "num_NO2 = Fragments.fr_nitro(mol)\n",
    "print(num_NO2)"
   ]
  },
  {
   "cell_type": "markdown",
   "id": "8461981a",
   "metadata": {},
   "source": [
    "**RDKit's molecule descriptors**"
   ]
  },
  {
   "cell_type": "markdown",
   "id": "d2638352",
   "metadata": {},
   "source": [
    "RDKit has a tool to extract a list of molecular descriptors."
   ]
  },
  {
   "cell_type": "code",
   "execution_count": 13,
   "id": "42b58c10",
   "metadata": {},
   "outputs": [
    {
     "name": "stdout",
     "output_type": "stream",
     "text": [
      "(10.036148904006048, 10.036148904006048, 0.015925925925925677, -0.5144444444444445, 0.47072821158342537, 139.11, 134.07, 139.02694302, 52, 0, 0.2691949560161654, -0.5079581647909615, 0.5079581647909615, 0.2691949560161654, 1.3, 1.8, 2.2, 16.62823358020022, 10.295264016145971, 2.0109759962008065, -1.8899749885301904, 2.1442888600434244, -1.8475355787397418, 5.344730961358103, -0.38445220960995286, 1.8845053612018057, 3.003400684579818, 241.67477087439332, 7.560477932315068, 5.020324848686146, 5.020324848686146, 4.698377302757663, 2.6337291722159875, 2.6337291722159875, 1.7735075645793712, 1.7735075645793712, 1.0605277538042814, 1.0605277538042814, 0.5743485232310096, 0.5743485232310096, -1.58, 180.91251467537336, 6.538764845605701, 2.344994095834573, 1.2226169416633605, 56.878612594192774, 5.106527394840706, 5.749511833283905, 0.0, 0.0, 5.687386274683562, 0.0, 10.114318268765572, 0.0, 0.0, 0.0, 0.0, 12.13273413692322, 12.13273413692322, 4.923311048817671, 10.029838443658377, 5.687386274683562, 0.0, 0.0, 0.0, 0.0, 0.0, 34.37978654261201, 0.0, 5.749511833283905, 0.0, 5.687386274683562, 5.749511833283905, 0.0, 10.029838443658377, 0.0, 10.114318268765572, 0.0, 24.26546827384644, 0.0, 0.0, 0.0, 63.37, 4.923311048817671, 10.114318268765572, 0.0, 11.436898107967467, 0.0, 0.0, 24.26546827384644, 0.0, 0.0, 0.0, 5.106527394840706, 0.0, 0.0, 9.521704459561603, 18.7519992441421, -0.015925925925925677, 0.032962962962963305, 5.042592592592593, 0.0, 0.0, 0.0, 0.0, 10, 1, 4, 0, 0, 0, 1, 0, 1, 3, 1, 4, 1, 0, 0, 0, 1, 1.3003999999999998, 34.76120000000001, 0, 0, 0, 0, 0, 0, 0, 1, 0, 0, 0, 0, 0, 0, 0, 1, 0, 0, 0, 0, 0, 0, 0, 0, 0, 0, 0, 0, 0, 0, 0, 0, 0, 0, 1, 0, 0, 0, 0, 0, 0, 0, 0, 0, 0, 0, 0, 0, 0, 0, 0, 0, 0, 0, 0, 0, 0, 0, 1, 1, 1, 0, 0, 0, 0, 1, 1, 0, 0, 0, 0, 0, 0, 0, 0, 0, 0, 0, 0, 0, 0, 0, 0, 0, 0)\n"
     ]
    }
   ],
   "source": [
    "from rdkit.ML.Descriptors import MoleculeDescriptors\n",
    "\n",
    "# Define the descriptor calculator\n",
    "mol_descriptor = [desc[0] for desc in Descriptors._descList]\n",
    "descriptor_calculator = MoleculeDescriptors.MolecularDescriptorCalculator(mol_descriptor)\n",
    "descriptors = descriptor_calculator.CalcDescriptors(mol)\n",
    "print(descriptors)"
   ]
  },
  {
   "cell_type": "markdown",
   "id": "38f42461",
   "metadata": {},
   "source": [
    "You can use the `GetDescriptorNames` or `GetDescriptorSummaries` to get the details of the descriptors. For example:"
   ]
  },
  {
   "cell_type": "code",
   "execution_count": 14,
   "id": "5c4135e0",
   "metadata": {},
   "outputs": [
    {
     "name": "stdout",
     "output_type": "stream",
     "text": [
      "NumValenceElectrons\n",
      "The number of valence electrons the molecule has\n"
     ]
    }
   ],
   "source": [
    "# Get the name and summary for descriptor at index 5\n",
    "descriptor_index = 8\n",
    "descriptor_name = descriptor_calculator.GetDescriptorNames()[descriptor_index]\n",
    "descriptor_summary = descriptor_calculator.GetDescriptorSummaries()[descriptor_index]\n",
    "print(descriptor_name)\n",
    "print(descriptor_summary)"
   ]
  },
  {
   "cell_type": "markdown",
   "id": "99d82b5c",
   "metadata": {},
   "source": [
    "**DeepChem's Molecule Featurizers**"
   ]
  },
  {
   "cell_type": "markdown",
   "id": "5f96e5a6",
   "metadata": {},
   "source": [
    "DeepChem has many molecule featurizers to extractor descriptors and fingerprints from the molecule. For more information, visit [DeepChem documentation](https://deepchem.readthedocs.io/en/latest/api_reference/featurizers.html#molecule-featurizers).\n",
    "\n",
    "To install DeepChem, run the following command:"
   ]
  },
  {
   "cell_type": "code",
   "execution_count": null,
   "id": "57581db2",
   "metadata": {},
   "outputs": [],
   "source": [
    "!pip install deepchem"
   ]
  },
  {
   "cell_type": "markdown",
   "id": "0b6e2bb3",
   "metadata": {},
   "source": [
    "### 10.3.2. Molecular Fingerprints"
   ]
  },
  {
   "cell_type": "markdown",
   "id": "6f85c0c8",
   "metadata": {},
   "source": [
    "Molecular fingerprints are numerical representations of chemical compounds that encode important structural and physicochemical properties. They are widely used in chemoinformatics and computational chemistry for tasks such as compound similarity analysis, virtual screening, and machine learning-based modeling.\n",
    "\n",
    "With RDKit, you can extract various types of molecular fingerprints from a given molecule. Some common fingerprint types available in RDKit include:"
   ]
  },
  {
   "cell_type": "markdown",
   "id": "544f20d8",
   "metadata": {},
   "source": [
    "**Molecular ACCess System (MACCS) keys**"
   ]
  },
  {
   "cell_type": "markdown",
   "id": "66f1b202",
   "metadata": {},
   "source": [
    "MACCS keys are a set of 166 predefined binary substructure keys. Each key corresponds to a specific structural pattern or fragment found in a molecule."
   ]
  },
  {
   "cell_type": "code",
   "execution_count": 15,
   "id": "f528ea26",
   "metadata": {},
   "outputs": [
    {
     "name": "stdout",
     "output_type": "stream",
     "text": [
      "[0 0 0 0 0 0 0 0 0 0 0 0 0 0 0 0 0 0 0 0 0 0 0 0 1 0 0 0 0 0 0 0 0 0 0 0 0\n",
      " 0 0 0 0 0 0 0 0 0 0 0 0 1 0 0 0 0 0 0 1 0 0 0 0 0 0 1 0 0 0 0 0 0 1 1 0 0\n",
      " 0 0 0 0 0 0 0 0 0 0 0 0 0 0 0 0 0 0 0 0 1 0 0 0 0 0 0 0 1 0 0 0 0 0 0 0 0\n",
      " 0 0 1 0 0 0 0 0 1 0 0 1 0 1 0 0 1 0 0 1 0 0 1 0 1 0 0 0 1 0 0 0 1 0 0 1 0\n",
      " 1 0 0 0 1 0 0 0 1 1 1 1 0 1 1 1 1 1 0]\n"
     ]
    }
   ],
   "source": [
    "# Get MACCS keys with RDKit\n",
    "maccs_keys = MACCSkeys.GenMACCSKeys(mol)\n",
    "maccs_keys = np.array(maccs_keys)\n",
    "print(maccs_keys)"
   ]
  },
  {
   "cell_type": "markdown",
   "id": "6d80dbd6",
   "metadata": {},
   "source": [
    "For the descriptions of all bits in MACCS keys, see [this link](https://github.com/rdkit/rdkit/blob/master/rdkit/Chem/MACCSkeys.py)."
   ]
  },
  {
   "cell_type": "markdown",
   "id": "5867f633",
   "metadata": {},
   "source": [
    "**Avalon fingerprint**"
   ]
  },
  {
   "cell_type": "markdown",
   "id": "df36da1c",
   "metadata": {},
   "source": [
    "Avalon uses a fingerprint generator that enumerate certain paths and feature classes of the molecule graph."
   ]
  },
  {
   "cell_type": "code",
   "execution_count": 16,
   "id": "09619374",
   "metadata": {},
   "outputs": [
    {
     "name": "stdout",
     "output_type": "stream",
     "text": [
      "[0 0 0 0 0 0 0 0 0 0 0 0 0 0 0 0 0 0 0 0 0 0 0 0 0 0 0 0 0 0 0 0 0 0 0 0 0\n",
      " 0 0 0 0 0 0 0 0 0 0 0 0 0 0 0 0 0 0 0 0 0 0 0 0 0 0 0 0 0 0 1 0 0 0 0 0 0\n",
      " 0 0 0 0 1 0 0 0 0 0 0 0 0 0 0 0 0 0 1 0 0 0 0 0 0 0 0 0 0 0 0 0 1 0 0 0 0\n",
      " 0 0 0 0 0 0 1 0 0 0 0 0 0 0 0 0 0 0 0 0 0 0 0 0 0 0 0 1 0 0 0 0 0 0 0 0 0\n",
      " 0 0 0 0 0 0 0 0 0 1 0 0 0 0 0 0 0 0 0 0 0 0 0 0 0 0 0 0 0 0 0 0 0 0 0 0 0\n",
      " 0 0 0 0 0 0 0 1 0 0 0 0 0 0 0 0 1 0 0 0 0 0 0 0 0 0 0 0 0 0 0 0 1 0 0 0 0\n",
      " 0 0 0 0 1 0 0 0 0 0 0 0 0 0 0 0 0 0 0 0 0 0 1 0 0 0 0 0 0 1 0 0 0 0 0 0 0\n",
      " 0 0 0 0 0 0 0 1 0 0 0 0 0 0 0 0 0 0 0 0 0 0 0 0 0 0 0 1 0 0 0 0 0 0 1 0 0\n",
      " 0 0 1 0 0 0 0 0 0 1 1 0 0 1 0 0 0 0 0 0 0 0 1 0 0 0 1 0 0 0 0 0 0 1 0 0 0\n",
      " 0 1 1 0 0 0 0 0 1 0 1 0 0 0 0 0 0 0 1 0 0 0 0 0 0 1 0 0 0 0 0 0 1 0 0 0 0\n",
      " 0 0 0 0 0 0 0 1 0 0 0 0 0 0 0 0 0 0 0 0 0 0 0 0 0 0 0 0 0 0 0 0 1 0 0 0 1\n",
      " 0 0 0 0 0 0 1 0 0 0 0 1 0 0 0 0 0 0 0 1 0 1 0 0 0 0 0 0 0 0 0 0 0 0 0 1 0\n",
      " 0 0 0 0 0 0 0 0 0 0 0 1 1 0 0 0 0 0 0 0 1 1 0 0 0 0 0 0 0 0 0 0 0 0 1 0 0\n",
      " 0 0 0 0 0 0 0 0 0 0 0 0 0 0 0 0 0 0 0 0 0 0 0 0 1 0 0 0 0 0 0]\n"
     ]
    }
   ],
   "source": [
    "# Get Avalon fingerprint with RDKit\n",
    "avalon_fp = pyAvalonTools.GetAvalonFP(mol, nBits=512)\n",
    "avalon_fp = np.array(avalon_fp)\n",
    "print(avalon_fp)"
   ]
  },
  {
   "cell_type": "markdown",
   "id": "e3d689d1",
   "metadata": {},
   "source": [
    "For the descriptions of all bits in Avalon fingerprint, see [this paper](https://pubs.acs.org/doi/10.1021/ci050413p)."
   ]
  },
  {
   "cell_type": "markdown",
   "id": "3d12d9fa",
   "metadata": {},
   "source": [
    "**Atom-pairs fingerprint**"
   ]
  },
  {
   "cell_type": "markdown",
   "id": "193f6691",
   "metadata": {},
   "source": [
    "This type of fingerprint encodes pairs of neighboring atoms and the nature of their connectivity in the molecule. It captures local and medium-range structural information."
   ]
  },
  {
   "cell_type": "code",
   "execution_count": 17,
   "id": "cc51ef1d",
   "metadata": {},
   "outputs": [
    {
     "name": "stdout",
     "output_type": "stream",
     "text": [
      "[0 0 0 0 0 0 0 0 0 0 0 0 0 0 0 0 0 0 0 0 0 0 0 0 1 0 0 0 0 0 0 0 1 1 1 0 1\n",
      " 0 0 0 0 0 0 0 0 0 0 0 0 0 0 0 0 0 0 0 1 0 0 0 0 0 0 0 0 0 0 0 0 0 0 0 0 0\n",
      " 0 0 1 0 0 0 0 0 0 0 0 0 0 0 1 0 0 0 0 0 0 0 0 0 0 0 0 0 0 0 0 0 0 0 0 0 0\n",
      " 0 1 0 0 0 0 0 0 0 1 1 0 0 0 0 0 0 0 0 0 0 0 0 0 0 0 0 0 0 0 0 0 0 0 0 0 0\n",
      " 0 0 0 0 0 0 0 0 0 0 0 0 0 0 0 0 0 0 0 0 0 0 0 0 0 0 0 0 0 0 0 0 0 0 0 0 1\n",
      " 0 0 0 0 0 0 0 1 1 0 0 0 0 0 0 0 0 0 0 0 0 0 0 0 0 0 0 0 0 0 0 0 0 0 0 1 1\n",
      " 0 0 1 1 1 0 0 0 0 0 0 0 0 0 0 0 0 0 0 0 0 0 0 0 0 0 0 0 0 0 0 0 0 0 0 0 0\n",
      " 0 0 0 0 0 0 0 0 0 1 0 0 0 0 0 0 0 1 0 0 0 1 0 0 0 0 0 0 0 0 0 0 0 1 1 0 0\n",
      " 0 0 0 0 0 0 0 0 0 0 0 0 0 0 0 0 1 1 0 0 0 0 0 0 0 0 0 0 0 0 0 0 0 0 0 0 0\n",
      " 0 0 0 0 0 0 0 0 0 0 0 0 0 0 0 0 0 0 0 1 1 0 0 0 0 0 0 0 0 0 0 0 0 0 0 0 0\n",
      " 0 0 1 0 0 0 0 0 0 0 0 0 0 0 0 0 0 0 0 0 0 0 0 0 0 0 0 0 0 0 0 0 0 0 0 0 0\n",
      " 0 0 0 0 0 0 0 0 0 0 0 0 0 0 0 0 0 1 0 0 0 0 0 0 0 0 0 0 0 0 0 0 0 0 0 0 0\n",
      " 0 0 0 0 0 0 0 0 1 1 0 0 0 0 0 0 0 0 0 0 0 0 0 0 0 0 0 0 1 1 0 0 0 0 0 0 0\n",
      " 0 0 0 1 1 1 0 0 0 0 0 0 0 0 0 0 0 0 0 0 0 0 0 0 0 0 0 1 1 0 0]\n"
     ]
    }
   ],
   "source": [
    "# Get atom-pairs fingerprint with RDKit\n",
    "atom_pairs_fp = rdMolDescriptors.GetHashedAtomPairFingerprintAsBitVect(mol, nBits=512)\n",
    "atom_pairs_fp = np.array(atom_pairs_fp)\n",
    "print(atom_pairs_fp)"
   ]
  },
  {
   "cell_type": "markdown",
   "id": "aaa24ade",
   "metadata": {},
   "source": [
    "For details about atom-pairs fingerprint, see the [original paper](https://pubs.acs.org/doi/10.1021/ci00046a002)."
   ]
  },
  {
   "cell_type": "markdown",
   "id": "fa615bec",
   "metadata": {},
   "source": [
    "**Topological-Torsion fingerprint**"
   ]
  },
  {
   "cell_type": "markdown",
   "id": "eb4c5167",
   "metadata": {},
   "source": [
    "These fingerprints encode the presence or absence of substructural fragments in a molecule based on its graph topology. The fingerprints are constructed using various graph algorithms and representations."
   ]
  },
  {
   "cell_type": "code",
   "execution_count": 18,
   "id": "3b24dfd1",
   "metadata": {},
   "outputs": [
    {
     "name": "stdout",
     "output_type": "stream",
     "text": [
      "[1 1 0 0 0 0 0 0 0 0 0 0 0 0 0 0 0 0 0 0 0 0 0 0 0 0 0 0 0 0 0 0 0 0 0 0 0\n",
      " 0 0 0 0 0 0 0 0 0 0 0 0 0 0 0 0 0 0 0 0 0 0 0 0 0 0 0 0 0 0 0 0 0 0 0 0 0\n",
      " 0 0 1 1 0 0 0 0 0 0 0 0 0 0 0 0 0 0 0 0 0 0 0 0 0 0 0 0 0 0 0 0 0 0 1 1 0\n",
      " 0 0 0 0 0 0 0 0 0 0 0 0 0 0 0 0 0 0 0 0 0 0 0 0 0 0 0 0 0 0 0 0 0 0 0 0 0\n",
      " 0 0 0 0 0 0 0 0 0 0 0 0 0 0 0 0 0 0 0 0 0 0 0 0 0 0 0 0 0 0 0 0 0 0 0 0 0\n",
      " 0 0 0 0 0 0 0 0 0 0 0 0 0 0 0 0 0 0 0 0 0 0 0 0 0 0 0 0 0 0 0 0 0 0 0 0 0\n",
      " 0 0 0 0 0 0 0 0 0 0 0 0 0 0 0 0 0 0 0 0 0 0 0 0 0 0 0 0 0 0 0 0 0 0 0 0 0\n",
      " 0 0 0 0 0 0 0 0 0 0 0 0 0 0 0 0 0 0 0 0 0 0 0 0 0 0 0 0 0 0 0 0 0 0 0 0 0\n",
      " 0 0 0 0 0 0 0 0 0 0 0 0 0 0 0 0 0 0 0 0 0 0 0 0 0 0 0 0 0 0 0 0 0 0 0 0 0\n",
      " 0 0 0 0 0 0 0 0 0 0 0 0 0 0 0 0 0 0 0 0 0 0 0 1 1 0 0 0 0 0 0 0 0 0 0 0 0\n",
      " 0 0 0 0 0 0 0 0 0 0 1 1 1 0 0 0 0 0 0 0 0 0 0 0 0 0 0 0 0 0 0 0 0 0 0 0 0\n",
      " 0 0 0 0 0 0 0 0 0 0 0 0 0 0 0 0 0 0 0 0 0 0 0 0 0 0 0 0 0 0 0 0 0 0 0 0 0\n",
      " 0 0 0 0 0 0 0 0 0 0 0 0 0 0 0 0 0 0 0 0 0 0 0 0 0 0 0 0 0 0 0 0 0 0 0 0 0\n",
      " 0 0 0 0 0 0 0 0 0 0 0 0 0 0 0 0 0 0 0 0 0 0 0 1 1 0 0 0 0 0 0]\n"
     ]
    }
   ],
   "source": [
    "# Get topological-torsion fingerprint fingerprint with RDKit\n",
    "topological_torsion_fp = rdMolDescriptors.GetHashedTopologicalTorsionFingerprintAsBitVect(mol, nBits=512)\n",
    "topological_torsion_fp = np.array(topological_torsion_fp)\n",
    "print(topological_torsion_fp)"
   ]
  },
  {
   "cell_type": "markdown",
   "id": "2650a57b",
   "metadata": {},
   "source": [
    "For details about topological-torsion fingerprint, see the [original paper](https://pubs.acs.org/doi/10.1021/ci00054a008)."
   ]
  },
  {
   "cell_type": "markdown",
   "id": "144c2a69",
   "metadata": {},
   "source": [
    "**Morgan fingerprints**"
   ]
  },
  {
   "cell_type": "markdown",
   "id": "372df8e5",
   "metadata": {},
   "source": [
    "Also known as circular fingerprints, Morgan fingerprints are similar to ECFP fingerprints but offer flexibility in specifying the fingerprint size and radius. They encode the substructures found within a specified radius around each atom, and the resulting fingerprints are represented as bit vectors."
   ]
  },
  {
   "cell_type": "code",
   "execution_count": 19,
   "id": "0136f701",
   "metadata": {},
   "outputs": [
    {
     "name": "stdout",
     "output_type": "stream",
     "text": [
      "[0 0 0 0 0 0 0 0 0 0 0 0 0 0 0 0 0 0 0 0 0 0 0 0 0 0 0 0 0 0 0 0 0 0 0 0 0\n",
      " 0 0 0 0 0 0 0 0 0 0 0 0 0 0 0 0 0 0 0 0 0 0 0 0 0 0 0 0 0 1 0 0 0 0 0 0 0\n",
      " 0 0 0 0 0 0 0 0 0 0 0 0 0 0 0 0 0 0 0 0 0 0 0 0 0 0 0 0 0 0 0 0 0 0 0 0 0\n",
      " 0 0 0 0 0 0 0 0 0 0 0 0 0 0 0 0 0 0 0 0 0 0 0 0 0 0 0 1 0 0 0 0 0 0 0 0 0\n",
      " 0 0 0 0 0 0 0 0 0 0 0 0 0 0 0 0 0 0 0 0 0 0 0 1 0 0 0 0 0 0 0 0 0 0 0 0 0\n",
      " 0 0 0 0 0 0 0 0 0 0 0 0 0 0 0 0 0 0 1 0 0 0 0 0 0 0 0 0 0 1 0 0 0 0 0 0 0\n",
      " 0 0 0 0 0 0 0 0 0 0 0 1 0 0 0 0 0 0 0 1 1 0 0 0 0 0 0 0 1 0 0 0 0 0 0 1 0\n",
      " 0 0 0 0 0 0 0 0 0 0 0 0 0 0 1 0 0 0 0 1 0 0 0 0 0 0 0 0 0 0 1 0 0 0 0 0 1\n",
      " 0 0 0 0 0 0 0 0 0 0 0 0 0 0 0 0 0 0 0 0 0 0 0 0 0 0 0 0 0 0 1 0 0 0 0 0 0\n",
      " 0 0 0 0 1 0 0 0 0 0 0 0 0 0 0 0 0 0 0 0 0 0 0 1 0 0 0 0 0 0 0 0 0 0 0 0 0\n",
      " 0 0 0 0 0 0 0 0 0 0 0 0 0 0 0 0 0 0 0 0 0 0 0 0 0 0 0 0 0 0 0 0 0 0 0 0 0\n",
      " 0 0 0 0 0 0 0 0 0 0 0 0 0 0 0 0 0 0 0 0 1 0 0 0 0 0 0 0 0 0 0 0 0 0 0 0 0\n",
      " 0 0 0 0 0 0 0 0 0 0 0 0 0 0 0 0 0 0 0 0 0 0 0 0 0 0 0 0 0 0 0 0 0 0 0 0 0\n",
      " 0 0 0 0 0 0 0 0 0 0 0 0 0 0 0 0 0 0 0 0 0 0 0 0 0 0 0 0 0 0 0]\n"
     ]
    }
   ],
   "source": [
    "# Get Morgan fingerprint fingerprint with RDKit\n",
    "morgan_fp = AllChem.GetMorganFingerprintAsBitVect(mol, radius=2, nBits=512)\n",
    "morgan_fp = np.array(morgan_fp)\n",
    "print(morgan_fp)"
   ]
  },
  {
   "cell_type": "markdown",
   "id": "5480f3b5",
   "metadata": {},
   "source": [
    "For details about Morgan fingerprint, see the [original paper](https://pubs.acs.org/doi/10.1021/ci100050t)."
   ]
  }
 ],
 "metadata": {
  "kernelspec": {
   "display_name": "Python 3 (ipykernel)",
   "language": "python",
   "name": "python3"
  },
  "language_info": {
   "codemirror_mode": {
    "name": "ipython",
    "version": 3
   },
   "file_extension": ".py",
   "mimetype": "text/x-python",
   "name": "python",
   "nbconvert_exporter": "python",
   "pygments_lexer": "ipython3",
   "version": "3.11.6"
  },
  "toc": {
   "base_numbering": "",
   "nav_menu": {},
   "number_sections": false,
   "sideBar": true,
   "skip_h1_title": false,
   "title_cell": "Table of Contents",
   "title_sidebar": "Table of Contents",
   "toc_cell": false,
   "toc_position": {
    "height": "calc(100% - 180px)",
    "left": "10px",
    "top": "150px",
    "width": "244.333px"
   },
   "toc_section_display": true,
   "toc_window_display": true
  }
 },
 "nbformat": 4,
 "nbformat_minor": 5
}
