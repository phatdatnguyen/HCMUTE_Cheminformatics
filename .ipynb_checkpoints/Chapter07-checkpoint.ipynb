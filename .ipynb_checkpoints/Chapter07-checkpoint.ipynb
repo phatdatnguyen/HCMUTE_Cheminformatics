{
 "cells": [
  {
   "cell_type": "markdown",
   "id": "ce2d6e30",
   "metadata": {},
   "source": [
    "# Chapter 7: Semiempirical Calculation"
   ]
  },
  {
   "cell_type": "markdown",
   "id": "520d5d2e",
   "metadata": {},
   "source": [
    "Semiempirical methods are a class of approximation techniques in computational chemistry that combine principles from both ab initio quantum chemistry and empirical data. These methods are designed to reduce computational cost while still providing reasonable accuracy for certain types of chemical systems."
   ]
  },
  {
   "cell_type": "markdown",
   "id": "295a0f8f",
   "metadata": {},
   "source": [
    "## 7.1. Semiempirical Methods"
   ]
  },
  {
   "cell_type": "markdown",
   "id": "bada76cf",
   "metadata": {},
   "source": [
    "***Principle***\n",
    "\n",
    "Semiempirical methods simplify the electronic Hamiltonian by making approximations and using empirical data where necessary. They are particularly useful for large systems where ab initio methods are computationally prohibitive.\n",
    "\n",
    "***Basis Sets in Semiempirical Methods***\n",
    "\n",
    "Semiempirical calculations typically use minimal basis sets. This choice is one of the factors that contribute to their reduced computational demands.\n"
   ]
  },
  {
   "cell_type": "markdown",
   "id": "2d6e53ba",
   "metadata": {},
   "source": [
    "## 7.2. Common Semiempirical Models"
   ]
  },
  {
   "cell_type": "markdown",
   "id": "be689ba0",
   "metadata": {},
   "source": [
    "***MNDO (Modified Neglect of Diatomic Overlap)***\n",
    "\n",
    "- Introduction and key features.\n",
    "- Types of interactions and parameters considered.\n",
    "\n",
    "***AM1 (Austin Model 1) and PM3 (Parametric Method 3)***\n",
    "\n",
    "- Development from MNDO.\n",
    "- Key improvements and areas of application.\n",
    "\n",
    "***NDDO (Neglect of Diatomic Differential Overlap)***\n",
    "\n",
    "- Underlying theory and approach.\n",
    "- Basis of MNDO, AM1, and PM3."
   ]
  },
  {
   "cell_type": "markdown",
   "id": "68576094",
   "metadata": {},
   "source": [
    "## 7.3. Strengths and Limitations of Semiempirical Methods"
   ]
  },
  {
   "cell_type": "markdown",
   "id": "5c1bcbc6",
   "metadata": {},
   "source": [
    "***Strengths***\n",
    "\n",
    "- Faster computation times compared to ab initio methods.\n",
    "- Suitable for large molecules and molecular systems.\n",
    "\n",
    "***Limitations***\n",
    "\n",
    "- Less accurate than *ab initio* and DFT methods.\n",
    "- Dependence on the quality and applicability of the empirical parameters.\n",
    "\n",
    "***Comparison with Ab Initio and DFT Methods***\n",
    "\n",
    "- Overview of the differences in terms of accuracy, computational cost, and applicability.\n",
    "- Decision criteria for choosing between semiempirical, *ab initio*, and DFT methods for a given problem."
   ]
  },
  {
   "cell_type": "code",
   "execution_count": null,
   "id": "df7ab3f0",
   "metadata": {},
   "outputs": [],
   "source": []
  }
 ],
 "metadata": {
  "kernelspec": {
   "display_name": "Python 3 (ipykernel)",
   "language": "python",
   "name": "python3"
  },
  "language_info": {
   "codemirror_mode": {
    "name": "ipython",
    "version": 3
   },
   "file_extension": ".py",
   "mimetype": "text/x-python",
   "name": "python",
   "nbconvert_exporter": "python",
   "pygments_lexer": "ipython3",
   "version": "3.11.6"
  },
  "toc": {
   "base_numbering": "",
   "nav_menu": {},
   "number_sections": false,
   "sideBar": true,
   "skip_h1_title": false,
   "title_cell": "Table of Contents",
   "title_sidebar": "Table of Contents",
   "toc_cell": false,
   "toc_position": {
    "height": "calc(100% - 180px)",
    "left": "10px",
    "top": "150px",
    "width": "203px"
   },
   "toc_section_display": true,
   "toc_window_display": true
  }
 },
 "nbformat": 4,
 "nbformat_minor": 5
}
