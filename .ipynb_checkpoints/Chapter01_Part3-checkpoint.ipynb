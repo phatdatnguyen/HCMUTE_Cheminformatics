{
 "cells": [
  {
   "cell_type": "markdown",
   "id": "ce2d6e30",
   "metadata": {},
   "source": [
    "# Chapter 1. Introduction"
   ]
  },
  {
   "cell_type": "markdown",
   "id": "0d09f3a0",
   "metadata": {},
   "source": [
    "## 1.3. RDKit"
   ]
  },
  {
   "cell_type": "markdown",
   "id": "68576094",
   "metadata": {},
   "source": [
    "### 1.3.1. Introduction"
   ]
  },
  {
   "cell_type": "markdown",
   "id": "5c1bcbc6",
   "metadata": {},
   "source": [
    "The RDKit is a powerful open-source cheminformatics software library widely used in the field of drug discovery and molecular modeling. It provides a comprehensive set of tools and algorithms for working with chemical structures, analyzing molecular data, and performing various cheminformatics tasks.\n",
    "\n",
    "With the RDKit, researchers and developers can manipulate molecular structures, generate 2D and 3D molecular representations, calculate chemical properties and descriptors, perform substructure and similarity searches, and much more. It supports a wide range of molecular file formats, making it easy to read and write molecular data.\n",
    "\n",
    "One of the key features of the RDKit is its ability to handle large chemical databases efficiently, enabling high-throughput virtual screening and analysis of large compound libraries. It also offers advanced molecular visualization capabilities, allowing users to visualize and interact with molecules in a visually appealing manner.\n",
    "\n",
    "The RDKit is implemented in C++ with Python bindings, making it accessible and user-friendly for Python programmers. Its Python interface provides a simple and intuitive API, allowing users to quickly build cheminformatics workflows and applications.\n",
    "\n",
    "Whether you're a medicinal chemist, computational chemist, or a developer working in the field of cheminformatics, the RDKit library offers a powerful and flexible toolkit to assist you in your research and development projects."
   ]
  },
  {
   "cell_type": "markdown",
   "id": "d4301937",
   "metadata": {},
   "source": [
    "### 1.3.2. Installation"
   ]
  },
  {
   "cell_type": "markdown",
   "id": "4f91f338",
   "metadata": {},
   "source": [
    "To install RDKit in your environment, run the following command:"
   ]
  },
  {
   "cell_type": "code",
   "execution_count": null,
   "id": "346c3a55",
   "metadata": {},
   "outputs": [],
   "source": [
    "!pip install rdkit-pypi"
   ]
  },
  {
   "cell_type": "markdown",
   "id": "fd4bff03",
   "metadata": {},
   "source": [
    "For more information about RDKit, see [documentation](https://www.rdkit.org/docs/)"
   ]
  },
  {
   "cell_type": "markdown",
   "id": "57f82370",
   "metadata": {},
   "source": [
    "### 1.3.3. Import RDKit"
   ]
  },
  {
   "cell_type": "markdown",
   "id": "880faa0c",
   "metadata": {},
   "source": [
    "To use RDKit in your Python code, you need to import the library:"
   ]
  },
  {
   "cell_type": "code",
   "execution_count": null,
   "id": "9b7d4170",
   "metadata": {},
   "outputs": [],
   "source": [
    "# Import rdkit\n",
    "from rdkit import Chem\n",
    "from rdkit.Chem import AllChem, Draw, Descriptors, PyMol"
   ]
  },
  {
   "cell_type": "code",
   "execution_count": null,
   "id": "df0752e4",
   "metadata": {},
   "outputs": [],
   "source": [
    "# Import other modules\n",
    "import numpy as np\n",
    "from matplotlib import pyplot as plt"
   ]
  },
  {
   "cell_type": "markdown",
   "id": "4d478d5a",
   "metadata": {},
   "source": [
    "## 1.4. Simplified Molecular Input Line Entry System (SMILES)"
   ]
  },
  {
   "cell_type": "markdown",
   "id": "c256ede9",
   "metadata": {},
   "source": [
    "### 1.4.1. Introduction"
   ]
  },
  {
   "cell_type": "markdown",
   "id": "7f104a95",
   "metadata": {},
   "source": [
    "SMILES encodes a molecular structure. It consists of a series of characters containing no spaces. Example: O=C(C)Oc1ccccc1C(=O)O\n",
    "SMILES notation is widely used in cheminformatics, molecular modeling, and drug design."
   ]
  },
  {
   "cell_type": "markdown",
   "id": "a620c1e5",
   "metadata": {
    "scrolled": true
   },
   "source": [
    "In the following section, we will learn about SMILES with the use of RDKit."
   ]
  },
  {
   "cell_type": "markdown",
   "id": "5e5ec67a",
   "metadata": {},
   "source": [
    "An example: ***Taxol***"
   ]
  },
  {
   "cell_type": "code",
   "execution_count": null,
   "id": "c408b758",
   "metadata": {
    "scrolled": true
   },
   "outputs": [],
   "source": [
    "# The SMILES of taxol\n",
    "smiles = 'CCCCCC(=O)N[C@@H](C1=CC=CC=C1)[C@H](C(=O)O[C@H]2C[C@]3([C@H]([C@H]4[C@@]([C@H](C[C@@H]5[C@]4(CO5)OC(=O)C)O)(C(=O)[C@@H](C(=C2C)C3(C)C)OC(=O)C)C)OC(=O)C6=CC=CC=C6)O)O'\n",
    "\n",
    "# Convert SMILES to a molecule object\n",
    "taxol_mol = Chem.MolFromSmiles(smiles)"
   ]
  },
  {
   "cell_type": "code",
   "execution_count": null,
   "id": "4b4e3423",
   "metadata": {},
   "outputs": [],
   "source": [
    "# Draw the molecule\n",
    "Draw.MolToImage(taxol_mol, size=(500, 450))"
   ]
  },
  {
   "cell_type": "code",
   "execution_count": null,
   "id": "3d58adcf",
   "metadata": {},
   "outputs": [],
   "source": [
    "# Get the MW of taxol molecule\n",
    "mw = Descriptors.MolWt(taxol_mol)\n",
    "print(mw)"
   ]
  },
  {
   "cell_type": "markdown",
   "id": "ac2942cf",
   "metadata": {},
   "source": [
    "To view molecule in 3D, you can also install Py3DMol:"
   ]
  },
  {
   "cell_type": "code",
   "execution_count": null,
   "id": "ccd943c0",
   "metadata": {},
   "outputs": [],
   "source": [
    "!pip install py3Dmol"
   ]
  },
  {
   "cell_type": "code",
   "execution_count": null,
   "id": "1967982e",
   "metadata": {},
   "outputs": [],
   "source": [
    "# 3D visualization with Py3DMol\n",
    "import py3Dmol\n",
    "\n",
    "view = py3Dmol.view(width=800, height=400)\n",
    "view.addModel(Chem.MolToMolBlock(taxol_mol), \"taxol\", {'keepH': True})\n",
    "view.setBackgroundColor('white')\n",
    "view.setStyle({'stick': {'scale': 0.3}, 'sphere': {'scale': 0.3}})\n",
    "view.zoomTo()\n",
    "view.show()"
   ]
  },
  {
   "cell_type": "markdown",
   "id": "04290f8e",
   "metadata": {},
   "source": [
    "### 1.4.2. Atom"
   ]
  },
  {
   "cell_type": "markdown",
   "id": "03a7fd39",
   "metadata": {},
   "source": [
    "**Atoms are represented by their atomic symbols, and should be enclosed in square brackets, [ ]**"
   ]
  },
  {
   "cell_type": "code",
   "execution_count": null,
   "id": "6902a4b4",
   "metadata": {},
   "outputs": [],
   "source": [
    "# Elements with atomic symbols\n",
    "Au = Chem.MolFromSmiles('[Au]')\n",
    "Draw.MolToImage(Au, size=(100, 100))"
   ]
  },
  {
   "cell_type": "code",
   "execution_count": null,
   "id": "3c9a6e83",
   "metadata": {},
   "outputs": [],
   "source": [
    "# Elements with atomic symbols\n",
    "Na = Chem.MolFromSmiles('[Na]')\n",
    "Draw.MolToImage(Na, size=(100, 100))"
   ]
  },
  {
   "cell_type": "code",
   "execution_count": null,
   "id": "a82472d8",
   "metadata": {},
   "outputs": [],
   "source": [
    "# Isotopes\n",
    "B12 = Chem.MolFromSmiles('[12B]')\n",
    "Draw.MolToImage(B12, size=(100, 100))"
   ]
  },
  {
   "cell_type": "markdown",
   "id": "5a7f9298",
   "metadata": {},
   "source": [
    "**Hydrogens are implied in the absence of brackets**"
   ]
  },
  {
   "cell_type": "code",
   "execution_count": null,
   "id": "fbb80221",
   "metadata": {},
   "outputs": [],
   "source": [
    "# Methane (CH4)\n",
    "CH4 = Chem.MolFromSmiles('C')\n",
    "Draw.MolToImage(CH4, size=(100, 100))"
   ]
  },
  {
   "cell_type": "code",
   "execution_count": null,
   "id": "9d1c25ef",
   "metadata": {
    "scrolled": true
   },
   "outputs": [],
   "source": [
    "# Ammonia (NH3)\n",
    "NH3 = Chem.MolFromSmiles('N')\n",
    "Draw.MolToImage(NH3, size=(100, 100))"
   ]
  },
  {
   "cell_type": "code",
   "execution_count": null,
   "id": "a25aa7e7",
   "metadata": {},
   "outputs": [],
   "source": [
    "# Water (H2O)\n",
    "water = Chem.MolFromSmiles('O')\n",
    "Draw.MolToImage(water, size=(150, 100))"
   ]
  },
  {
   "cell_type": "markdown",
   "id": "792069bb",
   "metadata": {},
   "source": [
    "**Atoms in aromatic rings are specified by lower case letters, and uppercase letters are used for aliphatic compounds**"
   ]
  },
  {
   "cell_type": "code",
   "execution_count": null,
   "id": "29016f47",
   "metadata": {},
   "outputs": [],
   "source": [
    "# Benzene\n",
    "benzene = Chem.MolFromSmiles('c1ccccc1')\n",
    "Draw.MolToImage(benzene, size=(100, 100))"
   ]
  },
  {
   "cell_type": "code",
   "execution_count": null,
   "id": "a04f152b",
   "metadata": {},
   "outputs": [],
   "source": [
    "# Hexane\n",
    "hexane = Chem.MolFromSmiles('CCCCCC')\n",
    "Draw.MolToImage(hexane, size=(150, 150))"
   ]
  },
  {
   "cell_type": "code",
   "execution_count": null,
   "id": "4ddab188",
   "metadata": {},
   "outputs": [],
   "source": [
    "# Cyclohexane\n",
    "cyclohexane = Chem.MolFromSmiles('C1CCCCC1')\n",
    "Draw.MolToImage(cyclohexane, size=(100, 100))"
   ]
  },
  {
   "cell_type": "markdown",
   "id": "55bd8e7b",
   "metadata": {},
   "source": [
    "**A formal charge is shown by one of the symbols `+` or `-` followed by a digit**"
   ]
  },
  {
   "cell_type": "code",
   "execution_count": null,
   "id": "5116e394",
   "metadata": {},
   "outputs": [],
   "source": [
    "# OH-\n",
    "hydroxide_ion = Chem.MolFromSmiles('[OH-]')\n",
    "Draw.MolToImage(hydroxide_ion, size=(150, 100))"
   ]
  },
  {
   "cell_type": "code",
   "execution_count": null,
   "id": "ad2b18e1",
   "metadata": {
    "scrolled": true
   },
   "outputs": [],
   "source": [
    "# Hydronium ion\n",
    "hydronium_ion = Chem.MolFromSmiles('[OH3+]')\n",
    "Draw.MolToImage(hydronium_ion, size=(100, 100))"
   ]
  },
  {
   "cell_type": "code",
   "execution_count": null,
   "id": "db55ef8d",
   "metadata": {
    "scrolled": true
   },
   "outputs": [],
   "source": [
    "# Oxide ion\n",
    "oxide_ion = Chem.MolFromSmiles('[O-2]')\n",
    "Draw.MolToImage(oxide_ion, size=(100, 100))"
   ]
  },
  {
   "cell_type": "code",
   "execution_count": null,
   "id": "79d6e3ff",
   "metadata": {},
   "outputs": [],
   "source": [
    "# Gold ion\n",
    "gold_ion = Chem.MolFromSmiles('[Au+3]')\n",
    "Draw.MolToImage(gold_ion, size=(100, 100))"
   ]
  },
  {
   "cell_type": "markdown",
   "id": "9c6f6cb9",
   "metadata": {},
   "source": [
    "### 1.4.3. Bond"
   ]
  },
  {
   "cell_type": "markdown",
   "id": "9b73adfc",
   "metadata": {},
   "source": [
    "- single bond → - \n",
    "- double bond → =\n",
    "- triple bond → # \n",
    "- aromatic bond → : "
   ]
  },
  {
   "cell_type": "code",
   "execution_count": null,
   "id": "770ccff5",
   "metadata": {},
   "outputs": [],
   "source": [
    "# Hydrogen molecule\n",
    "H2 = Chem.MolFromSmiles('[H][H]')\n",
    "Draw.MolToImage(H2, size=(100, 100))"
   ]
  },
  {
   "cell_type": "code",
   "execution_count": null,
   "id": "4b385c2f",
   "metadata": {},
   "outputs": [],
   "source": [
    "# Single bonds are implied\n",
    "ethanol = Chem.MolFromSmiles('CCO')\n",
    "Draw.MolToImage(ethanol, size=(150, 150))"
   ]
  },
  {
   "cell_type": "code",
   "execution_count": null,
   "id": "588221a8",
   "metadata": {},
   "outputs": [],
   "source": [
    "# Double bond\n",
    "one_butene = Chem.MolFromSmiles('C=CCC')\n",
    "Draw.MolToImage(one_butene, size=(150, 150))"
   ]
  },
  {
   "cell_type": "code",
   "execution_count": null,
   "id": "1c86ba80",
   "metadata": {},
   "outputs": [],
   "source": [
    "# Acetylene\n",
    "acetylene = Chem.MolFromSmiles('C#C')\n",
    "Draw.MolToImage(acetylene, size=(100, 50))"
   ]
  },
  {
   "cell_type": "code",
   "execution_count": null,
   "id": "174341c2",
   "metadata": {
    "scrolled": true
   },
   "outputs": [],
   "source": [
    "# Aromatic bonds\n",
    "aniline = Chem.MolFromSmiles('C1:C:C:C:C:C1N')\n",
    "Draw.MolToImage(aniline, size=(150, 150))"
   ]
  },
  {
   "cell_type": "markdown",
   "id": "4c6aef0a",
   "metadata": {},
   "source": [
    "### 1.4.4. Branch"
   ]
  },
  {
   "cell_type": "markdown",
   "id": "45e125b3",
   "metadata": {},
   "source": [
    "Branches are specified by enclosing them in parentheses, (), and can be nested or stacked. In all cases, the implicit connection to a parenthesized expression (a \"branch\") is to the left."
   ]
  },
  {
   "cell_type": "code",
   "execution_count": null,
   "id": "60b8021a",
   "metadata": {},
   "outputs": [],
   "source": [
    "# 2-Methylpropane\n",
    "two_methylpropane = Chem.MolFromSmiles('CC(C)C')\n",
    "Draw.MolToImage(two_methylpropane, size=(150, 100))"
   ]
  },
  {
   "cell_type": "code",
   "execution_count": null,
   "id": "6002d1be",
   "metadata": {},
   "outputs": [],
   "source": [
    "# 2-Methylbutane\n",
    "two_methylpropane = Chem.MolFromSmiles('CC(C)C(C)C')\n",
    "Draw.MolToImage(two_methylpropane, size=(150, 100))"
   ]
  },
  {
   "cell_type": "code",
   "execution_count": null,
   "id": "27a30510",
   "metadata": {},
   "outputs": [],
   "source": [
    "# Acetone\n",
    "acetone = Chem.MolFromSmiles('CC(=O)C')\n",
    "Draw.MolToImage(acetone, size=(150, 100))"
   ]
  },
  {
   "cell_type": "markdown",
   "id": "82c29eef",
   "metadata": {},
   "source": [
    "### 1.4.5. Cyclic Structures"
   ]
  },
  {
   "cell_type": "markdown",
   "id": "7996352b",
   "metadata": {},
   "source": [
    "Cyclic structures are represented by breaking one bond in each ring. The bonds are numbered in any order, designating ring opening (or ring closure) bonds by a digit immediately following the atomic symbol at each ring closure."
   ]
  },
  {
   "cell_type": "code",
   "execution_count": null,
   "id": "177093b0",
   "metadata": {
    "scrolled": true
   },
   "outputs": [],
   "source": [
    "# Cyclic-aliphatic\n",
    "aliphatic  = Chem.MolFromSmiles('C1CCCCC1')\n",
    "Draw.MolToImage(aliphatic, size=(100, 100))"
   ]
  },
  {
   "cell_type": "code",
   "execution_count": null,
   "id": "e13fca50",
   "metadata": {},
   "outputs": [],
   "source": [
    "# Aromatics\n",
    "aromatic = Chem.MolFromSmiles('c1cNcc1')\n",
    "Draw.MolToImage(aromatic, size=(150, 100))"
   ]
  },
  {
   "cell_type": "code",
   "execution_count": null,
   "id": "f17f7bc6",
   "metadata": {},
   "outputs": [],
   "source": [
    "# Bicyclic compounds\n",
    "bicyclic = Chem.MolFromSmiles('C1CC2CCC2C1')\n",
    "Draw.MolToImage(bicyclic, size=(100, 100))"
   ]
  },
  {
   "cell_type": "markdown",
   "id": "c0da8cb6",
   "metadata": {},
   "source": [
    "### 1.4.6. Disconnected Structures"
   ]
  },
  {
   "cell_type": "markdown",
   "id": "b5350304",
   "metadata": {},
   "source": [
    "Ring closure bonds are specified in SMILES by appending matching digits to the specifications of the joined atoms, with the bond symbol preceding the digit."
   ]
  },
  {
   "cell_type": "code",
   "execution_count": null,
   "id": "e134dc2f",
   "metadata": {},
   "outputs": [],
   "source": [
    "# Disconnected compounds are written as individual structures separated by a \".\" (period).\n",
    "sodim_chloride = Chem.MolFromSmiles('[Na+].[Cl-]')\n",
    "Draw.MolToImage(sodim_chloride, size=(100, 100))"
   ]
  },
  {
   "cell_type": "code",
   "execution_count": null,
   "id": "391faa29",
   "metadata": {},
   "outputs": [],
   "source": [
    "# Sodium phenoxide\n",
    "sodium_phenoxide = Chem.MolFromSmiles('[Na+].[O-]c1ccccc1')\n",
    "Draw.MolToImage(sodium_phenoxide, size=(150, 150))"
   ]
  },
  {
   "cell_type": "markdown",
   "id": "d64eaba3",
   "metadata": {},
   "source": [
    "### 1.4.7. Double-bond configuration"
   ]
  },
  {
   "cell_type": "markdown",
   "id": "1347dcb9",
   "metadata": {},
   "source": [
    "- *cis* or *Z*: F/C=C\\F (*cis*-difluoroethene)\n",
    "- *trans* or *E*: F/C=C/F or F\\C=C\\F (*trans*-difluoroethene)"
   ]
  },
  {
   "cell_type": "code",
   "execution_count": null,
   "id": "f459be3d",
   "metadata": {},
   "outputs": [],
   "source": [
    "# Cis \n",
    "cis_2_butene = Chem.MolFromSmiles('C/C=C\\C')\n",
    "Draw.MolToImage(cis_2_butene, size=(100, 100))"
   ]
  },
  {
   "cell_type": "code",
   "execution_count": null,
   "id": "2af4afbd",
   "metadata": {
    "scrolled": true
   },
   "outputs": [],
   "source": [
    "# Trans\n",
    "trans_2_butene = Chem.MolFromSmiles('C/C=C/C')\n",
    "Draw.MolToImage(trans_2_butene, size=(100, 100))"
   ]
  },
  {
   "cell_type": "markdown",
   "id": "cd965eda",
   "metadata": {},
   "source": [
    "### 1.4.8. Chirality"
   ]
  },
  {
   "cell_type": "markdown",
   "id": "87dddf81",
   "metadata": {},
   "source": [
    "In SMILES, chiral centers can be indicated by using (@ or @@) following the atomic symbol of the chiral atom. \n",
    "- @ means the other three atoms are listed counterclockwise\n",
    "- @@ means clockwise"
   ]
  },
  {
   "cell_type": "code",
   "execution_count": null,
   "id": "eecde8e9",
   "metadata": {},
   "outputs": [],
   "source": [
    "# Counterclockwise (R-configuration)\n",
    "R_alanine = Chem.MolFromSmiles('C[C@H](C(=O)O)N')\n",
    "Draw.MolToImage(R_alanine, size=(150, 150))"
   ]
  },
  {
   "cell_type": "code",
   "execution_count": null,
   "id": "9e3b4947",
   "metadata": {},
   "outputs": [],
   "source": [
    "# Clockwise (S-configuration)\n",
    "S_alanine = Chem.MolFromSmiles('C[C@@H](C(=O)O)N')\n",
    "Draw.MolToImage(S_alanine, size=(150, 150))"
   ]
  },
  {
   "cell_type": "code",
   "execution_count": null,
   "id": "a98dd709",
   "metadata": {},
   "outputs": [],
   "source": [
    "# Clockwise (R-configuration)\n",
    "R_2_chlorobutane = Chem.MolFromSmiles('C[C@@H](Cl)CC')\n",
    "Draw.MolToImage(R_2_chlorobutane, size=(150, 150))"
   ]
  },
  {
   "cell_type": "code",
   "execution_count": null,
   "id": "1a199d22",
   "metadata": {},
   "outputs": [],
   "source": [
    "# Counterclockwise (S-configuration)\n",
    "S_2_chlorobutane = Chem.MolFromSmiles('C[C@H](Cl)CC')\n",
    "Draw.MolToImage(S_2_chlorobutane, size=(150, 150))"
   ]
  },
  {
   "cell_type": "markdown",
   "id": "7d26e697",
   "metadata": {},
   "source": [
    "### 1.4.9. Canonical SMILES"
   ]
  },
  {
   "cell_type": "markdown",
   "id": "aac55d11",
   "metadata": {},
   "source": [
    "- A molecule can have more than one valid SMILES\n",
    "- We you need to generate canonical SMILES when you work on SMILES\n",
    "- Example valid SMILES for `ethanol`: [CH3][CH2][OH], OCC, C(O)C, C-C-O, CCO"
   ]
  },
  {
   "cell_type": "code",
   "execution_count": null,
   "id": "62b9edac",
   "metadata": {},
   "outputs": [],
   "source": [
    "ethanol1 = Chem.MolFromSmiles('[CH3][CH2][OH]')\n",
    "ethanol2 = Chem.MolFromSmiles('OCC')\n",
    "ethanol3 = Chem.MolFromSmiles('CCO')\n",
    "ethanol4 = Chem.MolFromSmiles('C(O)C')\n",
    "ethanol5 = Chem.MolFromSmiles('C-C-O')\n",
    "Draw.MolsToGridImage([ethanol1, ethanol2, ethanol3, ethanol4, ethanol5])"
   ]
  },
  {
   "cell_type": "markdown",
   "id": "a406fec7",
   "metadata": {},
   "source": [
    "To get the canonical SMILES for a compound with RDKit, we use the `MolToSmiles()` with `canonical` parameter set to `True`. For example:"
   ]
  },
  {
   "cell_type": "code",
   "execution_count": null,
   "id": "b61c18d6",
   "metadata": {},
   "outputs": [],
   "source": [
    "# Convert any SMILES to molecule object\n",
    "mol = Chem.MolFromSmiles('C(O)C')\n",
    "\n",
    "# Get canonical smiles\n",
    "canonical_smiles = Chem.MolToSmiles(mol, canonical=True)\n",
    "print(canonical_smiles)"
   ]
  },
  {
   "cell_type": "code",
   "execution_count": null,
   "id": "809dc5b7-2f92-4857-b16f-9e1bddf3a677",
   "metadata": {},
   "outputs": [],
   "source": [
    "# Or you can convert any SMILES into canonical SMILES\n",
    "canonical_smiles = Chem.CanonSmiles('[CH3][CH2][OH]')\n",
    "print(canonical_smiles)"
   ]
  },
  {
   "cell_type": "markdown",
   "id": "912b6248",
   "metadata": {},
   "source": [
    "## 1.5. Smiles Arbitrary Target Specification (SMARTS)"
   ]
  },
  {
   "cell_type": "markdown",
   "id": "6acd75f1",
   "metadata": {},
   "source": [
    "SMARTS is a language used for describing molecular patterns and properties\n",
    "SMARTS rules are straightforward extensions of SMILES\n",
    "- All SMILES symbols and properties are legal in SMARTS.\n",
    "- SMARTS includes logical operators and additional molecular descriptors\n",
    "\n",
    "SMARTS can describe structural patterns with varying degrees of specificity and generality.\n",
    "For more information about SMARTS, see [this link](https://www.daylight.com/dayhtml/doc/theory/theory.smarts.html)."
   ]
  },
  {
   "cell_type": "markdown",
   "id": "833a99f9",
   "metadata": {},
   "source": [
    "In this course, we mostly use SMARTS for reaction queries. Reaction queries are expressed using the SMARTS language. SMARTS has been extended to handle reaction query features in much the same fashion as SMILES has been extended to handle reactions.\n",
    "\n",
    "A reaction query may be composed of optional reactant, agent, and product parts, which are separated by the \">\" character. In this case, the parts of the reaction query match against the corresponding roles within the reaction target, as expected.\n",
    "\n",
    "For example, we can define the S<sub>N</sub>2 reaction between methyl chloride and methoxide using SMARTS:"
   ]
  },
  {
   "cell_type": "code",
   "execution_count": null,
   "id": "845dfc86",
   "metadata": {},
   "outputs": [],
   "source": [
    "# Define the SMILES of the reactants and product\n",
    "methyl_chloride_smiles = 'CCl'\n",
    "methoxide_smiles = 'C[O-]'\n",
    "dimethyl_ether_smiles = 'COC'\n",
    "chloride_smiles = '[Cl-]'\n",
    "\n",
    "# Generate the reaction SMARTS\n",
    "sn2_smarts = methyl_chloride_smiles + '.' +  methoxide_smiles + '>>' + dimethyl_ether_smiles + '.' + chloride_smiles\n",
    "\n",
    "# Generate the reaction from SMARTS\n",
    "sn2_reaction = AllChem.ReactionFromSmarts(sn2_smarts, useSmiles=True)\n",
    "\n",
    "# Show the reaction\n",
    "sn2_reaction"
   ]
  },
  {
   "cell_type": "markdown",
   "id": "49f49a54",
   "metadata": {},
   "source": [
    "We can also put other components on the arrow (such as solvent, acid/base, catalyst). For example, we can define a Fischer esterification reaction as follow:"
   ]
  },
  {
   "cell_type": "code",
   "execution_count": null,
   "id": "418fa612",
   "metadata": {},
   "outputs": [],
   "source": [
    "# Define the SMILES of the reactants and product\n",
    "carboxylic_acid_smiles = 'CC(=O)O'\n",
    "alcohol_smiles = 'CC(C)CCO'\n",
    "catalyst_smiles = '[H+]'\n",
    "ester_smiles = 'CC(=O)OCCC(C)C'\n",
    "water_smiles = 'O'\n",
    "\n",
    "# Generate the reaction SMARTS\n",
    "esterification_smarts = carboxylic_acid_smiles + '.' +  alcohol_smiles + '>' + catalyst_smiles + '>' + ester_smiles + '.' + water_smiles\n",
    "\n",
    "# Generate the reaction from SMARTS\n",
    "esterification_reaction = AllChem.ReactionFromSmarts(esterification_smarts, useSmiles=True)\n",
    "\n",
    "# Show the reaction\n",
    "esterification_reaction"
   ]
  },
  {
   "cell_type": "markdown",
   "id": "85b52c8a",
   "metadata": {},
   "source": [
    "## 1.6. Chemical Structure File Formats"
   ]
  },
  {
   "cell_type": "markdown",
   "id": "3a79333d",
   "metadata": {},
   "source": [
    "### 1.6.1. XYZ Files"
   ]
  },
  {
   "cell_type": "markdown",
   "id": "163aa175",
   "metadata": {},
   "source": [
    "#### 1.6.1.1. Introduction"
   ]
  },
  {
   "cell_type": "markdown",
   "id": "8fbe6223",
   "metadata": {},
   "source": [
    "The XYZ file format is a simple and widely used format for representing molecular structures, especially for small molecules. It provides information about atom coordinates and connectivity."
   ]
  },
  {
   "cell_type": "markdown",
   "id": "96f6312f",
   "metadata": {},
   "source": [
    "#### 1.6.1.2. Structure of an XYZ File"
   ]
  },
  {
   "cell_type": "markdown",
   "id": "65fded4c",
   "metadata": {},
   "source": [
    "An XYZ file typically consists of the following components for each atom in the molecule:\n",
    "\n",
    "- Atomic symbol (e.g., C for carbon)\n",
    "- X, Y, and Z coordinates of the atom\n",
    "- Optionally, additional information like atomic charges"
   ]
  },
  {
   "cell_type": "markdown",
   "id": "89e3ca95",
   "metadata": {},
   "source": [
    "Example: .xyz file of water molecule:"
   ]
  },
  {
   "cell_type": "raw",
   "id": "766eb9b1",
   "metadata": {},
   "source": [
    "3\n",
    "Water Molecule\n",
    "O    0.000000    0.000000    0.000000\n",
    "H    0.758602    0.601435    0.000000\n",
    "H   -0.758602    0.601435    0.000000"
   ]
  },
  {
   "cell_type": "markdown",
   "id": "085951f1",
   "metadata": {},
   "source": [
    "In this example, we have a water molecule composed of one oxygen atom (O) and two hydrogen atoms (H).\n",
    "- The number in the first line indicate the number of atoms in this molecule (3 for water).\n",
    "- The second line is for comments, where you can put any information about the molecule (in this example: the name of the molecule).\n",
    "- The next lines provides the coordinates for each atom, where the first column indicates the atom symbol, and the next three columns are the x, y, and z coordinates of that atom."
   ]
  },
  {
   "cell_type": "markdown",
   "id": "12ce6570",
   "metadata": {},
   "source": [
    "#### 1.6.1.3. Reading and Writing XYZ Files"
   ]
  },
  {
   "cell_type": "markdown",
   "id": "6367fc0e",
   "metadata": {},
   "source": [
    "**Reading XYZ Files with RDKit**"
   ]
  },
  {
   "cell_type": "markdown",
   "id": "2e87184e",
   "metadata": {},
   "source": [
    "The following code will load an XYZ string with `Chem.MolFromXYZBlock()` function (if the XYZ string is in a file, you can use `Chem.MolFromXYZFile()` instead), then calculate the distance between atoms and add a bond between them if the distance is less than a specified cutoff.\n",
    "\n",
    "You can adjust the `bond_cutoff` value to match the criteria you want for bond formation.\n",
    "\n",
    "Once you've added the bonds, the molecule object will represent the water molecule with proper bonding information.\n",
    "\n",
    "However, this method may not be applicable in some circumstances and it only add single bonds. If we know the SMILES of the molecule, use the second method below. "
   ]
  },
  {
   "cell_type": "code",
   "execution_count": null,
   "id": "0967eac3",
   "metadata": {},
   "outputs": [],
   "source": [
    "#  XYZ string of water molecule\n",
    "xyz_string = \"\"\"3\n",
    "Water Molecule\n",
    "O    0.000000    0.000000    0.000000\n",
    "H    0.758602    0.601435    0.000000\n",
    "H   -0.758602    0.601435    0.000000\"\"\""
   ]
  },
  {
   "cell_type": "code",
   "execution_count": null,
   "id": "e14f99c3",
   "metadata": {},
   "outputs": [],
   "source": [
    "import numpy as np\n",
    "\n",
    "# Define a function to add bonds to unbonded molecule based on atoms's covalent radii\n",
    "def AddBonds(mol, bond_factor = 1.25):\n",
    "    # Create a new empty molecule\n",
    "    mol_new = Chem.RWMol()\n",
    "    \n",
    "    # Add atoms\n",
    "    for atom in mol.GetAtoms():\n",
    "        mol_new.AddAtom(atom)\n",
    "\n",
    "    # Add conformer\n",
    "    conf = mol.GetConformer()\n",
    "    mol_new.AddConformer(conf)\n",
    "\n",
    "    # Add bonds based on covalent radii\n",
    "    for i in range(mol.GetNumAtoms()):\n",
    "        for j in range(i + 1, mol.GetNumAtoms()):\n",
    "            dist = np.linalg.norm(np.array(conf.GetAtomPosition(i)) - np.array(conf.GetAtomPosition(j)))\n",
    "            pt = Chem.GetPeriodicTable()\n",
    "            r_cov_i = pt.GetRcovalent(mol.GetAtomWithIdx(i).GetSymbol())\n",
    "            r_cov_j = pt.GetRcovalent(mol.GetAtomWithIdx(j).GetSymbol())\n",
    "            if dist < (r_cov_i + r_cov_j) * bond_factor:  # Adjust the factor as needed\n",
    "                mol_new.AddBond(i, j, Chem.BondType.SINGLE)\n",
    "\n",
    "    # Convert to a regular Mol object\n",
    "    mol_new = mol_new.GetMol()\n",
    "    \n",
    "    return mol_new"
   ]
  },
  {
   "cell_type": "code",
   "execution_count": null,
   "id": "a21da39c",
   "metadata": {},
   "outputs": [],
   "source": [
    "# Load XYZ string and add bonds\n",
    "water_mol = Chem.MolFromXYZBlock(xyz_string)\n",
    "water_mol = AddBonds(water_mol)\n",
    "\n",
    "# You can visualize the molecule\n",
    "Draw.MolToImage(water_mol, size=(100, 100))"
   ]
  },
  {
   "cell_type": "markdown",
   "id": "f93e3167",
   "metadata": {},
   "source": [
    "If we know the SMILES of the molecule, use the following method."
   ]
  },
  {
   "cell_type": "code",
   "execution_count": null,
   "id": "e5a677ef",
   "metadata": {},
   "outputs": [],
   "source": [
    "import numpy as np"
   ]
  },
  {
   "cell_type": "code",
   "execution_count": null,
   "id": "8df07918",
   "metadata": {},
   "outputs": [],
   "source": [
    "#  XYZ string of water molecule\n",
    "xyz_string = \"\"\"3\n",
    "Water Molecule\n",
    "O    0.000000    0.000000    0.000000\n",
    "H    0.758602    0.601435    0.000000\n",
    "H   -0.758602    0.601435    0.000000\"\"\""
   ]
  },
  {
   "cell_type": "code",
   "execution_count": null,
   "id": "6a4ea72c",
   "metadata": {},
   "outputs": [],
   "source": [
    "# Define a function to read the x, y, z coordinates\n",
    "def MolFromXYZWithSMILES(xyz_string, smiles):\n",
    "    # Create a molecule from the SMILES representation\n",
    "    mol = Chem.MolFromSmiles(smiles)\n",
    "    \n",
    "    if mol is None:\n",
    "        raise ValueError(\"Invalid SMILES representation\")\n",
    "        \n",
    "    # Prepare the molecule\n",
    "    mol = Chem.AddHs(mol)\n",
    "    Chem.rdDistGeom.EmbedMolecule(mol, useRandomCoords=True)\n",
    "    conformer = mol.GetConformer()\n",
    "    \n",
    "    # Parse the XYZ coordinates\n",
    "    lines = xyz_string.strip().split('\\n')[2:]  # Skip the first two lines\n",
    "    new_pos = np.zeros((len(mol.GetAtoms()), 3), dtype=float)\n",
    "    \n",
    "    for i, line in enumerate(lines):\n",
    "        parts = line.split()\n",
    "        if len(parts) == 4:\n",
    "            symbol, x, y, z = parts\n",
    "            new_pos[i] = [float(x), float(y), float(z)]\n",
    "    \n",
    "    # Set the x, y, z coordinates for each atoms\n",
    "    for i in range(mol.GetNumAtoms()):\n",
    "        conformer.SetAtomPosition(i, new_pos[i])\n",
    "\n",
    "    return mol"
   ]
  },
  {
   "cell_type": "code",
   "execution_count": null,
   "id": "b0b779f2",
   "metadata": {},
   "outputs": [],
   "source": [
    "# Load XYZ string with SMILES\n",
    "smiles = \"O\"\n",
    "water_mol = MolFromXYZWithSMILES(xyz_string, smiles)\n",
    "\n",
    "# You can visualize the molecule\n",
    "Draw.MolToImage(water_mol, size=(100, 100))"
   ]
  },
  {
   "cell_type": "markdown",
   "id": "6b3a7c57",
   "metadata": {},
   "source": [
    "**Writing XYZ Files with RDKit**"
   ]
  },
  {
   "cell_type": "markdown",
   "id": "aaf72fc3",
   "metadata": {},
   "source": [
    "Writing an XYZ file can be done with RDKit using `Chem.MolToXYZBlock()` (write to a string) or `Chem.MolToXYZFile()` (write to a file) functions."
   ]
  },
  {
   "cell_type": "code",
   "execution_count": null,
   "id": "210cd86a",
   "metadata": {},
   "outputs": [],
   "source": [
    "# Example with water molecule\n",
    "water_mol = Chem.MolFromSmiles('O')\n",
    "\n",
    "# Prepare the molecule\n",
    "water_mol = Chem.AddHs(water_mol)\n",
    "Chem.rdDistGeom.EmbedMolecule(water_mol, useRandomCoords=True)\n",
    "    \n",
    "# Write XYX string\n",
    "xyz_string = Chem.MolToXYZBlock(water_mol)\n",
    "print(xyz_string)"
   ]
  },
  {
   "cell_type": "markdown",
   "id": "c889f391",
   "metadata": {},
   "source": [
    "### 1.6.2. Other Chemical Structure File Formats"
   ]
  },
  {
   "cell_type": "markdown",
   "id": "cad379a0",
   "metadata": {},
   "source": [
    "In addition to XYZ files, there are several other chemical structure file formats used in computational chemistry. These formats vary in complexity and are often specific to certain software or applications. Some common formats include:\n",
    "\n",
    "- **PDB (Protein Data Bank)**: Widely used for protein and biomolecular structures. It includes atomic coordinates and additional information.\n",
    "\n",
    "- **MOL (MDL Molfile)**: A format used by MDL (Molecular Design Limited) for chemical structure representation. It includes atom connectivity and 2D structure information.\n",
    "\n",
    "- **SDF (Structure-Data File)**: A more versatile format also used by MDL, which can store molecular structures and associated data, making it suitable for storing compound libraries.\n",
    "\n",
    "- **CIF (Crystallographic Information File)**: Primarily used for crystallography data, including unit cell parameters and atomic coordinates.\n",
    "\n",
    "These are just a few examples of chemical structure file formats. The choice of format often depends on the specific requirements of your computational chemistry tasks."
   ]
  },
  {
   "cell_type": "code",
   "execution_count": null,
   "id": "dffea1e3",
   "metadata": {},
   "outputs": [],
   "source": []
  }
 ],
 "metadata": {
  "kernelspec": {
   "display_name": "Python 3 (ipykernel)",
   "language": "python",
   "name": "python3"
  },
  "language_info": {
   "codemirror_mode": {
    "name": "ipython",
    "version": 3
   },
   "file_extension": ".py",
   "mimetype": "text/x-python",
   "name": "python",
   "nbconvert_exporter": "python",
   "pygments_lexer": "ipython3",
   "version": "3.11.7"
  },
  "toc": {
   "base_numbering": "",
   "nav_menu": {},
   "number_sections": false,
   "sideBar": true,
   "skip_h1_title": false,
   "title_cell": "Table of Contents",
   "title_sidebar": "Table of Contents",
   "toc_cell": false,
   "toc_position": {
    "height": "calc(100% - 180px)",
    "left": "10px",
    "top": "150px",
    "width": "220.333px"
   },
   "toc_section_display": true,
   "toc_window_display": true
  }
 },
 "nbformat": 4,
 "nbformat_minor": 5
}
