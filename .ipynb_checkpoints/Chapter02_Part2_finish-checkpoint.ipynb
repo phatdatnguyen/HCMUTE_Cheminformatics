{
 "cells": [
  {
   "cell_type": "markdown",
   "id": "ce2d6e30",
   "metadata": {},
   "source": [
    "# Chapter 2. Molecular Mechanics"
   ]
  },
  {
   "cell_type": "markdown",
   "id": "0d09f3a0",
   "metadata": {},
   "source": [
    "## 2.2. Molecular Mechanics"
   ]
  },
  {
   "cell_type": "markdown",
   "id": "520d5d2e",
   "metadata": {},
   "source": [
    "Molecular mechanics is a computational approach used to model and study the behavior of molecules and molecular systems. It plays a vital role in various fields, including chemistry, biochemistry, and material science.\n",
    "\n",
    "Molecular mechanics is applied to various areas, including drug discovery, protein folding, material science, and understanding chemical reactions. Its computational efficiency and versatility make it a valuable tool in molecular modeling and simulations.\n",
    "\n",
    "In the upcoming sections, we will delve deeper into the practical aspects of molecular mechanics, including force field selection, energy minimization, and conformational analysis."
   ]
  },
  {
   "cell_type": "markdown",
   "id": "68576094",
   "metadata": {},
   "source": [
    "### 2.2.1. Energy Functions"
   ]
  },
  {
   "cell_type": "markdown",
   "id": "5c1bcbc6",
   "metadata": {},
   "source": [
    "In molecular mechanics, the behavior of molecules is described by energy functions, also known as potential energy functions. These functions are used to estimate the energy of a molecular system based on the positions of its atoms.\n",
    "\n",
    "We can thing of a energy function as a mapping from a molecular geometry (or state) to its potential energy:\n",
    "\n",
    "$$E(\\text{conformer}) = F(\\text{geometry})$$\n",
    "\n",
    "In this equation:\n",
    "\n",
    "- E represents the potential energy associated with a molecular conformation (conformer).\n",
    "- F represents the energy function that maps the geometry (positions of atoms) of the conformer to its potential energy."
   ]
  },
  {
   "cell_type": "markdown",
   "id": "104f08b7",
   "metadata": {},
   "source": [
    "### 2.2.2. Molecular Mechanics"
   ]
  },
  {
   "cell_type": "markdown",
   "id": "00eeb774",
   "metadata": {},
   "source": [
    "Molecular mechanics is a computational modeling approach that employs energy functions to describe and analyze the behavior of chemical systems. In molecular mechanics, a molecule or molecular system is represented as a set of interacting particles (atoms) with well-defined energy terms."
   ]
  },
  {
   "cell_type": "markdown",
   "id": "ccbd547a",
   "metadata": {},
   "source": [
    "### 2.2.3. Force Field"
   ]
  },
  {
   "cell_type": "markdown",
   "id": "e144cb2c",
   "metadata": {},
   "source": [
    "Force fields are sets of parameters and mathematical functions that define the potential energy of a molecular system. They are used to calculate the forces acting on the atoms in a molecule, which can be used to predict the molecule's behavior.\n",
    "In molecular mechanics, force fields are essential for defining the potential energy of a molecular system based on atomic interactions. Force fields consist of a set of parameters and mathematical functions that describe how atoms interact with each other. \n",
    "\n",
    "There are several well-established force fields used in molecular mechanics simulations, each with its own set of parameters and applications. Some commonly used force fields include:\n",
    "\n",
    "1. **UFF (Universal Force Field)**: UFF is a versatile force field that provides a good balance between accuracy and computational cost. It can be used to model a wide range of organic and inorganic molecules.\n",
    "\n",
    "2. **MMFF (Merck Molecular Force Field)**: MMFF is known for its accuracy in modeling the conformational and energetic properties of organic molecules. It includes parameters for various chemical elements.\n",
    "\n",
    "3. **AMBER (Assisted Model Building with Energy Refinement)**: AMBER is widely used in biomolecular simulations and is particularly suited for proteins, nucleic acids, and other biomolecules.\n",
    "\n",
    "4. **CHARMM (Chemistry at HARvard Molecular Mechanics)**: CHARMM is a force field known for its accuracy in biomolecular simulations, and it is extensively used for modeling proteins, nucleic acids, and lipids.\n",
    "\n",
    "5. **GROMOS (GROningen MOlecular Simulation)**: GROMOS is a force field commonly used in biomolecular simulations, especially in the study of proteins, nucleic acids, and carbohydrates.\n",
    "\n",
    "6. **OPLS (Optimized Potential for Liquid Simulations)**: OPLS is designed for the simulation of liquids and condensed phases. It has various parameter sets optimized for specific applications.\n",
    "\n",
    "7. **Dreiding Force Field**: The Dreiding force field is primarily used for organic molecules and includes parameters for a wide range of chemical functional groups.\n",
    "\n",
    "8. **COMPASS (Condensed-phase Optimized Molecular Potentials for Atomistic Simulation Studies)**: COMPASS is used in various applications, including polymers, organic molecules, and inorganic materials.\n",
    "\n",
    "These force fields vary in terms of accuracy, computational cost, and applicability to different types of molecules. The choice of a specific force field depends on the nature of the system being studied and the research objectives."
   ]
  },
  {
   "cell_type": "markdown",
   "id": "12e4c861",
   "metadata": {},
   "source": [
    "In the following section, we will use UFF (available in RDKit) to calculate the potential energy of ethane:"
   ]
  },
  {
   "cell_type": "code",
   "execution_count": 1,
   "id": "ec482edb",
   "metadata": {},
   "outputs": [],
   "source": [
    "# Import modules\n",
    "from rdkit import Chem\n",
    "from rdkit.Chem import AllChem\n",
    "from utils import View3DModel\n",
    "import py3Dmol"
   ]
  },
  {
   "cell_type": "code",
   "execution_count": 2,
   "id": "194bf9a8",
   "metadata": {},
   "outputs": [
    {
     "data": {
      "application/3dmoljs_load.v0": "<div id=\"3dmolviewer_17174838315813048\"  style=\"position: relative; width: 800px; height: 400px;\">\n        <p id=\"3dmolwarning_17174838315813048\" style=\"background-color:#ffcccc;color:black\">3Dmol.js failed to load for some reason.  Please check your browser console for error messages.<br></p>\n        </div>\n<script>\n\nvar loadScriptAsync = function(uri){\n  return new Promise((resolve, reject) => {\n    //this is to ignore the existence of requirejs amd\n    var savedexports, savedmodule;\n    if (typeof exports !== 'undefined') savedexports = exports;\n    else exports = {}\n    if (typeof module !== 'undefined') savedmodule = module;\n    else module = {}\n\n    var tag = document.createElement('script');\n    tag.src = uri;\n    tag.async = true;\n    tag.onload = () => {\n        exports = savedexports;\n        module = savedmodule;\n        resolve();\n    };\n  var firstScriptTag = document.getElementsByTagName('script')[0];\n  firstScriptTag.parentNode.insertBefore(tag, firstScriptTag);\n});\n};\n\nif(typeof $3Dmolpromise === 'undefined') {\n$3Dmolpromise = null;\n  $3Dmolpromise = loadScriptAsync('https://cdnjs.cloudflare.com/ajax/libs/3Dmol/2.1.0/3Dmol-min.js');\n}\n\nvar viewer_17174838315813048 = null;\nvar warn = document.getElementById(\"3dmolwarning_17174838315813048\");\nif(warn) {\n    warn.parentNode.removeChild(warn);\n}\n$3Dmolpromise.then(function() {\nviewer_17174838315813048 = $3Dmol.createViewer(document.getElementById(\"3dmolviewer_17174838315813048\"),{backgroundColor:\"white\"});\nviewer_17174838315813048.zoomTo();\n\tviewer_17174838315813048.addModel(\"\\n     RDKit          3D\\n\\n  8  7  0  0  0  0  0  0  0  0999 V2000\\n   -0.7599   -0.0066   -0.0514 C   0  0  0  0  0  0  0  0  0  0  0  0\\n    0.7426   -0.0343    0.0029 C   0  0  0  0  0  0  0  0  0  0  0  0\\n   -1.1309   -0.1825    0.9865 H   0  0  0  0  0  0  0  0  0  0  0  0\\n   -1.0729    1.0195   -0.3235 H   0  0  0  0  0  0  0  0  0  0  0  0\\n   -1.2008   -0.7893   -0.6827 H   0  0  0  0  0  0  0  0  0  0  0  0\\n    1.0543    0.9020    0.5469 H   0  0  0  0  0  0  0  0  0  0  0  0\\n    1.2187    0.0222   -0.9868 H   0  0  0  0  0  0  0  0  0  0  0  0\\n    1.1488   -0.9310    0.5081 H   0  0  0  0  0  0  0  0  0  0  0  0\\n  1  2  1  0\\n  1  3  1  0\\n  1  4  1  0\\n  1  5  1  0\\n  2  6  1  0\\n  2  7  1  0\\n  2  8  1  0\\nM  END\\n\",\"molecule\",{\"keepH\": true});\n\tviewer_17174838315813048.setBackgroundColor(\"white\");\n\tviewer_17174838315813048.setStyle({\"stick\": {\"scale\": 0.3}, \"sphere\": {\"scale\": 0.3}});\n\tviewer_17174838315813048.zoomTo();\nviewer_17174838315813048.render();\n});\n</script>",
      "text/html": [
       "<div id=\"3dmolviewer_17174838315813048\"  style=\"position: relative; width: 800px; height: 400px;\">\n",
       "        <p id=\"3dmolwarning_17174838315813048\" style=\"background-color:#ffcccc;color:black\">3Dmol.js failed to load for some reason.  Please check your browser console for error messages.<br></p>\n",
       "        </div>\n",
       "<script>\n",
       "\n",
       "var loadScriptAsync = function(uri){\n",
       "  return new Promise((resolve, reject) => {\n",
       "    //this is to ignore the existence of requirejs amd\n",
       "    var savedexports, savedmodule;\n",
       "    if (typeof exports !== 'undefined') savedexports = exports;\n",
       "    else exports = {}\n",
       "    if (typeof module !== 'undefined') savedmodule = module;\n",
       "    else module = {}\n",
       "\n",
       "    var tag = document.createElement('script');\n",
       "    tag.src = uri;\n",
       "    tag.async = true;\n",
       "    tag.onload = () => {\n",
       "        exports = savedexports;\n",
       "        module = savedmodule;\n",
       "        resolve();\n",
       "    };\n",
       "  var firstScriptTag = document.getElementsByTagName('script')[0];\n",
       "  firstScriptTag.parentNode.insertBefore(tag, firstScriptTag);\n",
       "});\n",
       "};\n",
       "\n",
       "if(typeof $3Dmolpromise === 'undefined') {\n",
       "$3Dmolpromise = null;\n",
       "  $3Dmolpromise = loadScriptAsync('https://cdnjs.cloudflare.com/ajax/libs/3Dmol/2.1.0/3Dmol-min.js');\n",
       "}\n",
       "\n",
       "var viewer_17174838315813048 = null;\n",
       "var warn = document.getElementById(\"3dmolwarning_17174838315813048\");\n",
       "if(warn) {\n",
       "    warn.parentNode.removeChild(warn);\n",
       "}\n",
       "$3Dmolpromise.then(function() {\n",
       "viewer_17174838315813048 = $3Dmol.createViewer(document.getElementById(\"3dmolviewer_17174838315813048\"),{backgroundColor:\"white\"});\n",
       "viewer_17174838315813048.zoomTo();\n",
       "\tviewer_17174838315813048.addModel(\"\\n     RDKit          3D\\n\\n  8  7  0  0  0  0  0  0  0  0999 V2000\\n   -0.7599   -0.0066   -0.0514 C   0  0  0  0  0  0  0  0  0  0  0  0\\n    0.7426   -0.0343    0.0029 C   0  0  0  0  0  0  0  0  0  0  0  0\\n   -1.1309   -0.1825    0.9865 H   0  0  0  0  0  0  0  0  0  0  0  0\\n   -1.0729    1.0195   -0.3235 H   0  0  0  0  0  0  0  0  0  0  0  0\\n   -1.2008   -0.7893   -0.6827 H   0  0  0  0  0  0  0  0  0  0  0  0\\n    1.0543    0.9020    0.5469 H   0  0  0  0  0  0  0  0  0  0  0  0\\n    1.2187    0.0222   -0.9868 H   0  0  0  0  0  0  0  0  0  0  0  0\\n    1.1488   -0.9310    0.5081 H   0  0  0  0  0  0  0  0  0  0  0  0\\n  1  2  1  0\\n  1  3  1  0\\n  1  4  1  0\\n  1  5  1  0\\n  2  6  1  0\\n  2  7  1  0\\n  2  8  1  0\\nM  END\\n\",\"molecule\",{\"keepH\": true});\n",
       "\tviewer_17174838315813048.setBackgroundColor(\"white\");\n",
       "\tviewer_17174838315813048.setStyle({\"stick\": {\"scale\": 0.3}, \"sphere\": {\"scale\": 0.3}});\n",
       "\tviewer_17174838315813048.zoomTo();\n",
       "viewer_17174838315813048.render();\n",
       "});\n",
       "</script>"
      ]
     },
     "metadata": {},
     "output_type": "display_data"
    }
   ],
   "source": [
    "# Create an RDKit molecule from the XYZ string\n",
    "ethane_smiles = 'CC'\n",
    "ethane_mol = Chem.MolFromSmiles(ethane_smiles)\n",
    "\n",
    "# Prepare the molecule\n",
    "ethane_mol = Chem.AddHs(ethane_mol)\n",
    "AllChem.EmbedMolecule(ethane_mol)\n",
    "\n",
    "# Visualize the molecule with Py3DMol\n",
    "View3DModel(ethane_mol)"
   ]
  },
  {
   "cell_type": "code",
   "execution_count": 3,
   "id": "f9d6eaaf",
   "metadata": {},
   "outputs": [
    {
     "name": "stdout",
     "output_type": "stream",
     "text": [
      "2.636076590391618\n"
     ]
    }
   ],
   "source": [
    "# Generate a force field object using the UFF parameters\n",
    "ff = Chem.rdForceFieldHelpers.UFFGetMoleculeForceField(ethane_mol)\n",
    "\n",
    "# Calculate the energy total energy\n",
    "total_energy = ff.CalcEnergy()\n",
    "print(total_energy)"
   ]
  },
  {
   "cell_type": "markdown",
   "id": "5e30cd84",
   "metadata": {},
   "source": [
    "Now we will rotate the molecule to make the eclipsed conformer, then calculate the total energy:"
   ]
  },
  {
   "cell_type": "code",
   "execution_count": 4,
   "id": "b8d8c2c2",
   "metadata": {
    "scrolled": true
   },
   "outputs": [
    {
     "data": {
      "application/3dmoljs_load.v0": "<div id=\"3dmolviewer_1717483834199004\"  style=\"position: relative; width: 800px; height: 400px;\">\n        <p id=\"3dmolwarning_1717483834199004\" style=\"background-color:#ffcccc;color:black\">3Dmol.js failed to load for some reason.  Please check your browser console for error messages.<br></p>\n        </div>\n<script>\n\nvar loadScriptAsync = function(uri){\n  return new Promise((resolve, reject) => {\n    //this is to ignore the existence of requirejs amd\n    var savedexports, savedmodule;\n    if (typeof exports !== 'undefined') savedexports = exports;\n    else exports = {}\n    if (typeof module !== 'undefined') savedmodule = module;\n    else module = {}\n\n    var tag = document.createElement('script');\n    tag.src = uri;\n    tag.async = true;\n    tag.onload = () => {\n        exports = savedexports;\n        module = savedmodule;\n        resolve();\n    };\n  var firstScriptTag = document.getElementsByTagName('script')[0];\n  firstScriptTag.parentNode.insertBefore(tag, firstScriptTag);\n});\n};\n\nif(typeof $3Dmolpromise === 'undefined') {\n$3Dmolpromise = null;\n  $3Dmolpromise = loadScriptAsync('https://cdnjs.cloudflare.com/ajax/libs/3Dmol/2.1.0/3Dmol-min.js');\n}\n\nvar viewer_1717483834199004 = null;\nvar warn = document.getElementById(\"3dmolwarning_1717483834199004\");\nif(warn) {\n    warn.parentNode.removeChild(warn);\n}\n$3Dmolpromise.then(function() {\nviewer_1717483834199004 = $3Dmol.createViewer(document.getElementById(\"3dmolviewer_1717483834199004\"),{backgroundColor:\"white\"});\nviewer_1717483834199004.zoomTo();\n\tviewer_1717483834199004.addModel(\"\\n     RDKit          3D\\n\\n  8  7  0  0  0  0  0  0  0  0999 V2000\\n   -0.7599   -0.0066   -0.0514 C   0  0  0  0  0  0  0  0  0  0  0  0\\n    0.7426   -0.0343    0.0029 C   0  0  0  0  0  0  0  0  0  0  0  0\\n   -1.1309   -0.1825    0.9865 H   0  0  0  0  0  0  0  0  0  0  0  0\\n   -1.0729    1.0195   -0.3235 H   0  0  0  0  0  0  0  0  0  0  0  0\\n   -1.2008   -0.7893   -0.6827 H   0  0  0  0  0  0  0  0  0  0  0  0\\n    1.0647   -0.8907   -0.6548 H   0  0  0  0  0  0  0  0  0  0  0  0\\n    1.1416   -0.2587    1.0029 H   0  0  0  0  0  0  0  0  0  0  0  0\\n    1.2131    0.9101   -0.3302 H   0  0  0  0  0  0  0  0  0  0  0  0\\n  1  2  1  0\\n  1  3  1  0\\n  1  4  1  0\\n  1  5  1  0\\n  2  6  1  0\\n  2  7  1  0\\n  2  8  1  0\\nM  END\\n\",\"molecule\",{\"keepH\": true});\n\tviewer_1717483834199004.setBackgroundColor(\"white\");\n\tviewer_1717483834199004.setStyle({\"stick\": {\"scale\": 0.3}, \"sphere\": {\"scale\": 0.3}});\n\tviewer_1717483834199004.zoomTo();\nviewer_1717483834199004.render();\n});\n</script>",
      "text/html": [
       "<div id=\"3dmolviewer_1717483834199004\"  style=\"position: relative; width: 800px; height: 400px;\">\n",
       "        <p id=\"3dmolwarning_1717483834199004\" style=\"background-color:#ffcccc;color:black\">3Dmol.js failed to load for some reason.  Please check your browser console for error messages.<br></p>\n",
       "        </div>\n",
       "<script>\n",
       "\n",
       "var loadScriptAsync = function(uri){\n",
       "  return new Promise((resolve, reject) => {\n",
       "    //this is to ignore the existence of requirejs amd\n",
       "    var savedexports, savedmodule;\n",
       "    if (typeof exports !== 'undefined') savedexports = exports;\n",
       "    else exports = {}\n",
       "    if (typeof module !== 'undefined') savedmodule = module;\n",
       "    else module = {}\n",
       "\n",
       "    var tag = document.createElement('script');\n",
       "    tag.src = uri;\n",
       "    tag.async = true;\n",
       "    tag.onload = () => {\n",
       "        exports = savedexports;\n",
       "        module = savedmodule;\n",
       "        resolve();\n",
       "    };\n",
       "  var firstScriptTag = document.getElementsByTagName('script')[0];\n",
       "  firstScriptTag.parentNode.insertBefore(tag, firstScriptTag);\n",
       "});\n",
       "};\n",
       "\n",
       "if(typeof $3Dmolpromise === 'undefined') {\n",
       "$3Dmolpromise = null;\n",
       "  $3Dmolpromise = loadScriptAsync('https://cdnjs.cloudflare.com/ajax/libs/3Dmol/2.1.0/3Dmol-min.js');\n",
       "}\n",
       "\n",
       "var viewer_1717483834199004 = null;\n",
       "var warn = document.getElementById(\"3dmolwarning_1717483834199004\");\n",
       "if(warn) {\n",
       "    warn.parentNode.removeChild(warn);\n",
       "}\n",
       "$3Dmolpromise.then(function() {\n",
       "viewer_1717483834199004 = $3Dmol.createViewer(document.getElementById(\"3dmolviewer_1717483834199004\"),{backgroundColor:\"white\"});\n",
       "viewer_1717483834199004.zoomTo();\n",
       "\tviewer_1717483834199004.addModel(\"\\n     RDKit          3D\\n\\n  8  7  0  0  0  0  0  0  0  0999 V2000\\n   -0.7599   -0.0066   -0.0514 C   0  0  0  0  0  0  0  0  0  0  0  0\\n    0.7426   -0.0343    0.0029 C   0  0  0  0  0  0  0  0  0  0  0  0\\n   -1.1309   -0.1825    0.9865 H   0  0  0  0  0  0  0  0  0  0  0  0\\n   -1.0729    1.0195   -0.3235 H   0  0  0  0  0  0  0  0  0  0  0  0\\n   -1.2008   -0.7893   -0.6827 H   0  0  0  0  0  0  0  0  0  0  0  0\\n    1.0647   -0.8907   -0.6548 H   0  0  0  0  0  0  0  0  0  0  0  0\\n    1.1416   -0.2587    1.0029 H   0  0  0  0  0  0  0  0  0  0  0  0\\n    1.2131    0.9101   -0.3302 H   0  0  0  0  0  0  0  0  0  0  0  0\\n  1  2  1  0\\n  1  3  1  0\\n  1  4  1  0\\n  1  5  1  0\\n  2  6  1  0\\n  2  7  1  0\\n  2  8  1  0\\nM  END\\n\",\"molecule\",{\"keepH\": true});\n",
       "\tviewer_1717483834199004.setBackgroundColor(\"white\");\n",
       "\tviewer_1717483834199004.setStyle({\"stick\": {\"scale\": 0.3}, \"sphere\": {\"scale\": 0.3}});\n",
       "\tviewer_1717483834199004.zoomTo();\n",
       "viewer_1717483834199004.render();\n",
       "});\n",
       "</script>"
      ]
     },
     "metadata": {},
     "output_type": "display_data"
    }
   ],
   "source": [
    "# Rotate the molecule by setting new torsion angle values\n",
    "Chem.rdMolTransforms.SetDihedralDeg(ethane_mol.GetConformer(0), 2, 0, 1, 5, 0)\n",
    "Chem.rdMolTransforms.SetDihedralDeg(ethane_mol.GetConformer(0), 2, 0, 1, 6, 120)\n",
    "Chem.rdMolTransforms.SetDihedralDeg(ethane_mol.GetConformer(0), 2, 0, 1, 7, -120)\n",
    "\n",
    "# Visualize the molecule with Py3DMol\n",
    "View3DModel(ethane_mol)"
   ]
  },
  {
   "cell_type": "code",
   "execution_count": 5,
   "id": "3b5bfe69",
   "metadata": {},
   "outputs": [
    {
     "name": "stdout",
     "output_type": "stream",
     "text": [
      "5.185369636210353\n"
     ]
    }
   ],
   "source": [
    "# Generate a force field object using the UFF parameters\n",
    "ff = Chem.rdForceFieldHelpers.UFFGetMoleculeForceField(ethane_mol)\n",
    "\n",
    "# Calculate the energy total energy\n",
    "total_energy = ff.CalcEnergy()\n",
    "print(total_energy)"
   ]
  },
  {
   "cell_type": "markdown",
   "id": "426e2283",
   "metadata": {},
   "source": [
    "As you can see, the eclipsed conformer has higher energy than the staggered conformer.\n",
    "\n",
    "We can also calculate the energy of any conformer of ethane by rotating around C-C bond:"
   ]
  },
  {
   "cell_type": "code",
   "execution_count": 6,
   "id": "273480fd",
   "metadata": {},
   "outputs": [],
   "source": [
    "# Defind a function that calculate total energy\n",
    "def calculate_total_energy(mol, rotation_angle):\n",
    "    # Generate a force field object using the UFF parameters\n",
    "    ff = Chem.rdForceFieldHelpers.UFFGetMoleculeForceField(mol)\n",
    "    \n",
    "    # Rotate round C-C bond\n",
    "    Chem.rdMolTransforms.SetDihedralDeg(ethane_mol.GetConformer(0), 2, 0, 1, 5, 0 + rotation_angle)\n",
    "    Chem.rdMolTransforms.SetDihedralDeg(ethane_mol.GetConformer(0), 2, 0, 1, 6, 120 + rotation_angle)\n",
    "    Chem.rdMolTransforms.SetDihedralDeg(ethane_mol.GetConformer(0), 2, 0, 1, 7, -120 + rotation_angle)\n",
    "    \n",
    "    # Calculate the energy total energy\n",
    "    return ff.CalcEnergy()"
   ]
  },
  {
   "cell_type": "code",
   "execution_count": 7,
   "id": "94cad1e2",
   "metadata": {},
   "outputs": [
    {
     "data": {
      "text/plain": [
       "[<matplotlib.lines.Line2D at 0x1da97ba0190>]"
      ]
     },
     "execution_count": 7,
     "metadata": {},
     "output_type": "execute_result"
    },
    {
     "data": {
      "image/png": "[encoded data removed]",
      "text/plain": [
       "<Figure size 640x480 with 1 Axes>"
      ]
     },
     "metadata": {},
     "output_type": "display_data"
    }
   ],
   "source": [
    "import numpy as np\n",
    "import matplotlib.pyplot as plt\n",
    "\n",
    "# Calculate an array of energies for all comformers\n",
    "energy_arr = []\n",
    "angles = np.linspace(0, 360, num=121) # rotate 3 degrees each time\n",
    "for angle in angles:\n",
    "    energy_arr.append(calculate_total_energy(ethane_mol, angle))\n",
    "energy_arr = np.array(energy_arr)\n",
    "    \n",
    "# Plot the result\n",
    "plt.plot(angles, energy_arr)"
   ]
  },
  {
   "cell_type": "markdown",
   "id": "d98d6dc4",
   "metadata": {},
   "source": [
    "### 2.2.4. Potential Energy"
   ]
  },
  {
   "cell_type": "markdown",
   "id": "7a051f0d",
   "metadata": {},
   "source": [
    "In molecular mechanics, the potential energy of a molecular system is described in terms of various energy components. These energy terms capture different aspects of molecular interactions and contribute to the overall potential energy. Below are descriptions of key energy terms, along with their corresponding equations for calculation."
   ]
  },
  {
   "cell_type": "markdown",
   "id": "fa9badf9",
   "metadata": {},
   "source": [
    "The total energy of a molecular system is the sum of its bonded and non-bonded energies:\n",
    "\n",
    "$$E_{\\text{potential}} = E_{\\text{bonded}} + E_{\\text{non-bonded}}$$"
   ]
  },
  {
   "cell_type": "markdown",
   "id": "90cc12e4",
   "metadata": {},
   "source": [
    "Bonded energy accounts for the interactions associated with covalent bonds within the molecular structure. The bonded energy is the sum of these individual bonded energy terms:\n",
    "\n",
    "$$E_{\\text{bonded}} = E_{\\text{bonds}} + E_{\\text{angles}} + E_{\\text{torsion}} + E_{\\text{out of plane}} + E_{\\text{inversion}} + E_{\\text{cross}} + E_{\\text{additional}}$$"
   ]
  },
  {
   "cell_type": "markdown",
   "id": "67623dc0",
   "metadata": {},
   "source": [
    "Non-bonded energy encompasses interactions between atoms that are not directly connected by covalent bonds. The non-bonded energy is the sum of these individual non-bonded energy terms:\n",
    "\n",
    "$$E_{\\text{non-bonded}} = E_{\\text{vdw}} + E_{\\text{electrostatic}} + E_{\\text{additional}}$$"
   ]
  },
  {
   "cell_type": "markdown",
   "id": "eb988e3a",
   "metadata": {},
   "source": [
    "#### 2.2.4.1. Bond Stretching Energy (E<sub>bonds</sub>)"
   ]
  },
  {
   "cell_type": "markdown",
   "id": "71dc9a7a",
   "metadata": {},
   "source": [
    "Bond stretching energy accounts for the energy required to stretch or compress chemical bonds. It is calculated as follows:\n",
    "\n",
    "$$E_{\\text{bonds}} = \\sum_k \\frac{1}{2} k_b (r_k - r_{0})^2$$\n",
    "\n",
    "Where:\n",
    "- $k_b$ is the force constant of the bond.\n",
    "- $r_k$ is the current bond length.\n",
    "- $r_{0k}$ is the equilibrium bond length."
   ]
  },
  {
   "cell_type": "markdown",
   "id": "f4deb0a0",
   "metadata": {},
   "source": [
    "#### 2.2.4.2. Angle Bending Energy (E<sub>angles</sub>)"
   ]
  },
  {
   "cell_type": "markdown",
   "id": "7258f9a5",
   "metadata": {},
   "source": [
    "Angle bending energy represents the energy associated with bond angles within a molecule. It is calculated as follows:\n",
    "\n",
    "$$E_{\\text{angles}} = \\sum_j \\frac{1}{2} k_{\\theta j} (\\theta_j - \\theta_{0})^2$$\n",
    "\n",
    "Where:\n",
    "- $k_{\\theta j}$ is the force constant for angle \\(j\\).\n",
    "- $\\theta_j$ is the current bond angle.\n",
    "- $\\theta_{0j}$ is the equilibrium bond angle."
   ]
  },
  {
   "cell_type": "markdown",
   "id": "e14c9256",
   "metadata": {},
   "source": [
    "#### 2.2.4.3. Torsional Energy (E<sub>torsion</sub>)"
   ]
  },
  {
   "cell_type": "markdown",
   "id": "4a6a9725",
   "metadata": {},
   "source": [
    "Torsional energy accounts for the energy due to the rotation of bonds within a molecule. It is calculated as a sum of periodic terms:\n",
    "\n",
    "$$E_{\\text{torsion}} = \\sum_{n=1}^{N} V_n [1 + \\cos(n \\phi - \\gamma_n)]$$\n",
    "\n",
    "Where:\n",
    "- $N$ is the number of torsional terms.\n",
    "- $V_n$ is the amplitude of the $n$-th term.\n",
    "- $\\phi$ is the dihedral angle.\n",
    "- $\\gamma_n$ is the phase offset of the $n$-th term."
   ]
  },
  {
   "cell_type": "markdown",
   "id": "46897053",
   "metadata": {},
   "source": [
    "#### 2.2.4.4. Out-of-Plane Bending Energy (E<sub>out of plane</sub>)\n"
   ]
  },
  {
   "cell_type": "markdown",
   "id": "a4664dfd",
   "metadata": {},
   "source": [
    "Out-of-plane bending energy accounts for the energy associated with deviations from a planar conformation. It is calculated based on the out-of-plane angle and force constants.\n",
    "\n",
    "$$E_{\\text{out of plane}} = \\frac{1}{2} k_{\\text{oop}} \\Delta z^2$$\n",
    "\n",
    "Where:\n",
    "- $k_{\\text{oop}}$ is the out-of-plane force constant.\n",
    "- $\\Delta z$ is the deviation from the planar conformation."
   ]
  },
  {
   "cell_type": "markdown",
   "id": "33fe6635",
   "metadata": {},
   "source": [
    "#### 2.2.4.5. Inversion (E<sub>inversion</sub>)"
   ]
  },
  {
   "cell_type": "markdown",
   "id": "a98e1c54",
   "metadata": {},
   "source": [
    "Inversion energy accounts for deviations from a planar arrangement of atoms, often seen in nitrogen inversion in amines. It is calculated based on inversion force constants.\n",
    "\n",
    "$$E_{\\text{inversion}} = \\frac{1}{2} k_{\\text{inv}} \\Delta \\theta^2$$\n",
    "\n",
    "Where:\n",
    "- $k_{\\text{inv}}$ is the inversion force constant.\n",
    "- $\\Delta \\theta$ is the deviation from the planar arrangement."
   ]
  },
  {
   "cell_type": "markdown",
   "id": "9618c614",
   "metadata": {},
   "source": [
    "#### 2.2.4.6. Cross Term (E<sub>cross</sub>)"
   ]
  },
  {
   "cell_type": "markdown",
   "id": "7906b654",
   "metadata": {},
   "source": [
    "The cross term accounts for interactions between different types of energy terms, such as bond-stretching and angle-bending interactions, and is included in force fields to capture mixed interactions.\n",
    "\n",
    "$$E_{\\text{cross}} = \\sum_{i} \\sum_{j} E_{\\text{cross}, ij}$$\n",
    "\n",
    "Where:\n",
    "- $E_{\\text{cross}}$ represents the total cross term energy.\n",
    "- $E_{\\text{cross}, ij}$ represents the cross term energy between interactions of atom $i$ and atom $j$."
   ]
  },
  {
   "cell_type": "markdown",
   "id": "b7d88e3b",
   "metadata": {},
   "source": [
    "#### 2.2.4.7. Van der Waals Energy (E<sub>vdw</sub>)"
   ]
  },
  {
   "cell_type": "markdown",
   "id": "080c1980",
   "metadata": {},
   "source": [
    "Van der Waals energy represents the attractive and repulsive interactions between atoms. It is calculated using the Lennard-Jones potential:\n",
    "\n",
    "$$E_{\\text{vdw}} = \\sum_i \\sum_j \\left(\\frac{A_{ij}}{r_{ij}^{12}} - \\frac{B_{ij}}{r_{ij}^{6}}\\right)$$\n",
    "\n",
    "Where:\n",
    "- $A_{ij}$ and $B_{ij}$ are Lennard-Jones parameters for atom pairs $i$ and $j$).\n",
    "- $r_{ij}$ is the distance between atoms $i$ and $j$."
   ]
  },
  {
   "cell_type": "markdown",
   "id": "7013eaeb",
   "metadata": {},
   "source": [
    "#### 2.2.4.8. Electrostatic Energy (E<sub>electrostatic</sub>)"
   ]
  },
  {
   "cell_type": "markdown",
   "id": "24bb6867",
   "metadata": {},
   "source": [
    "Electrostatic energy accounts for electrostatic interactions, such as charges, between atoms. It is calculated using the Coulombic potential energy:\n",
    "\n",
    "$$E_{\\text{electrostatic}} = \\sum_i \\sum_j \\frac{q_i q_j}{4\\pi\\epsilon r_{ij}}$$\n",
    "\n",
    "Where:\n",
    "- $q_i$ and $q_j$ are the charges of atoms $i$ and $j$.\n",
    "- $\\epsilon$ is the dielectric constant.\n",
    "- $r_{ij}$ is the distance between atoms $i$ and $j$."
   ]
  },
  {
   "cell_type": "markdown",
   "id": "5eb81195",
   "metadata": {},
   "source": [
    "#### 2.2.4.9. Additional Non-Bonded Terms (E<sub>additional</sub>)"
   ]
  },
  {
   "cell_type": "markdown",
   "id": "18657a92",
   "metadata": {},
   "source": [
    "Additional terms may be introduced in specific force fields to account for other molecular interactions (bonded and non-bonded), such as hydrogen bonding or solvation effects."
   ]
  },
  {
   "cell_type": "markdown",
   "id": "212931b9",
   "metadata": {},
   "source": [
    "### 2.2.5. Geometry Optimization"
   ]
  },
  {
   "cell_type": "markdown",
   "id": "7d2417bc",
   "metadata": {},
   "source": [
    "Geometry optimization is a fundamental process in molecular mechanics that aims to find the most stable configuration (conformation) of a molecular system. This process involves adjusting the positions of atoms to minimize the potential energy of the system. Geometry optimization is crucial in understanding molecular structures, chemical reactions, and thermodynamic properties.\n",
    "\n",
    "In molecular mechanics simulations, a molecular system is initially assigned a set of atomic coordinates. However, these coordinates may not correspond to the most stable or energetically favorable conformation. Geometry optimization seeks to find the conformation with the lowest potential energy, representing the most stable state of the system."
   ]
  },
  {
   "cell_type": "markdown",
   "id": "fa88e3fb",
   "metadata": {},
   "source": [
    "#### 2.2.5.1. Calculation of Energy Gradient"
   ]
  },
  {
   "cell_type": "markdown",
   "id": "210a9414",
   "metadata": {},
   "source": [
    "Geometry optimization relies on the calculation of the energy gradient $\\nabla E$, a vector that points in the direction of the steepest increase in potential energy. It can be calculated for each atom and each coordinate (x, y, z). The energy gradient is used to determine how the potential energy changes as atomic coordinates are adjusted. The negative gradient represents the force acting on each atom.\n",
    "\n",
    "The energy gradient for a given coordinate can be expressed as:\n",
    "\n",
    "$$\\nabla E_i = -\\frac{\\partial E}{\\partial q_i}$$\n",
    "\n",
    "Where:\n",
    "- $\\nabla E_i$ is the energy gradient for coordinate $q_i$.\n",
    "- $\\frac{\\partial E}{\\partial q_i}$ represents the partial derivative of the potential energy with respect to coordinate $q_i$."
   ]
  },
  {
   "cell_type": "markdown",
   "id": "5055f1f0",
   "metadata": {},
   "source": [
    "#### 2.2.5.2. Minimizing the Energy Function with Gradient Descent\n"
   ]
  },
  {
   "cell_type": "markdown",
   "id": "4fbed09a",
   "metadata": {},
   "source": [
    "The gradient descent update for atomic coordinates is given by:\n",
    "\n",
    "$$q_i^{(n+1)} = q_i^{(n)} - \\alpha \\nabla E_i^{(n)}$$\n",
    "\n",
    "Where:\n",
    "- $q_i^{(n+1)}$ is the updated coordinate for atom $i$ at iteration $n+1$.\n",
    "- $q_i^{(n)}$ is the current coordinate for atom $i$ at iteration $n$.\n",
    "- $\\alpha$ is the step size (learning rate) that controls the step size in the direction of the negative gradient.\n",
    "- $\\nabla E_i^{(n)}$ is the energy gradient for coordinate $q_i$ at iteration $n$.\n",
    "\n",
    "This iterative process continues until a local minimum is reached, where the energy gradient becomes nearly zero, indicating a stable conformation."
   ]
  },
  {
   "cell_type": "markdown",
   "id": "6fa07bb1",
   "metadata": {},
   "source": [
    "In the following section, we will optimize the geometry of a distorted cyclohexane molecule:"
   ]
  },
  {
   "cell_type": "markdown",
   "id": "349b5dda",
   "metadata": {},
   "source": [
    "First, we optimize with UFF:"
   ]
  },
  {
   "cell_type": "code",
   "execution_count": 8,
   "id": "2a342bb8",
   "metadata": {},
   "outputs": [
    {
     "data": {
      "application/3dmoljs_load.v0": "<div id=\"3dmolviewer_17174838508582964\"  style=\"position: relative; width: 800px; height: 400px;\">\n        <p id=\"3dmolwarning_17174838508582964\" style=\"background-color:#ffcccc;color:black\">3Dmol.js failed to load for some reason.  Please check your browser console for error messages.<br></p>\n        </div>\n<script>\n\nvar loadScriptAsync = function(uri){\n  return new Promise((resolve, reject) => {\n    //this is to ignore the existence of requirejs amd\n    var savedexports, savedmodule;\n    if (typeof exports !== 'undefined') savedexports = exports;\n    else exports = {}\n    if (typeof module !== 'undefined') savedmodule = module;\n    else module = {}\n\n    var tag = document.createElement('script');\n    tag.src = uri;\n    tag.async = true;\n    tag.onload = () => {\n        exports = savedexports;\n        module = savedmodule;\n        resolve();\n    };\n  var firstScriptTag = document.getElementsByTagName('script')[0];\n  firstScriptTag.parentNode.insertBefore(tag, firstScriptTag);\n});\n};\n\nif(typeof $3Dmolpromise === 'undefined') {\n$3Dmolpromise = null;\n  $3Dmolpromise = loadScriptAsync('https://cdnjs.cloudflare.com/ajax/libs/3Dmol/2.1.0/3Dmol-min.js');\n}\n\nvar viewer_17174838508582964 = null;\nvar warn = document.getElementById(\"3dmolwarning_17174838508582964\");\nif(warn) {\n    warn.parentNode.removeChild(warn);\n}\n$3Dmolpromise.then(function() {\nviewer_17174838508582964 = $3Dmol.createViewer(document.getElementById(\"3dmolviewer_17174838508582964\"),{backgroundColor:\"white\"});\nviewer_17174838508582964.zoomTo();\n\tviewer_17174838508582964.addModel(\"\\n     RDKit          3D\\n\\n 18 18  0  0  0  0  0  0  0  0999 V2000\\n   -0.5369    1.2935    0.2822 C   0  0  0  0  0  0  0  0  0  0  0  0\\n    0.8943    1.1196   -0.0201 C   0  0  0  0  0  0  0  0  0  0  0  0\\n    1.4113   -0.2548   -0.1100 C   0  0  0  0  0  0  0  0  0  0  0  0\\n    0.4252   -1.3142   -0.4435 C   0  0  0  0  0  0  0  0  0  0  0  0\\n   -0.8572   -1.1166    0.3371 C   0  0  0  0  0  0  0  0  0  0  0  0\\n   -1.4476    0.2003   -0.1422 C   0  0  0  0  0  0  0  0  0  0  0  0\\n   -0.8977    2.2420   -0.1959 H   0  0  0  0  0  0  0  0  0  0  0  0\\n   -0.6882    1.4619    1.3847 H   0  0  0  0  0  0  0  0  0  0  0  0\\n    1.1511    1.6826   -0.9650 H   0  0  0  0  0  0  0  0  0  0  0  0\\n    1.4862    1.6643    0.7748 H   0  0  0  0  0  0  0  0  0  0  0  0\\n    1.9456   -0.5428    0.8408 H   0  0  0  0  0  0  0  0  0  0  0  0\\n    2.2252   -0.2983   -0.8919 H   0  0  0  0  0  0  0  0  0  0  0  0\\n    0.2400   -1.3900   -1.5396 H   0  0  0  0  0  0  0  0  0  0  0  0\\n    0.8482   -2.2942   -0.0855 H   0  0  0  0  0  0  0  0  0  0  0  0\\n   -1.5226   -1.9684    0.1900 H   0  0  0  0  0  0  0  0  0  0  0  0\\n   -0.5730   -0.9895    1.3932 H   0  0  0  0  0  0  0  0  0  0  0  0\\n   -1.6908    0.1887   -1.2183 H   0  0  0  0  0  0  0  0  0  0  0  0\\n   -2.4132    0.3158    0.4093 H   0  0  0  0  0  0  0  0  0  0  0  0\\n  1  2  1  0\\n  2  3  1  0\\n  3  4  1  0\\n  4  5  1  0\\n  5  6  1  0\\n  6  1  1  0\\n  1  7  1  0\\n  1  8  1  0\\n  2  9  1  0\\n  2 10  1  0\\n  3 11  1  0\\n  3 12  1  0\\n  4 13  1  0\\n  4 14  1  0\\n  5 15  1  0\\n  5 16  1  0\\n  6 17  1  0\\n  6 18  1  0\\nM  END\\n\",\"molecule\",{\"keepH\": true});\n\tviewer_17174838508582964.setBackgroundColor(\"white\");\n\tviewer_17174838508582964.setStyle({\"stick\": {\"scale\": 0.3}, \"sphere\": {\"scale\": 0.3}});\n\tviewer_17174838508582964.zoomTo();\nviewer_17174838508582964.render();\n});\n</script>",
      "text/html": [
       "<div id=\"3dmolviewer_17174838508582964\"  style=\"position: relative; width: 800px; height: 400px;\">\n",
       "        <p id=\"3dmolwarning_17174838508582964\" style=\"background-color:#ffcccc;color:black\">3Dmol.js failed to load for some reason.  Please check your browser console for error messages.<br></p>\n",
       "        </div>\n",
       "<script>\n",
       "\n",
       "var loadScriptAsync = function(uri){\n",
       "  return new Promise((resolve, reject) => {\n",
       "    //this is to ignore the existence of requirejs amd\n",
       "    var savedexports, savedmodule;\n",
       "    if (typeof exports !== 'undefined') savedexports = exports;\n",
       "    else exports = {}\n",
       "    if (typeof module !== 'undefined') savedmodule = module;\n",
       "    else module = {}\n",
       "\n",
       "    var tag = document.createElement('script');\n",
       "    tag.src = uri;\n",
       "    tag.async = true;\n",
       "    tag.onload = () => {\n",
       "        exports = savedexports;\n",
       "        module = savedmodule;\n",
       "        resolve();\n",
       "    };\n",
       "  var firstScriptTag = document.getElementsByTagName('script')[0];\n",
       "  firstScriptTag.parentNode.insertBefore(tag, firstScriptTag);\n",
       "});\n",
       "};\n",
       "\n",
       "if(typeof $3Dmolpromise === 'undefined') {\n",
       "$3Dmolpromise = null;\n",
       "  $3Dmolpromise = loadScriptAsync('https://cdnjs.cloudflare.com/ajax/libs/3Dmol/2.1.0/3Dmol-min.js');\n",
       "}\n",
       "\n",
       "var viewer_17174838508582964 = null;\n",
       "var warn = document.getElementById(\"3dmolwarning_17174838508582964\");\n",
       "if(warn) {\n",
       "    warn.parentNode.removeChild(warn);\n",
       "}\n",
       "$3Dmolpromise.then(function() {\n",
       "viewer_17174838508582964 = $3Dmol.createViewer(document.getElementById(\"3dmolviewer_17174838508582964\"),{backgroundColor:\"white\"});\n",
       "viewer_17174838508582964.zoomTo();\n",
       "\tviewer_17174838508582964.addModel(\"\\n     RDKit          3D\\n\\n 18 18  0  0  0  0  0  0  0  0999 V2000\\n   -0.5369    1.2935    0.2822 C   0  0  0  0  0  0  0  0  0  0  0  0\\n    0.8943    1.1196   -0.0201 C   0  0  0  0  0  0  0  0  0  0  0  0\\n    1.4113   -0.2548   -0.1100 C   0  0  0  0  0  0  0  0  0  0  0  0\\n    0.4252   -1.3142   -0.4435 C   0  0  0  0  0  0  0  0  0  0  0  0\\n   -0.8572   -1.1166    0.3371 C   0  0  0  0  0  0  0  0  0  0  0  0\\n   -1.4476    0.2003   -0.1422 C   0  0  0  0  0  0  0  0  0  0  0  0\\n   -0.8977    2.2420   -0.1959 H   0  0  0  0  0  0  0  0  0  0  0  0\\n   -0.6882    1.4619    1.3847 H   0  0  0  0  0  0  0  0  0  0  0  0\\n    1.1511    1.6826   -0.9650 H   0  0  0  0  0  0  0  0  0  0  0  0\\n    1.4862    1.6643    0.7748 H   0  0  0  0  0  0  0  0  0  0  0  0\\n    1.9456   -0.5428    0.8408 H   0  0  0  0  0  0  0  0  0  0  0  0\\n    2.2252   -0.2983   -0.8919 H   0  0  0  0  0  0  0  0  0  0  0  0\\n    0.2400   -1.3900   -1.5396 H   0  0  0  0  0  0  0  0  0  0  0  0\\n    0.8482   -2.2942   -0.0855 H   0  0  0  0  0  0  0  0  0  0  0  0\\n   -1.5226   -1.9684    0.1900 H   0  0  0  0  0  0  0  0  0  0  0  0\\n   -0.5730   -0.9895    1.3932 H   0  0  0  0  0  0  0  0  0  0  0  0\\n   -1.6908    0.1887   -1.2183 H   0  0  0  0  0  0  0  0  0  0  0  0\\n   -2.4132    0.3158    0.4093 H   0  0  0  0  0  0  0  0  0  0  0  0\\n  1  2  1  0\\n  2  3  1  0\\n  3  4  1  0\\n  4  5  1  0\\n  5  6  1  0\\n  6  1  1  0\\n  1  7  1  0\\n  1  8  1  0\\n  2  9  1  0\\n  2 10  1  0\\n  3 11  1  0\\n  3 12  1  0\\n  4 13  1  0\\n  4 14  1  0\\n  5 15  1  0\\n  5 16  1  0\\n  6 17  1  0\\n  6 18  1  0\\nM  END\\n\",\"molecule\",{\"keepH\": true});\n",
       "\tviewer_17174838508582964.setBackgroundColor(\"white\");\n",
       "\tviewer_17174838508582964.setStyle({\"stick\": {\"scale\": 0.3}, \"sphere\": {\"scale\": 0.3}});\n",
       "\tviewer_17174838508582964.zoomTo();\n",
       "viewer_17174838508582964.render();\n",
       "});\n",
       "</script>"
      ]
     },
     "metadata": {},
     "output_type": "display_data"
    }
   ],
   "source": [
    "# Create an RDKit molecule from the XYZ string\n",
    "cyclohexane_smiles = 'C1CCCCC1'\n",
    "cyclohexane_mol = Chem.MolFromSmiles(cyclohexane_smiles)\n",
    "\n",
    "# Prepare the molecule\n",
    "cyclohexane_mol = Chem.AddHs(cyclohexane_mol)\n",
    "AllChem.EmbedMolecule(cyclohexane_mol)\n",
    "\n",
    "# Visualize the molecule with Py3DMol before optimization\n",
    "View3DModel(cyclohexane_mol)"
   ]
  },
  {
   "cell_type": "code",
   "execution_count": 9,
   "id": "b9e174f4",
   "metadata": {},
   "outputs": [
    {
     "name": "stdout",
     "output_type": "stream",
     "text": [
      "26.732977369515332\n"
     ]
    }
   ],
   "source": [
    "# Generate a UFF force field object\n",
    "uff = Chem.rdForceFieldHelpers.UFFGetMoleculeForceField(cyclohexane_mol)\n",
    "\n",
    "# Calculate the energy total energy before optimization\n",
    "total_energy = uff.CalcEnergy()\n",
    "print(total_energy)"
   ]
  },
  {
   "cell_type": "code",
   "execution_count": 10,
   "id": "cf7566ea",
   "metadata": {},
   "outputs": [
    {
     "name": "stdout",
     "output_type": "stream",
     "text": [
      "6.517950148176748\n"
     ]
    },
    {
     "data": {
      "application/3dmoljs_load.v0": "<div id=\"3dmolviewer_17174838528944192\"  style=\"position: relative; width: 800px; height: 400px;\">\n        <p id=\"3dmolwarning_17174838528944192\" style=\"background-color:#ffcccc;color:black\">3Dmol.js failed to load for some reason.  Please check your browser console for error messages.<br></p>\n        </div>\n<script>\n\nvar loadScriptAsync = function(uri){\n  return new Promise((resolve, reject) => {\n    //this is to ignore the existence of requirejs amd\n    var savedexports, savedmodule;\n    if (typeof exports !== 'undefined') savedexports = exports;\n    else exports = {}\n    if (typeof module !== 'undefined') savedmodule = module;\n    else module = {}\n\n    var tag = document.createElement('script');\n    tag.src = uri;\n    tag.async = true;\n    tag.onload = () => {\n        exports = savedexports;\n        module = savedmodule;\n        resolve();\n    };\n  var firstScriptTag = document.getElementsByTagName('script')[0];\n  firstScriptTag.parentNode.insertBefore(tag, firstScriptTag);\n});\n};\n\nif(typeof $3Dmolpromise === 'undefined') {\n$3Dmolpromise = null;\n  $3Dmolpromise = loadScriptAsync('https://cdnjs.cloudflare.com/ajax/libs/3Dmol/2.1.0/3Dmol-min.js');\n}\n\nvar viewer_17174838528944192 = null;\nvar warn = document.getElementById(\"3dmolwarning_17174838528944192\");\nif(warn) {\n    warn.parentNode.removeChild(warn);\n}\n$3Dmolpromise.then(function() {\nviewer_17174838528944192 = $3Dmol.createViewer(document.getElementById(\"3dmolviewer_17174838528944192\"),{backgroundColor:\"white\"});\nviewer_17174838528944192.zoomTo();\n\tviewer_17174838528944192.addModel(\"\\n     RDKit          3D\\n\\n 18 18  0  0  0  0  0  0  0  0999 V2000\\n   -0.4927    1.3274    0.4269 C   0  0  0  0  0  0  0  0  0  0  0  0\\n    0.8939    1.1597   -0.2072 C   0  0  0  0  0  0  0  0  0  0  0  0\\n    1.4577   -0.2408    0.0643 C   0  0  0  0  0  0  0  0  0  0  0  0\\n    0.4927   -1.3274   -0.4269 C   0  0  0  0  0  0  0  0  0  0  0  0\\n   -0.8939   -1.1597    0.2072 C   0  0  0  0  0  0  0  0  0  0  0  0\\n   -1.4577    0.2408   -0.0643 C   0  0  0  0  0  0  0  0  0  0  0  0\\n   -0.8994    2.3268    0.1610 H   0  0  0  0  0  0  0  0  0  0  0  0\\n   -0.4055    1.2765    1.5346 H   0  0  0  0  0  0  0  0  0  0  0  0\\n    0.8258    1.3287   -1.3045 H   0  0  0  0  0  0  0  0  0  0  0  0\\n    1.5847    1.9214    0.2142 H   0  0  0  0  0  0  0  0  0  0  0  0\\n    1.6375   -0.3661    1.1548 H   0  0  0  0  0  0  0  0  0  0  0  0\\n    2.4320   -0.3518   -0.4584 H   0  0  0  0  0  0  0  0  0  0  0  0\\n    0.4055   -1.2765   -1.5346 H   0  0  0  0  0  0  0  0  0  0  0  0\\n    0.8994   -2.3268   -0.1610 H   0  0  0  0  0  0  0  0  0  0  0  0\\n   -1.5847   -1.9214   -0.2142 H   0  0  0  0  0  0  0  0  0  0  0  0\\n   -0.8258   -1.3287    1.3045 H   0  0  0  0  0  0  0  0  0  0  0  0\\n   -1.6375    0.3661   -1.1548 H   0  0  0  0  0  0  0  0  0  0  0  0\\n   -2.4320    0.3518    0.4584 H   0  0  0  0  0  0  0  0  0  0  0  0\\n  1  2  1  0\\n  2  3  1  0\\n  3  4  1  0\\n  4  5  1  0\\n  5  6  1  0\\n  6  1  1  0\\n  1  7  1  0\\n  1  8  1  0\\n  2  9  1  0\\n  2 10  1  0\\n  3 11  1  0\\n  3 12  1  0\\n  4 13  1  0\\n  4 14  1  0\\n  5 15  1  0\\n  5 16  1  0\\n  6 17  1  0\\n  6 18  1  0\\nM  END\\n\",\"molecule\",{\"keepH\": true});\n\tviewer_17174838528944192.setBackgroundColor(\"white\");\n\tviewer_17174838528944192.setStyle({\"stick\": {\"scale\": 0.3}, \"sphere\": {\"scale\": 0.3}});\n\tviewer_17174838528944192.zoomTo();\nviewer_17174838528944192.render();\n});\n</script>",
      "text/html": [
       "<div id=\"3dmolviewer_17174838528944192\"  style=\"position: relative; width: 800px; height: 400px;\">\n",
       "        <p id=\"3dmolwarning_17174838528944192\" style=\"background-color:#ffcccc;color:black\">3Dmol.js failed to load for some reason.  Please check your browser console for error messages.<br></p>\n",
       "        </div>\n",
       "<script>\n",
       "\n",
       "var loadScriptAsync = function(uri){\n",
       "  return new Promise((resolve, reject) => {\n",
       "    //this is to ignore the existence of requirejs amd\n",
       "    var savedexports, savedmodule;\n",
       "    if (typeof exports !== 'undefined') savedexports = exports;\n",
       "    else exports = {}\n",
       "    if (typeof module !== 'undefined') savedmodule = module;\n",
       "    else module = {}\n",
       "\n",
       "    var tag = document.createElement('script');\n",
       "    tag.src = uri;\n",
       "    tag.async = true;\n",
       "    tag.onload = () => {\n",
       "        exports = savedexports;\n",
       "        module = savedmodule;\n",
       "        resolve();\n",
       "    };\n",
       "  var firstScriptTag = document.getElementsByTagName('script')[0];\n",
       "  firstScriptTag.parentNode.insertBefore(tag, firstScriptTag);\n",
       "});\n",
       "};\n",
       "\n",
       "if(typeof $3Dmolpromise === 'undefined') {\n",
       "$3Dmolpromise = null;\n",
       "  $3Dmolpromise = loadScriptAsync('https://cdnjs.cloudflare.com/ajax/libs/3Dmol/2.1.0/3Dmol-min.js');\n",
       "}\n",
       "\n",
       "var viewer_17174838528944192 = null;\n",
       "var warn = document.getElementById(\"3dmolwarning_17174838528944192\");\n",
       "if(warn) {\n",
       "    warn.parentNode.removeChild(warn);\n",
       "}\n",
       "$3Dmolpromise.then(function() {\n",
       "viewer_17174838528944192 = $3Dmol.createViewer(document.getElementById(\"3dmolviewer_17174838528944192\"),{backgroundColor:\"white\"});\n",
       "viewer_17174838528944192.zoomTo();\n",
       "\tviewer_17174838528944192.addModel(\"\\n     RDKit          3D\\n\\n 18 18  0  0  0  0  0  0  0  0999 V2000\\n   -0.4927    1.3274    0.4269 C   0  0  0  0  0  0  0  0  0  0  0  0\\n    0.8939    1.1597   -0.2072 C   0  0  0  0  0  0  0  0  0  0  0  0\\n    1.4577   -0.2408    0.0643 C   0  0  0  0  0  0  0  0  0  0  0  0\\n    0.4927   -1.3274   -0.4269 C   0  0  0  0  0  0  0  0  0  0  0  0\\n   -0.8939   -1.1597    0.2072 C   0  0  0  0  0  0  0  0  0  0  0  0\\n   -1.4577    0.2408   -0.0643 C   0  0  0  0  0  0  0  0  0  0  0  0\\n   -0.8994    2.3268    0.1610 H   0  0  0  0  0  0  0  0  0  0  0  0\\n   -0.4055    1.2765    1.5346 H   0  0  0  0  0  0  0  0  0  0  0  0\\n    0.8258    1.3287   -1.3045 H   0  0  0  0  0  0  0  0  0  0  0  0\\n    1.5847    1.9214    0.2142 H   0  0  0  0  0  0  0  0  0  0  0  0\\n    1.6375   -0.3661    1.1548 H   0  0  0  0  0  0  0  0  0  0  0  0\\n    2.4320   -0.3518   -0.4584 H   0  0  0  0  0  0  0  0  0  0  0  0\\n    0.4055   -1.2765   -1.5346 H   0  0  0  0  0  0  0  0  0  0  0  0\\n    0.8994   -2.3268   -0.1610 H   0  0  0  0  0  0  0  0  0  0  0  0\\n   -1.5847   -1.9214   -0.2142 H   0  0  0  0  0  0  0  0  0  0  0  0\\n   -0.8258   -1.3287    1.3045 H   0  0  0  0  0  0  0  0  0  0  0  0\\n   -1.6375    0.3661   -1.1548 H   0  0  0  0  0  0  0  0  0  0  0  0\\n   -2.4320    0.3518    0.4584 H   0  0  0  0  0  0  0  0  0  0  0  0\\n  1  2  1  0\\n  2  3  1  0\\n  3  4  1  0\\n  4  5  1  0\\n  5  6  1  0\\n  6  1  1  0\\n  1  7  1  0\\n  1  8  1  0\\n  2  9  1  0\\n  2 10  1  0\\n  3 11  1  0\\n  3 12  1  0\\n  4 13  1  0\\n  4 14  1  0\\n  5 15  1  0\\n  5 16  1  0\\n  6 17  1  0\\n  6 18  1  0\\nM  END\\n\",\"molecule\",{\"keepH\": true});\n",
       "\tviewer_17174838528944192.setBackgroundColor(\"white\");\n",
       "\tviewer_17174838528944192.setStyle({\"stick\": {\"scale\": 0.3}, \"sphere\": {\"scale\": 0.3}});\n",
       "\tviewer_17174838528944192.zoomTo();\n",
       "viewer_17174838528944192.render();\n",
       "});\n",
       "</script>"
      ]
     },
     "metadata": {},
     "output_type": "display_data"
    }
   ],
   "source": [
    "# Optimize the molecule\n",
    "opt_result = Chem.rdForceFieldHelpers.UFFOptimizeMoleculeConfs(cyclohexane_mol, maxIters=100)\n",
    "\n",
    "# Print out the optimized energy\n",
    "print(opt_result[-1][1])\n",
    "\n",
    "# Visualize the molecule with Py3DMol after optimization\n",
    "View3DModel(cyclohexane_mol)"
   ]
  },
  {
   "cell_type": "markdown",
   "id": "e8e0f0fe",
   "metadata": {},
   "source": [
    "Next, we will optimize glucose molecule with MMFF:"
   ]
  },
  {
   "cell_type": "code",
   "execution_count": 11,
   "id": "66faa96b",
   "metadata": {},
   "outputs": [
    {
     "data": {
      "application/3dmoljs_load.v0": "<div id=\"3dmolviewer_1717483858215858\"  style=\"position: relative; width: 800px; height: 400px;\">\n        <p id=\"3dmolwarning_1717483858215858\" style=\"background-color:#ffcccc;color:black\">3Dmol.js failed to load for some reason.  Please check your browser console for error messages.<br></p>\n        </div>\n<script>\n\nvar loadScriptAsync = function(uri){\n  return new Promise((resolve, reject) => {\n    //this is to ignore the existence of requirejs amd\n    var savedexports, savedmodule;\n    if (typeof exports !== 'undefined') savedexports = exports;\n    else exports = {}\n    if (typeof module !== 'undefined') savedmodule = module;\n    else module = {}\n\n    var tag = document.createElement('script');\n    tag.src = uri;\n    tag.async = true;\n    tag.onload = () => {\n        exports = savedexports;\n        module = savedmodule;\n        resolve();\n    };\n  var firstScriptTag = document.getElementsByTagName('script')[0];\n  firstScriptTag.parentNode.insertBefore(tag, firstScriptTag);\n});\n};\n\nif(typeof $3Dmolpromise === 'undefined') {\n$3Dmolpromise = null;\n  $3Dmolpromise = loadScriptAsync('https://cdnjs.cloudflare.com/ajax/libs/3Dmol/2.1.0/3Dmol-min.js');\n}\n\nvar viewer_1717483858215858 = null;\nvar warn = document.getElementById(\"3dmolwarning_1717483858215858\");\nif(warn) {\n    warn.parentNode.removeChild(warn);\n}\n$3Dmolpromise.then(function() {\nviewer_1717483858215858 = $3Dmol.createViewer(document.getElementById(\"3dmolviewer_1717483858215858\"),{backgroundColor:\"white\"});\nviewer_1717483858215858.zoomTo();\n\tviewer_1717483858215858.addModel(\"\\n     RDKit          3D\\n\\n 24 24  0  0  0  0  0  0  0  0999 V2000\\n    0.6322    1.1968    0.5612 O   0  0  0  0  0  0  0  0  0  0  0  0\\n   -0.4112    1.6583   -0.1428 C   0  0  1  0  0  0  0  0  0  0  0  0\\n   -0.1781   -1.0846    0.3326 C   0  0  1  0  0  0  0  0  0  0  0  0\\n    0.8943   -0.1251    0.6169 C   0  0  1  0  0  0  0  0  0  0  0  0\\n   -0.6014   -1.7553    1.5061 O   0  0  0  0  0  0  0  0  0  0  0  0\\n   -1.3013   -0.7723   -1.7650 O   0  0  0  0  0  0  0  0  0  0  0  0\\n   -2.0946    0.9032    1.2910 O   0  0  0  0  0  0  0  0  0  0  0  0\\n    2.1153   -0.3913   -0.2786 C   0  0  0  0  0  0  0  0  0  0  0  0\\n   -0.0278    1.8672   -1.4761 O   0  0  0  0  0  0  0  0  0  0  0  0\\n   -1.6806    0.8594   -0.0422 C   0  0  2  0  0  0  0  0  0  0  0  0\\n   -1.3769   -0.5685   -0.3774 C   0  0  2  0  0  0  0  0  0  0  0  0\\n    3.2233    0.3323    0.1694 O   0  0  0  0  0  0  0  0  0  0  0  0\\n   -0.6659    2.6859    0.2472 H   0  0  0  0  0  0  0  0  0  0  0  0\\n    0.2383   -1.9184   -0.3091 H   0  0  0  0  0  0  0  0  0  0  0  0\\n    1.2776   -0.3282    1.6628 H   0  0  0  0  0  0  0  0  0  0  0  0\\n   -0.9566   -2.6380    1.2981 H   0  0  0  0  0  0  0  0  0  0  0  0\\n   -1.7916   -1.5873   -2.0481 H   0  0  0  0  0  0  0  0  0  0  0  0\\n   -1.2942    0.7320    1.8398 H   0  0  0  0  0  0  0  0  0  0  0  0\\n    2.3543   -1.4744   -0.2927 H   0  0  0  0  0  0  0  0  0  0  0  0\\n    1.8898   -0.0904   -1.3140 H   0  0  0  0  0  0  0  0  0  0  0  0\\n    0.6448    2.6169   -1.4466 H   0  0  0  0  0  0  0  0  0  0  0  0\\n   -2.4351    1.2927   -0.7016 H   0  0  0  0  0  0  0  0  0  0  0  0\\n   -2.2793   -1.1644   -0.0519 H   0  0  0  0  0  0  0  0  0  0  0  0\\n    3.8247   -0.2464    0.7210 H   0  0  0  0  0  0  0  0  0  0  0  0\\n  1  4  1  0\\n  1  2  1  0\\n  2  9  1  0\\n  2 10  1  0\\n  3  5  1  0\\n  3 11  1  0\\n  3  4  1  0\\n  4  8  1  0\\n  6 11  1  0\\n  7 10  1  0\\n  8 12  1  0\\n 10 11  1  0\\n  2 13  1  1\\n  3 14  1  6\\n  4 15  1  1\\n  5 16  1  0\\n  6 17  1  0\\n  7 18  1  0\\n  8 19  1  0\\n  8 20  1  0\\n  9 21  1  0\\n 10 22  1  6\\n 11 23  1  1\\n 12 24  1  0\\nM  END\\n\",\"molecule\",{\"keepH\": true});\n\tviewer_1717483858215858.setBackgroundColor(\"white\");\n\tviewer_1717483858215858.setStyle({\"stick\": {\"scale\": 0.3}, \"sphere\": {\"scale\": 0.3}});\n\tviewer_1717483858215858.zoomTo();\nviewer_1717483858215858.render();\n});\n</script>",
      "text/html": [
       "<div id=\"3dmolviewer_1717483858215858\"  style=\"position: relative; width: 800px; height: 400px;\">\n",
       "        <p id=\"3dmolwarning_1717483858215858\" style=\"background-color:#ffcccc;color:black\">3Dmol.js failed to load for some reason.  Please check your browser console for error messages.<br></p>\n",
       "        </div>\n",
       "<script>\n",
       "\n",
       "var loadScriptAsync = function(uri){\n",
       "  return new Promise((resolve, reject) => {\n",
       "    //this is to ignore the existence of requirejs amd\n",
       "    var savedexports, savedmodule;\n",
       "    if (typeof exports !== 'undefined') savedexports = exports;\n",
       "    else exports = {}\n",
       "    if (typeof module !== 'undefined') savedmodule = module;\n",
       "    else module = {}\n",
       "\n",
       "    var tag = document.createElement('script');\n",
       "    tag.src = uri;\n",
       "    tag.async = true;\n",
       "    tag.onload = () => {\n",
       "        exports = savedexports;\n",
       "        module = savedmodule;\n",
       "        resolve();\n",
       "    };\n",
       "  var firstScriptTag = document.getElementsByTagName('script')[0];\n",
       "  firstScriptTag.parentNode.insertBefore(tag, firstScriptTag);\n",
       "});\n",
       "};\n",
       "\n",
       "if(typeof $3Dmolpromise === 'undefined') {\n",
       "$3Dmolpromise = null;\n",
       "  $3Dmolpromise = loadScriptAsync('https://cdnjs.cloudflare.com/ajax/libs/3Dmol/2.1.0/3Dmol-min.js');\n",
       "}\n",
       "\n",
       "var viewer_1717483858215858 = null;\n",
       "var warn = document.getElementById(\"3dmolwarning_1717483858215858\");\n",
       "if(warn) {\n",
       "    warn.parentNode.removeChild(warn);\n",
       "}\n",
       "$3Dmolpromise.then(function() {\n",
       "viewer_1717483858215858 = $3Dmol.createViewer(document.getElementById(\"3dmolviewer_1717483858215858\"),{backgroundColor:\"white\"});\n",
       "viewer_1717483858215858.zoomTo();\n",
       "\tviewer_1717483858215858.addModel(\"\\n     RDKit          3D\\n\\n 24 24  0  0  0  0  0  0  0  0999 V2000\\n    0.6322    1.1968    0.5612 O   0  0  0  0  0  0  0  0  0  0  0  0\\n   -0.4112    1.6583   -0.1428 C   0  0  1  0  0  0  0  0  0  0  0  0\\n   -0.1781   -1.0846    0.3326 C   0  0  1  0  0  0  0  0  0  0  0  0\\n    0.8943   -0.1251    0.6169 C   0  0  1  0  0  0  0  0  0  0  0  0\\n   -0.6014   -1.7553    1.5061 O   0  0  0  0  0  0  0  0  0  0  0  0\\n   -1.3013   -0.7723   -1.7650 O   0  0  0  0  0  0  0  0  0  0  0  0\\n   -2.0946    0.9032    1.2910 O   0  0  0  0  0  0  0  0  0  0  0  0\\n    2.1153   -0.3913   -0.2786 C   0  0  0  0  0  0  0  0  0  0  0  0\\n   -0.0278    1.8672   -1.4761 O   0  0  0  0  0  0  0  0  0  0  0  0\\n   -1.6806    0.8594   -0.0422 C   0  0  2  0  0  0  0  0  0  0  0  0\\n   -1.3769   -0.5685   -0.3774 C   0  0  2  0  0  0  0  0  0  0  0  0\\n    3.2233    0.3323    0.1694 O   0  0  0  0  0  0  0  0  0  0  0  0\\n   -0.6659    2.6859    0.2472 H   0  0  0  0  0  0  0  0  0  0  0  0\\n    0.2383   -1.9184   -0.3091 H   0  0  0  0  0  0  0  0  0  0  0  0\\n    1.2776   -0.3282    1.6628 H   0  0  0  0  0  0  0  0  0  0  0  0\\n   -0.9566   -2.6380    1.2981 H   0  0  0  0  0  0  0  0  0  0  0  0\\n   -1.7916   -1.5873   -2.0481 H   0  0  0  0  0  0  0  0  0  0  0  0\\n   -1.2942    0.7320    1.8398 H   0  0  0  0  0  0  0  0  0  0  0  0\\n    2.3543   -1.4744   -0.2927 H   0  0  0  0  0  0  0  0  0  0  0  0\\n    1.8898   -0.0904   -1.3140 H   0  0  0  0  0  0  0  0  0  0  0  0\\n    0.6448    2.6169   -1.4466 H   0  0  0  0  0  0  0  0  0  0  0  0\\n   -2.4351    1.2927   -0.7016 H   0  0  0  0  0  0  0  0  0  0  0  0\\n   -2.2793   -1.1644   -0.0519 H   0  0  0  0  0  0  0  0  0  0  0  0\\n    3.8247   -0.2464    0.7210 H   0  0  0  0  0  0  0  0  0  0  0  0\\n  1  4  1  0\\n  1  2  1  0\\n  2  9  1  0\\n  2 10  1  0\\n  3  5  1  0\\n  3 11  1  0\\n  3  4  1  0\\n  4  8  1  0\\n  6 11  1  0\\n  7 10  1  0\\n  8 12  1  0\\n 10 11  1  0\\n  2 13  1  1\\n  3 14  1  6\\n  4 15  1  1\\n  5 16  1  0\\n  6 17  1  0\\n  7 18  1  0\\n  8 19  1  0\\n  8 20  1  0\\n  9 21  1  0\\n 10 22  1  6\\n 11 23  1  1\\n 12 24  1  0\\nM  END\\n\",\"molecule\",{\"keepH\": true});\n",
       "\tviewer_1717483858215858.setBackgroundColor(\"white\");\n",
       "\tviewer_1717483858215858.setStyle({\"stick\": {\"scale\": 0.3}, \"sphere\": {\"scale\": 0.3}});\n",
       "\tviewer_1717483858215858.zoomTo();\n",
       "viewer_1717483858215858.render();\n",
       "});\n",
       "</script>"
      ]
     },
     "metadata": {},
     "output_type": "display_data"
    }
   ],
   "source": [
    "# Create an RDKit molecule from file\n",
    "glucose_mol = Chem.MolFromPDBFile('.\\\\structures\\\\glucose.pdb')\n",
    "\n",
    "# Prepare the molecule\n",
    "glucose_mol = Chem.AddHs(glucose_mol)\n",
    "AllChem.EmbedMolecule(glucose_mol)\n",
    "\n",
    "# Visualize the molecule with Py3DMol before optimization\n",
    "View3DModel(glucose_mol)"
   ]
  },
  {
   "cell_type": "code",
   "execution_count": 12,
   "id": "708012aa",
   "metadata": {},
   "outputs": [
    {
     "name": "stdout",
     "output_type": "stream",
     "text": [
      "127.25381018693749\n"
     ]
    }
   ],
   "source": [
    "# Generate a MMFF force field object\n",
    "mol_properties = Chem.rdForceFieldHelpers.MMFFGetMoleculeProperties(glucose_mol)\n",
    "mmff = Chem.rdForceFieldHelpers.MMFFGetMoleculeForceField(glucose_mol, mol_properties)\n",
    "\n",
    "# Calculate the energy total energy before optimization\n",
    "total_energy = mmff.CalcEnergy()\n",
    "print(total_energy)"
   ]
  },
  {
   "cell_type": "code",
   "execution_count": 13,
   "id": "0a6682d3",
   "metadata": {
    "scrolled": true
   },
   "outputs": [
    {
     "name": "stdout",
     "output_type": "stream",
     "text": [
      "93.63339665309343\n"
     ]
    },
    {
     "data": {
      "application/3dmoljs_load.v0": "<div id=\"3dmolviewer_17174838602508917\"  style=\"position: relative; width: 800px; height: 400px;\">\n        <p id=\"3dmolwarning_17174838602508917\" style=\"background-color:#ffcccc;color:black\">3Dmol.js failed to load for some reason.  Please check your browser console for error messages.<br></p>\n        </div>\n<script>\n\nvar loadScriptAsync = function(uri){\n  return new Promise((resolve, reject) => {\n    //this is to ignore the existence of requirejs amd\n    var savedexports, savedmodule;\n    if (typeof exports !== 'undefined') savedexports = exports;\n    else exports = {}\n    if (typeof module !== 'undefined') savedmodule = module;\n    else module = {}\n\n    var tag = document.createElement('script');\n    tag.src = uri;\n    tag.async = true;\n    tag.onload = () => {\n        exports = savedexports;\n        module = savedmodule;\n        resolve();\n    };\n  var firstScriptTag = document.getElementsByTagName('script')[0];\n  firstScriptTag.parentNode.insertBefore(tag, firstScriptTag);\n});\n};\n\nif(typeof $3Dmolpromise === 'undefined') {\n$3Dmolpromise = null;\n  $3Dmolpromise = loadScriptAsync('https://cdnjs.cloudflare.com/ajax/libs/3Dmol/2.1.0/3Dmol-min.js');\n}\n\nvar viewer_17174838602508917 = null;\nvar warn = document.getElementById(\"3dmolwarning_17174838602508917\");\nif(warn) {\n    warn.parentNode.removeChild(warn);\n}\n$3Dmolpromise.then(function() {\nviewer_17174838602508917 = $3Dmol.createViewer(document.getElementById(\"3dmolviewer_17174838602508917\"),{backgroundColor:\"white\"});\nviewer_17174838602508917.zoomTo();\n\tviewer_17174838602508917.addModel(\"\\n     RDKit          3D\\n\\n 24 24  0  0  0  0  0  0  0  0999 V2000\\n    0.4858    1.2599    0.6038 O   0  0  0  0  0  0  0  0  0  0  0  0\\n   -0.7771    1.4117   -0.0401 C   0  0  1  0  0  0  0  0  0  0  0  0\\n    0.2821   -1.2125    0.6502 C   0  0  1  0  0  0  0  0  0  0  0  0\\n    1.1713    0.0139    0.3751 C   0  0  1  0  0  0  0  0  0  0  0  0\\n    0.0581   -1.2801    2.0729 O   0  0  0  0  0  0  0  0  0  0  0  0\\n   -0.8999   -1.3439   -1.4520 O   0  0  0  0  0  0  0  0  0  0  0  0\\n   -2.1515    0.2828    1.6389 O   0  0  0  0  0  0  0  0  0  0  0  0\\n    1.8694   -0.0075   -0.9953 C   0  0  0  0  0  0  0  0  0  0  0  0\\n   -0.6102    1.5576   -1.4385 O   0  0  0  0  0  0  0  0  0  0  0  0\\n   -1.7407    0.2477    0.2632 C   0  0  2  0  0  0  0  0  0  0  0  0\\n   -1.0772   -1.1069   -0.0560 C   0  0  2  0  0  0  0  0  0  0  0  0\\n    2.7176    1.1357   -1.1582 O   0  0  0  0  0  0  0  0  0  0  0  0\\n   -1.2135    2.3405    0.3435 H   0  0  0  0  0  0  0  0  0  0  0  0\\n    0.8131   -2.1252    0.3553 H   0  0  0  0  0  0  0  0  0  0  0  0\\n    1.9696    0.0196    1.1289 H   0  0  0  0  0  0  0  0  0  0  0  0\\n   -0.2885   -2.1686    2.2792 H   0  0  0  0  0  0  0  0  0  0  0  0\\n   -1.3560   -0.6292   -1.9553 H   0  0  0  0  0  0  0  0  0  0  0  0\\n   -1.3392    0.1427    2.1699 H   0  0  0  0  0  0  0  0  0  0  0  0\\n    2.4952   -0.9037   -1.0871 H   0  0  0  0  0  0  0  0  0  0  0  0\\n    1.1761   -0.0000   -1.8409 H   0  0  0  0  0  0  0  0  0  0  0  0\\n   -0.0210    2.3351   -1.5428 H   0  0  0  0  0  0  0  0  0  0  0  0\\n   -2.6414    0.3623   -0.3518 H   0  0  0  0  0  0  0  0  0  0  0  0\\n   -1.7298   -1.9025    0.3232 H   0  0  0  0  0  0  0  0  0  0  0  0\\n    2.8075    1.5705   -0.2860 H   0  0  0  0  0  0  0  0  0  0  0  0\\n  1  4  1  0\\n  1  2  1  0\\n  2  9  1  0\\n  2 10  1  0\\n  3  5  1  0\\n  3 11  1  0\\n  3  4  1  0\\n  4  8  1  0\\n  6 11  1  0\\n  7 10  1  0\\n  8 12  1  0\\n 10 11  1  0\\n  2 13  1  1\\n  3 14  1  6\\n  4 15  1  1\\n  5 16  1  0\\n  6 17  1  0\\n  7 18  1  0\\n  8 19  1  0\\n  8 20  1  0\\n  9 21  1  0\\n 10 22  1  6\\n 11 23  1  1\\n 12 24  1  0\\nM  END\\n\",\"molecule\",{\"keepH\": true});\n\tviewer_17174838602508917.setBackgroundColor(\"white\");\n\tviewer_17174838602508917.setStyle({\"stick\": {\"scale\": 0.3}, \"sphere\": {\"scale\": 0.3}});\n\tviewer_17174838602508917.zoomTo();\nviewer_17174838602508917.render();\n});\n</script>",
      "text/html": [
       "<div id=\"3dmolviewer_17174838602508917\"  style=\"position: relative; width: 800px; height: 400px;\">\n",
       "        <p id=\"3dmolwarning_17174838602508917\" style=\"background-color:#ffcccc;color:black\">3Dmol.js failed to load for some reason.  Please check your browser console for error messages.<br></p>\n",
       "        </div>\n",
       "<script>\n",
       "\n",
       "var loadScriptAsync = function(uri){\n",
       "  return new Promise((resolve, reject) => {\n",
       "    //this is to ignore the existence of requirejs amd\n",
       "    var savedexports, savedmodule;\n",
       "    if (typeof exports !== 'undefined') savedexports = exports;\n",
       "    else exports = {}\n",
       "    if (typeof module !== 'undefined') savedmodule = module;\n",
       "    else module = {}\n",
       "\n",
       "    var tag = document.createElement('script');\n",
       "    tag.src = uri;\n",
       "    tag.async = true;\n",
       "    tag.onload = () => {\n",
       "        exports = savedexports;\n",
       "        module = savedmodule;\n",
       "        resolve();\n",
       "    };\n",
       "  var firstScriptTag = document.getElementsByTagName('script')[0];\n",
       "  firstScriptTag.parentNode.insertBefore(tag, firstScriptTag);\n",
       "});\n",
       "};\n",
       "\n",
       "if(typeof $3Dmolpromise === 'undefined') {\n",
       "$3Dmolpromise = null;\n",
       "  $3Dmolpromise = loadScriptAsync('https://cdnjs.cloudflare.com/ajax/libs/3Dmol/2.1.0/3Dmol-min.js');\n",
       "}\n",
       "\n",
       "var viewer_17174838602508917 = null;\n",
       "var warn = document.getElementById(\"3dmolwarning_17174838602508917\");\n",
       "if(warn) {\n",
       "    warn.parentNode.removeChild(warn);\n",
       "}\n",
       "$3Dmolpromise.then(function() {\n",
       "viewer_17174838602508917 = $3Dmol.createViewer(document.getElementById(\"3dmolviewer_17174838602508917\"),{backgroundColor:\"white\"});\n",
       "viewer_17174838602508917.zoomTo();\n",
       "\tviewer_17174838602508917.addModel(\"\\n     RDKit          3D\\n\\n 24 24  0  0  0  0  0  0  0  0999 V2000\\n    0.4858    1.2599    0.6038 O   0  0  0  0  0  0  0  0  0  0  0  0\\n   -0.7771    1.4117   -0.0401 C   0  0  1  0  0  0  0  0  0  0  0  0\\n    0.2821   -1.2125    0.6502 C   0  0  1  0  0  0  0  0  0  0  0  0\\n    1.1713    0.0139    0.3751 C   0  0  1  0  0  0  0  0  0  0  0  0\\n    0.0581   -1.2801    2.0729 O   0  0  0  0  0  0  0  0  0  0  0  0\\n   -0.8999   -1.3439   -1.4520 O   0  0  0  0  0  0  0  0  0  0  0  0\\n   -2.1515    0.2828    1.6389 O   0  0  0  0  0  0  0  0  0  0  0  0\\n    1.8694   -0.0075   -0.9953 C   0  0  0  0  0  0  0  0  0  0  0  0\\n   -0.6102    1.5576   -1.4385 O   0  0  0  0  0  0  0  0  0  0  0  0\\n   -1.7407    0.2477    0.2632 C   0  0  2  0  0  0  0  0  0  0  0  0\\n   -1.0772   -1.1069   -0.0560 C   0  0  2  0  0  0  0  0  0  0  0  0\\n    2.7176    1.1357   -1.1582 O   0  0  0  0  0  0  0  0  0  0  0  0\\n   -1.2135    2.3405    0.3435 H   0  0  0  0  0  0  0  0  0  0  0  0\\n    0.8131   -2.1252    0.3553 H   0  0  0  0  0  0  0  0  0  0  0  0\\n    1.9696    0.0196    1.1289 H   0  0  0  0  0  0  0  0  0  0  0  0\\n   -0.2885   -2.1686    2.2792 H   0  0  0  0  0  0  0  0  0  0  0  0\\n   -1.3560   -0.6292   -1.9553 H   0  0  0  0  0  0  0  0  0  0  0  0\\n   -1.3392    0.1427    2.1699 H   0  0  0  0  0  0  0  0  0  0  0  0\\n    2.4952   -0.9037   -1.0871 H   0  0  0  0  0  0  0  0  0  0  0  0\\n    1.1761   -0.0000   -1.8409 H   0  0  0  0  0  0  0  0  0  0  0  0\\n   -0.0210    2.3351   -1.5428 H   0  0  0  0  0  0  0  0  0  0  0  0\\n   -2.6414    0.3623   -0.3518 H   0  0  0  0  0  0  0  0  0  0  0  0\\n   -1.7298   -1.9025    0.3232 H   0  0  0  0  0  0  0  0  0  0  0  0\\n    2.8075    1.5705   -0.2860 H   0  0  0  0  0  0  0  0  0  0  0  0\\n  1  4  1  0\\n  1  2  1  0\\n  2  9  1  0\\n  2 10  1  0\\n  3  5  1  0\\n  3 11  1  0\\n  3  4  1  0\\n  4  8  1  0\\n  6 11  1  0\\n  7 10  1  0\\n  8 12  1  0\\n 10 11  1  0\\n  2 13  1  1\\n  3 14  1  6\\n  4 15  1  1\\n  5 16  1  0\\n  6 17  1  0\\n  7 18  1  0\\n  8 19  1  0\\n  8 20  1  0\\n  9 21  1  0\\n 10 22  1  6\\n 11 23  1  1\\n 12 24  1  0\\nM  END\\n\",\"molecule\",{\"keepH\": true});\n",
       "\tviewer_17174838602508917.setBackgroundColor(\"white\");\n",
       "\tviewer_17174838602508917.setStyle({\"stick\": {\"scale\": 0.3}, \"sphere\": {\"scale\": 0.3}});\n",
       "\tviewer_17174838602508917.zoomTo();\n",
       "viewer_17174838602508917.render();\n",
       "});\n",
       "</script>"
      ]
     },
     "metadata": {},
     "output_type": "display_data"
    }
   ],
   "source": [
    "# Optimize the molecule\n",
    "opt_result = Chem.rdForceFieldHelpers.MMFFOptimizeMoleculeConfs(glucose_mol, maxIters=100)\n",
    "\n",
    "# Print out the optimized energy\n",
    "print(opt_result[-1][1])\n",
    "\n",
    "# Visualize the molecule with Py3DMol after optimization\n",
    "View3DModel(glucose_mol)"
   ]
  },
  {
   "cell_type": "markdown",
   "id": "df49d09c",
   "metadata": {},
   "source": [
    "If you want to log the energy value and geometry for each optimization step, you can run a loop:"
   ]
  },
  {
   "cell_type": "code",
   "execution_count": 14,
   "id": "0a3f5cf1",
   "metadata": {},
   "outputs": [],
   "source": [
    "# Create an RDKit molecule from file\n",
    "glucose_mol = Chem.MolFromPDBFile('.\\\\structures\\\\glucose.pdb')\n",
    "\n",
    "# Prepare the molecule\n",
    "glucose_mol = Chem.AddHs(glucose_mol)\n",
    "AllChem.EmbedMolecule(glucose_mol)\n",
    "\n",
    "# Geometry optimization\n",
    "max_steps = 100\n",
    "steps = 5 # save geometry every 5 steps\n",
    "energy_values = []\n",
    "geometries = []\n",
    "for i in range(max_steps // steps):\n",
    "    # Optimize the molecule\n",
    "    opt_result = Chem.rdForceFieldHelpers.MMFFOptimizeMoleculeConfs(glucose_mol, maxIters=steps)\n",
    "\n",
    "    # Add the energy value to the list\n",
    "    energy_values.append(opt_result[-1][1])\n",
    "    \n",
    "    # Add the geometry to the list\n",
    "    geometries.append(Chem.MolToPDBBlock(glucose_mol))"
   ]
  },
  {
   "cell_type": "code",
   "execution_count": 15,
   "id": "6cc3f668",
   "metadata": {},
   "outputs": [
    {
     "data": {
      "text/plain": [
       "[<matplotlib.lines.Line2D at 0x1da97df16d0>]"
      ]
     },
     "execution_count": 15,
     "metadata": {},
     "output_type": "execute_result"
    },
    {
     "data": {
      "image/png": "[encoded data removed]",
      "text/plain": [
       "<Figure size 640x480 with 1 Axes>"
      ]
     },
     "metadata": {},
     "output_type": "display_data"
    }
   ],
   "source": [
    "# Show energy plot\n",
    "import matplotlib.pyplot as plt\n",
    "\n",
    "plt.plot(np.array(range(len(energy_values)))*steps,energy_values)"
   ]
  },
  {
   "cell_type": "code",
   "execution_count": 16,
   "id": "516c992b",
   "metadata": {},
   "outputs": [
    {
     "data": {
      "application/3dmoljs_load.v0": "<div id=\"3dmolviewer_17174838685946605\"  style=\"position: relative; width: 400px; height: 300px;\">\n        <p id=\"3dmolwarning_17174838685946605\" style=\"background-color:#ffcccc;color:black\">3Dmol.js failed to load for some reason.  Please check your browser console for error messages.<br></p>\n        </div>\n<script>\n\nvar loadScriptAsync = function(uri){\n  return new Promise((resolve, reject) => {\n    //this is to ignore the existence of requirejs amd\n    var savedexports, savedmodule;\n    if (typeof exports !== 'undefined') savedexports = exports;\n    else exports = {}\n    if (typeof module !== 'undefined') savedmodule = module;\n    else module = {}\n\n    var tag = document.createElement('script');\n    tag.src = uri;\n    tag.async = true;\n    tag.onload = () => {\n        exports = savedexports;\n        module = savedmodule;\n        resolve();\n    };\n  var firstScriptTag = document.getElementsByTagName('script')[0];\n  firstScriptTag.parentNode.insertBefore(tag, firstScriptTag);\n});\n};\n\nif(typeof $3Dmolpromise === 'undefined') {\n$3Dmolpromise = null;\n  $3Dmolpromise = loadScriptAsync('https://cdnjs.cloudflare.com/ajax/libs/3Dmol/2.1.0/3Dmol-min.js');\n}\n\nvar viewer_17174838685946605 = null;\nvar warn = document.getElementById(\"3dmolwarning_17174838685946605\");\nif(warn) {\n    warn.parentNode.removeChild(warn);\n}\n$3Dmolpromise.then(function() {\nviewer_17174838685946605 = $3Dmol.createViewer(document.getElementById(\"3dmolviewer_17174838685946605\"),{backgroundColor:\"white\"});\nviewer_17174838685946605.zoomTo();\n\tviewer_17174838685946605.addModel(\"HETATM    1  O           1       0.533  -0.989  -1.067  0.00  0.00           O  \\nHETATM    2  C           1      -0.519  -1.556  -0.291  0.00  0.00           C  \\nHETATM    3  C           1       0.220   1.009   0.398  0.00  0.00           C  \\nHETATM    4  C           1       1.143   0.200  -0.526  0.00  0.00           C  \\nHETATM    5  O           1       0.582   2.395   0.431  0.00  0.00           O  \\nHETATM    6  O           1      -2.101   1.740   0.570  0.00  0.00           O  \\nHETATM    7  O           1      -2.750  -0.753  -0.973  0.00  0.00           O  \\nHETATM    8  C           1       2.494  -0.151   0.122  0.00  0.00           C  \\nHETATM    9  O           1       0.026  -2.041   0.939  0.00  0.00           O  \\nHETATM   10  C           1      -1.678  -0.559  -0.036  0.00  0.00           C  \\nHETATM   11  C           1      -1.196   0.886  -0.148  0.00  0.00           C  \\nHETATM   12  O           1       2.337  -0.860   1.347  0.00  0.00           O  \\nHETATM   13  H1  UNL     1      -0.890  -2.427  -0.840  1.00  0.00           H  \\nHETATM   14  H2  UNL     1       0.237   0.652   1.439  1.00  0.00           H  \\nHETATM   15  H3  UNL     1       1.386   0.818  -1.402  1.00  0.00           H  \\nHETATM   16  H4  UNL     1       1.366   2.471   1.006  1.00  0.00           H  \\nHETATM   17  H5  UNL     1      -1.632   2.597   0.636  1.00  0.00           H  \\nHETATM   18  H6  UNL     1      -3.347   0.006  -0.852  1.00  0.00           H  \\nHETATM   19  H7  UNL     1       3.058   0.759   0.342  1.00  0.00           H  \\nHETATM   20  H8  UNL     1       3.089  -0.777  -0.549  1.00  0.00           H  \\nHETATM   21  H9  UNL     1      -0.716  -2.320   1.488  1.00  0.00           H  \\nHETATM   22  H10 UNL     1      -2.117  -0.741   0.948  1.00  0.00           H  \\nHETATM   23  H11 UNL     1      -1.236   1.233  -1.190  1.00  0.00           H  \\nHETATM   24  H12 UNL     1       1.712  -1.595   1.159  1.00  0.00           H  \\nCONECT    1    2    4\\nCONECT    2    9   10   13\\nCONECT    3    4    5   11   14\\nCONECT    4    8   15\\nCONECT    5   16\\nCONECT    6   11   17\\nCONECT    7   10   18\\nCONECT    8   12   19   20\\nCONECT    9   21\\nCONECT   10   11   22\\nCONECT   11   23\\nCONECT   12   24\\nEND\\n\",\"molecule\",{\"keepH\": true});\n\tviewer_17174838685946605.setBackgroundColor(\"white\");\n\tviewer_17174838685946605.setStyle({\"stick\": {\"scale\": 0.3}, \"sphere\": {\"scale\": 0.3}});\n\tviewer_17174838685946605.zoomTo();\nviewer_17174838685946605.render();\n});\n</script>",
      "text/html": [
       "<div id=\"3dmolviewer_17174838685946605\"  style=\"position: relative; width: 400px; height: 300px;\">\n",
       "        <p id=\"3dmolwarning_17174838685946605\" style=\"background-color:#ffcccc;color:black\">3Dmol.js failed to load for some reason.  Please check your browser console for error messages.<br></p>\n",
       "        </div>\n",
       "<script>\n",
       "\n",
       "var loadScriptAsync = function(uri){\n",
       "  return new Promise((resolve, reject) => {\n",
       "    //this is to ignore the existence of requirejs amd\n",
       "    var savedexports, savedmodule;\n",
       "    if (typeof exports !== 'undefined') savedexports = exports;\n",
       "    else exports = {}\n",
       "    if (typeof module !== 'undefined') savedmodule = module;\n",
       "    else module = {}\n",
       "\n",
       "    var tag = document.createElement('script');\n",
       "    tag.src = uri;\n",
       "    tag.async = true;\n",
       "    tag.onload = () => {\n",
       "        exports = savedexports;\n",
       "        module = savedmodule;\n",
       "        resolve();\n",
       "    };\n",
       "  var firstScriptTag = document.getElementsByTagName('script')[0];\n",
       "  firstScriptTag.parentNode.insertBefore(tag, firstScriptTag);\n",
       "});\n",
       "};\n",
       "\n",
       "if(typeof $3Dmolpromise === 'undefined') {\n",
       "$3Dmolpromise = null;\n",
       "  $3Dmolpromise = loadScriptAsync('https://cdnjs.cloudflare.com/ajax/libs/3Dmol/2.1.0/3Dmol-min.js');\n",
       "}\n",
       "\n",
       "var viewer_17174838685946605 = null;\n",
       "var warn = document.getElementById(\"3dmolwarning_17174838685946605\");\n",
       "if(warn) {\n",
       "    warn.parentNode.removeChild(warn);\n",
       "}\n",
       "$3Dmolpromise.then(function() {\n",
       "viewer_17174838685946605 = $3Dmol.createViewer(document.getElementById(\"3dmolviewer_17174838685946605\"),{backgroundColor:\"white\"});\n",
       "viewer_17174838685946605.zoomTo();\n",
       "\tviewer_17174838685946605.addModel(\"HETATM    1  O           1       0.533  -0.989  -1.067  0.00  0.00           O  \\nHETATM    2  C           1      -0.519  -1.556  -0.291  0.00  0.00           C  \\nHETATM    3  C           1       0.220   1.009   0.398  0.00  0.00           C  \\nHETATM    4  C           1       1.143   0.200  -0.526  0.00  0.00           C  \\nHETATM    5  O           1       0.582   2.395   0.431  0.00  0.00           O  \\nHETATM    6  O           1      -2.101   1.740   0.570  0.00  0.00           O  \\nHETATM    7  O           1      -2.750  -0.753  -0.973  0.00  0.00           O  \\nHETATM    8  C           1       2.494  -0.151   0.122  0.00  0.00           C  \\nHETATM    9  O           1       0.026  -2.041   0.939  0.00  0.00           O  \\nHETATM   10  C           1      -1.678  -0.559  -0.036  0.00  0.00           C  \\nHETATM   11  C           1      -1.196   0.886  -0.148  0.00  0.00           C  \\nHETATM   12  O           1       2.337  -0.860   1.347  0.00  0.00           O  \\nHETATM   13  H1  UNL     1      -0.890  -2.427  -0.840  1.00  0.00           H  \\nHETATM   14  H2  UNL     1       0.237   0.652   1.439  1.00  0.00           H  \\nHETATM   15  H3  UNL     1       1.386   0.818  -1.402  1.00  0.00           H  \\nHETATM   16  H4  UNL     1       1.366   2.471   1.006  1.00  0.00           H  \\nHETATM   17  H5  UNL     1      -1.632   2.597   0.636  1.00  0.00           H  \\nHETATM   18  H6  UNL     1      -3.347   0.006  -0.852  1.00  0.00           H  \\nHETATM   19  H7  UNL     1       3.058   0.759   0.342  1.00  0.00           H  \\nHETATM   20  H8  UNL     1       3.089  -0.777  -0.549  1.00  0.00           H  \\nHETATM   21  H9  UNL     1      -0.716  -2.320   1.488  1.00  0.00           H  \\nHETATM   22  H10 UNL     1      -2.117  -0.741   0.948  1.00  0.00           H  \\nHETATM   23  H11 UNL     1      -1.236   1.233  -1.190  1.00  0.00           H  \\nHETATM   24  H12 UNL     1       1.712  -1.595   1.159  1.00  0.00           H  \\nCONECT    1    2    4\\nCONECT    2    9   10   13\\nCONECT    3    4    5   11   14\\nCONECT    4    8   15\\nCONECT    5   16\\nCONECT    6   11   17\\nCONECT    7   10   18\\nCONECT    8   12   19   20\\nCONECT    9   21\\nCONECT   10   11   22\\nCONECT   11   23\\nCONECT   12   24\\nEND\\n\",\"molecule\",{\"keepH\": true});\n",
       "\tviewer_17174838685946605.setBackgroundColor(\"white\");\n",
       "\tviewer_17174838685946605.setStyle({\"stick\": {\"scale\": 0.3}, \"sphere\": {\"scale\": 0.3}});\n",
       "\tviewer_17174838685946605.zoomTo();\n",
       "viewer_17174838685946605.render();\n",
       "});\n",
       "</script>"
      ]
     },
     "metadata": {},
     "output_type": "display_data"
    }
   ],
   "source": [
    "# Show geometry\n",
    "geo_idx = 10\n",
    "view = py3Dmol.view(width=400, height=300)\n",
    "view.addModel(geometries[geo_idx], \"molecule\", {'keepH': True})\n",
    "view.setBackgroundColor('white')\n",
    "view.setStyle({'stick': {'scale': 0.3}, 'sphere': {'scale': 0.3}})\n",
    "view.zoomTo()\n",
    "view.show()"
   ]
  },
  {
   "cell_type": "code",
   "execution_count": 17,
   "id": "49657486",
   "metadata": {},
   "outputs": [],
   "source": [
    "# Define a function to generate a PDB trajectory\n",
    "def generate_pdb_trajectory(geometries):\n",
    "    # Initialize the trajectory string\n",
    "    trajectory = \"\"\n",
    "        \n",
    "    # Loop over the list of geometries and generate the corresponding PDB format\n",
    "    for idx in range(len(geometries)):            \n",
    "        # Add the records for atoms\n",
    "        trajectory += \"MODEL     {:4d}\\n\".format(idx + 1)\n",
    "        trajectory += geometries[idx]\n",
    "        trajectory += \"ENDMDL\\n\"\n",
    "\n",
    "    return trajectory"
   ]
  },
  {
   "cell_type": "code",
   "execution_count": 18,
   "id": "68663271",
   "metadata": {},
   "outputs": [],
   "source": [
    "# Generate the PDB trajectory string\n",
    "pdb_trajectory = generate_pdb_trajectory(geometries)"
   ]
  },
  {
   "cell_type": "code",
   "execution_count": 19,
   "id": "c3897b1a",
   "metadata": {},
   "outputs": [
    {
     "data": {
      "application/3dmoljs_load.v0": "<div id=\"3dmolviewer_17174838704860466\"  style=\"position: relative; width: 400px; height: 300px;\">\n        <p id=\"3dmolwarning_17174838704860466\" style=\"background-color:#ffcccc;color:black\">3Dmol.js failed to load for some reason.  Please check your browser console for error messages.<br></p>\n        </div>\n<script>\n\nvar loadScriptAsync = function(uri){\n  return new Promise((resolve, reject) => {\n    //this is to ignore the existence of requirejs amd\n    var savedexports, savedmodule;\n    if (typeof exports !== 'undefined') savedexports = exports;\n    else exports = {}\n    if (typeof module !== 'undefined') savedmodule = module;\n    else module = {}\n\n    var tag = document.createElement('script');\n    tag.src = uri;\n    tag.async = true;\n    tag.onload = () => {\n        exports = savedexports;\n        module = savedmodule;\n        resolve();\n    };\n  var firstScriptTag = document.getElementsByTagName('script')[0];\n  firstScriptTag.parentNode.insertBefore(tag, firstScriptTag);\n});\n};\n\nif(typeof $3Dmolpromise === 'undefined') {\n$3Dmolpromise = null;\n  $3Dmolpromise = loadScriptAsync('https://cdnjs.cloudflare.com/ajax/libs/3Dmol/2.1.0/3Dmol-min.js');\n}\n\nvar viewer_17174838704860466 = null;\nvar warn = document.getElementById(\"3dmolwarning_17174838704860466\");\nif(warn) {\n    warn.parentNode.removeChild(warn);\n}\n$3Dmolpromise.then(function() {\nviewer_17174838704860466 = $3Dmol.createViewer(document.getElementById(\"3dmolviewer_17174838704860466\"),{backgroundColor:\"white\"});\nviewer_17174838704860466.zoomTo();\n\tviewer_17174838704860466.addModelsAsFrames(\"MODEL        1\\nHETATM    1  O           1       0.445  -0.991  -1.065  0.00  0.00           O  \\nHETATM    2  C           1      -0.619  -1.540  -0.323  0.00  0.00           C  \\nHETATM    3  C           1       0.211   1.017   0.381  0.00  0.00           C  \\nHETATM    4  C           1       1.089   0.153  -0.541  0.00  0.00           C  \\nHETATM    5  O           1       0.639   2.385   0.401  0.00  0.00           O  \\nHETATM    6  O           1      -2.072   1.837   0.571  0.00  0.00           O  \\nHETATM    7  O           1      -2.949  -0.754  -0.576  0.00  0.00           O  \\nHETATM    8  C           1       2.416  -0.171   0.159  0.00  0.00           C  \\nHETATM    9  O           1      -0.144  -2.254   0.817  0.00  0.00           O  \\nHETATM   10  C           1      -1.702  -0.512   0.081  0.00  0.00           C  \\nHETATM   11  C           1      -1.228   0.932  -0.127  0.00  0.00           C  \\nHETATM   12  O           1       2.282  -1.010   1.285  0.00  0.00           O  \\nHETATM   13  H1  UNL     1      -1.103  -2.321  -0.950  1.00  0.00           H  \\nHETATM   14  H2  UNL     1       0.248   0.658   1.433  1.00  0.00           H  \\nHETATM   15  H3  UNL     1       1.359   0.789  -1.423  1.00  0.00           H  \\nHETATM   16  H4  UNL     1       1.192   2.480   1.193  1.00  0.00           H  \\nHETATM   17  H5  UNL     1      -1.709   2.725   0.415  1.00  0.00           H  \\nHETATM   18  H6  UNL     1      -2.976  -0.192  -1.361  1.00  0.00           H  \\nHETATM   19  H7  UNL     1       2.871   0.763   0.551  1.00  0.00           H  \\nHETATM   20  H8  UNL     1       3.126  -0.636  -0.554  1.00  0.00           H  \\nHETATM   21  H9  UNL     1      -0.748  -2.114   1.568  1.00  0.00           H  \\nHETATM   22  H10 UNL     1      -1.970  -0.596   1.151  1.00  0.00           H  \\nHETATM   23  H11 UNL     1      -1.287   1.233  -1.173  1.00  0.00           H  \\nHETATM   24  H12 UNL     1       2.629  -1.881   1.038  1.00  0.00           H  \\nCONECT    1    2    4\\nCONECT    2    9   10   13\\nCONECT    3    4    5   11   14\\nCONECT    4    8   15\\nCONECT    5   16\\nCONECT    6   11   17\\nCONECT    7   10   18\\nCONECT    8   12   19   20\\nCONECT    9   21\\nCONECT   10   11   22\\nCONECT   11   23\\nCONECT   12   24\\nEND\\nENDMDL\\nMODEL        2\\nHETATM    1  O           1       0.451  -0.993  -1.052  0.00  0.00           O  \\nHETATM    2  C           1      -0.632  -1.553  -0.298  0.00  0.00           C  \\nHETATM    3  C           1       0.193   1.016   0.396  0.00  0.00           C  \\nHETATM    4  C           1       1.092   0.174  -0.501  0.00  0.00           C  \\nHETATM    5  O           1       0.618   2.396   0.392  0.00  0.00           O  \\nHETATM    6  O           1      -2.081   1.847   0.570  0.00  0.00           O  \\nHETATM    7  O           1      -2.944  -0.768  -0.613  0.00  0.00           O  \\nHETATM    8  C           1       2.450  -0.149   0.153  0.00  0.00           C  \\nHETATM    9  O           1      -0.131  -2.275   0.801  0.00  0.00           O  \\nHETATM   10  C           1      -1.716  -0.514   0.095  0.00  0.00           C  \\nHETATM   11  C           1      -1.229   0.917  -0.129  0.00  0.00           C  \\nHETATM   12  O           1       2.321  -0.975   1.324  0.00  0.00           O  \\nHETATM   13  H1  UNL     1      -1.093  -2.295  -0.956  1.00  0.00           H  \\nHETATM   14  H2  UNL     1       0.219   0.669   1.437  1.00  0.00           H  \\nHETATM   15  H3  UNL     1       1.352   0.766  -1.381  1.00  0.00           H  \\nHETATM   16  H4  UNL     1       1.205   2.502   1.175  1.00  0.00           H  \\nHETATM   17  H5  UNL     1      -1.669   2.732   0.449  1.00  0.00           H  \\nHETATM   18  H6  UNL     1      -2.998  -0.162  -1.388  1.00  0.00           H  \\nHETATM   19  H7  UNL     1       2.928   0.769   0.475  1.00  0.00           H  \\nHETATM   20  H8  UNL     1       3.118  -0.654  -0.550  1.00  0.00           H  \\nHETATM   21  H9  UNL     1      -0.700  -2.130   1.567  1.00  0.00           H  \\nHETATM   22  H10 UNL     1      -1.984  -0.635   1.152  1.00  0.00           H  \\nHETATM   23  H11 UNL     1      -1.288   1.210  -1.190  1.00  0.00           H  \\nHETATM   24  H12 UNL     1       2.518  -1.895   1.024  1.00  0.00           H  \\nCONECT    1    2    4\\nCONECT    2    9   10   13\\nCONECT    3    4    5   11   14\\nCONECT    4    8   15\\nCONECT    5   16\\nCONECT    6   11   17\\nCONECT    7   10   18\\nCONECT    8   12   19   20\\nCONECT    9   21\\nCONECT   10   11   22\\nCONECT   11   23\\nCONECT   12   24\\nEND\\nENDMDL\\nMODEL        3\\nHETATM    1  O           1       0.476  -0.997  -1.041  0.00  0.00           O  \\nHETATM    2  C           1      -0.619  -1.568  -0.307  0.00  0.00           C  \\nHETATM    3  C           1       0.199   1.010   0.420  0.00  0.00           C  \\nHETATM    4  C           1       1.109   0.175  -0.497  0.00  0.00           C  \\nHETATM    5  O           1       0.576   2.390   0.409  0.00  0.00           O  \\nHETATM    6  O           1      -2.105   1.840   0.550  0.00  0.00           O  \\nHETATM    7  O           1      -2.929  -0.791  -0.641  0.00  0.00           O  \\nHETATM    8  C           1       2.469  -0.146   0.137  0.00  0.00           C  \\nHETATM    9  O           1      -0.098  -2.293   0.808  0.00  0.00           O  \\nHETATM   10  C           1      -1.720  -0.517   0.084  0.00  0.00           C  \\nHETATM   11  C           1      -1.232   0.919  -0.120  0.00  0.00           C  \\nHETATM   12  O           1       2.393  -0.921   1.325  0.00  0.00           O  \\nHETATM   13  H1  UNL     1      -1.073  -2.319  -0.976  1.00  0.00           H  \\nHETATM   14  H2  UNL     1       0.215   0.697   1.471  1.00  0.00           H  \\nHETATM   15  H3  UNL     1       1.347   0.799  -1.374  1.00  0.00           H  \\nHETATM   16  H4  UNL     1       1.225   2.515   1.131  1.00  0.00           H  \\nHETATM   17  H5  UNL     1      -1.614   2.686   0.496  1.00  0.00           H  \\nHETATM   18  H6  UNL     1      -2.987  -0.120  -1.353  1.00  0.00           H  \\nHETATM   19  H7  UNL     1       2.966   0.779   0.433  1.00  0.00           H  \\nHETATM   20  H8  UNL     1       3.096  -0.699  -0.567  1.00  0.00           H  \\nHETATM   21  H9  UNL     1      -0.661  -2.122   1.579  1.00  0.00           H  \\nHETATM   22  H10 UNL     1      -2.025  -0.649   1.123  1.00  0.00           H  \\nHETATM   23  H11 UNL     1      -1.273   1.197  -1.179  1.00  0.00           H  \\nHETATM   24  H12 UNL     1       2.267  -1.862   1.039  1.00  0.00           H  \\nCONECT    1    2    4\\nCONECT    2    9   10   13\\nCONECT    3    4    5   11   14\\nCONECT    4    8   15\\nCONECT    5   16\\nCONECT    6   11   17\\nCONECT    7   10   18\\nCONECT    8   12   19   20\\nCONECT    9   21\\nCONECT   10   11   22\\nCONECT   11   23\\nCONECT   12   24\\nEND\\nENDMDL\\nMODEL        4\\nHETATM    1  O           1       0.471  -0.984  -1.032  0.00  0.00           O  \\nHETATM    2  C           1      -0.603  -1.557  -0.301  0.00  0.00           C  \\nHETATM    3  C           1       0.201   1.017   0.419  0.00  0.00           C  \\nHETATM    4  C           1       1.103   0.172  -0.487  0.00  0.00           C  \\nHETATM    5  O           1       0.579   2.395   0.413  0.00  0.00           O  \\nHETATM    6  O           1      -2.087   1.825   0.558  0.00  0.00           O  \\nHETATM    7  O           1      -2.909  -0.791  -0.682  0.00  0.00           O  \\nHETATM    8  C           1       2.467  -0.153   0.146  0.00  0.00           C  \\nHETATM    9  O           1      -0.075  -2.271   0.815  0.00  0.00           O  \\nHETATM   10  C           1      -1.715  -0.533   0.081  0.00  0.00           C  \\nHETATM   11  C           1      -1.226   0.909  -0.122  0.00  0.00           C  \\nHETATM   12  O           1       2.359  -0.923   1.318  0.00  0.00           O  \\nHETATM   13  H1  UNL     1      -1.049  -2.318  -0.957  1.00  0.00           H  \\nHETATM   14  H2  UNL     1       0.215   0.674   1.458  1.00  0.00           H  \\nHETATM   15  H3  UNL     1       1.340   0.789  -1.364  1.00  0.00           H  \\nHETATM   16  H4  UNL     1       1.241   2.513   1.117  1.00  0.00           H  \\nHETATM   17  H5  UNL     1      -1.620   2.683   0.520  1.00  0.00           H  \\nHETATM   18  H6  UNL     1      -3.018  -0.102  -1.343  1.00  0.00           H  \\nHETATM   19  H7  UNL     1       2.989   0.785   0.399  1.00  0.00           H  \\nHETATM   20  H8  UNL     1       3.097  -0.687  -0.564  1.00  0.00           H  \\nHETATM   21  H9  UNL     1      -0.656  -2.115   1.579  1.00  0.00           H  \\nHETATM   22  H10 UNL     1      -2.005  -0.675   1.131  1.00  0.00           H  \\nHETATM   23  H11 UNL     1      -1.263   1.183  -1.189  1.00  0.00           H  \\nHETATM   24  H12 UNL     1       2.164  -1.836   1.038  1.00  0.00           H  \\nCONECT    1    2    4\\nCONECT    2    9   10   13\\nCONECT    3    4    5   11   14\\nCONECT    4    8   15\\nCONECT    5   16\\nCONECT    6   11   17\\nCONECT    7   10   18\\nCONECT    8   12   19   20\\nCONECT    9   21\\nCONECT   10   11   22\\nCONECT   11   23\\nCONECT   12   24\\nEND\\nENDMDL\\nMODEL        5\\nHETATM    1  O           1       0.503  -0.987  -1.057  0.00  0.00           O  \\nHETATM    2  C           1      -0.560  -1.578  -0.313  0.00  0.00           C  \\nHETATM    3  C           1       0.206   1.012   0.429  0.00  0.00           C  \\nHETATM    4  C           1       1.124   0.188  -0.525  0.00  0.00           C  \\nHETATM    5  O           1       0.568   2.396   0.432  0.00  0.00           O  \\nHETATM    6  O           1      -2.106   1.796   0.545  0.00  0.00           O  \\nHETATM    7  O           1      -2.874  -0.832  -0.722  0.00  0.00           O  \\nHETATM    8  C           1       2.480  -0.135   0.127  0.00  0.00           C  \\nHETATM    9  O           1      -0.006  -2.213   0.853  0.00  0.00           O  \\nHETATM   10  C           1      -1.702  -0.556   0.058  0.00  0.00           C  \\nHETATM   11  C           1      -1.215   0.897  -0.122  0.00  0.00           C  \\nHETATM   12  O           1       2.354  -0.909   1.310  0.00  0.00           O  \\nHETATM   13  H1  UNL     1      -0.998  -2.372  -0.923  1.00  0.00           H  \\nHETATM   14  H2  UNL     1       0.226   0.681   1.470  1.00  0.00           H  \\nHETATM   15  H3  UNL     1       1.358   0.836  -1.402  1.00  0.00           H  \\nHETATM   16  H4  UNL     1       1.286   2.487   1.086  1.00  0.00           H  \\nHETATM   17  H5  UNL     1      -1.609   2.642   0.563  1.00  0.00           H  \\nHETATM   18  H6  UNL     1      -3.039  -0.025  -1.250  1.00  0.00           H  \\nHETATM   19  H7  UNL     1       2.988   0.769   0.411  1.00  0.00           H  \\nHETATM   20  H8  UNL     1       3.086  -0.743  -0.574  1.00  0.00           H  \\nHETATM   21  H9  UNL     1      -0.635  -2.123   1.592  1.00  0.00           H  \\nHETATM   22  H10 UNL     1      -2.048  -0.681   1.083  1.00  0.00           H  \\nHETATM   23  H11 UNL     1      -1.268   1.202  -1.164  1.00  0.00           H  \\nHETATM   24  H12 UNL     1       1.881  -1.750   1.046  1.00  0.00           H  \\nCONECT    1    2    4\\nCONECT    2    9   10   13\\nCONECT    3    4    5   11   14\\nCONECT    4    8   15\\nCONECT    5   16\\nCONECT    6   11   17\\nCONECT    7   10   18\\nCONECT    8   12   19   20\\nCONECT    9   21\\nCONECT   10   11   22\\nCONECT   11   23\\nCONECT   12   24\\nEND\\nENDMDL\\nMODEL        6\\nHETATM    1  O           1       0.490  -0.975  -1.060  0.00  0.00           O  \\nHETATM    2  C           1      -0.557  -1.564  -0.287  0.00  0.00           C  \\nHETATM    3  C           1       0.208   1.013   0.413  0.00  0.00           C  \\nHETATM    4  C           1       1.118   0.196  -0.508  0.00  0.00           C  \\nHETATM    5  O           1       0.571   2.398   0.431  0.00  0.00           O  \\nHETATM    6  O           1      -2.093   1.788   0.562  0.00  0.00           O  \\nHETATM    7  O           1      -2.849  -0.825  -0.772  0.00  0.00           O  \\nHETATM    8  C           1       2.468  -0.157   0.124  0.00  0.00           C  \\nHETATM    9  O           1       0.011  -2.188   0.856  0.00  0.00           O  \\nHETATM   10  C           1      -1.690  -0.553   0.052  0.00  0.00           C  \\nHETATM   11  C           1      -1.215   0.895  -0.124  0.00  0.00           C  \\nHETATM   12  O           1       2.323  -0.925   1.313  0.00  0.00           O  \\nHETATM   13  H1  UNL     1      -0.978  -2.373  -0.909  1.00  0.00           H  \\nHETATM   14  H2  UNL     1       0.227   0.659   1.454  1.00  0.00           H  \\nHETATM   15  H3  UNL     1       1.352   0.812  -1.379  1.00  0.00           H  \\nHETATM   16  H4  UNL     1       1.294   2.492   1.076  1.00  0.00           H  \\nHETATM   17  H5  UNL     1      -1.618   2.642   0.575  1.00  0.00           H  \\nHETATM   18  H6  UNL     1      -3.087  -0.011  -1.229  1.00  0.00           H  \\nHETATM   19  H7  UNL     1       3.012   0.771   0.388  1.00  0.00           H  \\nHETATM   20  H8  UNL     1       3.088  -0.717  -0.568  1.00  0.00           H  \\nHETATM   21  H9  UNL     1      -0.638  -2.131   1.581  1.00  0.00           H  \\nHETATM   22  H10 UNL     1      -2.030  -0.706   1.092  1.00  0.00           H  \\nHETATM   23  H11 UNL     1      -1.256   1.187  -1.185  1.00  0.00           H  \\nHETATM   24  H12 UNL     1       1.848  -1.728   1.056  1.00  0.00           H  \\nCONECT    1    2    4\\nCONECT    2    9   10   13\\nCONECT    3    4    5   11   14\\nCONECT    4    8   15\\nCONECT    5   16\\nCONECT    6   11   17\\nCONECT    7   10   18\\nCONECT    8   12   19   20\\nCONECT    9   21\\nCONECT   10   11   22\\nCONECT   11   23\\nCONECT   12   24\\nEND\\nENDMDL\\nMODEL        7\\nHETATM    1  O           1       0.511  -0.975  -1.072  0.00  0.00           O  \\nHETATM    2  C           1      -0.528  -1.570  -0.287  0.00  0.00           C  \\nHETATM    3  C           1       0.205   1.006   0.410  0.00  0.00           C  \\nHETATM    4  C           1       1.127   0.209  -0.534  0.00  0.00           C  \\nHETATM    5  O           1       0.570   2.391   0.436  0.00  0.00           O  \\nHETATM    6  O           1      -2.104   1.761   0.554  0.00  0.00           O  \\nHETATM    7  O           1      -2.792  -0.829  -0.855  0.00  0.00           O  \\nHETATM    8  C           1       2.469  -0.159   0.123  0.00  0.00           C  \\nHETATM    9  O           1       0.053  -2.106   0.895  0.00  0.00           O  \\nHETATM   10  C           1      -1.674  -0.572   0.016  0.00  0.00           C  \\nHETATM   11  C           1      -1.214   0.880  -0.135  0.00  0.00           C  \\nHETATM   12  O           1       2.326  -0.909   1.312  0.00  0.00           O  \\nHETATM   13  H1  UNL     1      -0.927  -2.414  -0.864  1.00  0.00           H  \\nHETATM   14  H2  UNL     1       0.234   0.663   1.451  1.00  0.00           H  \\nHETATM   15  H3  UNL     1       1.378   0.841  -1.400  1.00  0.00           H  \\nHETATM   16  H4  UNL     1       1.328   2.484   1.046  1.00  0.00           H  \\nHETATM   17  H5  UNL     1      -1.620   2.614   0.605  1.00  0.00           H  \\nHETATM   18  H6  UNL     1      -3.186   0.062  -1.067  1.00  0.00           H  \\nHETATM   19  H7  UNL     1       3.021   0.757   0.396  1.00  0.00           H  \\nHETATM   20  H8  UNL     1       3.079  -0.765  -0.570  1.00  0.00           H  \\nHETATM   21  H9  UNL     1      -0.646  -2.184   1.565  1.00  0.00           H  \\nHETATM   22  H10 UNL     1      -2.079  -0.723   1.021  1.00  0.00           H  \\nHETATM   23  H11 UNL     1      -1.256   1.202  -1.176  1.00  0.00           H  \\nHETATM   24  H12 UNL     1       1.723  -1.665   1.082  1.00  0.00           H  \\nCONECT    1    2    4\\nCONECT    2    9   10   13\\nCONECT    3    4    5   11   14\\nCONECT    4    8   15\\nCONECT    5   16\\nCONECT    6   11   17\\nCONECT    7   10   18\\nCONECT    8   12   19   20\\nCONECT    9   21\\nCONECT   10   11   22\\nCONECT   11   23\\nCONECT   12   24\\nEND\\nENDMDL\\nMODEL        8\\nHETATM    1  O           1       0.502  -0.970  -1.069  0.00  0.00           O  \\nHETATM    2  C           1      -0.523  -1.563  -0.287  0.00  0.00           C  \\nHETATM    3  C           1       0.205   1.012   0.403  0.00  0.00           C  \\nHETATM    4  C           1       1.123   0.200  -0.517  0.00  0.00           C  \\nHETATM    5  O           1       0.570   2.397   0.434  0.00  0.00           O  \\nHETATM    6  O           1      -2.096   1.751   0.566  0.00  0.00           O  \\nHETATM    7  O           1      -2.764  -0.789  -0.914  0.00  0.00           O  \\nHETATM    8  C           1       2.480  -0.154   0.120  0.00  0.00           C  \\nHETATM    9  O           1       0.050  -2.093   0.901  0.00  0.00           O  \\nHETATM   10  C           1      -1.676  -0.567   0.006  0.00  0.00           C  \\nHETATM   11  C           1      -1.203   0.882  -0.140  0.00  0.00           C  \\nHETATM   12  O           1       2.313  -0.905   1.329  0.00  0.00           O  \\nHETATM   13  H1  UNL     1      -0.909  -2.412  -0.855  1.00  0.00           H  \\nHETATM   14  H2  UNL     1       0.237   0.651   1.438  1.00  0.00           H  \\nHETATM   15  H3  UNL     1       1.373   0.820  -1.389  1.00  0.00           H  \\nHETATM   16  H4  UNL     1       1.335   2.483   1.034  1.00  0.00           H  \\nHETATM   17  H5  UNL     1      -1.629   2.610   0.615  1.00  0.00           H  \\nHETATM   18  H6  UNL     1      -3.248   0.044  -1.005  1.00  0.00           H  \\nHETATM   19  H7  UNL     1       3.038   0.750   0.366  1.00  0.00           H  \\nHETATM   20  H8  UNL     1       3.086  -0.749  -0.565  1.00  0.00           H  \\nHETATM   21  H9  UNL     1      -0.666  -2.208   1.553  1.00  0.00           H  \\nHETATM   22  H10 UNL     1      -2.078  -0.737   1.016  1.00  0.00           H  \\nHETATM   23  H11 UNL     1      -1.243   1.201  -1.193  1.00  0.00           H  \\nHETATM   24  H12 UNL     1       1.722  -1.654   1.102  1.00  0.00           H  \\nCONECT    1    2    4\\nCONECT    2    9   10   13\\nCONECT    3    4    5   11   14\\nCONECT    4    8   15\\nCONECT    5   16\\nCONECT    6   11   17\\nCONECT    7   10   18\\nCONECT    8   12   19   20\\nCONECT    9   21\\nCONECT   10   11   22\\nCONECT   11   23\\nCONECT   12   24\\nEND\\nENDMDL\\nMODEL        9\\nHETATM    1  O           1       0.520  -0.978  -1.072  0.00  0.00           O  \\nHETATM    2  C           1      -0.524  -1.563  -0.287  0.00  0.00           C  \\nHETATM    3  C           1       0.214   1.011   0.406  0.00  0.00           C  \\nHETATM    4  C           1       1.136   0.203  -0.526  0.00  0.00           C  \\nHETATM    5  O           1       0.572   2.396   0.433  0.00  0.00           O  \\nHETATM    6  O           1      -2.101   1.748   0.563  0.00  0.00           O  \\nHETATM    7  O           1      -2.760  -0.796  -0.922  0.00  0.00           O  \\nHETATM    8  C           1       2.477  -0.157   0.124  0.00  0.00           C  \\nHETATM    9  O           1       0.046  -2.082   0.913  0.00  0.00           O  \\nHETATM   10  C           1      -1.677  -0.568  -0.009  0.00  0.00           C  \\nHETATM   11  C           1      -1.205   0.882  -0.142  0.00  0.00           C  \\nHETATM   12  O           1       2.326  -0.891   1.328  0.00  0.00           O  \\nHETATM   13  H1  UNL     1      -0.907  -2.419  -0.853  1.00  0.00           H  \\nHETATM   14  H2  UNL     1       0.236   0.654   1.443  1.00  0.00           H  \\nHETATM   15  H3  UNL     1       1.378   0.826  -1.396  1.00  0.00           H  \\nHETATM   16  H4  UNL     1       1.342   2.481   1.028  1.00  0.00           H  \\nHETATM   17  H5  UNL     1      -1.629   2.606   0.619  1.00  0.00           H  \\nHETATM   18  H6  UNL     1      -3.272   0.050  -0.961  1.00  0.00           H  \\nHETATM   19  H7  UNL     1       3.040   0.756   0.369  1.00  0.00           H  \\nHETATM   20  H8  UNL     1       3.086  -0.765  -0.563  1.00  0.00           H  \\nHETATM   21  H9  UNL     1      -0.677  -2.230   1.541  1.00  0.00           H  \\nHETATM   22  H10 UNL     1      -2.097  -0.736   0.990  1.00  0.00           H  \\nHETATM   23  H11 UNL     1      -1.244   1.212  -1.186  1.00  0.00           H  \\nHETATM   24  H12 UNL     1       1.721  -1.640   1.113  1.00  0.00           H  \\nCONECT    1    2    4\\nCONECT    2    9   10   13\\nCONECT    3    4    5   11   14\\nCONECT    4    8   15\\nCONECT    5   16\\nCONECT    6   11   17\\nCONECT    7   10   18\\nCONECT    8   12   19   20\\nCONECT    9   21\\nCONECT   10   11   22\\nCONECT   11   23\\nCONECT   12   24\\nEND\\nENDMDL\\nMODEL       10\\nHETATM    1  O           1       0.518  -0.977  -1.065  0.00  0.00           O  \\nHETATM    2  C           1      -0.524  -1.557  -0.284  0.00  0.00           C  \\nHETATM    3  C           1       0.227   1.011   0.401  0.00  0.00           C  \\nHETATM    4  C           1       1.151   0.188  -0.520  0.00  0.00           C  \\nHETATM    5  O           1       0.577   2.402   0.430  0.00  0.00           O  \\nHETATM    6  O           1      -2.103   1.736   0.576  0.00  0.00           O  \\nHETATM    7  O           1      -2.742  -0.747  -0.989  0.00  0.00           O  \\nHETATM    8  C           1       2.489  -0.152   0.126  0.00  0.00           C  \\nHETATM    9  O           1       0.037  -2.044   0.930  0.00  0.00           O  \\nHETATM   10  C           1      -1.680  -0.559  -0.035  0.00  0.00           C  \\nHETATM   11  C           1      -1.198   0.892  -0.153  0.00  0.00           C  \\nHETATM   12  O           1       2.332  -0.860   1.342  0.00  0.00           O  \\nHETATM   13  H1  UNL     1      -0.881  -2.429  -0.842  1.00  0.00           H  \\nHETATM   14  H2  UNL     1       0.239   0.647   1.429  1.00  0.00           H  \\nHETATM   15  H3  UNL     1       1.379   0.808  -1.388  1.00  0.00           H  \\nHETATM   16  H4  UNL     1       1.360   2.469   1.007  1.00  0.00           H  \\nHETATM   17  H5  UNL     1      -1.634   2.595   0.633  1.00  0.00           H  \\nHETATM   18  H6  UNL     1      -3.350   0.017  -0.855  1.00  0.00           H  \\nHETATM   19  H7  UNL     1       3.063   0.756   0.336  1.00  0.00           H  \\nHETATM   20  H8  UNL     1       3.090  -0.761  -0.548  1.00  0.00           H  \\nHETATM   21  H9  UNL     1      -0.722  -2.302   1.499  1.00  0.00           H  \\nHETATM   22  H10 UNL     1      -2.106  -0.750   0.969  1.00  0.00           H  \\nHETATM   23  H11 UNL     1      -1.233   1.224  -1.200  1.00  0.00           H  \\nHETATM   24  H12 UNL     1       1.711  -1.608   1.153  1.00  0.00           H  \\nCONECT    1    2    4\\nCONECT    2    9   10   13\\nCONECT    3    4    5   11   14\\nCONECT    4    8   15\\nCONECT    5   16\\nCONECT    6   11   17\\nCONECT    7   10   18\\nCONECT    8   12   19   20\\nCONECT    9   21\\nCONECT   10   11   22\\nCONECT   11   23\\nCONECT   12   24\\nEND\\nENDMDL\\nMODEL       11\\nHETATM    1  O           1       0.533  -0.989  -1.067  0.00  0.00           O  \\nHETATM    2  C           1      -0.519  -1.556  -0.291  0.00  0.00           C  \\nHETATM    3  C           1       0.220   1.009   0.398  0.00  0.00           C  \\nHETATM    4  C           1       1.143   0.200  -0.526  0.00  0.00           C  \\nHETATM    5  O           1       0.582   2.395   0.431  0.00  0.00           O  \\nHETATM    6  O           1      -2.101   1.740   0.570  0.00  0.00           O  \\nHETATM    7  O           1      -2.750  -0.753  -0.973  0.00  0.00           O  \\nHETATM    8  C           1       2.494  -0.151   0.122  0.00  0.00           C  \\nHETATM    9  O           1       0.026  -2.041   0.939  0.00  0.00           O  \\nHETATM   10  C           1      -1.678  -0.559  -0.036  0.00  0.00           C  \\nHETATM   11  C           1      -1.196   0.886  -0.148  0.00  0.00           C  \\nHETATM   12  O           1       2.337  -0.860   1.347  0.00  0.00           O  \\nHETATM   13  H1  UNL     1      -0.890  -2.427  -0.840  1.00  0.00           H  \\nHETATM   14  H2  UNL     1       0.237   0.652   1.439  1.00  0.00           H  \\nHETATM   15  H3  UNL     1       1.386   0.818  -1.402  1.00  0.00           H  \\nHETATM   16  H4  UNL     1       1.366   2.471   1.006  1.00  0.00           H  \\nHETATM   17  H5  UNL     1      -1.632   2.597   0.636  1.00  0.00           H  \\nHETATM   18  H6  UNL     1      -3.347   0.006  -0.852  1.00  0.00           H  \\nHETATM   19  H7  UNL     1       3.058   0.759   0.342  1.00  0.00           H  \\nHETATM   20  H8  UNL     1       3.089  -0.777  -0.549  1.00  0.00           H  \\nHETATM   21  H9  UNL     1      -0.716  -2.320   1.488  1.00  0.00           H  \\nHETATM   22  H10 UNL     1      -2.117  -0.741   0.948  1.00  0.00           H  \\nHETATM   23  H11 UNL     1      -1.236   1.233  -1.190  1.00  0.00           H  \\nHETATM   24  H12 UNL     1       1.712  -1.595   1.159  1.00  0.00           H  \\nCONECT    1    2    4\\nCONECT    2    9   10   13\\nCONECT    3    4    5   11   14\\nCONECT    4    8   15\\nCONECT    5   16\\nCONECT    6   11   17\\nCONECT    7   10   18\\nCONECT    8   12   19   20\\nCONECT    9   21\\nCONECT   10   11   22\\nCONECT   11   23\\nCONECT   12   24\\nEND\\nENDMDL\\nMODEL       12\\nHETATM    1  O           1       0.529  -0.987  -1.059  0.00  0.00           O  \\nHETATM    2  C           1      -0.522  -1.547  -0.282  0.00  0.00           C  \\nHETATM    3  C           1       0.224   1.015   0.390  0.00  0.00           C  \\nHETATM    4  C           1       1.151   0.191  -0.523  0.00  0.00           C  \\nHETATM    5  O           1       0.592   2.401   0.429  0.00  0.00           O  \\nHETATM    6  O           1      -2.095   1.744   0.581  0.00  0.00           O  \\nHETATM    7  O           1      -2.752  -0.761  -0.985  0.00  0.00           O  \\nHETATM    8  C           1       2.497  -0.148   0.121  0.00  0.00           C  \\nHETATM    9  O           1       0.019  -2.018   0.947  0.00  0.00           O  \\nHETATM   10  C           1      -1.683  -0.553  -0.042  0.00  0.00           C  \\nHETATM   11  C           1      -1.198   0.898  -0.155  0.00  0.00           C  \\nHETATM   12  O           1       2.337  -0.833   1.357  0.00  0.00           O  \\nHETATM   13  H1  UNL     1      -0.885  -2.422  -0.830  1.00  0.00           H  \\nHETATM   14  H2  UNL     1       0.244   0.654   1.430  1.00  0.00           H  \\nHETATM   15  H3  UNL     1       1.384   0.806  -1.400  1.00  0.00           H  \\nHETATM   16  H4  UNL     1       1.386   2.463   0.994  1.00  0.00           H  \\nHETATM   17  H5  UNL     1      -1.626   2.600   0.647  1.00  0.00           H  \\nHETATM   18  H6  UNL     1      -3.370  -0.022  -0.835  1.00  0.00           H  \\nHETATM   19  H7  UNL     1       3.069   0.762   0.323  1.00  0.00           H  \\nHETATM   20  H8  UNL     1       3.088  -0.784  -0.539  1.00  0.00           H  \\nHETATM   21  H9  UNL     1      -0.735  -2.420   1.433  1.00  0.00           H  \\nHETATM   22  H10 UNL     1      -2.116  -0.735   0.952  1.00  0.00           H  \\nHETATM   23  H11 UNL     1      -1.235   1.253  -1.196  1.00  0.00           H  \\nHETATM   24  H12 UNL     1       1.700  -1.558   1.191  1.00  0.00           H  \\nCONECT    1    2    4\\nCONECT    2    9   10   13\\nCONECT    3    4    5   11   14\\nCONECT    4    8   15\\nCONECT    5   16\\nCONECT    6   11   17\\nCONECT    7   10   18\\nCONECT    8   12   19   20\\nCONECT    9   21\\nCONECT   10   11   22\\nCONECT   11   23\\nCONECT   12   24\\nEND\\nENDMDL\\nMODEL       13\\nHETATM    1  O           1       0.539  -0.993  -1.060  0.00  0.00           O  \\nHETATM    2  C           1      -0.522  -1.547  -0.284  0.00  0.00           C  \\nHETATM    3  C           1       0.225   1.013   0.397  0.00  0.00           C  \\nHETATM    4  C           1       1.148   0.200  -0.531  0.00  0.00           C  \\nHETATM    5  O           1       0.594   2.398   0.426  0.00  0.00           O  \\nHETATM    6  O           1      -2.097   1.747   0.577  0.00  0.00           O  \\nHETATM    7  O           1      -2.747  -0.757  -0.978  0.00  0.00           O  \\nHETATM    8  C           1       2.496  -0.147   0.123  0.00  0.00           C  \\nHETATM    9  O           1       0.008  -2.017   0.957  0.00  0.00           O  \\nHETATM   10  C           1      -1.679  -0.550  -0.043  0.00  0.00           C  \\nHETATM   11  C           1      -1.197   0.897  -0.152  0.00  0.00           C  \\nHETATM   12  O           1       2.342  -0.828   1.361  0.00  0.00           O  \\nHETATM   13  H1  UNL     1      -0.889  -2.423  -0.829  1.00  0.00           H  \\nHETATM   14  H2  UNL     1       0.238   0.658   1.432  1.00  0.00           H  \\nHETATM   15  H3  UNL     1       1.388   0.812  -1.409  1.00  0.00           H  \\nHETATM   16  H4  UNL     1       1.387   2.464   0.991  1.00  0.00           H  \\nHETATM   17  H5  UNL     1      -1.623   2.602   0.650  1.00  0.00           H  \\nHETATM   18  H6  UNL     1      -3.374  -0.020  -0.834  1.00  0.00           H  \\nHETATM   19  H7  UNL     1       3.068   0.764   0.321  1.00  0.00           H  \\nHETATM   20  H8  UNL     1       3.086  -0.791  -0.538  1.00  0.00           H  \\nHETATM   21  H9  UNL     1      -0.723  -2.444   1.421  1.00  0.00           H  \\nHETATM   22  H10 UNL     1      -2.120  -0.730   0.945  1.00  0.00           H  \\nHETATM   23  H11 UNL     1      -1.240   1.248  -1.189  1.00  0.00           H  \\nHETATM   24  H12 UNL     1       1.695  -1.555   1.197  1.00  0.00           H  \\nCONECT    1    2    4\\nCONECT    2    9   10   13\\nCONECT    3    4    5   11   14\\nCONECT    4    8   15\\nCONECT    5   16\\nCONECT    6   11   17\\nCONECT    7   10   18\\nCONECT    8   12   19   20\\nCONECT    9   21\\nCONECT   10   11   22\\nCONECT   11   23\\nCONECT   12   24\\nEND\\nENDMDL\\nMODEL       14\\nHETATM    1  O           1       0.532  -0.994  -1.052  0.00  0.00           O  \\nHETATM    2  C           1      -0.528  -1.540  -0.270  0.00  0.00           C  \\nHETATM    3  C           1       0.225   1.019   0.389  0.00  0.00           C  \\nHETATM    4  C           1       1.144   0.198  -0.522  0.00  0.00           C  \\nHETATM    5  O           1       0.597   2.402   0.421  0.00  0.00           O  \\nHETATM    6  O           1      -2.093   1.753   0.579  0.00  0.00           O  \\nHETATM    7  O           1      -2.746  -0.747  -0.985  0.00  0.00           O  \\nHETATM    8  C           1       2.496  -0.145   0.123  0.00  0.00           C  \\nHETATM    9  O           1       0.005  -2.007   0.966  0.00  0.00           O  \\nHETATM   10  C           1      -1.685  -0.545  -0.040  0.00  0.00           C  \\nHETATM   11  C           1      -1.197   0.900  -0.157  0.00  0.00           C  \\nHETATM   12  O           1       2.335  -0.810   1.372  0.00  0.00           O  \\nHETATM   13  H1  UNL     1      -0.885  -2.419  -0.816  1.00  0.00           H  \\nHETATM   14  H2  UNL     1       0.243   0.664   1.424  1.00  0.00           H  \\nHETATM   15  H3  UNL     1       1.382   0.797  -1.404  1.00  0.00           H  \\nHETATM   16  H4  UNL     1       1.394   2.465   0.980  1.00  0.00           H  \\nHETATM   17  H5  UNL     1      -1.616   2.605   0.656  1.00  0.00           H  \\nHETATM   18  H6  UNL     1      -3.376  -0.019  -0.824  1.00  0.00           H  \\nHETATM   19  H7  UNL     1       3.074   0.765   0.307  1.00  0.00           H  \\nHETATM   20  H8  UNL     1       3.084  -0.798  -0.531  1.00  0.00           H  \\nHETATM   21  H9  UNL     1      -0.708  -2.543   1.368  1.00  0.00           H  \\nHETATM   22  H10 UNL     1      -2.123  -0.728   0.950  1.00  0.00           H  \\nHETATM   23  H11 UNL     1      -1.237   1.254  -1.200  1.00  0.00           H  \\nHETATM   24  H12 UNL     1       1.684  -1.527   1.219  1.00  0.00           H  \\nCONECT    1    2    4\\nCONECT    2    9   10   13\\nCONECT    3    4    5   11   14\\nCONECT    4    8   15\\nCONECT    5   16\\nCONECT    6   11   17\\nCONECT    7   10   18\\nCONECT    8   12   19   20\\nCONECT    9   21\\nCONECT   10   11   22\\nCONECT   11   23\\nCONECT   12   24\\nEND\\nENDMDL\\nMODEL       15\\nHETATM    1  O           1       0.542  -1.005  -1.044  0.00  0.00           O  \\nHETATM    2  C           1      -0.530  -1.536  -0.273  0.00  0.00           C  \\nHETATM    3  C           1       0.225   1.020   0.393  0.00  0.00           C  \\nHETATM    4  C           1       1.153   0.191  -0.529  0.00  0.00           C  \\nHETATM    5  O           1       0.603   2.401   0.414  0.00  0.00           O  \\nHETATM    6  O           1      -2.094   1.766   0.577  0.00  0.00           O  \\nHETATM    7  O           1      -2.755  -0.751  -0.985  0.00  0.00           O  \\nHETATM    8  C           1       2.492  -0.139   0.117  0.00  0.00           C  \\nHETATM    9  O           1      -0.011  -1.996   0.981  0.00  0.00           O  \\nHETATM   10  C           1      -1.692  -0.546  -0.043  0.00  0.00           C  \\nHETATM   11  C           1      -1.199   0.904  -0.150  0.00  0.00           C  \\nHETATM   12  O           1       2.334  -0.800   1.379  0.00  0.00           O  \\nHETATM   13  H1  UNL     1      -0.901  -2.415  -0.813  1.00  0.00           H  \\nHETATM   14  H2  UNL     1       0.237   0.675   1.432  1.00  0.00           H  \\nHETATM   15  H3  UNL     1       1.386   0.803  -1.418  1.00  0.00           H  \\nHETATM   16  H4  UNL     1       1.399   2.471   0.971  1.00  0.00           H  \\nHETATM   17  H5  UNL     1      -1.611   2.612   0.658  1.00  0.00           H  \\nHETATM   18  H6  UNL     1      -3.377  -0.019  -0.825  1.00  0.00           H  \\nHETATM   19  H7  UNL     1       3.075   0.769   0.304  1.00  0.00           H  \\nHETATM   20  H8  UNL     1       3.078  -0.811  -0.523  1.00  0.00           H  \\nHETATM   21  H9  UNL     1      -0.668  -2.629   1.324  1.00  0.00           H  \\nHETATM   22  H10 UNL     1      -2.124  -0.710   0.952  1.00  0.00           H  \\nHETATM   23  H11 UNL     1      -1.239   1.253  -1.190  1.00  0.00           H  \\nHETATM   24  H12 UNL     1       1.676  -1.507   1.243  1.00  0.00           H  \\nCONECT    1    2    4\\nCONECT    2    9   10   13\\nCONECT    3    4    5   11   14\\nCONECT    4    8   15\\nCONECT    5   16\\nCONECT    6   11   17\\nCONECT    7   10   18\\nCONECT    8   12   19   20\\nCONECT    9   21\\nCONECT   10   11   22\\nCONECT   11   23\\nCONECT   12   24\\nEND\\nENDMDL\\nMODEL       16\\nHETATM    1  O           1       0.536  -1.003  -1.043  0.00  0.00           O  \\nHETATM    2  C           1      -0.531  -1.538  -0.265  0.00  0.00           C  \\nHETATM    3  C           1       0.226   1.021   0.388  0.00  0.00           C  \\nHETATM    4  C           1       1.143   0.198  -0.529  0.00  0.00           C  \\nHETATM    5  O           1       0.601   2.406   0.410  0.00  0.00           O  \\nHETATM    6  O           1      -2.092   1.762   0.574  0.00  0.00           O  \\nHETATM    7  O           1      -2.748  -0.747  -0.979  0.00  0.00           O  \\nHETATM    8  C           1       2.496  -0.146   0.128  0.00  0.00           C  \\nHETATM    9  O           1      -0.012  -1.996   0.978  0.00  0.00           O  \\nHETATM   10  C           1      -1.684  -0.535  -0.036  0.00  0.00           C  \\nHETATM   11  C           1      -1.198   0.908  -0.154  0.00  0.00           C  \\nHETATM   12  O           1       2.338  -0.791   1.381  0.00  0.00           O  \\nHETATM   13  H1  UNL     1      -0.897  -2.416  -0.809  1.00  0.00           H  \\nHETATM   14  H2  UNL     1       0.239   0.673   1.430  1.00  0.00           H  \\nHETATM   15  H3  UNL     1       1.383   0.795  -1.412  1.00  0.00           H  \\nHETATM   16  H4  UNL     1       1.400   2.469   0.970  1.00  0.00           H  \\nHETATM   17  H5  UNL     1      -1.609   2.613   0.657  1.00  0.00           H  \\nHETATM   18  H6  UNL     1      -3.383  -0.015  -0.826  1.00  0.00           H  \\nHETATM   19  H7  UNL     1       3.075   0.766   0.298  1.00  0.00           H  \\nHETATM   20  H8  UNL     1       3.077  -0.807  -0.520  1.00  0.00           H  \\nHETATM   21  H9  UNL     1      -0.659  -2.648   1.309  1.00  0.00           H  \\nHETATM   22  H10 UNL     1      -2.130  -0.715   0.950  1.00  0.00           H  \\nHETATM   23  H11 UNL     1      -1.240   1.255  -1.194  1.00  0.00           H  \\nHETATM   24  H12 UNL     1       1.669  -1.506   1.244  1.00  0.00           H  \\nCONECT    1    2    4\\nCONECT    2    9   10   13\\nCONECT    3    4    5   11   14\\nCONECT    4    8   15\\nCONECT    5   16\\nCONECT    6   11   17\\nCONECT    7   10   18\\nCONECT    8   12   19   20\\nCONECT    9   21\\nCONECT   10   11   22\\nCONECT   11   23\\nCONECT   12   24\\nEND\\nENDMDL\\nMODEL       17\\nHETATM    1  O           1       0.540  -1.017  -1.028  0.00  0.00           O  \\nHETATM    2  C           1      -0.540  -1.534  -0.253  0.00  0.00           C  \\nHETATM    3  C           1       0.222   1.025   0.386  0.00  0.00           C  \\nHETATM    4  C           1       1.148   0.193  -0.530  0.00  0.00           C  \\nHETATM    5  O           1       0.609   2.407   0.396  0.00  0.00           O  \\nHETATM    6  O           1      -2.093   1.783   0.568  0.00  0.00           O  \\nHETATM    7  O           1      -2.755  -0.737  -0.982  0.00  0.00           O  \\nHETATM    8  C           1       2.489  -0.143   0.128  0.00  0.00           C  \\nHETATM    9  O           1      -0.038  -1.996   0.999  0.00  0.00           O  \\nHETATM   10  C           1      -1.692  -0.530  -0.033  0.00  0.00           C  \\nHETATM   11  C           1      -1.202   0.914  -0.150  0.00  0.00           C  \\nHETATM   12  O           1       2.331  -0.769   1.395  0.00  0.00           O  \\nHETATM   13  H1  UNL     1      -0.916  -2.407  -0.797  1.00  0.00           H  \\nHETATM   14  H2  UNL     1       0.233   0.693   1.432  1.00  0.00           H  \\nHETATM   15  H3  UNL     1       1.386   0.793  -1.425  1.00  0.00           H  \\nHETATM   16  H4  UNL     1       1.408   2.476   0.954  1.00  0.00           H  \\nHETATM   17  H5  UNL     1      -1.597   2.626   0.655  1.00  0.00           H  \\nHETATM   18  H6  UNL     1      -3.382  -0.005  -0.815  1.00  0.00           H  \\nHETATM   19  H7  UNL     1       3.076   0.771   0.293  1.00  0.00           H  \\nHETATM   20  H8  UNL     1       3.065  -0.830  -0.507  1.00  0.00           H  \\nHETATM   21  H9  UNL     1      -0.559  -2.799   1.216  1.00  0.00           H  \\nHETATM   22  H10 UNL     1      -2.138  -0.693   0.955  1.00  0.00           H  \\nHETATM   23  H11 UNL     1      -1.243   1.252  -1.189  1.00  0.00           H  \\nHETATM   24  H12 UNL     1       1.648  -1.475   1.284  1.00  0.00           H  \\nCONECT    1    2    4\\nCONECT    2    9   10   13\\nCONECT    3    4    5   11   14\\nCONECT    4    8   15\\nCONECT    5   16\\nCONECT    6   11   17\\nCONECT    7   10   18\\nCONECT    8   12   19   20\\nCONECT    9   21\\nCONECT   10   11   22\\nCONECT   11   23\\nCONECT   12   24\\nEND\\nENDMDL\\nMODEL       18\\nHETATM    1  O           1       0.532  -1.014  -1.025  0.00  0.00           O  \\nHETATM    2  C           1      -0.544  -1.531  -0.251  0.00  0.00           C  \\nHETATM    3  C           1       0.223   1.028   0.386  0.00  0.00           C  \\nHETATM    4  C           1       1.141   0.190  -0.524  0.00  0.00           C  \\nHETATM    5  O           1       0.609   2.410   0.395  0.00  0.00           O  \\nHETATM    6  O           1      -2.087   1.783   0.569  0.00  0.00           O  \\nHETATM    7  O           1      -2.755  -0.733  -0.977  0.00  0.00           O  \\nHETATM    8  C           1       2.490  -0.144   0.132  0.00  0.00           C  \\nHETATM    9  O           1      -0.038  -1.999   0.999  0.00  0.00           O  \\nHETATM   10  C           1      -1.693  -0.526  -0.029  0.00  0.00           C  \\nHETATM   11  C           1      -1.200   0.916  -0.155  0.00  0.00           C  \\nHETATM   12  O           1       2.326  -0.771   1.401  0.00  0.00           O  \\nHETATM   13  H1  UNL     1      -0.916  -2.407  -0.796  1.00  0.00           H  \\nHETATM   14  H2  UNL     1       0.238   0.691   1.428  1.00  0.00           H  \\nHETATM   15  H3  UNL     1       1.380   0.780  -1.417  1.00  0.00           H  \\nHETATM   16  H4  UNL     1       1.407   2.476   0.951  1.00  0.00           H  \\nHETATM   17  H5  UNL     1      -1.599   2.625   0.653  1.00  0.00           H  \\nHETATM   18  H6  UNL     1      -3.386  -0.005  -0.819  1.00  0.00           H  \\nHETATM   19  H7  UNL     1       3.077   0.765   0.287  1.00  0.00           H  \\nHETATM   20  H8  UNL     1       3.066  -0.825  -0.501  1.00  0.00           H  \\nHETATM   21  H9  UNL     1      -0.537  -2.803   1.199  1.00  0.00           H  \\nHETATM   22  H10 UNL     1      -2.140  -0.696   0.959  1.00  0.00           H  \\nHETATM   23  H11 UNL     1      -1.240   1.258  -1.197  1.00  0.00           H  \\nHETATM   24  H12 UNL     1       1.648  -1.467   1.283  1.00  0.00           H  \\nCONECT    1    2    4\\nCONECT    2    9   10   13\\nCONECT    3    4    5   11   14\\nCONECT    4    8   15\\nCONECT    5   16\\nCONECT    6   11   17\\nCONECT    7   10   18\\nCONECT    8   12   19   20\\nCONECT    9   21\\nCONECT   10   11   22\\nCONECT   11   23\\nCONECT   12   24\\nEND\\nENDMDL\\nMODEL       19\\nHETATM    1  O           1       0.524  -1.019  -1.019  0.00  0.00           O  \\nHETATM    2  C           1      -0.553  -1.532  -0.247  0.00  0.00           C  \\nHETATM    3  C           1       0.222   1.033   0.388  0.00  0.00           C  \\nHETATM    4  C           1       1.138   0.187  -0.525  0.00  0.00           C  \\nHETATM    5  O           1       0.612   2.411   0.381  0.00  0.00           O  \\nHETATM    6  O           1      -2.085   1.792   0.557  0.00  0.00           O  \\nHETATM    7  O           1      -2.763  -0.726  -0.963  0.00  0.00           O  \\nHETATM    8  C           1       2.489  -0.154   0.141  0.00  0.00           C  \\nHETATM    9  O           1      -0.048  -1.990   1.002  0.00  0.00           O  \\nHETATM   10  C           1      -1.691  -0.511  -0.023  0.00  0.00           C  \\nHETATM   11  C           1      -1.198   0.927  -0.152  0.00  0.00           C  \\nHETATM   12  O           1       2.326  -0.754   1.413  0.00  0.00           O  \\nHETATM   13  H1  UNL     1      -0.939  -2.407  -0.791  1.00  0.00           H  \\nHETATM   14  H2  UNL     1       0.230   0.698   1.435  1.00  0.00           H  \\nHETATM   15  H3  UNL     1       1.380   0.773  -1.421  1.00  0.00           H  \\nHETATM   16  H4  UNL     1       1.408   2.476   0.941  1.00  0.00           H  \\nHETATM   17  H5  UNL     1      -1.593   2.636   0.644  1.00  0.00           H  \\nHETATM   18  H6  UNL     1      -3.399   0.005  -0.818  1.00  0.00           H  \\nHETATM   19  H7  UNL     1       3.068   0.756   0.288  1.00  0.00           H  \\nHETATM   20  H8  UNL     1       3.059  -0.836  -0.484  1.00  0.00           H  \\nHETATM   21  H9  UNL     1      -0.427  -2.886   1.132  1.00  0.00           H  \\nHETATM   22  H10 UNL     1      -2.149  -0.682   0.957  1.00  0.00           H  \\nHETATM   23  H11 UNL     1      -1.242   1.257  -1.194  1.00  0.00           H  \\nHETATM   24  H12 UNL     1       1.630  -1.455   1.308  1.00  0.00           H  \\nCONECT    1    2    4\\nCONECT    2    9   10   13\\nCONECT    3    4    5   11   14\\nCONECT    4    8   15\\nCONECT    5   16\\nCONECT    6   11   17\\nCONECT    7   10   18\\nCONECT    8   12   19   20\\nCONECT    9   21\\nCONECT   10   11   22\\nCONECT   11   23\\nCONECT   12   24\\nEND\\nENDMDL\\nMODEL       20\\nHETATM    1  O           1       0.524  -1.020  -1.018  0.00  0.00           O  \\nHETATM    2  C           1      -0.558  -1.529  -0.244  0.00  0.00           C  \\nHETATM    3  C           1       0.222   1.031   0.384  0.00  0.00           C  \\nHETATM    4  C           1       1.138   0.183  -0.518  0.00  0.00           C  \\nHETATM    5  O           1       0.612   2.412   0.384  0.00  0.00           O  \\nHETATM    6  O           1      -2.087   1.798   0.562  0.00  0.00           O  \\nHETATM    7  O           1      -2.763  -0.722  -0.969  0.00  0.00           O  \\nHETATM    8  C           1       2.478  -0.148   0.140  0.00  0.00           C  \\nHETATM    9  O           1      -0.049  -1.997   1.007  0.00  0.00           O  \\nHETATM   10  C           1      -1.701  -0.518  -0.025  0.00  0.00           C  \\nHETATM   11  C           1      -1.200   0.922  -0.157  0.00  0.00           C  \\nHETATM   12  O           1       2.316  -0.763   1.419  0.00  0.00           O  \\nHETATM   13  H1  UNL     1      -0.937  -2.402  -0.788  1.00  0.00           H  \\nHETATM   14  H2  UNL     1       0.234   0.701   1.428  1.00  0.00           H  \\nHETATM   15  H3  UNL     1       1.379   0.769  -1.417  1.00  0.00           H  \\nHETATM   16  H4  UNL     1       1.411   2.478   0.941  1.00  0.00           H  \\nHETATM   17  H5  UNL     1      -1.593   2.637   0.642  1.00  0.00           H  \\nHETATM   18  H6  UNL     1      -3.394   0.005  -0.813  1.00  0.00           H  \\nHETATM   19  H7  UNL     1       3.075   0.761   0.286  1.00  0.00           H  \\nHETATM   20  H8  UNL     1       3.060  -0.841  -0.486  1.00  0.00           H  \\nHETATM   21  H9  UNL     1      -0.411  -2.888   1.119  1.00  0.00           H  \\nHETATM   22  H10 UNL     1      -2.147  -0.681   0.965  1.00  0.00           H  \\nHETATM   23  H11 UNL     1      -1.240   1.259  -1.201  1.00  0.00           H  \\nHETATM   24  H12 UNL     1       1.631  -1.448   1.311  1.00  0.00           H  \\nCONECT    1    2    4\\nCONECT    2    9   10   13\\nCONECT    3    4    5   11   14\\nCONECT    4    8   15\\nCONECT    5   16\\nCONECT    6   11   17\\nCONECT    7   10   18\\nCONECT    8   12   19   20\\nCONECT    9   21\\nCONECT   10   11   22\\nCONECT   11   23\\nCONECT   12   24\\nEND\\nENDMDL\\n\",\"trajectory\",{\"keepH\": true});\n\tviewer_17174838704860466.setBackgroundColor(\"white\");\n\tviewer_17174838704860466.setStyle({\"stick\": {\"scale\": 0.3}, \"sphere\": {\"scale\": 0.3}});\n\tviewer_17174838704860466.zoomTo();\n\tviewer_17174838704860466.animate({\"loop\": \"forward\", \"interval\": 10});\nviewer_17174838704860466.render();\n});\n</script>",
      "text/html": [
       "<div id=\"3dmolviewer_17174838704860466\"  style=\"position: relative; width: 400px; height: 300px;\">\n",
       "        <p id=\"3dmolwarning_17174838704860466\" style=\"background-color:#ffcccc;color:black\">3Dmol.js failed to load for some reason.  Please check your browser console for error messages.<br></p>\n",
       "        </div>\n",
       "<script>\n",
       "\n",
       "var loadScriptAsync = function(uri){\n",
       "  return new Promise((resolve, reject) => {\n",
       "    //this is to ignore the existence of requirejs amd\n",
       "    var savedexports, savedmodule;\n",
       "    if (typeof exports !== 'undefined') savedexports = exports;\n",
       "    else exports = {}\n",
       "    if (typeof module !== 'undefined') savedmodule = module;\n",
       "    else module = {}\n",
       "\n",
       "    var tag = document.createElement('script');\n",
       "    tag.src = uri;\n",
       "    tag.async = true;\n",
       "    tag.onload = () => {\n",
       "        exports = savedexports;\n",
       "        module = savedmodule;\n",
       "        resolve();\n",
       "    };\n",
       "  var firstScriptTag = document.getElementsByTagName('script')[0];\n",
       "  firstScriptTag.parentNode.insertBefore(tag, firstScriptTag);\n",
       "});\n",
       "};\n",
       "\n",
       "if(typeof $3Dmolpromise === 'undefined') {\n",
       "$3Dmolpromise = null;\n",
       "  $3Dmolpromise = loadScriptAsync('https://cdnjs.cloudflare.com/ajax/libs/3Dmol/2.1.0/3Dmol-min.js');\n",
       "}\n",
       "\n",
       "var viewer_17174838704860466 = null;\n",
       "var warn = document.getElementById(\"3dmolwarning_17174838704860466\");\n",
       "if(warn) {\n",
       "    warn.parentNode.removeChild(warn);\n",
       "}\n",
       "$3Dmolpromise.then(function() {\n",
       "viewer_17174838704860466 = $3Dmol.createViewer(document.getElementById(\"3dmolviewer_17174838704860466\"),{backgroundColor:\"white\"});\n",
       "viewer_17174838704860466.zoomTo();\n",
       "\tviewer_17174838704860466.addModelsAsFrames(\"MODEL        1\\nHETATM    1  O           1       0.445  -0.991  -1.065  0.00  0.00           O  \\nHETATM    2  C           1      -0.619  -1.540  -0.323  0.00  0.00           C  \\nHETATM    3  C           1       0.211   1.017   0.381  0.00  0.00           C  \\nHETATM    4  C           1       1.089   0.153  -0.541  0.00  0.00           C  \\nHETATM    5  O           1       0.639   2.385   0.401  0.00  0.00           O  \\nHETATM    6  O           1      -2.072   1.837   0.571  0.00  0.00           O  \\nHETATM    7  O           1      -2.949  -0.754  -0.576  0.00  0.00           O  \\nHETATM    8  C           1       2.416  -0.171   0.159  0.00  0.00           C  \\nHETATM    9  O           1      -0.144  -2.254   0.817  0.00  0.00           O  \\nHETATM   10  C           1      -1.702  -0.512   0.081  0.00  0.00           C  \\nHETATM   11  C           1      -1.228   0.932  -0.127  0.00  0.00           C  \\nHETATM   12  O           1       2.282  -1.010   1.285  0.00  0.00           O  \\nHETATM   13  H1  UNL     1      -1.103  -2.321  -0.950  1.00  0.00           H  \\nHETATM   14  H2  UNL     1       0.248   0.658   1.433  1.00  0.00           H  \\nHETATM   15  H3  UNL     1       1.359   0.789  -1.423  1.00  0.00           H  \\nHETATM   16  H4  UNL     1       1.192   2.480   1.193  1.00  0.00           H  \\nHETATM   17  H5  UNL     1      -1.709   2.725   0.415  1.00  0.00           H  \\nHETATM   18  H6  UNL     1      -2.976  -0.192  -1.361  1.00  0.00           H  \\nHETATM   19  H7  UNL     1       2.871   0.763   0.551  1.00  0.00           H  \\nHETATM   20  H8  UNL     1       3.126  -0.636  -0.554  1.00  0.00           H  \\nHETATM   21  H9  UNL     1      -0.748  -2.114   1.568  1.00  0.00           H  \\nHETATM   22  H10 UNL     1      -1.970  -0.596   1.151  1.00  0.00           H  \\nHETATM   23  H11 UNL     1      -1.287   1.233  -1.173  1.00  0.00           H  \\nHETATM   24  H12 UNL     1       2.629  -1.881   1.038  1.00  0.00           H  \\nCONECT    1    2    4\\nCONECT    2    9   10   13\\nCONECT    3    4    5   11   14\\nCONECT    4    8   15\\nCONECT    5   16\\nCONECT    6   11   17\\nCONECT    7   10   18\\nCONECT    8   12   19   20\\nCONECT    9   21\\nCONECT   10   11   22\\nCONECT   11   23\\nCONECT   12   24\\nEND\\nENDMDL\\nMODEL        2\\nHETATM    1  O           1       0.451  -0.993  -1.052  0.00  0.00           O  \\nHETATM    2  C           1      -0.632  -1.553  -0.298  0.00  0.00           C  \\nHETATM    3  C           1       0.193   1.016   0.396  0.00  0.00           C  \\nHETATM    4  C           1       1.092   0.174  -0.501  0.00  0.00           C  \\nHETATM    5  O           1       0.618   2.396   0.392  0.00  0.00           O  \\nHETATM    6  O           1      -2.081   1.847   0.570  0.00  0.00           O  \\nHETATM    7  O           1      -2.944  -0.768  -0.613  0.00  0.00           O  \\nHETATM    8  C           1       2.450  -0.149   0.153  0.00  0.00           C  \\nHETATM    9  O           1      -0.131  -2.275   0.801  0.00  0.00           O  \\nHETATM   10  C           1      -1.716  -0.514   0.095  0.00  0.00           C  \\nHETATM   11  C           1      -1.229   0.917  -0.129  0.00  0.00           C  \\nHETATM   12  O           1       2.321  -0.975   1.324  0.00  0.00           O  \\nHETATM   13  H1  UNL     1      -1.093  -2.295  -0.956  1.00  0.00           H  \\nHETATM   14  H2  UNL     1       0.219   0.669   1.437  1.00  0.00           H  \\nHETATM   15  H3  UNL     1       1.352   0.766  -1.381  1.00  0.00           H  \\nHETATM   16  H4  UNL     1       1.205   2.502   1.175  1.00  0.00           H  \\nHETATM   17  H5  UNL     1      -1.669   2.732   0.449  1.00  0.00           H  \\nHETATM   18  H6  UNL     1      -2.998  -0.162  -1.388  1.00  0.00           H  \\nHETATM   19  H7  UNL     1       2.928   0.769   0.475  1.00  0.00           H  \\nHETATM   20  H8  UNL     1       3.118  -0.654  -0.550  1.00  0.00           H  \\nHETATM   21  H9  UNL     1      -0.700  -2.130   1.567  1.00  0.00           H  \\nHETATM   22  H10 UNL     1      -1.984  -0.635   1.152  1.00  0.00           H  \\nHETATM   23  H11 UNL     1      -1.288   1.210  -1.190  1.00  0.00           H  \\nHETATM   24  H12 UNL     1       2.518  -1.895   1.024  1.00  0.00           H  \\nCONECT    1    2    4\\nCONECT    2    9   10   13\\nCONECT    3    4    5   11   14\\nCONECT    4    8   15\\nCONECT    5   16\\nCONECT    6   11   17\\nCONECT    7   10   18\\nCONECT    8   12   19   20\\nCONECT    9   21\\nCONECT   10   11   22\\nCONECT   11   23\\nCONECT   12   24\\nEND\\nENDMDL\\nMODEL        3\\nHETATM    1  O           1       0.476  -0.997  -1.041  0.00  0.00           O  \\nHETATM    2  C           1      -0.619  -1.568  -0.307  0.00  0.00           C  \\nHETATM    3  C           1       0.199   1.010   0.420  0.00  0.00           C  \\nHETATM    4  C           1       1.109   0.175  -0.497  0.00  0.00           C  \\nHETATM    5  O           1       0.576   2.390   0.409  0.00  0.00           O  \\nHETATM    6  O           1      -2.105   1.840   0.550  0.00  0.00           O  \\nHETATM    7  O           1      -2.929  -0.791  -0.641  0.00  0.00           O  \\nHETATM    8  C           1       2.469  -0.146   0.137  0.00  0.00           C  \\nHETATM    9  O           1      -0.098  -2.293   0.808  0.00  0.00           O  \\nHETATM   10  C           1      -1.720  -0.517   0.084  0.00  0.00           C  \\nHETATM   11  C           1      -1.232   0.919  -0.120  0.00  0.00           C  \\nHETATM   12  O           1       2.393  -0.921   1.325  0.00  0.00           O  \\nHETATM   13  H1  UNL     1      -1.073  -2.319  -0.976  1.00  0.00           H  \\nHETATM   14  H2  UNL     1       0.215   0.697   1.471  1.00  0.00           H  \\nHETATM   15  H3  UNL     1       1.347   0.799  -1.374  1.00  0.00           H  \\nHETATM   16  H4  UNL     1       1.225   2.515   1.131  1.00  0.00           H  \\nHETATM   17  H5  UNL     1      -1.614   2.686   0.496  1.00  0.00           H  \\nHETATM   18  H6  UNL     1      -2.987  -0.120  -1.353  1.00  0.00           H  \\nHETATM   19  H7  UNL     1       2.966   0.779   0.433  1.00  0.00           H  \\nHETATM   20  H8  UNL     1       3.096  -0.699  -0.567  1.00  0.00           H  \\nHETATM   21  H9  UNL     1      -0.661  -2.122   1.579  1.00  0.00           H  \\nHETATM   22  H10 UNL     1      -2.025  -0.649   1.123  1.00  0.00           H  \\nHETATM   23  H11 UNL     1      -1.273   1.197  -1.179  1.00  0.00           H  \\nHETATM   24  H12 UNL     1       2.267  -1.862   1.039  1.00  0.00           H  \\nCONECT    1    2    4\\nCONECT    2    9   10   13\\nCONECT    3    4    5   11   14\\nCONECT    4    8   15\\nCONECT    5   16\\nCONECT    6   11   17\\nCONECT    7   10   18\\nCONECT    8   12   19   20\\nCONECT    9   21\\nCONECT   10   11   22\\nCONECT   11   23\\nCONECT   12   24\\nEND\\nENDMDL\\nMODEL        4\\nHETATM    1  O           1       0.471  -0.984  -1.032  0.00  0.00           O  \\nHETATM    2  C           1      -0.603  -1.557  -0.301  0.00  0.00           C  \\nHETATM    3  C           1       0.201   1.017   0.419  0.00  0.00           C  \\nHETATM    4  C           1       1.103   0.172  -0.487  0.00  0.00           C  \\nHETATM    5  O           1       0.579   2.395   0.413  0.00  0.00           O  \\nHETATM    6  O           1      -2.087   1.825   0.558  0.00  0.00           O  \\nHETATM    7  O           1      -2.909  -0.791  -0.682  0.00  0.00           O  \\nHETATM    8  C           1       2.467  -0.153   0.146  0.00  0.00           C  \\nHETATM    9  O           1      -0.075  -2.271   0.815  0.00  0.00           O  \\nHETATM   10  C           1      -1.715  -0.533   0.081  0.00  0.00           C  \\nHETATM   11  C           1      -1.226   0.909  -0.122  0.00  0.00           C  \\nHETATM   12  O           1       2.359  -0.923   1.318  0.00  0.00           O  \\nHETATM   13  H1  UNL     1      -1.049  -2.318  -0.957  1.00  0.00           H  \\nHETATM   14  H2  UNL     1       0.215   0.674   1.458  1.00  0.00           H  \\nHETATM   15  H3  UNL     1       1.340   0.789  -1.364  1.00  0.00           H  \\nHETATM   16  H4  UNL     1       1.241   2.513   1.117  1.00  0.00           H  \\nHETATM   17  H5  UNL     1      -1.620   2.683   0.520  1.00  0.00           H  \\nHETATM   18  H6  UNL     1      -3.018  -0.102  -1.343  1.00  0.00           H  \\nHETATM   19  H7  UNL     1       2.989   0.785   0.399  1.00  0.00           H  \\nHETATM   20  H8  UNL     1       3.097  -0.687  -0.564  1.00  0.00           H  \\nHETATM   21  H9  UNL     1      -0.656  -2.115   1.579  1.00  0.00           H  \\nHETATM   22  H10 UNL     1      -2.005  -0.675   1.131  1.00  0.00           H  \\nHETATM   23  H11 UNL     1      -1.263   1.183  -1.189  1.00  0.00           H  \\nHETATM   24  H12 UNL     1       2.164  -1.836   1.038  1.00  0.00           H  \\nCONECT    1    2    4\\nCONECT    2    9   10   13\\nCONECT    3    4    5   11   14\\nCONECT    4    8   15\\nCONECT    5   16\\nCONECT    6   11   17\\nCONECT    7   10   18\\nCONECT    8   12   19   20\\nCONECT    9   21\\nCONECT   10   11   22\\nCONECT   11   23\\nCONECT   12   24\\nEND\\nENDMDL\\nMODEL        5\\nHETATM    1  O           1       0.503  -0.987  -1.057  0.00  0.00           O  \\nHETATM    2  C           1      -0.560  -1.578  -0.313  0.00  0.00           C  \\nHETATM    3  C           1       0.206   1.012   0.429  0.00  0.00           C  \\nHETATM    4  C           1       1.124   0.188  -0.525  0.00  0.00           C  \\nHETATM    5  O           1       0.568   2.396   0.432  0.00  0.00           O  \\nHETATM    6  O           1      -2.106   1.796   0.545  0.00  0.00           O  \\nHETATM    7  O           1      -2.874  -0.832  -0.722  0.00  0.00           O  \\nHETATM    8  C           1       2.480  -0.135   0.127  0.00  0.00           C  \\nHETATM    9  O           1      -0.006  -2.213   0.853  0.00  0.00           O  \\nHETATM   10  C           1      -1.702  -0.556   0.058  0.00  0.00           C  \\nHETATM   11  C           1      -1.215   0.897  -0.122  0.00  0.00           C  \\nHETATM   12  O           1       2.354  -0.909   1.310  0.00  0.00           O  \\nHETATM   13  H1  UNL     1      -0.998  -2.372  -0.923  1.00  0.00           H  \\nHETATM   14  H2  UNL     1       0.226   0.681   1.470  1.00  0.00           H  \\nHETATM   15  H3  UNL     1       1.358   0.836  -1.402  1.00  0.00           H  \\nHETATM   16  H4  UNL     1       1.286   2.487   1.086  1.00  0.00           H  \\nHETATM   17  H5  UNL     1      -1.609   2.642   0.563  1.00  0.00           H  \\nHETATM   18  H6  UNL     1      -3.039  -0.025  -1.250  1.00  0.00           H  \\nHETATM   19  H7  UNL     1       2.988   0.769   0.411  1.00  0.00           H  \\nHETATM   20  H8  UNL     1       3.086  -0.743  -0.574  1.00  0.00           H  \\nHETATM   21  H9  UNL     1      -0.635  -2.123   1.592  1.00  0.00           H  \\nHETATM   22  H10 UNL     1      -2.048  -0.681   1.083  1.00  0.00           H  \\nHETATM   23  H11 UNL     1      -1.268   1.202  -1.164  1.00  0.00           H  \\nHETATM   24  H12 UNL     1       1.881  -1.750   1.046  1.00  0.00           H  \\nCONECT    1    2    4\\nCONECT    2    9   10   13\\nCONECT    3    4    5   11   14\\nCONECT    4    8   15\\nCONECT    5   16\\nCONECT    6   11   17\\nCONECT    7   10   18\\nCONECT    8   12   19   20\\nCONECT    9   21\\nCONECT   10   11   22\\nCONECT   11   23\\nCONECT   12   24\\nEND\\nENDMDL\\nMODEL        6\\nHETATM    1  O           1       0.490  -0.975  -1.060  0.00  0.00           O  \\nHETATM    2  C           1      -0.557  -1.564  -0.287  0.00  0.00           C  \\nHETATM    3  C           1       0.208   1.013   0.413  0.00  0.00           C  \\nHETATM    4  C           1       1.118   0.196  -0.508  0.00  0.00           C  \\nHETATM    5  O           1       0.571   2.398   0.431  0.00  0.00           O  \\nHETATM    6  O           1      -2.093   1.788   0.562  0.00  0.00           O  \\nHETATM    7  O           1      -2.849  -0.825  -0.772  0.00  0.00           O  \\nHETATM    8  C           1       2.468  -0.157   0.124  0.00  0.00           C  \\nHETATM    9  O           1       0.011  -2.188   0.856  0.00  0.00           O  \\nHETATM   10  C           1      -1.690  -0.553   0.052  0.00  0.00           C  \\nHETATM   11  C           1      -1.215   0.895  -0.124  0.00  0.00           C  \\nHETATM   12  O           1       2.323  -0.925   1.313  0.00  0.00           O  \\nHETATM   13  H1  UNL     1      -0.978  -2.373  -0.909  1.00  0.00           H  \\nHETATM   14  H2  UNL     1       0.227   0.659   1.454  1.00  0.00           H  \\nHETATM   15  H3  UNL     1       1.352   0.812  -1.379  1.00  0.00           H  \\nHETATM   16  H4  UNL     1       1.294   2.492   1.076  1.00  0.00           H  \\nHETATM   17  H5  UNL     1      -1.618   2.642   0.575  1.00  0.00           H  \\nHETATM   18  H6  UNL     1      -3.087  -0.011  -1.229  1.00  0.00           H  \\nHETATM   19  H7  UNL     1       3.012   0.771   0.388  1.00  0.00           H  \\nHETATM   20  H8  UNL     1       3.088  -0.717  -0.568  1.00  0.00           H  \\nHETATM   21  H9  UNL     1      -0.638  -2.131   1.581  1.00  0.00           H  \\nHETATM   22  H10 UNL     1      -2.030  -0.706   1.092  1.00  0.00           H  \\nHETATM   23  H11 UNL     1      -1.256   1.187  -1.185  1.00  0.00           H  \\nHETATM   24  H12 UNL     1       1.848  -1.728   1.056  1.00  0.00           H  \\nCONECT    1    2    4\\nCONECT    2    9   10   13\\nCONECT    3    4    5   11   14\\nCONECT    4    8   15\\nCONECT    5   16\\nCONECT    6   11   17\\nCONECT    7   10   18\\nCONECT    8   12   19   20\\nCONECT    9   21\\nCONECT   10   11   22\\nCONECT   11   23\\nCONECT   12   24\\nEND\\nENDMDL\\nMODEL        7\\nHETATM    1  O           1       0.511  -0.975  -1.072  0.00  0.00           O  \\nHETATM    2  C           1      -0.528  -1.570  -0.287  0.00  0.00           C  \\nHETATM    3  C           1       0.205   1.006   0.410  0.00  0.00           C  \\nHETATM    4  C           1       1.127   0.209  -0.534  0.00  0.00           C  \\nHETATM    5  O           1       0.570   2.391   0.436  0.00  0.00           O  \\nHETATM    6  O           1      -2.104   1.761   0.554  0.00  0.00           O  \\nHETATM    7  O           1      -2.792  -0.829  -0.855  0.00  0.00           O  \\nHETATM    8  C           1       2.469  -0.159   0.123  0.00  0.00           C  \\nHETATM    9  O           1       0.053  -2.106   0.895  0.00  0.00           O  \\nHETATM   10  C           1      -1.674  -0.572   0.016  0.00  0.00           C  \\nHETATM   11  C           1      -1.214   0.880  -0.135  0.00  0.00           C  \\nHETATM   12  O           1       2.326  -0.909   1.312  0.00  0.00           O  \\nHETATM   13  H1  UNL     1      -0.927  -2.414  -0.864  1.00  0.00           H  \\nHETATM   14  H2  UNL     1       0.234   0.663   1.451  1.00  0.00           H  \\nHETATM   15  H3  UNL     1       1.378   0.841  -1.400  1.00  0.00           H  \\nHETATM   16  H4  UNL     1       1.328   2.484   1.046  1.00  0.00           H  \\nHETATM   17  H5  UNL     1      -1.620   2.614   0.605  1.00  0.00           H  \\nHETATM   18  H6  UNL     1      -3.186   0.062  -1.067  1.00  0.00           H  \\nHETATM   19  H7  UNL     1       3.021   0.757   0.396  1.00  0.00           H  \\nHETATM   20  H8  UNL     1       3.079  -0.765  -0.570  1.00  0.00           H  \\nHETATM   21  H9  UNL     1      -0.646  -2.184   1.565  1.00  0.00           H  \\nHETATM   22  H10 UNL     1      -2.079  -0.723   1.021  1.00  0.00           H  \\nHETATM   23  H11 UNL     1      -1.256   1.202  -1.176  1.00  0.00           H  \\nHETATM   24  H12 UNL     1       1.723  -1.665   1.082  1.00  0.00           H  \\nCONECT    1    2    4\\nCONECT    2    9   10   13\\nCONECT    3    4    5   11   14\\nCONECT    4    8   15\\nCONECT    5   16\\nCONECT    6   11   17\\nCONECT    7   10   18\\nCONECT    8   12   19   20\\nCONECT    9   21\\nCONECT   10   11   22\\nCONECT   11   23\\nCONECT   12   24\\nEND\\nENDMDL\\nMODEL        8\\nHETATM    1  O           1       0.502  -0.970  -1.069  0.00  0.00           O  \\nHETATM    2  C           1      -0.523  -1.563  -0.287  0.00  0.00           C  \\nHETATM    3  C           1       0.205   1.012   0.403  0.00  0.00           C  \\nHETATM    4  C           1       1.123   0.200  -0.517  0.00  0.00           C  \\nHETATM    5  O           1       0.570   2.397   0.434  0.00  0.00           O  \\nHETATM    6  O           1      -2.096   1.751   0.566  0.00  0.00           O  \\nHETATM    7  O           1      -2.764  -0.789  -0.914  0.00  0.00           O  \\nHETATM    8  C           1       2.480  -0.154   0.120  0.00  0.00           C  \\nHETATM    9  O           1       0.050  -2.093   0.901  0.00  0.00           O  \\nHETATM   10  C           1      -1.676  -0.567   0.006  0.00  0.00           C  \\nHETATM   11  C           1      -1.203   0.882  -0.140  0.00  0.00           C  \\nHETATM   12  O           1       2.313  -0.905   1.329  0.00  0.00           O  \\nHETATM   13  H1  UNL     1      -0.909  -2.412  -0.855  1.00  0.00           H  \\nHETATM   14  H2  UNL     1       0.237   0.651   1.438  1.00  0.00           H  \\nHETATM   15  H3  UNL     1       1.373   0.820  -1.389  1.00  0.00           H  \\nHETATM   16  H4  UNL     1       1.335   2.483   1.034  1.00  0.00           H  \\nHETATM   17  H5  UNL     1      -1.629   2.610   0.615  1.00  0.00           H  \\nHETATM   18  H6  UNL     1      -3.248   0.044  -1.005  1.00  0.00           H  \\nHETATM   19  H7  UNL     1       3.038   0.750   0.366  1.00  0.00           H  \\nHETATM   20  H8  UNL     1       3.086  -0.749  -0.565  1.00  0.00           H  \\nHETATM   21  H9  UNL     1      -0.666  -2.208   1.553  1.00  0.00           H  \\nHETATM   22  H10 UNL     1      -2.078  -0.737   1.016  1.00  0.00           H  \\nHETATM   23  H11 UNL     1      -1.243   1.201  -1.193  1.00  0.00           H  \\nHETATM   24  H12 UNL     1       1.722  -1.654   1.102  1.00  0.00           H  \\nCONECT    1    2    4\\nCONECT    2    9   10   13\\nCONECT    3    4    5   11   14\\nCONECT    4    8   15\\nCONECT    5   16\\nCONECT    6   11   17\\nCONECT    7   10   18\\nCONECT    8   12   19   20\\nCONECT    9   21\\nCONECT   10   11   22\\nCONECT   11   23\\nCONECT   12   24\\nEND\\nENDMDL\\nMODEL        9\\nHETATM    1  O           1       0.520  -0.978  -1.072  0.00  0.00           O  \\nHETATM    2  C           1      -0.524  -1.563  -0.287  0.00  0.00           C  \\nHETATM    3  C           1       0.214   1.011   0.406  0.00  0.00           C  \\nHETATM    4  C           1       1.136   0.203  -0.526  0.00  0.00           C  \\nHETATM    5  O           1       0.572   2.396   0.433  0.00  0.00           O  \\nHETATM    6  O           1      -2.101   1.748   0.563  0.00  0.00           O  \\nHETATM    7  O           1      -2.760  -0.796  -0.922  0.00  0.00           O  \\nHETATM    8  C           1       2.477  -0.157   0.124  0.00  0.00           C  \\nHETATM    9  O           1       0.046  -2.082   0.913  0.00  0.00           O  \\nHETATM   10  C           1      -1.677  -0.568  -0.009  0.00  0.00           C  \\nHETATM   11  C           1      -1.205   0.882  -0.142  0.00  0.00           C  \\nHETATM   12  O           1       2.326  -0.891   1.328  0.00  0.00           O  \\nHETATM   13  H1  UNL     1      -0.907  -2.419  -0.853  1.00  0.00           H  \\nHETATM   14  H2  UNL     1       0.236   0.654   1.443  1.00  0.00           H  \\nHETATM   15  H3  UNL     1       1.378   0.826  -1.396  1.00  0.00           H  \\nHETATM   16  H4  UNL     1       1.342   2.481   1.028  1.00  0.00           H  \\nHETATM   17  H5  UNL     1      -1.629   2.606   0.619  1.00  0.00           H  \\nHETATM   18  H6  UNL     1      -3.272   0.050  -0.961  1.00  0.00           H  \\nHETATM   19  H7  UNL     1       3.040   0.756   0.369  1.00  0.00           H  \\nHETATM   20  H8  UNL     1       3.086  -0.765  -0.563  1.00  0.00           H  \\nHETATM   21  H9  UNL     1      -0.677  -2.230   1.541  1.00  0.00           H  \\nHETATM   22  H10 UNL     1      -2.097  -0.736   0.990  1.00  0.00           H  \\nHETATM   23  H11 UNL     1      -1.244   1.212  -1.186  1.00  0.00           H  \\nHETATM   24  H12 UNL     1       1.721  -1.640   1.113  1.00  0.00           H  \\nCONECT    1    2    4\\nCONECT    2    9   10   13\\nCONECT    3    4    5   11   14\\nCONECT    4    8   15\\nCONECT    5   16\\nCONECT    6   11   17\\nCONECT    7   10   18\\nCONECT    8   12   19   20\\nCONECT    9   21\\nCONECT   10   11   22\\nCONECT   11   23\\nCONECT   12   24\\nEND\\nENDMDL\\nMODEL       10\\nHETATM    1  O           1       0.518  -0.977  -1.065  0.00  0.00           O  \\nHETATM    2  C           1      -0.524  -1.557  -0.284  0.00  0.00           C  \\nHETATM    3  C           1       0.227   1.011   0.401  0.00  0.00           C  \\nHETATM    4  C           1       1.151   0.188  -0.520  0.00  0.00           C  \\nHETATM    5  O           1       0.577   2.402   0.430  0.00  0.00           O  \\nHETATM    6  O           1      -2.103   1.736   0.576  0.00  0.00           O  \\nHETATM    7  O           1      -2.742  -0.747  -0.989  0.00  0.00           O  \\nHETATM    8  C           1       2.489  -0.152   0.126  0.00  0.00           C  \\nHETATM    9  O           1       0.037  -2.044   0.930  0.00  0.00           O  \\nHETATM   10  C           1      -1.680  -0.559  -0.035  0.00  0.00           C  \\nHETATM   11  C           1      -1.198   0.892  -0.153  0.00  0.00           C  \\nHETATM   12  O           1       2.332  -0.860   1.342  0.00  0.00           O  \\nHETATM   13  H1  UNL     1      -0.881  -2.429  -0.842  1.00  0.00           H  \\nHETATM   14  H2  UNL     1       0.239   0.647   1.429  1.00  0.00           H  \\nHETATM   15  H3  UNL     1       1.379   0.808  -1.388  1.00  0.00           H  \\nHETATM   16  H4  UNL     1       1.360   2.469   1.007  1.00  0.00           H  \\nHETATM   17  H5  UNL     1      -1.634   2.595   0.633  1.00  0.00           H  \\nHETATM   18  H6  UNL     1      -3.350   0.017  -0.855  1.00  0.00           H  \\nHETATM   19  H7  UNL     1       3.063   0.756   0.336  1.00  0.00           H  \\nHETATM   20  H8  UNL     1       3.090  -0.761  -0.548  1.00  0.00           H  \\nHETATM   21  H9  UNL     1      -0.722  -2.302   1.499  1.00  0.00           H  \\nHETATM   22  H10 UNL     1      -2.106  -0.750   0.969  1.00  0.00           H  \\nHETATM   23  H11 UNL     1      -1.233   1.224  -1.200  1.00  0.00           H  \\nHETATM   24  H12 UNL     1       1.711  -1.608   1.153  1.00  0.00           H  \\nCONECT    1    2    4\\nCONECT    2    9   10   13\\nCONECT    3    4    5   11   14\\nCONECT    4    8   15\\nCONECT    5   16\\nCONECT    6   11   17\\nCONECT    7   10   18\\nCONECT    8   12   19   20\\nCONECT    9   21\\nCONECT   10   11   22\\nCONECT   11   23\\nCONECT   12   24\\nEND\\nENDMDL\\nMODEL       11\\nHETATM    1  O           1       0.533  -0.989  -1.067  0.00  0.00           O  \\nHETATM    2  C           1      -0.519  -1.556  -0.291  0.00  0.00           C  \\nHETATM    3  C           1       0.220   1.009   0.398  0.00  0.00           C  \\nHETATM    4  C           1       1.143   0.200  -0.526  0.00  0.00           C  \\nHETATM    5  O           1       0.582   2.395   0.431  0.00  0.00           O  \\nHETATM    6  O           1      -2.101   1.740   0.570  0.00  0.00           O  \\nHETATM    7  O           1      -2.750  -0.753  -0.973  0.00  0.00           O  \\nHETATM    8  C           1       2.494  -0.151   0.122  0.00  0.00           C  \\nHETATM    9  O           1       0.026  -2.041   0.939  0.00  0.00           O  \\nHETATM   10  C           1      -1.678  -0.559  -0.036  0.00  0.00           C  \\nHETATM   11  C           1      -1.196   0.886  -0.148  0.00  0.00           C  \\nHETATM   12  O           1       2.337  -0.860   1.347  0.00  0.00           O  \\nHETATM   13  H1  UNL     1      -0.890  -2.427  -0.840  1.00  0.00           H  \\nHETATM   14  H2  UNL     1       0.237   0.652   1.439  1.00  0.00           H  \\nHETATM   15  H3  UNL     1       1.386   0.818  -1.402  1.00  0.00           H  \\nHETATM   16  H4  UNL     1       1.366   2.471   1.006  1.00  0.00           H  \\nHETATM   17  H5  UNL     1      -1.632   2.597   0.636  1.00  0.00           H  \\nHETATM   18  H6  UNL     1      -3.347   0.006  -0.852  1.00  0.00           H  \\nHETATM   19  H7  UNL     1       3.058   0.759   0.342  1.00  0.00           H  \\nHETATM   20  H8  UNL     1       3.089  -0.777  -0.549  1.00  0.00           H  \\nHETATM   21  H9  UNL     1      -0.716  -2.320   1.488  1.00  0.00           H  \\nHETATM   22  H10 UNL     1      -2.117  -0.741   0.948  1.00  0.00           H  \\nHETATM   23  H11 UNL     1      -1.236   1.233  -1.190  1.00  0.00           H  \\nHETATM   24  H12 UNL     1       1.712  -1.595   1.159  1.00  0.00           H  \\nCONECT    1    2    4\\nCONECT    2    9   10   13\\nCONECT    3    4    5   11   14\\nCONECT    4    8   15\\nCONECT    5   16\\nCONECT    6   11   17\\nCONECT    7   10   18\\nCONECT    8   12   19   20\\nCONECT    9   21\\nCONECT   10   11   22\\nCONECT   11   23\\nCONECT   12   24\\nEND\\nENDMDL\\nMODEL       12\\nHETATM    1  O           1       0.529  -0.987  -1.059  0.00  0.00           O  \\nHETATM    2  C           1      -0.522  -1.547  -0.282  0.00  0.00           C  \\nHETATM    3  C           1       0.224   1.015   0.390  0.00  0.00           C  \\nHETATM    4  C           1       1.151   0.191  -0.523  0.00  0.00           C  \\nHETATM    5  O           1       0.592   2.401   0.429  0.00  0.00           O  \\nHETATM    6  O           1      -2.095   1.744   0.581  0.00  0.00           O  \\nHETATM    7  O           1      -2.752  -0.761  -0.985  0.00  0.00           O  \\nHETATM    8  C           1       2.497  -0.148   0.121  0.00  0.00           C  \\nHETATM    9  O           1       0.019  -2.018   0.947  0.00  0.00           O  \\nHETATM   10  C           1      -1.683  -0.553  -0.042  0.00  0.00           C  \\nHETATM   11  C           1      -1.198   0.898  -0.155  0.00  0.00           C  \\nHETATM   12  O           1       2.337  -0.833   1.357  0.00  0.00           O  \\nHETATM   13  H1  UNL     1      -0.885  -2.422  -0.830  1.00  0.00           H  \\nHETATM   14  H2  UNL     1       0.244   0.654   1.430  1.00  0.00           H  \\nHETATM   15  H3  UNL     1       1.384   0.806  -1.400  1.00  0.00           H  \\nHETATM   16  H4  UNL     1       1.386   2.463   0.994  1.00  0.00           H  \\nHETATM   17  H5  UNL     1      -1.626   2.600   0.647  1.00  0.00           H  \\nHETATM   18  H6  UNL     1      -3.370  -0.022  -0.835  1.00  0.00           H  \\nHETATM   19  H7  UNL     1       3.069   0.762   0.323  1.00  0.00           H  \\nHETATM   20  H8  UNL     1       3.088  -0.784  -0.539  1.00  0.00           H  \\nHETATM   21  H9  UNL     1      -0.735  -2.420   1.433  1.00  0.00           H  \\nHETATM   22  H10 UNL     1      -2.116  -0.735   0.952  1.00  0.00           H  \\nHETATM   23  H11 UNL     1      -1.235   1.253  -1.196  1.00  0.00           H  \\nHETATM   24  H12 UNL     1       1.700  -1.558   1.191  1.00  0.00           H  \\nCONECT    1    2    4\\nCONECT    2    9   10   13\\nCONECT    3    4    5   11   14\\nCONECT    4    8   15\\nCONECT    5   16\\nCONECT    6   11   17\\nCONECT    7   10   18\\nCONECT    8   12   19   20\\nCONECT    9   21\\nCONECT   10   11   22\\nCONECT   11   23\\nCONECT   12   24\\nEND\\nENDMDL\\nMODEL       13\\nHETATM    1  O           1       0.539  -0.993  -1.060  0.00  0.00           O  \\nHETATM    2  C           1      -0.522  -1.547  -0.284  0.00  0.00           C  \\nHETATM    3  C           1       0.225   1.013   0.397  0.00  0.00           C  \\nHETATM    4  C           1       1.148   0.200  -0.531  0.00  0.00           C  \\nHETATM    5  O           1       0.594   2.398   0.426  0.00  0.00           O  \\nHETATM    6  O           1      -2.097   1.747   0.577  0.00  0.00           O  \\nHETATM    7  O           1      -2.747  -0.757  -0.978  0.00  0.00           O  \\nHETATM    8  C           1       2.496  -0.147   0.123  0.00  0.00           C  \\nHETATM    9  O           1       0.008  -2.017   0.957  0.00  0.00           O  \\nHETATM   10  C           1      -1.679  -0.550  -0.043  0.00  0.00           C  \\nHETATM   11  C           1      -1.197   0.897  -0.152  0.00  0.00           C  \\nHETATM   12  O           1       2.342  -0.828   1.361  0.00  0.00           O  \\nHETATM   13  H1  UNL     1      -0.889  -2.423  -0.829  1.00  0.00           H  \\nHETATM   14  H2  UNL     1       0.238   0.658   1.432  1.00  0.00           H  \\nHETATM   15  H3  UNL     1       1.388   0.812  -1.409  1.00  0.00           H  \\nHETATM   16  H4  UNL     1       1.387   2.464   0.991  1.00  0.00           H  \\nHETATM   17  H5  UNL     1      -1.623   2.602   0.650  1.00  0.00           H  \\nHETATM   18  H6  UNL     1      -3.374  -0.020  -0.834  1.00  0.00           H  \\nHETATM   19  H7  UNL     1       3.068   0.764   0.321  1.00  0.00           H  \\nHETATM   20  H8  UNL     1       3.086  -0.791  -0.538  1.00  0.00           H  \\nHETATM   21  H9  UNL     1      -0.723  -2.444   1.421  1.00  0.00           H  \\nHETATM   22  H10 UNL     1      -2.120  -0.730   0.945  1.00  0.00           H  \\nHETATM   23  H11 UNL     1      -1.240   1.248  -1.189  1.00  0.00           H  \\nHETATM   24  H12 UNL     1       1.695  -1.555   1.197  1.00  0.00           H  \\nCONECT    1    2    4\\nCONECT    2    9   10   13\\nCONECT    3    4    5   11   14\\nCONECT    4    8   15\\nCONECT    5   16\\nCONECT    6   11   17\\nCONECT    7   10   18\\nCONECT    8   12   19   20\\nCONECT    9   21\\nCONECT   10   11   22\\nCONECT   11   23\\nCONECT   12   24\\nEND\\nENDMDL\\nMODEL       14\\nHETATM    1  O           1       0.532  -0.994  -1.052  0.00  0.00           O  \\nHETATM    2  C           1      -0.528  -1.540  -0.270  0.00  0.00           C  \\nHETATM    3  C           1       0.225   1.019   0.389  0.00  0.00           C  \\nHETATM    4  C           1       1.144   0.198  -0.522  0.00  0.00           C  \\nHETATM    5  O           1       0.597   2.402   0.421  0.00  0.00           O  \\nHETATM    6  O           1      -2.093   1.753   0.579  0.00  0.00           O  \\nHETATM    7  O           1      -2.746  -0.747  -0.985  0.00  0.00           O  \\nHETATM    8  C           1       2.496  -0.145   0.123  0.00  0.00           C  \\nHETATM    9  O           1       0.005  -2.007   0.966  0.00  0.00           O  \\nHETATM   10  C           1      -1.685  -0.545  -0.040  0.00  0.00           C  \\nHETATM   11  C           1      -1.197   0.900  -0.157  0.00  0.00           C  \\nHETATM   12  O           1       2.335  -0.810   1.372  0.00  0.00           O  \\nHETATM   13  H1  UNL     1      -0.885  -2.419  -0.816  1.00  0.00           H  \\nHETATM   14  H2  UNL     1       0.243   0.664   1.424  1.00  0.00           H  \\nHETATM   15  H3  UNL     1       1.382   0.797  -1.404  1.00  0.00           H  \\nHETATM   16  H4  UNL     1       1.394   2.465   0.980  1.00  0.00           H  \\nHETATM   17  H5  UNL     1      -1.616   2.605   0.656  1.00  0.00           H  \\nHETATM   18  H6  UNL     1      -3.376  -0.019  -0.824  1.00  0.00           H  \\nHETATM   19  H7  UNL     1       3.074   0.765   0.307  1.00  0.00           H  \\nHETATM   20  H8  UNL     1       3.084  -0.798  -0.531  1.00  0.00           H  \\nHETATM   21  H9  UNL     1      -0.708  -2.543   1.368  1.00  0.00           H  \\nHETATM   22  H10 UNL     1      -2.123  -0.728   0.950  1.00  0.00           H  \\nHETATM   23  H11 UNL     1      -1.237   1.254  -1.200  1.00  0.00           H  \\nHETATM   24  H12 UNL     1       1.684  -1.527   1.219  1.00  0.00           H  \\nCONECT    1    2    4\\nCONECT    2    9   10   13\\nCONECT    3    4    5   11   14\\nCONECT    4    8   15\\nCONECT    5   16\\nCONECT    6   11   17\\nCONECT    7   10   18\\nCONECT    8   12   19   20\\nCONECT    9   21\\nCONECT   10   11   22\\nCONECT   11   23\\nCONECT   12   24\\nEND\\nENDMDL\\nMODEL       15\\nHETATM    1  O           1       0.542  -1.005  -1.044  0.00  0.00           O  \\nHETATM    2  C           1      -0.530  -1.536  -0.273  0.00  0.00           C  \\nHETATM    3  C           1       0.225   1.020   0.393  0.00  0.00           C  \\nHETATM    4  C           1       1.153   0.191  -0.529  0.00  0.00           C  \\nHETATM    5  O           1       0.603   2.401   0.414  0.00  0.00           O  \\nHETATM    6  O           1      -2.094   1.766   0.577  0.00  0.00           O  \\nHETATM    7  O           1      -2.755  -0.751  -0.985  0.00  0.00           O  \\nHETATM    8  C           1       2.492  -0.139   0.117  0.00  0.00           C  \\nHETATM    9  O           1      -0.011  -1.996   0.981  0.00  0.00           O  \\nHETATM   10  C           1      -1.692  -0.546  -0.043  0.00  0.00           C  \\nHETATM   11  C           1      -1.199   0.904  -0.150  0.00  0.00           C  \\nHETATM   12  O           1       2.334  -0.800   1.379  0.00  0.00           O  \\nHETATM   13  H1  UNL     1      -0.901  -2.415  -0.813  1.00  0.00           H  \\nHETATM   14  H2  UNL     1       0.237   0.675   1.432  1.00  0.00           H  \\nHETATM   15  H3  UNL     1       1.386   0.803  -1.418  1.00  0.00           H  \\nHETATM   16  H4  UNL     1       1.399   2.471   0.971  1.00  0.00           H  \\nHETATM   17  H5  UNL     1      -1.611   2.612   0.658  1.00  0.00           H  \\nHETATM   18  H6  UNL     1      -3.377  -0.019  -0.825  1.00  0.00           H  \\nHETATM   19  H7  UNL     1       3.075   0.769   0.304  1.00  0.00           H  \\nHETATM   20  H8  UNL     1       3.078  -0.811  -0.523  1.00  0.00           H  \\nHETATM   21  H9  UNL     1      -0.668  -2.629   1.324  1.00  0.00           H  \\nHETATM   22  H10 UNL     1      -2.124  -0.710   0.952  1.00  0.00           H  \\nHETATM   23  H11 UNL     1      -1.239   1.253  -1.190  1.00  0.00           H  \\nHETATM   24  H12 UNL     1       1.676  -1.507   1.243  1.00  0.00           H  \\nCONECT    1    2    4\\nCONECT    2    9   10   13\\nCONECT    3    4    5   11   14\\nCONECT    4    8   15\\nCONECT    5   16\\nCONECT    6   11   17\\nCONECT    7   10   18\\nCONECT    8   12   19   20\\nCONECT    9   21\\nCONECT   10   11   22\\nCONECT   11   23\\nCONECT   12   24\\nEND\\nENDMDL\\nMODEL       16\\nHETATM    1  O           1       0.536  -1.003  -1.043  0.00  0.00           O  \\nHETATM    2  C           1      -0.531  -1.538  -0.265  0.00  0.00           C  \\nHETATM    3  C           1       0.226   1.021   0.388  0.00  0.00           C  \\nHETATM    4  C           1       1.143   0.198  -0.529  0.00  0.00           C  \\nHETATM    5  O           1       0.601   2.406   0.410  0.00  0.00           O  \\nHETATM    6  O           1      -2.092   1.762   0.574  0.00  0.00           O  \\nHETATM    7  O           1      -2.748  -0.747  -0.979  0.00  0.00           O  \\nHETATM    8  C           1       2.496  -0.146   0.128  0.00  0.00           C  \\nHETATM    9  O           1      -0.012  -1.996   0.978  0.00  0.00           O  \\nHETATM   10  C           1      -1.684  -0.535  -0.036  0.00  0.00           C  \\nHETATM   11  C           1      -1.198   0.908  -0.154  0.00  0.00           C  \\nHETATM   12  O           1       2.338  -0.791   1.381  0.00  0.00           O  \\nHETATM   13  H1  UNL     1      -0.897  -2.416  -0.809  1.00  0.00           H  \\nHETATM   14  H2  UNL     1       0.239   0.673   1.430  1.00  0.00           H  \\nHETATM   15  H3  UNL     1       1.383   0.795  -1.412  1.00  0.00           H  \\nHETATM   16  H4  UNL     1       1.400   2.469   0.970  1.00  0.00           H  \\nHETATM   17  H5  UNL     1      -1.609   2.613   0.657  1.00  0.00           H  \\nHETATM   18  H6  UNL     1      -3.383  -0.015  -0.826  1.00  0.00           H  \\nHETATM   19  H7  UNL     1       3.075   0.766   0.298  1.00  0.00           H  \\nHETATM   20  H8  UNL     1       3.077  -0.807  -0.520  1.00  0.00           H  \\nHETATM   21  H9  UNL     1      -0.659  -2.648   1.309  1.00  0.00           H  \\nHETATM   22  H10 UNL     1      -2.130  -0.715   0.950  1.00  0.00           H  \\nHETATM   23  H11 UNL     1      -1.240   1.255  -1.194  1.00  0.00           H  \\nHETATM   24  H12 UNL     1       1.669  -1.506   1.244  1.00  0.00           H  \\nCONECT    1    2    4\\nCONECT    2    9   10   13\\nCONECT    3    4    5   11   14\\nCONECT    4    8   15\\nCONECT    5   16\\nCONECT    6   11   17\\nCONECT    7   10   18\\nCONECT    8   12   19   20\\nCONECT    9   21\\nCONECT   10   11   22\\nCONECT   11   23\\nCONECT   12   24\\nEND\\nENDMDL\\nMODEL       17\\nHETATM    1  O           1       0.540  -1.017  -1.028  0.00  0.00           O  \\nHETATM    2  C           1      -0.540  -1.534  -0.253  0.00  0.00           C  \\nHETATM    3  C           1       0.222   1.025   0.386  0.00  0.00           C  \\nHETATM    4  C           1       1.148   0.193  -0.530  0.00  0.00           C  \\nHETATM    5  O           1       0.609   2.407   0.396  0.00  0.00           O  \\nHETATM    6  O           1      -2.093   1.783   0.568  0.00  0.00           O  \\nHETATM    7  O           1      -2.755  -0.737  -0.982  0.00  0.00           O  \\nHETATM    8  C           1       2.489  -0.143   0.128  0.00  0.00           C  \\nHETATM    9  O           1      -0.038  -1.996   0.999  0.00  0.00           O  \\nHETATM   10  C           1      -1.692  -0.530  -0.033  0.00  0.00           C  \\nHETATM   11  C           1      -1.202   0.914  -0.150  0.00  0.00           C  \\nHETATM   12  O           1       2.331  -0.769   1.395  0.00  0.00           O  \\nHETATM   13  H1  UNL     1      -0.916  -2.407  -0.797  1.00  0.00           H  \\nHETATM   14  H2  UNL     1       0.233   0.693   1.432  1.00  0.00           H  \\nHETATM   15  H3  UNL     1       1.386   0.793  -1.425  1.00  0.00           H  \\nHETATM   16  H4  UNL     1       1.408   2.476   0.954  1.00  0.00           H  \\nHETATM   17  H5  UNL     1      -1.597   2.626   0.655  1.00  0.00           H  \\nHETATM   18  H6  UNL     1      -3.382  -0.005  -0.815  1.00  0.00           H  \\nHETATM   19  H7  UNL     1       3.076   0.771   0.293  1.00  0.00           H  \\nHETATM   20  H8  UNL     1       3.065  -0.830  -0.507  1.00  0.00           H  \\nHETATM   21  H9  UNL     1      -0.559  -2.799   1.216  1.00  0.00           H  \\nHETATM   22  H10 UNL     1      -2.138  -0.693   0.955  1.00  0.00           H  \\nHETATM   23  H11 UNL     1      -1.243   1.252  -1.189  1.00  0.00           H  \\nHETATM   24  H12 UNL     1       1.648  -1.475   1.284  1.00  0.00           H  \\nCONECT    1    2    4\\nCONECT    2    9   10   13\\nCONECT    3    4    5   11   14\\nCONECT    4    8   15\\nCONECT    5   16\\nCONECT    6   11   17\\nCONECT    7   10   18\\nCONECT    8   12   19   20\\nCONECT    9   21\\nCONECT   10   11   22\\nCONECT   11   23\\nCONECT   12   24\\nEND\\nENDMDL\\nMODEL       18\\nHETATM    1  O           1       0.532  -1.014  -1.025  0.00  0.00           O  \\nHETATM    2  C           1      -0.544  -1.531  -0.251  0.00  0.00           C  \\nHETATM    3  C           1       0.223   1.028   0.386  0.00  0.00           C  \\nHETATM    4  C           1       1.141   0.190  -0.524  0.00  0.00           C  \\nHETATM    5  O           1       0.609   2.410   0.395  0.00  0.00           O  \\nHETATM    6  O           1      -2.087   1.783   0.569  0.00  0.00           O  \\nHETATM    7  O           1      -2.755  -0.733  -0.977  0.00  0.00           O  \\nHETATM    8  C           1       2.490  -0.144   0.132  0.00  0.00           C  \\nHETATM    9  O           1      -0.038  -1.999   0.999  0.00  0.00           O  \\nHETATM   10  C           1      -1.693  -0.526  -0.029  0.00  0.00           C  \\nHETATM   11  C           1      -1.200   0.916  -0.155  0.00  0.00           C  \\nHETATM   12  O           1       2.326  -0.771   1.401  0.00  0.00           O  \\nHETATM   13  H1  UNL     1      -0.916  -2.407  -0.796  1.00  0.00           H  \\nHETATM   14  H2  UNL     1       0.238   0.691   1.428  1.00  0.00           H  \\nHETATM   15  H3  UNL     1       1.380   0.780  -1.417  1.00  0.00           H  \\nHETATM   16  H4  UNL     1       1.407   2.476   0.951  1.00  0.00           H  \\nHETATM   17  H5  UNL     1      -1.599   2.625   0.653  1.00  0.00           H  \\nHETATM   18  H6  UNL     1      -3.386  -0.005  -0.819  1.00  0.00           H  \\nHETATM   19  H7  UNL     1       3.077   0.765   0.287  1.00  0.00           H  \\nHETATM   20  H8  UNL     1       3.066  -0.825  -0.501  1.00  0.00           H  \\nHETATM   21  H9  UNL     1      -0.537  -2.803   1.199  1.00  0.00           H  \\nHETATM   22  H10 UNL     1      -2.140  -0.696   0.959  1.00  0.00           H  \\nHETATM   23  H11 UNL     1      -1.240   1.258  -1.197  1.00  0.00           H  \\nHETATM   24  H12 UNL     1       1.648  -1.467   1.283  1.00  0.00           H  \\nCONECT    1    2    4\\nCONECT    2    9   10   13\\nCONECT    3    4    5   11   14\\nCONECT    4    8   15\\nCONECT    5   16\\nCONECT    6   11   17\\nCONECT    7   10   18\\nCONECT    8   12   19   20\\nCONECT    9   21\\nCONECT   10   11   22\\nCONECT   11   23\\nCONECT   12   24\\nEND\\nENDMDL\\nMODEL       19\\nHETATM    1  O           1       0.524  -1.019  -1.019  0.00  0.00           O  \\nHETATM    2  C           1      -0.553  -1.532  -0.247  0.00  0.00           C  \\nHETATM    3  C           1       0.222   1.033   0.388  0.00  0.00           C  \\nHETATM    4  C           1       1.138   0.187  -0.525  0.00  0.00           C  \\nHETATM    5  O           1       0.612   2.411   0.381  0.00  0.00           O  \\nHETATM    6  O           1      -2.085   1.792   0.557  0.00  0.00           O  \\nHETATM    7  O           1      -2.763  -0.726  -0.963  0.00  0.00           O  \\nHETATM    8  C           1       2.489  -0.154   0.141  0.00  0.00           C  \\nHETATM    9  O           1      -0.048  -1.990   1.002  0.00  0.00           O  \\nHETATM   10  C           1      -1.691  -0.511  -0.023  0.00  0.00           C  \\nHETATM   11  C           1      -1.198   0.927  -0.152  0.00  0.00           C  \\nHETATM   12  O           1       2.326  -0.754   1.413  0.00  0.00           O  \\nHETATM   13  H1  UNL     1      -0.939  -2.407  -0.791  1.00  0.00           H  \\nHETATM   14  H2  UNL     1       0.230   0.698   1.435  1.00  0.00           H  \\nHETATM   15  H3  UNL     1       1.380   0.773  -1.421  1.00  0.00           H  \\nHETATM   16  H4  UNL     1       1.408   2.476   0.941  1.00  0.00           H  \\nHETATM   17  H5  UNL     1      -1.593   2.636   0.644  1.00  0.00           H  \\nHETATM   18  H6  UNL     1      -3.399   0.005  -0.818  1.00  0.00           H  \\nHETATM   19  H7  UNL     1       3.068   0.756   0.288  1.00  0.00           H  \\nHETATM   20  H8  UNL     1       3.059  -0.836  -0.484  1.00  0.00           H  \\nHETATM   21  H9  UNL     1      -0.427  -2.886   1.132  1.00  0.00           H  \\nHETATM   22  H10 UNL     1      -2.149  -0.682   0.957  1.00  0.00           H  \\nHETATM   23  H11 UNL     1      -1.242   1.257  -1.194  1.00  0.00           H  \\nHETATM   24  H12 UNL     1       1.630  -1.455   1.308  1.00  0.00           H  \\nCONECT    1    2    4\\nCONECT    2    9   10   13\\nCONECT    3    4    5   11   14\\nCONECT    4    8   15\\nCONECT    5   16\\nCONECT    6   11   17\\nCONECT    7   10   18\\nCONECT    8   12   19   20\\nCONECT    9   21\\nCONECT   10   11   22\\nCONECT   11   23\\nCONECT   12   24\\nEND\\nENDMDL\\nMODEL       20\\nHETATM    1  O           1       0.524  -1.020  -1.018  0.00  0.00           O  \\nHETATM    2  C           1      -0.558  -1.529  -0.244  0.00  0.00           C  \\nHETATM    3  C           1       0.222   1.031   0.384  0.00  0.00           C  \\nHETATM    4  C           1       1.138   0.183  -0.518  0.00  0.00           C  \\nHETATM    5  O           1       0.612   2.412   0.384  0.00  0.00           O  \\nHETATM    6  O           1      -2.087   1.798   0.562  0.00  0.00           O  \\nHETATM    7  O           1      -2.763  -0.722  -0.969  0.00  0.00           O  \\nHETATM    8  C           1       2.478  -0.148   0.140  0.00  0.00           C  \\nHETATM    9  O           1      -0.049  -1.997   1.007  0.00  0.00           O  \\nHETATM   10  C           1      -1.701  -0.518  -0.025  0.00  0.00           C  \\nHETATM   11  C           1      -1.200   0.922  -0.157  0.00  0.00           C  \\nHETATM   12  O           1       2.316  -0.763   1.419  0.00  0.00           O  \\nHETATM   13  H1  UNL     1      -0.937  -2.402  -0.788  1.00  0.00           H  \\nHETATM   14  H2  UNL     1       0.234   0.701   1.428  1.00  0.00           H  \\nHETATM   15  H3  UNL     1       1.379   0.769  -1.417  1.00  0.00           H  \\nHETATM   16  H4  UNL     1       1.411   2.478   0.941  1.00  0.00           H  \\nHETATM   17  H5  UNL     1      -1.593   2.637   0.642  1.00  0.00           H  \\nHETATM   18  H6  UNL     1      -3.394   0.005  -0.813  1.00  0.00           H  \\nHETATM   19  H7  UNL     1       3.075   0.761   0.286  1.00  0.00           H  \\nHETATM   20  H8  UNL     1       3.060  -0.841  -0.486  1.00  0.00           H  \\nHETATM   21  H9  UNL     1      -0.411  -2.888   1.119  1.00  0.00           H  \\nHETATM   22  H10 UNL     1      -2.147  -0.681   0.965  1.00  0.00           H  \\nHETATM   23  H11 UNL     1      -1.240   1.259  -1.201  1.00  0.00           H  \\nHETATM   24  H12 UNL     1       1.631  -1.448   1.311  1.00  0.00           H  \\nCONECT    1    2    4\\nCONECT    2    9   10   13\\nCONECT    3    4    5   11   14\\nCONECT    4    8   15\\nCONECT    5   16\\nCONECT    6   11   17\\nCONECT    7   10   18\\nCONECT    8   12   19   20\\nCONECT    9   21\\nCONECT   10   11   22\\nCONECT   11   23\\nCONECT   12   24\\nEND\\nENDMDL\\n\",\"trajectory\",{\"keepH\": true});\n",
       "\tviewer_17174838704860466.setBackgroundColor(\"white\");\n",
       "\tviewer_17174838704860466.setStyle({\"stick\": {\"scale\": 0.3}, \"sphere\": {\"scale\": 0.3}});\n",
       "\tviewer_17174838704860466.zoomTo();\n",
       "\tviewer_17174838704860466.animate({\"loop\": \"forward\", \"interval\": 10});\n",
       "viewer_17174838704860466.render();\n",
       "});\n",
       "</script>"
      ]
     },
     "metadata": {},
     "output_type": "display_data"
    }
   ],
   "source": [
    "# Show the animation\n",
    "view = py3Dmol.view(width=400, height=300)\n",
    "view.addModelsAsFrames(pdb_trajectory, \"trajectory\", {'keepH': True})\n",
    "view.setBackgroundColor('white')\n",
    "view.setStyle({'stick': {'scale': 0.3}, 'sphere': {'scale': 0.3}})\n",
    "view.zoomTo()\n",
    "view.animate({'loop': \"forward\", 'interval': 10}) # Adjust the speed as needed (set 'interval' to a new value in millisecond)\n",
    "view.show()"
   ]
  },
  {
   "cell_type": "code",
   "execution_count": null,
   "id": "57be34d3-59e7-4f25-8e72-113b0a053f8e",
   "metadata": {},
   "outputs": [],
   "source": []
  }
 ],
 "metadata": {
  "kernelspec": {
   "display_name": "Python 3 (ipykernel)",
   "language": "python",
   "name": "python3"
  },
  "language_info": {
   "codemirror_mode": {
    "name": "ipython",
    "version": 3
   },
   "file_extension": ".py",
   "mimetype": "text/x-python",
   "name": "python",
   "nbconvert_exporter": "python",
   "pygments_lexer": "ipython3",
   "version": "3.11.7"
  },
  "toc": {
   "base_numbering": "",
   "nav_menu": {},
   "number_sections": false,
   "sideBar": true,
   "skip_h1_title": false,
   "title_cell": "Table of Contents",
   "title_sidebar": "Table of Contents",
   "toc_cell": false,
   "toc_position": {
    "height": "calc(100% - 180px)",
    "left": "10px",
    "top": "150px",
    "width": "203px"
   },
   "toc_section_display": true,
   "toc_window_display": true
  }
 },
 "nbformat": 4,
 "nbformat_minor": 5
}
