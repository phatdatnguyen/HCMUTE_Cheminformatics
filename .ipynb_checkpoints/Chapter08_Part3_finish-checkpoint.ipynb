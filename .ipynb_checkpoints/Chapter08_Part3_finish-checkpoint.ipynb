{
 "cells": [
  {
   "cell_type": "markdown",
   "id": "ce2d6e30",
   "metadata": {},
   "source": [
    "# Chapter 8: Calculation of Molecular Properties"
   ]
  },
  {
   "cell_type": "markdown",
   "id": "295a0f8f",
   "metadata": {},
   "source": [
    "## 8.3. Molecular Orbital Analysis"
   ]
  },
  {
   "cell_type": "markdown",
   "id": "7a326b8f",
   "metadata": {},
   "source": [
    "In the following section, we will calculate and visualize the molecule orbitals of 1,3-butadiene and 1,3,5-hexatriene:"
   ]
  },
  {
   "cell_type": "markdown",
   "id": "208dff3b",
   "metadata": {},
   "source": [
    "### 8.3.1. Calculation of Molecular Orbital Energies"
   ]
  },
  {
   "cell_type": "code",
   "execution_count": 1,
   "id": "7dc680d6",
   "metadata": {
    "tags": []
   },
   "outputs": [],
   "source": [
    "# Import modules\n",
    "import numpy as np\n",
    "import matplotlib.pyplot as plt\n",
    "from rdkit import Chem\n",
    "from rdkit.Chem import AllChem\n",
    "from utils import View3DModel\n",
    "import psi4\n",
    "import py3Dmol"
   ]
  },
  {
   "cell_type": "code",
   "execution_count": 2,
   "id": "5cfdb69a",
   "metadata": {
    "tags": []
   },
   "outputs": [
    {
     "data": {
      "text/plain": [
       "0"
      ]
     },
     "execution_count": 2,
     "metadata": {},
     "output_type": "execute_result"
    }
   ],
   "source": [
    "# Create a molecule of 1,3-butadiene\n",
    "butadiene_mol = Chem.MolFromSmiles('C=CC=C')\n",
    "\n",
    "# Create a molecule of 1,3,5-hexatriene\n",
    "hexatriene_mol = Chem.MolFromSmiles('C=C\\C=C\\C=C')\n",
    "\n",
    "# Prepare the molecules\n",
    "butadiene_mol = Chem.AddHs(butadiene_mol)\n",
    "AllChem.EmbedMolecule(butadiene_mol, useRandomCoords=True)\n",
    "AllChem.UFFOptimizeMolecule(butadiene_mol, maxIters=200)\n",
    "\n",
    "hexatriene_mol = Chem.AddHs(hexatriene_mol)\n",
    "AllChem.EmbedMolecule(hexatriene_mol, useRandomCoords=True)\n",
    "AllChem.UFFOptimizeMolecule(hexatriene_mol, maxIters=200)"
   ]
  },
  {
   "cell_type": "code",
   "execution_count": 3,
   "id": "86278bdf",
   "metadata": {
    "scrolled": true,
    "tags": []
   },
   "outputs": [
    {
     "data": {
      "application/3dmoljs_load.v0": "<div id=\"3dmolviewer_17174939876396937\"  style=\"position: relative; width: 800px; height: 400px;\">\n        <p id=\"3dmolwarning_17174939876396937\" style=\"background-color:#ffcccc;color:black\">3Dmol.js failed to load for some reason.  Please check your browser console for error messages.<br></p>\n        </div>\n<script>\n\nvar loadScriptAsync = function(uri){\n  return new Promise((resolve, reject) => {\n    //this is to ignore the existence of requirejs amd\n    var savedexports, savedmodule;\n    if (typeof exports !== 'undefined') savedexports = exports;\n    else exports = {}\n    if (typeof module !== 'undefined') savedmodule = module;\n    else module = {}\n\n    var tag = document.createElement('script');\n    tag.src = uri;\n    tag.async = true;\n    tag.onload = () => {\n        exports = savedexports;\n        module = savedmodule;\n        resolve();\n    };\n  var firstScriptTag = document.getElementsByTagName('script')[0];\n  firstScriptTag.parentNode.insertBefore(tag, firstScriptTag);\n});\n};\n\nif(typeof $3Dmolpromise === 'undefined') {\n$3Dmolpromise = null;\n  $3Dmolpromise = loadScriptAsync('https://cdnjs.cloudflare.com/ajax/libs/3Dmol/2.1.0/3Dmol-min.js');\n}\n\nvar viewer_17174939876396937 = null;\nvar warn = document.getElementById(\"3dmolwarning_17174939876396937\");\nif(warn) {\n    warn.parentNode.removeChild(warn);\n}\n$3Dmolpromise.then(function() {\nviewer_17174939876396937 = $3Dmol.createViewer(document.getElementById(\"3dmolviewer_17174939876396937\"),{backgroundColor:\"white\"});\nviewer_17174939876396937.zoomTo();\n\tviewer_17174939876396937.addModel(\"\\n     RDKit          3D\\n\\n 10  9  0  0  0  0  0  0  0  0999 V2000\\n   -0.4571    2.1409    0.7435 C   0  0  0  0  0  0  0  0  0  0  0  0\\n    0.2621    1.4052    1.5860 C   0  0  0  0  0  0  0  0  0  0  0  0\\n    0.3354   -0.0577    1.4471 C   0  0  0  0  0  0  0  0  0  0  0  0\\n    1.0546   -0.7933    2.2895 C   0  0  0  0  0  0  0  0  0  0  0  0\\n   -1.0095    1.6847   -0.0689 H   0  0  0  0  0  0  0  0  0  0  0  0\\n   -0.4978    3.2157    0.8631 H   0  0  0  0  0  0  0  0  0  0  0  0\\n    0.8007    1.8996    2.3862 H   0  0  0  0  0  0  0  0  0  0  0  0\\n   -0.2033   -0.5520    0.6469 H   0  0  0  0  0  0  0  0  0  0  0  0\\n    1.0953   -1.8682    2.1699 H   0  0  0  0  0  0  0  0  0  0  0  0\\n    1.6070   -0.3371    3.1020 H   0  0  0  0  0  0  0  0  0  0  0  0\\n  1  2  2  0\\n  2  3  1  0\\n  3  4  2  0\\n  1  5  1  0\\n  1  6  1  0\\n  2  7  1  0\\n  3  8  1  0\\n  4  9  1  0\\n  4 10  1  0\\nM  END\\n\",\"molecule\",{\"keepH\": true});\n\tviewer_17174939876396937.setBackgroundColor(\"white\");\n\tviewer_17174939876396937.setStyle({\"stick\": {\"scale\": 0.3}, \"sphere\": {\"scale\": 0.3}});\n\tviewer_17174939876396937.zoomTo();\nviewer_17174939876396937.render();\n});\n</script>",
      "text/html": [
       "<div id=\"3dmolviewer_17174939876396937\"  style=\"position: relative; width: 800px; height: 400px;\">\n",
       "        <p id=\"3dmolwarning_17174939876396937\" style=\"background-color:#ffcccc;color:black\">3Dmol.js failed to load for some reason.  Please check your browser console for error messages.<br></p>\n",
       "        </div>\n",
       "<script>\n",
       "\n",
       "var loadScriptAsync = function(uri){\n",
       "  return new Promise((resolve, reject) => {\n",
       "    //this is to ignore the existence of requirejs amd\n",
       "    var savedexports, savedmodule;\n",
       "    if (typeof exports !== 'undefined') savedexports = exports;\n",
       "    else exports = {}\n",
       "    if (typeof module !== 'undefined') savedmodule = module;\n",
       "    else module = {}\n",
       "\n",
       "    var tag = document.createElement('script');\n",
       "    tag.src = uri;\n",
       "    tag.async = true;\n",
       "    tag.onload = () => {\n",
       "        exports = savedexports;\n",
       "        module = savedmodule;\n",
       "        resolve();\n",
       "    };\n",
       "  var firstScriptTag = document.getElementsByTagName('script')[0];\n",
       "  firstScriptTag.parentNode.insertBefore(tag, firstScriptTag);\n",
       "});\n",
       "};\n",
       "\n",
       "if(typeof $3Dmolpromise === 'undefined') {\n",
       "$3Dmolpromise = null;\n",
       "  $3Dmolpromise = loadScriptAsync('https://cdnjs.cloudflare.com/ajax/libs/3Dmol/2.1.0/3Dmol-min.js');\n",
       "}\n",
       "\n",
       "var viewer_17174939876396937 = null;\n",
       "var warn = document.getElementById(\"3dmolwarning_17174939876396937\");\n",
       "if(warn) {\n",
       "    warn.parentNode.removeChild(warn);\n",
       "}\n",
       "$3Dmolpromise.then(function() {\n",
       "viewer_17174939876396937 = $3Dmol.createViewer(document.getElementById(\"3dmolviewer_17174939876396937\"),{backgroundColor:\"white\"});\n",
       "viewer_17174939876396937.zoomTo();\n",
       "\tviewer_17174939876396937.addModel(\"\\n     RDKit          3D\\n\\n 10  9  0  0  0  0  0  0  0  0999 V2000\\n   -0.4571    2.1409    0.7435 C   0  0  0  0  0  0  0  0  0  0  0  0\\n    0.2621    1.4052    1.5860 C   0  0  0  0  0  0  0  0  0  0  0  0\\n    0.3354   -0.0577    1.4471 C   0  0  0  0  0  0  0  0  0  0  0  0\\n    1.0546   -0.7933    2.2895 C   0  0  0  0  0  0  0  0  0  0  0  0\\n   -1.0095    1.6847   -0.0689 H   0  0  0  0  0  0  0  0  0  0  0  0\\n   -0.4978    3.2157    0.8631 H   0  0  0  0  0  0  0  0  0  0  0  0\\n    0.8007    1.8996    2.3862 H   0  0  0  0  0  0  0  0  0  0  0  0\\n   -0.2033   -0.5520    0.6469 H   0  0  0  0  0  0  0  0  0  0  0  0\\n    1.0953   -1.8682    2.1699 H   0  0  0  0  0  0  0  0  0  0  0  0\\n    1.6070   -0.3371    3.1020 H   0  0  0  0  0  0  0  0  0  0  0  0\\n  1  2  2  0\\n  2  3  1  0\\n  3  4  2  0\\n  1  5  1  0\\n  1  6  1  0\\n  2  7  1  0\\n  3  8  1  0\\n  4  9  1  0\\n  4 10  1  0\\nM  END\\n\",\"molecule\",{\"keepH\": true});\n",
       "\tviewer_17174939876396937.setBackgroundColor(\"white\");\n",
       "\tviewer_17174939876396937.setStyle({\"stick\": {\"scale\": 0.3}, \"sphere\": {\"scale\": 0.3}});\n",
       "\tviewer_17174939876396937.zoomTo();\n",
       "viewer_17174939876396937.render();\n",
       "});\n",
       "</script>"
      ]
     },
     "metadata": {},
     "output_type": "display_data"
    }
   ],
   "source": [
    "# View 3D model of 1,3-butadiene\n",
    "View3DModel(butadiene_mol)"
   ]
  },
  {
   "cell_type": "code",
   "execution_count": 4,
   "id": "5052b50c",
   "metadata": {
    "tags": []
   },
   "outputs": [
    {
     "data": {
      "application/3dmoljs_load.v0": "<div id=\"3dmolviewer_17174940081674469\"  style=\"position: relative; width: 800px; height: 400px;\">\n        <p id=\"3dmolwarning_17174940081674469\" style=\"background-color:#ffcccc;color:black\">3Dmol.js failed to load for some reason.  Please check your browser console for error messages.<br></p>\n        </div>\n<script>\n\nvar loadScriptAsync = function(uri){\n  return new Promise((resolve, reject) => {\n    //this is to ignore the existence of requirejs amd\n    var savedexports, savedmodule;\n    if (typeof exports !== 'undefined') savedexports = exports;\n    else exports = {}\n    if (typeof module !== 'undefined') savedmodule = module;\n    else module = {}\n\n    var tag = document.createElement('script');\n    tag.src = uri;\n    tag.async = true;\n    tag.onload = () => {\n        exports = savedexports;\n        module = savedmodule;\n        resolve();\n    };\n  var firstScriptTag = document.getElementsByTagName('script')[0];\n  firstScriptTag.parentNode.insertBefore(tag, firstScriptTag);\n});\n};\n\nif(typeof $3Dmolpromise === 'undefined') {\n$3Dmolpromise = null;\n  $3Dmolpromise = loadScriptAsync('https://cdnjs.cloudflare.com/ajax/libs/3Dmol/2.1.0/3Dmol-min.js');\n}\n\nvar viewer_17174940081674469 = null;\nvar warn = document.getElementById(\"3dmolwarning_17174940081674469\");\nif(warn) {\n    warn.parentNode.removeChild(warn);\n}\n$3Dmolpromise.then(function() {\nviewer_17174940081674469 = $3Dmol.createViewer(document.getElementById(\"3dmolviewer_17174940081674469\"),{backgroundColor:\"white\"});\nviewer_17174940081674469.zoomTo();\n\tviewer_17174940081674469.addModel(\"\\n     RDKit          3D\\n\\n 14 13  0  0  0  0  0  0  0  0999 V2000\\n   -1.6442    0.3719   -3.8309 C   0  0  0  0  0  0  0  0  0  0  0  0\\n   -0.7629   -0.2965   -3.0928 C   0  0  0  0  0  0  0  0  0  0  0  0\\n   -0.7148   -0.1341   -1.6307 C   0  0  0  0  0  0  0  0  0  0  0  0\\n    0.1713   -0.8069   -0.8940 C   0  0  0  0  0  0  0  0  0  0  0  0\\n    0.2194   -0.6445    0.5681 C   0  0  0  0  0  0  0  0  0  0  0  0\\n    1.1007   -1.3130    1.3062 C   0  0  0  0  0  0  0  0  0  0  0  0\\n   -2.3522    1.0552   -3.3780 H   0  0  0  0  0  0  0  0  0  0  0  0\\n   -1.6626    0.2378   -4.9047 H   0  0  0  0  0  0  0  0  0  0  0  0\\n   -0.0714   -0.9707   -3.5848 H   0  0  0  0  0  0  0  0  0  0  0  0\\n   -1.4121    0.5437   -1.1497 H   0  0  0  0  0  0  0  0  0  0  0  0\\n    0.8686   -1.4847   -1.3750 H   0  0  0  0  0  0  0  0  0  0  0  0\\n   -0.4721    0.0297    1.0601 H   0  0  0  0  0  0  0  0  0  0  0  0\\n    1.8087   -1.9962    0.8533 H   0  0  0  0  0  0  0  0  0  0  0  0\\n    1.1191   -1.1789    2.3800 H   0  0  0  0  0  0  0  0  0  0  0  0\\n  1  2  2  0\\n  2  3  1  0\\n  3  4  2  0\\n  4  5  1  0\\n  5  6  2  0\\n  1  7  1  0\\n  1  8  1  0\\n  2  9  1  0\\n  3 10  1  0\\n  4 11  1  0\\n  5 12  1  0\\n  6 13  1  0\\n  6 14  1  0\\nM  END\\n\",\"molecule\",{\"keepH\": true});\n\tviewer_17174940081674469.setBackgroundColor(\"white\");\n\tviewer_17174940081674469.setStyle({\"stick\": {\"scale\": 0.3}, \"sphere\": {\"scale\": 0.3}});\n\tviewer_17174940081674469.zoomTo();\nviewer_17174940081674469.render();\n});\n</script>",
      "text/html": [
       "<div id=\"3dmolviewer_17174940081674469\"  style=\"position: relative; width: 800px; height: 400px;\">\n",
       "        <p id=\"3dmolwarning_17174940081674469\" style=\"background-color:#ffcccc;color:black\">3Dmol.js failed to load for some reason.  Please check your browser console for error messages.<br></p>\n",
       "        </div>\n",
       "<script>\n",
       "\n",
       "var loadScriptAsync = function(uri){\n",
       "  return new Promise((resolve, reject) => {\n",
       "    //this is to ignore the existence of requirejs amd\n",
       "    var savedexports, savedmodule;\n",
       "    if (typeof exports !== 'undefined') savedexports = exports;\n",
       "    else exports = {}\n",
       "    if (typeof module !== 'undefined') savedmodule = module;\n",
       "    else module = {}\n",
       "\n",
       "    var tag = document.createElement('script');\n",
       "    tag.src = uri;\n",
       "    tag.async = true;\n",
       "    tag.onload = () => {\n",
       "        exports = savedexports;\n",
       "        module = savedmodule;\n",
       "        resolve();\n",
       "    };\n",
       "  var firstScriptTag = document.getElementsByTagName('script')[0];\n",
       "  firstScriptTag.parentNode.insertBefore(tag, firstScriptTag);\n",
       "});\n",
       "};\n",
       "\n",
       "if(typeof $3Dmolpromise === 'undefined') {\n",
       "$3Dmolpromise = null;\n",
       "  $3Dmolpromise = loadScriptAsync('https://cdnjs.cloudflare.com/ajax/libs/3Dmol/2.1.0/3Dmol-min.js');\n",
       "}\n",
       "\n",
       "var viewer_17174940081674469 = null;\n",
       "var warn = document.getElementById(\"3dmolwarning_17174940081674469\");\n",
       "if(warn) {\n",
       "    warn.parentNode.removeChild(warn);\n",
       "}\n",
       "$3Dmolpromise.then(function() {\n",
       "viewer_17174940081674469 = $3Dmol.createViewer(document.getElementById(\"3dmolviewer_17174940081674469\"),{backgroundColor:\"white\"});\n",
       "viewer_17174940081674469.zoomTo();\n",
       "\tviewer_17174940081674469.addModel(\"\\n     RDKit          3D\\n\\n 14 13  0  0  0  0  0  0  0  0999 V2000\\n   -1.6442    0.3719   -3.8309 C   0  0  0  0  0  0  0  0  0  0  0  0\\n   -0.7629   -0.2965   -3.0928 C   0  0  0  0  0  0  0  0  0  0  0  0\\n   -0.7148   -0.1341   -1.6307 C   0  0  0  0  0  0  0  0  0  0  0  0\\n    0.1713   -0.8069   -0.8940 C   0  0  0  0  0  0  0  0  0  0  0  0\\n    0.2194   -0.6445    0.5681 C   0  0  0  0  0  0  0  0  0  0  0  0\\n    1.1007   -1.3130    1.3062 C   0  0  0  0  0  0  0  0  0  0  0  0\\n   -2.3522    1.0552   -3.3780 H   0  0  0  0  0  0  0  0  0  0  0  0\\n   -1.6626    0.2378   -4.9047 H   0  0  0  0  0  0  0  0  0  0  0  0\\n   -0.0714   -0.9707   -3.5848 H   0  0  0  0  0  0  0  0  0  0  0  0\\n   -1.4121    0.5437   -1.1497 H   0  0  0  0  0  0  0  0  0  0  0  0\\n    0.8686   -1.4847   -1.3750 H   0  0  0  0  0  0  0  0  0  0  0  0\\n   -0.4721    0.0297    1.0601 H   0  0  0  0  0  0  0  0  0  0  0  0\\n    1.8087   -1.9962    0.8533 H   0  0  0  0  0  0  0  0  0  0  0  0\\n    1.1191   -1.1789    2.3800 H   0  0  0  0  0  0  0  0  0  0  0  0\\n  1  2  2  0\\n  2  3  1  0\\n  3  4  2  0\\n  4  5  1  0\\n  5  6  2  0\\n  1  7  1  0\\n  1  8  1  0\\n  2  9  1  0\\n  3 10  1  0\\n  4 11  1  0\\n  5 12  1  0\\n  6 13  1  0\\n  6 14  1  0\\nM  END\\n\",\"molecule\",{\"keepH\": true});\n",
       "\tviewer_17174940081674469.setBackgroundColor(\"white\");\n",
       "\tviewer_17174940081674469.setStyle({\"stick\": {\"scale\": 0.3}, \"sphere\": {\"scale\": 0.3}});\n",
       "\tviewer_17174940081674469.zoomTo();\n",
       "viewer_17174940081674469.render();\n",
       "});\n",
       "</script>"
      ]
     },
     "metadata": {},
     "output_type": "display_data"
    }
   ],
   "source": [
    "# View 3D model of 1,3,5-hexatriene\n",
    "View3DModel(hexatriene_mol)"
   ]
  },
  {
   "cell_type": "code",
   "execution_count": 5,
   "id": "a77aa320",
   "metadata": {
    "tags": []
   },
   "outputs": [
    {
     "data": {
      "text/plain": [
       "17179869184"
      ]
     },
     "execution_count": 5,
     "metadata": {},
     "output_type": "execute_result"
    }
   ],
   "source": [
    "# Set the number of threads and memory limit\n",
    "psi4.set_num_threads(16)\n",
    "psi4.set_memory(16*1024*1024*1024) # 16 GB"
   ]
  },
  {
   "cell_type": "code",
   "execution_count": 6,
   "id": "758d2000",
   "metadata": {
    "tags": []
   },
   "outputs": [],
   "source": [
    "# Set calculation options\n",
    "psi4.set_options({\n",
    "    'BASIS': '6-31G*',\n",
    "    'SCF_TYPE': 'DF',\n",
    "    'REFERENCE': 'RHF'\n",
    "})"
   ]
  },
  {
   "cell_type": "code",
   "execution_count": 7,
   "id": "4e137353",
   "metadata": {
    "tags": []
   },
   "outputs": [],
   "source": [
    "# Calculate MO energies of 1,3-butadiene\n",
    "\n",
    "# Write the geometry to XYZ string\n",
    "xyz_string = Chem.MolToXYZBlock(butadiene_mol)\n",
    "\n",
    "# Get the psi4 geometry\n",
    "geometry = psi4.geometry(xyz_string)\n",
    "\n",
    "\n",
    "# Calculate the single point energy\n",
    "butadiene_energy, butadiene_wfn = psi4.energy('b3lyp', molecule=geometry, return_wfn=True)\n",
    "\n",
    "# Extract orbital energies\n",
    "butadiene_MO_energies = butadiene_wfn.epsilon_a().to_array() * psi4.constants.hartree2kcalmol"
   ]
  },
  {
   "cell_type": "code",
   "execution_count": 8,
   "id": "df7ab3f0",
   "metadata": {
    "scrolled": true,
    "tags": []
   },
   "outputs": [
    {
     "name": "stdout",
     "output_type": "stream",
     "text": [
      "Molecular orbital energies (in kcal/mol) of 1,3-butadiene:\n",
      "MO 1: -6394.261047 kcal/mol\n",
      "MO 2: -6394.063209 kcal/mol\n",
      "MO 3: -6387.377809 kcal/mol\n",
      "MO 4: -6387.377774 kcal/mol\n",
      "MO 5: -503.838106 kcal/mol\n",
      "MO 6: -459.239464 kcal/mol\n",
      "MO 7: -373.990184 kcal/mol\n",
      "MO 8: -347.349922 kcal/mol\n",
      "MO 9: -291.984681 kcal/mol\n",
      "MO 10: -288.744895 kcal/mol\n",
      "MO 11: -242.289457 kcal/mol\n",
      "MO 12: -242.260159 kcal/mol\n",
      "MO 13: -217.748809 kcal/mol\n",
      "MO 14: -200.706618 kcal/mol\n",
      "MO 15: -143.994136 kcal/mol\n",
      "MO 16: -10.003429 kcal/mol\n",
      "MO 17: 52.063011 kcal/mol\n",
      "MO 18: 72.198419 kcal/mol\n",
      "MO 19: 79.641367 kcal/mol\n",
      "MO 20: 81.497752 kcal/mol\n",
      "MO 21: 113.452884 kcal/mol\n",
      "MO 22: 120.467894 kcal/mol\n",
      "MO 23: 134.450958 kcal/mol\n",
      "MO 24: 205.627233 kcal/mol\n",
      "MO 25: 206.810740 kcal/mol\n",
      "MO 26: 247.253048 kcal/mol\n",
      "MO 27: 304.181648 kcal/mol\n",
      "MO 28: 326.217736 kcal/mol\n",
      "MO 29: 332.736699 kcal/mol\n",
      "MO 30: 363.809484 kcal/mol\n",
      "MO 31: 382.887088 kcal/mol\n",
      "MO 32: 391.128362 kcal/mol\n",
      "MO 33: 411.399249 kcal/mol\n",
      "MO 34: 424.125420 kcal/mol\n",
      "MO 35: 425.545670 kcal/mol\n",
      "MO 36: 443.497111 kcal/mol\n",
      "MO 37: 532.510897 kcal/mol\n",
      "MO 38: 540.756372 kcal/mol\n",
      "MO 39: 542.203284 kcal/mol\n",
      "MO 40: 561.506266 kcal/mol\n",
      "MO 41: 589.403657 kcal/mol\n",
      "MO 42: 590.765267 kcal/mol\n",
      "MO 43: 603.410555 kcal/mol\n",
      "MO 44: 678.952974 kcal/mol\n",
      "MO 45: 697.943598 kcal/mol\n",
      "MO 46: 724.037754 kcal/mol\n",
      "MO 47: 827.536058 kcal/mol\n",
      "MO 48: 848.242083 kcal/mol\n",
      "MO 49: 856.397704 kcal/mol\n",
      "MO 50: 898.653956 kcal/mol\n",
      "MO 51: 964.583132 kcal/mol\n",
      "MO 52: 1040.201166 kcal/mol\n",
      "MO 53: 1107.383134 kcal/mol\n",
      "MO 54: 1136.872946 kcal/mol\n",
      "MO 55: 1185.453014 kcal/mol\n",
      "MO 56: 1224.710380 kcal/mol\n",
      "MO 57: 1306.556175 kcal/mol\n",
      "MO 58: 1334.386155 kcal/mol\n",
      "MO 59: 1334.583052 kcal/mol\n",
      "MO 60: 1368.120506 kcal/mol\n",
      "MO 61: 1460.116143 kcal/mol\n",
      "MO 62: 1518.098317 kcal/mol\n",
      "MO 63: 1521.774603 kcal/mol\n",
      "MO 64: 1543.914872 kcal/mol\n",
      "MO 65: 1634.347747 kcal/mol\n",
      "MO 66: 1713.804622 kcal/mol\n",
      "MO 67: 1821.344661 kcal/mol\n",
      "MO 68: 1881.331482 kcal/mol\n",
      "MO 69: 2567.115943 kcal/mol\n",
      "MO 70: 2591.243629 kcal/mol\n",
      "MO 71: 2640.786298 kcal/mol\n",
      "MO 72: 2787.371557 kcal/mol\n"
     ]
    }
   ],
   "source": [
    "# Print out the MO energies of 1,3-butadiene\n",
    "print(\"Molecular orbital energies (in kcal/mol) of 1,3-butadiene:\")\n",
    "for i, energy in enumerate(butadiene_MO_energies):\n",
    "    print(f\"MO {i+1}: {energy:.6f} kcal/mol\")"
   ]
  },
  {
   "cell_type": "code",
   "execution_count": 9,
   "id": "9e1a24ad",
   "metadata": {
    "tags": []
   },
   "outputs": [
    {
     "name": "stdout",
     "output_type": "stream",
     "text": [
      "133.99070762491013 kcal/mol\n"
     ]
    }
   ],
   "source": [
    "# Get HOMO, LUMO energies and HOMO-LUMO gap of 1,3-butadiene\n",
    "butadiene_HOMO_energy = butadiene_MO_energies[butadiene_wfn.nalpha() - 1]\n",
    "butadiene_LUMO_energy = butadiene_MO_energies[butadiene_wfn.nalpha()]\n",
    "butadiene_HOMO_LUMO_gap = butadiene_LUMO_energy - butadiene_HOMO_energy\n",
    "\n",
    "# Print out the HOMO-LUMO gap of 1,3-butadiene\n",
    "print(f'{butadiene_HOMO_LUMO_gap} kcal/mol')"
   ]
  },
  {
   "cell_type": "code",
   "execution_count": 10,
   "id": "e7b960dd",
   "metadata": {
    "tags": []
   },
   "outputs": [],
   "source": [
    "# Calculate MO energies of 1,3,5-hexatriene_mol\n",
    "\n",
    "# Write the geometry to XYZ string\n",
    "xyz_string = Chem.MolToXYZBlock(hexatriene_mol)\n",
    "\n",
    "# Get the psi4 geometry\n",
    "geometry = psi4.geometry(xyz_string)\n",
    "\n",
    "# Calculate the single point energy\n",
    "hexatriene_mol_energy, hexatriene_wfn = psi4.energy('b3lyp', molecule=geometry, return_wfn=True)\n",
    "\n",
    "# Extract orbital energies\n",
    "hexatriene_MO_energies = hexatriene_wfn.epsilon_a().to_array() * psi4.constants.hartree2kcalmol"
   ]
  },
  {
   "cell_type": "code",
   "execution_count": 11,
   "id": "0f03cf4b",
   "metadata": {
    "scrolled": true,
    "tags": []
   },
   "outputs": [
    {
     "name": "stdout",
     "output_type": "stream",
     "text": [
      "Molecular orbital energies (in kcal/mol) of 1,3,5-hexatriene:\n",
      "MO 1: -6394.327529 kcal/mol\n",
      "MO 2: -6394.319571 kcal/mol\n",
      "MO 3: -6393.731742 kcal/mol\n",
      "MO 4: -6393.193350 kcal/mol\n",
      "MO 5: -6387.011361 kcal/mol\n",
      "MO 6: -6387.011286 kcal/mol\n",
      "MO 7: -512.907265 kcal/mol\n",
      "MO 8: -486.949313 kcal/mol\n",
      "MO 9: -451.383267 kcal/mol\n",
      "MO 10: -382.142216 kcal/mol\n",
      "MO 11: -352.159947 kcal/mol\n",
      "MO 12: -345.459097 kcal/mol\n",
      "MO 13: -302.651829 kcal/mol\n",
      "MO 14: -289.575207 kcal/mol\n",
      "MO 15: -265.788113 kcal/mol\n",
      "MO 16: -251.633855 kcal/mol\n",
      "MO 17: -237.734786 kcal/mol\n",
      "MO 18: -229.478304 kcal/mol\n",
      "MO 19: -214.783423 kcal/mol\n",
      "MO 20: -211.349242 kcal/mol\n",
      "MO 21: -178.740466 kcal/mol\n",
      "MO 22: -132.051658 kcal/mol\n",
      "MO 23: -21.753680 kcal/mol\n",
      "MO 24: 31.363806 kcal/mol\n",
      "MO 25: 60.787409 kcal/mol\n",
      "MO 26: 62.853589 kcal/mol\n",
      "MO 27: 78.094819 kcal/mol\n",
      "MO 28: 82.037861 kcal/mol\n",
      "MO 29: 91.203246 kcal/mol\n",
      "MO 30: 99.576188 kcal/mol\n",
      "MO 31: 118.552989 kcal/mol\n",
      "MO 32: 122.379762 kcal/mol\n",
      "MO 33: 131.773156 kcal/mol\n",
      "MO 34: 198.597393 kcal/mol\n",
      "MO 35: 207.912039 kcal/mol\n",
      "MO 36: 217.535984 kcal/mol\n",
      "MO 37: 234.124996 kcal/mol\n",
      "MO 38: 257.193083 kcal/mol\n",
      "MO 39: 299.464711 kcal/mol\n",
      "MO 40: 324.121498 kcal/mol\n",
      "MO 41: 328.793749 kcal/mol\n",
      "MO 42: 347.527744 kcal/mol\n",
      "MO 43: 368.672122 kcal/mol\n",
      "MO 44: 376.676154 kcal/mol\n",
      "MO 45: 379.501151 kcal/mol\n",
      "MO 46: 382.168366 kcal/mol\n",
      "MO 47: 390.142414 kcal/mol\n",
      "MO 48: 410.224662 kcal/mol\n",
      "MO 49: 428.208205 kcal/mol\n",
      "MO 50: 438.813527 kcal/mol\n",
      "MO 51: 443.388672 kcal/mol\n",
      "MO 52: 445.507390 kcal/mol\n",
      "MO 53: 520.442022 kcal/mol\n",
      "MO 54: 536.525965 kcal/mol\n",
      "MO 55: 541.434917 kcal/mol\n",
      "MO 56: 550.769903 kcal/mol\n",
      "MO 57: 556.648976 kcal/mol\n",
      "MO 58: 562.921911 kcal/mol\n",
      "MO 59: 581.329179 kcal/mol\n",
      "MO 60: 592.688941 kcal/mol\n",
      "MO 61: 609.096609 kcal/mol\n",
      "MO 62: 618.138349 kcal/mol\n",
      "MO 63: 674.725729 kcal/mol\n",
      "MO 64: 680.085236 kcal/mol\n",
      "MO 65: 694.069352 kcal/mol\n",
      "MO 66: 729.388535 kcal/mol\n",
      "MO 67: 797.770993 kcal/mol\n",
      "MO 68: 809.188375 kcal/mol\n",
      "MO 69: 832.572914 kcal/mol\n",
      "MO 70: 841.286787 kcal/mol\n",
      "MO 71: 850.160900 kcal/mol\n",
      "MO 72: 903.212972 kcal/mol\n",
      "MO 73: 921.304385 kcal/mol\n",
      "MO 74: 943.136089 kcal/mol\n",
      "MO 75: 1000.751518 kcal/mol\n",
      "MO 76: 1065.940107 kcal/mol\n",
      "MO 77: 1098.392535 kcal/mol\n",
      "MO 78: 1136.102476 kcal/mol\n",
      "MO 79: 1141.533409 kcal/mol\n",
      "MO 80: 1193.494519 kcal/mol\n",
      "MO 81: 1240.979534 kcal/mol\n",
      "MO 82: 1264.402919 kcal/mol\n",
      "MO 83: 1269.649542 kcal/mol\n",
      "MO 84: 1273.392729 kcal/mol\n",
      "MO 85: 1336.123888 kcal/mol\n",
      "MO 86: 1364.961508 kcal/mol\n",
      "MO 87: 1388.348837 kcal/mol\n",
      "MO 88: 1424.167004 kcal/mol\n",
      "MO 89: 1456.506823 kcal/mol\n",
      "MO 90: 1478.412682 kcal/mol\n",
      "MO 91: 1517.909806 kcal/mol\n",
      "MO 92: 1534.264305 kcal/mol\n",
      "MO 93: 1548.888658 kcal/mol\n",
      "MO 94: 1552.943767 kcal/mol\n",
      "MO 95: 1660.568785 kcal/mol\n",
      "MO 96: 1736.792772 kcal/mol\n",
      "MO 97: 1777.965583 kcal/mol\n",
      "MO 98: 1781.355397 kcal/mol\n",
      "MO 99: 1911.875218 kcal/mol\n",
      "MO 100: 1916.649049 kcal/mol\n",
      "MO 101: 2568.366782 kcal/mol\n",
      "MO 102: 2572.713961 kcal/mol\n",
      "MO 103: 2601.415819 kcal/mol\n",
      "MO 104: 2631.702786 kcal/mol\n",
      "MO 105: 2731.549265 kcal/mol\n",
      "MO 106: 2826.680048 kcal/mol\n"
     ]
    }
   ],
   "source": [
    "# Print out the MO energies of 1,3,5-hexatriene_mol\n",
    "print(\"Molecular orbital energies (in kcal/mol) of 1,3,5-hexatriene:\")\n",
    "for i, energy in enumerate(hexatriene_MO_energies):\n",
    "    print(f\"MO {i+1}: {energy:.6f} kcal/mol\")"
   ]
  },
  {
   "cell_type": "code",
   "execution_count": 12,
   "id": "e5b9c7c7",
   "metadata": {
    "tags": []
   },
   "outputs": [
    {
     "name": "stdout",
     "output_type": "stream",
     "text": [
      "110.2979778016903 kcal/mol\n"
     ]
    }
   ],
   "source": [
    "# Get HOMO, LUMO energies and HOMO-LUMO gap of 1,3,5-hexatriene\n",
    "hexatriene_HOMO_energy = hexatriene_MO_energies[hexatriene_wfn.nalpha() - 1]\n",
    "hexatriene_LUMO_energy = hexatriene_MO_energies[hexatriene_wfn.nalpha()]\n",
    "hexatriene_HOMO_LUMO_gap = hexatriene_LUMO_energy - hexatriene_HOMO_energy\n",
    "\n",
    "# Print out the HOMO-LUMO gap of 1,3,5-hexatriene_mol\n",
    "print(f'{hexatriene_HOMO_LUMO_gap} kcal/mol')"
   ]
  },
  {
   "cell_type": "markdown",
   "id": "c776651b",
   "metadata": {},
   "source": [
    "### 8.3.2. Visualization of Molecular Orbitals"
   ]
  },
  {
   "cell_type": "markdown",
   "id": "c9aad287",
   "metadata": {},
   "source": [
    "After the energy calculation, you'll have the molecular orbital data available to be exported as cube files."
   ]
  },
  {
   "cell_type": "code",
   "execution_count": 13,
   "id": "f81b1b2f",
   "metadata": {
    "tags": []
   },
   "outputs": [],
   "source": [
    "# Set options for cube file generation\n",
    "psi4.set_options({'CUBEPROP_TASKS': ['FRONTIER_ORBITALS'], # this will generate HOMO and LUMO cube files. The default is 'orbitals', which will generate cube files for all MOs.\n",
    "                  'CUBIC_GRID_SPACING': [0.1, 0.1, 0.1],\n",
    "                  'CUBEPROP_FILEPATH': '.\\\\'})\n",
    "\n",
    "# Generate the cube file\n",
    "psi4.cubeprop(butadiene_wfn)"
   ]
  },
  {
   "cell_type": "code",
   "execution_count": null,
   "id": "29d2cbe0",
   "metadata": {},
   "outputs": [],
   "source": []
  }
 ],
 "metadata": {
  "kernelspec": {
   "display_name": "Python 3 (ipykernel)",
   "language": "python",
   "name": "python3"
  },
  "language_info": {
   "codemirror_mode": {
    "name": "ipython",
    "version": 3
   },
   "file_extension": ".py",
   "mimetype": "text/x-python",
   "name": "python",
   "nbconvert_exporter": "python",
   "pygments_lexer": "ipython3",
   "version": "3.11.7"
  },
  "toc": {
   "base_numbering": "",
   "nav_menu": {},
   "number_sections": false,
   "sideBar": true,
   "skip_h1_title": false,
   "title_cell": "Table of Contents",
   "title_sidebar": "Table of Contents",
   "toc_cell": false,
   "toc_position": {
    "height": "calc(100% - 180px)",
    "left": "10px",
    "top": "150px",
    "width": "203px"
   },
   "toc_section_display": true,
   "toc_window_display": true
  }
 },
 "nbformat": 4,
 "nbformat_minor": 5
}
