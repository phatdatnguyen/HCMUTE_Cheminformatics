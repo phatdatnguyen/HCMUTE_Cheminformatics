{
 "cells": [
  {
   "cell_type": "markdown",
   "id": "ce2d6e30",
   "metadata": {},
   "source": [
    "# Chapter 6: Density Functional Theory"
   ]
  },
  {
   "cell_type": "markdown",
   "id": "520d5d2e",
   "metadata": {},
   "source": [
    "Density Functional Theory (DFT) is a quantum mechanical model used to investigate the electronic structure of many-body systems, particularly atoms, molecules, and condensed matter systems. Unlike ab initio methods that often require calculations involving many-electron wavefunctions, DFT simplifies the problem by using electron density as the fundamental quantity.\n",
    "\n",
    "DFT is widely used in the fields of:\n",
    "\n",
    "- Material Science: For predicting material properties and behavior.\n",
    "- Chemistry: To study reaction mechanisms and the electronic structure of molecules.\n",
    "- Physics: In the investigation of condensed matter properties."
   ]
  },
  {
   "cell_type": "markdown",
   "id": "295a0f8f",
   "metadata": {},
   "source": [
    "## 6.1. The Hohenberg-Kohn Theorems"
   ]
  },
  {
   "cell_type": "markdown",
   "id": "bada76cf",
   "metadata": {},
   "source": [
    "The foundational principle of DFT is encompassed in the Hohenberg-Kohn theorems. They state that:\n",
    "\n",
    "- The Ground State Energy: The ground state energy of a many-electron system is a unique functional of the electron density.\n",
    "- The Variational Principle: The true electron density minimizes this energy functional, providing a route to find the ground state energy through variational methods.\n",
    "\n",
    "These theorems set the stage for DFT by demonstrating that the electron density contains all the information necessary to fully describe the ground state of a system.\n"
   ]
  },
  {
   "cell_type": "markdown",
   "id": "2d6e53ba",
   "metadata": {},
   "source": [
    "## 6.2. Kohn-Sham Equations"
   ]
  },
  {
   "cell_type": "markdown",
   "id": "be689ba0",
   "metadata": {},
   "source": [
    "To make the application of DFT practical, Kohn and Sham introduced a set of non-interacting particles that produce the same density as the real, interacting system. The resulting Kohn-Sham equations allow one to solve for the system's electron density practically and efficiently."
   ]
  },
  {
   "cell_type": "markdown",
   "id": "6cdcf12a",
   "metadata": {},
   "source": [
    "The Kohn-Sham approach reduces the problem of many interacting electrons to a system of non-interacting electrons that have the same ground-state density as the original system. The Kohn-Sham equations are as follows:\n",
    "\n",
    "The Kohn-Sham orbitals, $\\psi_i(\\mathbf{r})$, satisfy the one-electron Schrödinger-like equations:\n",
    "\n",
    "$$\\left[ -\\frac{\\hbar^2}{2m} \\nabla^2 + v_{\\text{eff}}(\\mathbf{r}) \\right] \\psi_i(\\mathbf{r}) = \\varepsilon_i \\psi_i(\\mathbf{r})$$\n",
    "\n",
    "Here, $\\varepsilon_i$ are the Kohn-Sham eigenvalues, and $v_{\\text{eff}}(\\mathbf{r})$ is the effective potential, which is the sum of the external potential $v_{\\text{ext}}(\\mathbf{r})$ (usually the electron-nuclear attraction), the Hartree potential $v_{\\text{H}}(\\mathbf{r})$ (electrostatic interaction between electrons), and the exchange-correlation potential $v_{\\text{xc}}(\\mathbf{r})$:\n",
    "\n",
    "$$v_{\\text{eff}}(\\mathbf{r}) = v_{\\text{ext}}(\\mathbf{r}) + v_{\\text{H}}(\\mathbf{r}) + v_{\\text{xc}}(\\mathbf{r})$$\n",
    "\n",
    "The Hartree potential is defined by:\n",
    "\n",
    "$$v_{\\text{H}}(\\mathbf{r}) = \\int \\frac{\\rho(\\mathbf{r}')}{|\\mathbf{r} - \\mathbf{r}'|} d\\mathbf{r}'$$\n",
    "\n",
    "where $\\rho(\\mathbf{r})$ is the electron density, given by the sum over the occupied Kohn-Sham orbitals:\n",
    "\n",
    "$$\\rho(\\mathbf{r}) = \\sum_{i}^{N} |\\psi_i(\\mathbf{r})|^2$$\n",
    "\n",
    "The exchange-correlation potential, $v_{\\text{xc}}(\\mathbf{r})$, is the functional derivative of the exchange-correlation energy with respect to the electron density:\n",
    "\n",
    "$$v_{\\text{xc}}(\\mathbf{r}) = \\frac{\\delta E_{\\text{xc}}[\\rho]}{\\delta \\rho(\\mathbf{r})}$$\n",
    "\n",
    "These equations must be solved self-consistently, as the effective potential depends on the electron density, which in turn depends on the orbitals that are solutions to the equations."
   ]
  },
  {
   "cell_type": "markdown",
   "id": "68576094",
   "metadata": {},
   "source": [
    "## 6.3. Exchange-Correlation Functional"
   ]
  },
  {
   "cell_type": "markdown",
   "id": "5c1bcbc6",
   "metadata": {},
   "source": [
    "The exact form of the exchange-correlation functional, which accounts for the many-body interactions, is not known. Approximations must be made, leading to various types of functionals:\n",
    "\n",
    "- Local Density Approximation (LDA)\n",
    "- Generalized Gradient Approximation (GGA)\n",
    "- Meta-GGA\n",
    "- Hybrid Functionals\n",
    "- Range-separated Hybrids\n",
    "\n",
    "The choice of functional can significantly affect the accuracy and speed of DFT calculations. To select exchange-correlation functionals in DFT calculation, researchers usually use the **Jacob's ladder**:\n",
    "\n",
    "![Jacob's ladder](./images/Jacobs_ladder.png)"
   ]
  },
  {
   "cell_type": "markdown",
   "id": "c3531086",
   "metadata": {},
   "source": [
    "## 6.4. DFT vs. *Ab Initio* Methods"
   ]
  },
  {
   "cell_type": "markdown",
   "id": "44872cf6",
   "metadata": {},
   "source": [
    "While ab initio methods such as Hartree-Fock (HF) and post-HF methods attempt to solve the Schrödinger equation explicitly for many-electron systems, DFT takes a different approach. Here's how DFT compares to ab initio methods:\n",
    "\n",
    "- Computational Efficiency: DFT is generally more computationally efficient.\n",
    "- Accuracy: DFT includes electron correlation inherently, which is not fully captured in HF calculations.\n",
    "- Applicability: DFT can be applied to larger systems that are intractable for highly accurate post-HF methods."
   ]
  },
  {
   "cell_type": "markdown",
   "id": "7d263639",
   "metadata": {},
   "source": [
    "Despite its many successes, DFT is not without limitations:\n",
    "\n",
    "- Exchange-Correlation Error: The exact exchange-correlation functional is unknown, leading to approximations that may introduce errors.\n",
    "- Self-Interaction Error: Many DFT functionals do not properly cancel self-interaction energies.\n",
    "- Dispersion Forces: Standard DFT functionals often fail to accurately describe dispersion forces (van der Waals forces)."
   ]
  },
  {
   "cell_type": "markdown",
   "id": "33361b0d",
   "metadata": {},
   "source": [
    "## 6.5. Software for DFT Calculations"
   ]
  },
  {
   "cell_type": "markdown",
   "id": "55b25281",
   "metadata": {},
   "source": [
    "There are various software packages available for performing DFT calculations, including:\n",
    "\n",
    "- Gaussian\n",
    "- Psi\n",
    "- ORCA\n",
    "- VASP\n",
    "- Quantum ESPRESSO\n",
    "\n",
    "These packages differ in their capabilities, types of functionals available, and the computational techniques they employ."
   ]
  },
  {
   "cell_type": "markdown",
   "id": "76216bda",
   "metadata": {},
   "source": [
    "## 6.6. Running DFT Calculation"
   ]
  },
  {
   "cell_type": "markdown",
   "id": "38a6d324",
   "metadata": {},
   "source": [
    "We will run DFT calculations using `psi4`:"
   ]
  },
  {
   "cell_type": "markdown",
   "id": "7a326b8f",
   "metadata": {},
   "source": [
    "In the following section, we will optimize the geometry and calculate the energy of benzene and substituted benzene compounds using DFT:"
   ]
  },
  {
   "cell_type": "code",
   "execution_count": 1,
   "id": "7dc680d6",
   "metadata": {},
   "outputs": [],
   "source": [
    "# Import modules\n",
    "import numpy as np\n",
    "import matplotlib.pyplot as plt\n",
    "from rdkit import Chem\n",
    "from rdkit.Chem import AllChem\n",
    "from utils import View3DModel\n",
    "import psi4\n",
    "import py3Dmol\n",
    "from tqdm import tqdm # Used to make progress bar"
   ]
  },
  {
   "cell_type": "code",
   "execution_count": 2,
   "id": "5cfdb69a",
   "metadata": {},
   "outputs": [
    {
     "data": {
      "text/plain": [
       "0"
      ]
     },
     "execution_count": 2,
     "metadata": {},
     "output_type": "execute_result"
    }
   ],
   "source": [
    "# Create a molecule of 1,3-butadiene\n",
    "mol = Chem.MolFromSmiles('C=CC=C')\n",
    "\n",
    "# Prepare the molecule\n",
    "mol = Chem.AddHs(mol)\n",
    "Chem.rdDistGeom.EmbedMolecule(mol, useRandomCoords=True)\n",
    "AllChem.UFFOptimizeMolecule(mol, maxIters=200)"
   ]
  },
  {
   "cell_type": "code",
   "execution_count": 3,
   "id": "86278bdf",
   "metadata": {},
   "outputs": [
    {
     "data": {
      "application/3dmoljs_load.v0": "<div id=\"3dmolviewer_17035115266858227\"  style=\"position: relative; width: 800px; height: 400px;\">\n        <p id=\"3dmolwarning_17035115266858227\" style=\"background-color:#ffcccc;color:black\">You appear to be running in JupyterLab (or JavaScript failed to load for some other reason).  You need to install the 3dmol extension: <br>\n        <tt>jupyter labextension install jupyterlab_3dmol</tt></p>\n        </div>\n<script>\n\nvar loadScriptAsync = function(uri){\n  return new Promise((resolve, reject) => {\n    //this is to ignore the existence of requirejs amd\n    var savedexports, savedmodule;\n    if (typeof exports !== 'undefined') savedexports = exports;\n    else exports = {}\n    if (typeof module !== 'undefined') savedmodule = module;\n    else module = {}\n\n    var tag = document.createElement('script');\n    tag.src = uri;\n    tag.async = true;\n    tag.onload = () => {\n        exports = savedexports;\n        module = savedmodule;\n        resolve();\n    };\n  var firstScriptTag = document.getElementsByTagName('script')[0];\n  firstScriptTag.parentNode.insertBefore(tag, firstScriptTag);\n});\n};\n\nif(typeof $3Dmolpromise === 'undefined') {\n$3Dmolpromise = null;\n  $3Dmolpromise = loadScriptAsync('https://cdnjs.cloudflare.com/ajax/libs/3Dmol/2.0.4/3Dmol-min.js');\n}\n\nvar viewer_17035115266858227 = null;\nvar warn = document.getElementById(\"3dmolwarning_17035115266858227\");\nif(warn) {\n    warn.parentNode.removeChild(warn);\n}\n$3Dmolpromise.then(function() {\nviewer_17035115266858227 = $3Dmol.createViewer(document.getElementById(\"3dmolviewer_17035115266858227\"),{backgroundColor:\"white\"});\nviewer_17035115266858227.zoomTo();\n\tviewer_17035115266858227.addModel(\"\\n     RDKit          3D\\n\\n 10  9  0  0  0  0  0  0  0  0999 V2000\\n   -0.4571    2.1409    0.7435 C   0  0  0  0  0  0  0  0  0  0  0  0\\n    0.2621    1.4052    1.5860 C   0  0  0  0  0  0  0  0  0  0  0  0\\n    0.3354   -0.0577    1.4471 C   0  0  0  0  0  0  0  0  0  0  0  0\\n    1.0546   -0.7933    2.2895 C   0  0  0  0  0  0  0  0  0  0  0  0\\n   -1.0095    1.6847   -0.0689 H   0  0  0  0  0  0  0  0  0  0  0  0\\n   -0.4978    3.2157    0.8631 H   0  0  0  0  0  0  0  0  0  0  0  0\\n    0.8007    1.8996    2.3862 H   0  0  0  0  0  0  0  0  0  0  0  0\\n   -0.2033   -0.5520    0.6469 H   0  0  0  0  0  0  0  0  0  0  0  0\\n    1.0953   -1.8682    2.1699 H   0  0  0  0  0  0  0  0  0  0  0  0\\n    1.6070   -0.3371    3.1020 H   0  0  0  0  0  0  0  0  0  0  0  0\\n  1  2  2  3\\n  2  3  1  0\\n  3  4  2  3\\n  1  5  1  0\\n  1  6  1  0\\n  2  7  1  0\\n  3  8  1  0\\n  4  9  1  0\\n  4 10  1  0\\nM  END\\n\",\"molecule\",{\"keepH\": true});\n\tviewer_17035115266858227.setBackgroundColor(\"white\");\n\tviewer_17035115266858227.setStyle({\"stick\": {\"scale\": 0.3}, \"sphere\": {\"scale\": 0.3}});\n\tviewer_17035115266858227.zoomTo();\nviewer_17035115266858227.render();\n});\n</script>",
      "text/html": [
       "<div id=\"3dmolviewer_17035115266858227\"  style=\"position: relative; width: 800px; height: 400px;\">\n",
       "        <p id=\"3dmolwarning_17035115266858227\" style=\"background-color:#ffcccc;color:black\">You appear to be running in JupyterLab (or JavaScript failed to load for some other reason).  You need to install the 3dmol extension: <br>\n",
       "        <tt>jupyter labextension install jupyterlab_3dmol</tt></p>\n",
       "        </div>\n",
       "<script>\n",
       "\n",
       "var loadScriptAsync = function(uri){\n",
       "  return new Promise((resolve, reject) => {\n",
       "    //this is to ignore the existence of requirejs amd\n",
       "    var savedexports, savedmodule;\n",
       "    if (typeof exports !== 'undefined') savedexports = exports;\n",
       "    else exports = {}\n",
       "    if (typeof module !== 'undefined') savedmodule = module;\n",
       "    else module = {}\n",
       "\n",
       "    var tag = document.createElement('script');\n",
       "    tag.src = uri;\n",
       "    tag.async = true;\n",
       "    tag.onload = () => {\n",
       "        exports = savedexports;\n",
       "        module = savedmodule;\n",
       "        resolve();\n",
       "    };\n",
       "  var firstScriptTag = document.getElementsByTagName('script')[0];\n",
       "  firstScriptTag.parentNode.insertBefore(tag, firstScriptTag);\n",
       "});\n",
       "};\n",
       "\n",
       "if(typeof $3Dmolpromise === 'undefined') {\n",
       "$3Dmolpromise = null;\n",
       "  $3Dmolpromise = loadScriptAsync('https://cdnjs.cloudflare.com/ajax/libs/3Dmol/2.0.4/3Dmol-min.js');\n",
       "}\n",
       "\n",
       "var viewer_17035115266858227 = null;\n",
       "var warn = document.getElementById(\"3dmolwarning_17035115266858227\");\n",
       "if(warn) {\n",
       "    warn.parentNode.removeChild(warn);\n",
       "}\n",
       "$3Dmolpromise.then(function() {\n",
       "viewer_17035115266858227 = $3Dmol.createViewer(document.getElementById(\"3dmolviewer_17035115266858227\"),{backgroundColor:\"white\"});\n",
       "viewer_17035115266858227.zoomTo();\n",
       "\tviewer_17035115266858227.addModel(\"\\n     RDKit          3D\\n\\n 10  9  0  0  0  0  0  0  0  0999 V2000\\n   -0.4571    2.1409    0.7435 C   0  0  0  0  0  0  0  0  0  0  0  0\\n    0.2621    1.4052    1.5860 C   0  0  0  0  0  0  0  0  0  0  0  0\\n    0.3354   -0.0577    1.4471 C   0  0  0  0  0  0  0  0  0  0  0  0\\n    1.0546   -0.7933    2.2895 C   0  0  0  0  0  0  0  0  0  0  0  0\\n   -1.0095    1.6847   -0.0689 H   0  0  0  0  0  0  0  0  0  0  0  0\\n   -0.4978    3.2157    0.8631 H   0  0  0  0  0  0  0  0  0  0  0  0\\n    0.8007    1.8996    2.3862 H   0  0  0  0  0  0  0  0  0  0  0  0\\n   -0.2033   -0.5520    0.6469 H   0  0  0  0  0  0  0  0  0  0  0  0\\n    1.0953   -1.8682    2.1699 H   0  0  0  0  0  0  0  0  0  0  0  0\\n    1.6070   -0.3371    3.1020 H   0  0  0  0  0  0  0  0  0  0  0  0\\n  1  2  2  3\\n  2  3  1  0\\n  3  4  2  3\\n  1  5  1  0\\n  1  6  1  0\\n  2  7  1  0\\n  3  8  1  0\\n  4  9  1  0\\n  4 10  1  0\\nM  END\\n\",\"molecule\",{\"keepH\": true});\n",
       "\tviewer_17035115266858227.setBackgroundColor(\"white\");\n",
       "\tviewer_17035115266858227.setStyle({\"stick\": {\"scale\": 0.3}, \"sphere\": {\"scale\": 0.3}});\n",
       "\tviewer_17035115266858227.zoomTo();\n",
       "viewer_17035115266858227.render();\n",
       "});\n",
       "</script>"
      ]
     },
     "metadata": {},
     "output_type": "display_data"
    }
   ],
   "source": [
    "# View 3D model with py3Dmol\n",
    "View3DModel(mol)"
   ]
  },
  {
   "cell_type": "code",
   "execution_count": 4,
   "id": "4e137353",
   "metadata": {},
   "outputs": [],
   "source": [
    "# Write the geometry to XYZ string\n",
    "xyz_string = Chem.MolToXYZBlock(mol)\n",
    "\n",
    "# Get the psi4 geometry\n",
    "geometry = psi4.geometry(xyz_string)"
   ]
  },
  {
   "cell_type": "code",
   "execution_count": 5,
   "id": "4c9bfc0d",
   "metadata": {},
   "outputs": [],
   "source": [
    "# Set calcution options\n",
    "psi4.set_options({'BASIS': '6-31g', 'SCF_TYPE': 'DF'})"
   ]
  },
  {
   "cell_type": "code",
   "execution_count": 6,
   "id": "a8257236",
   "metadata": {},
   "outputs": [
    {
     "name": "stdout",
     "output_type": "stream",
     "text": [
      "The calculated energy of 1,3-butadiene at B3LYP/6-31G level of theory is: -97864.451685 kcal/mol\n"
     ]
    }
   ],
   "source": [
    "# Perform DFT calculation to compute the energy using `b3lyp` functional\n",
    "energy = psi4.energy('b3lyp', molecule=geometry) * psi4.constants.hartree2kcalmol # Convert from Hartrees to kcal/mol\n",
    "\n",
    "# Print the calculated energy\n",
    "print(f\"The calculated energy of 1,3-butadiene at B3LYP/6-31G level of theory is: {energy:.6f} kcal/mol\")"
   ]
  },
  {
   "cell_type": "code",
   "execution_count": null,
   "id": "df7ab3f0",
   "metadata": {},
   "outputs": [],
   "source": []
  }
 ],
 "metadata": {
  "kernelspec": {
   "display_name": "Python 3 (ipykernel)",
   "language": "python",
   "name": "python3"
  },
  "language_info": {
   "codemirror_mode": {
    "name": "ipython",
    "version": 3
   },
   "file_extension": ".py",
   "mimetype": "text/x-python",
   "name": "python",
   "nbconvert_exporter": "python",
   "pygments_lexer": "ipython3",
   "version": "3.11.6"
  },
  "toc": {
   "base_numbering": "",
   "nav_menu": {},
   "number_sections": false,
   "sideBar": true,
   "skip_h1_title": false,
   "title_cell": "Table of Contents",
   "title_sidebar": "Table of Contents",
   "toc_cell": false,
   "toc_position": {
    "height": "calc(100% - 180px)",
    "left": "10px",
    "top": "150px",
    "width": "203px"
   },
   "toc_section_display": true,
   "toc_window_display": true
  }
 },
 "nbformat": 4,
 "nbformat_minor": 5
}
