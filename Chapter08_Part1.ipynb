{
 "cells": [
  {
   "cell_type": "markdown",
   "id": "ce2d6e30",
   "metadata": {},
   "source": [
    "# Chapter 8: Calculation of Molecular Properties"
   ]
  },
  {
   "cell_type": "markdown",
   "id": "295a0f8f",
   "metadata": {},
   "source": [
    "## 8.1. Calculation of Potential Energy of Neutral Molecules"
   ]
  },
  {
   "cell_type": "markdown",
   "id": "7a326b8f",
   "metadata": {},
   "source": [
    "Computational methods allows the calculation of potential energy of molecules. From energy calculation, many molecular properties can be derived such as electron density, dipole moment, and energy of molecular orbitals\n",
    "\n",
    "In the following section, we will calculate the potential energies of benzene and substituted benzene compounds:"
   ]
  },
  {
   "cell_type": "markdown",
   "id": "36860dfb",
   "metadata": {},
   "source": [
    "### 8.1.1. Calculation of Potential Energy"
   ]
  },
  {
   "cell_type": "code",
   "execution_count": null,
   "id": "7dc680d6",
   "metadata": {},
   "outputs": [],
   "source": [
    "# Import modules\n",
    "import numpy as np\n",
    "import matplotlib.pyplot as plt\n",
    "from rdkit import Chem\n",
    "from rdkit.Chem import AllChem, Draw\n",
    "from utils import View3DModel\n",
    "import psi4\n",
    "import py3Dmol\n",
    "from tqdm import tqdm"
   ]
  },
  {
   "cell_type": "code",
   "execution_count": null,
   "id": "f38307c4",
   "metadata": {},
   "outputs": [],
   "source": [
    "# Create the core molecule\n",
    "core_mol = Chem.MolFromSmiles('c1ccccc1*') # Add * next to the atom you want to attach the substituents\n",
    "core_mol"
   ]
  },
  {
   "cell_type": "code",
   "execution_count": null,
   "id": "3d732bf8",
   "metadata": {},
   "outputs": [],
   "source": [
    "# Define substituents\n",
    "substituents = ['[H]', 'F', 'Cl', 'C', 'O', 'N', 'OC', 'C(=O)', 'C(=O)O', 'C(=O)OC', 'C(=O)N(C)C', 'C#N']"
   ]
  },
  {
   "cell_type": "code",
   "execution_count": null,
   "id": "5cfdb69a",
   "metadata": {},
   "outputs": [],
   "source": [
    "# Generate substituted benzenes\n",
    "substituted_benzenes = []\n",
    "\n",
    "for substituent in substituents:\n",
    "    # Create a copy of the core molecule\n",
    "    core_mol_copy = Chem.Mol(core_mol)\n",
    "\n",
    "    # Replace a hydrogen atom with the substituent\n",
    "    subst_mol = Chem.MolFromSmiles(substituent)\n",
    "    subst_mol_smiles = Chem.MolToSmiles(Chem.rdmolops.ReplaceSubstructs(core_mol_copy, Chem.MolFromSmarts('[#0]'), subst_mol)[0])\n",
    "    substituted_benzenes.append(Chem.MolFromSmiles(subst_mol_smiles))\n",
    "    \n",
    "Draw.MolsToGridImage(substituted_benzenes)"
   ]
  },
  {
   "cell_type": "code",
   "execution_count": null,
   "id": "86278bdf",
   "metadata": {
    "scrolled": true
   },
   "outputs": [],
   "source": [
    "# View 3D model of a molecule\n",
    "mol = substituted_benzenes[2]\n",
    "View3DModel(mol)"
   ]
  },
  {
   "cell_type": "code",
   "execution_count": null,
   "id": "ff399c71",
   "metadata": {},
   "outputs": [],
   "source": [
    "# Set the number of threads and set memory limit\n",
    "psi4.set_num_threads(8)\n",
    "psi4.set_memory(8*1024*1024*1024) # 8 GB"
   ]
  },
  {
   "cell_type": "code",
   "execution_count": null,
   "id": "c248c5fa",
   "metadata": {},
   "outputs": [],
   "source": [
    "# Set calculation options\n",
    "psi4.set_options({\n",
    "    'BASIS': '6-31G*',\n",
    "    'SCF_TYPE': 'DF',\n",
    "    'REFERENCE': 'RHF'  # RHF for closed-shell molecules; 'UHF' or 'ROHF' for open-shell\n",
    "})"
   ]
  },
  {
   "cell_type": "code",
   "execution_count": null,
   "id": "1a06fe4a",
   "metadata": {},
   "outputs": [],
   "source": [
    "substituted_benzenes_geometries = []\n",
    "substituted_benzenes_energies = []\n",
    "substituted_benzenes_wfns = []\n",
    "\n",
    "# Optimize the geometries and calculate the energies for all molecules\n",
    "progress_bar = tqdm(substituted_benzenes)\n",
    "for mol in progress_bar:\n",
    "    smiles = Chem.MolToSmiles(mol)\n",
    "    progress_bar.set_description(f'SMILES: {smiles}. Optimizing geometry...')\n",
    "    \n",
    "    # Prepare the molecule\n",
    "    mol = Chem.AddHs(mol)\n",
    "    AllChem.EmbedMolecule(mol)\n",
    "    AllChem.UFFOptimizeMolecule(mol, maxIters=200)\n",
    "    \n",
    "    # Write the geometry to XYZ string\n",
    "    xyz_string = Chem.MolToXYZBlock(mol)\n",
    "\n",
    "    # Get the psi4 geometry\n",
    "    geometry = psi4.geometry(xyz_string)\n",
    "    \n",
    "    # Run geometry optimization\n",
    "    max_iters = 500\n",
    "    energy, wfn = psi4.optimize('b3lyp', molecule=geometry, optking__geom_maxiter=max_iters, return_wfn =True)\n",
    "    substituted_benzenes_geometries.append(geometry)\n",
    "    substituted_benzenes_energies.append(energy * psi4.constants.hartree2kcalmol)\n",
    "    substituted_benzenes_wfns.append(wfn)"
   ]
  },
  {
   "cell_type": "code",
   "execution_count": null,
   "id": "8ea76d68",
   "metadata": {
    "scrolled": true
   },
   "outputs": [],
   "source": [
    "plt.bar(range(1, len(substituted_benzenes_energies) + 1), \n",
    "        substituted_benzenes_energies)\n",
    "plt.xlabel('Compound')\n",
    "plt.ylabel('Potential energy (kcal/mol)')"
   ]
  },
  {
   "cell_type": "markdown",
   "id": "ab621bcc",
   "metadata": {},
   "source": [
    "### 8.1.2. Effect of Solvents"
   ]
  },
  {
   "cell_type": "markdown",
   "id": "8646d93b",
   "metadata": {},
   "source": [
    "In the following section, we will calculate the potential energies of toluene in a solvent and derive the solvation energy using polarizable continuum model (PCM). For more details about PCM, see [documentation](https://pcmsolver.readthedocs.io/en/latest/users/input.html#medium-section-keywords)."
   ]
  },
  {
   "cell_type": "code",
   "execution_count": null,
   "id": "fdf54ba1",
   "metadata": {},
   "outputs": [],
   "source": [
    "# Get the optimized geometry of toluene\n",
    "toluene_idx = 3\n",
    "toluene_geometry = substituted_benzenes_geometries[toluene_idx]"
   ]
  },
  {
   "cell_type": "code",
   "execution_count": null,
   "id": "ca6585d8",
   "metadata": {},
   "outputs": [],
   "source": [
    "# Set up PCM solver\n",
    "pcm_string = \"\"\"\n",
    "    Units = Angstrom\n",
    "    Medium {\n",
    "        SolverType = IEFPCM\n",
    "        Solvent = Water\n",
    "    }\n",
    "    Cavity {\n",
    "       RadiiSet = UFF\n",
    "       Type = GePol\n",
    "       Scaling = False\n",
    "       Area = 0.3\n",
    "       Mode = Implicit\n",
    "    }\n",
    "\"\"\"\n",
    "\n",
    "psi4.pcm_helper(pcm_string)\n",
    "psi4.set_options({'pcm': True, 'pcm_scf_type': 'total'})"
   ]
  },
  {
   "cell_type": "code",
   "execution_count": null,
   "id": "15a92bf7",
   "metadata": {},
   "outputs": [],
   "source": [
    "# Calculate potential energy\n",
    "toluene_energy_solvent = psi4.energy('b3lyp', molecule=toluene_geometry)\n",
    "toluene_energy_solvent *= psi4.constants.hartree2kcalmol\n",
    "\n",
    "print(f'Energy of toluene in solvent (PCM):  {toluene_energy_solvent:.2f} kcal/mol')\n",
    "print(f'Solvation energy: {(toluene_energy_solvent - substituted_benzenes_energies[toluene_idx]):.2f} kcal/mol')"
   ]
  },
  {
   "cell_type": "markdown",
   "id": "b7bb3c5d",
   "metadata": {},
   "source": [
    "### 8.1.3. Visualization of Dipole Moment"
   ]
  },
  {
   "cell_type": "markdown",
   "id": "13f4e58b",
   "metadata": {},
   "source": [
    "From the wavefunction, we can get the dipole movement of the molecule"
   ]
  },
  {
   "cell_type": "code",
   "execution_count": null,
   "id": "2b7c7365",
   "metadata": {},
   "outputs": [],
   "source": [
    "# For example, get the dipole moment of chlorobenzene (index = 2)\n",
    "mol_idx = 2\n",
    "mol = substituted_benzenes[mol_idx]\n",
    "dipole_moment = substituted_benzenes_wfns[mol_idx].variable(\"CURRENT DIPOLE\")\n",
    "\n",
    "print(f\"Dipole moment (Debye): {dipole_moment}\")\n",
    "\n",
    "dipole_magnitude = np.linalg.norm(dipole_moment)\n",
    "print(f\"Dipole moment magnitude (Debye): {dipole_magnitude}\")\n",
    "\n",
    "# Visualize the molecule\n",
    "view = py3Dmol.view(width=800, height=400)\n",
    "view.addModel(Chem.MolToMolBlock(mol), \"molecule\", {'keepH': True})\n",
    "view.setBackgroundColor('white')\n",
    "view.setStyle({'stick': {'scale': 0.3}, 'sphere': {'scale': 0.3}})\n",
    "\n",
    "# Scale the dipole for visualization purposes\n",
    "scale_factor = 5\n",
    "dipole_end_point = [d * scale_factor for d in dipole_moment] \n",
    "\n",
    "# Visualize dipole moment\n",
    "view.addArrow({\n",
    "    'start': {'x': 0, 'y': 0, 'z': 0},  # Starting at the origin\n",
    "    'end': {'x': dipole_end_point[0], 'y': dipole_end_point[1], 'z': dipole_end_point[2]},\n",
    "    'radius': 0.1,\n",
    "    'fromCap': 1,\n",
    "    'toCap': 1,\n",
    "    'color': 'blue'\n",
    "})\n",
    "\n",
    "view.zoomTo()\n",
    "view.show()"
   ]
  },
  {
   "cell_type": "markdown",
   "id": "1da2f14b",
   "metadata": {},
   "source": [
    "You can see that the dipole moment point from positive charge to the negative charge, which is opposite of what we learned in organic chemistry. This is because the direction of a dipole moment vector in molecular simulations is conventionally taken from the positive to the negative center of charge."
   ]
  },
  {
   "cell_type": "markdown",
   "id": "fdc158c8",
   "metadata": {},
   "source": [
    "### 8.1.4. Visualization of Electron Density"
   ]
  },
  {
   "cell_type": "markdown",
   "id": "9e7a1d42",
   "metadata": {},
   "source": [
    "After the energy calculation, you'll have the electron density data available. Psi4 can export this data in a format that can be visualized, such as a cube file."
   ]
  },
  {
   "cell_type": "code",
   "execution_count": null,
   "id": "09eba180",
   "metadata": {},
   "outputs": [],
   "source": [
    "# Set options for cube file generation\n",
    "psi4.set_options({'CUBEPROP_TASKS': ['DENSITY'],\n",
    "                  'CUBIC_GRID_SPACING': [0.1, 0.1, 0.1],\n",
    "                  'CUBEPROP_FILEPATH': './'})\n",
    "\n",
    "# Generate the cube file\n",
    "psi4.cubeprop(substituted_benzenes_wfns[mol_idx])"
   ]
  },
  {
   "cell_type": "markdown",
   "id": "50a545cc",
   "metadata": {},
   "source": [
    "The cube files generated by Psi4 with the names \"Da\", \"Db\", \"Dt\", and \"Ds\" represent different types of electron densities. Here's what each one typically stands for:\n",
    "\n",
    "- **Da (Alpha Electron Density):** This file represents the density of alpha electrons (spin-up electrons) in your molecule.\n",
    "\n",
    "- **Db (Beta Electron Density):** This file contains the density of beta electrons (spin-down electrons). In molecules without unpaired electrons (closed-shell systems), this will be the same as the alpha electron density.\n",
    "\n",
    "- **Dt (Total Electron Density):** This file represents the total electron density, which is the sum of the alpha and beta electron densities. For most general purposes, especially in closed-shell systems like a water molecule, this is the file you would use to visualize the overall electron density.\n",
    "\n",
    "- **Ds (Spin Density):** This file shows the spin density, which is the difference between the alpha and beta electron densities. It's useful for visualizing unpaired electrons in open-shell systems. For a molecule like water, which is a closed-shell molecule, the spin density would typically be near zero.\n",
    "\n",
    "For visualizing the total electron density of a molecule, you would most likely be interested in the Dt (Total Electron Density) file."
   ]
  },
  {
   "cell_type": "markdown",
   "id": "24fb900d",
   "metadata": {},
   "source": [
    "These cube files can be visualized with software such as VMD or PyMol. You can also used cube file viewer extension to view the cube files inside the working directory."
   ]
  },
  {
   "cell_type": "markdown",
   "id": "8a47a57c",
   "metadata": {},
   "source": [
    "jupyterlab-cube is a JupyterLab renderer for cube files. To install jupyterlab-cube, run the following commands:"
   ]
  },
  {
   "cell_type": "code",
   "execution_count": null,
   "id": "d051f751",
   "metadata": {
    "scrolled": true
   },
   "outputs": [],
   "source": [
    "!pip install jupyterlab-cube"
   ]
  },
  {
   "cell_type": "markdown",
   "id": "2ca4cb52",
   "metadata": {},
   "source": [
    "### 8.1.5. Visualization of Electrostatic Potential Surface"
   ]
  },
  {
   "cell_type": "markdown",
   "id": "f0136ca9",
   "metadata": {},
   "source": [
    "After the energy calculation, cube file for electrostatic potential of the molecule can also be generated. Note that it will generate a new cube file named Dt.cube, which may may override the cube file for total electron density.  "
   ]
  },
  {
   "cell_type": "code",
   "execution_count": null,
   "id": "5f12125c",
   "metadata": {},
   "outputs": [],
   "source": [
    "# Set options for cube file generation\n",
    "psi4.set_options({'CUBEPROP_TASKS': ['esp'],\n",
    "                  'CUBIC_GRID_SPACING': [0.1, 0.1, 0.1],\n",
    "                  'CUBEPROP_FILEPATH': './'})\n",
    "\n",
    "# Generate the cube file\n",
    "psi4.cubeprop(substituted_benzenes_wfns[mol_idx])"
   ]
  },
  {
   "cell_type": "code",
   "execution_count": null,
   "id": "fc0cba72",
   "metadata": {},
   "outputs": [],
   "source": []
  }
 ],
 "metadata": {
  "kernelspec": {
   "display_name": "Python 3 (ipykernel)",
   "language": "python",
   "name": "python3"
  },
  "language_info": {
   "codemirror_mode": {
    "name": "ipython",
    "version": 3
   },
   "file_extension": ".py",
   "mimetype": "text/x-python",
   "name": "python",
   "nbconvert_exporter": "python",
   "pygments_lexer": "ipython3",
   "version": "3.11.7"
  },
  "toc": {
   "base_numbering": "",
   "nav_menu": {},
   "number_sections": false,
   "sideBar": true,
   "skip_h1_title": false,
   "title_cell": "Table of Contents",
   "title_sidebar": "Table of Contents",
   "toc_cell": false,
   "toc_position": {
    "height": "calc(100% - 180px)",
    "left": "10px",
    "top": "150px",
    "width": "203px"
   },
   "toc_section_display": true,
   "toc_window_display": true
  }
 },
 "nbformat": 4,
 "nbformat_minor": 5
}
